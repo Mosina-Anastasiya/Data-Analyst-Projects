{
 "cells": [
  {
   "cell_type": "markdown",
   "metadata": {},
   "source": [
    "# Исследование надёжности заёмщиков\n",
    "\n",
    "Заказчик — кредитный отдел банка. Нужно разобраться, влияет ли семейное положение и количество детей клиента на факт погашения кредита в срок. Входные данные от банка — статистика о платёжеспособности клиентов.\n",
    "\n",
    "Результаты исследования будут учтены при построении модели **кредитного скоринга** — специальной системы, которая оценивает способность потенциального заёмщика вернуть кредит банку."
   ]
  },
  {
   "cell_type": "markdown",
   "metadata": {},
   "source": [
    "## Шаг 1. Откройте файл с данными и изучите общую информацию"
   ]
  },
  {
   "cell_type": "code",
   "execution_count": 3,
   "metadata": {},
   "outputs": [
    {
     "data": {
      "text/html": [
       "<div>\n",
       "<style scoped>\n",
       "    .dataframe tbody tr th:only-of-type {\n",
       "        vertical-align: middle;\n",
       "    }\n",
       "\n",
       "    .dataframe tbody tr th {\n",
       "        vertical-align: top;\n",
       "    }\n",
       "\n",
       "    .dataframe thead th {\n",
       "        text-align: right;\n",
       "    }\n",
       "</style>\n",
       "<table border=\"1\" class=\"dataframe\">\n",
       "  <thead>\n",
       "    <tr style=\"text-align: right;\">\n",
       "      <th></th>\n",
       "      <th>children</th>\n",
       "      <th>days_employed</th>\n",
       "      <th>dob_years</th>\n",
       "      <th>education</th>\n",
       "      <th>education_id</th>\n",
       "      <th>family_status</th>\n",
       "      <th>family_status_id</th>\n",
       "      <th>gender</th>\n",
       "      <th>income_type</th>\n",
       "      <th>debt</th>\n",
       "      <th>total_income</th>\n",
       "      <th>purpose</th>\n",
       "    </tr>\n",
       "  </thead>\n",
       "  <tbody>\n",
       "    <tr>\n",
       "      <td>0</td>\n",
       "      <td>1</td>\n",
       "      <td>-8437.673028</td>\n",
       "      <td>42</td>\n",
       "      <td>высшее</td>\n",
       "      <td>0</td>\n",
       "      <td>женат / замужем</td>\n",
       "      <td>0</td>\n",
       "      <td>F</td>\n",
       "      <td>сотрудник</td>\n",
       "      <td>0</td>\n",
       "      <td>253875.639453</td>\n",
       "      <td>покупка жилья</td>\n",
       "    </tr>\n",
       "    <tr>\n",
       "      <td>1</td>\n",
       "      <td>1</td>\n",
       "      <td>-4024.803754</td>\n",
       "      <td>36</td>\n",
       "      <td>среднее</td>\n",
       "      <td>1</td>\n",
       "      <td>женат / замужем</td>\n",
       "      <td>0</td>\n",
       "      <td>F</td>\n",
       "      <td>сотрудник</td>\n",
       "      <td>0</td>\n",
       "      <td>112080.014102</td>\n",
       "      <td>приобретение автомобиля</td>\n",
       "    </tr>\n",
       "    <tr>\n",
       "      <td>2</td>\n",
       "      <td>0</td>\n",
       "      <td>-5623.422610</td>\n",
       "      <td>33</td>\n",
       "      <td>Среднее</td>\n",
       "      <td>1</td>\n",
       "      <td>женат / замужем</td>\n",
       "      <td>0</td>\n",
       "      <td>M</td>\n",
       "      <td>сотрудник</td>\n",
       "      <td>0</td>\n",
       "      <td>145885.952297</td>\n",
       "      <td>покупка жилья</td>\n",
       "    </tr>\n",
       "    <tr>\n",
       "      <td>3</td>\n",
       "      <td>3</td>\n",
       "      <td>-4124.747207</td>\n",
       "      <td>32</td>\n",
       "      <td>среднее</td>\n",
       "      <td>1</td>\n",
       "      <td>женат / замужем</td>\n",
       "      <td>0</td>\n",
       "      <td>M</td>\n",
       "      <td>сотрудник</td>\n",
       "      <td>0</td>\n",
       "      <td>267628.550329</td>\n",
       "      <td>дополнительное образование</td>\n",
       "    </tr>\n",
       "    <tr>\n",
       "      <td>4</td>\n",
       "      <td>0</td>\n",
       "      <td>340266.072047</td>\n",
       "      <td>53</td>\n",
       "      <td>среднее</td>\n",
       "      <td>1</td>\n",
       "      <td>гражданский брак</td>\n",
       "      <td>1</td>\n",
       "      <td>F</td>\n",
       "      <td>пенсионер</td>\n",
       "      <td>0</td>\n",
       "      <td>158616.077870</td>\n",
       "      <td>сыграть свадьбу</td>\n",
       "    </tr>\n",
       "    <tr>\n",
       "      <td>5</td>\n",
       "      <td>0</td>\n",
       "      <td>-926.185831</td>\n",
       "      <td>27</td>\n",
       "      <td>высшее</td>\n",
       "      <td>0</td>\n",
       "      <td>гражданский брак</td>\n",
       "      <td>1</td>\n",
       "      <td>M</td>\n",
       "      <td>компаньон</td>\n",
       "      <td>0</td>\n",
       "      <td>255763.565419</td>\n",
       "      <td>покупка жилья</td>\n",
       "    </tr>\n",
       "    <tr>\n",
       "      <td>6</td>\n",
       "      <td>0</td>\n",
       "      <td>-2879.202052</td>\n",
       "      <td>43</td>\n",
       "      <td>высшее</td>\n",
       "      <td>0</td>\n",
       "      <td>женат / замужем</td>\n",
       "      <td>0</td>\n",
       "      <td>F</td>\n",
       "      <td>компаньон</td>\n",
       "      <td>0</td>\n",
       "      <td>240525.971920</td>\n",
       "      <td>операции с жильем</td>\n",
       "    </tr>\n",
       "    <tr>\n",
       "      <td>7</td>\n",
       "      <td>0</td>\n",
       "      <td>-152.779569</td>\n",
       "      <td>50</td>\n",
       "      <td>СРЕДНЕЕ</td>\n",
       "      <td>1</td>\n",
       "      <td>женат / замужем</td>\n",
       "      <td>0</td>\n",
       "      <td>M</td>\n",
       "      <td>сотрудник</td>\n",
       "      <td>0</td>\n",
       "      <td>135823.934197</td>\n",
       "      <td>образование</td>\n",
       "    </tr>\n",
       "    <tr>\n",
       "      <td>8</td>\n",
       "      <td>2</td>\n",
       "      <td>-6929.865299</td>\n",
       "      <td>35</td>\n",
       "      <td>ВЫСШЕЕ</td>\n",
       "      <td>0</td>\n",
       "      <td>гражданский брак</td>\n",
       "      <td>1</td>\n",
       "      <td>F</td>\n",
       "      <td>сотрудник</td>\n",
       "      <td>0</td>\n",
       "      <td>95856.832424</td>\n",
       "      <td>на проведение свадьбы</td>\n",
       "    </tr>\n",
       "    <tr>\n",
       "      <td>9</td>\n",
       "      <td>0</td>\n",
       "      <td>-2188.756445</td>\n",
       "      <td>41</td>\n",
       "      <td>среднее</td>\n",
       "      <td>1</td>\n",
       "      <td>женат / замужем</td>\n",
       "      <td>0</td>\n",
       "      <td>M</td>\n",
       "      <td>сотрудник</td>\n",
       "      <td>0</td>\n",
       "      <td>144425.938277</td>\n",
       "      <td>покупка жилья для семьи</td>\n",
       "    </tr>\n",
       "  </tbody>\n",
       "</table>\n",
       "</div>"
      ],
      "text/plain": [
       "   children  days_employed  dob_years education  education_id  \\\n",
       "0         1   -8437.673028         42    высшее             0   \n",
       "1         1   -4024.803754         36   среднее             1   \n",
       "2         0   -5623.422610         33   Среднее             1   \n",
       "3         3   -4124.747207         32   среднее             1   \n",
       "4         0  340266.072047         53   среднее             1   \n",
       "5         0    -926.185831         27    высшее             0   \n",
       "6         0   -2879.202052         43    высшее             0   \n",
       "7         0    -152.779569         50   СРЕДНЕЕ             1   \n",
       "8         2   -6929.865299         35    ВЫСШЕЕ             0   \n",
       "9         0   -2188.756445         41   среднее             1   \n",
       "\n",
       "      family_status  family_status_id gender income_type  debt   total_income  \\\n",
       "0   женат / замужем                 0      F   сотрудник     0  253875.639453   \n",
       "1   женат / замужем                 0      F   сотрудник     0  112080.014102   \n",
       "2   женат / замужем                 0      M   сотрудник     0  145885.952297   \n",
       "3   женат / замужем                 0      M   сотрудник     0  267628.550329   \n",
       "4  гражданский брак                 1      F   пенсионер     0  158616.077870   \n",
       "5  гражданский брак                 1      M   компаньон     0  255763.565419   \n",
       "6   женат / замужем                 0      F   компаньон     0  240525.971920   \n",
       "7   женат / замужем                 0      M   сотрудник     0  135823.934197   \n",
       "8  гражданский брак                 1      F   сотрудник     0   95856.832424   \n",
       "9   женат / замужем                 0      M   сотрудник     0  144425.938277   \n",
       "\n",
       "                      purpose  \n",
       "0               покупка жилья  \n",
       "1     приобретение автомобиля  \n",
       "2               покупка жилья  \n",
       "3  дополнительное образование  \n",
       "4             сыграть свадьбу  \n",
       "5               покупка жилья  \n",
       "6           операции с жильем  \n",
       "7                 образование  \n",
       "8       на проведение свадьбы  \n",
       "9     покупка жилья для семьи  "
      ]
     },
     "metadata": {},
     "output_type": "display_data"
    },
    {
     "name": "stdout",
     "output_type": "stream",
     "text": [
      "<class 'pandas.core.frame.DataFrame'>\n",
      "RangeIndex: 21525 entries, 0 to 21524\n",
      "Data columns (total 12 columns):\n",
      "children            21525 non-null int64\n",
      "days_employed       19351 non-null float64\n",
      "dob_years           21525 non-null int64\n",
      "education           21525 non-null object\n",
      "education_id        21525 non-null int64\n",
      "family_status       21525 non-null object\n",
      "family_status_id    21525 non-null int64\n",
      "gender              21525 non-null object\n",
      "income_type         21525 non-null object\n",
      "debt                21525 non-null int64\n",
      "total_income        19351 non-null float64\n",
      "purpose             21525 non-null object\n",
      "dtypes: float64(2), int64(5), object(5)\n",
      "memory usage: 2.0+ MB\n",
      "Index(['children', 'days_employed', 'dob_years', 'education', 'education_id',\n",
      "       'family_status', 'family_status_id', 'gender', 'income_type', 'debt',\n",
      "       'total_income', 'purpose'],\n",
      "      dtype='object')\n"
     ]
    }
   ],
   "source": [
    "# импортирую библиотеку pandas\n",
    "import pandas as pd\n",
    "\n",
    "# считываю файл, сохраняя в переменной data\n",
    "data = pd.read_csv('/datasets/data.csv')\n",
    "\n",
    "# вывожу первые 10 строк таблицы\n",
    "display(data.head(10))\n",
    "\n",
    "\n",
    "# методом info просматриваю информацию о таблице\n",
    "data.info()\n",
    "\n",
    "# проверяю названия колонок\n",
    "print(data.columns)"
   ]
  },
  {
   "cell_type": "markdown",
   "metadata": {},
   "source": [
    "**Вывод**\n",
    "\n"
   ]
  },
  {
   "cell_type": "markdown",
   "metadata": {},
   "source": [
    "Видно, что мы имеем 21 525 строк и 12 колонок. В days_employed и total_income одинаковое количество значений, но если сравнивать с остальными - разное. Это говорит о том, что в days_employed и total_income встречаются 'нулевые'/пропущенные значения. Проверка именования столбцов показала, что все значения прописаны верно. В датафрэйме встречаются различные типы данных, такие как int64, float64 и object."
   ]
  },
  {
   "cell_type": "markdown",
   "metadata": {},
   "source": [
    "## Шаг 2. Предобработка данных"
   ]
  },
  {
   "cell_type": "markdown",
   "metadata": {},
   "source": [
    "### Обработка пропусков"
   ]
  },
  {
   "cell_type": "code",
   "execution_count": 4,
   "metadata": {},
   "outputs": [],
   "source": [
    "# методом isna() в совокупности с sum() проверяю и подсчитываю пропуски\n",
    "data.isna().sum()\n",
    "\n",
    "# методом loc заменяю пропущенные значения в days_employed и total_income на медиану.\n",
    "data.loc[data['days_employed'].isna(), 'days_employed'] = data['days_employed'].sort_values(ascending=True).median()\n",
    "data.loc[data['total_income'].isna(), 'total_income'] = data['total_income'].sort_values(ascending=True).median()\n",
    "\n",
    "\n",
    "# методом loc заменяю нулевые знаения возраста на среднее\n",
    "data.loc[data['dob_years'] == 0, 'dob_years'] = data['dob_years'].sum() / data['dob_years'].count()\n"
   ]
  },
  {
   "cell_type": "markdown",
   "metadata": {},
   "source": [
    "**Вывод**\n"
   ]
  },
  {
   "cell_type": "markdown",
   "metadata": {},
   "source": [
    "Пропуски в колонках days_employed и total_income были заполнены медианой, так как среднее(на мой взгляд) в этом случае использовать не корректно. В колонке с возрастом были обнаружены нули - заменила их на среднее значение. Полгаю, что days_employed и total_income не заполнены умышленно, в том плане, что люди не захотели делиться стажем и зп. Странно, что в возрасте были нули, думаю, что это ошибка связанна с человеческим фактором."
   ]
  },
  {
   "cell_type": "markdown",
   "metadata": {},
   "source": [
    "### Замена типа данных"
   ]
  },
  {
   "cell_type": "code",
   "execution_count": 12,
   "metadata": {},
   "outputs": [
    {
     "data": {
      "text/html": [
       "<div>\n",
       "<style scoped>\n",
       "    .dataframe tbody tr th:only-of-type {\n",
       "        vertical-align: middle;\n",
       "    }\n",
       "\n",
       "    .dataframe tbody tr th {\n",
       "        vertical-align: top;\n",
       "    }\n",
       "\n",
       "    .dataframe thead th {\n",
       "        text-align: right;\n",
       "    }\n",
       "</style>\n",
       "<table border=\"1\" class=\"dataframe\">\n",
       "  <thead>\n",
       "    <tr style=\"text-align: right;\">\n",
       "      <th></th>\n",
       "      <th>children</th>\n",
       "      <th>days_employed</th>\n",
       "      <th>dob_years</th>\n",
       "      <th>education</th>\n",
       "      <th>education_id</th>\n",
       "      <th>family_status</th>\n",
       "      <th>family_status_id</th>\n",
       "      <th>gender</th>\n",
       "      <th>income_type</th>\n",
       "      <th>debt</th>\n",
       "      <th>total_income</th>\n",
       "      <th>purpose</th>\n",
       "    </tr>\n",
       "  </thead>\n",
       "  <tbody>\n",
       "    <tr>\n",
       "      <td>0</td>\n",
       "      <td>1</td>\n",
       "      <td>8437</td>\n",
       "      <td>42</td>\n",
       "      <td>высшее</td>\n",
       "      <td>0</td>\n",
       "      <td>женат / замужем</td>\n",
       "      <td>0</td>\n",
       "      <td>F</td>\n",
       "      <td>сотрудник</td>\n",
       "      <td>0</td>\n",
       "      <td>253875</td>\n",
       "      <td>покупка жилья</td>\n",
       "    </tr>\n",
       "    <tr>\n",
       "      <td>1</td>\n",
       "      <td>1</td>\n",
       "      <td>4024</td>\n",
       "      <td>36</td>\n",
       "      <td>среднее</td>\n",
       "      <td>1</td>\n",
       "      <td>женат / замужем</td>\n",
       "      <td>0</td>\n",
       "      <td>F</td>\n",
       "      <td>сотрудник</td>\n",
       "      <td>0</td>\n",
       "      <td>112080</td>\n",
       "      <td>приобретение автомобиля</td>\n",
       "    </tr>\n",
       "    <tr>\n",
       "      <td>2</td>\n",
       "      <td>0</td>\n",
       "      <td>5623</td>\n",
       "      <td>33</td>\n",
       "      <td>Среднее</td>\n",
       "      <td>1</td>\n",
       "      <td>женат / замужем</td>\n",
       "      <td>0</td>\n",
       "      <td>M</td>\n",
       "      <td>сотрудник</td>\n",
       "      <td>0</td>\n",
       "      <td>145885</td>\n",
       "      <td>покупка жилья</td>\n",
       "    </tr>\n",
       "    <tr>\n",
       "      <td>3</td>\n",
       "      <td>3</td>\n",
       "      <td>4124</td>\n",
       "      <td>32</td>\n",
       "      <td>среднее</td>\n",
       "      <td>1</td>\n",
       "      <td>женат / замужем</td>\n",
       "      <td>0</td>\n",
       "      <td>M</td>\n",
       "      <td>сотрудник</td>\n",
       "      <td>0</td>\n",
       "      <td>267628</td>\n",
       "      <td>дополнительное образование</td>\n",
       "    </tr>\n",
       "    <tr>\n",
       "      <td>4</td>\n",
       "      <td>0</td>\n",
       "      <td>14177</td>\n",
       "      <td>53</td>\n",
       "      <td>среднее</td>\n",
       "      <td>1</td>\n",
       "      <td>гражданский брак</td>\n",
       "      <td>1</td>\n",
       "      <td>F</td>\n",
       "      <td>пенсионер</td>\n",
       "      <td>0</td>\n",
       "      <td>158616</td>\n",
       "      <td>сыграть свадьбу</td>\n",
       "    </tr>\n",
       "    <tr>\n",
       "      <td>...</td>\n",
       "      <td>...</td>\n",
       "      <td>...</td>\n",
       "      <td>...</td>\n",
       "      <td>...</td>\n",
       "      <td>...</td>\n",
       "      <td>...</td>\n",
       "      <td>...</td>\n",
       "      <td>...</td>\n",
       "      <td>...</td>\n",
       "      <td>...</td>\n",
       "      <td>...</td>\n",
       "      <td>...</td>\n",
       "    </tr>\n",
       "    <tr>\n",
       "      <td>21520</td>\n",
       "      <td>1</td>\n",
       "      <td>4529</td>\n",
       "      <td>43</td>\n",
       "      <td>среднее</td>\n",
       "      <td>1</td>\n",
       "      <td>гражданский брак</td>\n",
       "      <td>1</td>\n",
       "      <td>F</td>\n",
       "      <td>компаньон</td>\n",
       "      <td>0</td>\n",
       "      <td>224791</td>\n",
       "      <td>операции с жильем</td>\n",
       "    </tr>\n",
       "    <tr>\n",
       "      <td>21521</td>\n",
       "      <td>0</td>\n",
       "      <td>14330</td>\n",
       "      <td>67</td>\n",
       "      <td>среднее</td>\n",
       "      <td>1</td>\n",
       "      <td>женат / замужем</td>\n",
       "      <td>0</td>\n",
       "      <td>F</td>\n",
       "      <td>пенсионер</td>\n",
       "      <td>0</td>\n",
       "      <td>155999</td>\n",
       "      <td>сделка с автомобилем</td>\n",
       "    </tr>\n",
       "    <tr>\n",
       "      <td>21522</td>\n",
       "      <td>1</td>\n",
       "      <td>2113</td>\n",
       "      <td>38</td>\n",
       "      <td>среднее</td>\n",
       "      <td>1</td>\n",
       "      <td>гражданский брак</td>\n",
       "      <td>1</td>\n",
       "      <td>M</td>\n",
       "      <td>сотрудник</td>\n",
       "      <td>1</td>\n",
       "      <td>89672</td>\n",
       "      <td>недвижимость</td>\n",
       "    </tr>\n",
       "    <tr>\n",
       "      <td>21523</td>\n",
       "      <td>3</td>\n",
       "      <td>3112</td>\n",
       "      <td>38</td>\n",
       "      <td>среднее</td>\n",
       "      <td>1</td>\n",
       "      <td>женат / замужем</td>\n",
       "      <td>0</td>\n",
       "      <td>M</td>\n",
       "      <td>сотрудник</td>\n",
       "      <td>1</td>\n",
       "      <td>244093</td>\n",
       "      <td>на покупку своего автомобиля</td>\n",
       "    </tr>\n",
       "    <tr>\n",
       "      <td>21524</td>\n",
       "      <td>2</td>\n",
       "      <td>1984</td>\n",
       "      <td>40</td>\n",
       "      <td>среднее</td>\n",
       "      <td>1</td>\n",
       "      <td>женат / замужем</td>\n",
       "      <td>0</td>\n",
       "      <td>F</td>\n",
       "      <td>сотрудник</td>\n",
       "      <td>0</td>\n",
       "      <td>82047</td>\n",
       "      <td>на покупку автомобиля</td>\n",
       "    </tr>\n",
       "  </tbody>\n",
       "</table>\n",
       "<p>21525 rows × 12 columns</p>\n",
       "</div>"
      ],
      "text/plain": [
       "       children  days_employed  dob_years education  education_id  \\\n",
       "0             1           8437         42    высшее             0   \n",
       "1             1           4024         36   среднее             1   \n",
       "2             0           5623         33   Среднее             1   \n",
       "3             3           4124         32   среднее             1   \n",
       "4             0          14177         53   среднее             1   \n",
       "...         ...            ...        ...       ...           ...   \n",
       "21520         1           4529         43   среднее             1   \n",
       "21521         0          14330         67   среднее             1   \n",
       "21522         1           2113         38   среднее             1   \n",
       "21523         3           3112         38   среднее             1   \n",
       "21524         2           1984         40   среднее             1   \n",
       "\n",
       "          family_status  family_status_id gender income_type  debt  \\\n",
       "0       женат / замужем                 0      F   сотрудник     0   \n",
       "1       женат / замужем                 0      F   сотрудник     0   \n",
       "2       женат / замужем                 0      M   сотрудник     0   \n",
       "3       женат / замужем                 0      M   сотрудник     0   \n",
       "4      гражданский брак                 1      F   пенсионер     0   \n",
       "...                 ...               ...    ...         ...   ...   \n",
       "21520  гражданский брак                 1      F   компаньон     0   \n",
       "21521   женат / замужем                 0      F   пенсионер     0   \n",
       "21522  гражданский брак                 1      M   сотрудник     1   \n",
       "21523   женат / замужем                 0      M   сотрудник     1   \n",
       "21524   женат / замужем                 0      F   сотрудник     0   \n",
       "\n",
       "       total_income                       purpose  \n",
       "0            253875                 покупка жилья  \n",
       "1            112080       приобретение автомобиля  \n",
       "2            145885                 покупка жилья  \n",
       "3            267628    дополнительное образование  \n",
       "4            158616               сыграть свадьбу  \n",
       "...             ...                           ...  \n",
       "21520        224791             операции с жильем  \n",
       "21521        155999          сделка с автомобилем  \n",
       "21522         89672                  недвижимость  \n",
       "21523        244093  на покупку своего автомобиля  \n",
       "21524         82047         на покупку автомобиля  \n",
       "\n",
       "[21525 rows x 12 columns]"
      ]
     },
     "metadata": {},
     "output_type": "display_data"
    }
   ],
   "source": [
    "# меняю отработку в часах на дни, применив метод loc\n",
    "data.loc[data['days_employed'] >= 30000, 'days_employed'] = data['days_employed'] / 24\n",
    "\n",
    "# привожу значения в колонках days_employed и total_income к челочисленным и делаю их положительными.\n",
    "data['days_employed'] = abs(data['days_employed'].astype('int'))\n",
    "data['total_income'] = abs(data['total_income'].astype('int'))\n",
    "data['dob_years'] = data['dob_years'].astype('int')\n",
    "display(data)\n",
    "\n",
    "\n",
    "\n"
   ]
  },
  {
   "cell_type": "markdown",
   "metadata": {},
   "source": [
    "**Вывод**\n"
   ]
  },
  {
   "cell_type": "markdown",
   "metadata": {},
   "source": [
    "При просмотре таблицы были замечены странные значения в days_employed и total_income. Данные были переведены в тип int, отрицательные значения изменены на положительные. Так же, странные(большие) значения в days_employed (предположительно записанные в минутах) были переведены в часы. В колонке dob_years данные были в вещественном типе - заменила на целочисленные. Метод astype был применен, так как данный метод удобен в использовании для перевода в нужный тип. Фунцкия abs возвращает абсолютное значение аргумента, абсолютное значение любого числа с отрицательным значением - это всегда соответствующее положительное, поэтому я применила конкретно эту функцию для отрицательных чисел в таблице."
   ]
  },
  {
   "cell_type": "markdown",
   "metadata": {},
   "source": [
    "### Обработка дубликатов"
   ]
  },
  {
   "cell_type": "markdown",
   "metadata": {},
   "source": [
    "Находим и подсчитываем количество дубликатов"
   ]
  },
  {
   "cell_type": "code",
   "execution_count": 13,
   "metadata": {},
   "outputs": [
    {
     "data": {
      "text/plain": [
       "54"
      ]
     },
     "execution_count": 13,
     "metadata": {},
     "output_type": "execute_result"
    }
   ],
   "source": [
    "# находим количество дубликатов\n",
    "data.duplicated().sum()\n"
   ]
  },
  {
   "cell_type": "markdown",
   "metadata": {},
   "source": [
    "Проверяем стобцы на наличие неявных дубликатов. При необходимости заменяем."
   ]
  },
  {
   "cell_type": "code",
   "execution_count": 14,
   "metadata": {},
   "outputs": [
    {
     "data": {
      "text/plain": [
       "array(['сотрудник', 'пенсионер', 'компаньон', 'госслужащий',\n",
       "       'безработный', 'предприниматель', 'студент', 'в декрете'],\n",
       "      dtype=object)"
      ]
     },
     "execution_count": 14,
     "metadata": {},
     "output_type": "execute_result"
    }
   ],
   "source": [
    "# проверяю столбец education на наличие неявных дубликатов\n",
    "data['education'].unique()\n",
    "# сделала функцию, которая заменяет неправильные значение на правильные\n",
    "def correct_educat(wrong_values, correct_value):\n",
    "    for wrong_value in wrong_values:\n",
    "        data['education'] = data['education'].replace(wrong_values, correct_value)\n",
    "dupli1 = ['Среднее', 'СРЕДНЕЕ', 'cреднее']\n",
    "correct_name1 = 'среднее'\n",
    "dupli2 = ['ВЫСШЕЕ', 'Высшее']\n",
    "correct_name2 = 'высшее'\n",
    "dupli3 = ['НЕОКОНЧЕННОЕ ВЫСШЕЕ', 'Неоконченное высшее']\n",
    "correct_name3 = 'неоконченное высшее'\n",
    "dupli4 = ['НАЧАЛЬНОЕ', 'Начальное']\n",
    "correct_name4 = 'начальное'\n",
    "dupli5 = ['Ученая степень', 'УЧЕНАЯ СТЕПЕНЬ']\n",
    "correct_name5 = 'ученая степень'\n",
    "\n",
    "# применяю функцию, избавляюсь от дублей\n",
    "correct_educat(dupli1, correct_name1)\n",
    "correct_educat(dupli2, correct_name2)\n",
    "correct_educat(dupli3, correct_name3)\n",
    "correct_educat(dupli4, correct_name4)\n",
    "correct_educat(dupli5, correct_name5)\n",
    "\n",
    "\n",
    "\n",
    "# проверяю столбец children на наличие неявных дубликатов\n",
    "data['children'].sort_values(ascending = True).unique()\n",
    "# заменяю значение -1 на положительное в колонке children\n",
    "data['children'] = data['children'].replace(-1, 1)\n",
    "# смотрю, сколько строк мы имеем где детей = 20\n",
    "data[data['children'] == 20]\n",
    "# заменяем опечатку '20' на '2'\n",
    "data['children'] = data['children'].replace(20, 2)\n",
    "\n",
    "\n",
    "\n",
    "# проверяю столбец debt на наличие неявных дубликатов\n",
    "data['debt'].unique()\n",
    "\n",
    "# проверяю столбец family_status на наличие неявных дубликатов\n",
    "data['family_status'].unique()\n",
    "\n",
    "# проверяю столбец puspose на наличие неявных дубликатов\n",
    "data['purpose'].unique()\n",
    "# сортирую их в порядке возрастания\n",
    "data['purpose'].sort_values(ascending = True).unique()\n",
    "\n",
    "data['income_type'].unique()\n"
   ]
  },
  {
   "cell_type": "markdown",
   "metadata": {},
   "source": [
    "Удаляем дубликаты и проверяем количество"
   ]
  },
  {
   "cell_type": "code",
   "execution_count": 15,
   "metadata": {},
   "outputs": [
    {
     "data": {
      "text/plain": [
       "0"
      ]
     },
     "execution_count": 15,
     "metadata": {},
     "output_type": "execute_result"
    }
   ],
   "source": [
    "data = data.drop_duplicates().reset_index(drop = True)\n",
    "data.duplicated().sum()"
   ]
  },
  {
   "cell_type": "markdown",
   "metadata": {},
   "source": [
    "**Вывод**\n",
    "\n"
   ]
  },
  {
   "cell_type": "markdown",
   "metadata": {},
   "source": [
    "Были преобразованы дубли в колонке education, возникшие при заполнении. Хотелось бы отметить, что значение 'среднее' имело латинскую букву 'c' - этот момент был учтен и тоже заменен. Найдены странные значения в колонке children. Значения -1 поменяла на положительную цифру - думаю что знак минус поставлен ошибочно или возник из-за ошибки при выгрузке. 20 детей заменила на 2, думаю, что это опечатка."
   ]
  },
  {
   "cell_type": "markdown",
   "metadata": {},
   "source": [
    "### Лемматизация"
   ]
  },
  {
   "cell_type": "markdown",
   "metadata": {},
   "source": [
    "Подсчитываем количество упоминаний в столбце purpose, импортируя нужные библиотеки и применив лемматизацию"
   ]
  },
  {
   "cell_type": "code",
   "execution_count": 16,
   "metadata": {},
   "outputs": [
    {
     "data": {
      "text/plain": [
       "Counter({'покупка': 10,\n",
       "         ' ': 96,\n",
       "         'жилье': 7,\n",
       "         'приобретение': 1,\n",
       "         'автомобиль': 9,\n",
       "         'дополнительный': 2,\n",
       "         'образование': 9,\n",
       "         'сыграть': 1,\n",
       "         'свадьба': 3,\n",
       "         'операция': 4,\n",
       "         'с': 5,\n",
       "         'на': 4,\n",
       "         'проведение': 1,\n",
       "         'для': 2,\n",
       "         'семья': 1,\n",
       "         'недвижимость': 10,\n",
       "         'коммерческий': 2,\n",
       "         'жилой': 2,\n",
       "         'строительство': 3,\n",
       "         'собственный': 1,\n",
       "         'подержать': 2,\n",
       "         'свой': 4,\n",
       "         'со': 1,\n",
       "         'заниматься': 2,\n",
       "         'сделка': 2,\n",
       "         'получение': 3,\n",
       "         'высокий': 3,\n",
       "         'профильный': 1,\n",
       "         'сдача': 1,\n",
       "         'ремонт': 1,\n",
       "         '\\n': 1})"
      ]
     },
     "execution_count": 16,
     "metadata": {},
     "output_type": "execute_result"
    }
   ],
   "source": [
    "# импортирую библиотеки\n",
    "from pymystem3 import Mystem\n",
    "m = Mystem()\n",
    "from collections import Counter\n",
    "\n",
    "# нахожу уникальные знаения столбца purpose, лемматизирую и подсчитываю количество упоминаний\n",
    "text = data['purpose'].unique()\n",
    "separator = ' '\n",
    "text = separator.join(text)\n",
    "lemmas = m.lemmatize(text)\n",
    "Counter(lemmas)\n",
    "\n",
    "\n",
    "\n",
    "\n"
   ]
  },
  {
   "cell_type": "markdown",
   "metadata": {},
   "source": [
    "Из получившихся значений определяем \"ключевые\". Прописав функцию, добавляем новый столбец с лемматизированными значениями методом apply()"
   ]
  },
  {
   "cell_type": "code",
   "execution_count": 17,
   "metadata": {},
   "outputs": [
    {
     "data": {
      "text/html": [
       "<div>\n",
       "<style scoped>\n",
       "    .dataframe tbody tr th:only-of-type {\n",
       "        vertical-align: middle;\n",
       "    }\n",
       "\n",
       "    .dataframe tbody tr th {\n",
       "        vertical-align: top;\n",
       "    }\n",
       "\n",
       "    .dataframe thead th {\n",
       "        text-align: right;\n",
       "    }\n",
       "</style>\n",
       "<table border=\"1\" class=\"dataframe\">\n",
       "  <thead>\n",
       "    <tr style=\"text-align: right;\">\n",
       "      <th></th>\n",
       "      <th>children</th>\n",
       "      <th>days_employed</th>\n",
       "      <th>dob_years</th>\n",
       "      <th>education</th>\n",
       "      <th>education_id</th>\n",
       "      <th>family_status</th>\n",
       "      <th>family_status_id</th>\n",
       "      <th>gender</th>\n",
       "      <th>income_type</th>\n",
       "      <th>debt</th>\n",
       "      <th>total_income</th>\n",
       "      <th>purpose</th>\n",
       "      <th>lemmas_purposes</th>\n",
       "    </tr>\n",
       "  </thead>\n",
       "  <tbody>\n",
       "    <tr>\n",
       "      <td>0</td>\n",
       "      <td>1</td>\n",
       "      <td>8437</td>\n",
       "      <td>42</td>\n",
       "      <td>высшее</td>\n",
       "      <td>0</td>\n",
       "      <td>женат / замужем</td>\n",
       "      <td>0</td>\n",
       "      <td>F</td>\n",
       "      <td>сотрудник</td>\n",
       "      <td>0</td>\n",
       "      <td>253875</td>\n",
       "      <td>покупка жилья</td>\n",
       "      <td>недвижимость</td>\n",
       "    </tr>\n",
       "    <tr>\n",
       "      <td>1</td>\n",
       "      <td>1</td>\n",
       "      <td>4024</td>\n",
       "      <td>36</td>\n",
       "      <td>среднее</td>\n",
       "      <td>1</td>\n",
       "      <td>женат / замужем</td>\n",
       "      <td>0</td>\n",
       "      <td>F</td>\n",
       "      <td>сотрудник</td>\n",
       "      <td>0</td>\n",
       "      <td>112080</td>\n",
       "      <td>приобретение автомобиля</td>\n",
       "      <td>автомобиль</td>\n",
       "    </tr>\n",
       "    <tr>\n",
       "      <td>2</td>\n",
       "      <td>0</td>\n",
       "      <td>5623</td>\n",
       "      <td>33</td>\n",
       "      <td>среднее</td>\n",
       "      <td>1</td>\n",
       "      <td>женат / замужем</td>\n",
       "      <td>0</td>\n",
       "      <td>M</td>\n",
       "      <td>сотрудник</td>\n",
       "      <td>0</td>\n",
       "      <td>145885</td>\n",
       "      <td>покупка жилья</td>\n",
       "      <td>недвижимость</td>\n",
       "    </tr>\n",
       "    <tr>\n",
       "      <td>3</td>\n",
       "      <td>3</td>\n",
       "      <td>4124</td>\n",
       "      <td>32</td>\n",
       "      <td>среднее</td>\n",
       "      <td>1</td>\n",
       "      <td>женат / замужем</td>\n",
       "      <td>0</td>\n",
       "      <td>M</td>\n",
       "      <td>сотрудник</td>\n",
       "      <td>0</td>\n",
       "      <td>267628</td>\n",
       "      <td>дополнительное образование</td>\n",
       "      <td>образование</td>\n",
       "    </tr>\n",
       "    <tr>\n",
       "      <td>4</td>\n",
       "      <td>0</td>\n",
       "      <td>14177</td>\n",
       "      <td>53</td>\n",
       "      <td>среднее</td>\n",
       "      <td>1</td>\n",
       "      <td>гражданский брак</td>\n",
       "      <td>1</td>\n",
       "      <td>F</td>\n",
       "      <td>пенсионер</td>\n",
       "      <td>0</td>\n",
       "      <td>158616</td>\n",
       "      <td>сыграть свадьбу</td>\n",
       "      <td>свадьба</td>\n",
       "    </tr>\n",
       "    <tr>\n",
       "      <td>5</td>\n",
       "      <td>0</td>\n",
       "      <td>926</td>\n",
       "      <td>27</td>\n",
       "      <td>высшее</td>\n",
       "      <td>0</td>\n",
       "      <td>гражданский брак</td>\n",
       "      <td>1</td>\n",
       "      <td>M</td>\n",
       "      <td>компаньон</td>\n",
       "      <td>0</td>\n",
       "      <td>255763</td>\n",
       "      <td>покупка жилья</td>\n",
       "      <td>недвижимость</td>\n",
       "    </tr>\n",
       "    <tr>\n",
       "      <td>6</td>\n",
       "      <td>0</td>\n",
       "      <td>2879</td>\n",
       "      <td>43</td>\n",
       "      <td>высшее</td>\n",
       "      <td>0</td>\n",
       "      <td>женат / замужем</td>\n",
       "      <td>0</td>\n",
       "      <td>F</td>\n",
       "      <td>компаньон</td>\n",
       "      <td>0</td>\n",
       "      <td>240525</td>\n",
       "      <td>операции с жильем</td>\n",
       "      <td>недвижимость</td>\n",
       "    </tr>\n",
       "    <tr>\n",
       "      <td>7</td>\n",
       "      <td>0</td>\n",
       "      <td>152</td>\n",
       "      <td>50</td>\n",
       "      <td>среднее</td>\n",
       "      <td>1</td>\n",
       "      <td>женат / замужем</td>\n",
       "      <td>0</td>\n",
       "      <td>M</td>\n",
       "      <td>сотрудник</td>\n",
       "      <td>0</td>\n",
       "      <td>135823</td>\n",
       "      <td>образование</td>\n",
       "      <td>образование</td>\n",
       "    </tr>\n",
       "    <tr>\n",
       "      <td>8</td>\n",
       "      <td>2</td>\n",
       "      <td>6929</td>\n",
       "      <td>35</td>\n",
       "      <td>высшее</td>\n",
       "      <td>0</td>\n",
       "      <td>гражданский брак</td>\n",
       "      <td>1</td>\n",
       "      <td>F</td>\n",
       "      <td>сотрудник</td>\n",
       "      <td>0</td>\n",
       "      <td>95856</td>\n",
       "      <td>на проведение свадьбы</td>\n",
       "      <td>свадьба</td>\n",
       "    </tr>\n",
       "    <tr>\n",
       "      <td>9</td>\n",
       "      <td>0</td>\n",
       "      <td>2188</td>\n",
       "      <td>41</td>\n",
       "      <td>среднее</td>\n",
       "      <td>1</td>\n",
       "      <td>женат / замужем</td>\n",
       "      <td>0</td>\n",
       "      <td>M</td>\n",
       "      <td>сотрудник</td>\n",
       "      <td>0</td>\n",
       "      <td>144425</td>\n",
       "      <td>покупка жилья для семьи</td>\n",
       "      <td>недвижимость</td>\n",
       "    </tr>\n",
       "  </tbody>\n",
       "</table>\n",
       "</div>"
      ],
      "text/plain": [
       "   children  days_employed  dob_years education  education_id  \\\n",
       "0         1           8437         42    высшее             0   \n",
       "1         1           4024         36   среднее             1   \n",
       "2         0           5623         33   среднее             1   \n",
       "3         3           4124         32   среднее             1   \n",
       "4         0          14177         53   среднее             1   \n",
       "5         0            926         27    высшее             0   \n",
       "6         0           2879         43    высшее             0   \n",
       "7         0            152         50   среднее             1   \n",
       "8         2           6929         35    высшее             0   \n",
       "9         0           2188         41   среднее             1   \n",
       "\n",
       "      family_status  family_status_id gender income_type  debt  total_income  \\\n",
       "0   женат / замужем                 0      F   сотрудник     0        253875   \n",
       "1   женат / замужем                 0      F   сотрудник     0        112080   \n",
       "2   женат / замужем                 0      M   сотрудник     0        145885   \n",
       "3   женат / замужем                 0      M   сотрудник     0        267628   \n",
       "4  гражданский брак                 1      F   пенсионер     0        158616   \n",
       "5  гражданский брак                 1      M   компаньон     0        255763   \n",
       "6   женат / замужем                 0      F   компаньон     0        240525   \n",
       "7   женат / замужем                 0      M   сотрудник     0        135823   \n",
       "8  гражданский брак                 1      F   сотрудник     0         95856   \n",
       "9   женат / замужем                 0      M   сотрудник     0        144425   \n",
       "\n",
       "                      purpose lemmas_purposes  \n",
       "0               покупка жилья    недвижимость  \n",
       "1     приобретение автомобиля      автомобиль  \n",
       "2               покупка жилья    недвижимость  \n",
       "3  дополнительное образование     образование  \n",
       "4             сыграть свадьбу         свадьба  \n",
       "5               покупка жилья    недвижимость  \n",
       "6           операции с жильем    недвижимость  \n",
       "7                 образование     образование  \n",
       "8       на проведение свадьбы         свадьба  \n",
       "9     покупка жилья для семьи    недвижимость  "
      ]
     },
     "metadata": {},
     "output_type": "display_data"
    }
   ],
   "source": [
    "# прописываю функцию\n",
    "def purpose_lemmas(row):\n",
    "    purpose = row['purpose']\n",
    "    lemmas_purpose = m.lemmatize(purpose)\n",
    "    if ('недвижимость' in lemmas_purpose or 'жилье' in lemmas_purpose):\n",
    "        return 'недвижимость'\n",
    "    elif 'автомобиль' in lemmas_purpose:\n",
    "        return 'автомобиль'\n",
    "    elif 'образование' in lemmas_purpose:\n",
    "        return 'образование'\n",
    "    elif 'свадьба' in lemmas_purpose:\n",
    "        return 'свадьба'\n",
    "    else:\n",
    "        return 'цель не определена'\n",
    "\n",
    "# добавляю новый столбец с корректными(лемматизированными) значениями\n",
    "data['lemmas_purposes'] = data.apply(purpose_lemmas, axis = 1)\n",
    "display(data.head(10))\n",
    "\n"
   ]
  },
  {
   "cell_type": "markdown",
   "metadata": {},
   "source": [
    "**Вывод** "
   ]
  },
  {
   "cell_type": "markdown",
   "metadata": {},
   "source": [
    "Была проведена лемматизация столбца purpose. Ключевые цели: недвижимость, автомобиль, образование, свадьба. С помощью функции, неправильные значения были заменены на верные и добавлены в новый столбец."
   ]
  },
  {
   "cell_type": "markdown",
   "metadata": {},
   "source": [
    "### Категоризация данных"
   ]
  },
  {
   "cell_type": "code",
   "execution_count": 18,
   "metadata": {},
   "outputs": [],
   "source": [
    "# просматриваю уникальные значния столбца dob years сортируя по возрастанию\n",
    "data['dob_years'].sort_values(ascending = True).unique()\n",
    "# прописываю функцию для категоризации клиентов по возрасту\n",
    "def age_group(age):\n",
    "    if age < 35:\n",
    "        return 'молодой возраст'\n",
    "    elif age < 64:\n",
    "        return 'средний возраст'\n",
    "    else:\n",
    "        return 'пенсионный возраст'\n",
    "# добавляем новый столбец по категориям (применяя функцию)\n",
    "data['age_group'] = data['dob_years'].apply(age_group)\n",
    "\n",
    "# проверяю минимальный заработок\n",
    "data['total_income'].min()\n",
    "# проверяю максимальный заработок\n",
    "data['total_income'].max()\n",
    "# прописываю функцию для категоризации клиентов по уровню заработной платы\n",
    "def income_group(income):\n",
    "    if income < 35000:\n",
    "        return 'низкий уровень дохода'\n",
    "    elif income < 70000:\n",
    "        return 'средний уровень дохода'\n",
    "    elif income < 250000:\n",
    "        return 'высокий уровень дохода'\n",
    "    else:\n",
    "        return 'очень высокий уровень дохода'\n",
    "# добавляем новый столбец по категориям (применяя функцию)\n",
    "data['income_group'] = data['total_income'].apply(income_group)\n",
    "\n"
   ]
  },
  {
   "cell_type": "markdown",
   "metadata": {},
   "source": [
    "**Вывод** "
   ]
  },
  {
   "cell_type": "markdown",
   "metadata": {},
   "source": [
    "Произвела разбивку на категории в столбцах dob_years и total_income. Сделала функцию, которая возрващает категорию, после чего добавляю столбец и методом apply применяю фунцию к значениям в столбцах dob_years и total_income для записи категорий в новые столбцы."
   ]
  },
  {
   "cell_type": "markdown",
   "metadata": {},
   "source": [
    "## Шаг 3. Ответьте на вопросы"
   ]
  },
  {
   "cell_type": "markdown",
   "metadata": {},
   "source": [
    "- Есть ли зависимость между наличием детей и возвратом кредита в срок?"
   ]
  },
  {
   "cell_type": "code",
   "execution_count": 19,
   "metadata": {},
   "outputs": [
    {
     "data": {
      "text/html": [
       "<div>\n",
       "<style scoped>\n",
       "    .dataframe tbody tr th:only-of-type {\n",
       "        vertical-align: middle;\n",
       "    }\n",
       "\n",
       "    .dataframe tbody tr th {\n",
       "        vertical-align: top;\n",
       "    }\n",
       "\n",
       "    .dataframe thead th {\n",
       "        text-align: right;\n",
       "    }\n",
       "</style>\n",
       "<table border=\"1\" class=\"dataframe\">\n",
       "  <thead>\n",
       "    <tr style=\"text-align: right;\">\n",
       "      <th></th>\n",
       "      <th>has_debt</th>\n",
       "      <th>total</th>\n",
       "      <th>%</th>\n",
       "    </tr>\n",
       "    <tr>\n",
       "      <th>children</th>\n",
       "      <th></th>\n",
       "      <th></th>\n",
       "      <th></th>\n",
       "    </tr>\n",
       "  </thead>\n",
       "  <tbody>\n",
       "    <tr>\n",
       "      <td>5</td>\n",
       "      <td>0</td>\n",
       "      <td>9</td>\n",
       "      <td>0.000000</td>\n",
       "    </tr>\n",
       "    <tr>\n",
       "      <td>4</td>\n",
       "      <td>4</td>\n",
       "      <td>41</td>\n",
       "      <td>9.756098</td>\n",
       "    </tr>\n",
       "    <tr>\n",
       "      <td>3</td>\n",
       "      <td>27</td>\n",
       "      <td>330</td>\n",
       "      <td>8.181818</td>\n",
       "    </tr>\n",
       "    <tr>\n",
       "      <td>2</td>\n",
       "      <td>202</td>\n",
       "      <td>2128</td>\n",
       "      <td>9.492481</td>\n",
       "    </tr>\n",
       "    <tr>\n",
       "      <td>1</td>\n",
       "      <td>445</td>\n",
       "      <td>4855</td>\n",
       "      <td>9.165808</td>\n",
       "    </tr>\n",
       "    <tr>\n",
       "      <td>0</td>\n",
       "      <td>1063</td>\n",
       "      <td>14091</td>\n",
       "      <td>7.543822</td>\n",
       "    </tr>\n",
       "  </tbody>\n",
       "</table>\n",
       "</div>"
      ],
      "text/plain": [
       "          has_debt  total         %\n",
       "children                           \n",
       "5                0      9  0.000000\n",
       "4                4     41  9.756098\n",
       "3               27    330  8.181818\n",
       "2              202   2128  9.492481\n",
       "1              445   4855  9.165808\n",
       "0             1063  14091  7.543822"
      ]
     },
     "metadata": {},
     "output_type": "display_data"
    }
   ],
   "source": [
    "# делаем сводную таблицу. Столбец, по которому группируем данные - children. Значения для сводной таблицы по колонке debt\n",
    "# применяем функции sum, count, mean к значениям.\n",
    "pivot_children = data.pivot_table(index = ['children'] , values = 'debt', aggfunc = ['sum', 'count', 'mean'])\n",
    "# отражаем процент\n",
    "pivot_children['mean'] = pivot_children['mean'] * 100\n",
    "# именуем столбцы\n",
    "pivot_children.columns = ['has_debt', 'total', '%']\n",
    "# сортируем таблицу по убыванию\n",
    "pivot_children = pivot_children.sort_values(by = 'children', ascending = False)\n",
    "# выводим\n",
    "display(pivot_children)"
   ]
  },
  {
   "cell_type": "markdown",
   "metadata": {},
   "source": [
    "**Вывод**"
   ]
  },
  {
   "cell_type": "markdown",
   "metadata": {},
   "source": [
    " Глядя на таблицу можно сказать, что зависимость между наличием детей и возвратом кредита в срок имеется. Людей, у которых нет детей - процент по задолженности ниже на ≈2%, чем у людей, у которых есть дети. При этом люди, у которых 5 детей - задолженности не имеют вообще. Возможно, это связано с тем, что они никогда ранее не брали кредитов или с тем, что их слишком мало и не стоит учитывать их в общих выводах."
   ]
  },
  {
   "cell_type": "markdown",
   "metadata": {},
   "source": [
    "- Есть ли зависимость между семейным положением и возвратом кредита в срок?"
   ]
  },
  {
   "cell_type": "code",
   "execution_count": 20,
   "metadata": {},
   "outputs": [
    {
     "data": {
      "text/html": [
       "<div>\n",
       "<style scoped>\n",
       "    .dataframe tbody tr th:only-of-type {\n",
       "        vertical-align: middle;\n",
       "    }\n",
       "\n",
       "    .dataframe tbody tr th {\n",
       "        vertical-align: top;\n",
       "    }\n",
       "\n",
       "    .dataframe thead th {\n",
       "        text-align: right;\n",
       "    }\n",
       "</style>\n",
       "<table border=\"1\" class=\"dataframe\">\n",
       "  <thead>\n",
       "    <tr style=\"text-align: right;\">\n",
       "      <th></th>\n",
       "      <th>has_debt</th>\n",
       "      <th>total</th>\n",
       "      <th>%</th>\n",
       "    </tr>\n",
       "    <tr>\n",
       "      <th>family_status</th>\n",
       "      <th></th>\n",
       "      <th></th>\n",
       "      <th></th>\n",
       "    </tr>\n",
       "  </thead>\n",
       "  <tbody>\n",
       "    <tr>\n",
       "      <td>женат / замужем</td>\n",
       "      <td>931</td>\n",
       "      <td>12339</td>\n",
       "      <td>7.545182</td>\n",
       "    </tr>\n",
       "    <tr>\n",
       "      <td>гражданский брак</td>\n",
       "      <td>388</td>\n",
       "      <td>4151</td>\n",
       "      <td>9.347145</td>\n",
       "    </tr>\n",
       "    <tr>\n",
       "      <td>вдовец / вдова</td>\n",
       "      <td>63</td>\n",
       "      <td>959</td>\n",
       "      <td>6.569343</td>\n",
       "    </tr>\n",
       "    <tr>\n",
       "      <td>в разводе</td>\n",
       "      <td>85</td>\n",
       "      <td>1195</td>\n",
       "      <td>7.112971</td>\n",
       "    </tr>\n",
       "    <tr>\n",
       "      <td>Не женат / не замужем</td>\n",
       "      <td>274</td>\n",
       "      <td>2810</td>\n",
       "      <td>9.750890</td>\n",
       "    </tr>\n",
       "  </tbody>\n",
       "</table>\n",
       "</div>"
      ],
      "text/plain": [
       "                       has_debt  total         %\n",
       "family_status                                   \n",
       "женат / замужем             931  12339  7.545182\n",
       "гражданский брак            388   4151  9.347145\n",
       "вдовец / вдова               63    959  6.569343\n",
       "в разводе                    85   1195  7.112971\n",
       "Не женат / не замужем       274   2810  9.750890"
      ]
     },
     "metadata": {},
     "output_type": "display_data"
    }
   ],
   "source": [
    "# делаем сводную таблицу. Столбец, по которому группируем данные - family_status. Значения для сводной таблицы по колонке \n",
    "# debt\n",
    "# применяем функции sum, count, mean к значениям.\n",
    "pivot_family = data.pivot_table(index = ['family_status'], values = 'debt', aggfunc = ['sum', 'count', 'mean'])\n",
    "# отражаем процент\n",
    "pivot_family['mean'] = pivot_family['mean'] * 100\n",
    "# именуем столбцы\n",
    "pivot_family.columns = ['has_debt', 'total', '%']\n",
    "# сортируем таблицу по убыванию\n",
    "pivot_family = pivot_family.sort_values(by = 'family_status', ascending = False)\n",
    "# выводим\n",
    "display(pivot_family)\n",
    "\n"
   ]
  },
  {
   "cell_type": "markdown",
   "metadata": {},
   "source": [
    "**Вывод** "
   ]
  },
  {
   "cell_type": "markdown",
   "metadata": {},
   "source": [
    "Здесь мы так же можем сказать, что зависимость между семейным положением и возвратом кредита в срок есть. Наивысший процент по просрочкам у людей которые живут в гражданском браке и тех, кто не женат/ не замужем."
   ]
  },
  {
   "cell_type": "markdown",
   "metadata": {},
   "source": [
    "- Есть ли зависимость между уровнем дохода и возвратом кредита в срок?"
   ]
  },
  {
   "cell_type": "code",
   "execution_count": 21,
   "metadata": {},
   "outputs": [
    {
     "data": {
      "text/html": [
       "<div>\n",
       "<style scoped>\n",
       "    .dataframe tbody tr th:only-of-type {\n",
       "        vertical-align: middle;\n",
       "    }\n",
       "\n",
       "    .dataframe tbody tr th {\n",
       "        vertical-align: top;\n",
       "    }\n",
       "\n",
       "    .dataframe thead th {\n",
       "        text-align: right;\n",
       "    }\n",
       "</style>\n",
       "<table border=\"1\" class=\"dataframe\">\n",
       "  <thead>\n",
       "    <tr style=\"text-align: right;\">\n",
       "      <th></th>\n",
       "      <th>has_debt</th>\n",
       "      <th>total</th>\n",
       "      <th>%</th>\n",
       "    </tr>\n",
       "    <tr>\n",
       "      <th>income_group</th>\n",
       "      <th></th>\n",
       "      <th></th>\n",
       "      <th></th>\n",
       "    </tr>\n",
       "  </thead>\n",
       "  <tbody>\n",
       "    <tr>\n",
       "      <td>высокий уровень дохода</td>\n",
       "      <td>1446</td>\n",
       "      <td>17168</td>\n",
       "      <td>8.422647</td>\n",
       "    </tr>\n",
       "    <tr>\n",
       "      <td>средний уровень дохода</td>\n",
       "      <td>98</td>\n",
       "      <td>1405</td>\n",
       "      <td>6.975089</td>\n",
       "    </tr>\n",
       "    <tr>\n",
       "      <td>очень высокий уровень дохода</td>\n",
       "      <td>194</td>\n",
       "      <td>2812</td>\n",
       "      <td>6.899004</td>\n",
       "    </tr>\n",
       "    <tr>\n",
       "      <td>низкий уровень дохода</td>\n",
       "      <td>3</td>\n",
       "      <td>69</td>\n",
       "      <td>4.347826</td>\n",
       "    </tr>\n",
       "  </tbody>\n",
       "</table>\n",
       "</div>"
      ],
      "text/plain": [
       "                              has_debt  total         %\n",
       "income_group                                           \n",
       "высокий уровень дохода            1446  17168  8.422647\n",
       "средний уровень дохода              98   1405  6.975089\n",
       "очень высокий уровень дохода       194   2812  6.899004\n",
       "низкий уровень дохода                3     69  4.347826"
      ]
     },
     "metadata": {},
     "output_type": "display_data"
    }
   ],
   "source": [
    "# делаем сводную таблицу. Столбец, по которому группируем данные - income_group. Значения для сводной таблицы по колонке \n",
    "# debt\n",
    "# применяем функции sum, count, mean к значениям.\n",
    "pivot_income = data.pivot_table(index = ['income_group'], values = 'debt', aggfunc = ['sum', 'count', 'mean'])\n",
    "# отражаем процент\n",
    "pivot_income['mean'] = pivot_income['mean'] * 100\n",
    "# именуем столбцы\n",
    "pivot_income.columns = ['has_debt', 'total', '%']\n",
    "# сортируем таблицу по убыванию\n",
    "pivot_income = pivot_income.sort_values(by = '%', ascending = False)\n",
    "# выводим\n",
    "display(pivot_income.head(15))\n"
   ]
  },
  {
   "cell_type": "markdown",
   "metadata": {},
   "source": [
    "**Вывод**"
   ]
  },
  {
   "cell_type": "markdown",
   "metadata": {},
   "source": [
    "По данном таблице можем сделать вывод, что зависимость между уровнем дохода и возвратом кредита в срок есть. Интересно, но у людей с низким уровнем дохода наблюдается наименьшее количество просрочек, что не скажешь про людей с высоким уровнем дохода."
   ]
  },
  {
   "cell_type": "markdown",
   "metadata": {},
   "source": [
    "- Как разные цели кредита влияют на его возврат в срок?"
   ]
  },
  {
   "cell_type": "code",
   "execution_count": 37,
   "metadata": {},
   "outputs": [
    {
     "data": {
      "text/html": [
       "<div>\n",
       "<style scoped>\n",
       "    .dataframe tbody tr th:only-of-type {\n",
       "        vertical-align: middle;\n",
       "    }\n",
       "\n",
       "    .dataframe tbody tr th {\n",
       "        vertical-align: top;\n",
       "    }\n",
       "\n",
       "    .dataframe thead th {\n",
       "        text-align: right;\n",
       "    }\n",
       "</style>\n",
       "<table border=\"1\" class=\"dataframe\">\n",
       "  <thead>\n",
       "    <tr style=\"text-align: right;\">\n",
       "      <th></th>\n",
       "      <th>has_debt</th>\n",
       "      <th>total</th>\n",
       "      <th>%</th>\n",
       "    </tr>\n",
       "    <tr>\n",
       "      <th>lemmas_purposes</th>\n",
       "      <th></th>\n",
       "      <th></th>\n",
       "      <th></th>\n",
       "    </tr>\n",
       "  </thead>\n",
       "  <tbody>\n",
       "    <tr>\n",
       "      <td>автомобиль</td>\n",
       "      <td>403</td>\n",
       "      <td>4306</td>\n",
       "      <td>9.359034</td>\n",
       "    </tr>\n",
       "    <tr>\n",
       "      <td>образование</td>\n",
       "      <td>370</td>\n",
       "      <td>4013</td>\n",
       "      <td>9.220035</td>\n",
       "    </tr>\n",
       "    <tr>\n",
       "      <td>свадьба</td>\n",
       "      <td>186</td>\n",
       "      <td>2324</td>\n",
       "      <td>8.003442</td>\n",
       "    </tr>\n",
       "    <tr>\n",
       "      <td>недвижимость</td>\n",
       "      <td>782</td>\n",
       "      <td>10811</td>\n",
       "      <td>7.233373</td>\n",
       "    </tr>\n",
       "  </tbody>\n",
       "</table>\n",
       "</div>"
      ],
      "text/plain": [
       "                 has_debt  total         %\n",
       "lemmas_purposes                           \n",
       "автомобиль            403   4306  9.359034\n",
       "образование           370   4013  9.220035\n",
       "свадьба               186   2324  8.003442\n",
       "недвижимость          782  10811  7.233373"
      ]
     },
     "metadata": {},
     "output_type": "display_data"
    }
   ],
   "source": [
    "\n",
    "# делаем сводную таблицу. Столбец, по которому группируем данные - lemmas_purposes. Значения для сводной таблицы по колонке \n",
    "# debt\n",
    "# применяем функции sum, count, mean к значениям.\n",
    "pivot_purposes = data.pivot_table(index = ['lemmas_purposes'], values = 'debt', aggfunc = ['sum', 'count', 'mean'])\n",
    "# отражаем процент\n",
    "pivot_purposes['mean'] = pivot_purposes['mean'] * 100\n",
    "# именуем столбцы\n",
    "pivot_purposes.columns = ['has_debt', 'total', '%']\n",
    "# сортируем таблицу по убыванию\n",
    "pivot_purposes = pivot_purposes.sort_values(by = '%', ascending = False)\n",
    "# выводим\n",
    "display(pivot_purposes)\n"
   ]
  },
  {
   "cell_type": "markdown",
   "metadata": {},
   "source": [
    "**Вывод**"
   ]
  },
  {
   "cell_type": "markdown",
   "metadata": {},
   "source": [
    "По данным из таблицы можем сказать, что самая популярная цель кредита - это недвижимость, при этом процент по просрочкам у неё ниже всего, возможно потому, что недвижимость одна из самых ответственных целей (как мне кажется) - клиенты в первую очередь по возможности закрывают кредит, чтобы не оплачивать штрафы и пени. Самый высокий процент по просрочкам у клиентов, которые берут кредит на автомобиль и образование. Возможно, это связано с тем, что автомобиль и образование это не первостепенное в ежемесячном планировании затрат (что не скажешь о недвижимости), что влечет за собой бОльший процент по просрочкам. Менее популярная цель - свадьба, при этом процент по посрочкам у неё не самый высокий. Думаю объяснение тому идентично автомобилю и образованию."
   ]
  },
  {
   "cell_type": "markdown",
   "metadata": {},
   "source": [
    "## Шаг 4. Общий вывод"
   ]
  },
  {
   "cell_type": "markdown",
   "metadata": {},
   "source": [
    "Исследование по надеждности заёмщиков показало, что количество детей и семейное положение влияет на факт погашения кредита в срок. В каждом из текущих вопросов имеется зависимость, о чем говорит разный процент по задолженности. При смене цели/количества детей/уровня дохода в каждой из категорий процент меняется, что говорит о зависмости.   "
   ]
  },
  {
   "cell_type": "code",
   "execution_count": null,
   "metadata": {},
   "outputs": [],
   "source": []
  },
  {
   "cell_type": "code",
   "execution_count": null,
   "metadata": {},
   "outputs": [],
   "source": []
  }
 ],
 "metadata": {
  "ExecuteTimeLog": [
   {
    "duration": 574,
    "start_time": "2021-12-02T13:12:11.635Z"
   },
   {
    "duration": 69,
    "start_time": "2021-12-02T13:12:21.749Z"
   },
   {
    "duration": 285,
    "start_time": "2021-12-02T13:12:55.686Z"
   },
   {
    "duration": 68,
    "start_time": "2021-12-02T13:13:04.952Z"
   },
   {
    "duration": 4756,
    "start_time": "2021-12-02T13:17:23.692Z"
   },
   {
    "duration": 80,
    "start_time": "2021-12-02T13:17:52.854Z"
   },
   {
    "duration": 18,
    "start_time": "2021-12-02T13:29:43.346Z"
   },
   {
    "duration": 9,
    "start_time": "2021-12-02T13:29:56.972Z"
   },
   {
    "duration": 14,
    "start_time": "2021-12-02T13:31:19.943Z"
   },
   {
    "duration": 10,
    "start_time": "2021-12-02T13:31:24.639Z"
   },
   {
    "duration": 9,
    "start_time": "2021-12-02T13:31:34.320Z"
   },
   {
    "duration": 9,
    "start_time": "2021-12-02T13:38:19.619Z"
   },
   {
    "duration": 90,
    "start_time": "2021-12-02T13:41:39.687Z"
   },
   {
    "duration": 81,
    "start_time": "2021-12-02T13:47:10.127Z"
   },
   {
    "duration": 76,
    "start_time": "2021-12-02T13:47:42.809Z"
   },
   {
    "duration": 11,
    "start_time": "2021-12-02T13:52:47.571Z"
   },
   {
    "duration": 10,
    "start_time": "2021-12-02T13:53:08.032Z"
   },
   {
    "duration": 17,
    "start_time": "2021-12-02T13:53:49.876Z"
   },
   {
    "duration": 22,
    "start_time": "2021-12-02T13:54:30.678Z"
   },
   {
    "duration": 8,
    "start_time": "2021-12-02T14:03:16.553Z"
   },
   {
    "duration": 4,
    "start_time": "2021-12-02T14:06:52.410Z"
   },
   {
    "duration": 18,
    "start_time": "2021-12-02T14:07:02.959Z"
   },
   {
    "duration": 240,
    "start_time": "2021-12-02T14:12:16.822Z"
   },
   {
    "duration": 73,
    "start_time": "2021-12-02T14:12:39.841Z"
   },
   {
    "duration": 191,
    "start_time": "2021-12-02T14:36:50.155Z"
   },
   {
    "duration": 236,
    "start_time": "2021-12-02T14:36:54.071Z"
   },
   {
    "duration": 182,
    "start_time": "2021-12-02T14:37:05.726Z"
   },
   {
    "duration": 179,
    "start_time": "2021-12-02T14:37:08.586Z"
   },
   {
    "duration": 75,
    "start_time": "2021-12-02T14:37:22.155Z"
   },
   {
    "duration": 21,
    "start_time": "2021-12-02T14:37:27.397Z"
   },
   {
    "duration": 21,
    "start_time": "2021-12-02T14:37:29.773Z"
   },
   {
    "duration": 20,
    "start_time": "2021-12-02T14:38:41.780Z"
   },
   {
    "duration": 23,
    "start_time": "2021-12-02T14:42:47.985Z"
   },
   {
    "duration": 20,
    "start_time": "2021-12-02T14:50:18.004Z"
   },
   {
    "duration": 20,
    "start_time": "2021-12-02T14:52:17.974Z"
   },
   {
    "duration": 24,
    "start_time": "2021-12-02T14:52:41.525Z"
   },
   {
    "duration": 25,
    "start_time": "2021-12-02T14:52:59.809Z"
   },
   {
    "duration": 17,
    "start_time": "2021-12-02T14:57:37.084Z"
   },
   {
    "duration": 59,
    "start_time": "2021-12-02T14:58:15.619Z"
   },
   {
    "duration": 5,
    "start_time": "2021-12-02T14:58:22.208Z"
   },
   {
    "duration": 73,
    "start_time": "2021-12-02T15:20:43.277Z"
   },
   {
    "duration": 16,
    "start_time": "2021-12-02T15:24:05.834Z"
   },
   {
    "duration": 5,
    "start_time": "2021-12-02T15:24:17.575Z"
   },
   {
    "duration": 79,
    "start_time": "2021-12-02T15:33:30.232Z"
   },
   {
    "duration": 58,
    "start_time": "2021-12-02T15:37:25.568Z"
   },
   {
    "duration": 75,
    "start_time": "2021-12-02T15:37:30.167Z"
   },
   {
    "duration": 20,
    "start_time": "2021-12-02T15:37:33.698Z"
   },
   {
    "duration": 25,
    "start_time": "2021-12-02T15:37:36.991Z"
   },
   {
    "duration": 1066,
    "start_time": "2021-12-02T15:37:41.897Z"
   },
   {
    "duration": 316,
    "start_time": "2021-12-02T15:38:12.887Z"
   },
   {
    "duration": 302,
    "start_time": "2021-12-02T15:39:26.954Z"
   },
   {
    "duration": 343,
    "start_time": "2021-12-02T15:40:23.619Z"
   },
   {
    "duration": 283,
    "start_time": "2021-12-02T15:41:53.145Z"
   },
   {
    "duration": 23,
    "start_time": "2021-12-02T15:42:34.815Z"
   },
   {
    "duration": 23,
    "start_time": "2021-12-02T15:43:28.321Z"
   },
   {
    "duration": 37,
    "start_time": "2021-12-02T15:44:13.985Z"
   },
   {
    "duration": 241,
    "start_time": "2021-12-02T15:44:24.454Z"
   },
   {
    "duration": 33,
    "start_time": "2021-12-02T15:44:30.672Z"
   },
   {
    "duration": 24,
    "start_time": "2021-12-02T15:44:50.181Z"
   },
   {
    "duration": 24,
    "start_time": "2021-12-02T15:45:11.648Z"
   },
   {
    "duration": 26,
    "start_time": "2021-12-02T15:46:24.432Z"
   },
   {
    "duration": 24,
    "start_time": "2021-12-02T15:47:00.267Z"
   },
   {
    "duration": 12,
    "start_time": "2021-12-02T15:55:04.634Z"
   },
   {
    "duration": 72,
    "start_time": "2021-12-02T15:55:11.888Z"
   },
   {
    "duration": 10,
    "start_time": "2021-12-02T15:55:15.210Z"
   },
   {
    "duration": 82,
    "start_time": "2021-12-02T15:55:34.472Z"
   },
   {
    "duration": 193,
    "start_time": "2021-12-02T16:04:08.098Z"
   },
   {
    "duration": 215,
    "start_time": "2021-12-02T16:04:23.011Z"
   },
   {
    "duration": 85,
    "start_time": "2021-12-02T16:05:35.331Z"
   },
   {
    "duration": 83,
    "start_time": "2021-12-02T16:05:44.508Z"
   },
   {
    "duration": 88,
    "start_time": "2021-12-02T16:05:52.685Z"
   },
   {
    "duration": 89,
    "start_time": "2021-12-02T16:06:44.428Z"
   },
   {
    "duration": 87,
    "start_time": "2021-12-02T16:07:29.729Z"
   },
   {
    "duration": 100,
    "start_time": "2021-12-02T16:09:33.703Z"
   },
   {
    "duration": 84,
    "start_time": "2021-12-02T16:10:38.809Z"
   },
   {
    "duration": 192,
    "start_time": "2021-12-02T16:15:31.496Z"
   },
   {
    "duration": 82,
    "start_time": "2021-12-02T16:21:11.036Z"
   },
   {
    "duration": 89,
    "start_time": "2021-12-02T16:21:47.573Z"
   },
   {
    "duration": 93,
    "start_time": "2021-12-02T16:22:08.145Z"
   },
   {
    "duration": 83,
    "start_time": "2021-12-02T16:23:25.747Z"
   },
   {
    "duration": 77,
    "start_time": "2021-12-02T16:24:11.497Z"
   },
   {
    "duration": 91,
    "start_time": "2021-12-02T16:24:24.933Z"
   },
   {
    "duration": 76,
    "start_time": "2021-12-02T16:25:47.466Z"
   },
   {
    "duration": 9,
    "start_time": "2021-12-02T16:25:54.933Z"
   },
   {
    "duration": 179,
    "start_time": "2021-12-02T16:25:57.352Z"
   },
   {
    "duration": 184,
    "start_time": "2021-12-02T16:26:01.988Z"
   },
   {
    "duration": 181,
    "start_time": "2021-12-02T16:26:07.363Z"
   },
   {
    "duration": 85,
    "start_time": "2021-12-02T16:26:18.172Z"
   },
   {
    "duration": 22,
    "start_time": "2021-12-02T16:26:22.140Z"
   },
   {
    "duration": 9,
    "start_time": "2021-12-02T16:26:24.841Z"
   },
   {
    "duration": 25,
    "start_time": "2021-12-02T16:26:37.079Z"
   },
   {
    "duration": 4892,
    "start_time": "2021-12-02T16:27:23.439Z"
   },
   {
    "duration": 80,
    "start_time": "2021-12-02T16:27:42.939Z"
   },
   {
    "duration": 74,
    "start_time": "2021-12-02T16:27:52.341Z"
   },
   {
    "duration": 24,
    "start_time": "2021-12-02T16:34:20.595Z"
   },
   {
    "duration": 27,
    "start_time": "2021-12-02T16:37:06.230Z"
   },
   {
    "duration": 26,
    "start_time": "2021-12-02T16:37:20.783Z"
   },
   {
    "duration": 25,
    "start_time": "2021-12-02T16:37:32.988Z"
   },
   {
    "duration": 27,
    "start_time": "2021-12-02T16:37:36.291Z"
   },
   {
    "duration": 27,
    "start_time": "2021-12-02T16:37:48.789Z"
   },
   {
    "duration": 24,
    "start_time": "2021-12-02T16:41:26.521Z"
   },
   {
    "duration": 26,
    "start_time": "2021-12-02T16:42:17.303Z"
   },
   {
    "duration": 25,
    "start_time": "2021-12-02T16:42:20.881Z"
   },
   {
    "duration": 24,
    "start_time": "2021-12-02T16:43:11.613Z"
   },
   {
    "duration": 23,
    "start_time": "2021-12-02T16:43:22.091Z"
   },
   {
    "duration": 27,
    "start_time": "2021-12-02T16:43:27.805Z"
   },
   {
    "duration": 815,
    "start_time": "2021-12-03T09:24:06.931Z"
   },
   {
    "duration": 79,
    "start_time": "2021-12-03T09:25:02.784Z"
   },
   {
    "duration": 22,
    "start_time": "2021-12-03T09:25:52.231Z"
   },
   {
    "duration": 16,
    "start_time": "2021-12-03T09:25:59.885Z"
   },
   {
    "duration": 82,
    "start_time": "2021-12-03T09:26:03.830Z"
   },
   {
    "duration": 17,
    "start_time": "2021-12-03T09:26:07.664Z"
   },
   {
    "duration": 411,
    "start_time": "2021-12-03T09:28:42.281Z"
   },
   {
    "duration": 25,
    "start_time": "2021-12-03T09:29:11.139Z"
   },
   {
    "duration": 17,
    "start_time": "2021-12-03T09:29:42.710Z"
   },
   {
    "duration": 21,
    "start_time": "2021-12-03T09:30:05.165Z"
   },
   {
    "duration": 19,
    "start_time": "2021-12-03T09:30:29.280Z"
   },
   {
    "duration": 18,
    "start_time": "2021-12-03T09:31:06.880Z"
   },
   {
    "duration": 18,
    "start_time": "2021-12-03T09:31:10.095Z"
   },
   {
    "duration": 29,
    "start_time": "2021-12-03T09:40:05.970Z"
   },
   {
    "duration": 391,
    "start_time": "2021-12-03T09:40:34.929Z"
   },
   {
    "duration": 27,
    "start_time": "2021-12-03T09:41:05.736Z"
   },
   {
    "duration": 38,
    "start_time": "2021-12-03T09:42:16.021Z"
   },
   {
    "duration": 36,
    "start_time": "2021-12-03T09:42:37.955Z"
   },
   {
    "duration": 45,
    "start_time": "2021-12-03T09:42:54.816Z"
   },
   {
    "duration": 45,
    "start_time": "2021-12-03T09:47:22.391Z"
   },
   {
    "duration": 51,
    "start_time": "2021-12-03T09:49:07.264Z"
   },
   {
    "duration": 388,
    "start_time": "2021-12-03T09:49:29.377Z"
   },
   {
    "duration": 48,
    "start_time": "2021-12-03T09:49:48.886Z"
   },
   {
    "duration": 659,
    "start_time": "2021-12-03T09:50:15.376Z"
   },
   {
    "duration": 346,
    "start_time": "2021-12-03T09:51:25.100Z"
   },
   {
    "duration": 366,
    "start_time": "2021-12-03T09:57:17.254Z"
   },
   {
    "duration": 357,
    "start_time": "2021-12-03T09:58:35.518Z"
   },
   {
    "duration": 382,
    "start_time": "2021-12-03T09:59:02.223Z"
   },
   {
    "duration": 29,
    "start_time": "2021-12-03T09:59:07.024Z"
   },
   {
    "duration": 374,
    "start_time": "2021-12-03T09:59:09.556Z"
   },
   {
    "duration": 330,
    "start_time": "2021-12-03T09:59:38.576Z"
   },
   {
    "duration": 15,
    "start_time": "2021-12-03T10:00:27.948Z"
   },
   {
    "duration": 16,
    "start_time": "2021-12-03T10:00:30.236Z"
   },
   {
    "duration": 111,
    "start_time": "2021-12-03T10:01:41.714Z"
   },
   {
    "duration": 19,
    "start_time": "2021-12-03T10:01:46.376Z"
   },
   {
    "duration": 20,
    "start_time": "2021-12-03T10:01:50.013Z"
   },
   {
    "duration": 22,
    "start_time": "2021-12-03T10:02:09.277Z"
   },
   {
    "duration": 47,
    "start_time": "2021-12-03T10:02:26.269Z"
   },
   {
    "duration": 52,
    "start_time": "2021-12-03T10:04:14.011Z"
   },
   {
    "duration": 35,
    "start_time": "2021-12-03T10:08:27.102Z"
   },
   {
    "duration": 35,
    "start_time": "2021-12-03T10:08:44.307Z"
   },
   {
    "duration": 30,
    "start_time": "2021-12-03T10:09:26.047Z"
   },
   {
    "duration": 30,
    "start_time": "2021-12-03T10:09:49.021Z"
   },
   {
    "duration": 35,
    "start_time": "2021-12-03T10:11:23.240Z"
   },
   {
    "duration": 37,
    "start_time": "2021-12-03T10:12:37.997Z"
   },
   {
    "duration": 113,
    "start_time": "2021-12-03T10:15:02.283Z"
   },
   {
    "duration": 65,
    "start_time": "2021-12-03T10:15:09.562Z"
   },
   {
    "duration": 319,
    "start_time": "2021-12-03T10:16:34.036Z"
   },
   {
    "duration": 373,
    "start_time": "2021-12-03T10:18:20.835Z"
   },
   {
    "duration": 350,
    "start_time": "2021-12-03T10:20:55.464Z"
   },
   {
    "duration": 708,
    "start_time": "2021-12-03T10:23:04.254Z"
   },
   {
    "duration": 1387,
    "start_time": "2021-12-03T10:23:32.584Z"
   },
   {
    "duration": 356,
    "start_time": "2021-12-03T10:38:12.768Z"
   },
   {
    "duration": 47,
    "start_time": "2021-12-03T10:38:19.865Z"
   },
   {
    "duration": 401,
    "start_time": "2021-12-03T10:39:58.797Z"
   },
   {
    "duration": 65,
    "start_time": "2021-12-03T10:40:08.926Z"
   },
   {
    "duration": 73,
    "start_time": "2021-12-03T10:40:16.246Z"
   },
   {
    "duration": 76,
    "start_time": "2021-12-03T10:48:39.881Z"
   },
   {
    "duration": 72,
    "start_time": "2021-12-03T10:48:55.612Z"
   },
   {
    "duration": 90,
    "start_time": "2021-12-03T10:50:05.262Z"
   },
   {
    "duration": 92,
    "start_time": "2021-12-03T10:50:17.748Z"
   },
   {
    "duration": 73,
    "start_time": "2021-12-03T10:50:29.853Z"
   },
   {
    "duration": 389,
    "start_time": "2021-12-03T11:10:43.704Z"
   },
   {
    "duration": 102,
    "start_time": "2021-12-03T11:11:25.649Z"
   },
   {
    "duration": 103,
    "start_time": "2021-12-03T11:11:33.305Z"
   },
   {
    "duration": 130,
    "start_time": "2021-12-03T11:13:29.168Z"
   },
   {
    "duration": 102,
    "start_time": "2021-12-03T11:13:40.376Z"
   },
   {
    "duration": 106,
    "start_time": "2021-12-03T11:13:46.319Z"
   },
   {
    "duration": 406,
    "start_time": "2021-12-03T11:18:11.814Z"
   },
   {
    "duration": 394,
    "start_time": "2021-12-03T11:18:18.932Z"
   },
   {
    "duration": 152,
    "start_time": "2021-12-03T11:18:31.877Z"
   },
   {
    "duration": 159,
    "start_time": "2021-12-03T11:18:38.227Z"
   },
   {
    "duration": 160,
    "start_time": "2021-12-03T11:18:40.678Z"
   },
   {
    "duration": 161,
    "start_time": "2021-12-03T11:19:12.763Z"
   },
   {
    "duration": 182,
    "start_time": "2021-12-03T11:21:48.641Z"
   },
   {
    "duration": 276,
    "start_time": "2021-12-03T11:21:53.611Z"
   },
   {
    "duration": 193,
    "start_time": "2021-12-03T11:23:12.190Z"
   },
   {
    "duration": 188,
    "start_time": "2021-12-03T11:23:18.276Z"
   },
   {
    "duration": 112,
    "start_time": "2021-12-03T11:26:39.258Z"
   },
   {
    "duration": 111,
    "start_time": "2021-12-03T11:26:49.134Z"
   },
   {
    "duration": 25,
    "start_time": "2021-12-03T11:26:59.793Z"
   },
   {
    "duration": 108,
    "start_time": "2021-12-03T11:27:06.735Z"
   },
   {
    "duration": 105,
    "start_time": "2021-12-03T11:27:20.810Z"
   },
   {
    "duration": 120,
    "start_time": "2021-12-03T11:27:31.207Z"
   },
   {
    "duration": 112,
    "start_time": "2021-12-03T11:34:00.600Z"
   },
   {
    "duration": 158,
    "start_time": "2021-12-03T11:34:52.510Z"
   },
   {
    "duration": 333,
    "start_time": "2021-12-03T11:35:06.434Z"
   },
   {
    "duration": 186,
    "start_time": "2021-12-03T11:37:02.439Z"
   },
   {
    "duration": 190,
    "start_time": "2021-12-03T11:37:14.925Z"
   },
   {
    "duration": 182,
    "start_time": "2021-12-03T11:37:50.746Z"
   },
   {
    "duration": 181,
    "start_time": "2021-12-03T11:37:56.483Z"
   },
   {
    "duration": 182,
    "start_time": "2021-12-03T11:38:18.024Z"
   },
   {
    "duration": 190,
    "start_time": "2021-12-03T11:38:58.303Z"
   },
   {
    "duration": 180,
    "start_time": "2021-12-03T11:39:16.945Z"
   },
   {
    "duration": 408,
    "start_time": "2021-12-03T11:40:56.418Z"
   },
   {
    "duration": 181,
    "start_time": "2021-12-03T11:41:30.224Z"
   },
   {
    "duration": 176,
    "start_time": "2021-12-03T11:41:41.602Z"
   },
   {
    "duration": 187,
    "start_time": "2021-12-03T11:42:19.414Z"
   },
   {
    "duration": 77,
    "start_time": "2021-12-03T11:42:25.580Z"
   },
   {
    "duration": 22,
    "start_time": "2021-12-03T11:42:28.961Z"
   },
   {
    "duration": 25,
    "start_time": "2021-12-03T11:42:31.673Z"
   },
   {
    "duration": 175,
    "start_time": "2021-12-03T11:42:36.357Z"
   },
   {
    "duration": 177,
    "start_time": "2021-12-03T11:42:48.969Z"
   },
   {
    "duration": 368,
    "start_time": "2021-12-03T11:46:24.113Z"
   },
   {
    "duration": 181,
    "start_time": "2021-12-03T11:48:01.736Z"
   },
   {
    "duration": 182,
    "start_time": "2021-12-03T11:48:13.242Z"
   },
   {
    "duration": 367,
    "start_time": "2021-12-03T11:49:16.487Z"
   },
   {
    "duration": 174,
    "start_time": "2021-12-03T11:49:57.641Z"
   },
   {
    "duration": 180,
    "start_time": "2021-12-03T11:54:18.166Z"
   },
   {
    "duration": 176,
    "start_time": "2021-12-03T11:54:24.574Z"
   },
   {
    "duration": 154,
    "start_time": "2021-12-03T12:34:10.115Z"
   },
   {
    "duration": 77,
    "start_time": "2021-12-03T12:34:18.764Z"
   },
   {
    "duration": 22,
    "start_time": "2021-12-03T12:34:22.028Z"
   },
   {
    "duration": 27,
    "start_time": "2021-12-03T12:34:23.925Z"
   },
   {
    "duration": 118,
    "start_time": "2021-12-03T12:34:26.503Z"
   },
   {
    "duration": 73,
    "start_time": "2021-12-03T12:34:34.877Z"
   },
   {
    "duration": 428,
    "start_time": "2021-12-03T12:35:59.937Z"
   },
   {
    "duration": 314,
    "start_time": "2021-12-03T12:36:05.430Z"
   },
   {
    "duration": 373,
    "start_time": "2021-12-03T12:36:20.441Z"
   },
   {
    "duration": 331,
    "start_time": "2021-12-03T12:37:17.111Z"
   },
   {
    "duration": 326,
    "start_time": "2021-12-03T12:44:26.664Z"
   },
   {
    "duration": 331,
    "start_time": "2021-12-03T12:48:06.164Z"
   },
   {
    "duration": 325,
    "start_time": "2021-12-03T12:49:45.104Z"
   },
   {
    "duration": 318,
    "start_time": "2021-12-03T12:52:11.843Z"
   },
   {
    "duration": 294,
    "start_time": "2021-12-03T14:48:30.172Z"
   },
   {
    "duration": 107,
    "start_time": "2021-12-03T14:48:38.464Z"
   },
   {
    "duration": 121,
    "start_time": "2021-12-03T14:48:55.932Z"
   },
   {
    "duration": 333,
    "start_time": "2021-12-03T14:49:03.890Z"
   },
   {
    "duration": 313,
    "start_time": "2021-12-03T14:50:16.031Z"
   },
   {
    "duration": 322,
    "start_time": "2021-12-03T14:51:39.373Z"
   },
   {
    "duration": 309,
    "start_time": "2021-12-03T14:54:32.890Z"
   },
   {
    "duration": 454,
    "start_time": "2021-12-03T14:56:21.386Z"
   },
   {
    "duration": 312,
    "start_time": "2021-12-03T14:58:41.665Z"
   },
   {
    "duration": 328,
    "start_time": "2021-12-03T14:58:44.443Z"
   },
   {
    "duration": 314,
    "start_time": "2021-12-03T14:58:53.961Z"
   },
   {
    "duration": 319,
    "start_time": "2021-12-03T14:59:45.008Z"
   },
   {
    "duration": 315,
    "start_time": "2021-12-03T15:00:41.895Z"
   },
   {
    "duration": 334,
    "start_time": "2021-12-03T15:06:03.702Z"
   },
   {
    "duration": 7,
    "start_time": "2021-12-03T15:07:27.592Z"
   },
   {
    "duration": 318,
    "start_time": "2021-12-03T15:10:47.785Z"
   },
   {
    "duration": 7,
    "start_time": "2021-12-03T15:12:35.409Z"
   },
   {
    "duration": 672,
    "start_time": "2021-12-03T15:12:50.512Z"
   },
   {
    "duration": 699,
    "start_time": "2021-12-03T15:12:58.429Z"
   },
   {
    "duration": 693,
    "start_time": "2021-12-03T15:14:57.888Z"
   },
   {
    "duration": 698,
    "start_time": "2021-12-04T10:44:05.964Z"
   },
   {
    "duration": 23,
    "start_time": "2021-12-04T10:44:09.522Z"
   },
   {
    "duration": 28,
    "start_time": "2021-12-04T10:44:13.272Z"
   },
   {
    "duration": 71,
    "start_time": "2021-12-04T10:44:17.196Z"
   },
   {
    "duration": 682,
    "start_time": "2021-12-04T10:44:20.771Z"
   },
   {
    "duration": 81,
    "start_time": "2021-12-04T10:45:18.692Z"
   },
   {
    "duration": 53450,
    "start_time": "2021-12-04T10:55:42.364Z"
   },
   {
    "duration": 1843,
    "start_time": "2021-12-04T10:58:23.403Z"
   },
   {
    "duration": 53633,
    "start_time": "2021-12-04T11:06:28.796Z"
   },
   {
    "duration": 1841,
    "start_time": "2021-12-04T11:07:44.567Z"
   },
   {
    "duration": 1582,
    "start_time": "2021-12-04T11:08:13.479Z"
   },
   {
    "duration": 1716,
    "start_time": "2021-12-04T11:08:19.758Z"
   },
   {
    "duration": 52929,
    "start_time": "2021-12-04T11:10:19.545Z"
   },
   {
    "duration": 927,
    "start_time": "2021-12-04T11:23:22.887Z"
   },
   {
    "duration": 261,
    "start_time": "2021-12-04T11:30:21.642Z"
   },
   {
    "duration": 908,
    "start_time": "2021-12-04T11:30:27.757Z"
   },
   {
    "duration": 978,
    "start_time": "2021-12-04T11:30:39.068Z"
   },
   {
    "duration": 946,
    "start_time": "2021-12-04T11:31:02.283Z"
   },
   {
    "duration": 938,
    "start_time": "2021-12-04T11:31:06.311Z"
   },
   {
    "duration": 956,
    "start_time": "2021-12-04T11:31:09.297Z"
   },
   {
    "duration": 4480,
    "start_time": "2021-12-04T11:39:18.254Z"
   },
   {
    "duration": 4379,
    "start_time": "2021-12-04T11:40:10.590Z"
   },
   {
    "duration": 4339,
    "start_time": "2021-12-04T11:40:31.374Z"
   },
   {
    "duration": 27,
    "start_time": "2021-12-04T11:49:10.055Z"
   },
   {
    "duration": 28,
    "start_time": "2021-12-04T11:49:36.624Z"
   },
   {
    "duration": 29,
    "start_time": "2021-12-04T11:49:44.048Z"
   },
   {
    "duration": 35,
    "start_time": "2021-12-04T11:49:53.918Z"
   },
   {
    "duration": 25,
    "start_time": "2021-12-04T11:50:11.932Z"
   },
   {
    "duration": 37,
    "start_time": "2021-12-04T11:50:18.348Z"
   },
   {
    "duration": 26,
    "start_time": "2021-12-04T11:50:30.007Z"
   },
   {
    "duration": 76,
    "start_time": "2021-12-04T11:50:33.135Z"
   },
   {
    "duration": 5175,
    "start_time": "2021-12-04T11:50:35.394Z"
   },
   {
    "duration": 4531,
    "start_time": "2021-12-04T11:50:46.653Z"
   },
   {
    "duration": 12,
    "start_time": "2021-12-04T12:30:28.223Z"
   },
   {
    "duration": 10,
    "start_time": "2021-12-04T12:31:26.094Z"
   },
   {
    "duration": 9,
    "start_time": "2021-12-04T12:31:48.351Z"
   },
   {
    "duration": 12,
    "start_time": "2021-12-04T12:32:04.918Z"
   },
   {
    "duration": 282,
    "start_time": "2021-12-04T12:34:56.531Z"
   },
   {
    "duration": 5,
    "start_time": "2021-12-04T12:35:01.812Z"
   },
   {
    "duration": 228,
    "start_time": "2021-12-04T12:35:39.305Z"
   },
   {
    "duration": 8,
    "start_time": "2021-12-04T12:35:43.552Z"
   },
   {
    "duration": 8,
    "start_time": "2021-12-04T12:44:31.883Z"
   },
   {
    "duration": 79,
    "start_time": "2021-12-04T12:44:39.871Z"
   },
   {
    "duration": 22,
    "start_time": "2021-12-04T12:44:43.529Z"
   },
   {
    "duration": 28,
    "start_time": "2021-12-04T12:44:47.028Z"
   },
   {
    "duration": 50,
    "start_time": "2021-12-04T12:44:49.926Z"
   },
   {
    "duration": 4401,
    "start_time": "2021-12-04T12:44:52.313Z"
   },
   {
    "duration": 9,
    "start_time": "2021-12-04T12:45:01.366Z"
   },
   {
    "duration": 15,
    "start_time": "2021-12-04T12:47:49.031Z"
   },
   {
    "duration": 34,
    "start_time": "2021-12-04T12:47:55.440Z"
   },
   {
    "duration": 16,
    "start_time": "2021-12-04T12:48:22.375Z"
   },
   {
    "duration": 274,
    "start_time": "2021-12-04T12:49:01.033Z"
   },
   {
    "duration": 16,
    "start_time": "2021-12-04T12:49:07.833Z"
   },
   {
    "duration": 240,
    "start_time": "2021-12-04T12:49:21.576Z"
   },
   {
    "duration": 74,
    "start_time": "2021-12-04T12:49:59.617Z"
   },
   {
    "duration": 10,
    "start_time": "2021-12-04T12:50:03.478Z"
   },
   {
    "duration": 231,
    "start_time": "2021-12-04T12:50:24.729Z"
   },
   {
    "duration": 13,
    "start_time": "2021-12-04T12:50:28.126Z"
   },
   {
    "duration": 12,
    "start_time": "2021-12-04T12:52:57.224Z"
   },
   {
    "duration": 5742,
    "start_time": "2021-12-04T12:53:26.901Z"
   },
   {
    "duration": 13,
    "start_time": "2021-12-04T12:53:39.837Z"
   },
   {
    "duration": 21,
    "start_time": "2021-12-04T12:54:00.778Z"
   },
   {
    "duration": 78,
    "start_time": "2021-12-04T12:55:29.473Z"
   },
   {
    "duration": 12,
    "start_time": "2021-12-04T12:55:32.158Z"
   },
   {
    "duration": 20,
    "start_time": "2021-12-04T12:56:06.775Z"
   },
   {
    "duration": 21,
    "start_time": "2021-12-04T13:52:01.334Z"
   },
   {
    "duration": 19,
    "start_time": "2021-12-04T13:52:48.959Z"
   },
   {
    "duration": 14,
    "start_time": "2021-12-04T13:53:04.571Z"
   },
   {
    "duration": 13,
    "start_time": "2021-12-04T13:53:15.807Z"
   },
   {
    "duration": 10,
    "start_time": "2021-12-04T13:53:45.942Z"
   },
   {
    "duration": 14,
    "start_time": "2021-12-04T13:54:35.568Z"
   },
   {
    "duration": 4594,
    "start_time": "2021-12-04T13:54:41.788Z"
   },
   {
    "duration": 13,
    "start_time": "2021-12-04T13:54:52.169Z"
   },
   {
    "duration": 10,
    "start_time": "2021-12-04T14:09:21.551Z"
   },
   {
    "duration": 15,
    "start_time": "2021-12-04T14:10:04.756Z"
   },
   {
    "duration": 20,
    "start_time": "2021-12-04T14:10:41.201Z"
   },
   {
    "duration": 23,
    "start_time": "2021-12-04T14:12:08.711Z"
   },
   {
    "duration": 27,
    "start_time": "2021-12-04T14:12:40.061Z"
   },
   {
    "duration": 3,
    "start_time": "2021-12-04T14:14:06.786Z"
   },
   {
    "duration": 4,
    "start_time": "2021-12-04T14:14:17.332Z"
   },
   {
    "duration": 12,
    "start_time": "2021-12-04T14:15:02.335Z"
   },
   {
    "duration": 261,
    "start_time": "2021-12-04T14:25:39.492Z"
   },
   {
    "duration": 250,
    "start_time": "2021-12-04T14:26:57.279Z"
   },
   {
    "duration": 237,
    "start_time": "2021-12-04T14:27:47.189Z"
   },
   {
    "duration": 237,
    "start_time": "2021-12-04T14:28:01.381Z"
   },
   {
    "duration": 682,
    "start_time": "2021-12-05T16:51:17.097Z"
   },
   {
    "duration": 29,
    "start_time": "2021-12-05T16:52:18.166Z"
   },
   {
    "duration": 40,
    "start_time": "2021-12-05T16:53:06.590Z"
   },
   {
    "duration": 368,
    "start_time": "2021-12-05T16:55:25.460Z"
   },
   {
    "duration": 70,
    "start_time": "2021-12-05T16:56:03.304Z"
   },
   {
    "duration": 89,
    "start_time": "2021-12-05T16:56:11.745Z"
   },
   {
    "duration": 92,
    "start_time": "2021-12-05T16:56:19.726Z"
   },
   {
    "duration": 55,
    "start_time": "2021-12-05T16:58:13.466Z"
   },
   {
    "duration": 302,
    "start_time": "2021-12-05T16:59:39.304Z"
   },
   {
    "duration": 75,
    "start_time": "2021-12-05T17:00:05.834Z"
   },
   {
    "duration": 78,
    "start_time": "2021-12-05T17:00:27.811Z"
   },
   {
    "duration": 283,
    "start_time": "2021-12-05T17:00:43.047Z"
   },
   {
    "duration": 77,
    "start_time": "2021-12-05T17:00:59.098Z"
   },
   {
    "duration": 103,
    "start_time": "2021-12-05T17:02:04.341Z"
   },
   {
    "duration": 116,
    "start_time": "2021-12-05T17:02:16.108Z"
   },
   {
    "duration": 5090,
    "start_time": "2021-12-05T17:08:18.761Z"
   },
   {
    "duration": 661,
    "start_time": "2021-12-05T17:13:45.718Z"
   },
   {
    "duration": 682,
    "start_time": "2021-12-05T17:14:13.675Z"
   },
   {
    "duration": 93,
    "start_time": "2021-12-05T17:14:33.327Z"
   },
   {
    "duration": 22,
    "start_time": "2021-12-05T17:14:36.615Z"
   },
   {
    "duration": 287,
    "start_time": "2021-12-05T17:14:50.789Z"
   },
   {
    "duration": 26,
    "start_time": "2021-12-05T17:14:58.558Z"
   },
   {
    "duration": 282,
    "start_time": "2021-12-05T17:17:54.276Z"
   },
   {
    "duration": 24,
    "start_time": "2021-12-05T17:18:07.024Z"
   },
   {
    "duration": 2,
    "start_time": "2021-12-05T17:23:25.808Z"
   },
   {
    "duration": 283,
    "start_time": "2021-12-05T17:23:39.599Z"
   },
   {
    "duration": 3,
    "start_time": "2021-12-05T17:23:48.726Z"
   },
   {
    "duration": 9,
    "start_time": "2021-12-05T17:23:53.242Z"
   },
   {
    "duration": 109,
    "start_time": "2021-12-05T17:25:32.746Z"
   },
   {
    "duration": 292,
    "start_time": "2021-12-05T17:25:45.471Z"
   },
   {
    "duration": 278,
    "start_time": "2021-12-05T17:25:54.360Z"
   },
   {
    "duration": 31,
    "start_time": "2021-12-05T17:26:05.724Z"
   },
   {
    "duration": 264,
    "start_time": "2021-12-05T17:28:34.485Z"
   },
   {
    "duration": 4,
    "start_time": "2021-12-05T17:33:49.609Z"
   },
   {
    "duration": 19,
    "start_time": "2021-12-05T17:34:31.798Z"
   },
   {
    "duration": 79,
    "start_time": "2021-12-05T17:35:22.438Z"
   },
   {
    "duration": 25,
    "start_time": "2021-12-05T17:35:25.734Z"
   },
   {
    "duration": 86,
    "start_time": "2021-12-05T17:35:31.914Z"
   },
   {
    "duration": 4551,
    "start_time": "2021-12-05T17:35:36.071Z"
   },
   {
    "duration": 28,
    "start_time": "2021-12-05T17:35:55.863Z"
   },
   {
    "duration": 89,
    "start_time": "2021-12-05T17:36:04.477Z"
   },
   {
    "duration": 4455,
    "start_time": "2021-12-05T17:36:09.479Z"
   },
   {
    "duration": 76,
    "start_time": "2021-12-05T17:38:56.373Z"
   },
   {
    "duration": 4576,
    "start_time": "2021-12-05T17:39:00.658Z"
   },
   {
    "duration": 5,
    "start_time": "2021-12-05T17:41:18.592Z"
   },
   {
    "duration": 6,
    "start_time": "2021-12-05T17:41:27.652Z"
   },
   {
    "duration": 6,
    "start_time": "2021-12-05T17:46:04.491Z"
   },
   {
    "duration": 5,
    "start_time": "2021-12-05T17:46:12.854Z"
   },
   {
    "duration": 5,
    "start_time": "2021-12-05T17:46:24.987Z"
   },
   {
    "duration": 320,
    "start_time": "2021-12-05T17:46:39.580Z"
   },
   {
    "duration": 6,
    "start_time": "2021-12-05T17:46:49.577Z"
   },
   {
    "duration": 5,
    "start_time": "2021-12-05T17:48:42.917Z"
   },
   {
    "duration": 8,
    "start_time": "2021-12-05T17:48:53.800Z"
   },
   {
    "duration": 10,
    "start_time": "2021-12-05T17:49:57.735Z"
   },
   {
    "duration": 11,
    "start_time": "2021-12-05T17:51:12.188Z"
   },
   {
    "duration": 123,
    "start_time": "2021-12-05T18:00:59.606Z"
   },
   {
    "duration": 958,
    "start_time": "2021-12-05T18:01:04.125Z"
   },
   {
    "duration": 15,
    "start_time": "2021-12-05T18:01:38.641Z"
   },
   {
    "duration": 7,
    "start_time": "2021-12-05T18:09:50.161Z"
   },
   {
    "duration": 323,
    "start_time": "2021-12-05T19:47:43.159Z"
   },
   {
    "duration": 823,
    "start_time": "2021-12-05T19:47:48.425Z"
   },
   {
    "duration": 27,
    "start_time": "2021-12-05T19:47:52.844Z"
   },
   {
    "duration": 43,
    "start_time": "2021-12-05T19:47:55.821Z"
   },
   {
    "duration": 216,
    "start_time": "2021-12-05T19:48:00.686Z"
   },
   {
    "duration": 6304,
    "start_time": "2021-12-05T19:48:04.582Z"
   },
   {
    "duration": 41,
    "start_time": "2021-12-05T19:48:15.399Z"
   },
   {
    "duration": 23,
    "start_time": "2021-12-05T19:48:21.628Z"
   },
   {
    "duration": 29,
    "start_time": "2021-12-05T19:48:28.553Z"
   },
   {
    "duration": 21,
    "start_time": "2021-12-05T19:48:46.241Z"
   },
   {
    "duration": 19,
    "start_time": "2021-12-05T19:48:54.753Z"
   },
   {
    "duration": 41,
    "start_time": "2021-12-05T19:49:01.864Z"
   },
   {
    "duration": 24,
    "start_time": "2021-12-05T19:49:36.223Z"
   },
   {
    "duration": 18,
    "start_time": "2021-12-05T19:49:54.255Z"
   },
   {
    "duration": 106,
    "start_time": "2021-12-05T19:50:20.094Z"
   },
   {
    "duration": 159,
    "start_time": "2021-12-05T19:50:31.398Z"
   },
   {
    "duration": 356,
    "start_time": "2021-12-05T19:50:38.848Z"
   },
   {
    "duration": 105,
    "start_time": "2021-12-05T19:51:46.978Z"
   },
   {
    "duration": 18,
    "start_time": "2021-12-05T19:51:51.808Z"
   },
   {
    "duration": 17,
    "start_time": "2021-12-05T19:52:04.504Z"
   },
   {
    "duration": 17,
    "start_time": "2021-12-05T19:52:11.474Z"
   },
   {
    "duration": 21,
    "start_time": "2021-12-05T19:52:18.214Z"
   },
   {
    "duration": 20,
    "start_time": "2021-12-05T19:52:22.575Z"
   },
   {
    "duration": 19,
    "start_time": "2021-12-05T19:52:27.032Z"
   },
   {
    "duration": 17,
    "start_time": "2021-12-05T19:53:00.673Z"
   },
   {
    "duration": 32,
    "start_time": "2021-12-05T19:58:37.125Z"
   },
   {
    "duration": 28,
    "start_time": "2021-12-05T19:58:52.704Z"
   },
   {
    "duration": 34,
    "start_time": "2021-12-05T19:59:34.771Z"
   },
   {
    "duration": 31,
    "start_time": "2021-12-05T20:00:04.976Z"
   },
   {
    "duration": 32,
    "start_time": "2021-12-05T20:00:16.169Z"
   },
   {
    "duration": 108,
    "start_time": "2021-12-05T20:00:24.362Z"
   },
   {
    "duration": 30,
    "start_time": "2021-12-05T20:00:29.544Z"
   },
   {
    "duration": 47,
    "start_time": "2021-12-05T20:00:34.012Z"
   },
   {
    "duration": 396,
    "start_time": "2021-12-05T20:00:54.902Z"
   },
   {
    "duration": 39,
    "start_time": "2021-12-05T20:01:15.075Z"
   },
   {
    "duration": 102,
    "start_time": "2021-12-05T20:01:45.295Z"
   },
   {
    "duration": 56,
    "start_time": "2021-12-05T20:01:50.529Z"
   },
   {
    "duration": 41,
    "start_time": "2021-12-05T20:02:13.682Z"
   },
   {
    "duration": 40,
    "start_time": "2021-12-05T20:02:31.739Z"
   },
   {
    "duration": 60,
    "start_time": "2021-12-05T20:03:09.207Z"
   },
   {
    "duration": 36,
    "start_time": "2021-12-05T20:06:52.509Z"
   },
   {
    "duration": 365,
    "start_time": "2021-12-05T20:07:55.443Z"
   },
   {
    "duration": 306,
    "start_time": "2021-12-05T20:10:50.612Z"
   },
   {
    "duration": 272,
    "start_time": "2021-12-05T20:15:14.697Z"
   },
   {
    "duration": 52,
    "start_time": "2021-12-05T20:15:21.820Z"
   },
   {
    "duration": 59,
    "start_time": "2021-12-05T20:15:31.985Z"
   },
   {
    "duration": 55,
    "start_time": "2021-12-05T20:16:07.734Z"
   },
   {
    "duration": 58,
    "start_time": "2021-12-05T20:17:55.175Z"
   },
   {
    "duration": 57,
    "start_time": "2021-12-05T20:23:29.113Z"
   },
   {
    "duration": 137,
    "start_time": "2021-12-05T20:24:03.522Z"
   },
   {
    "duration": 161,
    "start_time": "2021-12-05T20:24:20.961Z"
   },
   {
    "duration": 54,
    "start_time": "2021-12-05T20:25:11.723Z"
   },
   {
    "duration": 59,
    "start_time": "2021-12-05T20:26:16.045Z"
   },
   {
    "duration": 45,
    "start_time": "2021-12-05T20:26:24.215Z"
   },
   {
    "duration": 44,
    "start_time": "2021-12-05T20:26:41.993Z"
   },
   {
    "duration": 42,
    "start_time": "2021-12-05T20:26:53.837Z"
   },
   {
    "duration": 6890,
    "start_time": "2021-12-05T20:28:26.734Z"
   },
   {
    "duration": 313,
    "start_time": "2021-12-05T20:28:53.156Z"
   },
   {
    "duration": 65,
    "start_time": "2021-12-05T20:29:08.024Z"
   },
   {
    "duration": 76,
    "start_time": "2021-12-05T20:30:02.819Z"
   },
   {
    "duration": 107,
    "start_time": "2021-12-05T20:31:47.841Z"
   },
   {
    "duration": 40,
    "start_time": "2021-12-05T20:31:57.980Z"
   },
   {
    "duration": 38,
    "start_time": "2021-12-05T20:32:02.011Z"
   },
   {
    "duration": 106,
    "start_time": "2021-12-05T20:32:05.897Z"
   },
   {
    "duration": 6680,
    "start_time": "2021-12-05T20:32:10.153Z"
   },
   {
    "duration": 78,
    "start_time": "2021-12-05T20:32:16.837Z"
   },
   {
    "duration": 57,
    "start_time": "2021-12-05T20:32:21.245Z"
   },
   {
    "duration": 60,
    "start_time": "2021-12-05T20:32:35.401Z"
   },
   {
    "duration": 990,
    "start_time": "2021-12-06T05:01:51.938Z"
   },
   {
    "duration": 28,
    "start_time": "2021-12-06T05:01:59.874Z"
   },
   {
    "duration": 43,
    "start_time": "2021-12-06T05:02:04.435Z"
   },
   {
    "duration": 102,
    "start_time": "2021-12-06T05:02:08.530Z"
   },
   {
    "duration": 5648,
    "start_time": "2021-12-06T05:02:12.828Z"
   },
   {
    "duration": 39,
    "start_time": "2021-12-06T05:02:18.633Z"
   },
   {
    "duration": 59,
    "start_time": "2021-12-06T05:02:23.217Z"
   },
   {
    "duration": 60,
    "start_time": "2021-12-06T05:07:46.602Z"
   },
   {
    "duration": 49,
    "start_time": "2021-12-06T05:07:53.532Z"
   },
   {
    "duration": 51,
    "start_time": "2021-12-06T05:09:10.424Z"
   },
   {
    "duration": 955,
    "start_time": "2021-12-06T05:09:17.152Z"
   },
   {
    "duration": 52,
    "start_time": "2021-12-06T05:09:30.789Z"
   },
   {
    "duration": 181,
    "start_time": "2021-12-06T05:09:51.934Z"
   },
   {
    "duration": 264,
    "start_time": "2021-12-06T05:10:01.215Z"
   },
   {
    "duration": 43,
    "start_time": "2021-12-06T05:10:07.205Z"
   },
   {
    "duration": 709,
    "start_time": "2021-12-06T05:10:15.142Z"
   },
   {
    "duration": 49,
    "start_time": "2021-12-06T05:10:21.061Z"
   },
   {
    "duration": 47,
    "start_time": "2021-12-06T05:10:54.792Z"
   },
   {
    "duration": 47,
    "start_time": "2021-12-06T05:11:40.052Z"
   },
   {
    "duration": 49,
    "start_time": "2021-12-06T05:11:58.767Z"
   },
   {
    "duration": 41,
    "start_time": "2021-12-06T05:20:09.779Z"
   },
   {
    "duration": 403,
    "start_time": "2021-12-06T05:24:14.788Z"
   },
   {
    "duration": 47,
    "start_time": "2021-12-06T05:24:29.885Z"
   },
   {
    "duration": 46,
    "start_time": "2021-12-06T05:24:54.627Z"
   },
   {
    "duration": 41,
    "start_time": "2021-12-06T05:25:04.767Z"
   },
   {
    "duration": 116,
    "start_time": "2021-12-06T05:31:31.552Z"
   },
   {
    "duration": 107,
    "start_time": "2021-12-06T05:32:03.623Z"
   },
   {
    "duration": 13,
    "start_time": "2021-12-06T05:34:55.414Z"
   },
   {
    "duration": 28,
    "start_time": "2021-12-06T05:35:16.624Z"
   },
   {
    "duration": 127,
    "start_time": "2021-12-06T05:40:20.763Z"
   },
   {
    "duration": 372,
    "start_time": "2021-12-06T05:40:28.438Z"
   },
   {
    "duration": 35,
    "start_time": "2021-12-06T05:40:36.011Z"
   },
   {
    "duration": 33,
    "start_time": "2021-12-06T05:40:49.556Z"
   },
   {
    "duration": 23,
    "start_time": "2021-12-06T05:40:58.068Z"
   },
   {
    "duration": 19,
    "start_time": "2021-12-06T05:41:12.225Z"
   },
   {
    "duration": 19,
    "start_time": "2021-12-06T05:41:16.747Z"
   },
   {
    "duration": 18,
    "start_time": "2021-12-06T05:41:21.228Z"
   },
   {
    "duration": 19,
    "start_time": "2021-12-06T06:05:26.331Z"
   },
   {
    "duration": 17,
    "start_time": "2021-12-06T06:05:31.885Z"
   },
   {
    "duration": 19,
    "start_time": "2021-12-06T06:13:45.583Z"
   },
   {
    "duration": 125,
    "start_time": "2021-12-06T06:14:33.368Z"
   },
   {
    "duration": 151,
    "start_time": "2021-12-06T06:14:44.171Z"
   },
   {
    "duration": 20,
    "start_time": "2021-12-06T06:14:51.322Z"
   },
   {
    "duration": 19,
    "start_time": "2021-12-06T06:14:57.585Z"
   },
   {
    "duration": 29,
    "start_time": "2021-12-06T06:15:06.336Z"
   },
   {
    "duration": 30,
    "start_time": "2021-12-06T06:15:12.614Z"
   },
   {
    "duration": 39,
    "start_time": "2021-12-06T06:15:46.942Z"
   },
   {
    "duration": 41,
    "start_time": "2021-12-06T06:16:21.250Z"
   },
   {
    "duration": 1782,
    "start_time": "2021-12-06T06:22:22.493Z"
   },
   {
    "duration": 1851,
    "start_time": "2021-12-06T06:22:39.418Z"
   },
   {
    "duration": 27,
    "start_time": "2021-12-06T06:24:03.384Z"
   },
   {
    "duration": 2403,
    "start_time": "2021-12-06T06:25:07.293Z"
   },
   {
    "duration": 2402,
    "start_time": "2021-12-06T06:31:27.262Z"
   },
   {
    "duration": 4157,
    "start_time": "2021-12-06T06:32:20.341Z"
   },
   {
    "duration": 106,
    "start_time": "2021-12-06T06:32:34.316Z"
   },
   {
    "duration": 29,
    "start_time": "2021-12-06T06:32:37.567Z"
   },
   {
    "duration": 37,
    "start_time": "2021-12-06T06:32:39.325Z"
   },
   {
    "duration": 106,
    "start_time": "2021-12-06T06:32:42.719Z"
   },
   {
    "duration": 6218,
    "start_time": "2021-12-06T06:32:45.307Z"
   },
   {
    "duration": 2345,
    "start_time": "2021-12-06T06:32:54.774Z"
   },
   {
    "duration": 1571,
    "start_time": "2021-12-06T07:01:08.546Z"
   },
   {
    "duration": 1443,
    "start_time": "2021-12-06T07:01:37.806Z"
   },
   {
    "duration": 1788,
    "start_time": "2021-12-06T07:03:06.779Z"
   },
   {
    "duration": 1754,
    "start_time": "2021-12-06T07:03:26.421Z"
   },
   {
    "duration": 1826,
    "start_time": "2021-12-06T07:03:47.172Z"
   },
   {
    "duration": 119,
    "start_time": "2021-12-06T07:09:06.316Z"
   },
   {
    "duration": 1779,
    "start_time": "2021-12-06T09:12:49.331Z"
   },
   {
    "duration": 39,
    "start_time": "2021-12-06T09:12:59.308Z"
   },
   {
    "duration": 46,
    "start_time": "2021-12-06T09:13:19.678Z"
   },
   {
    "duration": 129,
    "start_time": "2021-12-06T09:17:42.765Z"
   },
   {
    "duration": 57,
    "start_time": "2021-12-06T09:17:54.811Z"
   },
   {
    "duration": 26,
    "start_time": "2021-12-06T09:20:34.153Z"
   },
   {
    "duration": 51,
    "start_time": "2021-12-06T09:20:41.408Z"
   },
   {
    "duration": 44,
    "start_time": "2021-12-06T09:57:19.281Z"
   },
   {
    "duration": 49,
    "start_time": "2021-12-06T10:29:22.553Z"
   },
   {
    "duration": 360,
    "start_time": "2021-12-06T10:48:40.548Z"
   },
   {
    "duration": 57,
    "start_time": "2021-12-06T10:48:48.412Z"
   },
   {
    "duration": 48,
    "start_time": "2021-12-06T10:52:00.426Z"
   },
   {
    "duration": 50,
    "start_time": "2021-12-06T11:17:30.418Z"
   },
   {
    "duration": 71,
    "start_time": "2021-12-06T11:42:35.803Z"
   },
   {
    "duration": 77,
    "start_time": "2021-12-06T11:42:49.794Z"
   },
   {
    "duration": 81,
    "start_time": "2021-12-06T11:43:04.217Z"
   },
   {
    "duration": 9260,
    "start_time": "2021-12-06T11:43:50.713Z"
   },
   {
    "duration": 79,
    "start_time": "2021-12-06T11:44:08.325Z"
   },
   {
    "duration": 72,
    "start_time": "2021-12-06T11:44:33.143Z"
   },
   {
    "duration": 48,
    "start_time": "2021-12-06T11:44:49.977Z"
   },
   {
    "duration": 132,
    "start_time": "2021-12-06T12:14:23.507Z"
   },
   {
    "duration": 123,
    "start_time": "2021-12-07T06:42:25.754Z"
   },
   {
    "duration": 85,
    "start_time": "2021-12-07T06:43:36.725Z"
   },
   {
    "duration": 90,
    "start_time": "2021-12-07T06:44:02.184Z"
   },
   {
    "duration": 293,
    "start_time": "2021-12-07T06:55:21.469Z"
   },
   {
    "duration": 602,
    "start_time": "2021-12-07T06:55:27.720Z"
   },
   {
    "duration": 15,
    "start_time": "2021-12-07T07:03:16.371Z"
   },
   {
    "duration": 44,
    "start_time": "2021-12-07T07:03:37.973Z"
   },
   {
    "duration": 32,
    "start_time": "2021-12-07T07:03:42.913Z"
   },
   {
    "duration": 623,
    "start_time": "2021-12-07T07:09:58.360Z"
   },
   {
    "duration": 99,
    "start_time": "2021-12-07T07:24:04.768Z"
   },
   {
    "duration": 287,
    "start_time": "2021-12-07T07:24:11.227Z"
   },
   {
    "duration": 72,
    "start_time": "2021-12-07T07:24:20.754Z"
   },
   {
    "duration": 60,
    "start_time": "2021-12-07T07:24:38.645Z"
   },
   {
    "duration": 19,
    "start_time": "2021-12-07T07:24:45.126Z"
   },
   {
    "duration": 27,
    "start_time": "2021-12-07T07:24:48.973Z"
   },
   {
    "duration": 20,
    "start_time": "2021-12-07T07:24:54.503Z"
   },
   {
    "duration": 43,
    "start_time": "2021-12-07T07:24:56.168Z"
   },
   {
    "duration": 27,
    "start_time": "2021-12-07T07:24:58.172Z"
   },
   {
    "duration": 631,
    "start_time": "2021-12-07T07:25:02.594Z"
   },
   {
    "duration": 3005,
    "start_time": "2021-12-07T07:25:07.065Z"
   },
   {
    "duration": 16,
    "start_time": "2021-12-07T07:25:15.124Z"
   },
   {
    "duration": 27,
    "start_time": "2021-12-07T07:25:20.371Z"
   },
   {
    "duration": 28,
    "start_time": "2021-12-07T07:25:24.917Z"
   },
   {
    "duration": 38,
    "start_time": "2021-12-07T07:25:29.463Z"
   },
   {
    "duration": 26,
    "start_time": "2021-12-07T07:25:33.698Z"
   },
   {
    "duration": 116,
    "start_time": "2021-12-07T07:38:20.246Z"
   },
   {
    "duration": 84,
    "start_time": "2021-12-07T07:38:28.307Z"
   },
   {
    "duration": 81,
    "start_time": "2021-12-07T07:39:38.045Z"
   },
   {
    "duration": 262,
    "start_time": "2021-12-07T07:48:55.487Z"
   },
   {
    "duration": 28,
    "start_time": "2021-12-07T07:49:12.294Z"
   },
   {
    "duration": 74,
    "start_time": "2021-12-07T07:54:36.712Z"
   },
   {
    "duration": 80,
    "start_time": "2021-12-07T07:54:42.484Z"
   },
   {
    "duration": 27,
    "start_time": "2021-12-07T08:28:46.395Z"
   },
   {
    "duration": 95,
    "start_time": "2021-12-07T08:30:56.118Z"
   },
   {
    "duration": 79,
    "start_time": "2021-12-07T08:32:13.483Z"
   },
   {
    "duration": 80,
    "start_time": "2021-12-07T08:33:02.049Z"
   },
   {
    "duration": 75,
    "start_time": "2021-12-07T08:33:15.532Z"
   },
   {
    "duration": 29,
    "start_time": "2021-12-07T08:34:21.711Z"
   },
   {
    "duration": 71,
    "start_time": "2021-12-07T08:34:48.481Z"
   },
   {
    "duration": 28,
    "start_time": "2021-12-07T08:42:01.625Z"
   },
   {
    "duration": 420,
    "start_time": "2021-12-07T20:40:28.459Z"
   },
   {
    "duration": 301,
    "start_time": "2021-12-07T20:40:31.973Z"
   },
   {
    "duration": 632,
    "start_time": "2021-12-07T20:40:39.990Z"
   },
   {
    "duration": 21,
    "start_time": "2021-12-07T20:40:44.421Z"
   }
  ],
  "kernelspec": {
   "display_name": "Python 3 (ipykernel)",
   "language": "python",
   "name": "python3"
  },
  "language_info": {
   "codemirror_mode": {
    "name": "ipython",
    "version": 3
   },
   "file_extension": ".py",
   "mimetype": "text/x-python",
   "name": "python",
   "nbconvert_exporter": "python",
   "pygments_lexer": "ipython3",
   "version": "3.9.5"
  },
  "toc": {
   "base_numbering": 1,
   "nav_menu": {},
   "number_sections": true,
   "sideBar": true,
   "skip_h1_title": true,
   "title_cell": "Table of Contents",
   "title_sidebar": "Contents",
   "toc_cell": false,
   "toc_position": {},
   "toc_section_display": true,
   "toc_window_display": false
  }
 },
 "nbformat": 4,
 "nbformat_minor": 2
}

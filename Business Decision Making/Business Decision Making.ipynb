{
 "cells": [
  {
   "cell_type": "markdown",
   "metadata": {},
   "source": [
    "## Описание проекта"
   ]
  },
  {
   "cell_type": "markdown",
   "metadata": {},
   "source": [
    "\n",
    "Вы — аналитик крупного интернет-магазина. Вместе с отделом маркетинга вы подготовили список гипотез для увеличения выручки.\n",
    "Приоритизируйте гипотезы, запустите A/B-тест и проанализируйте результаты.\n",
    "\n",
    "Часть 1. Приоритизация гипотез.\n",
    "\n",
    "Часть 2. Анализ A/B-теста\n"
   ]
  },
  {
   "cell_type": "markdown",
   "metadata": {},
   "source": [
    "## Импорт библиотек"
   ]
  },
  {
   "cell_type": "code",
   "execution_count": 29,
   "metadata": {},
   "outputs": [],
   "source": [
    "# КОД РЕВЬЮВЕРА\n",
    "import pandas as pd\n",
    "import matplotlib.pyplot as plt\n",
    "from datetime import datetime as dt\n",
    "import numpy as np\n",
    "from scipy import stats"
   ]
  },
  {
   "cell_type": "markdown",
   "metadata": {},
   "source": [
    "## Приоритизация гипотез"
   ]
  },
  {
   "cell_type": "code",
   "execution_count": 30,
   "metadata": {},
   "outputs": [
    {
     "data": {
      "text/html": [
       "<div>\n",
       "<style scoped>\n",
       "    .dataframe tbody tr th:only-of-type {\n",
       "        vertical-align: middle;\n",
       "    }\n",
       "\n",
       "    .dataframe tbody tr th {\n",
       "        vertical-align: top;\n",
       "    }\n",
       "\n",
       "    .dataframe thead th {\n",
       "        text-align: right;\n",
       "    }\n",
       "</style>\n",
       "<table border=\"1\" class=\"dataframe\">\n",
       "  <thead>\n",
       "    <tr style=\"text-align: right;\">\n",
       "      <th></th>\n",
       "      <th>Hypothesis</th>\n",
       "      <th>Reach</th>\n",
       "      <th>Impact</th>\n",
       "      <th>Confidence</th>\n",
       "      <th>Efforts</th>\n",
       "    </tr>\n",
       "  </thead>\n",
       "  <tbody>\n",
       "    <tr>\n",
       "      <th>0</th>\n",
       "      <td>Добавить два новых канала привлечения трафика, что позволит привлекать на 30% больше пользователей</td>\n",
       "      <td>3</td>\n",
       "      <td>10</td>\n",
       "      <td>8</td>\n",
       "      <td>6</td>\n",
       "    </tr>\n",
       "    <tr>\n",
       "      <th>1</th>\n",
       "      <td>Запустить собственную службу доставки, что сократит срок доставки заказов</td>\n",
       "      <td>2</td>\n",
       "      <td>5</td>\n",
       "      <td>4</td>\n",
       "      <td>10</td>\n",
       "    </tr>\n",
       "    <tr>\n",
       "      <th>2</th>\n",
       "      <td>Добавить блоки рекомендаций товаров на сайт интернет магазина, чтобы повысить конверсию и средний чек заказа</td>\n",
       "      <td>8</td>\n",
       "      <td>3</td>\n",
       "      <td>7</td>\n",
       "      <td>3</td>\n",
       "    </tr>\n",
       "    <tr>\n",
       "      <th>3</th>\n",
       "      <td>Изменить структура категорий, что увеличит конверсию, т.к. пользователи быстрее найдут нужный товар</td>\n",
       "      <td>8</td>\n",
       "      <td>3</td>\n",
       "      <td>3</td>\n",
       "      <td>8</td>\n",
       "    </tr>\n",
       "    <tr>\n",
       "      <th>4</th>\n",
       "      <td>Изменить цвет фона главной страницы, чтобы увеличить вовлеченность пользователей</td>\n",
       "      <td>3</td>\n",
       "      <td>1</td>\n",
       "      <td>1</td>\n",
       "      <td>1</td>\n",
       "    </tr>\n",
       "    <tr>\n",
       "      <th>5</th>\n",
       "      <td>Добавить страницу отзывов клиентов о магазине, что позволит увеличить количество заказов</td>\n",
       "      <td>3</td>\n",
       "      <td>2</td>\n",
       "      <td>2</td>\n",
       "      <td>3</td>\n",
       "    </tr>\n",
       "    <tr>\n",
       "      <th>6</th>\n",
       "      <td>Показать на главной странице баннеры с актуальными акциями и распродажами, чтобы увеличить конверсию</td>\n",
       "      <td>5</td>\n",
       "      <td>3</td>\n",
       "      <td>8</td>\n",
       "      <td>3</td>\n",
       "    </tr>\n",
       "    <tr>\n",
       "      <th>7</th>\n",
       "      <td>Добавить форму подписки на все основные страницы, чтобы собрать базу клиентов для email-рассылок</td>\n",
       "      <td>10</td>\n",
       "      <td>7</td>\n",
       "      <td>8</td>\n",
       "      <td>5</td>\n",
       "    </tr>\n",
       "    <tr>\n",
       "      <th>8</th>\n",
       "      <td>Запустить акцию, дающую скидку на товар в день рождения</td>\n",
       "      <td>1</td>\n",
       "      <td>9</td>\n",
       "      <td>9</td>\n",
       "      <td>5</td>\n",
       "    </tr>\n",
       "  </tbody>\n",
       "</table>\n",
       "</div>"
      ],
      "text/plain": [
       "                                                                                                     Hypothesis  \\\n",
       "0            Добавить два новых канала привлечения трафика, что позволит привлекать на 30% больше пользователей   \n",
       "1                                     Запустить собственную службу доставки, что сократит срок доставки заказов   \n",
       "2  Добавить блоки рекомендаций товаров на сайт интернет магазина, чтобы повысить конверсию и средний чек заказа   \n",
       "3           Изменить структура категорий, что увеличит конверсию, т.к. пользователи быстрее найдут нужный товар   \n",
       "4                              Изменить цвет фона главной страницы, чтобы увеличить вовлеченность пользователей   \n",
       "5                      Добавить страницу отзывов клиентов о магазине, что позволит увеличить количество заказов   \n",
       "6          Показать на главной странице баннеры с актуальными акциями и распродажами, чтобы увеличить конверсию   \n",
       "7              Добавить форму подписки на все основные страницы, чтобы собрать базу клиентов для email-рассылок   \n",
       "8                                                       Запустить акцию, дающую скидку на товар в день рождения   \n",
       "\n",
       "   Reach  Impact  Confidence  Efforts  \n",
       "0      3      10           8        6  \n",
       "1      2       5           4       10  \n",
       "2      8       3           7        3  \n",
       "3      8       3           3        8  \n",
       "4      3       1           1        1  \n",
       "5      3       2           2        3  \n",
       "6      5       3           8        3  \n",
       "7     10       7           8        5  \n",
       "8      1       9           9        5  "
      ]
     },
     "metadata": {},
     "output_type": "display_data"
    }
   ],
   "source": [
    "# открываем файл\n",
    "data = pd.read_csv('/datasets/hypothesis.csv')\n",
    "# устанавливаем настройки, чтобы прочитать гипотезы полностью\n",
    "pd.set_option(\"max_colwidth\", 120)\n",
    "# просмаириваем\n",
    "display(data)"
   ]
  },
  {
   "cell_type": "code",
   "execution_count": 31,
   "metadata": {},
   "outputs": [],
   "source": [
    "# приводим колонки к нижнему регистгру\n",
    "data.columns = map(str.lower, data.columns)"
   ]
  },
  {
   "cell_type": "markdown",
   "metadata": {},
   "source": [
    "# Применим метод ICE для приоритизации гипотез"
   ]
  },
  {
   "cell_type": "markdown",
   "metadata": {},
   "source": [
    "$$ICE = \\frac{Impact * Confidence}{Efforts}$$"
   ]
  },
  {
   "cell_type": "code",
   "execution_count": 32,
   "metadata": {},
   "outputs": [
    {
     "data": {
      "text/html": [
       "<div>\n",
       "<style scoped>\n",
       "    .dataframe tbody tr th:only-of-type {\n",
       "        vertical-align: middle;\n",
       "    }\n",
       "\n",
       "    .dataframe tbody tr th {\n",
       "        vertical-align: top;\n",
       "    }\n",
       "\n",
       "    .dataframe thead th {\n",
       "        text-align: right;\n",
       "    }\n",
       "</style>\n",
       "<table border=\"1\" class=\"dataframe\">\n",
       "  <thead>\n",
       "    <tr style=\"text-align: right;\">\n",
       "      <th></th>\n",
       "      <th>hypothesis</th>\n",
       "      <th>ice</th>\n",
       "    </tr>\n",
       "  </thead>\n",
       "  <tbody>\n",
       "    <tr>\n",
       "      <th>8</th>\n",
       "      <td>Запустить акцию, дающую скидку на товар в день рождения</td>\n",
       "      <td>16.2</td>\n",
       "    </tr>\n",
       "    <tr>\n",
       "      <th>0</th>\n",
       "      <td>Добавить два новых канала привлечения трафика, что позволит привлекать на 30% больше пользователей</td>\n",
       "      <td>13.3</td>\n",
       "    </tr>\n",
       "    <tr>\n",
       "      <th>7</th>\n",
       "      <td>Добавить форму подписки на все основные страницы, чтобы собрать базу клиентов для email-рассылок</td>\n",
       "      <td>11.2</td>\n",
       "    </tr>\n",
       "    <tr>\n",
       "      <th>6</th>\n",
       "      <td>Показать на главной странице баннеры с актуальными акциями и распродажами, чтобы увеличить конверсию</td>\n",
       "      <td>8.0</td>\n",
       "    </tr>\n",
       "    <tr>\n",
       "      <th>2</th>\n",
       "      <td>Добавить блоки рекомендаций товаров на сайт интернет магазина, чтобы повысить конверсию и средний чек заказа</td>\n",
       "      <td>7.0</td>\n",
       "    </tr>\n",
       "    <tr>\n",
       "      <th>1</th>\n",
       "      <td>Запустить собственную службу доставки, что сократит срок доставки заказов</td>\n",
       "      <td>2.0</td>\n",
       "    </tr>\n",
       "    <tr>\n",
       "      <th>5</th>\n",
       "      <td>Добавить страницу отзывов клиентов о магазине, что позволит увеличить количество заказов</td>\n",
       "      <td>1.3</td>\n",
       "    </tr>\n",
       "    <tr>\n",
       "      <th>3</th>\n",
       "      <td>Изменить структура категорий, что увеличит конверсию, т.к. пользователи быстрее найдут нужный товар</td>\n",
       "      <td>1.1</td>\n",
       "    </tr>\n",
       "    <tr>\n",
       "      <th>4</th>\n",
       "      <td>Изменить цвет фона главной страницы, чтобы увеличить вовлеченность пользователей</td>\n",
       "      <td>1.0</td>\n",
       "    </tr>\n",
       "  </tbody>\n",
       "</table>\n",
       "</div>"
      ],
      "text/plain": [
       "                                                                                                     hypothesis  \\\n",
       "8                                                       Запустить акцию, дающую скидку на товар в день рождения   \n",
       "0            Добавить два новых канала привлечения трафика, что позволит привлекать на 30% больше пользователей   \n",
       "7              Добавить форму подписки на все основные страницы, чтобы собрать базу клиентов для email-рассылок   \n",
       "6          Показать на главной странице баннеры с актуальными акциями и распродажами, чтобы увеличить конверсию   \n",
       "2  Добавить блоки рекомендаций товаров на сайт интернет магазина, чтобы повысить конверсию и средний чек заказа   \n",
       "1                                     Запустить собственную службу доставки, что сократит срок доставки заказов   \n",
       "5                      Добавить страницу отзывов клиентов о магазине, что позволит увеличить количество заказов   \n",
       "3           Изменить структура категорий, что увеличит конверсию, т.к. пользователи быстрее найдут нужный товар   \n",
       "4                              Изменить цвет фона главной страницы, чтобы увеличить вовлеченность пользователей   \n",
       "\n",
       "    ice  \n",
       "8  16.2  \n",
       "0  13.3  \n",
       "7  11.2  \n",
       "6   8.0  \n",
       "2   7.0  \n",
       "1   2.0  \n",
       "5   1.3  \n",
       "3   1.1  \n",
       "4   1.0  "
      ]
     },
     "metadata": {},
     "output_type": "display_data"
    }
   ],
   "source": [
    "# применим фреймворк ice для приоритезации гипотез\n",
    "data['ice'] = data['impact'] * data['confidence'] / data['efforts']\n",
    "display((data[['hypothesis', 'ice']].sort_values(by='ice', ascending=False)).round(1))\n"
   ]
  },
  {
   "cell_type": "markdown",
   "metadata": {},
   "source": [
    "При расчете методом ice перспективными гипотезами можно считать 8, 0 и 7."
   ]
  },
  {
   "cell_type": "markdown",
   "metadata": {},
   "source": [
    "# Применим метод RICE для приоритизации гипотез"
   ]
  },
  {
   "cell_type": "markdown",
   "metadata": {},
   "source": [
    "$$RICE = \\frac{Rearch * Impact * Confidence}{Efforts}$$"
   ]
  },
  {
   "cell_type": "code",
   "execution_count": 33,
   "metadata": {},
   "outputs": [
    {
     "data": {
      "text/html": [
       "<div>\n",
       "<style scoped>\n",
       "    .dataframe tbody tr th:only-of-type {\n",
       "        vertical-align: middle;\n",
       "    }\n",
       "\n",
       "    .dataframe tbody tr th {\n",
       "        vertical-align: top;\n",
       "    }\n",
       "\n",
       "    .dataframe thead th {\n",
       "        text-align: right;\n",
       "    }\n",
       "</style>\n",
       "<table border=\"1\" class=\"dataframe\">\n",
       "  <thead>\n",
       "    <tr style=\"text-align: right;\">\n",
       "      <th></th>\n",
       "      <th>hypothesis</th>\n",
       "      <th>rice</th>\n",
       "    </tr>\n",
       "  </thead>\n",
       "  <tbody>\n",
       "    <tr>\n",
       "      <th>7</th>\n",
       "      <td>Добавить форму подписки на все основные страницы, чтобы собрать базу клиентов для email-рассылок</td>\n",
       "      <td>112.0</td>\n",
       "    </tr>\n",
       "    <tr>\n",
       "      <th>2</th>\n",
       "      <td>Добавить блоки рекомендаций товаров на сайт интернет магазина, чтобы повысить конверсию и средний чек заказа</td>\n",
       "      <td>56.0</td>\n",
       "    </tr>\n",
       "    <tr>\n",
       "      <th>0</th>\n",
       "      <td>Добавить два новых канала привлечения трафика, что позволит привлекать на 30% больше пользователей</td>\n",
       "      <td>40.0</td>\n",
       "    </tr>\n",
       "    <tr>\n",
       "      <th>6</th>\n",
       "      <td>Показать на главной странице баннеры с актуальными акциями и распродажами, чтобы увеличить конверсию</td>\n",
       "      <td>40.0</td>\n",
       "    </tr>\n",
       "    <tr>\n",
       "      <th>8</th>\n",
       "      <td>Запустить акцию, дающую скидку на товар в день рождения</td>\n",
       "      <td>16.2</td>\n",
       "    </tr>\n",
       "    <tr>\n",
       "      <th>3</th>\n",
       "      <td>Изменить структура категорий, что увеличит конверсию, т.к. пользователи быстрее найдут нужный товар</td>\n",
       "      <td>9.0</td>\n",
       "    </tr>\n",
       "    <tr>\n",
       "      <th>1</th>\n",
       "      <td>Запустить собственную службу доставки, что сократит срок доставки заказов</td>\n",
       "      <td>4.0</td>\n",
       "    </tr>\n",
       "    <tr>\n",
       "      <th>5</th>\n",
       "      <td>Добавить страницу отзывов клиентов о магазине, что позволит увеличить количество заказов</td>\n",
       "      <td>4.0</td>\n",
       "    </tr>\n",
       "    <tr>\n",
       "      <th>4</th>\n",
       "      <td>Изменить цвет фона главной страницы, чтобы увеличить вовлеченность пользователей</td>\n",
       "      <td>3.0</td>\n",
       "    </tr>\n",
       "  </tbody>\n",
       "</table>\n",
       "</div>"
      ],
      "text/plain": [
       "                                                                                                     hypothesis  \\\n",
       "7              Добавить форму подписки на все основные страницы, чтобы собрать базу клиентов для email-рассылок   \n",
       "2  Добавить блоки рекомендаций товаров на сайт интернет магазина, чтобы повысить конверсию и средний чек заказа   \n",
       "0            Добавить два новых канала привлечения трафика, что позволит привлекать на 30% больше пользователей   \n",
       "6          Показать на главной странице баннеры с актуальными акциями и распродажами, чтобы увеличить конверсию   \n",
       "8                                                       Запустить акцию, дающую скидку на товар в день рождения   \n",
       "3           Изменить структура категорий, что увеличит конверсию, т.к. пользователи быстрее найдут нужный товар   \n",
       "1                                     Запустить собственную службу доставки, что сократит срок доставки заказов   \n",
       "5                      Добавить страницу отзывов клиентов о магазине, что позволит увеличить количество заказов   \n",
       "4                              Изменить цвет фона главной страницы, чтобы увеличить вовлеченность пользователей   \n",
       "\n",
       "    rice  \n",
       "7  112.0  \n",
       "2   56.0  \n",
       "0   40.0  \n",
       "6   40.0  \n",
       "8   16.2  \n",
       "3    9.0  \n",
       "1    4.0  \n",
       "5    4.0  \n",
       "4    3.0  "
      ]
     },
     "metadata": {},
     "output_type": "display_data"
    }
   ],
   "source": [
    "# применим метод RICE для приоритизации гепотез\n",
    "data['rice'] = data['reach'] * data['impact'] * data['confidence'] / data['efforts']\n",
    "display(data[['hypothesis', 'rice']].sort_values(by='rice', ascending=False))\n",
    "pd.set_option(\"max_colwidth\", 120)"
   ]
  },
  {
   "cell_type": "markdown",
   "metadata": {},
   "source": [
    "Применив метод rice мы видим немного другую картину, здесь всё так же на хорошем счета гипотезы под номерами 7 и 0, но при этом - на первом месте гипотеза под номерами 7, на втором месте под гномером 2. \n",
    "\n",
    "Так получилось, потому что у гипотез 7 и 2 высокий параметр reach. У гипотезы под номером 7 он максимальный (10), у гипотезы под номером 2 этот параметр равен 8.\n",
    "\n",
    "Чтобы максимизировать ожидаемое улучшение ключевых метрик думаю, что для тестов нужно брать 7 и 2 гипотезы."
   ]
  },
  {
   "cell_type": "markdown",
   "metadata": {},
   "source": [
    "## Анализ A/B-теста"
   ]
  },
  {
   "cell_type": "markdown",
   "metadata": {},
   "source": [
    "### Открываем файлы"
   ]
  },
  {
   "cell_type": "code",
   "execution_count": 34,
   "metadata": {},
   "outputs": [
    {
     "data": {
      "text/html": [
       "<div>\n",
       "<style scoped>\n",
       "    .dataframe tbody tr th:only-of-type {\n",
       "        vertical-align: middle;\n",
       "    }\n",
       "\n",
       "    .dataframe tbody tr th {\n",
       "        vertical-align: top;\n",
       "    }\n",
       "\n",
       "    .dataframe thead th {\n",
       "        text-align: right;\n",
       "    }\n",
       "</style>\n",
       "<table border=\"1\" class=\"dataframe\">\n",
       "  <thead>\n",
       "    <tr style=\"text-align: right;\">\n",
       "      <th></th>\n",
       "      <th>transactionId</th>\n",
       "      <th>visitorId</th>\n",
       "      <th>date</th>\n",
       "      <th>revenue</th>\n",
       "      <th>group</th>\n",
       "    </tr>\n",
       "  </thead>\n",
       "  <tbody>\n",
       "    <tr>\n",
       "      <th>0</th>\n",
       "      <td>3667963787</td>\n",
       "      <td>3312258926</td>\n",
       "      <td>2019-08-15</td>\n",
       "      <td>1650</td>\n",
       "      <td>B</td>\n",
       "    </tr>\n",
       "    <tr>\n",
       "      <th>1</th>\n",
       "      <td>2804400009</td>\n",
       "      <td>3642806036</td>\n",
       "      <td>2019-08-15</td>\n",
       "      <td>730</td>\n",
       "      <td>B</td>\n",
       "    </tr>\n",
       "    <tr>\n",
       "      <th>2</th>\n",
       "      <td>2961555356</td>\n",
       "      <td>4069496402</td>\n",
       "      <td>2019-08-15</td>\n",
       "      <td>400</td>\n",
       "      <td>A</td>\n",
       "    </tr>\n",
       "    <tr>\n",
       "      <th>3</th>\n",
       "      <td>3797467345</td>\n",
       "      <td>1196621759</td>\n",
       "      <td>2019-08-15</td>\n",
       "      <td>9759</td>\n",
       "      <td>B</td>\n",
       "    </tr>\n",
       "    <tr>\n",
       "      <th>4</th>\n",
       "      <td>2282983706</td>\n",
       "      <td>2322279887</td>\n",
       "      <td>2019-08-15</td>\n",
       "      <td>2308</td>\n",
       "      <td>B</td>\n",
       "    </tr>\n",
       "  </tbody>\n",
       "</table>\n",
       "</div>"
      ],
      "text/plain": [
       "   transactionId   visitorId        date  revenue group\n",
       "0     3667963787  3312258926  2019-08-15     1650     B\n",
       "1     2804400009  3642806036  2019-08-15      730     B\n",
       "2     2961555356  4069496402  2019-08-15      400     A\n",
       "3     3797467345  1196621759  2019-08-15     9759     B\n",
       "4     2282983706  2322279887  2019-08-15     2308     B"
      ]
     },
     "metadata": {},
     "output_type": "display_data"
    },
    {
     "name": "stdout",
     "output_type": "stream",
     "text": [
      "<class 'pandas.core.frame.DataFrame'>\n",
      "RangeIndex: 1197 entries, 0 to 1196\n",
      "Data columns (total 5 columns):\n",
      " #   Column         Non-Null Count  Dtype \n",
      "---  ------         --------------  ----- \n",
      " 0   transactionId  1197 non-null   int64 \n",
      " 1   visitorId      1197 non-null   int64 \n",
      " 2   date           1197 non-null   object\n",
      " 3   revenue        1197 non-null   int64 \n",
      " 4   group          1197 non-null   object\n",
      "dtypes: int64(3), object(2)\n",
      "memory usage: 46.9+ KB\n"
     ]
    }
   ],
   "source": [
    "# открываем файлы\n",
    "orders = pd.read_csv('/datasets/orders.csv', sep=',')\n",
    "# просматриваем\n",
    "display(orders.head())\n",
    "orders.info()"
   ]
  },
  {
   "cell_type": "code",
   "execution_count": 67,
   "metadata": {},
   "outputs": [
    {
     "name": "stdout",
     "output_type": "stream",
     "text": [
      "<class 'pandas.core.frame.DataFrame'>\n",
      "RangeIndex: 1197 entries, 0 to 1196\n",
      "Data columns (total 5 columns):\n",
      " #   Column         Non-Null Count  Dtype         \n",
      "---  ------         --------------  -----         \n",
      " 0   transactionId  1197 non-null   int64         \n",
      " 1   visitorId      1197 non-null   int64         \n",
      " 2   date           1197 non-null   datetime64[ns]\n",
      " 3   revenue        1197 non-null   int64         \n",
      " 4   group          1197 non-null   object        \n",
      "dtypes: datetime64[ns](1), int64(3), object(1)\n",
      "memory usage: 46.9+ KB\n"
     ]
    }
   ],
   "source": [
    "# переводим date в нужный тип данных\n",
    "orders['date'] = pd.to_datetime(orders['date'])\n",
    "# проверяем\n",
    "orders.info()"
   ]
  },
  {
   "cell_type": "code",
   "execution_count": 68,
   "metadata": {},
   "outputs": [
    {
     "name": "stdout",
     "output_type": "stream",
     "text": [
      "Количество явных дубликатов: 0\n"
     ]
    }
   ],
   "source": [
    "# проверяем наличие явных дубликатов\n",
    "print('Количество явных дубликатов:', orders.duplicated().sum())"
   ]
  },
  {
   "cell_type": "code",
   "execution_count": 69,
   "metadata": {},
   "outputs": [
    {
     "data": {
      "text/html": [
       "<div>\n",
       "<style scoped>\n",
       "    .dataframe tbody tr th:only-of-type {\n",
       "        vertical-align: middle;\n",
       "    }\n",
       "\n",
       "    .dataframe tbody tr th {\n",
       "        vertical-align: top;\n",
       "    }\n",
       "\n",
       "    .dataframe thead th {\n",
       "        text-align: right;\n",
       "    }\n",
       "</style>\n",
       "<table border=\"1\" class=\"dataframe\">\n",
       "  <thead>\n",
       "    <tr style=\"text-align: right;\">\n",
       "      <th></th>\n",
       "      <th>revenue</th>\n",
       "    </tr>\n",
       "    <tr>\n",
       "      <th>group</th>\n",
       "      <th></th>\n",
       "    </tr>\n",
       "  </thead>\n",
       "  <tbody>\n",
       "    <tr>\n",
       "      <th>A</th>\n",
       "      <td>557</td>\n",
       "    </tr>\n",
       "    <tr>\n",
       "      <th>B</th>\n",
       "      <td>640</td>\n",
       "    </tr>\n",
       "  </tbody>\n",
       "</table>\n",
       "</div>"
      ],
      "text/plain": [
       "       revenue\n",
       "group         \n",
       "A          557\n",
       "B          640"
      ]
     },
     "metadata": {},
     "output_type": "display_data"
    },
    {
     "data": {
      "text/html": [
       "<div>\n",
       "<style scoped>\n",
       "    .dataframe tbody tr th:only-of-type {\n",
       "        vertical-align: middle;\n",
       "    }\n",
       "\n",
       "    .dataframe tbody tr th {\n",
       "        vertical-align: top;\n",
       "    }\n",
       "\n",
       "    .dataframe thead th {\n",
       "        text-align: right;\n",
       "    }\n",
       "</style>\n",
       "<table border=\"1\" class=\"dataframe\">\n",
       "  <thead>\n",
       "    <tr style=\"text-align: right;\">\n",
       "      <th></th>\n",
       "      <th>revenue</th>\n",
       "      <th>percent</th>\n",
       "    </tr>\n",
       "    <tr>\n",
       "      <th>group</th>\n",
       "      <th></th>\n",
       "      <th></th>\n",
       "    </tr>\n",
       "  </thead>\n",
       "  <tbody>\n",
       "    <tr>\n",
       "      <th>A</th>\n",
       "      <td>557</td>\n",
       "      <td>46.5</td>\n",
       "    </tr>\n",
       "    <tr>\n",
       "      <th>B</th>\n",
       "      <td>640</td>\n",
       "      <td>53.5</td>\n",
       "    </tr>\n",
       "  </tbody>\n",
       "</table>\n",
       "</div>"
      ],
      "text/plain": [
       "       revenue  percent\n",
       "group                  \n",
       "A          557     46.5\n",
       "B          640     53.5"
      ]
     },
     "metadata": {},
     "output_type": "display_data"
    },
    {
     "data": {
      "text/plain": [
       "<AxesSubplot:ylabel='percent'>"
      ]
     },
     "execution_count": 69,
     "metadata": {},
     "output_type": "execute_result"
    },
    {
     "data": {
      "image/png": "[encoded data removed]",
      "text/plain": [
       "<Figure size 432x288 with 1 Axes>"
      ]
     },
     "metadata": {},
     "output_type": "display_data"
    }
   ],
   "source": [
    "# смотрим доли\n",
    "\n",
    "# делаем сводную таблицу\n",
    "a_b_total = orders.pivot_table(index='group', values='revenue', aggfunc='count')\n",
    "# выводим\n",
    "display(a_b_total)\n",
    "# добавляем колонку с долями\n",
    "a_b_total['percent'] = (a_b_total['revenue'] / a_b_total['revenue'].sum() * 100).round(1)\n",
    "# смотрим\n",
    "display(a_b_total)\n",
    "a_b_total.plot(kind='pie', y='percent')\n"
   ]
  },
  {
   "cell_type": "code",
   "execution_count": 38,
   "metadata": {},
   "outputs": [
    {
     "data": {
      "text/html": [
       "<div>\n",
       "<style scoped>\n",
       "    .dataframe tbody tr th:only-of-type {\n",
       "        vertical-align: middle;\n",
       "    }\n",
       "\n",
       "    .dataframe tbody tr th {\n",
       "        vertical-align: top;\n",
       "    }\n",
       "\n",
       "    .dataframe thead th {\n",
       "        text-align: right;\n",
       "    }\n",
       "</style>\n",
       "<table border=\"1\" class=\"dataframe\">\n",
       "  <thead>\n",
       "    <tr style=\"text-align: right;\">\n",
       "      <th></th>\n",
       "      <th>groups</th>\n",
       "      <th>group_name</th>\n",
       "    </tr>\n",
       "    <tr>\n",
       "      <th>visitorId</th>\n",
       "      <th></th>\n",
       "      <th></th>\n",
       "    </tr>\n",
       "  </thead>\n",
       "  <tbody>\n",
       "    <tr>\n",
       "      <th>8300375</th>\n",
       "      <td>2</td>\n",
       "      <td>[B, A]</td>\n",
       "    </tr>\n",
       "    <tr>\n",
       "      <th>199603092</th>\n",
       "      <td>2</td>\n",
       "      <td>[A, B]</td>\n",
       "    </tr>\n",
       "    <tr>\n",
       "      <th>232979603</th>\n",
       "      <td>2</td>\n",
       "      <td>[B, A]</td>\n",
       "    </tr>\n",
       "    <tr>\n",
       "      <th>237748145</th>\n",
       "      <td>2</td>\n",
       "      <td>[B, A]</td>\n",
       "    </tr>\n",
       "    <tr>\n",
       "      <th>276558944</th>\n",
       "      <td>2</td>\n",
       "      <td>[B, A]</td>\n",
       "    </tr>\n",
       "    <tr>\n",
       "      <th>351125977</th>\n",
       "      <td>2</td>\n",
       "      <td>[B, A]</td>\n",
       "    </tr>\n",
       "    <tr>\n",
       "      <th>393266494</th>\n",
       "      <td>2</td>\n",
       "      <td>[A, B]</td>\n",
       "    </tr>\n",
       "    <tr>\n",
       "      <th>457167155</th>\n",
       "      <td>2</td>\n",
       "      <td>[B, A]</td>\n",
       "    </tr>\n",
       "    <tr>\n",
       "      <th>471551937</th>\n",
       "      <td>2</td>\n",
       "      <td>[A, B]</td>\n",
       "    </tr>\n",
       "    <tr>\n",
       "      <th>477780734</th>\n",
       "      <td>2</td>\n",
       "      <td>[A, B]</td>\n",
       "    </tr>\n",
       "    <tr>\n",
       "      <th>818047933</th>\n",
       "      <td>2</td>\n",
       "      <td>[A, B]</td>\n",
       "    </tr>\n",
       "    <tr>\n",
       "      <th>963407295</th>\n",
       "      <td>2</td>\n",
       "      <td>[B, A]</td>\n",
       "    </tr>\n",
       "    <tr>\n",
       "      <th>1230306981</th>\n",
       "      <td>2</td>\n",
       "      <td>[A, B]</td>\n",
       "    </tr>\n",
       "    <tr>\n",
       "      <th>1294878855</th>\n",
       "      <td>2</td>\n",
       "      <td>[B, A]</td>\n",
       "    </tr>\n",
       "    <tr>\n",
       "      <th>1316129916</th>\n",
       "      <td>2</td>\n",
       "      <td>[A, B]</td>\n",
       "    </tr>\n",
       "    <tr>\n",
       "      <th>1333886533</th>\n",
       "      <td>2</td>\n",
       "      <td>[A, B]</td>\n",
       "    </tr>\n",
       "    <tr>\n",
       "      <th>1404934699</th>\n",
       "      <td>2</td>\n",
       "      <td>[B, A]</td>\n",
       "    </tr>\n",
       "    <tr>\n",
       "      <th>1602967004</th>\n",
       "      <td>2</td>\n",
       "      <td>[B, A]</td>\n",
       "    </tr>\n",
       "    <tr>\n",
       "      <th>1614305549</th>\n",
       "      <td>2</td>\n",
       "      <td>[B, A]</td>\n",
       "    </tr>\n",
       "    <tr>\n",
       "      <th>1648269707</th>\n",
       "      <td>2</td>\n",
       "      <td>[B, A]</td>\n",
       "    </tr>\n",
       "    <tr>\n",
       "      <th>1668030113</th>\n",
       "      <td>2</td>\n",
       "      <td>[B, A]</td>\n",
       "    </tr>\n",
       "    <tr>\n",
       "      <th>1738359350</th>\n",
       "      <td>2</td>\n",
       "      <td>[A, B]</td>\n",
       "    </tr>\n",
       "    <tr>\n",
       "      <th>1801183820</th>\n",
       "      <td>2</td>\n",
       "      <td>[B, A]</td>\n",
       "    </tr>\n",
       "    <tr>\n",
       "      <th>1959144690</th>\n",
       "      <td>2</td>\n",
       "      <td>[A, B]</td>\n",
       "    </tr>\n",
       "    <tr>\n",
       "      <th>2038680547</th>\n",
       "      <td>2</td>\n",
       "      <td>[B, A]</td>\n",
       "    </tr>\n",
       "    <tr>\n",
       "      <th>2044997962</th>\n",
       "      <td>2</td>\n",
       "      <td>[A, B]</td>\n",
       "    </tr>\n",
       "    <tr>\n",
       "      <th>2378935119</th>\n",
       "      <td>2</td>\n",
       "      <td>[A, B]</td>\n",
       "    </tr>\n",
       "    <tr>\n",
       "      <th>2458001652</th>\n",
       "      <td>2</td>\n",
       "      <td>[A, B]</td>\n",
       "    </tr>\n",
       "    <tr>\n",
       "      <th>2579882178</th>\n",
       "      <td>2</td>\n",
       "      <td>[A, B]</td>\n",
       "    </tr>\n",
       "    <tr>\n",
       "      <th>2587333274</th>\n",
       "      <td>2</td>\n",
       "      <td>[B, A]</td>\n",
       "    </tr>\n",
       "    <tr>\n",
       "      <th>2600415354</th>\n",
       "      <td>2</td>\n",
       "      <td>[B, A]</td>\n",
       "    </tr>\n",
       "    <tr>\n",
       "      <th>2654030115</th>\n",
       "      <td>2</td>\n",
       "      <td>[B, A]</td>\n",
       "    </tr>\n",
       "    <tr>\n",
       "      <th>2686716486</th>\n",
       "      <td>2</td>\n",
       "      <td>[A, B]</td>\n",
       "    </tr>\n",
       "    <tr>\n",
       "      <th>2712142231</th>\n",
       "      <td>2</td>\n",
       "      <td>[B, A]</td>\n",
       "    </tr>\n",
       "    <tr>\n",
       "      <th>2716752286</th>\n",
       "      <td>2</td>\n",
       "      <td>[B, A]</td>\n",
       "    </tr>\n",
       "    <tr>\n",
       "      <th>2780786433</th>\n",
       "      <td>2</td>\n",
       "      <td>[A, B]</td>\n",
       "    </tr>\n",
       "    <tr>\n",
       "      <th>2927087541</th>\n",
       "      <td>2</td>\n",
       "      <td>[A, B]</td>\n",
       "    </tr>\n",
       "    <tr>\n",
       "      <th>2949041841</th>\n",
       "      <td>2</td>\n",
       "      <td>[A, B]</td>\n",
       "    </tr>\n",
       "    <tr>\n",
       "      <th>2954449915</th>\n",
       "      <td>2</td>\n",
       "      <td>[A, B]</td>\n",
       "    </tr>\n",
       "    <tr>\n",
       "      <th>3062433592</th>\n",
       "      <td>2</td>\n",
       "      <td>[B, A]</td>\n",
       "    </tr>\n",
       "    <tr>\n",
       "      <th>3202540741</th>\n",
       "      <td>2</td>\n",
       "      <td>[A, B]</td>\n",
       "    </tr>\n",
       "    <tr>\n",
       "      <th>3234906277</th>\n",
       "      <td>2</td>\n",
       "      <td>[B, A]</td>\n",
       "    </tr>\n",
       "    <tr>\n",
       "      <th>3656415546</th>\n",
       "      <td>2</td>\n",
       "      <td>[A, B]</td>\n",
       "    </tr>\n",
       "    <tr>\n",
       "      <th>3717692402</th>\n",
       "      <td>2</td>\n",
       "      <td>[B, A]</td>\n",
       "    </tr>\n",
       "    <tr>\n",
       "      <th>3766097110</th>\n",
       "      <td>2</td>\n",
       "      <td>[A, B]</td>\n",
       "    </tr>\n",
       "    <tr>\n",
       "      <th>3803269165</th>\n",
       "      <td>2</td>\n",
       "      <td>[A, B]</td>\n",
       "    </tr>\n",
       "    <tr>\n",
       "      <th>3891541246</th>\n",
       "      <td>2</td>\n",
       "      <td>[A, B]</td>\n",
       "    </tr>\n",
       "    <tr>\n",
       "      <th>3941795274</th>\n",
       "      <td>2</td>\n",
       "      <td>[A, B]</td>\n",
       "    </tr>\n",
       "    <tr>\n",
       "      <th>3951559397</th>\n",
       "      <td>2</td>\n",
       "      <td>[B, A]</td>\n",
       "    </tr>\n",
       "    <tr>\n",
       "      <th>3957174400</th>\n",
       "      <td>2</td>\n",
       "      <td>[A, B]</td>\n",
       "    </tr>\n",
       "    <tr>\n",
       "      <th>3963646447</th>\n",
       "      <td>2</td>\n",
       "      <td>[A, B]</td>\n",
       "    </tr>\n",
       "    <tr>\n",
       "      <th>3972127743</th>\n",
       "      <td>2</td>\n",
       "      <td>[B, A]</td>\n",
       "    </tr>\n",
       "    <tr>\n",
       "      <th>3984495233</th>\n",
       "      <td>2</td>\n",
       "      <td>[B, A]</td>\n",
       "    </tr>\n",
       "    <tr>\n",
       "      <th>4069496402</th>\n",
       "      <td>2</td>\n",
       "      <td>[A, B]</td>\n",
       "    </tr>\n",
       "    <tr>\n",
       "      <th>4120364173</th>\n",
       "      <td>2</td>\n",
       "      <td>[A, B]</td>\n",
       "    </tr>\n",
       "    <tr>\n",
       "      <th>4186807279</th>\n",
       "      <td>2</td>\n",
       "      <td>[B, A]</td>\n",
       "    </tr>\n",
       "    <tr>\n",
       "      <th>4256040402</th>\n",
       "      <td>2</td>\n",
       "      <td>[B, A]</td>\n",
       "    </tr>\n",
       "    <tr>\n",
       "      <th>4266935830</th>\n",
       "      <td>2</td>\n",
       "      <td>[A, B]</td>\n",
       "    </tr>\n",
       "  </tbody>\n",
       "</table>\n",
       "</div>"
      ],
      "text/plain": [
       "            groups group_name\n",
       "visitorId                    \n",
       "8300375          2     [B, A]\n",
       "199603092        2     [A, B]\n",
       "232979603        2     [B, A]\n",
       "237748145        2     [B, A]\n",
       "276558944        2     [B, A]\n",
       "351125977        2     [B, A]\n",
       "393266494        2     [A, B]\n",
       "457167155        2     [B, A]\n",
       "471551937        2     [A, B]\n",
       "477780734        2     [A, B]\n",
       "818047933        2     [A, B]\n",
       "963407295        2     [B, A]\n",
       "1230306981       2     [A, B]\n",
       "1294878855       2     [B, A]\n",
       "1316129916       2     [A, B]\n",
       "1333886533       2     [A, B]\n",
       "1404934699       2     [B, A]\n",
       "1602967004       2     [B, A]\n",
       "1614305549       2     [B, A]\n",
       "1648269707       2     [B, A]\n",
       "1668030113       2     [B, A]\n",
       "1738359350       2     [A, B]\n",
       "1801183820       2     [B, A]\n",
       "1959144690       2     [A, B]\n",
       "2038680547       2     [B, A]\n",
       "2044997962       2     [A, B]\n",
       "2378935119       2     [A, B]\n",
       "2458001652       2     [A, B]\n",
       "2579882178       2     [A, B]\n",
       "2587333274       2     [B, A]\n",
       "2600415354       2     [B, A]\n",
       "2654030115       2     [B, A]\n",
       "2686716486       2     [A, B]\n",
       "2712142231       2     [B, A]\n",
       "2716752286       2     [B, A]\n",
       "2780786433       2     [A, B]\n",
       "2927087541       2     [A, B]\n",
       "2949041841       2     [A, B]\n",
       "2954449915       2     [A, B]\n",
       "3062433592       2     [B, A]\n",
       "3202540741       2     [A, B]\n",
       "3234906277       2     [B, A]\n",
       "3656415546       2     [A, B]\n",
       "3717692402       2     [B, A]\n",
       "3766097110       2     [A, B]\n",
       "3803269165       2     [A, B]\n",
       "3891541246       2     [A, B]\n",
       "3941795274       2     [A, B]\n",
       "3951559397       2     [B, A]\n",
       "3957174400       2     [A, B]\n",
       "3963646447       2     [A, B]\n",
       "3972127743       2     [B, A]\n",
       "3984495233       2     [B, A]\n",
       "4069496402       2     [A, B]\n",
       "4120364173       2     [A, B]\n",
       "4186807279       2     [B, A]\n",
       "4256040402       2     [B, A]\n",
       "4266935830       2     [A, B]"
      ]
     },
     "metadata": {},
     "output_type": "display_data"
    }
   ],
   "source": [
    "# проверяем пересечение пользователей по группам\n",
    "duplicates_users = orders.groupby('visitorId').agg({'group': ['nunique', 'unique']})\n",
    "duplicates_users.columns =['groups', 'group_name']\n",
    "duplicates_users = duplicates_users.query('groups > 1')\n",
    "display(duplicates_users)"
   ]
  },
  {
   "cell_type": "code",
   "execution_count": 39,
   "metadata": {},
   "outputs": [
    {
     "data": {
      "text/html": [
       "<div>\n",
       "<style scoped>\n",
       "    .dataframe tbody tr th:only-of-type {\n",
       "        vertical-align: middle;\n",
       "    }\n",
       "\n",
       "    .dataframe tbody tr th {\n",
       "        vertical-align: top;\n",
       "    }\n",
       "\n",
       "    .dataframe thead th {\n",
       "        text-align: right;\n",
       "    }\n",
       "</style>\n",
       "<table border=\"1\" class=\"dataframe\">\n",
       "  <thead>\n",
       "    <tr style=\"text-align: right;\">\n",
       "      <th></th>\n",
       "      <th>date</th>\n",
       "      <th>group</th>\n",
       "      <th>visitors</th>\n",
       "    </tr>\n",
       "  </thead>\n",
       "  <tbody>\n",
       "    <tr>\n",
       "      <th>0</th>\n",
       "      <td>2019-08-01</td>\n",
       "      <td>A</td>\n",
       "      <td>719</td>\n",
       "    </tr>\n",
       "    <tr>\n",
       "      <th>1</th>\n",
       "      <td>2019-08-02</td>\n",
       "      <td>A</td>\n",
       "      <td>619</td>\n",
       "    </tr>\n",
       "    <tr>\n",
       "      <th>2</th>\n",
       "      <td>2019-08-03</td>\n",
       "      <td>A</td>\n",
       "      <td>507</td>\n",
       "    </tr>\n",
       "    <tr>\n",
       "      <th>3</th>\n",
       "      <td>2019-08-04</td>\n",
       "      <td>A</td>\n",
       "      <td>717</td>\n",
       "    </tr>\n",
       "    <tr>\n",
       "      <th>4</th>\n",
       "      <td>2019-08-05</td>\n",
       "      <td>A</td>\n",
       "      <td>756</td>\n",
       "    </tr>\n",
       "  </tbody>\n",
       "</table>\n",
       "</div>"
      ],
      "text/plain": [
       "         date group  visitors\n",
       "0  2019-08-01     A       719\n",
       "1  2019-08-02     A       619\n",
       "2  2019-08-03     A       507\n",
       "3  2019-08-04     A       717\n",
       "4  2019-08-05     A       756"
      ]
     },
     "metadata": {},
     "output_type": "display_data"
    },
    {
     "name": "stdout",
     "output_type": "stream",
     "text": [
      "<class 'pandas.core.frame.DataFrame'>\n",
      "RangeIndex: 62 entries, 0 to 61\n",
      "Data columns (total 3 columns):\n",
      " #   Column    Non-Null Count  Dtype \n",
      "---  ------    --------------  ----- \n",
      " 0   date      62 non-null     object\n",
      " 1   group     62 non-null     object\n",
      " 2   visitors  62 non-null     int64 \n",
      "dtypes: int64(1), object(2)\n",
      "memory usage: 1.6+ KB\n"
     ]
    }
   ],
   "source": [
    "visitors = pd.read_csv('/datasets/visitors.csv', sep=',')\n",
    "# просматриваем\n",
    "display(visitors.head())\n",
    "visitors.info()"
   ]
  },
  {
   "cell_type": "code",
   "execution_count": 40,
   "metadata": {},
   "outputs": [
    {
     "name": "stdout",
     "output_type": "stream",
     "text": [
      "Количество явных дубликатов: 0\n"
     ]
    }
   ],
   "source": [
    "# проверяем наличие явных дубликатов\n",
    "print('Количество явных дубликатов:', visitors.duplicated().sum())"
   ]
  },
  {
   "cell_type": "code",
   "execution_count": 41,
   "metadata": {},
   "outputs": [
    {
     "ename": "AttributeError",
     "evalue": "type object 'datetime.datetime' has no attribute 'datetime'",
     "output_type": "error",
     "traceback": [
      "\u001b[0;31m---------------------------------------------------------------------------\u001b[0m",
      "\u001b[0;31mAttributeError\u001b[0m                            Traceback (most recent call last)",
      "\u001b[0;32m/tmp/ipykernel_224/826790669.py\u001b[0m in \u001b[0;36m<module>\u001b[0;34m\u001b[0m\n\u001b[1;32m      1\u001b[0m \u001b[0;31m# приведем столбец date к нужному типу\u001b[0m\u001b[0;34m\u001b[0m\u001b[0;34m\u001b[0m\u001b[0;34m\u001b[0m\u001b[0m\n\u001b[0;32m----> 2\u001b[0;31m visitors['date'] = visitors['date'].map(\n\u001b[0m\u001b[1;32m      3\u001b[0m     \u001b[0;32mlambda\u001b[0m \u001b[0mx\u001b[0m\u001b[0;34m:\u001b[0m \u001b[0mdt\u001b[0m\u001b[0;34m.\u001b[0m\u001b[0mdatetime\u001b[0m\u001b[0;34m.\u001b[0m\u001b[0mstrptime\u001b[0m\u001b[0;34m(\u001b[0m\u001b[0mx\u001b[0m\u001b[0;34m,\u001b[0m \u001b[0;34m'%Y-%m-%d'\u001b[0m\u001b[0;34m)\u001b[0m\u001b[0;34m\u001b[0m\u001b[0;34m\u001b[0m\u001b[0m\n\u001b[1;32m      4\u001b[0m )\n\u001b[1;32m      5\u001b[0m \u001b[0;31m# проверим\u001b[0m\u001b[0;34m\u001b[0m\u001b[0;34m\u001b[0m\u001b[0;34m\u001b[0m\u001b[0m\n",
      "\u001b[0;32m/opt/conda/lib/python3.9/site-packages/pandas/core/series.py\u001b[0m in \u001b[0;36mmap\u001b[0;34m(self, arg, na_action)\u001b[0m\n\u001b[1;32m   3907\u001b[0m         \u001b[0mdtype\u001b[0m\u001b[0;34m:\u001b[0m \u001b[0mobject\u001b[0m\u001b[0;34m\u001b[0m\u001b[0;34m\u001b[0m\u001b[0m\n\u001b[1;32m   3908\u001b[0m         \"\"\"\n\u001b[0;32m-> 3909\u001b[0;31m         \u001b[0mnew_values\u001b[0m \u001b[0;34m=\u001b[0m \u001b[0msuper\u001b[0m\u001b[0;34m(\u001b[0m\u001b[0;34m)\u001b[0m\u001b[0;34m.\u001b[0m\u001b[0m_map_values\u001b[0m\u001b[0;34m(\u001b[0m\u001b[0marg\u001b[0m\u001b[0;34m,\u001b[0m \u001b[0mna_action\u001b[0m\u001b[0;34m=\u001b[0m\u001b[0mna_action\u001b[0m\u001b[0;34m)\u001b[0m\u001b[0;34m\u001b[0m\u001b[0;34m\u001b[0m\u001b[0m\n\u001b[0m\u001b[1;32m   3910\u001b[0m         return self._constructor(new_values, index=self.index).__finalize__(\n\u001b[1;32m   3911\u001b[0m             \u001b[0mself\u001b[0m\u001b[0;34m,\u001b[0m \u001b[0mmethod\u001b[0m\u001b[0;34m=\u001b[0m\u001b[0;34m\"map\"\u001b[0m\u001b[0;34m\u001b[0m\u001b[0;34m\u001b[0m\u001b[0m\n",
      "\u001b[0;32m/opt/conda/lib/python3.9/site-packages/pandas/core/base.py\u001b[0m in \u001b[0;36m_map_values\u001b[0;34m(self, mapper, na_action)\u001b[0m\n\u001b[1;32m    935\u001b[0m \u001b[0;34m\u001b[0m\u001b[0m\n\u001b[1;32m    936\u001b[0m         \u001b[0;31m# mapper is a function\u001b[0m\u001b[0;34m\u001b[0m\u001b[0;34m\u001b[0m\u001b[0;34m\u001b[0m\u001b[0m\n\u001b[0;32m--> 937\u001b[0;31m         \u001b[0mnew_values\u001b[0m \u001b[0;34m=\u001b[0m \u001b[0mmap_f\u001b[0m\u001b[0;34m(\u001b[0m\u001b[0mvalues\u001b[0m\u001b[0;34m,\u001b[0m \u001b[0mmapper\u001b[0m\u001b[0;34m)\u001b[0m\u001b[0;34m\u001b[0m\u001b[0;34m\u001b[0m\u001b[0m\n\u001b[0m\u001b[1;32m    938\u001b[0m \u001b[0;34m\u001b[0m\u001b[0m\n\u001b[1;32m    939\u001b[0m         \u001b[0;32mreturn\u001b[0m \u001b[0mnew_values\u001b[0m\u001b[0;34m\u001b[0m\u001b[0;34m\u001b[0m\u001b[0m\n",
      "\u001b[0;32mpandas/_libs/lib.pyx\u001b[0m in \u001b[0;36mpandas._libs.lib.map_infer\u001b[0;34m()\u001b[0m\n",
      "\u001b[0;32m/tmp/ipykernel_224/826790669.py\u001b[0m in \u001b[0;36m<lambda>\u001b[0;34m(x)\u001b[0m\n\u001b[1;32m      1\u001b[0m \u001b[0;31m# приведем столбец date к нужному типу\u001b[0m\u001b[0;34m\u001b[0m\u001b[0;34m\u001b[0m\u001b[0;34m\u001b[0m\u001b[0m\n\u001b[1;32m      2\u001b[0m visitors['date'] = visitors['date'].map(\n\u001b[0;32m----> 3\u001b[0;31m     \u001b[0;32mlambda\u001b[0m \u001b[0mx\u001b[0m\u001b[0;34m:\u001b[0m \u001b[0mdt\u001b[0m\u001b[0;34m.\u001b[0m\u001b[0mdatetime\u001b[0m\u001b[0;34m.\u001b[0m\u001b[0mstrptime\u001b[0m\u001b[0;34m(\u001b[0m\u001b[0mx\u001b[0m\u001b[0;34m,\u001b[0m \u001b[0;34m'%Y-%m-%d'\u001b[0m\u001b[0;34m)\u001b[0m\u001b[0;34m\u001b[0m\u001b[0;34m\u001b[0m\u001b[0m\n\u001b[0m\u001b[1;32m      4\u001b[0m )\n\u001b[1;32m      5\u001b[0m \u001b[0;31m# проверим\u001b[0m\u001b[0;34m\u001b[0m\u001b[0;34m\u001b[0m\u001b[0;34m\u001b[0m\u001b[0m\n",
      "\u001b[0;31mAttributeError\u001b[0m: type object 'datetime.datetime' has no attribute 'datetime'"
     ]
    }
   ],
   "source": [
    "# приведем столбец date к нужному типу\n",
    "visitors['date'] = visitors['date'].map(\n",
    "    lambda x: dt.datetime.strptime(x, '%Y-%m-%d')\n",
    ")\n",
    "# проверим\n",
    "visitors.info()"
   ]
  },
  {
   "cell_type": "code",
   "execution_count": null,
   "metadata": {},
   "outputs": [],
   "source": [
    "# смотрим доли\n",
    "\n",
    "# делаем сводную таблицу\n",
    "a_b_total1 = visitors.pivot_table(index='group', values='visitors', aggfunc='count')\n",
    "# выводим\n",
    "display(a_b_total1)\n",
    "# добавляем колонку с долями\n",
    "a_b_total1['percent'] = (a_b_total1['visitors'] / a_b_total1['visitors'].sum() * 100).round(1)\n",
    "# смотрим\n",
    "display(a_b_total1)\n",
    "a_b_total1.plot(kind='pie', y='percent')\n"
   ]
  },
  {
   "cell_type": "markdown",
   "metadata": {},
   "source": [
    "Первая таблица orders хранит в себе информацию об:\n",
    "    \n",
    "    1) идентификаторe заказа (transactionId)\n",
    "    \n",
    "    2) идентификаторe пользователя, совершившего заказ (visitorId)\n",
    "    \n",
    "    3) датe, когда был совершён заказ (date)\n",
    "    \n",
    "    4) выручке заказа (revenue)\n",
    "    \n",
    "    5) группе A/B-теста, в которую попал заказ (group)\n",
    "    \n",
    "Вторая таблица visitors хранит информацию об:\n",
    "    \n",
    "    1) дате (date)\n",
    "    \n",
    "    2) группе A/B-теста (group)\n",
    "    \n",
    "    3) количестве пользователей в указанную дату в указанной группе A/B-теста (visitors)\n",
    "    \n",
    "\n",
    "Перевела столбцы date в необходимый тип для дальнейшей работы."
   ]
  },
  {
   "cell_type": "markdown",
   "metadata": {},
   "source": [
    "### Собираем кумулятивные данные"
   ]
  },
  {
   "cell_type": "code",
   "execution_count": 42,
   "metadata": {},
   "outputs": [
    {
     "data": {
      "text/html": [
       "<div>\n",
       "<style scoped>\n",
       "    .dataframe tbody tr th:only-of-type {\n",
       "        vertical-align: middle;\n",
       "    }\n",
       "\n",
       "    .dataframe tbody tr th {\n",
       "        vertical-align: top;\n",
       "    }\n",
       "\n",
       "    .dataframe thead th {\n",
       "        text-align: right;\n",
       "    }\n",
       "</style>\n",
       "<table border=\"1\" class=\"dataframe\">\n",
       "  <thead>\n",
       "    <tr style=\"text-align: right;\">\n",
       "      <th></th>\n",
       "      <th>date</th>\n",
       "      <th>group</th>\n",
       "      <th>orders</th>\n",
       "      <th>buyers</th>\n",
       "      <th>revenue</th>\n",
       "      <th>visitors</th>\n",
       "    </tr>\n",
       "  </thead>\n",
       "  <tbody>\n",
       "    <tr>\n",
       "      <th>0</th>\n",
       "      <td>2019-08-01</td>\n",
       "      <td>A</td>\n",
       "      <td>24</td>\n",
       "      <td>20</td>\n",
       "      <td>148579</td>\n",
       "      <td>719</td>\n",
       "    </tr>\n",
       "    <tr>\n",
       "      <th>1</th>\n",
       "      <td>2019-08-01</td>\n",
       "      <td>B</td>\n",
       "      <td>21</td>\n",
       "      <td>20</td>\n",
       "      <td>101217</td>\n",
       "      <td>713</td>\n",
       "    </tr>\n",
       "    <tr>\n",
       "      <th>2</th>\n",
       "      <td>2019-08-02</td>\n",
       "      <td>A</td>\n",
       "      <td>44</td>\n",
       "      <td>38</td>\n",
       "      <td>242401</td>\n",
       "      <td>1338</td>\n",
       "    </tr>\n",
       "    <tr>\n",
       "      <th>3</th>\n",
       "      <td>2019-08-02</td>\n",
       "      <td>B</td>\n",
       "      <td>45</td>\n",
       "      <td>43</td>\n",
       "      <td>266748</td>\n",
       "      <td>1294</td>\n",
       "    </tr>\n",
       "    <tr>\n",
       "      <th>4</th>\n",
       "      <td>2019-08-03</td>\n",
       "      <td>A</td>\n",
       "      <td>68</td>\n",
       "      <td>62</td>\n",
       "      <td>354874</td>\n",
       "      <td>1845</td>\n",
       "    </tr>\n",
       "    <tr>\n",
       "      <th>5</th>\n",
       "      <td>2019-08-03</td>\n",
       "      <td>B</td>\n",
       "      <td>61</td>\n",
       "      <td>59</td>\n",
       "      <td>380996</td>\n",
       "      <td>1803</td>\n",
       "    </tr>\n",
       "    <tr>\n",
       "      <th>6</th>\n",
       "      <td>2019-08-04</td>\n",
       "      <td>A</td>\n",
       "      <td>84</td>\n",
       "      <td>77</td>\n",
       "      <td>425699</td>\n",
       "      <td>2562</td>\n",
       "    </tr>\n",
       "    <tr>\n",
       "      <th>7</th>\n",
       "      <td>2019-08-04</td>\n",
       "      <td>B</td>\n",
       "      <td>78</td>\n",
       "      <td>75</td>\n",
       "      <td>489567</td>\n",
       "      <td>2573</td>\n",
       "    </tr>\n",
       "    <tr>\n",
       "      <th>8</th>\n",
       "      <td>2019-08-05</td>\n",
       "      <td>A</td>\n",
       "      <td>109</td>\n",
       "      <td>100</td>\n",
       "      <td>549917</td>\n",
       "      <td>3318</td>\n",
       "    </tr>\n",
       "    <tr>\n",
       "      <th>9</th>\n",
       "      <td>2019-08-05</td>\n",
       "      <td>B</td>\n",
       "      <td>101</td>\n",
       "      <td>98</td>\n",
       "      <td>581995</td>\n",
       "      <td>3280</td>\n",
       "    </tr>\n",
       "  </tbody>\n",
       "</table>\n",
       "</div>"
      ],
      "text/plain": [
       "         date group  orders  buyers  revenue  visitors\n",
       "0  2019-08-01     A      24      20   148579       719\n",
       "1  2019-08-01     B      21      20   101217       713\n",
       "2  2019-08-02     A      44      38   242401      1338\n",
       "3  2019-08-02     B      45      43   266748      1294\n",
       "4  2019-08-03     A      68      62   354874      1845\n",
       "5  2019-08-03     B      61      59   380996      1803\n",
       "6  2019-08-04     A      84      77   425699      2562\n",
       "7  2019-08-04     B      78      75   489567      2573\n",
       "8  2019-08-05     A     109     100   549917      3318\n",
       "9  2019-08-05     B     101      98   581995      3280"
      ]
     },
     "metadata": {},
     "output_type": "display_data"
    }
   ],
   "source": [
    "# чтобы построить графики, нужно сначала собрать кумулятивные данные\n",
    "\n",
    "# создаем массив уникальных пар значений дат и групп теста\n",
    "datesGroups = orders[['date','group']].drop_duplicates()\n",
    "# получаем агрегированные кумулятивные по дням данные о заказах \n",
    "ordersAggregated = datesGroups.apply(\n",
    "    lambda x: orders[np.logical_and(\n",
    "        orders['date'] <= x['date'], orders['group'] == x['group'])].agg(\n",
    "        {'date' : 'max',\n",
    "         'group' : 'max',\n",
    "         'transactionId' : 'nunique',\n",
    "         'visitorId' : 'nunique',\n",
    "         'revenue' : 'sum'}), axis=1).sort_values(by=['date','group'])\n",
    "\n",
    "# получаем агрегированные кумулятивные по дням данные о посетителях интернет-магазина\n",
    "visitorsAggregated = datesGroups.apply(\n",
    "    lambda x: visitors[np.logical_and(visitors['date'] <= x['date'], visitors['group'] == x['group'])].agg(\n",
    "    {'date': 'max',\n",
    "     'group': 'max',\n",
    "     'visitors': 'sum'}), axis=1).sort_values(by=['date', 'group'])\n",
    "\n",
    "# объедияем данные в одной таблице\n",
    "cumulativeData = ordersAggregated.merge(visitorsAggregated, left_on=['date', 'group'], right_on=['date', 'group'])\n",
    "cumulativeData.columns = ['date', 'group', 'orders', 'buyers', 'revenue', 'visitors']\n",
    "# просматриваем\n",
    "display(cumulativeData.head(10))"
   ]
  },
  {
   "cell_type": "markdown",
   "metadata": {},
   "source": [
    "<a class=\"anchor\" id=\"22-bullet\">"
   ]
  },
  {
   "cell_type": "markdown",
   "metadata": {},
   "source": [
    "### График выручки по группам"
   ]
  },
  {
   "cell_type": "code",
   "execution_count": 43,
   "metadata": {},
   "outputs": [
    {
     "data": {
      "text/plain": [
       "Text(0.5, 1.0, 'График кумулятивной выручки по группам')"
      ]
     },
     "execution_count": 43,
     "metadata": {},
     "output_type": "execute_result"
    },
    {
     "data": {
      "image/png": "[encoded data removed]",
      "text/plain": [
       "<Figure size 1080x360 with 1 Axes>"
      ]
     },
     "metadata": {
      "needs_background": "light"
     },
     "output_type": "display_data"
    }
   ],
   "source": [
    "# фрэйм с кумулятивным количеством заказов и выручкой по группе А\n",
    "cumulativeRevenueA = cumulativeData[cumulativeData['group'] == 'A'][['date', 'revenue', 'orders']]\n",
    "\n",
    "# фрэкм с кумулятивным количеством заказов и выручкой по группе В\n",
    "cumulativeRevenueB = cumulativeData[cumulativeData['group'] == 'B'][['date', 'revenue', 'orders']]\n",
    "\n",
    "# строим график вырчки А и B групп\n",
    "plt.figure(figsize = (15, 5))\n",
    "plt.plot(cumulativeRevenueA['date'], cumulativeRevenueA['revenue'], label='A')\n",
    "plt.plot(cumulativeRevenueB['date'], cumulativeRevenueB['revenue'], label='B')\n",
    "plt.grid()\n",
    "plt.legend()\n",
    "plt.title('График кумулятивной выручки по группам')"
   ]
  },
  {
   "cell_type": "markdown",
   "metadata": {},
   "source": [
    "Мы видим, что вырчка увеличивается в течение всего теста - это хорошо. Но, в некоторых местах выручка группа В резко растет, чего не скажешь про выручку группы А (тут на первый взгляд всё плавно). Это может говорить о резком увеличении числа заказов или о появлении дорогих заказов в выборке. "
   ]
  },
  {
   "cell_type": "markdown",
   "metadata": {},
   "source": [
    "### График кумулятивного среднего чека по группам."
   ]
  },
  {
   "cell_type": "code",
   "execution_count": 44,
   "metadata": {},
   "outputs": [
    {
     "data": {
      "text/plain": [
       "Text(0.5, 1.0, 'График кумулятивного среднего чека по группам')"
      ]
     },
     "execution_count": 44,
     "metadata": {},
     "output_type": "execute_result"
    },
    {
     "data": {
      "image/png": "[encoded data removed]",
      "text/plain": [
       "<Figure size 1080x360 with 1 Axes>"
      ]
     },
     "metadata": {
      "needs_background": "light"
     },
     "output_type": "display_data"
    }
   ],
   "source": [
    "plt.figure(figsize = (15, 5))\n",
    "plt.plot(cumulativeRevenueA['date'], cumulativeRevenueA['revenue'] / cumulativeRevenueA['orders'], label='A')\n",
    "plt.plot(cumulativeRevenueB['date'], cumulativeRevenueB['revenue'] / cumulativeRevenueB['orders'], label='B')\n",
    "plt.grid()\n",
    "plt.legend()\n",
    "plt.title('График кумулятивного среднего чека по группам')"
   ]
  },
  {
   "cell_type": "markdown",
   "metadata": {},
   "source": [
    "по группе В можно сказать, что показатели кумулятивного среднего чека по группам после 2019-08-13 становится более менее стабильным. Также наблюдается рост с 2019-08-05 по 2019-08-13 а после фиксируется.\n",
    "\n",
    "по группе А кумуоятивный средний чек колеблется, но растет. На 2019-08-17 виден резкий скачек, возможно это сигнализирует о крупных заказах. После 2019-08-17 метрика значения падают, но не резко.\n",
    "\n"
   ]
  },
  {
   "cell_type": "markdown",
   "metadata": {},
   "source": [
    "### График относительного изменения кумулятивного среднего чека группы B к группе A."
   ]
  },
  {
   "cell_type": "code",
   "execution_count": 45,
   "metadata": {},
   "outputs": [
    {
     "data": {
      "text/plain": [
       "<matplotlib.lines.Line2D at 0x7f5ef425a820>"
      ]
     },
     "execution_count": 45,
     "metadata": {},
     "output_type": "execute_result"
    },
    {
     "data": {
      "image/png": "[encoded data removed]",
      "text/plain": [
       "<Figure size 1080x360 with 1 Axes>"
      ]
     },
     "metadata": {
      "needs_background": "light"
     },
     "output_type": "display_data"
    }
   ],
   "source": [
    "# соединяем данные\n",
    "mergedCumulativeRevenue = cumulativeRevenueA.merge(\n",
    "    cumulativeRevenueB, left_on='date', right_on='date', how='left', suffixes=['A', 'B'])\n",
    "\n",
    "# строим отношение средких чеков\n",
    "plt.figure(figsize=(15,5))\n",
    "plt.plot(mergedCumulativeRevenue['date'], (\n",
    "    mergedCumulativeRevenue['revenueB'] / mergedCumulativeRevenue['ordersB']) / (\n",
    "mergedCumulativeRevenue['revenueA'] / mergedCumulativeRevenue['ordersA']) - 1)\n",
    "plt.grid()\n",
    "plt.title('График отношения средних чеков группы В к группе А')\n",
    "\n",
    "# добавляем ось х\n",
    "plt.axhline(y=0, color='black', linestyle='--')"
   ]
  },
  {
   "cell_type": "markdown",
   "metadata": {},
   "source": [
    "По графику видно, что группа В вроде справляется со способностью 'покупать'. В начале периода были некие всплески и упадок, но потом виден резкий скачок (возожмно большие заказы) и далее метрика плавно идет вниз. Так или иначе, значения на графике нельзя назвать стабильными, хоть и к концу (после резкого роста) линия достаточно плавно идет вниз."
   ]
  },
  {
   "cell_type": "markdown",
   "metadata": {},
   "source": [
    "### График кумулятивной конверсии по группам"
   ]
  },
  {
   "cell_type": "code",
   "execution_count": 46,
   "metadata": {},
   "outputs": [
    {
     "data": {
      "text/plain": [
       "(0.0, 31.0, 0.02, 0.04)"
      ]
     },
     "execution_count": 46,
     "metadata": {},
     "output_type": "execute_result"
    },
    {
     "data": {
      "image/png": "[encoded data removed]",
      "text/plain": [
       "<Figure size 1080x360 with 1 Axes>"
      ]
     },
     "metadata": {
      "needs_background": "light"
     },
     "output_type": "display_data"
    }
   ],
   "source": [
    "# считаем кумулятивную конверсию\n",
    "cumulativeData['conversion'] = cumulativeData['orders'] / cumulativeData['visitors']\n",
    "\n",
    "# отедляем группу А\n",
    "cumulativeDataA = cumulativeData[cumulativeData['group'] == 'A']\n",
    "# отделяем группу В\n",
    "cumulativeDataB = cumulativeData[cumulativeData['group'] == 'B']\n",
    "\n",
    "# строим графики\n",
    "plt.figure(figsize=(15,5))\n",
    "plt.plot(cumulativeDataA['date'], cumulativeDataA['conversion'], label='A')\n",
    "plt.plot(cumulativeDataB['date'], cumulativeDataB['conversion'], label='B')\n",
    "plt.grid()\n",
    "plt.legend()\n",
    "plt.title('График кумулятивной конверсии по группам')\n",
    "\n",
    "# задаем масштаб осей\n",
    "plt.axis(['2019-08-01', '2019-09-01', 0.020, 0.040]) "
   ]
  },
  {
   "cell_type": "markdown",
   "metadata": {},
   "source": [
    "График относительно симметричен :) \n",
    "\n",
    "Были колебания у одних значений, но конверсия группы В явно лидирует. Вначале были небольшие скачки, но потом линия становится более менее стабильна. Конверсия группы А просела и также зафиксировалась."
   ]
  },
  {
   "cell_type": "markdown",
   "metadata": {},
   "source": [
    "### График относительного изменения кумулятивной конверсии группы B к группе A."
   ]
  },
  {
   "cell_type": "code",
   "execution_count": 47,
   "metadata": {},
   "outputs": [
    {
     "data": {
      "text/plain": [
       "(0.0, 31.0, -0.15, 0.25)"
      ]
     },
     "execution_count": 47,
     "metadata": {},
     "output_type": "execute_result"
    },
    {
     "data": {
      "image/png": "[encoded data removed]",
      "text/plain": [
       "<Figure size 1080x360 with 1 Axes>"
      ]
     },
     "metadata": {
      "needs_background": "light"
     },
     "output_type": "display_data"
    }
   ],
   "source": [
    "mergedCumulativeConversions = cumulativeDataA[['date','conversion']].merge(\n",
    "    cumulativeDataB[['date','conversion']], left_on='date', right_on='date', how='left', suffixes=['A', 'B'])\n",
    "\n",
    "plt.figure(figsize=(15,5))\n",
    "plt.plot(mergedCumulativeConversions['date'], \n",
    "         mergedCumulativeConversions['conversionB']/mergedCumulativeConversions['conversionA']-1, \n",
    "         label=\"Относительный прирост конверсии группы B относительно группы A\")\n",
    "plt.legend()\n",
    "plt.grid()\n",
    "plt.axhline(y=0, color='black', linestyle='--')\n",
    "plt.axhline(y=-0.1, color='grey', linestyle='--')\n",
    "plt.axis([\"2019-08-01\", '2019-09-01', -0.15, 0.25]) \n"
   ]
  },
  {
   "cell_type": "markdown",
   "metadata": {},
   "source": [
    "Совсем не долгое время группа В проигрывала группе А. Спустя достаточное короткое время группа В вырвалась вперед и показывала достаточно хорошие результаты.\n",
    "\n",
    "Чтобы сделать тот или иной вывод - необходимо для начала проанализиорвать аномалии - возможно он"
   ]
  },
  {
   "cell_type": "markdown",
   "metadata": {},
   "source": [
    "<a class=\"anchor\" id=\"23-bullet\">"
   ]
  },
  {
   "cell_type": "markdown",
   "metadata": {},
   "source": [
    "### Точечный график количества заказов по пользователям"
   ]
  },
  {
   "cell_type": "code",
   "execution_count": 48,
   "metadata": {},
   "outputs": [
    {
     "data": {
      "text/html": [
       "<div>\n",
       "<style scoped>\n",
       "    .dataframe tbody tr th:only-of-type {\n",
       "        vertical-align: middle;\n",
       "    }\n",
       "\n",
       "    .dataframe tbody tr th {\n",
       "        vertical-align: top;\n",
       "    }\n",
       "\n",
       "    .dataframe thead th {\n",
       "        text-align: right;\n",
       "    }\n",
       "</style>\n",
       "<table border=\"1\" class=\"dataframe\">\n",
       "  <thead>\n",
       "    <tr style=\"text-align: right;\">\n",
       "      <th></th>\n",
       "      <th>visitorId</th>\n",
       "      <th>orders</th>\n",
       "    </tr>\n",
       "  </thead>\n",
       "  <tbody>\n",
       "    <tr>\n",
       "      <th>1023</th>\n",
       "      <td>4256040402</td>\n",
       "      <td>11</td>\n",
       "    </tr>\n",
       "    <tr>\n",
       "      <th>591</th>\n",
       "      <td>2458001652</td>\n",
       "      <td>11</td>\n",
       "    </tr>\n",
       "    <tr>\n",
       "      <th>569</th>\n",
       "      <td>2378935119</td>\n",
       "      <td>9</td>\n",
       "    </tr>\n",
       "    <tr>\n",
       "      <th>487</th>\n",
       "      <td>2038680547</td>\n",
       "      <td>8</td>\n",
       "    </tr>\n",
       "    <tr>\n",
       "      <th>44</th>\n",
       "      <td>199603092</td>\n",
       "      <td>5</td>\n",
       "    </tr>\n",
       "    <tr>\n",
       "      <th>744</th>\n",
       "      <td>3062433592</td>\n",
       "      <td>5</td>\n",
       "    </tr>\n",
       "    <tr>\n",
       "      <th>55</th>\n",
       "      <td>237748145</td>\n",
       "      <td>5</td>\n",
       "    </tr>\n",
       "    <tr>\n",
       "      <th>917</th>\n",
       "      <td>3803269165</td>\n",
       "      <td>5</td>\n",
       "    </tr>\n",
       "    <tr>\n",
       "      <th>299</th>\n",
       "      <td>1230306981</td>\n",
       "      <td>5</td>\n",
       "    </tr>\n",
       "    <tr>\n",
       "      <th>897</th>\n",
       "      <td>3717692402</td>\n",
       "      <td>5</td>\n",
       "    </tr>\n",
       "  </tbody>\n",
       "</table>\n",
       "</div>"
      ],
      "text/plain": [
       "       visitorId  orders\n",
       "1023  4256040402      11\n",
       "591   2458001652      11\n",
       "569   2378935119       9\n",
       "487   2038680547       8\n",
       "44     199603092       5\n",
       "744   3062433592       5\n",
       "55     237748145       5\n",
       "917   3803269165       5\n",
       "299   1230306981       5\n",
       "897   3717692402       5"
      ]
     },
     "metadata": {},
     "output_type": "display_data"
    }
   ],
   "source": [
    "# подсчитаем количество заказов по пользователям и посмотрим на результат\n",
    "ordersByUsers = (orders.groupby(by='visitorId', as_index=False).\n",
    "                agg({'transactionId': pd.Series.nunique}))\n",
    "ordersByUsers.columns = ['visitorId', 'orders']\n",
    "display(ordersByUsers.sort_values(by='orders', ascending=False).head(10))\n"
   ]
  },
  {
   "cell_type": "markdown",
   "metadata": {},
   "source": [
    "Видно, что есть пользователи, которые совершали 5, 8, 9 и даже 11 заказов. Достаточно много, на мой взгляд."
   ]
  },
  {
   "cell_type": "code",
   "execution_count": 49,
   "metadata": {},
   "outputs": [
    {
     "data": {
      "text/plain": [
       "(array([937.,  64.,  17.,   3.,   6.,   0.,   0.,   1.,   1.,   2.]),\n",
       " array([ 1.,  2.,  3.,  4.,  5.,  6.,  7.,  8.,  9., 10., 11.]),\n",
       " <BarContainer object of 10 artists>)"
      ]
     },
     "execution_count": 49,
     "metadata": {},
     "output_type": "execute_result"
    },
    {
     "data": {
      "image/png": "[encoded data removed]",
      "text/plain": [
       "<Figure size 1080x360 with 1 Axes>"
      ]
     },
     "metadata": {
      "needs_background": "light"
     },
     "output_type": "display_data"
    }
   ],
   "source": [
    "plt.figure(figsize=(15,5))\n",
    "plt.grid()\n",
    "plt.title('Количество заказов на одного пользователя')\n",
    "plt.hist(ordersByUsers['orders'])"
   ]
  },
  {
   "cell_type": "markdown",
   "metadata": {},
   "source": [
    "На гситограмме видно, что большиство пользователей совершало заказ 1-2 раза."
   ]
  },
  {
   "cell_type": "code",
   "execution_count": 50,
   "metadata": {},
   "outputs": [
    {
     "data": {
      "text/plain": [
       "<matplotlib.collections.PathCollection at 0x7f5ef3eb63d0>"
      ]
     },
     "execution_count": 50,
     "metadata": {},
     "output_type": "execute_result"
    },
    {
     "data": {
      "image/png": "[encoded data removed]",
      "text/plain": [
       "<Figure size 1080x360 with 1 Axes>"
      ]
     },
     "metadata": {
      "needs_background": "light"
     },
     "output_type": "display_data"
    }
   ],
   "source": [
    "# построим точечную диаграмму числа заказов на одного пользователя\n",
    "x_values = pd.Series(range(0,len(ordersByUsers)))\n",
    "plt.figure(figsize=(15,5))\n",
    "plt.grid()\n",
    "plt.title('Точечная диаграмма числа заказов на одного пользователя')\n",
    "plt.scatter(x_values, ordersByUsers['orders']) "
   ]
  },
  {
   "cell_type": "markdown",
   "metadata": {},
   "source": [
    "В целом, вывод можно подтвердить - много пользователей которые сделали 1-2 заказа."
   ]
  },
  {
   "cell_type": "markdown",
   "metadata": {},
   "source": [
    "### Считаем 95-й и 99-й перцентили количества заказов на пользователя"
   ]
  },
  {
   "cell_type": "code",
   "execution_count": 51,
   "metadata": {},
   "outputs": [
    {
     "name": "stdout",
     "output_type": "stream",
     "text": [
      "Выобочные перцентили количества заказов: [1. 2. 4.]\n"
     ]
    }
   ],
   "source": [
    "# посчитаем выборочные перцентили количества заказов на одного пользователя\n",
    "print('Выобочные перцентили количества заказов:', np.percentile(ordersByUsers['orders'], [90, 95, 99]))"
   ]
  },
  {
   "cell_type": "markdown",
   "metadata": {},
   "source": [
    "Не более 5% пользователей оформляли болше чем 2 заказа. И более 10% пользователей заказывали больше 1-го раза.\n",
    "\n",
    "В целом, достаточно разумно выбрать 1-2 заказов на одного пользователя за нижнюю границу числа заказов."
   ]
  },
  {
   "cell_type": "markdown",
   "metadata": {},
   "source": [
    "### Точечный график стоимостей заказов"
   ]
  },
  {
   "cell_type": "code",
   "execution_count": 52,
   "metadata": {},
   "outputs": [
    {
     "data": {
      "text/plain": [
       "(array([1.195e+03, 1.000e+00, 0.000e+00, 0.000e+00, 0.000e+00, 0.000e+00,\n",
       "        0.000e+00, 0.000e+00, 0.000e+00, 1.000e+00]),\n",
       " array([5.000000e+01, 1.294950e+05, 2.589400e+05, 3.883850e+05,\n",
       "        5.178300e+05, 6.472750e+05, 7.767200e+05, 9.061650e+05,\n",
       "        1.035610e+06, 1.165055e+06, 1.294500e+06]),\n",
       " <BarContainer object of 10 artists>)"
      ]
     },
     "execution_count": 52,
     "metadata": {},
     "output_type": "execute_result"
    },
    {
     "data": {
      "image/png": "[encoded data removed]",
      "text/plain": [
       "<Figure size 1080x360 with 1 Axes>"
      ]
     },
     "metadata": {
      "needs_background": "light"
     },
     "output_type": "display_data"
    }
   ],
   "source": [
    "# изучим гистограмму стоимостей заказов\n",
    "plt.figure(figsize=(15,5))\n",
    "plt.grid()\n",
    "plt.title('Гистограмма распределения стоимостей заказов')\n",
    "plt.hist(orders['revenue'])"
   ]
  },
  {
   "cell_type": "markdown",
   "metadata": {},
   "source": [
    "Не очень информативно, но видно, что большинство заказов менее 200 000. Однако по гистограмме я не могу сказать про распределение дорогих и более дешевых заказов."
   ]
  },
  {
   "cell_type": "code",
   "execution_count": 53,
   "metadata": {},
   "outputs": [
    {
     "data": {
      "text/plain": [
       "Text(0.5, 1.0, 'Точечный график стоимостей заказов')"
      ]
     },
     "execution_count": 53,
     "metadata": {},
     "output_type": "execute_result"
    },
    {
     "data": {
      "image/png": "[encoded data removed]",
      "text/plain": [
       "<Figure size 1080x360 with 1 Axes>"
      ]
     },
     "metadata": {
      "needs_background": "light"
     },
     "output_type": "display_data"
    }
   ],
   "source": [
    "x_values = pd.Series(range(0,len(orders['revenue'])))\n",
    "plt.figure(figsize=(15,5))\n",
    "plt.grid()\n",
    "plt.scatter(x_values, orders['revenue']) \n",
    "plt.title('Точечный график стоимостей заказов')"
   ]
  },
  {
   "cell_type": "markdown",
   "metadata": {},
   "source": [
    "На точечном графике видно, что есть аномально большие заказы - но их не много (выбросы более 1 200 000 и свыше 200 000)\n",
    "\n",
    "Больше всего заказов стоимостью от 0 до 100 000 +-, на гистограмме было ощущение, что верхняя граница находится около 160 000 +-\n",
    "Проверим эту информацию посчитав выборочные перцентили"
   ]
  },
  {
   "cell_type": "markdown",
   "metadata": {},
   "source": [
    "### Считаем 95-й и 99-й перцентили стоимости заказов"
   ]
  },
  {
   "cell_type": "code",
   "execution_count": 54,
   "metadata": {},
   "outputs": [
    {
     "name": "stdout",
     "output_type": "stream",
     "text": [
      "Выборочные перцентили стоимостей заказов: [18168.  28000.  58233.2]\n"
     ]
    }
   ],
   "source": [
    "print('Выборочные перцентили стоимостей заказов:', np.percentile(orders['revenue'], [90, 95, 99]))\n"
   ]
  },
  {
   "cell_type": "markdown",
   "metadata": {},
   "source": [
    "Так, здесь картина уже совершенно другая..)\n",
    "\n",
    "Можем сказать, что не более 5% заказов дороже 28 000, и 10% дороже чем 18 168. Также 1% заказов не дороже 58 233.\n",
    "\n",
    "Думаю, что нормально считать за нижнюю границу заказы не дороже 28 000.\n",
    "\n",
    "\n"
   ]
  },
  {
   "cell_type": "markdown",
   "metadata": {},
   "source": [
    "### Считаем статистическую значимость различий в конверсии между группами по «сырым» данным"
   ]
  },
  {
   "cell_type": "code",
   "execution_count": 55,
   "metadata": {},
   "outputs": [
    {
     "data": {
      "text/html": [
       "<div>\n",
       "<style scoped>\n",
       "    .dataframe tbody tr th:only-of-type {\n",
       "        vertical-align: middle;\n",
       "    }\n",
       "\n",
       "    .dataframe tbody tr th {\n",
       "        vertical-align: top;\n",
       "    }\n",
       "\n",
       "    .dataframe thead th {\n",
       "        text-align: right;\n",
       "    }\n",
       "</style>\n",
       "<table border=\"1\" class=\"dataframe\">\n",
       "  <thead>\n",
       "    <tr style=\"text-align: right;\">\n",
       "      <th></th>\n",
       "      <th>date</th>\n",
       "      <th>ordersPerDateA</th>\n",
       "      <th>revenuePerDateA</th>\n",
       "      <th>ordersPerDateB</th>\n",
       "      <th>revenuePerDateB</th>\n",
       "      <th>ordersCummulativeA</th>\n",
       "      <th>revenueCummulativeA</th>\n",
       "      <th>ordersCummulativeB</th>\n",
       "      <th>revenueCummulativeB</th>\n",
       "      <th>visitorsPerDateA</th>\n",
       "      <th>visitorsPerDateB</th>\n",
       "      <th>visitorsCummulativeA</th>\n",
       "      <th>visitorsCummulativeB</th>\n",
       "    </tr>\n",
       "  </thead>\n",
       "  <tbody>\n",
       "    <tr>\n",
       "      <th>0</th>\n",
       "      <td>2019-08-01</td>\n",
       "      <td>24</td>\n",
       "      <td>148579</td>\n",
       "      <td>21</td>\n",
       "      <td>101217</td>\n",
       "      <td>24</td>\n",
       "      <td>148579</td>\n",
       "      <td>21</td>\n",
       "      <td>101217</td>\n",
       "      <td>719</td>\n",
       "      <td>713</td>\n",
       "      <td>719</td>\n",
       "      <td>713</td>\n",
       "    </tr>\n",
       "    <tr>\n",
       "      <th>1</th>\n",
       "      <td>2019-08-02</td>\n",
       "      <td>20</td>\n",
       "      <td>93822</td>\n",
       "      <td>24</td>\n",
       "      <td>165531</td>\n",
       "      <td>44</td>\n",
       "      <td>242401</td>\n",
       "      <td>45</td>\n",
       "      <td>266748</td>\n",
       "      <td>619</td>\n",
       "      <td>581</td>\n",
       "      <td>1338</td>\n",
       "      <td>1294</td>\n",
       "    </tr>\n",
       "    <tr>\n",
       "      <th>2</th>\n",
       "      <td>2019-08-03</td>\n",
       "      <td>24</td>\n",
       "      <td>112473</td>\n",
       "      <td>16</td>\n",
       "      <td>114248</td>\n",
       "      <td>68</td>\n",
       "      <td>354874</td>\n",
       "      <td>61</td>\n",
       "      <td>380996</td>\n",
       "      <td>507</td>\n",
       "      <td>509</td>\n",
       "      <td>1845</td>\n",
       "      <td>1803</td>\n",
       "    </tr>\n",
       "    <tr>\n",
       "      <th>3</th>\n",
       "      <td>2019-08-04</td>\n",
       "      <td>16</td>\n",
       "      <td>70825</td>\n",
       "      <td>17</td>\n",
       "      <td>108571</td>\n",
       "      <td>84</td>\n",
       "      <td>425699</td>\n",
       "      <td>78</td>\n",
       "      <td>489567</td>\n",
       "      <td>717</td>\n",
       "      <td>770</td>\n",
       "      <td>2562</td>\n",
       "      <td>2573</td>\n",
       "    </tr>\n",
       "    <tr>\n",
       "      <th>4</th>\n",
       "      <td>2019-08-05</td>\n",
       "      <td>25</td>\n",
       "      <td>124218</td>\n",
       "      <td>23</td>\n",
       "      <td>92428</td>\n",
       "      <td>109</td>\n",
       "      <td>549917</td>\n",
       "      <td>101</td>\n",
       "      <td>581995</td>\n",
       "      <td>756</td>\n",
       "      <td>707</td>\n",
       "      <td>3318</td>\n",
       "      <td>3280</td>\n",
       "    </tr>\n",
       "  </tbody>\n",
       "</table>\n",
       "</div>"
      ],
      "text/plain": [
       "         date  ordersPerDateA  revenuePerDateA  ordersPerDateB  \\\n",
       "0  2019-08-01              24           148579              21   \n",
       "1  2019-08-02              20            93822              24   \n",
       "2  2019-08-03              24           112473              16   \n",
       "3  2019-08-04              16            70825              17   \n",
       "4  2019-08-05              25           124218              23   \n",
       "\n",
       "   revenuePerDateB  ordersCummulativeA  revenueCummulativeA  \\\n",
       "0           101217                  24               148579   \n",
       "1           165531                  44               242401   \n",
       "2           114248                  68               354874   \n",
       "3           108571                  84               425699   \n",
       "4            92428                 109               549917   \n",
       "\n",
       "   ordersCummulativeB  revenueCummulativeB  visitorsPerDateA  \\\n",
       "0                  21               101217               719   \n",
       "1                  45               266748               619   \n",
       "2                  61               380996               507   \n",
       "3                  78               489567               717   \n",
       "4                 101               581995               756   \n",
       "\n",
       "   visitorsPerDateB  visitorsCummulativeA  visitorsCummulativeB  \n",
       "0               713                   719                   713  \n",
       "1               581                  1338                  1294  \n",
       "2               509                  1845                  1803  \n",
       "3               770                  2562                  2573  \n",
       "4               707                  3318                  3280  "
      ]
     },
     "metadata": {},
     "output_type": "display_data"
    }
   ],
   "source": [
    "# соберем данные по заказам и визитам в одну таблицу. Создадим сначала несколько таблиц и затем объединим их\n",
    "visitorsADaily = visitors[visitors['group'] == 'A'][['date', 'visitors']]\n",
    "visitorsADaily.columns = ['date', 'visitorsPerDateA']\n",
    "\n",
    "visitorsACummulative = visitorsADaily.apply(\n",
    "    lambda x: visitorsADaily[visitorsADaily['date'] <= x['date']].agg(\n",
    "        {'date': 'max', 'visitorsPerDateA': 'sum'}\n",
    "    ),\n",
    "    axis=1,\n",
    ")\n",
    "visitorsACummulative.columns = ['date', 'visitorsCummulativeA']\n",
    "\n",
    "visitorsBDaily = visitors[visitors['group'] == 'B'][['date', 'visitors']]\n",
    "visitorsBDaily.columns = ['date', 'visitorsPerDateB']\n",
    "\n",
    "visitorsBCummulative = visitorsBDaily.apply(\n",
    "    lambda x: visitorsBDaily[visitorsBDaily['date'] <= x['date']].agg(\n",
    "        {'date': 'max', 'visitorsPerDateB': 'sum'}\n",
    "    ),\n",
    "    axis=1,\n",
    ")\n",
    "visitorsBCummulative.columns = ['date', 'visitorsCummulativeB']\n",
    "\n",
    "ordersADaily = (\n",
    "    orders[orders['group'] == 'A'][['date', 'transactionId', 'visitorId', 'revenue']]\n",
    "    .groupby('date', as_index=False)\n",
    "    .agg({'transactionId': pd.Series.nunique, 'revenue': 'sum'})\n",
    ")\n",
    "ordersADaily.columns = ['date', 'ordersPerDateA', 'revenuePerDateA']\n",
    "\n",
    "ordersACummulative = ordersADaily.apply(\n",
    "    lambda x: ordersADaily[ordersADaily['date'] <= x['date']].agg(\n",
    "        {'date': 'max', 'ordersPerDateA': 'sum', 'revenuePerDateA': 'sum'}\n",
    "    ),\n",
    "    axis=1,\n",
    ").sort_values(by=['date'])\n",
    "ordersACummulative.columns = [\n",
    "    'date',\n",
    "    'ordersCummulativeA',\n",
    "    'revenueCummulativeA',\n",
    "]\n",
    "\n",
    "ordersBDaily = (\n",
    "    orders[orders['group'] == 'B'][['date', 'transactionId', 'visitorId', 'revenue']]\n",
    "    .groupby('date', as_index=False)\n",
    "    .agg({'transactionId': pd.Series.nunique, 'revenue': 'sum'})\n",
    ")\n",
    "ordersBDaily.columns = ['date', 'ordersPerDateB', 'revenuePerDateB']\n",
    "\n",
    "ordersBCummulative = ordersBDaily.apply(\n",
    "    lambda x: ordersBDaily[ordersBDaily['date'] <= x['date']].agg(\n",
    "        {'date': 'max', 'ordersPerDateB': 'sum', 'revenuePerDateB': 'sum'}\n",
    "    ),\n",
    "    axis=1,\n",
    ").sort_values(by=['date'])\n",
    "ordersBCummulative.columns = [\n",
    "    'date',\n",
    "    'ordersCummulativeB',\n",
    "    'revenueCummulativeB',\n",
    "]\n",
    "\n",
    "data = (\n",
    "    ordersADaily.merge(\n",
    "        ordersBDaily, left_on='date', right_on='date', how='left'\n",
    "    )\n",
    "    .merge(ordersACummulative, left_on='date', right_on='date', how='left')\n",
    "    .merge(ordersBCummulative, left_on='date', right_on='date', how='left')\n",
    "    .merge(visitorsADaily, left_on='date', right_on='date', how='left')\n",
    "    .merge(visitorsBDaily, left_on='date', right_on='date', how='left')\n",
    "    .merge(visitorsACummulative, left_on='date', right_on='date', how='left')\n",
    "    .merge(visitorsBCummulative, left_on='date', right_on='date', how='left')\n",
    ")\n",
    "\n",
    "display(data.head(5)) "
   ]
  },
  {
   "cell_type": "code",
   "execution_count": 56,
   "metadata": {},
   "outputs": [
    {
     "name": "stdout",
     "output_type": "stream",
     "text": [
      "alpha = 0.05\n",
      "p_value = 0.017\n",
      "0.138\n"
     ]
    }
   ],
   "source": [
    "# создаем переменные в которых для пользователей которые заказывали хотя-бы 1 раз укажем число совершенных заказов\n",
    "\n",
    "ordersByUsersA = (\n",
    "    orders[orders['group'] == 'A']\n",
    "    .groupby('visitorId', as_index=False)\n",
    "    .agg({'transactionId': pd.Series.nunique})\n",
    ")\n",
    "ordersByUsersA.columns = ['visitorId', 'orders']\n",
    "\n",
    "\n",
    "ordersByUsersB = (\n",
    "    orders[orders['group'] == 'B']\n",
    "    .groupby('visitorId', as_index=False)\n",
    "    .agg({'transactionId': pd.Series.nunique})\n",
    ")\n",
    "ordersByUsersB.columns = ['visitorId', 'orders'] \n",
    "\n",
    "\n",
    "\n",
    "# объявим переменные, в которых пользователям из разных групп будет соответствовать количество заказов. \n",
    "# тем, что ничего не заказывал - будут соответствовать нули\n",
    "\n",
    "sampleA = pd.concat(\n",
    "    [ordersByUsersA['orders'],pd.Series(\n",
    "        0, index=np.arange(data['visitorsPerDateA'].sum() - len(ordersByUsersA['orders'])), name='orders')],axis=0)\n",
    "\n",
    "sampleB = pd.concat(\n",
    "    [ordersByUsersB['orders'],pd.Series(\n",
    "        0, index=np.arange(data['visitorsPerDateB'].sum() - len(ordersByUsersB['orders'])), name='orders')],axis=0)\n",
    "\n",
    "\n",
    "print('alpha =', 0.05)\n",
    "print(\"p_value = {0:.3f}\".format(stats.mannwhitneyu(sampleA, sampleB)[1]))\n",
    "print(\"{0:.3f}\".format(sampleB.mean() / sampleA.mean() - 1))\n"
   ]
  },
  {
   "cell_type": "markdown",
   "metadata": {},
   "source": [
    "p-value меньше, чем 0.05 - поэтому нулевую гепотезу отвергаем. \n",
    "\n",
    "Анализ сырых данных показывает, что в конверсиях между группами есть статестически значимые различия. Относительный прирост конверсии группы В к конверсии группы А равен 13.8%.\n",
    "\n",
    "Нулевая гипотеза - H0 конверсии между группами по сырым данным равны. Альтернативная гпотеза - H1 конверсии между группами по сырым данным не равны/различны."
   ]
  },
  {
   "cell_type": "markdown",
   "metadata": {},
   "source": [
    "### Считаем статистическую значимость различий в среднем чеке заказа между группами по «сырым» данным. "
   ]
  },
  {
   "cell_type": "code",
   "execution_count": 57,
   "metadata": {},
   "outputs": [
    {
     "name": "stdout",
     "output_type": "stream",
     "text": [
      "alpha = 0.05\n",
      "p_value = 0.729\n",
      "0.259\n"
     ]
    }
   ],
   "source": [
    "print('alpha =', 0.05)\n",
    "print('p_value = {0:.3f}'.format(\n",
    "    stats.mannwhitneyu(orders[orders['group']=='A']['revenue'], orders[orders['group']=='B']['revenue'])[1]))\n",
    "print('{0:.3f}'.format(\n",
    "    orders[orders['group']=='B']['revenue'].mean()/orders[orders['group']=='A']['revenue'].mean()-1)) \n"
   ]
  },
  {
   "cell_type": "markdown",
   "metadata": {},
   "source": [
    "p-value значительно больше 0.05. \n",
    "\n",
    "Значит, причин отвергать нулевую гипотезу и считать, что в среднем чеке есть различия, нет. Средний чек группы В не значительно ниже, чем группы А\n",
    "\n",
    "Нулевая гипотеза - H0 средние чеки заказа между группами по сырым данным равны. Альтернативная гпотеза - H1 средние чеки заказа между группами по сырым данным не равны/различны."
   ]
  },
  {
   "cell_type": "markdown",
   "metadata": {},
   "source": [
    "### Считаем статистическую значимость различий в конверсии между группами по «очищенным» данным "
   ]
  },
  {
   "cell_type": "code",
   "execution_count": 58,
   "metadata": {},
   "outputs": [
    {
     "data": {
      "text/plain": [
       "18    199603092\n",
       "23    237748145\n",
       "37    249864742\n",
       "68    457167155\n",
       "68    611059232\n",
       "Name: visitorId, dtype: int64"
      ]
     },
     "metadata": {},
     "output_type": "display_data"
    },
    {
     "data": {
      "text/plain": [
       "(20,)"
      ]
     },
     "metadata": {},
     "output_type": "display_data"
    }
   ],
   "source": [
    "# примем за аномальчных пользователей тех, кто совершил больше 2-х заказов\n",
    "usersWithManyOrders = pd.concat(\n",
    "    [\n",
    "        ordersByUsersA[ordersByUsersA['orders'] > 2]['visitorId'],\n",
    "        ordersByUsersB[ordersByUsersB['orders'] > 2]['visitorId'],\n",
    "    ],\n",
    "    axis=0,\n",
    ")\n",
    "\n",
    "abnormalUsers = (\n",
    "    pd.concat([usersWithManyOrders], axis=0)\n",
    "    .drop_duplicates()\n",
    "    .sort_values()\n",
    ")\n",
    "display(abnormalUsers.head())\n",
    "display(abnormalUsers.shape)"
   ]
  },
  {
   "cell_type": "markdown",
   "metadata": {},
   "source": [
    "Получилось всего 20 аномальных пользователей"
   ]
  },
  {
   "cell_type": "code",
   "execution_count": 59,
   "metadata": {},
   "outputs": [],
   "source": [
    "# подгатавливаем выборки количества заказов по пользователям по группам теста\n",
    "sampleAFiltered = pd.concat(\n",
    "    [\n",
    "        ordersByUsersA[\n",
    "            np.logical_not(ordersByUsersA['visitorId'].isin(abnormalUsers))\n",
    "        ]['orders'],\n",
    "        pd.Series(\n",
    "            0,\n",
    "            index=np.arange(\n",
    "                data['visitorsPerDateA'].sum() - len(ordersByUsersA['orders'])\n",
    "            ),\n",
    "            name='orders',\n",
    "        ),\n",
    "    ],\n",
    "    axis=0,\n",
    ")\n",
    "\n",
    "sampleBFiltered = pd.concat(\n",
    "    [\n",
    "        ordersByUsersB[\n",
    "            np.logical_not(ordersByUsersB['visitorId'].isin(abnormalUsers))\n",
    "        ]['orders'],\n",
    "        pd.Series(\n",
    "            0,\n",
    "            index=np.arange(\n",
    "                data['visitorsPerDateB'].sum() - len(ordersByUsersB['orders'])\n",
    "            ),\n",
    "            name='orders',\n",
    "        ),\n",
    "    ],\n",
    "    axis=0,\n",
    ") "
   ]
  },
  {
   "cell_type": "code",
   "execution_count": 60,
   "metadata": {},
   "outputs": [
    {
     "name": "stdout",
     "output_type": "stream",
     "text": [
      "alpha = 0.05\n",
      "p-value = 0.012\n",
      "0.170\n"
     ]
    }
   ],
   "source": [
    "# применим статистический критерий Манна-Уитни к полученным выборкам\n",
    "print('alpha = 0.05')\n",
    "print('p-value = {0:.3f}'.format(stats.mannwhitneyu(sampleAFiltered, sampleBFiltered)[1]))\n",
    "print('{0:.3f}'.format(sampleBFiltered.mean()/sampleAFiltered.mean()-1)) "
   ]
  },
  {
   "cell_type": "markdown",
   "metadata": {},
   "source": [
    "Результаты по конверсии извенились, но незначительно. Так или иначе сегмент В лучше сегмента А.\n",
    "\n",
    "Всё еще p-value меньше 0.05\n",
    "\n",
    "Нулевая гипотеза - H0 конверсии между группами по очищенным данным равны. Альтернативная гпотеза - H1 конверсии между группами по очищенным данным не равны/различны.\n",
    "\n"
   ]
  },
  {
   "cell_type": "markdown",
   "metadata": {},
   "source": [
    "### Считаем статистическую значимость различий в среднем чеке заказа между группами по «очищенным» данным"
   ]
  },
  {
   "cell_type": "code",
   "execution_count": 61,
   "metadata": {},
   "outputs": [
    {
     "name": "stdout",
     "output_type": "stream",
     "text": [
      "1099    148427295\n",
      "18      199603092\n",
      "928     204675465\n",
      "23      237748145\n",
      "37      249864742\n",
      "Name: visitorId, dtype: int64\n",
      "(74,)\n"
     ]
    }
   ],
   "source": [
    "# примем за аномальчные заказы те, которые больше 2-х заказов\n",
    "usersWithExpensiveOrders = orders[orders['revenue'] > 28000]['visitorId']\n",
    "abnormalUsers = (\n",
    "    pd.concat([usersWithManyOrders, usersWithExpensiveOrders], axis=0)\n",
    "    .drop_duplicates()\n",
    "    .sort_values()\n",
    ")\n",
    "print(abnormalUsers.head(5))\n",
    "print(abnormalUsers.shape) "
   ]
  },
  {
   "cell_type": "markdown",
   "metadata": {},
   "source": [
    "Получается, что заказов дороже 28000 рублей - 74 штуки."
   ]
  },
  {
   "cell_type": "code",
   "execution_count": 62,
   "metadata": {},
   "outputs": [],
   "source": [
    "sampleAFiltered = pd.concat(\n",
    "    [\n",
    "        ordersByUsersA[\n",
    "            np.logical_not(ordersByUsersA['visitorId'].isin(abnormalUsers))\n",
    "        ]['orders'],\n",
    "        pd.Series(\n",
    "            0,\n",
    "            index=np.arange(\n",
    "                data['visitorsPerDateA'].sum() - len(ordersByUsersA['orders'])\n",
    "            ),\n",
    "            name='orders',\n",
    "        ),\n",
    "    ],\n",
    "    axis=0,\n",
    ")\n",
    "\n",
    "sampleBFiltered = pd.concat(\n",
    "    [\n",
    "        ordersByUsersB[\n",
    "            np.logical_not(ordersByUsersB['visitorId'].isin(abnormalUsers))\n",
    "        ]['orders'],\n",
    "        pd.Series(\n",
    "            0,\n",
    "            index=np.arange(\n",
    "                data['visitorsPerDateB'].sum() - len(ordersByUsersB['orders'])\n",
    "            ),\n",
    "            name='orders',\n",
    "        ),\n",
    "    ],\n",
    "    axis=0,\n",
    ") "
   ]
  },
  {
   "cell_type": "code",
   "execution_count": 63,
   "metadata": {},
   "outputs": [
    {
     "name": "stdout",
     "output_type": "stream",
     "text": [
      "aplha = 0.05\n",
      "p-value = 0.738\n",
      "-0.020\n"
     ]
    }
   ],
   "source": [
    "print('aplha =', 0.05)\n",
    "print(\n",
    "    'p-value = {0:.3f}'.format(\n",
    "        stats.mannwhitneyu(\n",
    "            orders[\n",
    "                np.logical_and(\n",
    "                    orders['group'] == 'A',\n",
    "                    np.logical_not(orders['visitorId'].isin(abnormalUsers)),\n",
    "                )\n",
    "            ]['revenue'],\n",
    "            orders[\n",
    "                np.logical_and(\n",
    "                    orders['group'] == 'B',\n",
    "                    np.logical_not(orders['visitorId'].isin(abnormalUsers)),\n",
    "                )\n",
    "            ]['revenue'],\n",
    "        )[1]\n",
    "    )\n",
    ")\n",
    "\n",
    "print(\n",
    "    \"{0:.3f}\".format(\n",
    "        orders[\n",
    "            np.logical_and(\n",
    "                orders['group'] == 'B',\n",
    "                np.logical_not(orders['visitorId'].isin(abnormalUsers)),\n",
    "            )\n",
    "        ]['revenue'].mean()\n",
    "        / orders[\n",
    "            np.logical_and(\n",
    "                orders['group'] == 'A',\n",
    "                np.logical_not(orders['visitorId'].isin(abnormalUsers)),\n",
    "            )\n",
    "        ]['revenue'].mean()\n",
    "        - 1\n",
    "    )\n",
    ") "
   ]
  },
  {
   "cell_type": "markdown",
   "metadata": {},
   "source": [
    "p-value немного увеличился.\n",
    "\n",
    "Средний чек группы B значительно ниже среднего чека группы A. Есть статистическая значимость различия среднего чека заказов между группами. После удаления выбросов в данных меньше шума.\n",
    "\n",
    "Нулевая гипотеза - H0 средние чеки заказа между группами по сырым данным равны. Альтернативная гпотеза - H1 средние чеки заказа между группами по сырым данным не равны/различны."
   ]
  },
  {
   "cell_type": "markdown",
   "metadata": {},
   "source": [
    "### Принимаем решение по результатам теста"
   ]
  },
  {
   "cell_type": "markdown",
   "metadata": {},
   "source": [
    "Из имеющихсяя фактов:\n",
    "\n",
    "1) Анализ сырых данных показывает, что в конверсиях между группами есть статестически значимые различия. Относительный прирост конверсии группы В к конверсии группы А равен 13.8%. Анализ очищенных данных показывает, что в конверсиях между группами также есть статестически значимые различия.\n",
    "\n",
    "2) Нет статистически значимого различия по среднему чеку между группами по сырым данным. Но, после удаления аномальных значений статистическая значитмость различия среднего чека между группами появилась.\n",
    "\n",
    "3) График относительного изменения среднего чека говорит о том, что группа В вроде и справляется со способостью 'покупать', но достаточно не стабильно. показатели идут то вверх, то вниз, то снова резко вверх.\n",
    "\n",
    "4) График относительного изменения кумулятивной конверсии говорит о том, что группа В лучше группы А, о чем свидетельствуют хорошие и стабильные показатели."
   ]
  },
  {
   "cell_type": "markdown",
   "metadata": {},
   "source": [
    "Исходя из выше сказанного могу предположить, что в группе В пользователи стали покупать чаще - они делают в среднем больше покупок. Но, средний чек не вырос, т.е. они делают больше мелких покупок.\n",
    "\n",
    "Значит, зарабатывать больше бизнес не стал. Нельзя сказать, что для бизнеса есть существенная разница между группами.\n",
    "Думаю, что нужно остановить тест и зафиксировать отсутствие различий между группами."
   ]
  },
  {
   "cell_type": "code",
   "execution_count": null,
   "metadata": {},
   "outputs": [],
   "source": []
  }
 ],
 "metadata": {
  "ExecuteTimeLog": [
   {
    "duration": 594,
    "start_time": "2022-03-03T18:48:31.307Z"
   },
   {
    "duration": 3,
    "start_time": "2022-03-03T18:48:44.938Z"
   },
   {
    "duration": 82,
    "start_time": "2022-03-03T18:48:56.246Z"
   },
   {
    "duration": 856,
    "start_time": "2022-03-03T18:52:45.144Z"
   },
   {
    "duration": 15,
    "start_time": "2022-03-03T18:53:04.156Z"
   },
   {
    "duration": 23,
    "start_time": "2022-03-03T18:53:17.925Z"
   },
   {
    "duration": 18,
    "start_time": "2022-03-03T18:53:23.633Z"
   },
   {
    "duration": 3,
    "start_time": "2022-03-03T19:10:25.650Z"
   },
   {
    "duration": 3,
    "start_time": "2022-03-03T19:12:42.679Z"
   },
   {
    "duration": 5,
    "start_time": "2022-03-03T19:13:00.191Z"
   },
   {
    "duration": 184,
    "start_time": "2022-03-03T19:14:40.675Z"
   },
   {
    "duration": 15,
    "start_time": "2022-03-03T19:14:53.468Z"
   },
   {
    "duration": 14,
    "start_time": "2022-03-03T19:19:48.802Z"
   },
   {
    "duration": 177,
    "start_time": "2022-03-03T19:28:32.654Z"
   },
   {
    "duration": 24,
    "start_time": "2022-03-03T19:28:38.947Z"
   },
   {
    "duration": 32,
    "start_time": "2022-03-03T19:28:44.361Z"
   },
   {
    "duration": 30,
    "start_time": "2022-03-03T19:28:52.801Z"
   },
   {
    "duration": 17,
    "start_time": "2022-03-03T19:29:55.660Z"
   },
   {
    "duration": 23,
    "start_time": "2022-03-03T19:30:20.626Z"
   },
   {
    "duration": 21,
    "start_time": "2022-03-03T20:09:46.443Z"
   },
   {
    "duration": 800,
    "start_time": "2022-03-03T20:14:24.330Z"
   },
   {
    "duration": 2,
    "start_time": "2022-03-03T20:14:32.069Z"
   },
   {
    "duration": 33,
    "start_time": "2022-03-03T20:14:32.074Z"
   },
   {
    "duration": 11,
    "start_time": "2022-03-03T20:14:32.109Z"
   },
   {
    "duration": 21,
    "start_time": "2022-03-03T20:14:32.122Z"
   },
   {
    "duration": 26,
    "start_time": "2022-03-03T20:14:32.145Z"
   },
   {
    "duration": 38,
    "start_time": "2022-03-03T20:14:32.172Z"
   },
   {
    "duration": 809,
    "start_time": "2022-03-03T20:14:32.212Z"
   },
   {
    "duration": -3,
    "start_time": "2022-03-03T20:14:33.025Z"
   },
   {
    "duration": 1074,
    "start_time": "2022-03-03T20:15:00.498Z"
   },
   {
    "duration": 750,
    "start_time": "2022-03-03T20:15:22.181Z"
   },
   {
    "duration": 3,
    "start_time": "2022-03-03T20:15:53.959Z"
   },
   {
    "duration": 21,
    "start_time": "2022-03-03T20:15:53.964Z"
   },
   {
    "duration": 8,
    "start_time": "2022-03-03T20:15:53.988Z"
   },
   {
    "duration": 24,
    "start_time": "2022-03-03T20:15:53.998Z"
   },
   {
    "duration": 25,
    "start_time": "2022-03-03T20:15:54.024Z"
   },
   {
    "duration": 48,
    "start_time": "2022-03-03T20:15:54.051Z"
   },
   {
    "duration": 84,
    "start_time": "2022-03-03T20:15:54.101Z"
   },
   {
    "duration": 45,
    "start_time": "2022-03-03T20:15:54.142Z"
   },
   {
    "duration": 80,
    "start_time": "2022-03-03T20:16:10.951Z"
   },
   {
    "duration": 737,
    "start_time": "2022-03-03T20:16:14.239Z"
   },
   {
    "duration": 30,
    "start_time": "2022-03-03T20:18:04.293Z"
   },
   {
    "duration": 3,
    "start_time": "2022-03-03T20:18:17.141Z"
   },
   {
    "duration": 25,
    "start_time": "2022-03-03T20:18:17.146Z"
   },
   {
    "duration": 5,
    "start_time": "2022-03-03T20:18:17.174Z"
   },
   {
    "duration": 14,
    "start_time": "2022-03-03T20:18:17.181Z"
   },
   {
    "duration": 17,
    "start_time": "2022-03-03T20:18:17.197Z"
   },
   {
    "duration": 33,
    "start_time": "2022-03-03T20:18:17.216Z"
   },
   {
    "duration": 24,
    "start_time": "2022-03-03T20:18:17.251Z"
   },
   {
    "duration": 8,
    "start_time": "2022-03-03T20:18:17.276Z"
   },
   {
    "duration": 34,
    "start_time": "2022-03-03T20:19:12.559Z"
   },
   {
    "duration": 24,
    "start_time": "2022-03-03T20:19:23.017Z"
   },
   {
    "duration": 3,
    "start_time": "2022-03-03T20:19:56.329Z"
   },
   {
    "duration": 28,
    "start_time": "2022-03-03T20:19:56.335Z"
   },
   {
    "duration": 6,
    "start_time": "2022-03-03T20:19:56.365Z"
   },
   {
    "duration": 16,
    "start_time": "2022-03-03T20:19:56.373Z"
   },
   {
    "duration": 13,
    "start_time": "2022-03-03T20:19:56.390Z"
   },
   {
    "duration": 38,
    "start_time": "2022-03-03T20:19:56.405Z"
   },
   {
    "duration": 809,
    "start_time": "2022-03-03T20:19:56.444Z"
   },
   {
    "duration": -75,
    "start_time": "2022-03-03T20:19:57.331Z"
   },
   {
    "duration": 3,
    "start_time": "2022-03-03T20:20:16.425Z"
   },
   {
    "duration": 20,
    "start_time": "2022-03-03T20:20:16.431Z"
   },
   {
    "duration": 5,
    "start_time": "2022-03-03T20:20:16.454Z"
   },
   {
    "duration": 14,
    "start_time": "2022-03-03T20:20:16.461Z"
   },
   {
    "duration": 24,
    "start_time": "2022-03-03T20:20:16.477Z"
   },
   {
    "duration": 36,
    "start_time": "2022-03-03T20:20:16.503Z"
   },
   {
    "duration": 22,
    "start_time": "2022-03-03T20:20:16.542Z"
   },
   {
    "duration": 3,
    "start_time": "2022-03-03T20:20:16.566Z"
   },
   {
    "duration": 8,
    "start_time": "2022-03-03T20:20:40.355Z"
   },
   {
    "duration": 37,
    "start_time": "2022-03-03T20:20:57.787Z"
   },
   {
    "duration": 7,
    "start_time": "2022-03-03T20:21:37.568Z"
   },
   {
    "duration": 12,
    "start_time": "2022-03-03T20:21:48.139Z"
   },
   {
    "duration": 8,
    "start_time": "2022-03-03T20:26:51.669Z"
   },
   {
    "duration": 64,
    "start_time": "2022-03-03T20:32:03.466Z"
   },
   {
    "duration": 181,
    "start_time": "2022-03-03T20:32:27.611Z"
   },
   {
    "duration": 189,
    "start_time": "2022-03-03T20:32:41.701Z"
   },
   {
    "duration": 4236,
    "start_time": "2022-03-03T20:32:52.956Z"
   },
   {
    "duration": 69,
    "start_time": "2022-03-03T20:33:49.018Z"
   },
   {
    "duration": 4111,
    "start_time": "2022-03-03T20:33:53.531Z"
   },
   {
    "duration": 3,
    "start_time": "2022-03-03T20:34:00.829Z"
   },
   {
    "duration": 43,
    "start_time": "2022-03-03T20:34:00.834Z"
   },
   {
    "duration": 63,
    "start_time": "2022-03-03T20:34:00.880Z"
   },
   {
    "duration": 24,
    "start_time": "2022-03-03T20:34:00.946Z"
   },
   {
    "duration": 69,
    "start_time": "2022-03-03T20:34:00.972Z"
   },
   {
    "duration": 69,
    "start_time": "2022-03-03T20:34:01.043Z"
   },
   {
    "duration": 39,
    "start_time": "2022-03-03T20:34:01.114Z"
   },
   {
    "duration": 57,
    "start_time": "2022-03-03T20:34:01.155Z"
   },
   {
    "duration": 16,
    "start_time": "2022-03-03T20:34:01.214Z"
   },
   {
    "duration": 4140,
    "start_time": "2022-03-03T20:34:01.233Z"
   },
   {
    "duration": 4160,
    "start_time": "2022-03-03T20:35:02.885Z"
   },
   {
    "duration": 2298,
    "start_time": "2022-03-03T20:35:28.781Z"
   },
   {
    "duration": 4313,
    "start_time": "2022-03-03T20:35:50.394Z"
   },
   {
    "duration": 3,
    "start_time": "2022-03-03T20:38:00.534Z"
   },
   {
    "duration": 35,
    "start_time": "2022-03-03T20:38:00.539Z"
   },
   {
    "duration": 19,
    "start_time": "2022-03-03T20:38:00.576Z"
   },
   {
    "duration": 21,
    "start_time": "2022-03-03T20:38:00.598Z"
   },
   {
    "duration": 22,
    "start_time": "2022-03-03T20:38:00.621Z"
   },
   {
    "duration": 46,
    "start_time": "2022-03-03T20:38:00.645Z"
   },
   {
    "duration": 11,
    "start_time": "2022-03-03T20:38:00.693Z"
   },
   {
    "duration": 47,
    "start_time": "2022-03-03T20:38:00.706Z"
   },
   {
    "duration": 9,
    "start_time": "2022-03-03T20:38:00.755Z"
   },
   {
    "duration": 4283,
    "start_time": "2022-03-03T20:38:00.766Z"
   },
   {
    "duration": 3,
    "start_time": "2022-03-03T20:39:23.340Z"
   },
   {
    "duration": 39,
    "start_time": "2022-03-03T20:39:23.345Z"
   },
   {
    "duration": 16,
    "start_time": "2022-03-03T20:39:23.387Z"
   },
   {
    "duration": 22,
    "start_time": "2022-03-03T20:39:23.405Z"
   },
   {
    "duration": 27,
    "start_time": "2022-03-03T20:39:23.428Z"
   },
   {
    "duration": 52,
    "start_time": "2022-03-03T20:39:23.457Z"
   },
   {
    "duration": 7,
    "start_time": "2022-03-03T20:39:23.510Z"
   },
   {
    "duration": 35,
    "start_time": "2022-03-03T20:39:23.518Z"
   },
   {
    "duration": 12,
    "start_time": "2022-03-03T20:39:23.555Z"
   },
   {
    "duration": 4137,
    "start_time": "2022-03-03T20:39:23.569Z"
   },
   {
    "duration": 31,
    "start_time": "2022-03-03T20:40:58.135Z"
   },
   {
    "duration": 51,
    "start_time": "2022-03-03T20:41:18.804Z"
   },
   {
    "duration": 7,
    "start_time": "2022-03-03T20:41:26.082Z"
   },
   {
    "duration": 758,
    "start_time": "2022-03-03T20:42:06.178Z"
   },
   {
    "duration": 3,
    "start_time": "2022-03-03T20:42:13.356Z"
   },
   {
    "duration": 20,
    "start_time": "2022-03-03T20:42:13.362Z"
   },
   {
    "duration": 10,
    "start_time": "2022-03-03T20:42:13.385Z"
   },
   {
    "duration": 15,
    "start_time": "2022-03-03T20:42:13.397Z"
   },
   {
    "duration": 30,
    "start_time": "2022-03-03T20:42:13.414Z"
   },
   {
    "duration": 38,
    "start_time": "2022-03-03T20:42:13.446Z"
   },
   {
    "duration": 18,
    "start_time": "2022-03-03T20:42:13.486Z"
   },
   {
    "duration": 30,
    "start_time": "2022-03-03T20:42:13.506Z"
   },
   {
    "duration": 9,
    "start_time": "2022-03-03T20:42:13.539Z"
   },
   {
    "duration": 4711,
    "start_time": "2022-03-03T20:42:13.550Z"
   },
   {
    "duration": 3,
    "start_time": "2022-03-03T20:42:55.107Z"
   },
   {
    "duration": 22,
    "start_time": "2022-03-03T20:42:55.113Z"
   },
   {
    "duration": 6,
    "start_time": "2022-03-03T20:42:55.138Z"
   },
   {
    "duration": 14,
    "start_time": "2022-03-03T20:42:55.146Z"
   },
   {
    "duration": 13,
    "start_time": "2022-03-03T20:42:55.162Z"
   },
   {
    "duration": 36,
    "start_time": "2022-03-03T20:42:55.177Z"
   },
   {
    "duration": 19,
    "start_time": "2022-03-03T20:42:55.214Z"
   },
   {
    "duration": 29,
    "start_time": "2022-03-03T20:42:55.235Z"
   },
   {
    "duration": 730,
    "start_time": "2022-03-03T20:42:55.267Z"
   },
   {
    "duration": -92,
    "start_time": "2022-03-03T20:42:56.091Z"
   },
   {
    "duration": 3,
    "start_time": "2022-03-03T20:43:22.020Z"
   },
   {
    "duration": 40,
    "start_time": "2022-03-03T20:43:22.025Z"
   },
   {
    "duration": 6,
    "start_time": "2022-03-03T20:43:22.068Z"
   },
   {
    "duration": 17,
    "start_time": "2022-03-03T20:43:22.076Z"
   },
   {
    "duration": 23,
    "start_time": "2022-03-03T20:43:22.095Z"
   },
   {
    "duration": 45,
    "start_time": "2022-03-03T20:43:22.120Z"
   },
   {
    "duration": 17,
    "start_time": "2022-03-03T20:43:22.167Z"
   },
   {
    "duration": 22,
    "start_time": "2022-03-03T20:43:22.186Z"
   },
   {
    "duration": 800,
    "start_time": "2022-03-03T20:43:22.211Z"
   },
   {
    "duration": -111,
    "start_time": "2022-03-03T20:43:23.124Z"
   },
   {
    "duration": 3,
    "start_time": "2022-03-03T20:44:14.252Z"
   },
   {
    "duration": 21,
    "start_time": "2022-03-03T20:44:14.257Z"
   },
   {
    "duration": 6,
    "start_time": "2022-03-03T20:44:14.281Z"
   },
   {
    "duration": 15,
    "start_time": "2022-03-03T20:44:14.289Z"
   },
   {
    "duration": 14,
    "start_time": "2022-03-03T20:44:14.306Z"
   },
   {
    "duration": 40,
    "start_time": "2022-03-03T20:44:14.321Z"
   },
   {
    "duration": 18,
    "start_time": "2022-03-03T20:44:14.363Z"
   },
   {
    "duration": 20,
    "start_time": "2022-03-03T20:44:14.383Z"
   },
   {
    "duration": 739,
    "start_time": "2022-03-03T20:44:14.405Z"
   },
   {
    "duration": -49,
    "start_time": "2022-03-03T20:44:15.195Z"
   },
   {
    "duration": 170,
    "start_time": "2022-03-03T20:45:21.655Z"
   },
   {
    "duration": 3,
    "start_time": "2022-03-03T20:45:28.826Z"
   },
   {
    "duration": 22,
    "start_time": "2022-03-03T20:45:28.831Z"
   },
   {
    "duration": 4,
    "start_time": "2022-03-03T20:45:28.855Z"
   },
   {
    "duration": 13,
    "start_time": "2022-03-03T20:45:28.861Z"
   },
   {
    "duration": 13,
    "start_time": "2022-03-03T20:45:28.876Z"
   },
   {
    "duration": 36,
    "start_time": "2022-03-03T20:45:28.891Z"
   },
   {
    "duration": 18,
    "start_time": "2022-03-03T20:45:28.929Z"
   },
   {
    "duration": 24,
    "start_time": "2022-03-03T20:45:28.948Z"
   },
   {
    "duration": 166,
    "start_time": "2022-03-03T20:45:28.974Z"
   },
   {
    "duration": 9,
    "start_time": "2022-03-03T20:45:29.133Z"
   },
   {
    "duration": 3,
    "start_time": "2022-03-03T20:45:35.425Z"
   },
   {
    "duration": 20,
    "start_time": "2022-03-03T20:45:35.430Z"
   },
   {
    "duration": 9,
    "start_time": "2022-03-03T20:45:35.453Z"
   },
   {
    "duration": 13,
    "start_time": "2022-03-03T20:45:35.465Z"
   },
   {
    "duration": 15,
    "start_time": "2022-03-03T20:45:35.480Z"
   },
   {
    "duration": 34,
    "start_time": "2022-03-03T20:45:35.497Z"
   },
   {
    "duration": 17,
    "start_time": "2022-03-03T20:45:35.532Z"
   },
   {
    "duration": 29,
    "start_time": "2022-03-03T20:45:35.551Z"
   },
   {
    "duration": 9,
    "start_time": "2022-03-03T20:45:35.582Z"
   },
   {
    "duration": 4417,
    "start_time": "2022-03-03T20:45:35.593Z"
   },
   {
    "duration": 4343,
    "start_time": "2022-03-03T20:45:49.837Z"
   },
   {
    "duration": 746,
    "start_time": "2022-03-04T04:21:51.192Z"
   },
   {
    "duration": 4,
    "start_time": "2022-03-04T04:22:02.414Z"
   },
   {
    "duration": 25,
    "start_time": "2022-03-04T04:22:02.420Z"
   },
   {
    "duration": 16,
    "start_time": "2022-03-04T04:22:02.448Z"
   },
   {
    "duration": 24,
    "start_time": "2022-03-04T04:22:02.466Z"
   },
   {
    "duration": 22,
    "start_time": "2022-03-04T04:22:02.492Z"
   },
   {
    "duration": 43,
    "start_time": "2022-03-04T04:22:02.516Z"
   },
   {
    "duration": 18,
    "start_time": "2022-03-04T04:22:02.561Z"
   },
   {
    "duration": 33,
    "start_time": "2022-03-04T04:22:02.581Z"
   },
   {
    "duration": 13,
    "start_time": "2022-03-04T04:22:02.616Z"
   },
   {
    "duration": 4554,
    "start_time": "2022-03-04T04:22:02.631Z"
   },
   {
    "duration": 206,
    "start_time": "2022-03-04T04:23:45.829Z"
   },
   {
    "duration": 204,
    "start_time": "2022-03-04T04:58:56.101Z"
   },
   {
    "duration": 458,
    "start_time": "2022-03-04T05:03:36.177Z"
   },
   {
    "duration": 354,
    "start_time": "2022-03-04T05:05:36.879Z"
   },
   {
    "duration": 347,
    "start_time": "2022-03-04T05:05:44.288Z"
   },
   {
    "duration": 162,
    "start_time": "2022-03-04T05:11:33.361Z"
   },
   {
    "duration": 305,
    "start_time": "2022-03-04T05:11:49.580Z"
   },
   {
    "duration": 377,
    "start_time": "2022-03-04T05:12:06.462Z"
   },
   {
    "duration": 349,
    "start_time": "2022-03-04T05:12:32.889Z"
   },
   {
    "duration": 378,
    "start_time": "2022-03-04T05:12:40.544Z"
   },
   {
    "duration": 382,
    "start_time": "2022-03-04T05:13:10.063Z"
   },
   {
    "duration": 359,
    "start_time": "2022-03-04T05:13:17.075Z"
   },
   {
    "duration": 386,
    "start_time": "2022-03-04T05:13:19.754Z"
   },
   {
    "duration": 551,
    "start_time": "2022-03-04T05:16:02.799Z"
   },
   {
    "duration": 225,
    "start_time": "2022-03-04T05:16:29.865Z"
   },
   {
    "duration": 978,
    "start_time": "2022-03-04T09:38:31.262Z"
   },
   {
    "duration": 38,
    "start_time": "2022-03-04T09:38:32.243Z"
   },
   {
    "duration": 13,
    "start_time": "2022-03-04T09:38:32.285Z"
   },
   {
    "duration": 27,
    "start_time": "2022-03-04T09:38:32.302Z"
   },
   {
    "duration": 19,
    "start_time": "2022-03-04T09:38:32.332Z"
   },
   {
    "duration": 49,
    "start_time": "2022-03-04T09:38:32.354Z"
   },
   {
    "duration": 38,
    "start_time": "2022-03-04T09:38:32.406Z"
   },
   {
    "duration": 52,
    "start_time": "2022-03-04T09:38:32.447Z"
   },
   {
    "duration": 15,
    "start_time": "2022-03-04T09:38:32.504Z"
   },
   {
    "duration": 841,
    "start_time": "2022-03-04T09:38:32.522Z"
   },
   {
    "duration": 788,
    "start_time": "2022-03-04T09:38:33.366Z"
   },
   {
    "duration": 448,
    "start_time": "2022-03-04T09:38:46.097Z"
   },
   {
    "duration": 460,
    "start_time": "2022-03-04T09:39:38.680Z"
   },
   {
    "duration": 363,
    "start_time": "2022-03-04T09:39:55.120Z"
   },
   {
    "duration": 310,
    "start_time": "2022-03-04T09:42:09.089Z"
   },
   {
    "duration": 4,
    "start_time": "2022-03-04T09:43:55.632Z"
   },
   {
    "duration": 26,
    "start_time": "2022-03-04T09:43:55.638Z"
   },
   {
    "duration": 8,
    "start_time": "2022-03-04T09:43:55.667Z"
   },
   {
    "duration": 17,
    "start_time": "2022-03-04T09:43:55.678Z"
   },
   {
    "duration": 21,
    "start_time": "2022-03-04T09:43:55.697Z"
   },
   {
    "duration": 37,
    "start_time": "2022-03-04T09:43:55.721Z"
   },
   {
    "duration": 28,
    "start_time": "2022-03-04T09:43:55.760Z"
   },
   {
    "duration": 29,
    "start_time": "2022-03-04T09:43:55.792Z"
   },
   {
    "duration": 9,
    "start_time": "2022-03-04T09:43:55.824Z"
   },
   {
    "duration": 576,
    "start_time": "2022-03-04T09:43:55.835Z"
   },
   {
    "duration": 336,
    "start_time": "2022-03-04T09:43:56.414Z"
   },
   {
    "duration": 456,
    "start_time": "2022-03-04T09:44:06.926Z"
   },
   {
    "duration": 484,
    "start_time": "2022-03-04T09:45:58.811Z"
   },
   {
    "duration": 541,
    "start_time": "2022-03-04T09:52:15.858Z"
   },
   {
    "duration": 325,
    "start_time": "2022-03-04T09:52:52.806Z"
   },
   {
    "duration": 274,
    "start_time": "2022-03-04T09:53:36.503Z"
   },
   {
    "duration": 198,
    "start_time": "2022-03-04T09:53:52.277Z"
   },
   {
    "duration": 4,
    "start_time": "2022-03-04T09:54:18.182Z"
   },
   {
    "duration": 26,
    "start_time": "2022-03-04T09:54:18.189Z"
   },
   {
    "duration": 10,
    "start_time": "2022-03-04T09:54:18.218Z"
   },
   {
    "duration": 14,
    "start_time": "2022-03-04T09:54:18.231Z"
   },
   {
    "duration": 42,
    "start_time": "2022-03-04T09:54:18.248Z"
   },
   {
    "duration": 36,
    "start_time": "2022-03-04T09:54:18.293Z"
   },
   {
    "duration": 25,
    "start_time": "2022-03-04T09:54:18.331Z"
   },
   {
    "duration": 34,
    "start_time": "2022-03-04T09:54:18.360Z"
   },
   {
    "duration": 10,
    "start_time": "2022-03-04T09:54:18.396Z"
   },
   {
    "duration": 547,
    "start_time": "2022-03-04T09:54:18.408Z"
   },
   {
    "duration": 321,
    "start_time": "2022-03-04T09:54:18.957Z"
   },
   {
    "duration": 185,
    "start_time": "2022-03-04T09:54:19.283Z"
   },
   {
    "duration": 644,
    "start_time": "2022-03-04T09:57:46.630Z"
   },
   {
    "duration": 395,
    "start_time": "2022-03-04T09:58:55.116Z"
   },
   {
    "duration": 591,
    "start_time": "2022-03-04T09:59:33.586Z"
   },
   {
    "duration": 4,
    "start_time": "2022-03-04T10:00:05.426Z"
   },
   {
    "duration": 35,
    "start_time": "2022-03-04T10:00:05.433Z"
   },
   {
    "duration": 14,
    "start_time": "2022-03-04T10:00:05.471Z"
   },
   {
    "duration": 20,
    "start_time": "2022-03-04T10:00:05.488Z"
   },
   {
    "duration": 17,
    "start_time": "2022-03-04T10:00:05.510Z"
   },
   {
    "duration": 39,
    "start_time": "2022-03-04T10:00:05.529Z"
   },
   {
    "duration": 27,
    "start_time": "2022-03-04T10:00:05.571Z"
   },
   {
    "duration": 26,
    "start_time": "2022-03-04T10:00:05.601Z"
   },
   {
    "duration": 14,
    "start_time": "2022-03-04T10:00:05.629Z"
   },
   {
    "duration": 578,
    "start_time": "2022-03-04T10:00:05.645Z"
   },
   {
    "duration": 424,
    "start_time": "2022-03-04T10:00:06.226Z"
   },
   {
    "duration": 574,
    "start_time": "2022-03-04T10:01:16.088Z"
   },
   {
    "duration": 578,
    "start_time": "2022-03-04T10:01:25.162Z"
   },
   {
    "duration": 576,
    "start_time": "2022-03-04T10:02:51.109Z"
   },
   {
    "duration": 4,
    "start_time": "2022-03-04T10:04:42.434Z"
   },
   {
    "duration": 38,
    "start_time": "2022-03-04T10:04:42.441Z"
   },
   {
    "duration": 7,
    "start_time": "2022-03-04T10:04:42.483Z"
   },
   {
    "duration": 19,
    "start_time": "2022-03-04T10:04:42.494Z"
   },
   {
    "duration": 18,
    "start_time": "2022-03-04T10:04:42.515Z"
   },
   {
    "duration": 52,
    "start_time": "2022-03-04T10:04:42.536Z"
   },
   {
    "duration": 26,
    "start_time": "2022-03-04T10:04:42.591Z"
   },
   {
    "duration": 26,
    "start_time": "2022-03-04T10:04:42.620Z"
   },
   {
    "duration": 40,
    "start_time": "2022-03-04T10:04:42.651Z"
   },
   {
    "duration": 594,
    "start_time": "2022-03-04T10:04:42.695Z"
   },
   {
    "duration": 633,
    "start_time": "2022-03-04T10:04:43.292Z"
   },
   {
    "duration": 222,
    "start_time": "2022-03-04T10:07:07.104Z"
   },
   {
    "duration": 4,
    "start_time": "2022-03-04T10:07:10.825Z"
   },
   {
    "duration": 22,
    "start_time": "2022-03-04T10:07:10.832Z"
   },
   {
    "duration": 6,
    "start_time": "2022-03-04T10:07:10.857Z"
   },
   {
    "duration": 19,
    "start_time": "2022-03-04T10:07:10.866Z"
   },
   {
    "duration": 14,
    "start_time": "2022-03-04T10:07:10.888Z"
   },
   {
    "duration": 35,
    "start_time": "2022-03-04T10:07:10.904Z"
   },
   {
    "duration": 24,
    "start_time": "2022-03-04T10:07:10.941Z"
   },
   {
    "duration": 23,
    "start_time": "2022-03-04T10:07:10.983Z"
   },
   {
    "duration": 9,
    "start_time": "2022-03-04T10:07:11.009Z"
   },
   {
    "duration": 820,
    "start_time": "2022-03-04T10:07:11.021Z"
   },
   {
    "duration": 228,
    "start_time": "2022-03-04T10:07:11.844Z"
   },
   {
    "duration": 4,
    "start_time": "2022-03-04T10:07:49.058Z"
   },
   {
    "duration": 26,
    "start_time": "2022-03-04T10:07:49.065Z"
   },
   {
    "duration": 5,
    "start_time": "2022-03-04T10:07:49.094Z"
   },
   {
    "duration": 15,
    "start_time": "2022-03-04T10:07:49.102Z"
   },
   {
    "duration": 16,
    "start_time": "2022-03-04T10:07:49.119Z"
   },
   {
    "duration": 47,
    "start_time": "2022-03-04T10:07:49.137Z"
   },
   {
    "duration": 25,
    "start_time": "2022-03-04T10:07:49.187Z"
   },
   {
    "duration": 24,
    "start_time": "2022-03-04T10:07:49.215Z"
   },
   {
    "duration": 43,
    "start_time": "2022-03-04T10:07:49.244Z"
   },
   {
    "duration": 562,
    "start_time": "2022-03-04T10:07:49.290Z"
   },
   {
    "duration": 285,
    "start_time": "2022-03-04T10:07:49.855Z"
   },
   {
    "duration": 584,
    "start_time": "2022-03-04T10:08:45.484Z"
   },
   {
    "duration": 684,
    "start_time": "2022-03-04T10:10:27.467Z"
   },
   {
    "duration": 632,
    "start_time": "2022-03-04T10:11:39.613Z"
   },
   {
    "duration": 624,
    "start_time": "2022-03-04T10:21:06.367Z"
   },
   {
    "duration": 646,
    "start_time": "2022-03-04T16:18:16.344Z"
   },
   {
    "duration": 25,
    "start_time": "2022-03-04T16:18:16.992Z"
   },
   {
    "duration": 4,
    "start_time": "2022-03-04T16:18:17.523Z"
   },
   {
    "duration": 11,
    "start_time": "2022-03-04T16:18:17.791Z"
   },
   {
    "duration": 11,
    "start_time": "2022-03-04T16:18:18.353Z"
   },
   {
    "duration": 56,
    "start_time": "2022-03-04T16:18:19.496Z"
   },
   {
    "duration": 16,
    "start_time": "2022-03-04T16:18:19.798Z"
   },
   {
    "duration": 19,
    "start_time": "2022-03-04T16:18:20.123Z"
   },
   {
    "duration": 7,
    "start_time": "2022-03-04T16:18:20.414Z"
   },
   {
    "duration": 319,
    "start_time": "2022-03-04T16:18:21.353Z"
   },
   {
    "duration": 280,
    "start_time": "2022-03-04T16:18:23.174Z"
   },
   {
    "duration": 3,
    "start_time": "2022-03-04T16:28:50.061Z"
   },
   {
    "duration": 3,
    "start_time": "2022-03-04T16:28:52.262Z"
   },
   {
    "duration": 6,
    "start_time": "2022-03-04T16:28:52.267Z"
   },
   {
    "duration": 27,
    "start_time": "2022-03-04T16:28:52.275Z"
   },
   {
    "duration": 6,
    "start_time": "2022-03-04T16:28:52.303Z"
   },
   {
    "duration": 12,
    "start_time": "2022-03-04T16:28:52.310Z"
   },
   {
    "duration": 12,
    "start_time": "2022-03-04T16:28:52.324Z"
   },
   {
    "duration": 40,
    "start_time": "2022-03-04T16:28:52.338Z"
   },
   {
    "duration": 15,
    "start_time": "2022-03-04T16:28:52.380Z"
   },
   {
    "duration": 19,
    "start_time": "2022-03-04T16:28:52.397Z"
   },
   {
    "duration": 7,
    "start_time": "2022-03-04T16:28:52.418Z"
   },
   {
    "duration": 339,
    "start_time": "2022-03-04T16:28:52.427Z"
   },
   {
    "duration": 299,
    "start_time": "2022-03-04T16:28:52.768Z"
   },
   {
    "duration": 4,
    "start_time": "2022-03-04T18:08:03.154Z"
   },
   {
    "duration": 24,
    "start_time": "2022-03-04T18:08:03.160Z"
   },
   {
    "duration": 24,
    "start_time": "2022-03-04T18:08:03.187Z"
   },
   {
    "duration": 6,
    "start_time": "2022-03-04T18:08:03.214Z"
   },
   {
    "duration": 22,
    "start_time": "2022-03-04T18:08:03.222Z"
   },
   {
    "duration": 16,
    "start_time": "2022-03-04T18:08:03.247Z"
   },
   {
    "duration": 59,
    "start_time": "2022-03-04T18:08:03.265Z"
   },
   {
    "duration": 20,
    "start_time": "2022-03-04T18:08:03.326Z"
   },
   {
    "duration": 26,
    "start_time": "2022-03-04T18:08:03.349Z"
   },
   {
    "duration": 11,
    "start_time": "2022-03-04T18:08:03.378Z"
   },
   {
    "duration": 379,
    "start_time": "2022-03-04T18:08:03.391Z"
   },
   {
    "duration": 295,
    "start_time": "2022-03-04T18:08:03.772Z"
   },
   {
    "duration": 333,
    "start_time": "2022-03-04T18:08:04.069Z"
   },
   {
    "duration": 258,
    "start_time": "2022-03-04T18:15:21.784Z"
   },
   {
    "duration": 7,
    "start_time": "2022-03-04T18:19:21.964Z"
   },
   {
    "duration": 438,
    "start_time": "2022-03-04T18:23:10.059Z"
   },
   {
    "duration": 351,
    "start_time": "2022-03-04T18:23:18.912Z"
   },
   {
    "duration": 339,
    "start_time": "2022-03-04T18:23:28.258Z"
   },
   {
    "duration": 373,
    "start_time": "2022-03-04T18:23:48.128Z"
   },
   {
    "duration": 359,
    "start_time": "2022-03-04T18:24:23.102Z"
   },
   {
    "duration": 281,
    "start_time": "2022-03-04T18:46:24.614Z"
   },
   {
    "duration": 281,
    "start_time": "2022-03-04T18:46:47.981Z"
   },
   {
    "duration": 269,
    "start_time": "2022-03-04T18:55:34.142Z"
   },
   {
    "duration": 268,
    "start_time": "2022-03-04T18:55:48.185Z"
   },
   {
    "duration": 349,
    "start_time": "2022-03-04T18:55:55.443Z"
   },
   {
    "duration": 292,
    "start_time": "2022-03-04T19:01:33.182Z"
   },
   {
    "duration": 74,
    "start_time": "2022-03-07T16:28:52.747Z"
   },
   {
    "duration": 686,
    "start_time": "2022-03-07T16:28:56.865Z"
   },
   {
    "duration": 2,
    "start_time": "2022-03-07T16:28:57.553Z"
   },
   {
    "duration": 50,
    "start_time": "2022-03-07T16:28:57.558Z"
   },
   {
    "duration": 4,
    "start_time": "2022-03-07T16:28:57.612Z"
   },
   {
    "duration": 14,
    "start_time": "2022-03-07T16:28:57.617Z"
   },
   {
    "duration": 10,
    "start_time": "2022-03-07T16:28:57.633Z"
   },
   {
    "duration": 82,
    "start_time": "2022-03-07T16:28:57.645Z"
   },
   {
    "duration": 17,
    "start_time": "2022-03-07T16:28:57.729Z"
   },
   {
    "duration": 33,
    "start_time": "2022-03-07T16:28:57.749Z"
   },
   {
    "duration": 10,
    "start_time": "2022-03-07T16:28:57.784Z"
   },
   {
    "duration": 397,
    "start_time": "2022-03-07T16:28:57.796Z"
   },
   {
    "duration": 350,
    "start_time": "2022-03-07T16:28:58.195Z"
   },
   {
    "duration": 324,
    "start_time": "2022-03-07T16:28:58.546Z"
   },
   {
    "duration": 435,
    "start_time": "2022-03-07T16:28:58.878Z"
   },
   {
    "duration": 386,
    "start_time": "2022-03-07T16:28:59.314Z"
   },
   {
    "duration": 79,
    "start_time": "2022-03-07T16:28:59.702Z"
   },
   {
    "duration": 349,
    "start_time": "2022-03-07T16:29:10.344Z"
   },
   {
    "duration": 384,
    "start_time": "2022-03-07T16:29:41.896Z"
   },
   {
    "duration": 418,
    "start_time": "2022-03-07T16:30:02.834Z"
   },
   {
    "duration": 418,
    "start_time": "2022-03-07T16:31:04.133Z"
   },
   {
    "duration": 393,
    "start_time": "2022-03-07T16:31:10.517Z"
   },
   {
    "duration": 418,
    "start_time": "2022-03-07T16:31:16.515Z"
   },
   {
    "duration": 454,
    "start_time": "2022-03-07T16:31:29.265Z"
   },
   {
    "duration": 290,
    "start_time": "2022-03-07T18:21:38.873Z"
   },
   {
    "duration": 103,
    "start_time": "2022-03-07T18:21:48.985Z"
   },
   {
    "duration": 275,
    "start_time": "2022-03-07T18:23:18.468Z"
   },
   {
    "duration": 316,
    "start_time": "2022-03-07T18:24:16.394Z"
   },
   {
    "duration": 322,
    "start_time": "2022-03-07T18:25:41.708Z"
   },
   {
    "duration": 3,
    "start_time": "2022-03-07T18:25:49.438Z"
   },
   {
    "duration": 6,
    "start_time": "2022-03-07T18:25:49.443Z"
   },
   {
    "duration": 24,
    "start_time": "2022-03-07T18:25:49.451Z"
   },
   {
    "duration": 5,
    "start_time": "2022-03-07T18:25:49.477Z"
   },
   {
    "duration": 11,
    "start_time": "2022-03-07T18:25:49.484Z"
   },
   {
    "duration": 12,
    "start_time": "2022-03-07T18:25:49.497Z"
   },
   {
    "duration": 54,
    "start_time": "2022-03-07T18:25:49.511Z"
   },
   {
    "duration": 19,
    "start_time": "2022-03-07T18:25:49.566Z"
   },
   {
    "duration": 90,
    "start_time": "2022-03-07T18:25:49.588Z"
   },
   {
    "duration": 8,
    "start_time": "2022-03-07T18:25:49.680Z"
   },
   {
    "duration": 382,
    "start_time": "2022-03-07T18:25:49.690Z"
   },
   {
    "duration": 515,
    "start_time": "2022-03-07T18:25:50.074Z"
   },
   {
    "duration": -59,
    "start_time": "2022-03-07T18:25:50.650Z"
   },
   {
    "duration": -59,
    "start_time": "2022-03-07T18:25:50.651Z"
   },
   {
    "duration": -60,
    "start_time": "2022-03-07T18:25:50.653Z"
   },
   {
    "duration": -60,
    "start_time": "2022-03-07T18:25:50.654Z"
   },
   {
    "duration": -60,
    "start_time": "2022-03-07T18:25:50.655Z"
   },
   {
    "duration": 5,
    "start_time": "2022-03-07T18:26:27.182Z"
   },
   {
    "duration": 2,
    "start_time": "2022-03-07T18:26:27.629Z"
   },
   {
    "duration": 21,
    "start_time": "2022-03-07T18:26:28.120Z"
   },
   {
    "duration": 3,
    "start_time": "2022-03-07T18:26:28.599Z"
   },
   {
    "duration": 11,
    "start_time": "2022-03-07T18:26:28.800Z"
   },
   {
    "duration": 12,
    "start_time": "2022-03-07T18:26:29.277Z"
   },
   {
    "duration": 43,
    "start_time": "2022-03-07T18:26:30.173Z"
   },
   {
    "duration": 17,
    "start_time": "2022-03-07T18:26:30.381Z"
   },
   {
    "duration": 25,
    "start_time": "2022-03-07T18:26:30.594Z"
   },
   {
    "duration": 10,
    "start_time": "2022-03-07T18:26:30.846Z"
   },
   {
    "duration": 337,
    "start_time": "2022-03-07T18:26:31.555Z"
   },
   {
    "duration": 507,
    "start_time": "2022-03-07T18:26:32.110Z"
   },
   {
    "duration": 494,
    "start_time": "2022-03-07T18:26:32.946Z"
   },
   {
    "duration": 467,
    "start_time": "2022-03-07T18:26:33.862Z"
   },
   {
    "duration": 524,
    "start_time": "2022-03-07T18:26:34.568Z"
   },
   {
    "duration": 451,
    "start_time": "2022-03-07T18:26:35.272Z"
   },
   {
    "duration": 332,
    "start_time": "2022-03-07T18:26:36.176Z"
   },
   {
    "duration": 4,
    "start_time": "2022-03-07T18:27:01.905Z"
   },
   {
    "duration": 6,
    "start_time": "2022-03-07T18:27:01.911Z"
   },
   {
    "duration": 26,
    "start_time": "2022-03-07T18:27:01.920Z"
   },
   {
    "duration": 25,
    "start_time": "2022-03-07T18:27:01.948Z"
   },
   {
    "duration": 14,
    "start_time": "2022-03-07T18:27:01.975Z"
   },
   {
    "duration": 17,
    "start_time": "2022-03-07T18:27:01.990Z"
   },
   {
    "duration": 55,
    "start_time": "2022-03-07T18:27:02.008Z"
   },
   {
    "duration": 17,
    "start_time": "2022-03-07T18:27:02.065Z"
   },
   {
    "duration": 52,
    "start_time": "2022-03-07T18:27:02.084Z"
   },
   {
    "duration": 20,
    "start_time": "2022-03-07T18:27:02.138Z"
   },
   {
    "duration": 361,
    "start_time": "2022-03-07T18:27:02.160Z"
   },
   {
    "duration": 513,
    "start_time": "2022-03-07T18:27:02.523Z"
   },
   {
    "duration": -8,
    "start_time": "2022-03-07T18:27:03.045Z"
   },
   {
    "duration": -8,
    "start_time": "2022-03-07T18:27:03.047Z"
   },
   {
    "duration": -8,
    "start_time": "2022-03-07T18:27:03.048Z"
   },
   {
    "duration": -8,
    "start_time": "2022-03-07T18:27:03.049Z"
   },
   {
    "duration": -10,
    "start_time": "2022-03-07T18:27:03.051Z"
   },
   {
    "duration": 686,
    "start_time": "2022-03-07T20:51:40.447Z"
   },
   {
    "duration": 2,
    "start_time": "2022-03-07T20:51:41.136Z"
   },
   {
    "duration": 35,
    "start_time": "2022-03-07T20:51:41.480Z"
   },
   {
    "duration": 5,
    "start_time": "2022-03-07T20:51:42.267Z"
   },
   {
    "duration": 13,
    "start_time": "2022-03-07T20:51:42.536Z"
   },
   {
    "duration": 13,
    "start_time": "2022-03-07T20:51:43.158Z"
   },
   {
    "duration": 65,
    "start_time": "2022-03-07T20:51:44.434Z"
   },
   {
    "duration": 19,
    "start_time": "2022-03-07T20:51:44.799Z"
   },
   {
    "duration": 23,
    "start_time": "2022-03-07T20:51:45.105Z"
   },
   {
    "duration": 8,
    "start_time": "2022-03-07T20:51:45.413Z"
   },
   {
    "duration": 351,
    "start_time": "2022-03-07T20:51:46.716Z"
   },
   {
    "duration": 316,
    "start_time": "2022-03-07T20:51:48.229Z"
   },
   {
    "duration": 295,
    "start_time": "2022-03-07T20:51:50.390Z"
   },
   {
    "duration": 380,
    "start_time": "2022-03-07T20:51:51.801Z"
   },
   {
    "duration": 359,
    "start_time": "2022-03-07T20:51:54.349Z"
   },
   {
    "duration": 430,
    "start_time": "2022-03-07T20:51:56.047Z"
   },
   {
    "duration": 291,
    "start_time": "2022-03-07T20:52:00.436Z"
   },
   {
    "duration": 312,
    "start_time": "2022-03-07T20:52:07.181Z"
   },
   {
    "duration": 360,
    "start_time": "2022-03-07T20:52:28.748Z"
   },
   {
    "duration": 371,
    "start_time": "2022-03-07T20:52:43.472Z"
   },
   {
    "duration": 410,
    "start_time": "2022-03-07T20:54:11.570Z"
   },
   {
    "duration": 80,
    "start_time": "2022-03-07T20:59:55.591Z"
   },
   {
    "duration": 182,
    "start_time": "2022-03-07T20:59:58.739Z"
   },
   {
    "duration": 262,
    "start_time": "2022-03-07T21:00:09.977Z"
   },
   {
    "duration": 304,
    "start_time": "2022-03-07T21:02:39.280Z"
   },
   {
    "duration": 320,
    "start_time": "2022-03-07T21:02:46.767Z"
   },
   {
    "duration": 332,
    "start_time": "2022-03-07T21:02:49.651Z"
   },
   {
    "duration": 374,
    "start_time": "2022-03-07T21:03:00.928Z"
   },
   {
    "duration": 332,
    "start_time": "2022-03-07T21:03:23.146Z"
   },
   {
    "duration": 370,
    "start_time": "2022-03-07T21:03:34.286Z"
   },
   {
    "duration": 6,
    "start_time": "2022-03-07T21:08:55.925Z"
   },
   {
    "duration": 5,
    "start_time": "2022-03-07T21:09:06.853Z"
   },
   {
    "duration": 5,
    "start_time": "2022-03-07T21:09:23.611Z"
   },
   {
    "duration": 75,
    "start_time": "2022-03-07T21:10:26.277Z"
   },
   {
    "duration": 5,
    "start_time": "2022-03-07T21:10:29.131Z"
   },
   {
    "duration": 218,
    "start_time": "2022-03-07T21:25:09.326Z"
   },
   {
    "duration": 269,
    "start_time": "2022-03-07T21:25:40.437Z"
   },
   {
    "duration": 272,
    "start_time": "2022-03-07T21:26:19.916Z"
   },
   {
    "duration": 320,
    "start_time": "2022-03-07T21:27:50.790Z"
   },
   {
    "duration": 933,
    "start_time": "2022-03-08T16:12:36.849Z"
   },
   {
    "duration": 3,
    "start_time": "2022-03-08T16:12:37.785Z"
   },
   {
    "duration": 35,
    "start_time": "2022-03-08T16:12:37.792Z"
   },
   {
    "duration": 7,
    "start_time": "2022-03-08T16:12:37.830Z"
   },
   {
    "duration": 28,
    "start_time": "2022-03-08T16:12:37.839Z"
   },
   {
    "duration": 24,
    "start_time": "2022-03-08T16:12:37.869Z"
   },
   {
    "duration": 42,
    "start_time": "2022-03-08T16:12:37.895Z"
   },
   {
    "duration": 25,
    "start_time": "2022-03-08T16:12:37.942Z"
   },
   {
    "duration": 25,
    "start_time": "2022-03-08T16:12:37.984Z"
   },
   {
    "duration": 11,
    "start_time": "2022-03-08T16:12:38.012Z"
   },
   {
    "duration": 594,
    "start_time": "2022-03-08T16:12:38.026Z"
   },
   {
    "duration": 561,
    "start_time": "2022-03-08T16:12:38.622Z"
   },
   {
    "duration": 427,
    "start_time": "2022-03-08T16:12:39.185Z"
   },
   {
    "duration": 524,
    "start_time": "2022-03-08T16:12:39.615Z"
   },
   {
    "duration": 488,
    "start_time": "2022-03-08T16:12:40.142Z"
   },
   {
    "duration": 578,
    "start_time": "2022-03-08T16:12:40.634Z"
   },
   {
    "duration": 202,
    "start_time": "2022-03-08T16:12:41.214Z"
   },
   {
    "duration": 378,
    "start_time": "2022-03-08T16:12:41.419Z"
   },
   {
    "duration": 477,
    "start_time": "2022-03-08T16:12:41.800Z"
   },
   {
    "duration": 6,
    "start_time": "2022-03-08T16:12:42.282Z"
   },
   {
    "duration": 606,
    "start_time": "2022-03-08T16:12:42.291Z"
   },
   {
    "duration": 404,
    "start_time": "2022-03-08T16:12:42.900Z"
   },
   {
    "duration": 509,
    "start_time": "2022-03-08T16:13:45.644Z"
   },
   {
    "duration": 514,
    "start_time": "2022-03-08T16:14:18.775Z"
   },
   {
    "duration": 6,
    "start_time": "2022-03-08T16:20:11.297Z"
   },
   {
    "duration": 6,
    "start_time": "2022-03-08T16:20:59.751Z"
   },
   {
    "duration": 548,
    "start_time": "2022-03-08T16:38:57.829Z"
   },
   {
    "duration": 6108,
    "start_time": "2022-03-08T16:40:10.571Z"
   },
   {
    "duration": 634,
    "start_time": "2022-03-08T16:41:48.422Z"
   },
   {
    "duration": 465,
    "start_time": "2022-03-08T16:41:55.491Z"
   },
   {
    "duration": 452,
    "start_time": "2022-03-08T16:42:57.001Z"
   },
   {
    "duration": 3,
    "start_time": "2022-03-08T16:45:54.114Z"
   },
   {
    "duration": 101,
    "start_time": "2022-03-08T16:47:03.435Z"
   },
   {
    "duration": 224,
    "start_time": "2022-03-08T16:47:29.938Z"
   },
   {
    "duration": 202,
    "start_time": "2022-03-08T16:50:33.850Z"
   },
   {
    "duration": 256,
    "start_time": "2022-03-08T16:50:59.971Z"
   },
   {
    "duration": 232,
    "start_time": "2022-03-08T16:54:39.313Z"
   },
   {
    "duration": 220,
    "start_time": "2022-03-08T16:54:46.763Z"
   },
   {
    "duration": 308,
    "start_time": "2022-03-08T16:54:58.868Z"
   },
   {
    "duration": 210,
    "start_time": "2022-03-08T16:55:08.620Z"
   },
   {
    "duration": 216,
    "start_time": "2022-03-08T16:55:39.783Z"
   },
   {
    "duration": 512,
    "start_time": "2022-03-08T17:00:53.597Z"
   },
   {
    "duration": 560,
    "start_time": "2022-03-08T17:01:31.502Z"
   },
   {
    "duration": 241,
    "start_time": "2022-03-08T17:01:35.721Z"
   },
   {
    "duration": 5,
    "start_time": "2022-03-08T18:27:04.382Z"
   },
   {
    "duration": 22,
    "start_time": "2022-03-08T18:27:04.390Z"
   },
   {
    "duration": 38,
    "start_time": "2022-03-08T18:27:04.416Z"
   },
   {
    "duration": 14,
    "start_time": "2022-03-08T18:27:04.457Z"
   },
   {
    "duration": 34,
    "start_time": "2022-03-08T18:27:04.474Z"
   },
   {
    "duration": 32,
    "start_time": "2022-03-08T18:27:04.510Z"
   },
   {
    "duration": 50,
    "start_time": "2022-03-08T18:27:04.545Z"
   },
   {
    "duration": 24,
    "start_time": "2022-03-08T18:27:04.598Z"
   },
   {
    "duration": 23,
    "start_time": "2022-03-08T18:27:04.626Z"
   },
   {
    "duration": 40,
    "start_time": "2022-03-08T18:27:04.652Z"
   },
   {
    "duration": 566,
    "start_time": "2022-03-08T18:27:04.695Z"
   },
   {
    "duration": 431,
    "start_time": "2022-03-08T18:27:05.264Z"
   },
   {
    "duration": 419,
    "start_time": "2022-03-08T18:27:05.698Z"
   },
   {
    "duration": 562,
    "start_time": "2022-03-08T18:27:06.120Z"
   },
   {
    "duration": 436,
    "start_time": "2022-03-08T18:27:06.684Z"
   },
   {
    "duration": 521,
    "start_time": "2022-03-08T18:27:07.122Z"
   },
   {
    "duration": 189,
    "start_time": "2022-03-08T18:27:07.646Z"
   },
   {
    "duration": 377,
    "start_time": "2022-03-08T18:27:07.838Z"
   },
   {
    "duration": 446,
    "start_time": "2022-03-08T18:27:08.217Z"
   },
   {
    "duration": 6,
    "start_time": "2022-03-08T18:27:08.666Z"
   },
   {
    "duration": 477,
    "start_time": "2022-03-08T18:27:08.683Z"
   },
   {
    "duration": 529,
    "start_time": "2022-03-08T18:27:09.163Z"
   },
   {
    "duration": 6,
    "start_time": "2022-03-08T18:27:09.694Z"
   },
   {
    "duration": 480,
    "start_time": "2022-03-08T18:27:09.702Z"
   },
   {
    "duration": 250,
    "start_time": "2022-03-08T18:27:10.184Z"
   },
   {
    "duration": 13,
    "start_time": "2022-03-08T18:27:10.436Z"
   },
   {
    "duration": 17,
    "start_time": "2022-03-08T18:27:53.070Z"
   },
   {
    "duration": 7,
    "start_time": "2022-03-08T18:50:12.877Z"
   },
   {
    "duration": 10,
    "start_time": "2022-03-08T18:50:57.633Z"
   },
   {
    "duration": 72,
    "start_time": "2022-03-08T18:51:05.252Z"
   },
   {
    "duration": 14,
    "start_time": "2022-03-08T18:51:10.229Z"
   },
   {
    "duration": 12,
    "start_time": "2022-03-08T18:51:33.461Z"
   },
   {
    "duration": 13,
    "start_time": "2022-03-08T18:51:49.611Z"
   },
   {
    "duration": 5569,
    "start_time": "2022-03-08T18:52:51.747Z"
   },
   {
    "duration": 12,
    "start_time": "2022-03-08T18:53:13.955Z"
   },
   {
    "duration": 11,
    "start_time": "2022-03-08T18:54:37.663Z"
   },
   {
    "duration": 11,
    "start_time": "2022-03-08T19:00:07.106Z"
   },
   {
    "duration": 11,
    "start_time": "2022-03-08T19:08:12.035Z"
   },
   {
    "duration": 10,
    "start_time": "2022-03-08T19:08:23.243Z"
   },
   {
    "duration": 13,
    "start_time": "2022-03-08T19:08:27.836Z"
   },
   {
    "duration": 6180,
    "start_time": "2022-03-08T19:10:13.643Z"
   },
   {
    "duration": 16,
    "start_time": "2022-03-08T19:10:43.809Z"
   },
   {
    "duration": 5535,
    "start_time": "2022-03-08T19:10:46.125Z"
   },
   {
    "duration": 21,
    "start_time": "2022-03-08T19:11:02.622Z"
   },
   {
    "duration": 21,
    "start_time": "2022-03-08T19:11:36.831Z"
   },
   {
    "duration": 995,
    "start_time": "2022-03-10T03:56:51.315Z"
   },
   {
    "duration": 3,
    "start_time": "2022-03-10T03:56:52.311Z"
   },
   {
    "duration": 23,
    "start_time": "2022-03-10T03:56:52.316Z"
   },
   {
    "duration": 4,
    "start_time": "2022-03-10T03:56:52.340Z"
   },
   {
    "duration": 11,
    "start_time": "2022-03-10T03:56:52.345Z"
   },
   {
    "duration": 9,
    "start_time": "2022-03-10T03:56:52.357Z"
   },
   {
    "duration": 42,
    "start_time": "2022-03-10T03:56:52.367Z"
   },
   {
    "duration": 16,
    "start_time": "2022-03-10T03:56:52.412Z"
   },
   {
    "duration": 17,
    "start_time": "2022-03-10T03:56:52.433Z"
   },
   {
    "duration": 7,
    "start_time": "2022-03-10T03:56:52.451Z"
   },
   {
    "duration": 340,
    "start_time": "2022-03-10T03:56:52.459Z"
   },
   {
    "duration": 272,
    "start_time": "2022-03-10T03:56:52.801Z"
   },
   {
    "duration": 262,
    "start_time": "2022-03-10T03:56:53.075Z"
   },
   {
    "duration": 355,
    "start_time": "2022-03-10T03:56:53.339Z"
   },
   {
    "duration": 259,
    "start_time": "2022-03-10T03:56:53.695Z"
   },
   {
    "duration": 351,
    "start_time": "2022-03-10T03:56:53.956Z"
   },
   {
    "duration": 131,
    "start_time": "2022-03-10T03:56:54.308Z"
   },
   {
    "duration": 210,
    "start_time": "2022-03-10T03:56:54.441Z"
   },
   {
    "duration": 324,
    "start_time": "2022-03-10T03:56:54.652Z"
   },
   {
    "duration": 4,
    "start_time": "2022-03-10T03:56:54.977Z"
   },
   {
    "duration": 240,
    "start_time": "2022-03-10T03:56:54.982Z"
   },
   {
    "duration": 353,
    "start_time": "2022-03-10T03:56:55.224Z"
   },
   {
    "duration": 4,
    "start_time": "2022-03-10T03:56:55.580Z"
   },
   {
    "duration": 336,
    "start_time": "2022-03-10T03:56:55.585Z"
   },
   {
    "duration": 125,
    "start_time": "2022-03-10T03:56:55.923Z"
   },
   {
    "duration": 9,
    "start_time": "2022-03-10T03:56:56.050Z"
   },
   {
    "duration": 13,
    "start_time": "2022-03-10T03:56:56.061Z"
   },
   {
    "duration": 11,
    "start_time": "2022-03-10T03:56:56.076Z"
   },
   {
    "duration": 11,
    "start_time": "2022-03-10T03:56:56.089Z"
   },
   {
    "duration": 7,
    "start_time": "2022-03-10T03:56:56.102Z"
   },
   {
    "duration": 9,
    "start_time": "2022-03-10T03:56:56.132Z"
   },
   {
    "duration": 14,
    "start_time": "2022-03-10T03:56:56.142Z"
   },
   {
    "duration": 345,
    "start_time": "2022-03-10T04:29:53.717Z"
   },
   {
    "duration": 1363,
    "start_time": "2022-03-10T04:29:58.932Z"
   },
   {
    "duration": 3,
    "start_time": "2022-03-10T04:30:00.298Z"
   },
   {
    "duration": 46,
    "start_time": "2022-03-10T04:30:00.305Z"
   },
   {
    "duration": 8,
    "start_time": "2022-03-10T04:30:00.354Z"
   },
   {
    "duration": 21,
    "start_time": "2022-03-10T04:30:00.364Z"
   },
   {
    "duration": 14,
    "start_time": "2022-03-10T04:30:00.387Z"
   },
   {
    "duration": 350,
    "start_time": "2022-03-10T04:30:00.404Z"
   },
   {
    "duration": -3,
    "start_time": "2022-03-10T04:30:00.760Z"
   },
   {
    "duration": -7,
    "start_time": "2022-03-10T04:30:00.766Z"
   },
   {
    "duration": -7,
    "start_time": "2022-03-10T04:30:00.767Z"
   },
   {
    "duration": -6,
    "start_time": "2022-03-10T04:30:00.768Z"
   },
   {
    "duration": -6,
    "start_time": "2022-03-10T04:30:00.769Z"
   },
   {
    "duration": -46,
    "start_time": "2022-03-10T04:30:00.811Z"
   },
   {
    "duration": -46,
    "start_time": "2022-03-10T04:30:00.813Z"
   },
   {
    "duration": -45,
    "start_time": "2022-03-10T04:30:00.813Z"
   },
   {
    "duration": -45,
    "start_time": "2022-03-10T04:30:00.815Z"
   },
   {
    "duration": -44,
    "start_time": "2022-03-10T04:30:00.815Z"
   },
   {
    "duration": -43,
    "start_time": "2022-03-10T04:30:00.816Z"
   },
   {
    "duration": -42,
    "start_time": "2022-03-10T04:30:00.817Z"
   },
   {
    "duration": -42,
    "start_time": "2022-03-10T04:30:00.818Z"
   },
   {
    "duration": -41,
    "start_time": "2022-03-10T04:30:00.819Z"
   },
   {
    "duration": -41,
    "start_time": "2022-03-10T04:30:00.820Z"
   },
   {
    "duration": -41,
    "start_time": "2022-03-10T04:30:00.821Z"
   },
   {
    "duration": -41,
    "start_time": "2022-03-10T04:30:00.822Z"
   },
   {
    "duration": -45,
    "start_time": "2022-03-10T04:30:00.827Z"
   },
   {
    "duration": -44,
    "start_time": "2022-03-10T04:30:00.828Z"
   },
   {
    "duration": -43,
    "start_time": "2022-03-10T04:30:00.829Z"
   },
   {
    "duration": -67,
    "start_time": "2022-03-10T04:30:00.854Z"
   },
   {
    "duration": -66,
    "start_time": "2022-03-10T04:30:00.855Z"
   },
   {
    "duration": -69,
    "start_time": "2022-03-10T04:30:00.860Z"
   },
   {
    "duration": -69,
    "start_time": "2022-03-10T04:30:00.861Z"
   },
   {
    "duration": -69,
    "start_time": "2022-03-10T04:30:00.862Z"
   },
   {
    "duration": -68,
    "start_time": "2022-03-10T04:30:00.862Z"
   },
   {
    "duration": 301,
    "start_time": "2022-03-10T04:30:10.187Z"
   },
   {
    "duration": 303,
    "start_time": "2022-03-10T04:31:22.547Z"
   },
   {
    "duration": 16,
    "start_time": "2022-03-10T04:31:34.202Z"
   },
   {
    "duration": 299,
    "start_time": "2022-03-10T04:32:54.217Z"
   },
   {
    "duration": 315,
    "start_time": "2022-03-10T04:33:24.341Z"
   },
   {
    "duration": 30,
    "start_time": "2022-03-10T04:33:30.182Z"
   },
   {
    "duration": 29,
    "start_time": "2022-03-10T04:33:40.182Z"
   },
   {
    "duration": 4,
    "start_time": "2022-03-10T04:33:43.432Z"
   },
   {
    "duration": 3,
    "start_time": "2022-03-10T04:33:43.442Z"
   },
   {
    "duration": 28,
    "start_time": "2022-03-10T04:33:43.448Z"
   },
   {
    "duration": 5,
    "start_time": "2022-03-10T04:33:43.479Z"
   },
   {
    "duration": 18,
    "start_time": "2022-03-10T04:33:43.486Z"
   },
   {
    "duration": 19,
    "start_time": "2022-03-10T04:33:43.533Z"
   },
   {
    "duration": 55,
    "start_time": "2022-03-10T04:33:43.554Z"
   },
   {
    "duration": 28,
    "start_time": "2022-03-10T04:33:43.611Z"
   },
   {
    "duration": 28,
    "start_time": "2022-03-10T04:33:43.643Z"
   },
   {
    "duration": 12,
    "start_time": "2022-03-10T04:33:43.675Z"
   },
   {
    "duration": 580,
    "start_time": "2022-03-10T04:33:43.690Z"
   },
   {
    "duration": 457,
    "start_time": "2022-03-10T04:33:44.273Z"
   },
   {
    "duration": 438,
    "start_time": "2022-03-10T04:33:44.732Z"
   },
   {
    "duration": 526,
    "start_time": "2022-03-10T04:33:45.173Z"
   },
   {
    "duration": 441,
    "start_time": "2022-03-10T04:33:45.701Z"
   },
   {
    "duration": 527,
    "start_time": "2022-03-10T04:33:46.144Z"
   },
   {
    "duration": 202,
    "start_time": "2022-03-10T04:33:46.674Z"
   },
   {
    "duration": 380,
    "start_time": "2022-03-10T04:33:46.879Z"
   },
   {
    "duration": 456,
    "start_time": "2022-03-10T04:33:47.261Z"
   },
   {
    "duration": 14,
    "start_time": "2022-03-10T04:33:47.719Z"
   },
   {
    "duration": 400,
    "start_time": "2022-03-10T04:33:47.735Z"
   },
   {
    "duration": 498,
    "start_time": "2022-03-10T04:33:48.137Z"
   },
   {
    "duration": 6,
    "start_time": "2022-03-10T04:33:48.637Z"
   },
   {
    "duration": 538,
    "start_time": "2022-03-10T04:33:48.648Z"
   },
   {
    "duration": 253,
    "start_time": "2022-03-10T04:33:49.189Z"
   },
   {
    "duration": 14,
    "start_time": "2022-03-10T04:33:49.444Z"
   },
   {
    "duration": 13,
    "start_time": "2022-03-10T04:33:49.460Z"
   },
   {
    "duration": 11,
    "start_time": "2022-03-10T04:33:49.476Z"
   },
   {
    "duration": 49,
    "start_time": "2022-03-10T04:33:49.489Z"
   },
   {
    "duration": 10,
    "start_time": "2022-03-10T04:33:49.541Z"
   },
   {
    "duration": 11,
    "start_time": "2022-03-10T04:33:49.553Z"
   },
   {
    "duration": 20,
    "start_time": "2022-03-10T04:33:49.566Z"
   },
   {
    "duration": 4,
    "start_time": "2022-03-10T04:56:54.036Z"
   },
   {
    "duration": 4,
    "start_time": "2022-03-10T04:56:54.043Z"
   },
   {
    "duration": 26,
    "start_time": "2022-03-10T04:56:54.050Z"
   },
   {
    "duration": 4,
    "start_time": "2022-03-10T04:56:54.079Z"
   },
   {
    "duration": 49,
    "start_time": "2022-03-10T04:56:54.085Z"
   },
   {
    "duration": 21,
    "start_time": "2022-03-10T04:56:54.137Z"
   },
   {
    "duration": 58,
    "start_time": "2022-03-10T04:56:54.160Z"
   },
   {
    "duration": 23,
    "start_time": "2022-03-10T04:56:54.221Z"
   },
   {
    "duration": 29,
    "start_time": "2022-03-10T04:56:54.248Z"
   },
   {
    "duration": 11,
    "start_time": "2022-03-10T04:56:54.280Z"
   },
   {
    "duration": 594,
    "start_time": "2022-03-10T04:56:54.293Z"
   },
   {
    "duration": 446,
    "start_time": "2022-03-10T04:56:54.889Z"
   },
   {
    "duration": 416,
    "start_time": "2022-03-10T04:56:55.337Z"
   },
   {
    "duration": 512,
    "start_time": "2022-03-10T04:56:55.755Z"
   },
   {
    "duration": 450,
    "start_time": "2022-03-10T04:56:56.271Z"
   },
   {
    "duration": 528,
    "start_time": "2022-03-10T04:56:56.723Z"
   },
   {
    "duration": 228,
    "start_time": "2022-03-10T04:56:57.254Z"
   },
   {
    "duration": 370,
    "start_time": "2022-03-10T04:56:57.484Z"
   },
   {
    "duration": 456,
    "start_time": "2022-03-10T04:56:57.856Z"
   },
   {
    "duration": 6,
    "start_time": "2022-03-10T04:56:58.314Z"
   },
   {
    "duration": 413,
    "start_time": "2022-03-10T04:56:58.333Z"
   },
   {
    "duration": 481,
    "start_time": "2022-03-10T04:56:58.748Z"
   },
   {
    "duration": 5,
    "start_time": "2022-03-10T04:56:59.234Z"
   },
   {
    "duration": 490,
    "start_time": "2022-03-10T04:56:59.242Z"
   },
   {
    "duration": 250,
    "start_time": "2022-03-10T04:56:59.735Z"
   },
   {
    "duration": 17,
    "start_time": "2022-03-10T04:56:59.988Z"
   },
   {
    "duration": 15,
    "start_time": "2022-03-10T04:57:00.032Z"
   },
   {
    "duration": 13,
    "start_time": "2022-03-10T04:57:00.050Z"
   },
   {
    "duration": 10,
    "start_time": "2022-03-10T04:57:00.065Z"
   },
   {
    "duration": 11,
    "start_time": "2022-03-10T04:57:00.078Z"
   },
   {
    "duration": 62,
    "start_time": "2022-03-10T04:57:00.091Z"
   },
   {
    "duration": 35,
    "start_time": "2022-03-10T04:57:00.155Z"
   },
   {
    "duration": 27,
    "start_time": "2022-03-10T04:57:11.938Z"
   },
   {
    "duration": 28,
    "start_time": "2022-03-10T04:57:16.209Z"
   },
   {
    "duration": 6869,
    "start_time": "2022-03-10T04:57:28.556Z"
   },
   {
    "duration": 6,
    "start_time": "2022-03-10T04:57:47.711Z"
   },
   {
    "duration": 18,
    "start_time": "2022-03-10T04:57:49.268Z"
   },
   {
    "duration": 20,
    "start_time": "2022-03-10T04:58:00.012Z"
   },
   {
    "duration": 17,
    "start_time": "2022-03-10T05:15:54.631Z"
   },
   {
    "duration": 332,
    "start_time": "2022-03-10T05:32:06.437Z"
   },
   {
    "duration": 9,
    "start_time": "2022-03-10T05:32:10.041Z"
   },
   {
    "duration": 7,
    "start_time": "2022-03-10T05:32:15.072Z"
   },
   {
    "duration": 7,
    "start_time": "2022-03-10T05:33:04.917Z"
   },
   {
    "duration": 275,
    "start_time": "2022-03-10T05:33:57.526Z"
   },
   {
    "duration": 292,
    "start_time": "2022-03-10T05:34:01.899Z"
   },
   {
    "duration": 10,
    "start_time": "2022-03-10T05:34:07.331Z"
   },
   {
    "duration": 10,
    "start_time": "2022-03-10T05:34:48.240Z"
   },
   {
    "duration": 11,
    "start_time": "2022-03-10T05:34:55.010Z"
   },
   {
    "duration": 10,
    "start_time": "2022-03-10T05:35:00.752Z"
   },
   {
    "duration": 7,
    "start_time": "2022-03-10T05:35:27.997Z"
   },
   {
    "duration": 8,
    "start_time": "2022-03-10T05:39:42.613Z"
   },
   {
    "duration": 7,
    "start_time": "2022-03-10T05:40:12.837Z"
   },
   {
    "duration": 15,
    "start_time": "2022-03-10T05:43:18.190Z"
   },
   {
    "duration": 19,
    "start_time": "2022-03-10T05:43:33.879Z"
   },
   {
    "duration": 21,
    "start_time": "2022-03-10T05:45:32.053Z"
   },
   {
    "duration": 26,
    "start_time": "2022-03-10T05:45:39.611Z"
   },
   {
    "duration": 91,
    "start_time": "2022-03-10T05:45:54.701Z"
   },
   {
    "duration": 91,
    "start_time": "2022-03-10T05:45:57.456Z"
   },
   {
    "duration": 27,
    "start_time": "2022-03-10T05:46:00.271Z"
   },
   {
    "duration": 340,
    "start_time": "2022-03-10T05:46:46.685Z"
   },
   {
    "duration": 7198,
    "start_time": "2022-03-10T05:47:03.249Z"
   },
   {
    "duration": 149,
    "start_time": "2022-03-10T05:47:23.408Z"
   },
   {
    "duration": 156,
    "start_time": "2022-03-10T05:48:00.020Z"
   },
   {
    "duration": 214,
    "start_time": "2022-03-10T05:49:42.303Z"
   },
   {
    "duration": 335,
    "start_time": "2022-03-10T05:53:26.313Z"
   },
   {
    "duration": 332,
    "start_time": "2022-03-10T05:53:57.706Z"
   },
   {
    "duration": 342,
    "start_time": "2022-03-10T05:54:12.184Z"
   },
   {
    "duration": 339,
    "start_time": "2022-03-10T05:54:21.219Z"
   },
   {
    "duration": 384,
    "start_time": "2022-03-11T03:56:54.928Z"
   },
   {
    "duration": -1,
    "start_time": "2022-03-11T03:56:55.317Z"
   },
   {
    "duration": -12,
    "start_time": "2022-03-11T03:56:55.330Z"
   },
   {
    "duration": -17,
    "start_time": "2022-03-11T03:56:55.336Z"
   },
   {
    "duration": -22,
    "start_time": "2022-03-11T03:56:55.343Z"
   },
   {
    "duration": -29,
    "start_time": "2022-03-11T03:56:55.351Z"
   },
   {
    "duration": -35,
    "start_time": "2022-03-11T03:56:55.359Z"
   },
   {
    "duration": -40,
    "start_time": "2022-03-11T03:56:55.365Z"
   },
   {
    "duration": -49,
    "start_time": "2022-03-11T03:56:55.375Z"
   },
   {
    "duration": -55,
    "start_time": "2022-03-11T03:56:55.383Z"
   },
   {
    "duration": -61,
    "start_time": "2022-03-11T03:56:55.391Z"
   },
   {
    "duration": -66,
    "start_time": "2022-03-11T03:56:55.397Z"
   },
   {
    "duration": -82,
    "start_time": "2022-03-11T03:56:55.414Z"
   },
   {
    "duration": -89,
    "start_time": "2022-03-11T03:56:55.423Z"
   },
   {
    "duration": -94,
    "start_time": "2022-03-11T03:56:55.429Z"
   },
   {
    "duration": -99,
    "start_time": "2022-03-11T03:56:55.436Z"
   },
   {
    "duration": -106,
    "start_time": "2022-03-11T03:56:55.444Z"
   },
   {
    "duration": -109,
    "start_time": "2022-03-11T03:56:55.449Z"
   },
   {
    "duration": -117,
    "start_time": "2022-03-11T03:56:55.458Z"
   },
   {
    "duration": -121,
    "start_time": "2022-03-11T03:56:55.464Z"
   },
   {
    "duration": -127,
    "start_time": "2022-03-11T03:56:55.471Z"
   },
   {
    "duration": -131,
    "start_time": "2022-03-11T03:56:55.477Z"
   },
   {
    "duration": -137,
    "start_time": "2022-03-11T03:56:55.484Z"
   },
   {
    "duration": -142,
    "start_time": "2022-03-11T03:56:55.490Z"
   },
   {
    "duration": -147,
    "start_time": "2022-03-11T03:56:55.497Z"
   },
   {
    "duration": -153,
    "start_time": "2022-03-11T03:56:55.504Z"
   },
   {
    "duration": -166,
    "start_time": "2022-03-11T03:56:55.519Z"
   },
   {
    "duration": -171,
    "start_time": "2022-03-11T03:56:55.525Z"
   },
   {
    "duration": -177,
    "start_time": "2022-03-11T03:56:55.533Z"
   },
   {
    "duration": -182,
    "start_time": "2022-03-11T03:56:55.539Z"
   },
   {
    "duration": -186,
    "start_time": "2022-03-11T03:56:55.545Z"
   },
   {
    "duration": -192,
    "start_time": "2022-03-11T03:56:55.552Z"
   },
   {
    "duration": 328,
    "start_time": "2022-03-11T04:01:03.037Z"
   },
   {
    "duration": 344,
    "start_time": "2022-03-11T04:01:03.710Z"
   },
   {
    "duration": 820,
    "start_time": "2022-03-11T04:01:44.264Z"
   },
   {
    "duration": 60,
    "start_time": "2022-03-11T04:03:02.475Z"
   },
   {
    "duration": 1557,
    "start_time": "2022-03-11T04:03:03.300Z"
   },
   {
    "duration": 28,
    "start_time": "2022-03-11T04:03:04.831Z"
   },
   {
    "duration": 25,
    "start_time": "2022-03-11T04:03:04.836Z"
   },
   {
    "duration": 378,
    "start_time": "2022-03-11T04:03:04.939Z"
   },
   {
    "duration": 29,
    "start_time": "2022-03-11T04:03:06.932Z"
   },
   {
    "duration": 6,
    "start_time": "2022-03-11T04:03:07.576Z"
   },
   {
    "duration": 1555,
    "start_time": "2022-03-11T04:03:08.216Z"
   },
   {
    "duration": 69,
    "start_time": "2022-03-11T04:03:09.705Z"
   },
   {
    "duration": 4,
    "start_time": "2022-03-11T04:03:32.382Z"
   },
   {
    "duration": 51,
    "start_time": "2022-03-11T04:03:38.856Z"
   },
   {
    "duration": 25,
    "start_time": "2022-03-11T04:03:39.404Z"
   },
   {
    "duration": 9,
    "start_time": "2022-03-11T04:03:40.180Z"
   },
   {
    "duration": 147,
    "start_time": "2022-03-11T04:03:40.771Z"
   },
   {
    "duration": 348,
    "start_time": "2022-03-11T04:03:41.485Z"
   },
   {
    "duration": 30,
    "start_time": "2022-03-11T04:03:45.146Z"
   },
   {
    "duration": 7,
    "start_time": "2022-03-11T04:03:45.489Z"
   },
   {
    "duration": 11,
    "start_time": "2022-03-11T04:03:46.137Z"
   },
   {
    "duration": 147,
    "start_time": "2022-03-11T04:03:47.780Z"
   },
   {
    "duration": 556,
    "start_time": "2022-03-11T04:04:33.215Z"
   },
   {
    "duration": 4,
    "start_time": "2022-03-11T04:04:50.424Z"
   },
   {
    "duration": 566,
    "start_time": "2022-03-11T04:04:53.966Z"
   },
   {
    "duration": 416,
    "start_time": "2022-03-11T04:04:56.916Z"
   },
   {
    "duration": 458,
    "start_time": "2022-03-11T04:04:59.627Z"
   },
   {
    "duration": 520,
    "start_time": "2022-03-11T04:05:00.250Z"
   },
   {
    "duration": 438,
    "start_time": "2022-03-11T04:05:01.167Z"
   },
   {
    "duration": 569,
    "start_time": "2022-03-11T04:05:02.791Z"
   },
   {
    "duration": 216,
    "start_time": "2022-03-11T04:05:04.541Z"
   },
   {
    "duration": 348,
    "start_time": "2022-03-11T04:05:05.567Z"
   },
   {
    "duration": 593,
    "start_time": "2022-03-11T04:05:06.703Z"
   },
   {
    "duration": 6,
    "start_time": "2022-03-11T04:05:07.302Z"
   },
   {
    "duration": 384,
    "start_time": "2022-03-11T04:05:08.115Z"
   },
   {
    "duration": 521,
    "start_time": "2022-03-11T04:05:08.502Z"
   },
   {
    "duration": 7,
    "start_time": "2022-03-11T04:05:09.668Z"
   },
   {
    "duration": 450,
    "start_time": "2022-03-11T04:05:12.182Z"
   },
   {
    "duration": 566,
    "start_time": "2022-03-11T04:05:13.006Z"
   },
   {
    "duration": 537,
    "start_time": "2022-03-11T04:05:31.068Z"
   },
   {
    "duration": 222,
    "start_time": "2022-03-11T04:05:44.445Z"
   },
   {
    "duration": 14,
    "start_time": "2022-03-11T04:06:09.714Z"
   },
   {
    "duration": 15,
    "start_time": "2022-03-11T04:06:12.501Z"
   },
   {
    "duration": 12,
    "start_time": "2022-03-11T04:06:16.361Z"
   },
   {
    "duration": 11,
    "start_time": "2022-03-11T04:06:17.090Z"
   },
   {
    "duration": 11,
    "start_time": "2022-03-11T04:06:20.817Z"
   },
   {
    "duration": 12,
    "start_time": "2022-03-11T04:06:22.229Z"
   },
   {
    "duration": 22,
    "start_time": "2022-03-11T04:06:22.811Z"
   },
   {
    "duration": 221,
    "start_time": "2022-03-11T04:24:32.091Z"
   },
   {
    "duration": 988,
    "start_time": "2022-03-11T04:24:36.309Z"
   },
   {
    "duration": 15,
    "start_time": "2022-03-11T04:24:37.299Z"
   },
   {
    "duration": 20,
    "start_time": "2022-03-11T04:26:07.529Z"
   },
   {
    "duration": 17,
    "start_time": "2022-03-11T04:26:25.369Z"
   },
   {
    "duration": 16,
    "start_time": "2022-03-11T04:26:37.722Z"
   },
   {
    "duration": 2,
    "start_time": "2022-03-11T04:28:12.524Z"
   },
   {
    "duration": 8,
    "start_time": "2022-03-11T04:28:24.067Z"
   },
   {
    "duration": 15,
    "start_time": "2022-03-11T04:29:17.723Z"
   },
   {
    "duration": 4498,
    "start_time": "2022-03-11T04:32:03.740Z"
   },
   {
    "duration": 201,
    "start_time": "2022-03-11T04:32:20.320Z"
   },
   {
    "duration": 193,
    "start_time": "2022-03-11T04:32:27.478Z"
   },
   {
    "duration": 11,
    "start_time": "2022-03-11T04:32:33.420Z"
   },
   {
    "duration": 71,
    "start_time": "2022-03-11T04:36:45.410Z"
   },
   {
    "duration": 11,
    "start_time": "2022-03-11T04:36:47.721Z"
   },
   {
    "duration": 16,
    "start_time": "2022-03-11T04:51:00.718Z"
   },
   {
    "duration": 4448,
    "start_time": "2022-03-11T04:51:32.854Z"
   },
   {
    "duration": 3,
    "start_time": "2022-03-11T04:52:01.005Z"
   },
   {
    "duration": 22,
    "start_time": "2022-03-11T04:52:01.366Z"
   },
   {
    "duration": 3,
    "start_time": "2022-03-11T04:52:01.979Z"
   },
   {
    "duration": 12,
    "start_time": "2022-03-11T04:52:04.190Z"
   },
   {
    "duration": 11,
    "start_time": "2022-03-11T04:52:07.070Z"
   },
   {
    "duration": 1383,
    "start_time": "2022-03-11T05:27:22.207Z"
   },
   {
    "duration": 31,
    "start_time": "2022-03-11T05:27:23.593Z"
   },
   {
    "duration": 6,
    "start_time": "2022-03-11T05:27:23.627Z"
   },
   {
    "duration": 20,
    "start_time": "2022-03-11T05:27:23.636Z"
   },
   {
    "duration": 15,
    "start_time": "2022-03-11T05:27:23.659Z"
   },
   {
    "duration": 53,
    "start_time": "2022-03-11T05:27:23.676Z"
   },
   {
    "duration": 27,
    "start_time": "2022-03-11T05:27:23.732Z"
   },
   {
    "duration": 7,
    "start_time": "2022-03-11T05:27:23.763Z"
   },
   {
    "duration": 187,
    "start_time": "2022-03-11T05:27:23.772Z"
   },
   {
    "duration": 407,
    "start_time": "2022-03-11T05:27:23.961Z"
   },
   {
    "duration": 46,
    "start_time": "2022-03-11T05:27:24.370Z"
   },
   {
    "duration": 8,
    "start_time": "2022-03-11T05:27:24.419Z"
   },
   {
    "duration": 14,
    "start_time": "2022-03-11T05:27:24.432Z"
   },
   {
    "duration": 174,
    "start_time": "2022-03-11T05:27:24.449Z"
   },
   {
    "duration": 631,
    "start_time": "2022-03-11T05:27:24.633Z"
   },
   {
    "duration": 459,
    "start_time": "2022-03-11T05:27:25.267Z"
   },
   {
    "duration": 559,
    "start_time": "2022-03-11T05:27:25.729Z"
   },
   {
    "duration": 733,
    "start_time": "2022-03-11T05:27:26.291Z"
   },
   {
    "duration": 666,
    "start_time": "2022-03-11T05:27:27.032Z"
   },
   {
    "duration": 581,
    "start_time": "2022-03-11T05:27:27.700Z"
   },
   {
    "duration": 198,
    "start_time": "2022-03-11T05:27:28.285Z"
   },
   {
    "duration": 377,
    "start_time": "2022-03-11T05:27:28.485Z"
   },
   {
    "duration": 615,
    "start_time": "2022-03-11T05:27:28.867Z"
   },
   {
    "duration": 6,
    "start_time": "2022-03-11T05:27:29.485Z"
   },
   {
    "duration": 419,
    "start_time": "2022-03-11T05:27:29.494Z"
   },
   {
    "duration": 650,
    "start_time": "2022-03-11T05:27:29.916Z"
   },
   {
    "duration": 9,
    "start_time": "2022-03-11T05:27:30.569Z"
   },
   {
    "duration": 721,
    "start_time": "2022-03-11T05:27:30.582Z"
   },
   {
    "duration": 234,
    "start_time": "2022-03-11T05:27:31.305Z"
   },
   {
    "duration": 15,
    "start_time": "2022-03-11T05:27:31.541Z"
   },
   {
    "duration": 14,
    "start_time": "2022-03-11T05:27:31.558Z"
   },
   {
    "duration": 13,
    "start_time": "2022-03-11T05:27:31.574Z"
   },
   {
    "duration": 46,
    "start_time": "2022-03-11T05:27:31.589Z"
   },
   {
    "duration": 11,
    "start_time": "2022-03-11T05:27:31.638Z"
   },
   {
    "duration": 15,
    "start_time": "2022-03-11T05:27:31.651Z"
   },
   {
    "duration": 20,
    "start_time": "2022-03-11T05:27:31.668Z"
   },
   {
    "duration": 1302,
    "start_time": "2022-03-22T08:29:45.560Z"
   },
   {
    "duration": 34,
    "start_time": "2022-03-22T08:29:46.864Z"
   },
   {
    "duration": 3,
    "start_time": "2022-03-22T08:29:46.899Z"
   },
   {
    "duration": 13,
    "start_time": "2022-03-22T08:29:46.904Z"
   },
   {
    "duration": 9,
    "start_time": "2022-03-22T08:29:46.918Z"
   },
   {
    "duration": 92,
    "start_time": "2022-03-22T08:29:46.928Z"
   },
   {
    "duration": 19,
    "start_time": "2022-03-22T08:29:47.022Z"
   },
   {
    "duration": 6,
    "start_time": "2022-03-22T08:29:47.042Z"
   },
   {
    "duration": 142,
    "start_time": "2022-03-22T08:29:47.049Z"
   },
   {
    "duration": 82,
    "start_time": "2022-03-22T08:29:47.193Z"
   },
   {
    "duration": 32,
    "start_time": "2022-03-22T08:29:47.277Z"
   },
   {
    "duration": 3,
    "start_time": "2022-03-22T08:29:47.311Z"
   },
   {
    "duration": 11,
    "start_time": "2022-03-22T08:29:47.316Z"
   },
   {
    "duration": 130,
    "start_time": "2022-03-22T08:29:47.328Z"
   },
   {
    "duration": 288,
    "start_time": "2022-03-22T08:29:47.460Z"
   },
   {
    "duration": 268,
    "start_time": "2022-03-22T08:29:47.749Z"
   },
   {
    "duration": 198,
    "start_time": "2022-03-22T08:29:48.019Z"
   },
   {
    "duration": 357,
    "start_time": "2022-03-22T08:29:48.219Z"
   },
   {
    "duration": 299,
    "start_time": "2022-03-22T08:29:48.577Z"
   },
   {
    "duration": 0,
    "start_time": "2022-03-22T08:29:48.879Z"
   },
   {
    "duration": 0,
    "start_time": "2022-03-22T08:29:48.881Z"
   },
   {
    "duration": 0,
    "start_time": "2022-03-22T08:29:48.882Z"
   },
   {
    "duration": 0,
    "start_time": "2022-03-22T08:29:48.883Z"
   },
   {
    "duration": 0,
    "start_time": "2022-03-22T08:29:48.884Z"
   },
   {
    "duration": 0,
    "start_time": "2022-03-22T08:29:48.901Z"
   },
   {
    "duration": 0,
    "start_time": "2022-03-22T08:29:48.902Z"
   },
   {
    "duration": 0,
    "start_time": "2022-03-22T08:29:48.903Z"
   },
   {
    "duration": 0,
    "start_time": "2022-03-22T08:29:48.904Z"
   },
   {
    "duration": 0,
    "start_time": "2022-03-22T08:29:48.905Z"
   },
   {
    "duration": 0,
    "start_time": "2022-03-22T08:29:48.906Z"
   },
   {
    "duration": 0,
    "start_time": "2022-03-22T08:29:48.907Z"
   },
   {
    "duration": 0,
    "start_time": "2022-03-22T08:29:48.908Z"
   },
   {
    "duration": 0,
    "start_time": "2022-03-22T08:29:48.910Z"
   },
   {
    "duration": 0,
    "start_time": "2022-03-22T08:29:48.910Z"
   },
   {
    "duration": 0,
    "start_time": "2022-03-22T08:29:48.911Z"
   },
   {
    "duration": 0,
    "start_time": "2022-03-22T08:29:48.912Z"
   },
   {
    "duration": 3,
    "start_time": "2022-03-22T08:32:15.775Z"
   },
   {
    "duration": 1070,
    "start_time": "2022-03-22T08:32:22.949Z"
   },
   {
    "duration": 24,
    "start_time": "2022-03-22T08:32:24.021Z"
   },
   {
    "duration": 3,
    "start_time": "2022-03-22T08:32:24.046Z"
   },
   {
    "duration": 13,
    "start_time": "2022-03-22T08:32:24.051Z"
   },
   {
    "duration": 10,
    "start_time": "2022-03-22T08:32:24.065Z"
   },
   {
    "duration": 72,
    "start_time": "2022-03-22T08:32:24.076Z"
   },
   {
    "duration": 1082,
    "start_time": "2022-03-22T08:32:24.150Z"
   },
   {
    "duration": 0,
    "start_time": "2022-03-22T08:32:25.234Z"
   },
   {
    "duration": 0,
    "start_time": "2022-03-22T08:32:25.235Z"
   },
   {
    "duration": 0,
    "start_time": "2022-03-22T08:32:25.237Z"
   },
   {
    "duration": 0,
    "start_time": "2022-03-22T08:32:25.238Z"
   },
   {
    "duration": 0,
    "start_time": "2022-03-22T08:32:25.239Z"
   },
   {
    "duration": 0,
    "start_time": "2022-03-22T08:32:25.241Z"
   },
   {
    "duration": 0,
    "start_time": "2022-03-22T08:32:25.242Z"
   },
   {
    "duration": 0,
    "start_time": "2022-03-22T08:32:25.243Z"
   },
   {
    "duration": 0,
    "start_time": "2022-03-22T08:32:25.244Z"
   },
   {
    "duration": 0,
    "start_time": "2022-03-22T08:32:25.246Z"
   },
   {
    "duration": 0,
    "start_time": "2022-03-22T08:32:25.247Z"
   },
   {
    "duration": 0,
    "start_time": "2022-03-22T08:32:25.248Z"
   },
   {
    "duration": 0,
    "start_time": "2022-03-22T08:32:25.250Z"
   },
   {
    "duration": 0,
    "start_time": "2022-03-22T08:32:25.251Z"
   },
   {
    "duration": 0,
    "start_time": "2022-03-22T08:32:25.253Z"
   },
   {
    "duration": 0,
    "start_time": "2022-03-22T08:32:25.253Z"
   },
   {
    "duration": 0,
    "start_time": "2022-03-22T08:32:25.255Z"
   },
   {
    "duration": 0,
    "start_time": "2022-03-22T08:32:25.256Z"
   },
   {
    "duration": 0,
    "start_time": "2022-03-22T08:32:25.257Z"
   },
   {
    "duration": 0,
    "start_time": "2022-03-22T08:32:25.259Z"
   },
   {
    "duration": 0,
    "start_time": "2022-03-22T08:32:25.260Z"
   },
   {
    "duration": 0,
    "start_time": "2022-03-22T08:32:25.261Z"
   },
   {
    "duration": 0,
    "start_time": "2022-03-22T08:32:25.262Z"
   },
   {
    "duration": 0,
    "start_time": "2022-03-22T08:32:25.264Z"
   },
   {
    "duration": 0,
    "start_time": "2022-03-22T08:32:25.265Z"
   },
   {
    "duration": 0,
    "start_time": "2022-03-22T08:32:25.267Z"
   },
   {
    "duration": 0,
    "start_time": "2022-03-22T08:32:25.269Z"
   },
   {
    "duration": 0,
    "start_time": "2022-03-22T08:32:25.270Z"
   },
   {
    "duration": 0,
    "start_time": "2022-03-22T08:32:25.271Z"
   },
   {
    "duration": 1050,
    "start_time": "2022-03-22T08:32:45.943Z"
   },
   {
    "duration": 23,
    "start_time": "2022-03-22T08:32:46.995Z"
   },
   {
    "duration": 3,
    "start_time": "2022-03-22T08:32:47.020Z"
   },
   {
    "duration": 14,
    "start_time": "2022-03-22T08:32:47.025Z"
   },
   {
    "duration": 10,
    "start_time": "2022-03-22T08:32:47.040Z"
   },
   {
    "duration": 59,
    "start_time": "2022-03-22T08:32:47.052Z"
   },
   {
    "duration": 1187,
    "start_time": "2022-03-22T08:32:47.112Z"
   },
   {
    "duration": 0,
    "start_time": "2022-03-22T08:32:48.300Z"
   },
   {
    "duration": 0,
    "start_time": "2022-03-22T08:32:48.301Z"
   },
   {
    "duration": 0,
    "start_time": "2022-03-22T08:32:48.302Z"
   },
   {
    "duration": 0,
    "start_time": "2022-03-22T08:32:48.303Z"
   },
   {
    "duration": 0,
    "start_time": "2022-03-22T08:32:48.305Z"
   },
   {
    "duration": 0,
    "start_time": "2022-03-22T08:32:48.306Z"
   },
   {
    "duration": 0,
    "start_time": "2022-03-22T08:32:48.307Z"
   },
   {
    "duration": 0,
    "start_time": "2022-03-22T08:32:48.307Z"
   },
   {
    "duration": 0,
    "start_time": "2022-03-22T08:32:48.308Z"
   },
   {
    "duration": 0,
    "start_time": "2022-03-22T08:32:48.309Z"
   },
   {
    "duration": 0,
    "start_time": "2022-03-22T08:32:48.310Z"
   },
   {
    "duration": 0,
    "start_time": "2022-03-22T08:32:48.311Z"
   },
   {
    "duration": 0,
    "start_time": "2022-03-22T08:32:48.312Z"
   },
   {
    "duration": 0,
    "start_time": "2022-03-22T08:32:48.313Z"
   },
   {
    "duration": 0,
    "start_time": "2022-03-22T08:32:48.314Z"
   },
   {
    "duration": 0,
    "start_time": "2022-03-22T08:32:48.314Z"
   },
   {
    "duration": 0,
    "start_time": "2022-03-22T08:32:48.315Z"
   },
   {
    "duration": 0,
    "start_time": "2022-03-22T08:32:48.316Z"
   },
   {
    "duration": 0,
    "start_time": "2022-03-22T08:32:48.317Z"
   },
   {
    "duration": 0,
    "start_time": "2022-03-22T08:32:48.318Z"
   },
   {
    "duration": 0,
    "start_time": "2022-03-22T08:32:48.319Z"
   },
   {
    "duration": 0,
    "start_time": "2022-03-22T08:32:48.320Z"
   },
   {
    "duration": 0,
    "start_time": "2022-03-22T08:32:48.321Z"
   },
   {
    "duration": 0,
    "start_time": "2022-03-22T08:32:48.322Z"
   },
   {
    "duration": 0,
    "start_time": "2022-03-22T08:32:48.323Z"
   },
   {
    "duration": 0,
    "start_time": "2022-03-22T08:32:48.324Z"
   },
   {
    "duration": 0,
    "start_time": "2022-03-22T08:32:48.326Z"
   },
   {
    "duration": 0,
    "start_time": "2022-03-22T08:32:48.327Z"
   },
   {
    "duration": 0,
    "start_time": "2022-03-22T08:32:48.327Z"
   },
   {
    "duration": 9,
    "start_time": "2022-03-22T08:35:07.287Z"
   },
   {
    "duration": 1652,
    "start_time": "2022-03-22T08:35:29.508Z"
   },
   {
    "duration": 25,
    "start_time": "2022-03-22T08:35:31.161Z"
   },
   {
    "duration": 3,
    "start_time": "2022-03-22T08:35:31.187Z"
   },
   {
    "duration": 17,
    "start_time": "2022-03-22T08:35:31.192Z"
   },
   {
    "duration": 12,
    "start_time": "2022-03-22T08:35:31.210Z"
   },
   {
    "duration": 78,
    "start_time": "2022-03-22T08:35:31.224Z"
   },
   {
    "duration": 7382,
    "start_time": "2022-03-22T08:35:31.304Z"
   },
   {
    "duration": 0,
    "start_time": "2022-03-22T08:35:38.688Z"
   },
   {
    "duration": 0,
    "start_time": "2022-03-22T08:35:38.690Z"
   },
   {
    "duration": 0,
    "start_time": "2022-03-22T08:35:38.691Z"
   },
   {
    "duration": 0,
    "start_time": "2022-03-22T08:35:38.692Z"
   },
   {
    "duration": 0,
    "start_time": "2022-03-22T08:35:38.693Z"
   },
   {
    "duration": 0,
    "start_time": "2022-03-22T08:35:38.694Z"
   },
   {
    "duration": 0,
    "start_time": "2022-03-22T08:35:38.696Z"
   },
   {
    "duration": 0,
    "start_time": "2022-03-22T08:35:38.697Z"
   },
   {
    "duration": 0,
    "start_time": "2022-03-22T08:35:38.699Z"
   },
   {
    "duration": 0,
    "start_time": "2022-03-22T08:35:38.700Z"
   },
   {
    "duration": 0,
    "start_time": "2022-03-22T08:35:38.701Z"
   },
   {
    "duration": 0,
    "start_time": "2022-03-22T08:35:38.702Z"
   },
   {
    "duration": 0,
    "start_time": "2022-03-22T08:35:38.703Z"
   },
   {
    "duration": 0,
    "start_time": "2022-03-22T08:35:38.704Z"
   },
   {
    "duration": 0,
    "start_time": "2022-03-22T08:35:38.705Z"
   },
   {
    "duration": 0,
    "start_time": "2022-03-22T08:35:38.707Z"
   },
   {
    "duration": 0,
    "start_time": "2022-03-22T08:35:38.708Z"
   },
   {
    "duration": 0,
    "start_time": "2022-03-22T08:35:38.709Z"
   },
   {
    "duration": 0,
    "start_time": "2022-03-22T08:35:38.711Z"
   },
   {
    "duration": 0,
    "start_time": "2022-03-22T08:35:38.712Z"
   },
   {
    "duration": 0,
    "start_time": "2022-03-22T08:35:38.713Z"
   },
   {
    "duration": 0,
    "start_time": "2022-03-22T08:35:38.714Z"
   },
   {
    "duration": 0,
    "start_time": "2022-03-22T08:35:38.715Z"
   },
   {
    "duration": 0,
    "start_time": "2022-03-22T08:35:38.716Z"
   },
   {
    "duration": 0,
    "start_time": "2022-03-22T08:35:38.717Z"
   },
   {
    "duration": 0,
    "start_time": "2022-03-22T08:35:38.718Z"
   },
   {
    "duration": 0,
    "start_time": "2022-03-22T08:35:38.719Z"
   },
   {
    "duration": 0,
    "start_time": "2022-03-22T08:35:38.720Z"
   },
   {
    "duration": 0,
    "start_time": "2022-03-22T08:35:38.721Z"
   },
   {
    "duration": 10,
    "start_time": "2022-03-22T08:36:26.323Z"
   },
   {
    "duration": 11,
    "start_time": "2022-03-22T08:36:44.930Z"
   },
   {
    "duration": 10,
    "start_time": "2022-03-22T08:36:45.547Z"
   },
   {
    "duration": 3,
    "start_time": "2022-03-22T08:36:52.232Z"
   },
   {
    "duration": 21,
    "start_time": "2022-03-22T08:36:52.238Z"
   },
   {
    "duration": 2,
    "start_time": "2022-03-22T08:36:52.261Z"
   },
   {
    "duration": 14,
    "start_time": "2022-03-22T08:36:52.265Z"
   },
   {
    "duration": 10,
    "start_time": "2022-03-22T08:36:52.280Z"
   },
   {
    "duration": 50,
    "start_time": "2022-03-22T08:36:52.292Z"
   },
   {
    "duration": 1788,
    "start_time": "2022-03-22T08:36:52.344Z"
   },
   {
    "duration": 0,
    "start_time": "2022-03-22T08:36:54.135Z"
   },
   {
    "duration": 0,
    "start_time": "2022-03-22T08:36:54.136Z"
   },
   {
    "duration": 0,
    "start_time": "2022-03-22T08:36:54.137Z"
   },
   {
    "duration": 0,
    "start_time": "2022-03-22T08:36:54.138Z"
   },
   {
    "duration": 0,
    "start_time": "2022-03-22T08:36:54.138Z"
   },
   {
    "duration": 0,
    "start_time": "2022-03-22T08:36:54.139Z"
   },
   {
    "duration": 0,
    "start_time": "2022-03-22T08:36:54.140Z"
   },
   {
    "duration": 0,
    "start_time": "2022-03-22T08:36:54.141Z"
   },
   {
    "duration": 0,
    "start_time": "2022-03-22T08:36:54.142Z"
   },
   {
    "duration": 0,
    "start_time": "2022-03-22T08:36:54.143Z"
   },
   {
    "duration": 0,
    "start_time": "2022-03-22T08:36:54.144Z"
   },
   {
    "duration": 0,
    "start_time": "2022-03-22T08:36:54.145Z"
   },
   {
    "duration": 0,
    "start_time": "2022-03-22T08:36:54.147Z"
   },
   {
    "duration": 0,
    "start_time": "2022-03-22T08:36:54.148Z"
   },
   {
    "duration": 0,
    "start_time": "2022-03-22T08:36:54.149Z"
   },
   {
    "duration": 0,
    "start_time": "2022-03-22T08:36:54.150Z"
   },
   {
    "duration": 0,
    "start_time": "2022-03-22T08:36:54.151Z"
   },
   {
    "duration": 0,
    "start_time": "2022-03-22T08:36:54.152Z"
   },
   {
    "duration": 0,
    "start_time": "2022-03-22T08:36:54.153Z"
   },
   {
    "duration": 0,
    "start_time": "2022-03-22T08:36:54.154Z"
   },
   {
    "duration": 0,
    "start_time": "2022-03-22T08:36:54.155Z"
   },
   {
    "duration": 0,
    "start_time": "2022-03-22T08:36:54.156Z"
   },
   {
    "duration": 0,
    "start_time": "2022-03-22T08:36:54.158Z"
   },
   {
    "duration": 0,
    "start_time": "2022-03-22T08:36:54.158Z"
   },
   {
    "duration": 1,
    "start_time": "2022-03-22T08:36:54.159Z"
   },
   {
    "duration": 0,
    "start_time": "2022-03-22T08:36:54.161Z"
   },
   {
    "duration": 0,
    "start_time": "2022-03-22T08:36:54.162Z"
   },
   {
    "duration": 0,
    "start_time": "2022-03-22T08:36:54.162Z"
   },
   {
    "duration": 0,
    "start_time": "2022-03-22T08:36:54.163Z"
   },
   {
    "duration": 3,
    "start_time": "2022-03-22T08:37:08.324Z"
   },
   {
    "duration": 20,
    "start_time": "2022-03-22T08:37:08.922Z"
   },
   {
    "duration": 3,
    "start_time": "2022-03-22T08:37:09.155Z"
   },
   {
    "duration": 11,
    "start_time": "2022-03-22T08:37:09.971Z"
   },
   {
    "duration": 11,
    "start_time": "2022-03-22T08:37:11.018Z"
   },
   {
    "duration": 48,
    "start_time": "2022-03-22T08:37:11.890Z"
   },
   {
    "duration": 1662,
    "start_time": "2022-03-22T08:37:12.115Z"
   },
   {
    "duration": 1,
    "start_time": "2022-03-22T08:37:13.778Z"
   },
   {
    "duration": 0,
    "start_time": "2022-03-22T08:37:13.780Z"
   },
   {
    "duration": 0,
    "start_time": "2022-03-22T08:37:13.781Z"
   },
   {
    "duration": 0,
    "start_time": "2022-03-22T08:37:13.781Z"
   },
   {
    "duration": 0,
    "start_time": "2022-03-22T08:37:13.782Z"
   },
   {
    "duration": 0,
    "start_time": "2022-03-22T08:37:13.783Z"
   },
   {
    "duration": 9,
    "start_time": "2022-03-22T08:37:13.931Z"
   },
   {
    "duration": 169,
    "start_time": "2022-03-22T08:37:14.830Z"
   },
   {
    "duration": 9,
    "start_time": "2022-03-22T08:37:15.607Z"
   },
   {
    "duration": 14,
    "start_time": "2022-03-22T08:37:16.380Z"
   },
   {
    "duration": 3,
    "start_time": "2022-03-22T08:37:44.386Z"
   },
   {
    "duration": 27,
    "start_time": "2022-03-22T08:37:44.390Z"
   },
   {
    "duration": 3,
    "start_time": "2022-03-22T08:37:44.418Z"
   },
   {
    "duration": 13,
    "start_time": "2022-03-22T08:37:44.422Z"
   },
   {
    "duration": 9,
    "start_time": "2022-03-22T08:37:44.437Z"
   },
   {
    "duration": 50,
    "start_time": "2022-03-22T08:37:44.447Z"
   },
   {
    "duration": 1657,
    "start_time": "2022-03-22T08:37:44.498Z"
   },
   {
    "duration": 0,
    "start_time": "2022-03-22T08:37:46.157Z"
   },
   {
    "duration": 0,
    "start_time": "2022-03-22T08:37:46.158Z"
   },
   {
    "duration": 0,
    "start_time": "2022-03-22T08:37:46.159Z"
   },
   {
    "duration": 0,
    "start_time": "2022-03-22T08:37:46.160Z"
   },
   {
    "duration": 0,
    "start_time": "2022-03-22T08:37:46.161Z"
   },
   {
    "duration": 0,
    "start_time": "2022-03-22T08:37:46.162Z"
   },
   {
    "duration": 0,
    "start_time": "2022-03-22T08:37:46.163Z"
   },
   {
    "duration": 0,
    "start_time": "2022-03-22T08:37:46.164Z"
   },
   {
    "duration": 0,
    "start_time": "2022-03-22T08:37:46.165Z"
   },
   {
    "duration": 0,
    "start_time": "2022-03-22T08:37:46.166Z"
   },
   {
    "duration": 0,
    "start_time": "2022-03-22T08:37:46.167Z"
   },
   {
    "duration": 0,
    "start_time": "2022-03-22T08:37:46.168Z"
   },
   {
    "duration": 0,
    "start_time": "2022-03-22T08:37:46.169Z"
   },
   {
    "duration": 0,
    "start_time": "2022-03-22T08:37:46.170Z"
   },
   {
    "duration": 0,
    "start_time": "2022-03-22T08:37:46.171Z"
   },
   {
    "duration": 0,
    "start_time": "2022-03-22T08:37:46.172Z"
   },
   {
    "duration": 0,
    "start_time": "2022-03-22T08:37:46.173Z"
   },
   {
    "duration": 0,
    "start_time": "2022-03-22T08:37:46.175Z"
   },
   {
    "duration": 0,
    "start_time": "2022-03-22T08:37:46.176Z"
   },
   {
    "duration": 0,
    "start_time": "2022-03-22T08:37:46.177Z"
   },
   {
    "duration": 0,
    "start_time": "2022-03-22T08:37:46.178Z"
   },
   {
    "duration": 0,
    "start_time": "2022-03-22T08:37:46.179Z"
   },
   {
    "duration": 0,
    "start_time": "2022-03-22T08:37:46.180Z"
   },
   {
    "duration": 0,
    "start_time": "2022-03-22T08:37:46.181Z"
   },
   {
    "duration": 0,
    "start_time": "2022-03-22T08:37:46.182Z"
   },
   {
    "duration": 0,
    "start_time": "2022-03-22T08:37:46.183Z"
   },
   {
    "duration": 0,
    "start_time": "2022-03-22T08:37:46.184Z"
   },
   {
    "duration": 0,
    "start_time": "2022-03-22T08:37:46.185Z"
   },
   {
    "duration": 0,
    "start_time": "2022-03-22T08:37:46.186Z"
   },
   {
    "duration": 5,
    "start_time": "2022-03-22T08:38:07.642Z"
   },
   {
    "duration": 140,
    "start_time": "2022-03-22T08:38:07.948Z"
   },
   {
    "duration": 77,
    "start_time": "2022-03-22T08:38:08.690Z"
   },
   {
    "duration": 27,
    "start_time": "2022-03-22T08:38:09.470Z"
   },
   {
    "duration": 5,
    "start_time": "2022-03-22T08:38:09.995Z"
   },
   {
    "duration": 1243,
    "start_time": "2022-03-22T08:38:10.439Z"
   },
   {
    "duration": 0,
    "start_time": "2022-03-22T08:38:11.684Z"
   },
   {
    "duration": 260,
    "start_time": "2022-03-22T08:38:12.594Z"
   },
   {
    "duration": 285,
    "start_time": "2022-03-22T08:38:15.863Z"
   },
   {
    "duration": 269,
    "start_time": "2022-03-22T08:38:19.378Z"
   },
   {
    "duration": 472,
    "start_time": "2022-03-22T08:38:21.579Z"
   },
   {
    "duration": 280,
    "start_time": "2022-03-22T08:38:23.765Z"
   },
   {
    "duration": 387,
    "start_time": "2022-03-22T08:38:26.709Z"
   },
   {
    "duration": 145,
    "start_time": "2022-03-22T08:38:29.827Z"
   },
   {
    "duration": 135,
    "start_time": "2022-03-22T08:38:30.446Z"
   },
   {
    "duration": 142,
    "start_time": "2022-03-22T08:38:31.103Z"
   },
   {
    "duration": 5,
    "start_time": "2022-03-22T08:38:33.006Z"
   },
   {
    "duration": 223,
    "start_time": "2022-03-22T08:38:35.060Z"
   },
   {
    "duration": 149,
    "start_time": "2022-03-22T08:38:35.790Z"
   },
   {
    "duration": 5,
    "start_time": "2022-03-22T08:38:38.091Z"
   },
   {
    "duration": 213,
    "start_time": "2022-03-22T08:38:39.352Z"
   },
   {
    "duration": 263,
    "start_time": "2022-03-22T08:38:41.009Z"
   },
   {
    "duration": 11,
    "start_time": "2022-03-22T08:38:46.950Z"
   },
   {
    "duration": 10,
    "start_time": "2022-03-22T08:38:50.182Z"
   },
   {
    "duration": 8,
    "start_time": "2022-03-22T08:38:51.215Z"
   },
   {
    "duration": 20,
    "start_time": "2022-03-22T08:38:52.826Z"
   },
   {
    "duration": 7,
    "start_time": "2022-03-22T08:40:13.597Z"
   },
   {
    "duration": 8,
    "start_time": "2022-03-22T08:40:14.520Z"
   },
   {
    "duration": 13,
    "start_time": "2022-03-22T08:40:14.915Z"
   },
   {
    "duration": 4,
    "start_time": "2022-03-22T08:41:42.605Z"
   },
   {
    "duration": 3,
    "start_time": "2022-03-22T08:41:45.269Z"
   },
   {
    "duration": 11,
    "start_time": "2022-03-22T08:41:50.648Z"
   },
   {
    "duration": 12,
    "start_time": "2022-03-22T08:42:05.141Z"
   },
   {
    "duration": 5,
    "start_time": "2022-03-22T08:42:15.859Z"
   },
   {
    "duration": 115,
    "start_time": "2022-03-22T08:42:16.551Z"
   }
  ],
  "kernelspec": {
   "display_name": "Python 3 (ipykernel)",
   "language": "python",
   "name": "python3"
  },
  "language_info": {
   "codemirror_mode": {
    "name": "ipython",
    "version": 3
   },
   "file_extension": ".py",
   "mimetype": "text/x-python",
   "name": "python",
   "nbconvert_exporter": "python",
   "pygments_lexer": "ipython3",
   "version": "3.9.5"
  },
  "toc": {
   "base_numbering": 1,
   "nav_menu": {},
   "number_sections": true,
   "sideBar": true,
   "skip_h1_title": true,
   "title_cell": "Table of Contents",
   "title_sidebar": "Contents",
   "toc_cell": false,
   "toc_position": {},
   "toc_section_display": true,
   "toc_window_display": true
  }
 },
 "nbformat": 4,
 "nbformat_minor": 2
}

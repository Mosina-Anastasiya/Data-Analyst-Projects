{
 "cells": [
  {
   "cell_type": "markdown",
   "metadata": {},
   "source": [
    "# Определение перспективного тарифа для телеком-компании"
   ]
  },
  {
   "cell_type": "markdown",
   "metadata": {},
   "source": [
    "компания «Мегалайн» — федеральный оператора сотовой связи. Клиентам предлагают два тарифных плана: «Смарт» и «Ультра». Чтобы скорректировать рекламный бюджет, коммерческий департамент хочет понять, какой тариф приносит больше денег.\n",
    "Предстоит сделать предварительный анализ тарифов на небольшой выборке клиентов. Предоставлены данные 500 пользователей «Мегалайна»: кто они, откуда, каким тарифом пользуются, сколько звонков и сообщений каждый отправил за 2018 год. Нужно проанализировать поведение клиентов и сделать вывод — какой тариф лучше."
   ]
  },
  {
   "cell_type": "markdown",
   "metadata": {},
   "source": [
    "## Изучение данных из файлов"
   ]
  },
  {
   "cell_type": "markdown",
   "metadata": {},
   "source": [
    "### Импортируем библиотеки"
   ]
  },
  {
   "cell_type": "code",
   "execution_count": 1,
   "metadata": {},
   "outputs": [],
   "source": [
    "import pandas as pd\n",
    "import math as np\n",
    "import datetime as dt\n",
    "import numpy as np\n",
    "from scipy import stats as st"
   ]
  },
  {
   "cell_type": "markdown",
   "metadata": {},
   "source": [
    "### Изучение файла calls (информация о звонках)"
   ]
  },
  {
   "cell_type": "code",
   "execution_count": 2,
   "metadata": {},
   "outputs": [
    {
     "data": {
      "text/html": [
       "<div>\n",
       "<style scoped>\n",
       "    .dataframe tbody tr th:only-of-type {\n",
       "        vertical-align: middle;\n",
       "    }\n",
       "\n",
       "    .dataframe tbody tr th {\n",
       "        vertical-align: top;\n",
       "    }\n",
       "\n",
       "    .dataframe thead th {\n",
       "        text-align: right;\n",
       "    }\n",
       "</style>\n",
       "<table border=\"1\" class=\"dataframe\">\n",
       "  <thead>\n",
       "    <tr style=\"text-align: right;\">\n",
       "      <th></th>\n",
       "      <th>id</th>\n",
       "      <th>call_date</th>\n",
       "      <th>duration</th>\n",
       "      <th>user_id</th>\n",
       "    </tr>\n",
       "  </thead>\n",
       "  <tbody>\n",
       "    <tr>\n",
       "      <td>0</td>\n",
       "      <td>1000_0</td>\n",
       "      <td>2018-07-25</td>\n",
       "      <td>0.00</td>\n",
       "      <td>1000</td>\n",
       "    </tr>\n",
       "    <tr>\n",
       "      <td>1</td>\n",
       "      <td>1000_1</td>\n",
       "      <td>2018-08-17</td>\n",
       "      <td>0.00</td>\n",
       "      <td>1000</td>\n",
       "    </tr>\n",
       "    <tr>\n",
       "      <td>2</td>\n",
       "      <td>1000_2</td>\n",
       "      <td>2018-06-11</td>\n",
       "      <td>2.85</td>\n",
       "      <td>1000</td>\n",
       "    </tr>\n",
       "    <tr>\n",
       "      <td>3</td>\n",
       "      <td>1000_3</td>\n",
       "      <td>2018-09-21</td>\n",
       "      <td>13.80</td>\n",
       "      <td>1000</td>\n",
       "    </tr>\n",
       "    <tr>\n",
       "      <td>4</td>\n",
       "      <td>1000_4</td>\n",
       "      <td>2018-12-15</td>\n",
       "      <td>5.18</td>\n",
       "      <td>1000</td>\n",
       "    </tr>\n",
       "    <tr>\n",
       "      <td>...</td>\n",
       "      <td>...</td>\n",
       "      <td>...</td>\n",
       "      <td>...</td>\n",
       "      <td>...</td>\n",
       "    </tr>\n",
       "    <tr>\n",
       "      <td>202602</td>\n",
       "      <td>1499_215</td>\n",
       "      <td>2018-12-26</td>\n",
       "      <td>0.76</td>\n",
       "      <td>1499</td>\n",
       "    </tr>\n",
       "    <tr>\n",
       "      <td>202603</td>\n",
       "      <td>1499_216</td>\n",
       "      <td>2018-10-18</td>\n",
       "      <td>18.83</td>\n",
       "      <td>1499</td>\n",
       "    </tr>\n",
       "    <tr>\n",
       "      <td>202604</td>\n",
       "      <td>1499_217</td>\n",
       "      <td>2018-11-10</td>\n",
       "      <td>10.81</td>\n",
       "      <td>1499</td>\n",
       "    </tr>\n",
       "    <tr>\n",
       "      <td>202605</td>\n",
       "      <td>1499_218</td>\n",
       "      <td>2018-10-06</td>\n",
       "      <td>4.27</td>\n",
       "      <td>1499</td>\n",
       "    </tr>\n",
       "    <tr>\n",
       "      <td>202606</td>\n",
       "      <td>1499_219</td>\n",
       "      <td>2018-12-14</td>\n",
       "      <td>19.62</td>\n",
       "      <td>1499</td>\n",
       "    </tr>\n",
       "  </tbody>\n",
       "</table>\n",
       "<p>202607 rows × 4 columns</p>\n",
       "</div>"
      ],
      "text/plain": [
       "              id   call_date  duration  user_id\n",
       "0         1000_0  2018-07-25      0.00     1000\n",
       "1         1000_1  2018-08-17      0.00     1000\n",
       "2         1000_2  2018-06-11      2.85     1000\n",
       "3         1000_3  2018-09-21     13.80     1000\n",
       "4         1000_4  2018-12-15      5.18     1000\n",
       "...          ...         ...       ...      ...\n",
       "202602  1499_215  2018-12-26      0.76     1499\n",
       "202603  1499_216  2018-10-18     18.83     1499\n",
       "202604  1499_217  2018-11-10     10.81     1499\n",
       "202605  1499_218  2018-10-06      4.27     1499\n",
       "202606  1499_219  2018-12-14     19.62     1499\n",
       "\n",
       "[202607 rows x 4 columns]"
      ]
     },
     "metadata": {},
     "output_type": "display_data"
    },
    {
     "name": "stdout",
     "output_type": "stream",
     "text": [
      "<class 'pandas.core.frame.DataFrame'>\n",
      "RangeIndex: 202607 entries, 0 to 202606\n",
      "Data columns (total 4 columns):\n",
      "id           202607 non-null object\n",
      "call_date    202607 non-null object\n",
      "duration     202607 non-null float64\n",
      "user_id      202607 non-null int64\n",
      "dtypes: float64(1), int64(1), object(2)\n",
      "memory usage: 6.2+ MB\n"
     ]
    }
   ],
   "source": [
    "# открываем и выводим таблицу\n",
    "calls = pd.read_csv('/datasets/calls.csv')\n",
    "display(calls)\n",
    "# выводим информацию по таблице\n",
    "calls.info()"
   ]
  },
  {
   "cell_type": "markdown",
   "metadata": {},
   "source": [
    "Открыв файл calls мы видим, что в таблице 202 607 строк и 4 колонки. Присутствуют такие типы как: object, float64 и int64. В таблице указана информация о дате звонка и его продолжительности, а также id клиента."
   ]
  },
  {
   "cell_type": "markdown",
   "metadata": {},
   "source": [
    "### Изучение файла internet (информация об интернет-сессиях)"
   ]
  },
  {
   "cell_type": "code",
   "execution_count": 3,
   "metadata": {},
   "outputs": [
    {
     "data": {
      "text/html": [
       "<div>\n",
       "<style scoped>\n",
       "    .dataframe tbody tr th:only-of-type {\n",
       "        vertical-align: middle;\n",
       "    }\n",
       "\n",
       "    .dataframe tbody tr th {\n",
       "        vertical-align: top;\n",
       "    }\n",
       "\n",
       "    .dataframe thead th {\n",
       "        text-align: right;\n",
       "    }\n",
       "</style>\n",
       "<table border=\"1\" class=\"dataframe\">\n",
       "  <thead>\n",
       "    <tr style=\"text-align: right;\">\n",
       "      <th></th>\n",
       "      <th>Unnamed: 0</th>\n",
       "      <th>id</th>\n",
       "      <th>mb_used</th>\n",
       "      <th>session_date</th>\n",
       "      <th>user_id</th>\n",
       "    </tr>\n",
       "  </thead>\n",
       "  <tbody>\n",
       "    <tr>\n",
       "      <td>0</td>\n",
       "      <td>0</td>\n",
       "      <td>1000_0</td>\n",
       "      <td>112.95</td>\n",
       "      <td>2018-11-25</td>\n",
       "      <td>1000</td>\n",
       "    </tr>\n",
       "    <tr>\n",
       "      <td>1</td>\n",
       "      <td>1</td>\n",
       "      <td>1000_1</td>\n",
       "      <td>1052.81</td>\n",
       "      <td>2018-09-07</td>\n",
       "      <td>1000</td>\n",
       "    </tr>\n",
       "    <tr>\n",
       "      <td>2</td>\n",
       "      <td>2</td>\n",
       "      <td>1000_2</td>\n",
       "      <td>1197.26</td>\n",
       "      <td>2018-06-25</td>\n",
       "      <td>1000</td>\n",
       "    </tr>\n",
       "    <tr>\n",
       "      <td>3</td>\n",
       "      <td>3</td>\n",
       "      <td>1000_3</td>\n",
       "      <td>550.27</td>\n",
       "      <td>2018-08-22</td>\n",
       "      <td>1000</td>\n",
       "    </tr>\n",
       "    <tr>\n",
       "      <td>4</td>\n",
       "      <td>4</td>\n",
       "      <td>1000_4</td>\n",
       "      <td>302.56</td>\n",
       "      <td>2018-09-24</td>\n",
       "      <td>1000</td>\n",
       "    </tr>\n",
       "    <tr>\n",
       "      <td>...</td>\n",
       "      <td>...</td>\n",
       "      <td>...</td>\n",
       "      <td>...</td>\n",
       "      <td>...</td>\n",
       "      <td>...</td>\n",
       "    </tr>\n",
       "    <tr>\n",
       "      <td>149391</td>\n",
       "      <td>149391</td>\n",
       "      <td>1499_152</td>\n",
       "      <td>318.90</td>\n",
       "      <td>2018-10-03</td>\n",
       "      <td>1499</td>\n",
       "    </tr>\n",
       "    <tr>\n",
       "      <td>149392</td>\n",
       "      <td>149392</td>\n",
       "      <td>1499_153</td>\n",
       "      <td>490.13</td>\n",
       "      <td>2018-12-14</td>\n",
       "      <td>1499</td>\n",
       "    </tr>\n",
       "    <tr>\n",
       "      <td>149393</td>\n",
       "      <td>149393</td>\n",
       "      <td>1499_154</td>\n",
       "      <td>0.00</td>\n",
       "      <td>2018-10-27</td>\n",
       "      <td>1499</td>\n",
       "    </tr>\n",
       "    <tr>\n",
       "      <td>149394</td>\n",
       "      <td>149394</td>\n",
       "      <td>1499_155</td>\n",
       "      <td>1246.32</td>\n",
       "      <td>2018-11-26</td>\n",
       "      <td>1499</td>\n",
       "    </tr>\n",
       "    <tr>\n",
       "      <td>149395</td>\n",
       "      <td>149395</td>\n",
       "      <td>1499_156</td>\n",
       "      <td>544.37</td>\n",
       "      <td>2018-10-26</td>\n",
       "      <td>1499</td>\n",
       "    </tr>\n",
       "  </tbody>\n",
       "</table>\n",
       "<p>149396 rows × 5 columns</p>\n",
       "</div>"
      ],
      "text/plain": [
       "        Unnamed: 0        id  mb_used session_date  user_id\n",
       "0                0    1000_0   112.95   2018-11-25     1000\n",
       "1                1    1000_1  1052.81   2018-09-07     1000\n",
       "2                2    1000_2  1197.26   2018-06-25     1000\n",
       "3                3    1000_3   550.27   2018-08-22     1000\n",
       "4                4    1000_4   302.56   2018-09-24     1000\n",
       "...            ...       ...      ...          ...      ...\n",
       "149391      149391  1499_152   318.90   2018-10-03     1499\n",
       "149392      149392  1499_153   490.13   2018-12-14     1499\n",
       "149393      149393  1499_154     0.00   2018-10-27     1499\n",
       "149394      149394  1499_155  1246.32   2018-11-26     1499\n",
       "149395      149395  1499_156   544.37   2018-10-26     1499\n",
       "\n",
       "[149396 rows x 5 columns]"
      ]
     },
     "metadata": {},
     "output_type": "display_data"
    },
    {
     "name": "stdout",
     "output_type": "stream",
     "text": [
      "<class 'pandas.core.frame.DataFrame'>\n",
      "RangeIndex: 149396 entries, 0 to 149395\n",
      "Data columns (total 5 columns):\n",
      "Unnamed: 0      149396 non-null int64\n",
      "id              149396 non-null object\n",
      "mb_used         149396 non-null float64\n",
      "session_date    149396 non-null object\n",
      "user_id         149396 non-null int64\n",
      "dtypes: float64(1), int64(2), object(2)\n",
      "memory usage: 5.7+ MB\n"
     ]
    }
   ],
   "source": [
    "# открываем и выводим таблицу\n",
    "internet = pd.read_csv('/datasets/internet.csv')\n",
    "display(internet)\n",
    "# выводим информацию по таблице\n",
    "internet.info()"
   ]
  },
  {
   "cell_type": "markdown",
   "metadata": {},
   "source": [
    "Открыв файл internet мы видим, что таблица состоит из 149 396 строк и 5 колонок. Присутствуют типы данных как: int64, float64 и object. В таблице указана информаци о потраченных мегабайтах, дате сессии и id клиента."
   ]
  },
  {
   "cell_type": "markdown",
   "metadata": {},
   "source": [
    "### Изучение файла messages (информация о сообщениях)"
   ]
  },
  {
   "cell_type": "code",
   "execution_count": 4,
   "metadata": {},
   "outputs": [
    {
     "data": {
      "text/html": [
       "<div>\n",
       "<style scoped>\n",
       "    .dataframe tbody tr th:only-of-type {\n",
       "        vertical-align: middle;\n",
       "    }\n",
       "\n",
       "    .dataframe tbody tr th {\n",
       "        vertical-align: top;\n",
       "    }\n",
       "\n",
       "    .dataframe thead th {\n",
       "        text-align: right;\n",
       "    }\n",
       "</style>\n",
       "<table border=\"1\" class=\"dataframe\">\n",
       "  <thead>\n",
       "    <tr style=\"text-align: right;\">\n",
       "      <th></th>\n",
       "      <th>id</th>\n",
       "      <th>message_date</th>\n",
       "      <th>user_id</th>\n",
       "    </tr>\n",
       "  </thead>\n",
       "  <tbody>\n",
       "    <tr>\n",
       "      <td>0</td>\n",
       "      <td>1000_0</td>\n",
       "      <td>2018-06-27</td>\n",
       "      <td>1000</td>\n",
       "    </tr>\n",
       "    <tr>\n",
       "      <td>1</td>\n",
       "      <td>1000_1</td>\n",
       "      <td>2018-10-08</td>\n",
       "      <td>1000</td>\n",
       "    </tr>\n",
       "    <tr>\n",
       "      <td>2</td>\n",
       "      <td>1000_2</td>\n",
       "      <td>2018-08-04</td>\n",
       "      <td>1000</td>\n",
       "    </tr>\n",
       "    <tr>\n",
       "      <td>3</td>\n",
       "      <td>1000_3</td>\n",
       "      <td>2018-06-16</td>\n",
       "      <td>1000</td>\n",
       "    </tr>\n",
       "    <tr>\n",
       "      <td>4</td>\n",
       "      <td>1000_4</td>\n",
       "      <td>2018-12-05</td>\n",
       "      <td>1000</td>\n",
       "    </tr>\n",
       "    <tr>\n",
       "      <td>...</td>\n",
       "      <td>...</td>\n",
       "      <td>...</td>\n",
       "      <td>...</td>\n",
       "    </tr>\n",
       "    <tr>\n",
       "      <td>123031</td>\n",
       "      <td>1499_179</td>\n",
       "      <td>2018-12-12</td>\n",
       "      <td>1499</td>\n",
       "    </tr>\n",
       "    <tr>\n",
       "      <td>123032</td>\n",
       "      <td>1499_180</td>\n",
       "      <td>2018-09-28</td>\n",
       "      <td>1499</td>\n",
       "    </tr>\n",
       "    <tr>\n",
       "      <td>123033</td>\n",
       "      <td>1499_181</td>\n",
       "      <td>2018-09-27</td>\n",
       "      <td>1499</td>\n",
       "    </tr>\n",
       "    <tr>\n",
       "      <td>123034</td>\n",
       "      <td>1499_182</td>\n",
       "      <td>2018-11-15</td>\n",
       "      <td>1499</td>\n",
       "    </tr>\n",
       "    <tr>\n",
       "      <td>123035</td>\n",
       "      <td>1499_183</td>\n",
       "      <td>2018-11-16</td>\n",
       "      <td>1499</td>\n",
       "    </tr>\n",
       "  </tbody>\n",
       "</table>\n",
       "<p>123036 rows × 3 columns</p>\n",
       "</div>"
      ],
      "text/plain": [
       "              id message_date  user_id\n",
       "0         1000_0   2018-06-27     1000\n",
       "1         1000_1   2018-10-08     1000\n",
       "2         1000_2   2018-08-04     1000\n",
       "3         1000_3   2018-06-16     1000\n",
       "4         1000_4   2018-12-05     1000\n",
       "...          ...          ...      ...\n",
       "123031  1499_179   2018-12-12     1499\n",
       "123032  1499_180   2018-09-28     1499\n",
       "123033  1499_181   2018-09-27     1499\n",
       "123034  1499_182   2018-11-15     1499\n",
       "123035  1499_183   2018-11-16     1499\n",
       "\n",
       "[123036 rows x 3 columns]"
      ]
     },
     "metadata": {},
     "output_type": "display_data"
    },
    {
     "name": "stdout",
     "output_type": "stream",
     "text": [
      "<class 'pandas.core.frame.DataFrame'>\n",
      "RangeIndex: 123036 entries, 0 to 123035\n",
      "Data columns (total 3 columns):\n",
      "id              123036 non-null object\n",
      "message_date    123036 non-null object\n",
      "user_id         123036 non-null int64\n",
      "dtypes: int64(1), object(2)\n",
      "memory usage: 2.8+ MB\n"
     ]
    }
   ],
   "source": [
    "# открываем и выводим таблицу\n",
    "messages = pd.read_csv('/datasets/messages.csv')\n",
    "display(messages)\n",
    "# выводим информацию по таблице\n",
    "messages.info()"
   ]
  },
  {
   "cell_type": "markdown",
   "metadata": {},
   "source": [
    "Открыв файл messages мы видим, что таблица состоит из 123 036 строк и 3 колонок. Присутствуют типы данных как: int64 и object. В таблице информация по дате отправки сообщений и id клиента."
   ]
  },
  {
   "cell_type": "markdown",
   "metadata": {},
   "source": [
    "### Изучение файла tariffs (информация о тарифах)"
   ]
  },
  {
   "cell_type": "code",
   "execution_count": 5,
   "metadata": {},
   "outputs": [
    {
     "data": {
      "text/html": [
       "<div>\n",
       "<style scoped>\n",
       "    .dataframe tbody tr th:only-of-type {\n",
       "        vertical-align: middle;\n",
       "    }\n",
       "\n",
       "    .dataframe tbody tr th {\n",
       "        vertical-align: top;\n",
       "    }\n",
       "\n",
       "    .dataframe thead th {\n",
       "        text-align: right;\n",
       "    }\n",
       "</style>\n",
       "<table border=\"1\" class=\"dataframe\">\n",
       "  <thead>\n",
       "    <tr style=\"text-align: right;\">\n",
       "      <th></th>\n",
       "      <th>messages_included</th>\n",
       "      <th>mb_per_month_included</th>\n",
       "      <th>minutes_included</th>\n",
       "      <th>rub_monthly_fee</th>\n",
       "      <th>rub_per_gb</th>\n",
       "      <th>rub_per_message</th>\n",
       "      <th>rub_per_minute</th>\n",
       "      <th>tariff_name</th>\n",
       "    </tr>\n",
       "  </thead>\n",
       "  <tbody>\n",
       "    <tr>\n",
       "      <td>0</td>\n",
       "      <td>50</td>\n",
       "      <td>15360</td>\n",
       "      <td>500</td>\n",
       "      <td>550</td>\n",
       "      <td>200</td>\n",
       "      <td>3</td>\n",
       "      <td>3</td>\n",
       "      <td>smart</td>\n",
       "    </tr>\n",
       "    <tr>\n",
       "      <td>1</td>\n",
       "      <td>1000</td>\n",
       "      <td>30720</td>\n",
       "      <td>3000</td>\n",
       "      <td>1950</td>\n",
       "      <td>150</td>\n",
       "      <td>1</td>\n",
       "      <td>1</td>\n",
       "      <td>ultra</td>\n",
       "    </tr>\n",
       "  </tbody>\n",
       "</table>\n",
       "</div>"
      ],
      "text/plain": [
       "   messages_included  mb_per_month_included  minutes_included  \\\n",
       "0                 50                  15360               500   \n",
       "1               1000                  30720              3000   \n",
       "\n",
       "   rub_monthly_fee  rub_per_gb  rub_per_message  rub_per_minute tariff_name  \n",
       "0              550         200                3               3       smart  \n",
       "1             1950         150                1               1       ultra  "
      ]
     },
     "metadata": {},
     "output_type": "display_data"
    },
    {
     "name": "stdout",
     "output_type": "stream",
     "text": [
      "<class 'pandas.core.frame.DataFrame'>\n",
      "RangeIndex: 2 entries, 0 to 1\n",
      "Data columns (total 8 columns):\n",
      "messages_included        2 non-null int64\n",
      "mb_per_month_included    2 non-null int64\n",
      "minutes_included         2 non-null int64\n",
      "rub_monthly_fee          2 non-null int64\n",
      "rub_per_gb               2 non-null int64\n",
      "rub_per_message          2 non-null int64\n",
      "rub_per_minute           2 non-null int64\n",
      "tariff_name              2 non-null object\n",
      "dtypes: int64(7), object(1)\n",
      "memory usage: 256.0+ bytes\n"
     ]
    }
   ],
   "source": [
    "# открываем и выводим таблицу\n",
    "tariffs = pd.read_csv('/datasets/tariffs.csv')\n",
    "display(tariffs)\n",
    "# выводим информацию по таблице\n",
    "tariffs.info()"
   ]
  },
  {
   "cell_type": "markdown",
   "metadata": {},
   "source": [
    "Открыв файл tariffs мы видим, что таблица состоит из 2 строк и 8 колонок. Присутствуют типы данных как: int64 и object. В таблице информация по изучаемым тарифам - сколько включено сообщений, мегабайт, минут включено в тариф. Ежемесячная плата. И тарифы за минуты разговора, сообщений и гигабайт сверх тарифа."
   ]
  },
  {
   "cell_type": "markdown",
   "metadata": {},
   "source": [
    "### Изучение файла users (информация о пользователях)"
   ]
  },
  {
   "cell_type": "code",
   "execution_count": 6,
   "metadata": {},
   "outputs": [
    {
     "data": {
      "text/html": [
       "<div>\n",
       "<style scoped>\n",
       "    .dataframe tbody tr th:only-of-type {\n",
       "        vertical-align: middle;\n",
       "    }\n",
       "\n",
       "    .dataframe tbody tr th {\n",
       "        vertical-align: top;\n",
       "    }\n",
       "\n",
       "    .dataframe thead th {\n",
       "        text-align: right;\n",
       "    }\n",
       "</style>\n",
       "<table border=\"1\" class=\"dataframe\">\n",
       "  <thead>\n",
       "    <tr style=\"text-align: right;\">\n",
       "      <th></th>\n",
       "      <th>user_id</th>\n",
       "      <th>age</th>\n",
       "      <th>churn_date</th>\n",
       "      <th>city</th>\n",
       "      <th>first_name</th>\n",
       "      <th>last_name</th>\n",
       "      <th>reg_date</th>\n",
       "      <th>tariff</th>\n",
       "    </tr>\n",
       "  </thead>\n",
       "  <tbody>\n",
       "    <tr>\n",
       "      <td>0</td>\n",
       "      <td>1000</td>\n",
       "      <td>52</td>\n",
       "      <td>NaN</td>\n",
       "      <td>Краснодар</td>\n",
       "      <td>Рафаил</td>\n",
       "      <td>Верещагин</td>\n",
       "      <td>2018-05-25</td>\n",
       "      <td>ultra</td>\n",
       "    </tr>\n",
       "    <tr>\n",
       "      <td>1</td>\n",
       "      <td>1001</td>\n",
       "      <td>41</td>\n",
       "      <td>NaN</td>\n",
       "      <td>Москва</td>\n",
       "      <td>Иван</td>\n",
       "      <td>Ежов</td>\n",
       "      <td>2018-11-01</td>\n",
       "      <td>smart</td>\n",
       "    </tr>\n",
       "    <tr>\n",
       "      <td>2</td>\n",
       "      <td>1002</td>\n",
       "      <td>59</td>\n",
       "      <td>NaN</td>\n",
       "      <td>Стерлитамак</td>\n",
       "      <td>Евгений</td>\n",
       "      <td>Абрамович</td>\n",
       "      <td>2018-06-17</td>\n",
       "      <td>smart</td>\n",
       "    </tr>\n",
       "    <tr>\n",
       "      <td>3</td>\n",
       "      <td>1003</td>\n",
       "      <td>23</td>\n",
       "      <td>NaN</td>\n",
       "      <td>Москва</td>\n",
       "      <td>Белла</td>\n",
       "      <td>Белякова</td>\n",
       "      <td>2018-08-17</td>\n",
       "      <td>ultra</td>\n",
       "    </tr>\n",
       "    <tr>\n",
       "      <td>4</td>\n",
       "      <td>1004</td>\n",
       "      <td>68</td>\n",
       "      <td>NaN</td>\n",
       "      <td>Новокузнецк</td>\n",
       "      <td>Татьяна</td>\n",
       "      <td>Авдеенко</td>\n",
       "      <td>2018-05-14</td>\n",
       "      <td>ultra</td>\n",
       "    </tr>\n",
       "    <tr>\n",
       "      <td>...</td>\n",
       "      <td>...</td>\n",
       "      <td>...</td>\n",
       "      <td>...</td>\n",
       "      <td>...</td>\n",
       "      <td>...</td>\n",
       "      <td>...</td>\n",
       "      <td>...</td>\n",
       "      <td>...</td>\n",
       "    </tr>\n",
       "    <tr>\n",
       "      <td>495</td>\n",
       "      <td>1495</td>\n",
       "      <td>65</td>\n",
       "      <td>NaN</td>\n",
       "      <td>Иркутск</td>\n",
       "      <td>Авксентий</td>\n",
       "      <td>Фокин</td>\n",
       "      <td>2018-08-28</td>\n",
       "      <td>ultra</td>\n",
       "    </tr>\n",
       "    <tr>\n",
       "      <td>496</td>\n",
       "      <td>1496</td>\n",
       "      <td>36</td>\n",
       "      <td>NaN</td>\n",
       "      <td>Вологда</td>\n",
       "      <td>Трифон</td>\n",
       "      <td>Блохин</td>\n",
       "      <td>2018-01-27</td>\n",
       "      <td>smart</td>\n",
       "    </tr>\n",
       "    <tr>\n",
       "      <td>497</td>\n",
       "      <td>1497</td>\n",
       "      <td>32</td>\n",
       "      <td>NaN</td>\n",
       "      <td>Челябинск</td>\n",
       "      <td>Каролина</td>\n",
       "      <td>Агеева</td>\n",
       "      <td>2018-10-09</td>\n",
       "      <td>smart</td>\n",
       "    </tr>\n",
       "    <tr>\n",
       "      <td>498</td>\n",
       "      <td>1498</td>\n",
       "      <td>68</td>\n",
       "      <td>2018-10-25</td>\n",
       "      <td>Владикавказ</td>\n",
       "      <td>Всеволод</td>\n",
       "      <td>Акимчин</td>\n",
       "      <td>2018-07-19</td>\n",
       "      <td>smart</td>\n",
       "    </tr>\n",
       "    <tr>\n",
       "      <td>499</td>\n",
       "      <td>1499</td>\n",
       "      <td>35</td>\n",
       "      <td>NaN</td>\n",
       "      <td>Пермь</td>\n",
       "      <td>Гектор</td>\n",
       "      <td>Корнилов</td>\n",
       "      <td>2018-09-27</td>\n",
       "      <td>smart</td>\n",
       "    </tr>\n",
       "  </tbody>\n",
       "</table>\n",
       "<p>500 rows × 8 columns</p>\n",
       "</div>"
      ],
      "text/plain": [
       "     user_id  age  churn_date         city first_name  last_name    reg_date  \\\n",
       "0       1000   52         NaN    Краснодар     Рафаил  Верещагин  2018-05-25   \n",
       "1       1001   41         NaN       Москва       Иван       Ежов  2018-11-01   \n",
       "2       1002   59         NaN  Стерлитамак    Евгений  Абрамович  2018-06-17   \n",
       "3       1003   23         NaN       Москва      Белла   Белякова  2018-08-17   \n",
       "4       1004   68         NaN  Новокузнецк    Татьяна   Авдеенко  2018-05-14   \n",
       "..       ...  ...         ...          ...        ...        ...         ...   \n",
       "495     1495   65         NaN      Иркутск  Авксентий      Фокин  2018-08-28   \n",
       "496     1496   36         NaN      Вологда     Трифон     Блохин  2018-01-27   \n",
       "497     1497   32         NaN    Челябинск   Каролина     Агеева  2018-10-09   \n",
       "498     1498   68  2018-10-25  Владикавказ   Всеволод    Акимчин  2018-07-19   \n",
       "499     1499   35         NaN        Пермь     Гектор   Корнилов  2018-09-27   \n",
       "\n",
       "    tariff  \n",
       "0    ultra  \n",
       "1    smart  \n",
       "2    smart  \n",
       "3    ultra  \n",
       "4    ultra  \n",
       "..     ...  \n",
       "495  ultra  \n",
       "496  smart  \n",
       "497  smart  \n",
       "498  smart  \n",
       "499  smart  \n",
       "\n",
       "[500 rows x 8 columns]"
      ]
     },
     "metadata": {},
     "output_type": "display_data"
    },
    {
     "name": "stdout",
     "output_type": "stream",
     "text": [
      "<class 'pandas.core.frame.DataFrame'>\n",
      "RangeIndex: 500 entries, 0 to 499\n",
      "Data columns (total 8 columns):\n",
      "user_id       500 non-null int64\n",
      "age           500 non-null int64\n",
      "churn_date    38 non-null object\n",
      "city          500 non-null object\n",
      "first_name    500 non-null object\n",
      "last_name     500 non-null object\n",
      "reg_date      500 non-null object\n",
      "tariff        500 non-null object\n",
      "dtypes: int64(2), object(6)\n",
      "memory usage: 31.4+ KB\n"
     ]
    }
   ],
   "source": [
    "# открываем и выводим таблицу\n",
    "users = pd.read_csv('/datasets/users.csv')\n",
    "display(users)\n",
    "# выводим информацию по таблице\n",
    "users.info()"
   ]
  },
  {
   "cell_type": "markdown",
   "metadata": {},
   "source": [
    "Открыв файл users мы видим, что таблица состоит из 500 строк и 8 колонок. Присутствуют типы данных как: int64 и object. В таблице информация по возрасту клиента, в каком он живет городе, имени и фамилии, дате регистрации и подключенном тарифе."
   ]
  },
  {
   "cell_type": "markdown",
   "metadata": {},
   "source": [
    "### Общий вывод по изучению файлов"
   ]
  },
  {
   "cell_type": "markdown",
   "metadata": {},
   "source": [
    "Необходимые бибилиотеки импортированы. Файлы открыты и изучены."
   ]
  },
  {
   "cell_type": "markdown",
   "metadata": {},
   "source": [
    "## Предобработка данных"
   ]
  },
  {
   "cell_type": "markdown",
   "metadata": {},
   "source": [
    "### Предобработка данных в таблице calls"
   ]
  },
  {
   "cell_type": "code",
   "execution_count": 7,
   "metadata": {},
   "outputs": [],
   "source": [
    "# заменяем тип данных в колонке call_date\n",
    "calls['call_date'] = pd.to_datetime(calls['call_date'], format='%Y-%m-%d')\n",
    "# делаем новый стобец в который из даты выделяем только месяц\n",
    "calls['month'] = calls['call_date'].dt.month\n",
    "# смотрим какие значения встречаются в колонке duration\n",
    "calls['duration'].value_counts()\n",
    "# переводим столбец duration в минуты и округляем в большую сторону\n",
    "calls['duration'] = calls['duration'].apply(np.ceil)"
   ]
  },
  {
   "cell_type": "markdown",
   "metadata": {},
   "source": [
    "### Предобработка данных в таблице internet"
   ]
  },
  {
   "cell_type": "code",
   "execution_count": 8,
   "metadata": {},
   "outputs": [
    {
     "data": {
      "text/plain": [
       "0.00      19598\n",
       "197.56        9\n",
       "447.30        9\n",
       "335.91        9\n",
       "108.95        8\n",
       "          ...  \n",
       "72.49         1\n",
       "846.22        1\n",
       "429.17        1\n",
       "899.03        1\n",
       "483.87        1\n",
       "Name: mb_used, Length: 70003, dtype: int64"
      ]
     },
     "execution_count": 8,
     "metadata": {},
     "output_type": "execute_result"
    }
   ],
   "source": [
    "# заменяем тип данных в колонке session_date\n",
    "internet['session_date'] = pd.to_datetime(internet['session_date'], format='%Y-%m-%d')\n",
    "# делаем новый столбец в который из даты выделяем только месяц\n",
    "internet['month'] = internet['session_date'].dt.month\n",
    "# смотрим, какие значение встречаются в колонке mb_used\n",
    "internet['mb_used'].value_counts()"
   ]
  },
  {
   "cell_type": "markdown",
   "metadata": {},
   "source": [
    "### Предобработка данных в таблице messages\n"
   ]
  },
  {
   "cell_type": "code",
   "execution_count": 9,
   "metadata": {},
   "outputs": [],
   "source": [
    "# заменяем тип данных в колонке message_date\n",
    "messages['message_date'] = pd.to_datetime(messages['message_date'], format='%Y-%m-%d')\n",
    "# делаем новый столбец в который из даты выделяем только месяц\n",
    "messages['month'] = messages['message_date'].dt.month"
   ]
  },
  {
   "cell_type": "markdown",
   "metadata": {},
   "source": [
    "### Предобработка данных в таблице users"
   ]
  },
  {
   "cell_type": "code",
   "execution_count": 10,
   "metadata": {},
   "outputs": [],
   "source": [
    "# заменяем тип данных в колонке reg_date\n",
    "users['reg_date'] = pd.to_datetime(users['reg_date'], format='%Y-%m-%d')"
   ]
  },
  {
   "cell_type": "markdown",
   "metadata": {},
   "source": [
    "### Вывод по предобработке данных"
   ]
  },
  {
   "cell_type": "markdown",
   "metadata": {},
   "source": [
    "В каждой из таблиц были выполнены некоторые преобразования. Почти в каждой таблице где есть связь с датой - тип данных с object был заменен на to_datetime и создан новый столбец в который был выделен только месяц (это необходимо для дальнейшей работы с подсчетами по месяцам). В таблице calls были найдены нулевые значения длительности звонка - это пропущенные звонки. В таблице internet мы также видим нулевые значения - возможно это связано с тем, что у человека плохо ловила сеть и страница браузера не прогуражалась. Эта сессия считалась начатой и тут же законченной. в таблице users в колонке churn_date (дата прекращения пользования тарифом) имеются пропущенные значения - но заменять их не имеет смысла, т.к. если значение пропущено - значит на момент выгрузки тариф еще использовался."
   ]
  },
  {
   "cell_type": "markdown",
   "metadata": {},
   "source": [
    "## Делаем подсчеты для каждого пользователя"
   ]
  },
  {
   "cell_type": "markdown",
   "metadata": {},
   "source": [
    "### Подсчитываем количество сделанных звонков по месяцам для каждого пользователя"
   ]
  },
  {
   "cell_type": "code",
   "execution_count": 11,
   "metadata": {},
   "outputs": [
    {
     "data": {
      "text/html": [
       "<div>\n",
       "<style scoped>\n",
       "    .dataframe tbody tr th:only-of-type {\n",
       "        vertical-align: middle;\n",
       "    }\n",
       "\n",
       "    .dataframe tbody tr th {\n",
       "        vertical-align: top;\n",
       "    }\n",
       "\n",
       "    .dataframe thead th {\n",
       "        text-align: right;\n",
       "    }\n",
       "</style>\n",
       "<table border=\"1\" class=\"dataframe\">\n",
       "  <thead>\n",
       "    <tr style=\"text-align: right;\">\n",
       "      <th></th>\n",
       "      <th></th>\n",
       "      <th>total_duraion</th>\n",
       "    </tr>\n",
       "    <tr>\n",
       "      <th>user_id</th>\n",
       "      <th>month</th>\n",
       "      <th></th>\n",
       "    </tr>\n",
       "  </thead>\n",
       "  <tbody>\n",
       "    <tr>\n",
       "      <td rowspan=\"5\" valign=\"top\">1000</td>\n",
       "      <td>5</td>\n",
       "      <td>159.0</td>\n",
       "    </tr>\n",
       "    <tr>\n",
       "      <td>6</td>\n",
       "      <td>172.0</td>\n",
       "    </tr>\n",
       "    <tr>\n",
       "      <td>7</td>\n",
       "      <td>340.0</td>\n",
       "    </tr>\n",
       "    <tr>\n",
       "      <td>8</td>\n",
       "      <td>408.0</td>\n",
       "    </tr>\n",
       "    <tr>\n",
       "      <td>9</td>\n",
       "      <td>466.0</td>\n",
       "    </tr>\n",
       "    <tr>\n",
       "      <td>...</td>\n",
       "      <td>...</td>\n",
       "      <td>...</td>\n",
       "    </tr>\n",
       "    <tr>\n",
       "      <td>1498</td>\n",
       "      <td>10</td>\n",
       "      <td>247.0</td>\n",
       "    </tr>\n",
       "    <tr>\n",
       "      <td rowspan=\"4\" valign=\"top\">1499</td>\n",
       "      <td>9</td>\n",
       "      <td>70.0</td>\n",
       "    </tr>\n",
       "    <tr>\n",
       "      <td>10</td>\n",
       "      <td>449.0</td>\n",
       "    </tr>\n",
       "    <tr>\n",
       "      <td>11</td>\n",
       "      <td>612.0</td>\n",
       "    </tr>\n",
       "    <tr>\n",
       "      <td>12</td>\n",
       "      <td>492.0</td>\n",
       "    </tr>\n",
       "  </tbody>\n",
       "</table>\n",
       "<p>3174 rows × 1 columns</p>\n",
       "</div>"
      ],
      "text/plain": [
       "               total_duraion\n",
       "user_id month               \n",
       "1000    5              159.0\n",
       "        6              172.0\n",
       "        7              340.0\n",
       "        8              408.0\n",
       "        9              466.0\n",
       "...                      ...\n",
       "1498    10             247.0\n",
       "1499    9               70.0\n",
       "        10             449.0\n",
       "        11             612.0\n",
       "        12             492.0\n",
       "\n",
       "[3174 rows x 1 columns]"
      ]
     },
     "metadata": {},
     "output_type": "display_data"
    }
   ],
   "source": [
    "# формируем сводную таблицу звонков по месяцам для каждого пользователя\n",
    "duration_calls = calls.pivot_table(index=['user_id', 'month'], values='duration', aggfunc='sum')\n",
    "# переименовываем столбец суммы разговора\n",
    "duration_calls.columns = ['total_duraion']\n",
    "# выводим сводную таблицу\n",
    "display(duration_calls)"
   ]
  },
  {
   "cell_type": "markdown",
   "metadata": {},
   "source": [
    "### Подсчитываем количество израсходованных минут разговора по месяцам для каждого пользователя"
   ]
  },
  {
   "cell_type": "code",
   "execution_count": 12,
   "metadata": {},
   "outputs": [
    {
     "data": {
      "text/html": [
       "<div>\n",
       "<style scoped>\n",
       "    .dataframe tbody tr th:only-of-type {\n",
       "        vertical-align: middle;\n",
       "    }\n",
       "\n",
       "    .dataframe tbody tr th {\n",
       "        vertical-align: top;\n",
       "    }\n",
       "\n",
       "    .dataframe thead th {\n",
       "        text-align: right;\n",
       "    }\n",
       "</style>\n",
       "<table border=\"1\" class=\"dataframe\">\n",
       "  <thead>\n",
       "    <tr style=\"text-align: right;\">\n",
       "      <th></th>\n",
       "      <th></th>\n",
       "      <th>number_of_calls_by_month</th>\n",
       "    </tr>\n",
       "    <tr>\n",
       "      <th>user_id</th>\n",
       "      <th>month</th>\n",
       "      <th></th>\n",
       "    </tr>\n",
       "  </thead>\n",
       "  <tbody>\n",
       "    <tr>\n",
       "      <td rowspan=\"5\" valign=\"top\">1000</td>\n",
       "      <td>5</td>\n",
       "      <td>22</td>\n",
       "    </tr>\n",
       "    <tr>\n",
       "      <td>6</td>\n",
       "      <td>43</td>\n",
       "    </tr>\n",
       "    <tr>\n",
       "      <td>7</td>\n",
       "      <td>47</td>\n",
       "    </tr>\n",
       "    <tr>\n",
       "      <td>8</td>\n",
       "      <td>52</td>\n",
       "    </tr>\n",
       "    <tr>\n",
       "      <td>9</td>\n",
       "      <td>58</td>\n",
       "    </tr>\n",
       "    <tr>\n",
       "      <td>...</td>\n",
       "      <td>...</td>\n",
       "      <td>...</td>\n",
       "    </tr>\n",
       "    <tr>\n",
       "      <td>1498</td>\n",
       "      <td>10</td>\n",
       "      <td>41</td>\n",
       "    </tr>\n",
       "    <tr>\n",
       "      <td rowspan=\"4\" valign=\"top\">1499</td>\n",
       "      <td>9</td>\n",
       "      <td>9</td>\n",
       "    </tr>\n",
       "    <tr>\n",
       "      <td>10</td>\n",
       "      <td>68</td>\n",
       "    </tr>\n",
       "    <tr>\n",
       "      <td>11</td>\n",
       "      <td>74</td>\n",
       "    </tr>\n",
       "    <tr>\n",
       "      <td>12</td>\n",
       "      <td>69</td>\n",
       "    </tr>\n",
       "  </tbody>\n",
       "</table>\n",
       "<p>3174 rows × 1 columns</p>\n",
       "</div>"
      ],
      "text/plain": [
       "               number_of_calls_by_month\n",
       "user_id month                          \n",
       "1000    5                            22\n",
       "        6                            43\n",
       "        7                            47\n",
       "        8                            52\n",
       "        9                            58\n",
       "...                                 ...\n",
       "1498    10                           41\n",
       "1499    9                             9\n",
       "        10                           68\n",
       "        11                           74\n",
       "        12                           69\n",
       "\n",
       "[3174 rows x 1 columns]"
      ]
     },
     "metadata": {},
     "output_type": "display_data"
    }
   ],
   "source": [
    "# делаем сводную таблицу количества звонков по месяцам для каждого пользователя\n",
    "number_of_calls = calls.pivot_table(index=['user_id', 'month'], values='duration', aggfunc='count')\n",
    "# переименовываем столбец с количеством \n",
    "number_of_calls.columns = ['number_of_calls_by_month']\n",
    "# выводим сводную таблицу\n",
    "display(number_of_calls)"
   ]
  },
  {
   "cell_type": "markdown",
   "metadata": {},
   "source": [
    "### Подсчитываем количество отправленных сообщений по месяцам для каждого пользователя"
   ]
  },
  {
   "cell_type": "code",
   "execution_count": 13,
   "metadata": {},
   "outputs": [
    {
     "data": {
      "text/html": [
       "<div>\n",
       "<style scoped>\n",
       "    .dataframe tbody tr th:only-of-type {\n",
       "        vertical-align: middle;\n",
       "    }\n",
       "\n",
       "    .dataframe tbody tr th {\n",
       "        vertical-align: top;\n",
       "    }\n",
       "\n",
       "    .dataframe thead th {\n",
       "        text-align: right;\n",
       "    }\n",
       "</style>\n",
       "<table border=\"1\" class=\"dataframe\">\n",
       "  <thead>\n",
       "    <tr style=\"text-align: right;\">\n",
       "      <th></th>\n",
       "      <th></th>\n",
       "      <th>total_messages</th>\n",
       "    </tr>\n",
       "    <tr>\n",
       "      <th>user_id</th>\n",
       "      <th>month</th>\n",
       "      <th></th>\n",
       "    </tr>\n",
       "  </thead>\n",
       "  <tbody>\n",
       "    <tr>\n",
       "      <td rowspan=\"5\" valign=\"top\">1000</td>\n",
       "      <td>5</td>\n",
       "      <td>22</td>\n",
       "    </tr>\n",
       "    <tr>\n",
       "      <td>6</td>\n",
       "      <td>60</td>\n",
       "    </tr>\n",
       "    <tr>\n",
       "      <td>7</td>\n",
       "      <td>75</td>\n",
       "    </tr>\n",
       "    <tr>\n",
       "      <td>8</td>\n",
       "      <td>81</td>\n",
       "    </tr>\n",
       "    <tr>\n",
       "      <td>9</td>\n",
       "      <td>57</td>\n",
       "    </tr>\n",
       "    <tr>\n",
       "      <td>...</td>\n",
       "      <td>...</td>\n",
       "      <td>...</td>\n",
       "    </tr>\n",
       "    <tr>\n",
       "      <td>1498</td>\n",
       "      <td>10</td>\n",
       "      <td>42</td>\n",
       "    </tr>\n",
       "    <tr>\n",
       "      <td rowspan=\"4\" valign=\"top\">1499</td>\n",
       "      <td>9</td>\n",
       "      <td>11</td>\n",
       "    </tr>\n",
       "    <tr>\n",
       "      <td>10</td>\n",
       "      <td>48</td>\n",
       "    </tr>\n",
       "    <tr>\n",
       "      <td>11</td>\n",
       "      <td>59</td>\n",
       "    </tr>\n",
       "    <tr>\n",
       "      <td>12</td>\n",
       "      <td>66</td>\n",
       "    </tr>\n",
       "  </tbody>\n",
       "</table>\n",
       "<p>2717 rows × 1 columns</p>\n",
       "</div>"
      ],
      "text/plain": [
       "               total_messages\n",
       "user_id month                \n",
       "1000    5                  22\n",
       "        6                  60\n",
       "        7                  75\n",
       "        8                  81\n",
       "        9                  57\n",
       "...                       ...\n",
       "1498    10                 42\n",
       "1499    9                  11\n",
       "        10                 48\n",
       "        11                 59\n",
       "        12                 66\n",
       "\n",
       "[2717 rows x 1 columns]"
      ]
     },
     "metadata": {},
     "output_type": "display_data"
    }
   ],
   "source": [
    "# делаем сводную таблицу количества сообщений по месяцам для каждого пользователя\n",
    "number_of_messages = messages.pivot_table(index=['user_id', 'month'], values='message_date', aggfunc='count')\n",
    "# переименовываем столбец\n",
    "number_of_messages.columns = ['total_messages']\n",
    "# выводим таблицу\n",
    "display(number_of_messages)"
   ]
  },
  {
   "cell_type": "markdown",
   "metadata": {},
   "source": [
    "### Подсчитываем объем израсходованного интернет-трафика по месяцам для каждого пользователя"
   ]
  },
  {
   "cell_type": "code",
   "execution_count": 14,
   "metadata": {},
   "outputs": [
    {
     "data": {
      "text/html": [
       "<div>\n",
       "<style scoped>\n",
       "    .dataframe tbody tr th:only-of-type {\n",
       "        vertical-align: middle;\n",
       "    }\n",
       "\n",
       "    .dataframe tbody tr th {\n",
       "        vertical-align: top;\n",
       "    }\n",
       "\n",
       "    .dataframe thead th {\n",
       "        text-align: right;\n",
       "    }\n",
       "</style>\n",
       "<table border=\"1\" class=\"dataframe\">\n",
       "  <thead>\n",
       "    <tr style=\"text-align: right;\">\n",
       "      <th></th>\n",
       "      <th></th>\n",
       "      <th>total_traffic_mb</th>\n",
       "      <th>total_traffic_gb</th>\n",
       "    </tr>\n",
       "    <tr>\n",
       "      <th>user_id</th>\n",
       "      <th>month</th>\n",
       "      <th></th>\n",
       "      <th></th>\n",
       "    </tr>\n",
       "  </thead>\n",
       "  <tbody>\n",
       "    <tr>\n",
       "      <td rowspan=\"5\" valign=\"top\">1000</td>\n",
       "      <td>5</td>\n",
       "      <td>2253.49</td>\n",
       "      <td>3.0</td>\n",
       "    </tr>\n",
       "    <tr>\n",
       "      <td>6</td>\n",
       "      <td>23233.77</td>\n",
       "      <td>23.0</td>\n",
       "    </tr>\n",
       "    <tr>\n",
       "      <td>7</td>\n",
       "      <td>14003.64</td>\n",
       "      <td>14.0</td>\n",
       "    </tr>\n",
       "    <tr>\n",
       "      <td>8</td>\n",
       "      <td>14055.93</td>\n",
       "      <td>14.0</td>\n",
       "    </tr>\n",
       "    <tr>\n",
       "      <td>9</td>\n",
       "      <td>14568.91</td>\n",
       "      <td>15.0</td>\n",
       "    </tr>\n",
       "    <tr>\n",
       "      <td>...</td>\n",
       "      <td>...</td>\n",
       "      <td>...</td>\n",
       "      <td>...</td>\n",
       "    </tr>\n",
       "    <tr>\n",
       "      <td>1498</td>\n",
       "      <td>10</td>\n",
       "      <td>20579.36</td>\n",
       "      <td>21.0</td>\n",
       "    </tr>\n",
       "    <tr>\n",
       "      <td rowspan=\"4\" valign=\"top\">1499</td>\n",
       "      <td>9</td>\n",
       "      <td>1845.75</td>\n",
       "      <td>2.0</td>\n",
       "    </tr>\n",
       "    <tr>\n",
       "      <td>10</td>\n",
       "      <td>17788.51</td>\n",
       "      <td>18.0</td>\n",
       "    </tr>\n",
       "    <tr>\n",
       "      <td>11</td>\n",
       "      <td>17963.31</td>\n",
       "      <td>18.0</td>\n",
       "    </tr>\n",
       "    <tr>\n",
       "      <td>12</td>\n",
       "      <td>13055.58</td>\n",
       "      <td>13.0</td>\n",
       "    </tr>\n",
       "  </tbody>\n",
       "</table>\n",
       "<p>3203 rows × 2 columns</p>\n",
       "</div>"
      ],
      "text/plain": [
       "               total_traffic_mb  total_traffic_gb\n",
       "user_id month                                    \n",
       "1000    5               2253.49               3.0\n",
       "        6              23233.77              23.0\n",
       "        7              14003.64              14.0\n",
       "        8              14055.93              14.0\n",
       "        9              14568.91              15.0\n",
       "...                         ...               ...\n",
       "1498    10             20579.36              21.0\n",
       "1499    9               1845.75               2.0\n",
       "        10             17788.51              18.0\n",
       "        11             17963.31              18.0\n",
       "        12             13055.58              13.0\n",
       "\n",
       "[3203 rows x 2 columns]"
      ]
     },
     "metadata": {},
     "output_type": "display_data"
    }
   ],
   "source": [
    "# делаем сводную таблицу трафика в гб к пользователям\n",
    "used_traffic = internet.pivot_table(index=['user_id', 'month'], values='mb_used', aggfunc='sum')\n",
    "# переименовываем столбец с суммой траффика в гб по месяцам для каждого пользователя\n",
    "used_traffic.columns = ['total_traffic_mb']\n",
    "# создаем новый столбец, переводим total_traffic_mb в ГБ и округляем в большую сторону (согласно правилам тарифа)\n",
    "used_traffic['total_traffic_gb'] = (used_traffic['total_traffic_mb'] / 1024).apply(np.ceil)\n",
    "display(used_traffic)"
   ]
  },
  {
   "cell_type": "markdown",
   "metadata": {},
   "source": [
    "### Подсчитываем помесячную выручку по каждому пользователю"
   ]
  },
  {
   "cell_type": "code",
   "execution_count": 15,
   "metadata": {},
   "outputs": [
    {
     "data": {
      "text/html": [
       "<div>\n",
       "<style scoped>\n",
       "    .dataframe tbody tr th:only-of-type {\n",
       "        vertical-align: middle;\n",
       "    }\n",
       "\n",
       "    .dataframe tbody tr th {\n",
       "        vertical-align: top;\n",
       "    }\n",
       "\n",
       "    .dataframe thead th {\n",
       "        text-align: right;\n",
       "    }\n",
       "</style>\n",
       "<table border=\"1\" class=\"dataframe\">\n",
       "  <thead>\n",
       "    <tr style=\"text-align: right;\">\n",
       "      <th></th>\n",
       "      <th>user_id</th>\n",
       "      <th>month</th>\n",
       "      <th>total_duraion</th>\n",
       "      <th>total_messages</th>\n",
       "      <th>total_traffic_gb</th>\n",
       "    </tr>\n",
       "  </thead>\n",
       "  <tbody>\n",
       "    <tr>\n",
       "      <td>0</td>\n",
       "      <td>1000</td>\n",
       "      <td>5</td>\n",
       "      <td>159.0</td>\n",
       "      <td>22.0</td>\n",
       "      <td>3.0</td>\n",
       "    </tr>\n",
       "    <tr>\n",
       "      <td>1</td>\n",
       "      <td>1000</td>\n",
       "      <td>6</td>\n",
       "      <td>172.0</td>\n",
       "      <td>60.0</td>\n",
       "      <td>23.0</td>\n",
       "    </tr>\n",
       "    <tr>\n",
       "      <td>2</td>\n",
       "      <td>1000</td>\n",
       "      <td>7</td>\n",
       "      <td>340.0</td>\n",
       "      <td>75.0</td>\n",
       "      <td>14.0</td>\n",
       "    </tr>\n",
       "    <tr>\n",
       "      <td>3</td>\n",
       "      <td>1000</td>\n",
       "      <td>8</td>\n",
       "      <td>408.0</td>\n",
       "      <td>81.0</td>\n",
       "      <td>14.0</td>\n",
       "    </tr>\n",
       "    <tr>\n",
       "      <td>4</td>\n",
       "      <td>1000</td>\n",
       "      <td>9</td>\n",
       "      <td>466.0</td>\n",
       "      <td>57.0</td>\n",
       "      <td>15.0</td>\n",
       "    </tr>\n",
       "    <tr>\n",
       "      <td>...</td>\n",
       "      <td>...</td>\n",
       "      <td>...</td>\n",
       "      <td>...</td>\n",
       "      <td>...</td>\n",
       "      <td>...</td>\n",
       "    </tr>\n",
       "    <tr>\n",
       "      <td>3209</td>\n",
       "      <td>1489</td>\n",
       "      <td>9</td>\n",
       "      <td>NaN</td>\n",
       "      <td>32.0</td>\n",
       "      <td>17.0</td>\n",
       "    </tr>\n",
       "    <tr>\n",
       "      <td>3210</td>\n",
       "      <td>1489</td>\n",
       "      <td>10</td>\n",
       "      <td>NaN</td>\n",
       "      <td>21.0</td>\n",
       "      <td>20.0</td>\n",
       "    </tr>\n",
       "    <tr>\n",
       "      <td>3211</td>\n",
       "      <td>1489</td>\n",
       "      <td>11</td>\n",
       "      <td>NaN</td>\n",
       "      <td>20.0</td>\n",
       "      <td>18.0</td>\n",
       "    </tr>\n",
       "    <tr>\n",
       "      <td>3212</td>\n",
       "      <td>1489</td>\n",
       "      <td>12</td>\n",
       "      <td>NaN</td>\n",
       "      <td>35.0</td>\n",
       "      <td>17.0</td>\n",
       "    </tr>\n",
       "    <tr>\n",
       "      <td>3213</td>\n",
       "      <td>1476</td>\n",
       "      <td>4</td>\n",
       "      <td>NaN</td>\n",
       "      <td>NaN</td>\n",
       "      <td>1.0</td>\n",
       "    </tr>\n",
       "  </tbody>\n",
       "</table>\n",
       "<p>3214 rows × 5 columns</p>\n",
       "</div>"
      ],
      "text/plain": [
       "      user_id  month  total_duraion  total_messages  total_traffic_gb\n",
       "0        1000      5          159.0            22.0               3.0\n",
       "1        1000      6          172.0            60.0              23.0\n",
       "2        1000      7          340.0            75.0              14.0\n",
       "3        1000      8          408.0            81.0              14.0\n",
       "4        1000      9          466.0            57.0              15.0\n",
       "...       ...    ...            ...             ...               ...\n",
       "3209     1489      9            NaN            32.0              17.0\n",
       "3210     1489     10            NaN            21.0              20.0\n",
       "3211     1489     11            NaN            20.0              18.0\n",
       "3212     1489     12            NaN            35.0              17.0\n",
       "3213     1476      4            NaN             NaN               1.0\n",
       "\n",
       "[3214 rows x 5 columns]"
      ]
     },
     "metadata": {},
     "output_type": "display_data"
    }
   ],
   "source": [
    "# соединяем табоицы duration_calls, number_of_messages и used_traffic\n",
    "grouped_data = (\n",
    "    duration_calls.merge(\n",
    "        number_of_messages, on=['user_id', 'month'], how='outer').merge(\n",
    "    used_traffic['total_traffic_gb'], on=['user_id', 'month'], how='outer')\n",
    ").reset_index()\n",
    "# выводим таблицу\n",
    "display(grouped_data)"
   ]
  },
  {
   "cell_type": "code",
   "execution_count": 16,
   "metadata": {},
   "outputs": [],
   "source": [
    "# соединяем предыдущую таблицу в таблицей users добавляя город и тарифный план\n",
    "grouped_data = grouped_data.merge(users[['user_id','city', 'tariff']], on='user_id', how='outer')"
   ]
  },
  {
   "cell_type": "code",
   "execution_count": 17,
   "metadata": {},
   "outputs": [
    {
     "data": {
      "text/html": [
       "<div>\n",
       "<style scoped>\n",
       "    .dataframe tbody tr th:only-of-type {\n",
       "        vertical-align: middle;\n",
       "    }\n",
       "\n",
       "    .dataframe tbody tr th {\n",
       "        vertical-align: top;\n",
       "    }\n",
       "\n",
       "    .dataframe thead th {\n",
       "        text-align: right;\n",
       "    }\n",
       "</style>\n",
       "<table border=\"1\" class=\"dataframe\">\n",
       "  <thead>\n",
       "    <tr style=\"text-align: right;\">\n",
       "      <th></th>\n",
       "      <th>user_id</th>\n",
       "      <th>month</th>\n",
       "      <th>total_duraion</th>\n",
       "      <th>total_messages</th>\n",
       "      <th>total_traffic_gb</th>\n",
       "      <th>city</th>\n",
       "      <th>tariff</th>\n",
       "    </tr>\n",
       "  </thead>\n",
       "  <tbody>\n",
       "    <tr>\n",
       "      <td>0</td>\n",
       "      <td>1000</td>\n",
       "      <td>5.0</td>\n",
       "      <td>159.0</td>\n",
       "      <td>22.0</td>\n",
       "      <td>3.0</td>\n",
       "      <td>Краснодар</td>\n",
       "      <td>ultra</td>\n",
       "    </tr>\n",
       "    <tr>\n",
       "      <td>1</td>\n",
       "      <td>1000</td>\n",
       "      <td>6.0</td>\n",
       "      <td>172.0</td>\n",
       "      <td>60.0</td>\n",
       "      <td>23.0</td>\n",
       "      <td>Краснодар</td>\n",
       "      <td>ultra</td>\n",
       "    </tr>\n",
       "    <tr>\n",
       "      <td>2</td>\n",
       "      <td>1000</td>\n",
       "      <td>7.0</td>\n",
       "      <td>340.0</td>\n",
       "      <td>75.0</td>\n",
       "      <td>14.0</td>\n",
       "      <td>Краснодар</td>\n",
       "      <td>ultra</td>\n",
       "    </tr>\n",
       "    <tr>\n",
       "      <td>3</td>\n",
       "      <td>1000</td>\n",
       "      <td>8.0</td>\n",
       "      <td>408.0</td>\n",
       "      <td>81.0</td>\n",
       "      <td>14.0</td>\n",
       "      <td>Краснодар</td>\n",
       "      <td>ultra</td>\n",
       "    </tr>\n",
       "    <tr>\n",
       "      <td>4</td>\n",
       "      <td>1000</td>\n",
       "      <td>9.0</td>\n",
       "      <td>466.0</td>\n",
       "      <td>57.0</td>\n",
       "      <td>15.0</td>\n",
       "      <td>Краснодар</td>\n",
       "      <td>ultra</td>\n",
       "    </tr>\n",
       "    <tr>\n",
       "      <td>...</td>\n",
       "      <td>...</td>\n",
       "      <td>...</td>\n",
       "      <td>...</td>\n",
       "      <td>...</td>\n",
       "      <td>...</td>\n",
       "      <td>...</td>\n",
       "      <td>...</td>\n",
       "    </tr>\n",
       "    <tr>\n",
       "      <td>3211</td>\n",
       "      <td>1489</td>\n",
       "      <td>10.0</td>\n",
       "      <td>NaN</td>\n",
       "      <td>21.0</td>\n",
       "      <td>20.0</td>\n",
       "      <td>Санкт-Петербург</td>\n",
       "      <td>smart</td>\n",
       "    </tr>\n",
       "    <tr>\n",
       "      <td>3212</td>\n",
       "      <td>1489</td>\n",
       "      <td>11.0</td>\n",
       "      <td>NaN</td>\n",
       "      <td>20.0</td>\n",
       "      <td>18.0</td>\n",
       "      <td>Санкт-Петербург</td>\n",
       "      <td>smart</td>\n",
       "    </tr>\n",
       "    <tr>\n",
       "      <td>3213</td>\n",
       "      <td>1489</td>\n",
       "      <td>12.0</td>\n",
       "      <td>NaN</td>\n",
       "      <td>35.0</td>\n",
       "      <td>17.0</td>\n",
       "      <td>Санкт-Петербург</td>\n",
       "      <td>smart</td>\n",
       "    </tr>\n",
       "    <tr>\n",
       "      <td>3214</td>\n",
       "      <td>1128</td>\n",
       "      <td>NaN</td>\n",
       "      <td>NaN</td>\n",
       "      <td>NaN</td>\n",
       "      <td>NaN</td>\n",
       "      <td>Волжский</td>\n",
       "      <td>ultra</td>\n",
       "    </tr>\n",
       "    <tr>\n",
       "      <td>3215</td>\n",
       "      <td>1371</td>\n",
       "      <td>NaN</td>\n",
       "      <td>NaN</td>\n",
       "      <td>NaN</td>\n",
       "      <td>NaN</td>\n",
       "      <td>Омск</td>\n",
       "      <td>smart</td>\n",
       "    </tr>\n",
       "  </tbody>\n",
       "</table>\n",
       "<p>3216 rows × 7 columns</p>\n",
       "</div>"
      ],
      "text/plain": [
       "      user_id  month  total_duraion  total_messages  total_traffic_gb  \\\n",
       "0        1000    5.0          159.0            22.0               3.0   \n",
       "1        1000    6.0          172.0            60.0              23.0   \n",
       "2        1000    7.0          340.0            75.0              14.0   \n",
       "3        1000    8.0          408.0            81.0              14.0   \n",
       "4        1000    9.0          466.0            57.0              15.0   \n",
       "...       ...    ...            ...             ...               ...   \n",
       "3211     1489   10.0            NaN            21.0              20.0   \n",
       "3212     1489   11.0            NaN            20.0              18.0   \n",
       "3213     1489   12.0            NaN            35.0              17.0   \n",
       "3214     1128    NaN            NaN             NaN               NaN   \n",
       "3215     1371    NaN            NaN             NaN               NaN   \n",
       "\n",
       "                 city tariff  \n",
       "0           Краснодар  ultra  \n",
       "1           Краснодар  ultra  \n",
       "2           Краснодар  ultra  \n",
       "3           Краснодар  ultra  \n",
       "4           Краснодар  ultra  \n",
       "...               ...    ...  \n",
       "3211  Санкт-Петербург  smart  \n",
       "3212  Санкт-Петербург  smart  \n",
       "3213  Санкт-Петербург  smart  \n",
       "3214         Волжский  ultra  \n",
       "3215             Омск  smart  \n",
       "\n",
       "[3216 rows x 7 columns]"
      ]
     },
     "metadata": {},
     "output_type": "display_data"
    }
   ],
   "source": [
    "# выводим таблицу\n",
    "display(grouped_data)"
   ]
  },
  {
   "cell_type": "code",
   "execution_count": 18,
   "metadata": {},
   "outputs": [],
   "source": [
    "# прописываем цикл, чтобы найти помесячную выручку по каждому пользователю\n",
    "\n",
    "grouped_data['total_income'] = 0\n",
    "for row_number in range(len(grouped_data)):\n",
    "    # проходим по всей таблице и выделяем строки где тариф равен тарифному плану ultra\n",
    "    if grouped_data.loc[row_number, 'tariff'] == 'ultra':\n",
    "        # те строки, где тарифный план ultra добавляем абонентскую плату 1960 рублей\n",
    "        grouped_data.loc[row_number, 'total_income'] += 1950\n",
    "        # прописываем условие, что абонент проговорил более 3000 минут (завленных в тарифе)\n",
    "        if grouped_data.loc[row_number, 'total_duraion'] > 3000:\n",
    "            # то прибавляем перерасход использованного тарифа и умножаем на стоимость сверх тарифного пакета\n",
    "            grouped_data.loc[row_number, 'total_income'] += (grouped_data.loc[row_number, 'total_duraion'] - 3000) * 1\n",
    "        # проверяем условие, что абонент отправил более 1000 сообщений (заявленных в тарифе)\n",
    "        if grouped_data.loc[row_number, 'total_messages'] > 1000:\n",
    "            # прибавляем перерасход сообщений и умножаем на стоимость сверх тарифного пакета\n",
    "            grouped_data.loc[row_number, 'total_income'] += (grouped_data.loc[row_number, 'total_messages'] - 1000) * 1\n",
    "        # проверяем условие, что абонент использовал более 30ГБ интернет трафика \n",
    "        if grouped_data.loc[row_number, 'total_traffic_gb'] > 30:\n",
    "            # и добавляем перерасход используемого трафика, умножая на стоимость сверх тарифного пакета\n",
    "            grouped_data.loc[row_number, 'total_income'] += (grouped_data.loc[row_number, 'total_traffic_gb'] - 30) * 150\n",
    "    else:\n",
    "        # здесь остались тарифы smart\n",
    "        # добавляем стоимость абонентской планы по тарифу smart\n",
    "        grouped_data.loc[row_number, 'total_income'] += 550\n",
    "        # проверяем условие, что абонент проговорил более 500 минут (заявленных в тарифе)\n",
    "        if grouped_data.loc[row_number, 'total_duraion'] > 500:\n",
    "            # прибавляем перерасход минут и умножаем на стоимость сверх тарифного плана\n",
    "            grouped_data.loc[row_number, 'total_income'] += (grouped_data.loc[row_number, 'total_duraion'] - 500) * 3\n",
    "        # проверяем условие, что абонент отправил более 50 сообщений (заявленных в тарифе)\n",
    "        if grouped_data.loc[row_number, 'total_messages'] > 50:\n",
    "            # добавляем перерасчет сообщений и умножаем на стоимость сверх тарифного плана\n",
    "            grouped_data.loc[row_number, 'total_income'] += (grouped_data.loc[row_number, 'total_messages'] - 50) * 3\n",
    "        # проверяем условие, что абонент использовал более 15ГБ интернет трафика\n",
    "        if grouped_data.loc[row_number, 'total_traffic_gb'] > 15:\n",
    "            # добавляем перерасход интернет трафика и умножаем на стоимость сверх тарифного плана\n",
    "            grouped_data.loc[row_number, 'total_income'] += (grouped_data.loc[row_number, 'total_traffic_gb'] - 15) * 200\n",
    "            "
   ]
  },
  {
   "cell_type": "code",
   "execution_count": 19,
   "metadata": {},
   "outputs": [
    {
     "data": {
      "text/html": [
       "<div>\n",
       "<style scoped>\n",
       "    .dataframe tbody tr th:only-of-type {\n",
       "        vertical-align: middle;\n",
       "    }\n",
       "\n",
       "    .dataframe tbody tr th {\n",
       "        vertical-align: top;\n",
       "    }\n",
       "\n",
       "    .dataframe thead th {\n",
       "        text-align: right;\n",
       "    }\n",
       "</style>\n",
       "<table border=\"1\" class=\"dataframe\">\n",
       "  <thead>\n",
       "    <tr style=\"text-align: right;\">\n",
       "      <th></th>\n",
       "      <th>user_id</th>\n",
       "      <th>month</th>\n",
       "      <th>total_duraion</th>\n",
       "      <th>total_messages</th>\n",
       "      <th>total_traffic_gb</th>\n",
       "      <th>city</th>\n",
       "      <th>tariff</th>\n",
       "      <th>total_income</th>\n",
       "      <th>messages_included</th>\n",
       "      <th>mb_per_month_included</th>\n",
       "      <th>minutes_included</th>\n",
       "      <th>rub_monthly_fee</th>\n",
       "      <th>rub_per_gb</th>\n",
       "      <th>rub_per_message</th>\n",
       "      <th>rub_per_minute</th>\n",
       "    </tr>\n",
       "  </thead>\n",
       "  <tbody>\n",
       "    <tr>\n",
       "      <td>0</td>\n",
       "      <td>1000</td>\n",
       "      <td>5.0</td>\n",
       "      <td>159.0</td>\n",
       "      <td>22.0</td>\n",
       "      <td>3.0</td>\n",
       "      <td>Краснодар</td>\n",
       "      <td>ultra</td>\n",
       "      <td>1950.0</td>\n",
       "      <td>1000</td>\n",
       "      <td>30720</td>\n",
       "      <td>3000</td>\n",
       "      <td>1950</td>\n",
       "      <td>150</td>\n",
       "      <td>1</td>\n",
       "      <td>1</td>\n",
       "    </tr>\n",
       "    <tr>\n",
       "      <td>1</td>\n",
       "      <td>1000</td>\n",
       "      <td>6.0</td>\n",
       "      <td>172.0</td>\n",
       "      <td>60.0</td>\n",
       "      <td>23.0</td>\n",
       "      <td>Краснодар</td>\n",
       "      <td>ultra</td>\n",
       "      <td>1950.0</td>\n",
       "      <td>1000</td>\n",
       "      <td>30720</td>\n",
       "      <td>3000</td>\n",
       "      <td>1950</td>\n",
       "      <td>150</td>\n",
       "      <td>1</td>\n",
       "      <td>1</td>\n",
       "    </tr>\n",
       "    <tr>\n",
       "      <td>2</td>\n",
       "      <td>1000</td>\n",
       "      <td>7.0</td>\n",
       "      <td>340.0</td>\n",
       "      <td>75.0</td>\n",
       "      <td>14.0</td>\n",
       "      <td>Краснодар</td>\n",
       "      <td>ultra</td>\n",
       "      <td>1950.0</td>\n",
       "      <td>1000</td>\n",
       "      <td>30720</td>\n",
       "      <td>3000</td>\n",
       "      <td>1950</td>\n",
       "      <td>150</td>\n",
       "      <td>1</td>\n",
       "      <td>1</td>\n",
       "    </tr>\n",
       "    <tr>\n",
       "      <td>3</td>\n",
       "      <td>1000</td>\n",
       "      <td>8.0</td>\n",
       "      <td>408.0</td>\n",
       "      <td>81.0</td>\n",
       "      <td>14.0</td>\n",
       "      <td>Краснодар</td>\n",
       "      <td>ultra</td>\n",
       "      <td>1950.0</td>\n",
       "      <td>1000</td>\n",
       "      <td>30720</td>\n",
       "      <td>3000</td>\n",
       "      <td>1950</td>\n",
       "      <td>150</td>\n",
       "      <td>1</td>\n",
       "      <td>1</td>\n",
       "    </tr>\n",
       "    <tr>\n",
       "      <td>4</td>\n",
       "      <td>1000</td>\n",
       "      <td>9.0</td>\n",
       "      <td>466.0</td>\n",
       "      <td>57.0</td>\n",
       "      <td>15.0</td>\n",
       "      <td>Краснодар</td>\n",
       "      <td>ultra</td>\n",
       "      <td>1950.0</td>\n",
       "      <td>1000</td>\n",
       "      <td>30720</td>\n",
       "      <td>3000</td>\n",
       "      <td>1950</td>\n",
       "      <td>150</td>\n",
       "      <td>1</td>\n",
       "      <td>1</td>\n",
       "    </tr>\n",
       "    <tr>\n",
       "      <td>...</td>\n",
       "      <td>...</td>\n",
       "      <td>...</td>\n",
       "      <td>...</td>\n",
       "      <td>...</td>\n",
       "      <td>...</td>\n",
       "      <td>...</td>\n",
       "      <td>...</td>\n",
       "      <td>...</td>\n",
       "      <td>...</td>\n",
       "      <td>...</td>\n",
       "      <td>...</td>\n",
       "      <td>...</td>\n",
       "      <td>...</td>\n",
       "      <td>...</td>\n",
       "      <td>...</td>\n",
       "    </tr>\n",
       "    <tr>\n",
       "      <td>3211</td>\n",
       "      <td>1489</td>\n",
       "      <td>9.0</td>\n",
       "      <td>NaN</td>\n",
       "      <td>32.0</td>\n",
       "      <td>17.0</td>\n",
       "      <td>Санкт-Петербург</td>\n",
       "      <td>smart</td>\n",
       "      <td>950.0</td>\n",
       "      <td>50</td>\n",
       "      <td>15360</td>\n",
       "      <td>500</td>\n",
       "      <td>550</td>\n",
       "      <td>200</td>\n",
       "      <td>3</td>\n",
       "      <td>3</td>\n",
       "    </tr>\n",
       "    <tr>\n",
       "      <td>3212</td>\n",
       "      <td>1489</td>\n",
       "      <td>10.0</td>\n",
       "      <td>NaN</td>\n",
       "      <td>21.0</td>\n",
       "      <td>20.0</td>\n",
       "      <td>Санкт-Петербург</td>\n",
       "      <td>smart</td>\n",
       "      <td>1550.0</td>\n",
       "      <td>50</td>\n",
       "      <td>15360</td>\n",
       "      <td>500</td>\n",
       "      <td>550</td>\n",
       "      <td>200</td>\n",
       "      <td>3</td>\n",
       "      <td>3</td>\n",
       "    </tr>\n",
       "    <tr>\n",
       "      <td>3213</td>\n",
       "      <td>1489</td>\n",
       "      <td>11.0</td>\n",
       "      <td>NaN</td>\n",
       "      <td>20.0</td>\n",
       "      <td>18.0</td>\n",
       "      <td>Санкт-Петербург</td>\n",
       "      <td>smart</td>\n",
       "      <td>1150.0</td>\n",
       "      <td>50</td>\n",
       "      <td>15360</td>\n",
       "      <td>500</td>\n",
       "      <td>550</td>\n",
       "      <td>200</td>\n",
       "      <td>3</td>\n",
       "      <td>3</td>\n",
       "    </tr>\n",
       "    <tr>\n",
       "      <td>3214</td>\n",
       "      <td>1489</td>\n",
       "      <td>12.0</td>\n",
       "      <td>NaN</td>\n",
       "      <td>35.0</td>\n",
       "      <td>17.0</td>\n",
       "      <td>Санкт-Петербург</td>\n",
       "      <td>smart</td>\n",
       "      <td>950.0</td>\n",
       "      <td>50</td>\n",
       "      <td>15360</td>\n",
       "      <td>500</td>\n",
       "      <td>550</td>\n",
       "      <td>200</td>\n",
       "      <td>3</td>\n",
       "      <td>3</td>\n",
       "    </tr>\n",
       "    <tr>\n",
       "      <td>3215</td>\n",
       "      <td>1371</td>\n",
       "      <td>NaN</td>\n",
       "      <td>NaN</td>\n",
       "      <td>NaN</td>\n",
       "      <td>NaN</td>\n",
       "      <td>Омск</td>\n",
       "      <td>smart</td>\n",
       "      <td>550.0</td>\n",
       "      <td>50</td>\n",
       "      <td>15360</td>\n",
       "      <td>500</td>\n",
       "      <td>550</td>\n",
       "      <td>200</td>\n",
       "      <td>3</td>\n",
       "      <td>3</td>\n",
       "    </tr>\n",
       "  </tbody>\n",
       "</table>\n",
       "<p>3216 rows × 15 columns</p>\n",
       "</div>"
      ],
      "text/plain": [
       "      user_id  month  total_duraion  total_messages  total_traffic_gb  \\\n",
       "0        1000    5.0          159.0            22.0               3.0   \n",
       "1        1000    6.0          172.0            60.0              23.0   \n",
       "2        1000    7.0          340.0            75.0              14.0   \n",
       "3        1000    8.0          408.0            81.0              14.0   \n",
       "4        1000    9.0          466.0            57.0              15.0   \n",
       "...       ...    ...            ...             ...               ...   \n",
       "3211     1489    9.0            NaN            32.0              17.0   \n",
       "3212     1489   10.0            NaN            21.0              20.0   \n",
       "3213     1489   11.0            NaN            20.0              18.0   \n",
       "3214     1489   12.0            NaN            35.0              17.0   \n",
       "3215     1371    NaN            NaN             NaN               NaN   \n",
       "\n",
       "                 city tariff  total_income  messages_included  \\\n",
       "0           Краснодар  ultra        1950.0               1000   \n",
       "1           Краснодар  ultra        1950.0               1000   \n",
       "2           Краснодар  ultra        1950.0               1000   \n",
       "3           Краснодар  ultra        1950.0               1000   \n",
       "4           Краснодар  ultra        1950.0               1000   \n",
       "...               ...    ...           ...                ...   \n",
       "3211  Санкт-Петербург  smart         950.0                 50   \n",
       "3212  Санкт-Петербург  smart        1550.0                 50   \n",
       "3213  Санкт-Петербург  smart        1150.0                 50   \n",
       "3214  Санкт-Петербург  smart         950.0                 50   \n",
       "3215             Омск  smart         550.0                 50   \n",
       "\n",
       "      mb_per_month_included  minutes_included  rub_monthly_fee  rub_per_gb  \\\n",
       "0                     30720              3000             1950         150   \n",
       "1                     30720              3000             1950         150   \n",
       "2                     30720              3000             1950         150   \n",
       "3                     30720              3000             1950         150   \n",
       "4                     30720              3000             1950         150   \n",
       "...                     ...               ...              ...         ...   \n",
       "3211                  15360               500              550         200   \n",
       "3212                  15360               500              550         200   \n",
       "3213                  15360               500              550         200   \n",
       "3214                  15360               500              550         200   \n",
       "3215                  15360               500              550         200   \n",
       "\n",
       "      rub_per_message  rub_per_minute  \n",
       "0                   1               1  \n",
       "1                   1               1  \n",
       "2                   1               1  \n",
       "3                   1               1  \n",
       "4                   1               1  \n",
       "...               ...             ...  \n",
       "3211                3               3  \n",
       "3212                3               3  \n",
       "3213                3               3  \n",
       "3214                3               3  \n",
       "3215                3               3  \n",
       "\n",
       "[3216 rows x 15 columns]"
      ]
     },
     "execution_count": 19,
     "metadata": {},
     "output_type": "execute_result"
    }
   ],
   "source": [
    "# объединяем данные, теперь чтобы посчитать траты на звонки, достаточно умножать и складывать столбцы\n",
    "grouped_data.merge(tariffs.rename(columns={'tariff_name': 'tariff'}), on='tariff')"
   ]
  },
  {
   "cell_type": "code",
   "execution_count": 20,
   "metadata": {},
   "outputs": [
    {
     "data": {
      "text/html": [
       "<div>\n",
       "<style scoped>\n",
       "    .dataframe tbody tr th:only-of-type {\n",
       "        vertical-align: middle;\n",
       "    }\n",
       "\n",
       "    .dataframe tbody tr th {\n",
       "        vertical-align: top;\n",
       "    }\n",
       "\n",
       "    .dataframe thead th {\n",
       "        text-align: right;\n",
       "    }\n",
       "</style>\n",
       "<table border=\"1\" class=\"dataframe\">\n",
       "  <thead>\n",
       "    <tr style=\"text-align: right;\">\n",
       "      <th></th>\n",
       "      <th>user_id</th>\n",
       "      <th>month</th>\n",
       "      <th>total_duraion</th>\n",
       "      <th>total_messages</th>\n",
       "      <th>total_traffic_gb</th>\n",
       "      <th>city</th>\n",
       "      <th>tariff</th>\n",
       "      <th>total_income</th>\n",
       "    </tr>\n",
       "  </thead>\n",
       "  <tbody>\n",
       "    <tr>\n",
       "      <td>0</td>\n",
       "      <td>1000</td>\n",
       "      <td>5.0</td>\n",
       "      <td>159.0</td>\n",
       "      <td>22.0</td>\n",
       "      <td>3.0</td>\n",
       "      <td>Краснодар</td>\n",
       "      <td>ultra</td>\n",
       "      <td>1950.0</td>\n",
       "    </tr>\n",
       "    <tr>\n",
       "      <td>1</td>\n",
       "      <td>1000</td>\n",
       "      <td>6.0</td>\n",
       "      <td>172.0</td>\n",
       "      <td>60.0</td>\n",
       "      <td>23.0</td>\n",
       "      <td>Краснодар</td>\n",
       "      <td>ultra</td>\n",
       "      <td>1950.0</td>\n",
       "    </tr>\n",
       "    <tr>\n",
       "      <td>2</td>\n",
       "      <td>1000</td>\n",
       "      <td>7.0</td>\n",
       "      <td>340.0</td>\n",
       "      <td>75.0</td>\n",
       "      <td>14.0</td>\n",
       "      <td>Краснодар</td>\n",
       "      <td>ultra</td>\n",
       "      <td>1950.0</td>\n",
       "    </tr>\n",
       "    <tr>\n",
       "      <td>3</td>\n",
       "      <td>1000</td>\n",
       "      <td>8.0</td>\n",
       "      <td>408.0</td>\n",
       "      <td>81.0</td>\n",
       "      <td>14.0</td>\n",
       "      <td>Краснодар</td>\n",
       "      <td>ultra</td>\n",
       "      <td>1950.0</td>\n",
       "    </tr>\n",
       "    <tr>\n",
       "      <td>4</td>\n",
       "      <td>1000</td>\n",
       "      <td>9.0</td>\n",
       "      <td>466.0</td>\n",
       "      <td>57.0</td>\n",
       "      <td>15.0</td>\n",
       "      <td>Краснодар</td>\n",
       "      <td>ultra</td>\n",
       "      <td>1950.0</td>\n",
       "    </tr>\n",
       "    <tr>\n",
       "      <td>5</td>\n",
       "      <td>1000</td>\n",
       "      <td>10.0</td>\n",
       "      <td>350.0</td>\n",
       "      <td>73.0</td>\n",
       "      <td>15.0</td>\n",
       "      <td>Краснодар</td>\n",
       "      <td>ultra</td>\n",
       "      <td>1950.0</td>\n",
       "    </tr>\n",
       "    <tr>\n",
       "      <td>6</td>\n",
       "      <td>1000</td>\n",
       "      <td>11.0</td>\n",
       "      <td>338.0</td>\n",
       "      <td>58.0</td>\n",
       "      <td>15.0</td>\n",
       "      <td>Краснодар</td>\n",
       "      <td>ultra</td>\n",
       "      <td>1950.0</td>\n",
       "    </tr>\n",
       "    <tr>\n",
       "      <td>7</td>\n",
       "      <td>1000</td>\n",
       "      <td>12.0</td>\n",
       "      <td>333.0</td>\n",
       "      <td>70.0</td>\n",
       "      <td>10.0</td>\n",
       "      <td>Краснодар</td>\n",
       "      <td>ultra</td>\n",
       "      <td>1950.0</td>\n",
       "    </tr>\n",
       "    <tr>\n",
       "      <td>8</td>\n",
       "      <td>1001</td>\n",
       "      <td>11.0</td>\n",
       "      <td>430.0</td>\n",
       "      <td>NaN</td>\n",
       "      <td>18.0</td>\n",
       "      <td>Москва</td>\n",
       "      <td>smart</td>\n",
       "      <td>1150.0</td>\n",
       "    </tr>\n",
       "    <tr>\n",
       "      <td>9</td>\n",
       "      <td>1001</td>\n",
       "      <td>12.0</td>\n",
       "      <td>414.0</td>\n",
       "      <td>NaN</td>\n",
       "      <td>14.0</td>\n",
       "      <td>Москва</td>\n",
       "      <td>smart</td>\n",
       "      <td>550.0</td>\n",
       "    </tr>\n",
       "    <tr>\n",
       "      <td>10</td>\n",
       "      <td>1002</td>\n",
       "      <td>6.0</td>\n",
       "      <td>117.0</td>\n",
       "      <td>4.0</td>\n",
       "      <td>11.0</td>\n",
       "      <td>Стерлитамак</td>\n",
       "      <td>smart</td>\n",
       "      <td>550.0</td>\n",
       "    </tr>\n",
       "    <tr>\n",
       "      <td>11</td>\n",
       "      <td>1002</td>\n",
       "      <td>7.0</td>\n",
       "      <td>214.0</td>\n",
       "      <td>11.0</td>\n",
       "      <td>18.0</td>\n",
       "      <td>Стерлитамак</td>\n",
       "      <td>smart</td>\n",
       "      <td>1150.0</td>\n",
       "    </tr>\n",
       "    <tr>\n",
       "      <td>12</td>\n",
       "      <td>1002</td>\n",
       "      <td>8.0</td>\n",
       "      <td>289.0</td>\n",
       "      <td>13.0</td>\n",
       "      <td>20.0</td>\n",
       "      <td>Стерлитамак</td>\n",
       "      <td>smart</td>\n",
       "      <td>1550.0</td>\n",
       "    </tr>\n",
       "    <tr>\n",
       "      <td>13</td>\n",
       "      <td>1002</td>\n",
       "      <td>9.0</td>\n",
       "      <td>206.0</td>\n",
       "      <td>4.0</td>\n",
       "      <td>17.0</td>\n",
       "      <td>Стерлитамак</td>\n",
       "      <td>smart</td>\n",
       "      <td>950.0</td>\n",
       "    </tr>\n",
       "    <tr>\n",
       "      <td>14</td>\n",
       "      <td>1002</td>\n",
       "      <td>10.0</td>\n",
       "      <td>212.0</td>\n",
       "      <td>10.0</td>\n",
       "      <td>14.0</td>\n",
       "      <td>Стерлитамак</td>\n",
       "      <td>smart</td>\n",
       "      <td>550.0</td>\n",
       "    </tr>\n",
       "  </tbody>\n",
       "</table>\n",
       "</div>"
      ],
      "text/plain": [
       "    user_id  month  total_duraion  total_messages  total_traffic_gb  \\\n",
       "0      1000    5.0          159.0            22.0               3.0   \n",
       "1      1000    6.0          172.0            60.0              23.0   \n",
       "2      1000    7.0          340.0            75.0              14.0   \n",
       "3      1000    8.0          408.0            81.0              14.0   \n",
       "4      1000    9.0          466.0            57.0              15.0   \n",
       "5      1000   10.0          350.0            73.0              15.0   \n",
       "6      1000   11.0          338.0            58.0              15.0   \n",
       "7      1000   12.0          333.0            70.0              10.0   \n",
       "8      1001   11.0          430.0             NaN              18.0   \n",
       "9      1001   12.0          414.0             NaN              14.0   \n",
       "10     1002    6.0          117.0             4.0              11.0   \n",
       "11     1002    7.0          214.0            11.0              18.0   \n",
       "12     1002    8.0          289.0            13.0              20.0   \n",
       "13     1002    9.0          206.0             4.0              17.0   \n",
       "14     1002   10.0          212.0            10.0              14.0   \n",
       "\n",
       "           city tariff  total_income  \n",
       "0     Краснодар  ultra        1950.0  \n",
       "1     Краснодар  ultra        1950.0  \n",
       "2     Краснодар  ultra        1950.0  \n",
       "3     Краснодар  ultra        1950.0  \n",
       "4     Краснодар  ultra        1950.0  \n",
       "5     Краснодар  ultra        1950.0  \n",
       "6     Краснодар  ultra        1950.0  \n",
       "7     Краснодар  ultra        1950.0  \n",
       "8        Москва  smart        1150.0  \n",
       "9        Москва  smart         550.0  \n",
       "10  Стерлитамак  smart         550.0  \n",
       "11  Стерлитамак  smart        1150.0  \n",
       "12  Стерлитамак  smart        1550.0  \n",
       "13  Стерлитамак  smart         950.0  \n",
       "14  Стерлитамак  smart         550.0  "
      ]
     },
     "metadata": {},
     "output_type": "display_data"
    },
    {
     "name": "stdout",
     "output_type": "stream",
     "text": [
      "<class 'pandas.core.frame.DataFrame'>\n",
      "Int64Index: 3216 entries, 0 to 3215\n",
      "Data columns (total 8 columns):\n",
      "user_id             3216 non-null int64\n",
      "month               3214 non-null float64\n",
      "total_duraion       3174 non-null float64\n",
      "total_messages      2717 non-null float64\n",
      "total_traffic_gb    3203 non-null float64\n",
      "city                3216 non-null object\n",
      "tariff              3216 non-null object\n",
      "total_income        3216 non-null float64\n",
      "dtypes: float64(5), int64(1), object(2)\n",
      "memory usage: 386.1+ KB\n"
     ]
    }
   ],
   "source": [
    "# выводим первые 15 строк таблицы\n",
    "display(grouped_data.head(15))\n",
    "grouped_data.info()"
   ]
  },
  {
   "cell_type": "markdown",
   "metadata": {},
   "source": [
    "### Общий вывод по расчетам"
   ]
  },
  {
   "cell_type": "markdown",
   "metadata": {},
   "source": [
    "С помощью сводных таблиц мы рассчитали количество сделанных звонков по месяцам для каждого пользователя, количество израсходованных минут разговора по месяцам для каждого пользователя, количество отправленных сообщений по месяцам для каждого пользователя и объем израсходованного интернет-трафика по месяцам для каждого пользователя. Окргулили значения израсходованных мимнут и израсходованных мегабайт согласно условиям тарифа. Для того, чтобы подсчитать помесячную выручку по каждому пользователю необходимо было соединить все расчеты в сводных таблицах, и получившуюся таблицу объединить с таблицей users. С помощью цикла нашли помесячную выручку для каждого пользователя."
   ]
  },
  {
   "cell_type": "markdown",
   "metadata": {},
   "source": [
    "## Анализ данных"
   ]
  },
  {
   "cell_type": "markdown",
   "metadata": {},
   "source": [
    "### Анализируем поведение клиентов тарифа smart и ultra"
   ]
  },
  {
   "cell_type": "markdown",
   "metadata": {},
   "source": [
    "#### Анализируем поведение клиентов тарифов smart и ultra относительно длительности разговора"
   ]
  },
  {
   "cell_type": "code",
   "execution_count": 21,
   "metadata": {},
   "outputs": [
    {
     "data": {
      "text/html": [
       "<div>\n",
       "<style scoped>\n",
       "    .dataframe tbody tr th:only-of-type {\n",
       "        vertical-align: middle;\n",
       "    }\n",
       "\n",
       "    .dataframe tbody tr th {\n",
       "        vertical-align: top;\n",
       "    }\n",
       "\n",
       "    .dataframe thead th {\n",
       "        text-align: right;\n",
       "    }\n",
       "</style>\n",
       "<table border=\"1\" class=\"dataframe\">\n",
       "  <thead>\n",
       "    <tr style=\"text-align: right;\">\n",
       "      <th></th>\n",
       "      <th>user_id</th>\n",
       "      <th>month</th>\n",
       "      <th>total_duraion</th>\n",
       "      <th>total_messages</th>\n",
       "      <th>total_traffic_gb</th>\n",
       "      <th>city</th>\n",
       "      <th>tariff</th>\n",
       "      <th>total_income</th>\n",
       "    </tr>\n",
       "  </thead>\n",
       "  <tbody>\n",
       "    <tr>\n",
       "      <td>8</td>\n",
       "      <td>1001</td>\n",
       "      <td>11.0</td>\n",
       "      <td>430.0</td>\n",
       "      <td>NaN</td>\n",
       "      <td>18.0</td>\n",
       "      <td>Москва</td>\n",
       "      <td>smart</td>\n",
       "      <td>1150.0</td>\n",
       "    </tr>\n",
       "    <tr>\n",
       "      <td>9</td>\n",
       "      <td>1001</td>\n",
       "      <td>12.0</td>\n",
       "      <td>414.0</td>\n",
       "      <td>NaN</td>\n",
       "      <td>14.0</td>\n",
       "      <td>Москва</td>\n",
       "      <td>smart</td>\n",
       "      <td>550.0</td>\n",
       "    </tr>\n",
       "    <tr>\n",
       "      <td>10</td>\n",
       "      <td>1002</td>\n",
       "      <td>6.0</td>\n",
       "      <td>117.0</td>\n",
       "      <td>4.0</td>\n",
       "      <td>11.0</td>\n",
       "      <td>Стерлитамак</td>\n",
       "      <td>smart</td>\n",
       "      <td>550.0</td>\n",
       "    </tr>\n",
       "    <tr>\n",
       "      <td>11</td>\n",
       "      <td>1002</td>\n",
       "      <td>7.0</td>\n",
       "      <td>214.0</td>\n",
       "      <td>11.0</td>\n",
       "      <td>18.0</td>\n",
       "      <td>Стерлитамак</td>\n",
       "      <td>smart</td>\n",
       "      <td>1150.0</td>\n",
       "    </tr>\n",
       "    <tr>\n",
       "      <td>12</td>\n",
       "      <td>1002</td>\n",
       "      <td>8.0</td>\n",
       "      <td>289.0</td>\n",
       "      <td>13.0</td>\n",
       "      <td>20.0</td>\n",
       "      <td>Стерлитамак</td>\n",
       "      <td>smart</td>\n",
       "      <td>1550.0</td>\n",
       "    </tr>\n",
       "    <tr>\n",
       "      <td>...</td>\n",
       "      <td>...</td>\n",
       "      <td>...</td>\n",
       "      <td>...</td>\n",
       "      <td>...</td>\n",
       "      <td>...</td>\n",
       "      <td>...</td>\n",
       "      <td>...</td>\n",
       "      <td>...</td>\n",
       "    </tr>\n",
       "    <tr>\n",
       "      <td>3210</td>\n",
       "      <td>1489</td>\n",
       "      <td>9.0</td>\n",
       "      <td>NaN</td>\n",
       "      <td>32.0</td>\n",
       "      <td>17.0</td>\n",
       "      <td>Санкт-Петербург</td>\n",
       "      <td>smart</td>\n",
       "      <td>950.0</td>\n",
       "    </tr>\n",
       "    <tr>\n",
       "      <td>3211</td>\n",
       "      <td>1489</td>\n",
       "      <td>10.0</td>\n",
       "      <td>NaN</td>\n",
       "      <td>21.0</td>\n",
       "      <td>20.0</td>\n",
       "      <td>Санкт-Петербург</td>\n",
       "      <td>smart</td>\n",
       "      <td>1550.0</td>\n",
       "    </tr>\n",
       "    <tr>\n",
       "      <td>3212</td>\n",
       "      <td>1489</td>\n",
       "      <td>11.0</td>\n",
       "      <td>NaN</td>\n",
       "      <td>20.0</td>\n",
       "      <td>18.0</td>\n",
       "      <td>Санкт-Петербург</td>\n",
       "      <td>smart</td>\n",
       "      <td>1150.0</td>\n",
       "    </tr>\n",
       "    <tr>\n",
       "      <td>3213</td>\n",
       "      <td>1489</td>\n",
       "      <td>12.0</td>\n",
       "      <td>NaN</td>\n",
       "      <td>35.0</td>\n",
       "      <td>17.0</td>\n",
       "      <td>Санкт-Петербург</td>\n",
       "      <td>smart</td>\n",
       "      <td>950.0</td>\n",
       "    </tr>\n",
       "    <tr>\n",
       "      <td>3215</td>\n",
       "      <td>1371</td>\n",
       "      <td>NaN</td>\n",
       "      <td>NaN</td>\n",
       "      <td>NaN</td>\n",
       "      <td>NaN</td>\n",
       "      <td>Омск</td>\n",
       "      <td>smart</td>\n",
       "      <td>550.0</td>\n",
       "    </tr>\n",
       "  </tbody>\n",
       "</table>\n",
       "<p>2230 rows × 8 columns</p>\n",
       "</div>"
      ],
      "text/plain": [
       "      user_id  month  total_duraion  total_messages  total_traffic_gb  \\\n",
       "8        1001   11.0          430.0             NaN              18.0   \n",
       "9        1001   12.0          414.0             NaN              14.0   \n",
       "10       1002    6.0          117.0             4.0              11.0   \n",
       "11       1002    7.0          214.0            11.0              18.0   \n",
       "12       1002    8.0          289.0            13.0              20.0   \n",
       "...       ...    ...            ...             ...               ...   \n",
       "3210     1489    9.0            NaN            32.0              17.0   \n",
       "3211     1489   10.0            NaN            21.0              20.0   \n",
       "3212     1489   11.0            NaN            20.0              18.0   \n",
       "3213     1489   12.0            NaN            35.0              17.0   \n",
       "3215     1371    NaN            NaN             NaN               NaN   \n",
       "\n",
       "                 city tariff  total_income  \n",
       "8              Москва  smart        1150.0  \n",
       "9              Москва  smart         550.0  \n",
       "10        Стерлитамак  smart         550.0  \n",
       "11        Стерлитамак  smart        1150.0  \n",
       "12        Стерлитамак  smart        1550.0  \n",
       "...               ...    ...           ...  \n",
       "3210  Санкт-Петербург  smart         950.0  \n",
       "3211  Санкт-Петербург  smart        1550.0  \n",
       "3212  Санкт-Петербург  smart        1150.0  \n",
       "3213  Санкт-Петербург  smart         950.0  \n",
       "3215             Омск  smart         550.0  \n",
       "\n",
       "[2230 rows x 8 columns]"
      ]
     },
     "metadata": {},
     "output_type": "display_data"
    }
   ],
   "source": [
    "# делаем срез данных только по клиентам тарифа smart\n",
    "grouped_users_smart = grouped_data.query('tariff == \"smart\"')\n",
    "# выводим таблицу\n",
    "display(grouped_users_smart)"
   ]
  },
  {
   "cell_type": "code",
   "execution_count": 22,
   "metadata": {},
   "outputs": [
    {
     "data": {
      "text/plain": [
       "count    2223.000000\n",
       "mean      419.062978\n",
       "std       189.325618\n",
       "min         0.000000\n",
       "25%       285.000000\n",
       "50%       423.000000\n",
       "75%       545.500000\n",
       "max      1435.000000\n",
       "Name: total_duraion, dtype: float64"
      ]
     },
     "execution_count": 22,
     "metadata": {},
     "output_type": "execute_result"
    }
   ],
   "source": [
    "# выводим список характерных значений для абонентов тарифа smart\n",
    "grouped_users_smart['total_duraion'].describe()"
   ]
  },
  {
   "cell_type": "code",
   "execution_count": 23,
   "metadata": {},
   "outputs": [
    {
     "data": {
      "text/html": [
       "<div>\n",
       "<style scoped>\n",
       "    .dataframe tbody tr th:only-of-type {\n",
       "        vertical-align: middle;\n",
       "    }\n",
       "\n",
       "    .dataframe tbody tr th {\n",
       "        vertical-align: top;\n",
       "    }\n",
       "\n",
       "    .dataframe thead th {\n",
       "        text-align: right;\n",
       "    }\n",
       "</style>\n",
       "<table border=\"1\" class=\"dataframe\">\n",
       "  <thead>\n",
       "    <tr style=\"text-align: right;\">\n",
       "      <th></th>\n",
       "      <th>user_id</th>\n",
       "      <th>month</th>\n",
       "      <th>total_duraion</th>\n",
       "      <th>total_messages</th>\n",
       "      <th>total_traffic_gb</th>\n",
       "      <th>city</th>\n",
       "      <th>tariff</th>\n",
       "      <th>total_income</th>\n",
       "    </tr>\n",
       "  </thead>\n",
       "  <tbody>\n",
       "    <tr>\n",
       "      <td>0</td>\n",
       "      <td>1000</td>\n",
       "      <td>5.0</td>\n",
       "      <td>159.0</td>\n",
       "      <td>22.0</td>\n",
       "      <td>3.0</td>\n",
       "      <td>Краснодар</td>\n",
       "      <td>ultra</td>\n",
       "      <td>1950.0</td>\n",
       "    </tr>\n",
       "    <tr>\n",
       "      <td>1</td>\n",
       "      <td>1000</td>\n",
       "      <td>6.0</td>\n",
       "      <td>172.0</td>\n",
       "      <td>60.0</td>\n",
       "      <td>23.0</td>\n",
       "      <td>Краснодар</td>\n",
       "      <td>ultra</td>\n",
       "      <td>1950.0</td>\n",
       "    </tr>\n",
       "    <tr>\n",
       "      <td>2</td>\n",
       "      <td>1000</td>\n",
       "      <td>7.0</td>\n",
       "      <td>340.0</td>\n",
       "      <td>75.0</td>\n",
       "      <td>14.0</td>\n",
       "      <td>Краснодар</td>\n",
       "      <td>ultra</td>\n",
       "      <td>1950.0</td>\n",
       "    </tr>\n",
       "    <tr>\n",
       "      <td>3</td>\n",
       "      <td>1000</td>\n",
       "      <td>8.0</td>\n",
       "      <td>408.0</td>\n",
       "      <td>81.0</td>\n",
       "      <td>14.0</td>\n",
       "      <td>Краснодар</td>\n",
       "      <td>ultra</td>\n",
       "      <td>1950.0</td>\n",
       "    </tr>\n",
       "    <tr>\n",
       "      <td>4</td>\n",
       "      <td>1000</td>\n",
       "      <td>9.0</td>\n",
       "      <td>466.0</td>\n",
       "      <td>57.0</td>\n",
       "      <td>15.0</td>\n",
       "      <td>Краснодар</td>\n",
       "      <td>ultra</td>\n",
       "      <td>1950.0</td>\n",
       "    </tr>\n",
       "    <tr>\n",
       "      <td>...</td>\n",
       "      <td>...</td>\n",
       "      <td>...</td>\n",
       "      <td>...</td>\n",
       "      <td>...</td>\n",
       "      <td>...</td>\n",
       "      <td>...</td>\n",
       "      <td>...</td>\n",
       "      <td>...</td>\n",
       "    </tr>\n",
       "    <tr>\n",
       "      <td>3205</td>\n",
       "      <td>1473</td>\n",
       "      <td>9.0</td>\n",
       "      <td>NaN</td>\n",
       "      <td>19.0</td>\n",
       "      <td>17.0</td>\n",
       "      <td>Красноярск</td>\n",
       "      <td>ultra</td>\n",
       "      <td>1950.0</td>\n",
       "    </tr>\n",
       "    <tr>\n",
       "      <td>3206</td>\n",
       "      <td>1473</td>\n",
       "      <td>10.0</td>\n",
       "      <td>NaN</td>\n",
       "      <td>20.0</td>\n",
       "      <td>14.0</td>\n",
       "      <td>Красноярск</td>\n",
       "      <td>ultra</td>\n",
       "      <td>1950.0</td>\n",
       "    </tr>\n",
       "    <tr>\n",
       "      <td>3207</td>\n",
       "      <td>1473</td>\n",
       "      <td>11.0</td>\n",
       "      <td>NaN</td>\n",
       "      <td>14.0</td>\n",
       "      <td>22.0</td>\n",
       "      <td>Красноярск</td>\n",
       "      <td>ultra</td>\n",
       "      <td>1950.0</td>\n",
       "    </tr>\n",
       "    <tr>\n",
       "      <td>3208</td>\n",
       "      <td>1473</td>\n",
       "      <td>12.0</td>\n",
       "      <td>NaN</td>\n",
       "      <td>20.0</td>\n",
       "      <td>18.0</td>\n",
       "      <td>Красноярск</td>\n",
       "      <td>ultra</td>\n",
       "      <td>1950.0</td>\n",
       "    </tr>\n",
       "    <tr>\n",
       "      <td>3214</td>\n",
       "      <td>1128</td>\n",
       "      <td>NaN</td>\n",
       "      <td>NaN</td>\n",
       "      <td>NaN</td>\n",
       "      <td>NaN</td>\n",
       "      <td>Волжский</td>\n",
       "      <td>ultra</td>\n",
       "      <td>1950.0</td>\n",
       "    </tr>\n",
       "  </tbody>\n",
       "</table>\n",
       "<p>986 rows × 8 columns</p>\n",
       "</div>"
      ],
      "text/plain": [
       "      user_id  month  total_duraion  total_messages  total_traffic_gb  \\\n",
       "0        1000    5.0          159.0            22.0               3.0   \n",
       "1        1000    6.0          172.0            60.0              23.0   \n",
       "2        1000    7.0          340.0            75.0              14.0   \n",
       "3        1000    8.0          408.0            81.0              14.0   \n",
       "4        1000    9.0          466.0            57.0              15.0   \n",
       "...       ...    ...            ...             ...               ...   \n",
       "3205     1473    9.0            NaN            19.0              17.0   \n",
       "3206     1473   10.0            NaN            20.0              14.0   \n",
       "3207     1473   11.0            NaN            14.0              22.0   \n",
       "3208     1473   12.0            NaN            20.0              18.0   \n",
       "3214     1128    NaN            NaN             NaN               NaN   \n",
       "\n",
       "            city tariff  total_income  \n",
       "0      Краснодар  ultra        1950.0  \n",
       "1      Краснодар  ultra        1950.0  \n",
       "2      Краснодар  ultra        1950.0  \n",
       "3      Краснодар  ultra        1950.0  \n",
       "4      Краснодар  ultra        1950.0  \n",
       "...          ...    ...           ...  \n",
       "3205  Красноярск  ultra        1950.0  \n",
       "3206  Красноярск  ultra        1950.0  \n",
       "3207  Красноярск  ultra        1950.0  \n",
       "3208  Красноярск  ultra        1950.0  \n",
       "3214    Волжский  ultra        1950.0  \n",
       "\n",
       "[986 rows x 8 columns]"
      ]
     },
     "metadata": {},
     "output_type": "display_data"
    }
   ],
   "source": [
    "# делаем срез данных только для клиентов тарифа ultra\n",
    "grouped_users_ultra = grouped_data.query('tariff == \"ultra\"')\n",
    "# выводим таблицу\n",
    "display(grouped_users_ultra)"
   ]
  },
  {
   "cell_type": "code",
   "execution_count": 24,
   "metadata": {},
   "outputs": [
    {
     "data": {
      "text/plain": [
       "count     951.000000\n",
       "mean      545.451104\n",
       "std       306.925754\n",
       "min         0.000000\n",
       "25%       310.000000\n",
       "50%       528.000000\n",
       "75%       756.500000\n",
       "max      1673.000000\n",
       "Name: total_duraion, dtype: float64"
      ]
     },
     "execution_count": 24,
     "metadata": {},
     "output_type": "execute_result"
    }
   ],
   "source": [
    "# выводим список характерных значений для абонентов тарифа ultra\n",
    "grouped_users_ultra['total_duraion'].describe()"
   ]
  },
  {
   "cell_type": "code",
   "execution_count": 25,
   "metadata": {},
   "outputs": [
    {
     "name": "stdout",
     "output_type": "stream",
     "text": [
      "Срднее значение минут по тарифу smart: 419.0629779577148\n",
      "Среднее значение минут по тарифу ultra: 545.4511041009464\n"
     ]
    }
   ],
   "source": [
    "# находим среднее значение по потраченным минутам для клиентов тарифа smart\n",
    "mean_duration_smart = grouped_users_smart['total_duraion'].mean()\n",
    "print('Срднее значение минут по тарифу smart:', mean_duration_smart)\n",
    "\n",
    "# находим среднее значение по потраченным минутам для клинетов тарифа ultra\n",
    "mean_duration_ultra = grouped_users_ultra['total_duraion'].mean()\n",
    "print('Среднее значение минут по тарифу ultra:', mean_duration_ultra)"
   ]
  },
  {
   "cell_type": "code",
   "execution_count": 26,
   "metadata": {},
   "outputs": [
    {
     "name": "stdout",
     "output_type": "stream",
     "text": [
      "Дисперсия минут по тарифу smart равна: 35844.1895513438\n",
      "Дисперсия минут по тарифу ultra равна: 94203.41839614812\n"
     ]
    }
   ],
   "source": [
    "# находим дисперсию минут для тарифа smart\n",
    "variance_duration_smart = np.var(grouped_users_smart['total_duraion'], ddof=1)\n",
    "print('Дисперсия минут по тарифу smart равна:', variance_duration_smart)\n",
    "\n",
    "# находим дисперсию минут для тарифа ultra\n",
    "variance_duration_ultra = np.var(grouped_users_ultra['total_duraion'], ddof=1)\n",
    "print('Дисперсия минут по тарифу ultra равна:', variance_duration_ultra)"
   ]
  },
  {
   "cell_type": "code",
   "execution_count": 27,
   "metadata": {},
   "outputs": [
    {
     "name": "stdout",
     "output_type": "stream",
     "text": [
      "Стандартное отклонение минут по тарифу smart равно: 189.3256177894154\n",
      "Стандартное отклонение минут по тарифу ultra равно: 306.92575388218586\n"
     ]
    }
   ],
   "source": [
    "# находим стандартное отклонение минут по тарифу smart\n",
    "duration_standard_deviation_smart = np.sqrt(variance_duration_smart)\n",
    "print('Стандартное отклонение минут по тарифу smart равно:', duration_standard_deviation_smart)\n",
    "\n",
    "# находим стандартное отклонение минут по тарифу ultra\n",
    "duration_standard_deviation_ultra = np.sqrt(variance_duration_ultra)\n",
    "print('Стандартное отклонение минут по тарифу ultra равно:', duration_standard_deviation_ultra)"
   ]
  },
  {
   "cell_type": "code",
   "execution_count": 28,
   "metadata": {},
   "outputs": [
    {
     "data": {
      "text/plain": [
       "<matplotlib.axes._subplots.AxesSubplot at 0x7fdc1b1dd4d0>"
      ]
     },
     "execution_count": 28,
     "metadata": {},
     "output_type": "execute_result"
    },
    {
     "data": {
      "image/png": "[encoded data removed]",
      "text/plain": [
       "<Figure size 1080x360 with 1 Axes>"
      ]
     },
     "metadata": {
      "needs_background": "light"
     },
     "output_type": "display_data"
    }
   ],
   "source": [
    "# строим гистрограмму по длительности разговоров для пользователей тарифа smart\n",
    "grouped_users_smart['total_duraion'].hist(bins=50, figsize=(15,5))"
   ]
  },
  {
   "cell_type": "code",
   "execution_count": 29,
   "metadata": {},
   "outputs": [
    {
     "data": {
      "text/plain": [
       "<matplotlib.axes._subplots.AxesSubplot at 0x7fdc1b0bf3d0>"
      ]
     },
     "execution_count": 29,
     "metadata": {},
     "output_type": "execute_result"
    },
    {
     "data": {
      "image/png": "[encoded data removed]",
      "text/plain": [
       "<Figure size 1080x360 with 1 Axes>"
      ]
     },
     "metadata": {
      "needs_background": "light"
     },
     "output_type": "display_data"
    }
   ],
   "source": [
    "# строим гистограмму по длительности разговоров для пользователей тарифа ultra\n",
    "grouped_users_ultra['total_duraion'].hist(bins=50, figsize=(15,5))"
   ]
  },
  {
   "cell_type": "markdown",
   "metadata": {},
   "source": [
    "#### Вывод по анализу поведения клиентов тарифов smart и ultra относительно длительности разговора"
   ]
  },
  {
   "cell_type": "markdown",
   "metadata": {},
   "source": [
    "Срез данных показал, что абонентов которые пользуются тарифным планов smart больше, чем тех, кто пользуется тарифным планов ultra. Количество абонентов smart: 2230, количество абонентов ultra: 986. Видимо, тариф smart более популярнее среди пользователей.\n",
    "\n",
    "Дисперсия и стандартное отклонения показывают, на сколько данные близки или далеки друг от друга. В ситуации с тарифом smart видно, что мы имеем \"хвост\" в данных по длительности звонков. Аналогичная ситуация наблюдается с тарифом ultra, только \"хвост\" здесь длиннее, чем у пользователей тарифа smart. Построив гистограммы - мы убедились в этом. Распределение данных похоже на нормальное, так как среднее значение и медианное совсем рядом. Также, можем отметить, что с тарифом ultra люди тратят большее количество минут на разговоры."
   ]
  },
  {
   "cell_type": "markdown",
   "metadata": {},
   "source": [
    "#### Анализируем поведение клиентов тарифов smart и ultra относительно отправленным СМС-сообщений"
   ]
  },
  {
   "cell_type": "code",
   "execution_count": 30,
   "metadata": {},
   "outputs": [
    {
     "name": "stdout",
     "output_type": "stream",
     "text": [
      "Среднее значение количества смс-сообщений по тарифу smart: 38.71644120707596\n",
      "Среднее значение количества смс-сообщений по тарифу ultra: 61.161006289308176\n"
     ]
    }
   ],
   "source": [
    "# срезы данных есть выше, поспользуемся ими\n",
    "\n",
    "# # находим среднее значение по смс-сообщениям для клиентов тарифа smart\n",
    "mean_messages_smart = grouped_users_smart['total_messages'].mean()\n",
    "print('Среднее значение количества смс-сообщений по тарифу smart:', mean_messages_smart)\n",
    "\n",
    "# находим среднее значение по смс-сообщениям для клиентов тарифа ultra\n",
    "mean_messages_ultra = grouped_users_ultra['total_messages'].mean()\n",
    "print('Среднее значение количества смс-сообщений по тарифу ultra:', mean_messages_ultra)"
   ]
  },
  {
   "cell_type": "code",
   "execution_count": 31,
   "metadata": {},
   "outputs": [
    {
     "name": "stdout",
     "output_type": "stream",
     "text": [
      "Дисперсия смс-сообщений по тарифу smart равна: 717.5942011753547\n",
      "Дисперсия смс-сообщений по тарифу ultra равна: 2109.6591828651995\n"
     ]
    }
   ],
   "source": [
    "# находим дисперсию смс-сообщений для тарифа smart\n",
    "variance_messages_smart = np.var(grouped_users_smart['total_messages'], ddof=1)\n",
    "print('Дисперсия смс-сообщений по тарифу smart равна:', variance_messages_smart)\n",
    "\n",
    "# находим дисперсию смс-сообщений для тарифа ultra\n",
    "variance_messages_ultra = np.var(grouped_users_ultra['total_messages'], ddof=1)\n",
    "print('Дисперсия смс-сообщений по тарифу ultra равна:', variance_messages_ultra)"
   ]
  },
  {
   "cell_type": "code",
   "execution_count": 32,
   "metadata": {},
   "outputs": [
    {
     "name": "stdout",
     "output_type": "stream",
     "text": [
      "Стандартное отклонение смс-сообщений по тарифу smart равно: 26.787948804926344\n",
      "Стандартное отклонение смс-сообщений по тарифу ultra равно: 45.93102636416042\n"
     ]
    }
   ],
   "source": [
    "# находим стандартное отклонение смс-сообщений по тарифу smart\n",
    "messages_standard_deviation_smart = np.sqrt(variance_messages_smart)\n",
    "print('Стандартное отклонение смс-сообщений по тарифу smart равно:', messages_standard_deviation_smart)\n",
    "\n",
    "# находим стандартное отклонение смс-сообщений по тарифу ultra\n",
    "messages_standard_deviation_ultra = np.sqrt(variance_messages_ultra)\n",
    "print('Стандартное отклонение смс-сообщений по тарифу ultra равно:', messages_standard_deviation_ultra)"
   ]
  },
  {
   "cell_type": "code",
   "execution_count": 33,
   "metadata": {},
   "outputs": [
    {
     "data": {
      "text/plain": [
       "<matplotlib.axes._subplots.AxesSubplot at 0x7fdc1a292d10>"
      ]
     },
     "execution_count": 33,
     "metadata": {},
     "output_type": "execute_result"
    },
    {
     "data": {
      "image/png": "[encoded data removed]",
      "text/plain": [
       "<Figure size 1080x360 with 1 Axes>"
      ]
     },
     "metadata": {
      "needs_background": "light"
     },
     "output_type": "display_data"
    }
   ],
   "source": [
    "# строим гистрограмму по количетву отправленных смс-сообщений для пользователей тарифа smart\n",
    "grouped_users_smart['total_messages'].hist(bins=50, figsize=(15,5))"
   ]
  },
  {
   "cell_type": "code",
   "execution_count": 34,
   "metadata": {},
   "outputs": [
    {
     "data": {
      "text/plain": [
       "<matplotlib.axes._subplots.AxesSubplot at 0x7fdc191ce5d0>"
      ]
     },
     "execution_count": 34,
     "metadata": {},
     "output_type": "execute_result"
    },
    {
     "data": {
      "image/png": "[encoded data removed]",
      "text/plain": [
       "<Figure size 1080x360 with 1 Axes>"
      ]
     },
     "metadata": {
      "needs_background": "light"
     },
     "output_type": "display_data"
    }
   ],
   "source": [
    "# строим гистограмму по количетву отправленных смс-сообщений для пользователей тарифа ultra\n",
    "grouped_users_ultra['total_messages'].hist(bins=50, figsize=(15,5))"
   ]
  },
  {
   "cell_type": "markdown",
   "metadata": {},
   "source": [
    "#### Вывод по анализу поведения клиентов тарифов smart и ultra относительно отправленным СМС-сообщений"
   ]
  },
  {
   "cell_type": "markdown",
   "metadata": {},
   "source": [
    "Можем сказать, что по количеству отправленных сообщений у пользователей тарифа smart мы имеем \"хвост\" в данных, о чем свидетельствует дисперсия и стандартное отклонение. Визуализируя данные на гистограмме мы в этом убедились. Идентичная ситуация у пользователей тарифа ultra. Сравнив дисперсии и стандартное отклонение можно сказать, что \"хвост\" в данных у абонентов тарифа ultra больше, чем у абонентов тарифа smart. Наблюдаем скошенность данных - в правую сторону. Это говорит о том, что среднее больше чем медиана.\n",
    "\n",
    "Также, смс-сообщения больше используются на тарифе ultra."
   ]
  },
  {
   "cell_type": "markdown",
   "metadata": {},
   "source": [
    "#### Анализируем поведение клиентов тарифов smart и ultra относительно объёма трафика"
   ]
  },
  {
   "cell_type": "code",
   "execution_count": 35,
   "metadata": {},
   "outputs": [
    {
     "name": "stdout",
     "output_type": "stream",
     "text": [
      "Среднее значение использованного интернет трафика по тарифу smart: 16.33617594254937\n",
      "Среднее значение использованного интернет трафика по тарифу ultra: 19.694358974358973\n"
     ]
    }
   ],
   "source": [
    "# находим среднее значение по использованному трафику для клиентов тарифа smart\n",
    "mean_traffic_smart = grouped_users_smart['total_traffic_gb'].mean()\n",
    "print('Среднее значение использованного интернет трафика по тарифу smart:', mean_traffic_smart)\n",
    "\n",
    "# находим среднее значение по использованному трафику для клиентов тарифа ultra\n",
    "mean_traffic_ultra = grouped_users_ultra['total_traffic_gb'].mean()\n",
    "print('Среднее значение использованного интернет трафика по тарифу ultra:', mean_traffic_ultra)"
   ]
  },
  {
   "cell_type": "code",
   "execution_count": 36,
   "metadata": {},
   "outputs": [
    {
     "name": "stdout",
     "output_type": "stream",
     "text": [
      "Дисперсия по использованному трафику по тарифу smart равна: 32.92375582354312\n",
      "Дисперсия по использованному трафику по тарифу ultra равна: 94.14673405991682\n"
     ]
    }
   ],
   "source": [
    "# находим дисперсию по использованному трафику для тарифа smart\n",
    "variance_traffic_smart = np.var(grouped_users_smart['total_traffic_gb'], ddof=1)\n",
    "print('Дисперсия по использованному трафику по тарифу smart равна:', variance_traffic_smart)\n",
    "\n",
    "# находим дисперсию по использованному трафику для тарифа ultra\n",
    "variance_traffic_ultra = np.var(grouped_users_ultra['total_traffic_gb'], ddof=1)\n",
    "print('Дисперсия по использованному трафику по тарифу ultra равна:', variance_traffic_ultra)"
   ]
  },
  {
   "cell_type": "code",
   "execution_count": 37,
   "metadata": {},
   "outputs": [
    {
     "name": "stdout",
     "output_type": "stream",
     "text": [
      "Стандартное отклонение по использованному трафику по тарифу smart равно: 5.737922605224221\n",
      "Стандартное отклонение по использованному трафику по тарифу ultra равно: 9.70292399536948\n"
     ]
    }
   ],
   "source": [
    "# находим стандартное отклонение по использованному трафику по тарифу smart\n",
    "traffic_standard_deviation_smart = np.sqrt(variance_traffic_smart)\n",
    "print('Стандартное отклонение по использованному трафику по тарифу smart равно:', traffic_standard_deviation_smart)\n",
    "\n",
    "# находим стандартное отклонение по использованному трафику по тарифу ultra\n",
    "traffic_standard_deviation_ultra = np.sqrt(variance_traffic_ultra)\n",
    "print('Стандартное отклонение по использованному трафику по тарифу ultra равно:', traffic_standard_deviation_ultra)"
   ]
  },
  {
   "cell_type": "code",
   "execution_count": 38,
   "metadata": {},
   "outputs": [
    {
     "data": {
      "text/plain": [
       "<matplotlib.axes._subplots.AxesSubplot at 0x7fdc190dc090>"
      ]
     },
     "execution_count": 38,
     "metadata": {},
     "output_type": "execute_result"
    },
    {
     "data": {
      "image/png": "[encoded data removed]",
      "text/plain": [
       "<Figure size 1080x360 with 1 Axes>"
      ]
     },
     "metadata": {
      "needs_background": "light"
     },
     "output_type": "display_data"
    }
   ],
   "source": [
    "# строим гистрограмму по использованному трафику для пользователей тарифа smart\n",
    "grouped_users_smart['total_traffic_gb'].hist(bins=50, figsize=(15,5))"
   ]
  },
  {
   "cell_type": "code",
   "execution_count": 39,
   "metadata": {},
   "outputs": [
    {
     "data": {
      "text/plain": [
       "<matplotlib.axes._subplots.AxesSubplot at 0x7fdc190164d0>"
      ]
     },
     "execution_count": 39,
     "metadata": {},
     "output_type": "execute_result"
    },
    {
     "data": {
      "image/png": "[encoded data removed]",
      "text/plain": [
       "<Figure size 1080x360 with 1 Axes>"
      ]
     },
     "metadata": {
      "needs_background": "light"
     },
     "output_type": "display_data"
    }
   ],
   "source": [
    "# строим гистограмму по использованному трафику для пользователей тарифа ultra\n",
    "grouped_users_ultra['total_traffic_gb'].hist(bins=50, figsize=(15,5))"
   ]
  },
  {
   "cell_type": "markdown",
   "metadata": {},
   "source": [
    "#### Вывод по анализу поведения клиентов тарифов smart и ultra относительно объёма трафика"
   ]
  },
  {
   "cell_type": "markdown",
   "metadata": {},
   "source": [
    "Дисперсия и стандартно отклонение показывают, что данные находятся достаточно близко друг к другу. Распределения похожи на нормальные. Кажется, что пользователи используются почти одинаковый объем трафика на обоих тарифах."
   ]
  },
  {
   "cell_type": "markdown",
   "metadata": {},
   "source": [
    "###  Проверяем гипотезы"
   ]
  },
  {
   "cell_type": "markdown",
   "metadata": {},
   "source": [
    "#### Средняя выручка пользователей тарифов «Ультра» и «Смарт» различаются"
   ]
  },
  {
   "cell_type": "code",
   "execution_count": 40,
   "metadata": {},
   "outputs": [
    {
     "name": "stdout",
     "output_type": "stream",
     "text": [
      "Средняя выручка по тарифу smart равна: 1289.6417040358745\n",
      "Средняя выручка по тарифу ultra равна: 2070.030425963489\n"
     ]
    }
   ],
   "source": [
    "# находим среднюю выручку по тарифу smart\n",
    "mean_income_smart = grouped_users_smart['total_income'].mean()\n",
    "print('Средняя выручка по тарифу smart равна:', mean_income_smart)\n",
    "\n",
    "# находим среднюю выручку по тарифу ultra\n",
    "mean_income_ultra = grouped_users_ultra['total_income'].mean()\n",
    "print('Средняя выручка по тарифу ultra равна:', mean_income_ultra)"
   ]
  },
  {
   "cell_type": "code",
   "execution_count": 41,
   "metadata": {},
   "outputs": [
    {
     "name": "stdout",
     "output_type": "stream",
     "text": [
      "p-значение 1.927011394420941e-250\n",
      "Отвергаем нулевую гипотезу\n"
     ]
    }
   ],
   "source": [
    "# задаем пороговое значение\n",
    "alpha = .05\n",
    "# проверяем двустороннюю гипотезу\n",
    "results = st.ttest_ind(\n",
    "    grouped_users_smart['total_income'], \n",
    "    grouped_users_ultra['total_income'],\n",
    "    equal_var=False)\n",
    "# выводим p-значение\n",
    "print('p-значение', results.pvalue)\n",
    "\n",
    "if results.pvalue < alpha:\n",
    "    print('Отвергаем нулевую гипотезу')\n",
    "else:\n",
    "    print('Отвергнуть нулевую гипотезу не получилось')\n"
   ]
  },
  {
   "cell_type": "markdown",
   "metadata": {},
   "source": [
    "Мы поверяли гипотезу о том, что средняя выручка пользователей тарифов «Ультра» и «Смарт» различаются. Нулевая гипотеза Н0 - средняя выручка по тарифам равна, альтернативная Н1 - средняя выручка по тарифам не равна. Пороговое значение 5% (общепринятое пороговое значение). После проведения t-теста мы отвергли нулевую гипотезу, что говорит о том, что средняя выручка по тарифам не равна."
   ]
  },
  {
   "cell_type": "markdown",
   "metadata": {},
   "source": [
    "#### Cредняя выручка пользователей из Москвы отличается от выручки пользователей из других регионов."
   ]
  },
  {
   "cell_type": "code",
   "execution_count": 42,
   "metadata": {},
   "outputs": [
    {
     "name": "stdout",
     "output_type": "stream",
     "text": [
      "Среднее значение выручки для пользователей из Москвы: 1546.7135842880523\n",
      "Среднее значение выручки для пользователей из других городов: 1524.7251439539348\n"
     ]
    }
   ],
   "source": [
    "# делаем срез данных абонентов из Москвы\n",
    "grouped_data_moscow = grouped_data.query('city == \"Москва\"')\n",
    "# находим среднюю выручку абонентов из Москвы\n",
    "grouped_data_moscow_mean = grouped_data_moscow['total_income'].mean()\n",
    "print('Среднее значение выручки для пользователей из Москвы:', grouped_data_moscow_mean)\n",
    "\n",
    "\n",
    "# делаем срез данных абонентов из других городов\n",
    "grouped_data_other = grouped_data.query('city != \"Москва\"')\n",
    "# находим среднюю выучку абонентов из других городов\n",
    "grouped_data_other_mean = grouped_data_other['total_income'].mean()\n",
    "print('Среднее значение выручки для пользователей из других городов:', grouped_data_other_mean)"
   ]
  },
  {
   "cell_type": "code",
   "execution_count": 43,
   "metadata": {},
   "outputs": [
    {
     "name": "stdout",
     "output_type": "stream",
     "text": [
      "p-значение 0.5216952110000279\n",
      "Отвергнуть нулевую гипотезу не получилось\n"
     ]
    }
   ],
   "source": [
    "# задаем пороговое значение\n",
    "alpha = .05\n",
    "# проверяем двухстороннюю гипотезу\n",
    "results = st.ttest_ind(\n",
    "    grouped_data_moscow['total_income'], \n",
    "    grouped_data_other['total_income'],\n",
    "    equal_var=False\n",
    ")\n",
    "# выводим p-значение\n",
    "print('p-значение', results.pvalue)\n",
    "\n",
    "if results.pvalue < alpha:\n",
    "    print('Отвергаем нулевую гипотезу')\n",
    "else:\n",
    "    print('Отвергнуть нулевую гипотезу не получилось')"
   ]
  },
  {
   "cell_type": "markdown",
   "metadata": {},
   "source": [
    "Мы проверили гипотезу, что средняя выручка пользователей из Москвы отличается от пользователей других регионов. Нулевая гипотеза Н0 - средняя выручка для абонентов из Москвы и из других городов равна, альтернативная Н1 - средняя выручка для абонентов из Москвы и из другие городов не равна. Пороговое значение 5% (общепринятое пороговое значение). После проведения t-теста мы не смогли опровергнуть нулевую гипотезу, что говорит о том,что средняя выручка для абонентов из Москвы и из других городов равна."
   ]
  },
  {
   "cell_type": "markdown",
   "metadata": {},
   "source": [
    "## Общий вывод по проекту"
   ]
  },
  {
   "cell_type": "markdown",
   "metadata": {},
   "source": [
    "Проанализировав выборку данных по пользователям и тарифам, можно сказать, что большей популярностью пользуется тариф smart. Им пользуется большее количество человек. Думаю, это связано с тем, что абонентская плата более выгодна, при это людям вполне хватает заявленных минут, сообщений и интернет трафика."
   ]
  }
 ],
 "metadata": {
  "ExecuteTimeLog": [
   {
    "duration": 108,
    "start_time": "2022-01-08T13:16:56.404Z"
   },
   {
    "duration": 91,
    "start_time": "2022-01-08T13:17:15.927Z"
   },
   {
    "duration": 704,
    "start_time": "2022-01-08T13:17:18.436Z"
   },
   {
    "duration": 140,
    "start_time": "2022-01-08T13:17:50.815Z"
   },
   {
    "duration": 199,
    "start_time": "2022-01-08T13:23:10.426Z"
   },
   {
    "duration": 144,
    "start_time": "2022-01-08T13:24:58.677Z"
   },
   {
    "duration": 436,
    "start_time": "2022-01-08T13:26:35.912Z"
   },
   {
    "duration": 150,
    "start_time": "2022-01-08T13:26:41.074Z"
   },
   {
    "duration": 135,
    "start_time": "2022-01-08T13:40:26.394Z"
   },
   {
    "duration": 131,
    "start_time": "2022-01-08T13:43:02.015Z"
   },
   {
    "duration": 92,
    "start_time": "2022-01-08T13:43:10.895Z"
   },
   {
    "duration": 2066,
    "start_time": "2022-01-08T13:45:22.100Z"
   },
   {
    "duration": 25,
    "start_time": "2022-01-08T13:45:34.746Z"
   },
   {
    "duration": 46,
    "start_time": "2022-01-08T13:47:40.566Z"
   },
   {
    "duration": 144,
    "start_time": "2022-01-08T13:50:27.238Z"
   },
   {
    "duration": 133,
    "start_time": "2022-01-08T13:50:37.991Z"
   },
   {
    "duration": 339,
    "start_time": "2022-01-08T13:51:12.040Z"
   },
   {
    "duration": 101,
    "start_time": "2022-01-08T13:51:20.482Z"
   },
   {
    "duration": 162,
    "start_time": "2022-01-08T13:51:31.298Z"
   },
   {
    "duration": 140,
    "start_time": "2022-01-08T13:51:48.428Z"
   },
   {
    "duration": 91,
    "start_time": "2022-01-08T13:51:56.713Z"
   },
   {
    "duration": 23,
    "start_time": "2022-01-08T13:52:14.205Z"
   },
   {
    "duration": 46,
    "start_time": "2022-01-08T13:52:25.966Z"
   },
   {
    "duration": 151,
    "start_time": "2022-01-08T13:52:54.371Z"
   },
   {
    "duration": 125,
    "start_time": "2022-01-08T13:52:56.990Z"
   },
   {
    "duration": 92,
    "start_time": "2022-01-08T13:52:59.403Z"
   },
   {
    "duration": 23,
    "start_time": "2022-01-08T13:53:02.250Z"
   },
   {
    "duration": 48,
    "start_time": "2022-01-08T13:53:04.831Z"
   },
   {
    "duration": 2,
    "start_time": "2022-01-08T13:53:33.202Z"
   },
   {
    "duration": 145,
    "start_time": "2022-01-08T13:53:35.339Z"
   },
   {
    "duration": 17,
    "start_time": "2022-01-08T14:02:56.436Z"
   },
   {
    "duration": 61,
    "start_time": "2022-01-08T14:04:28.685Z"
   },
   {
    "duration": 281,
    "start_time": "2022-01-08T14:07:53.408Z"
   },
   {
    "duration": 24,
    "start_time": "2022-01-08T14:17:23.153Z"
   },
   {
    "duration": 18,
    "start_time": "2022-01-08T14:17:30.835Z"
   },
   {
    "duration": 274,
    "start_time": "2022-01-08T14:21:38.988Z"
   },
   {
    "duration": 358,
    "start_time": "2022-01-08T14:22:03.426Z"
   },
   {
    "duration": 7,
    "start_time": "2022-01-08T14:22:34.525Z"
   },
   {
    "duration": 318,
    "start_time": "2022-01-08T14:26:04.334Z"
   },
   {
    "duration": 2,
    "start_time": "2022-01-08T14:28:25.517Z"
   },
   {
    "duration": 61,
    "start_time": "2022-01-08T14:28:30.115Z"
   },
   {
    "duration": 58,
    "start_time": "2022-01-08T14:28:36.646Z"
   },
   {
    "duration": 52,
    "start_time": "2022-01-08T14:28:44.043Z"
   },
   {
    "duration": 49,
    "start_time": "2022-01-08T14:29:46.992Z"
   },
   {
    "duration": 576,
    "start_time": "2022-01-08T17:09:31.220Z"
   },
   {
    "duration": 194,
    "start_time": "2022-01-08T17:09:32.056Z"
   },
   {
    "duration": 151,
    "start_time": "2022-01-08T17:09:35.400Z"
   },
   {
    "duration": 106,
    "start_time": "2022-01-08T17:09:38.157Z"
   },
   {
    "duration": 24,
    "start_time": "2022-01-08T17:09:40.931Z"
   },
   {
    "duration": 39,
    "start_time": "2022-01-08T17:09:44.157Z"
   },
   {
    "duration": 103,
    "start_time": "2022-01-08T17:09:47.221Z"
   },
   {
    "duration": 24,
    "start_time": "2022-01-08T17:11:08.180Z"
   },
   {
    "duration": 17,
    "start_time": "2022-01-08T17:11:18.043Z"
   },
   {
    "duration": 396,
    "start_time": "2022-01-08T17:26:48.344Z"
   },
   {
    "duration": 3,
    "start_time": "2022-01-08T17:27:54.212Z"
   },
   {
    "duration": 217,
    "start_time": "2022-01-08T17:28:00.153Z"
   },
   {
    "duration": 229,
    "start_time": "2022-01-08T17:28:06.879Z"
   },
   {
    "duration": 3,
    "start_time": "2022-01-08T17:28:16.504Z"
   },
   {
    "duration": 217,
    "start_time": "2022-01-08T17:28:21.136Z"
   },
   {
    "duration": 22,
    "start_time": "2022-01-08T17:29:30.794Z"
   },
   {
    "duration": 33,
    "start_time": "2022-01-08T17:29:42.263Z"
   },
   {
    "duration": 263,
    "start_time": "2022-01-08T17:33:12.236Z"
   },
   {
    "duration": 55,
    "start_time": "2022-01-08T17:33:46.003Z"
   },
   {
    "duration": 45,
    "start_time": "2022-01-08T17:35:53.833Z"
   },
   {
    "duration": 47,
    "start_time": "2022-01-08T17:35:57.149Z"
   },
   {
    "duration": 35,
    "start_time": "2022-01-08T17:36:00.703Z"
   },
   {
    "duration": 38,
    "start_time": "2022-01-08T17:36:03.860Z"
   },
   {
    "duration": 35,
    "start_time": "2022-01-08T17:36:06.134Z"
   },
   {
    "duration": 962,
    "start_time": "2022-01-08T17:43:52.766Z"
   },
   {
    "duration": 53,
    "start_time": "2022-01-08T17:44:17.666Z"
   },
   {
    "duration": 882,
    "start_time": "2022-01-08T17:44:57.214Z"
   },
   {
    "duration": 49,
    "start_time": "2022-01-08T17:45:08.676Z"
   },
   {
    "duration": 50,
    "start_time": "2022-01-08T17:45:40.205Z"
   },
   {
    "duration": 52,
    "start_time": "2022-01-08T17:46:15.730Z"
   },
   {
    "duration": 51,
    "start_time": "2022-01-08T17:46:24.932Z"
   },
   {
    "duration": 79,
    "start_time": "2022-01-08T17:47:22.011Z"
   },
   {
    "duration": 59,
    "start_time": "2022-01-08T17:47:28.144Z"
   },
   {
    "duration": 53,
    "start_time": "2022-01-08T17:47:39.631Z"
   },
   {
    "duration": 50,
    "start_time": "2022-01-08T17:50:51.648Z"
   },
   {
    "duration": 22,
    "start_time": "2022-01-08T17:50:53.433Z"
   },
   {
    "duration": 21,
    "start_time": "2022-01-08T17:51:42.354Z"
   },
   {
    "duration": 768,
    "start_time": "2022-01-09T15:24:13.785Z"
   },
   {
    "duration": 255,
    "start_time": "2022-01-09T15:24:14.999Z"
   },
   {
    "duration": 205,
    "start_time": "2022-01-09T15:24:17.140Z"
   },
   {
    "duration": 137,
    "start_time": "2022-01-09T15:24:18.466Z"
   },
   {
    "duration": 30,
    "start_time": "2022-01-09T15:24:19.829Z"
   },
   {
    "duration": 86,
    "start_time": "2022-01-09T15:24:21.122Z"
   },
   {
    "duration": 141,
    "start_time": "2022-01-09T15:24:22.892Z"
   },
   {
    "duration": 59,
    "start_time": "2022-01-09T15:24:23.701Z"
   },
   {
    "duration": 64,
    "start_time": "2022-01-09T15:24:24.481Z"
   },
   {
    "duration": 492,
    "start_time": "2022-01-09T15:26:10.125Z"
   },
   {
    "duration": 27,
    "start_time": "2022-01-09T15:26:18.546Z"
   },
   {
    "duration": 9,
    "start_time": "2022-01-09T15:26:56.112Z"
   },
   {
    "duration": 40,
    "start_time": "2022-01-09T15:34:44.002Z"
   },
   {
    "duration": 522,
    "start_time": "2022-01-09T15:35:58.851Z"
   },
   {
    "duration": 53,
    "start_time": "2022-01-09T15:36:04.906Z"
   },
   {
    "duration": 3,
    "start_time": "2022-01-09T15:36:16.909Z"
   },
   {
    "duration": 257,
    "start_time": "2022-01-09T15:36:17.249Z"
   },
   {
    "duration": 218,
    "start_time": "2022-01-09T15:36:18.676Z"
   },
   {
    "duration": 158,
    "start_time": "2022-01-09T15:36:19.635Z"
   },
   {
    "duration": 33,
    "start_time": "2022-01-09T15:36:20.797Z"
   },
   {
    "duration": 54,
    "start_time": "2022-01-09T15:36:22.351Z"
   },
   {
    "duration": 71,
    "start_time": "2022-01-09T15:36:24.415Z"
   },
   {
    "duration": 55,
    "start_time": "2022-01-09T15:36:28.662Z"
   },
   {
    "duration": 28,
    "start_time": "2022-01-09T15:36:29.497Z"
   },
   {
    "duration": 51,
    "start_time": "2022-01-09T15:36:34.969Z"
   },
   {
    "duration": 48,
    "start_time": "2022-01-09T15:38:34.082Z"
   },
   {
    "duration": 40,
    "start_time": "2022-01-09T15:39:45.632Z"
   },
   {
    "duration": 448,
    "start_time": "2022-01-09T15:39:57.822Z"
   },
   {
    "duration": 72,
    "start_time": "2022-01-09T15:40:02.733Z"
   },
   {
    "duration": 55,
    "start_time": "2022-01-09T15:48:21.082Z"
   },
   {
    "duration": 51,
    "start_time": "2022-01-09T15:49:15.662Z"
   },
   {
    "duration": 79,
    "start_time": "2022-01-09T15:50:57.531Z"
   },
   {
    "duration": 46,
    "start_time": "2022-01-09T15:52:26.809Z"
   },
   {
    "duration": 35,
    "start_time": "2022-01-09T15:53:01.355Z"
   },
   {
    "duration": 49,
    "start_time": "2022-01-09T15:53:12.464Z"
   },
   {
    "duration": 47,
    "start_time": "2022-01-09T15:53:47.761Z"
   },
   {
    "duration": 45,
    "start_time": "2022-01-09T15:54:14.009Z"
   },
   {
    "duration": 53,
    "start_time": "2022-01-09T15:54:22.836Z"
   },
   {
    "duration": 31,
    "start_time": "2022-01-09T15:56:40.056Z"
   },
   {
    "duration": 28,
    "start_time": "2022-01-09T15:56:54.118Z"
   },
   {
    "duration": 31,
    "start_time": "2022-01-09T15:57:17.200Z"
   },
   {
    "duration": 41,
    "start_time": "2022-01-09T15:57:34.735Z"
   },
   {
    "duration": 40,
    "start_time": "2022-01-09T16:01:15.181Z"
   },
   {
    "duration": 44,
    "start_time": "2022-01-09T16:01:50.880Z"
   },
   {
    "duration": 34,
    "start_time": "2022-01-09T16:17:03.404Z"
   },
   {
    "duration": 50,
    "start_time": "2022-01-09T16:18:02.996Z"
   },
   {
    "duration": 4,
    "start_time": "2022-01-09T16:18:43.624Z"
   },
   {
    "duration": 6,
    "start_time": "2022-01-09T16:19:45.882Z"
   },
   {
    "duration": 8,
    "start_time": "2022-01-09T16:20:00.915Z"
   },
   {
    "duration": 7,
    "start_time": "2022-01-09T16:20:38.072Z"
   },
   {
    "duration": 104,
    "start_time": "2022-01-09T16:20:53.319Z"
   },
   {
    "duration": 11,
    "start_time": "2022-01-09T16:20:56.496Z"
   },
   {
    "duration": 11,
    "start_time": "2022-01-09T16:21:10.573Z"
   },
   {
    "duration": 12,
    "start_time": "2022-01-09T16:52:37.820Z"
   },
   {
    "duration": 12,
    "start_time": "2022-01-09T16:52:40.482Z"
   },
   {
    "duration": 22,
    "start_time": "2022-01-09T16:52:47.317Z"
   },
   {
    "duration": 22,
    "start_time": "2022-01-09T16:53:19.819Z"
   },
   {
    "duration": 22,
    "start_time": "2022-01-09T16:53:47.158Z"
   },
   {
    "duration": 29,
    "start_time": "2022-01-09T16:55:37.530Z"
   },
   {
    "duration": 29,
    "start_time": "2022-01-09T17:27:53.027Z"
   },
   {
    "duration": 39,
    "start_time": "2022-01-09T17:28:04.833Z"
   },
   {
    "duration": 31,
    "start_time": "2022-01-09T17:28:13.362Z"
   },
   {
    "duration": 45,
    "start_time": "2022-01-09T17:35:12.526Z"
   },
   {
    "duration": 46,
    "start_time": "2022-01-09T17:35:16.936Z"
   },
   {
    "duration": 35,
    "start_time": "2022-01-09T17:35:17.849Z"
   },
   {
    "duration": 44,
    "start_time": "2022-01-09T17:35:18.926Z"
   },
   {
    "duration": 15,
    "start_time": "2022-01-09T17:35:21.438Z"
   },
   {
    "duration": 5,
    "start_time": "2022-01-09T17:35:36.093Z"
   },
   {
    "duration": 249,
    "start_time": "2022-01-09T17:35:36.859Z"
   },
   {
    "duration": 216,
    "start_time": "2022-01-09T17:35:38.066Z"
   },
   {
    "duration": 146,
    "start_time": "2022-01-09T17:35:39.198Z"
   },
   {
    "duration": 32,
    "start_time": "2022-01-09T17:35:40.331Z"
   },
   {
    "duration": 70,
    "start_time": "2022-01-09T17:35:41.488Z"
   },
   {
    "duration": 69,
    "start_time": "2022-01-09T17:35:42.966Z"
   },
   {
    "duration": 51,
    "start_time": "2022-01-09T17:35:43.688Z"
   },
   {
    "duration": 44,
    "start_time": "2022-01-09T17:35:44.431Z"
   },
   {
    "duration": 56,
    "start_time": "2022-01-09T17:35:46.635Z"
   },
   {
    "duration": 47,
    "start_time": "2022-01-09T17:35:47.460Z"
   },
   {
    "duration": 37,
    "start_time": "2022-01-09T17:35:48.219Z"
   },
   {
    "duration": 49,
    "start_time": "2022-01-09T17:35:49.009Z"
   },
   {
    "duration": 17,
    "start_time": "2022-01-09T17:35:51.228Z"
   },
   {
    "duration": 29,
    "start_time": "2022-01-09T17:35:57.411Z"
   },
   {
    "duration": 43,
    "start_time": "2022-01-09T17:36:45.093Z"
   },
   {
    "duration": 333,
    "start_time": "2022-01-09T17:40:17.951Z"
   },
   {
    "duration": 37,
    "start_time": "2022-01-09T17:40:23.400Z"
   },
   {
    "duration": 17,
    "start_time": "2022-01-09T17:40:54.761Z"
   },
   {
    "duration": 134,
    "start_time": "2022-01-09T17:42:51.240Z"
   },
   {
    "duration": 27,
    "start_time": "2022-01-09T17:43:13.507Z"
   },
   {
    "duration": 24,
    "start_time": "2022-01-09T17:43:23.906Z"
   },
   {
    "duration": 27,
    "start_time": "2022-01-09T17:44:29.595Z"
   },
   {
    "duration": 23,
    "start_time": "2022-01-09T17:44:32.095Z"
   },
   {
    "duration": 34,
    "start_time": "2022-01-09T17:45:52.898Z"
   },
   {
    "duration": 28,
    "start_time": "2022-01-09T17:45:54.632Z"
   },
   {
    "duration": 34,
    "start_time": "2022-01-09T17:47:55.105Z"
   },
   {
    "duration": 25,
    "start_time": "2022-01-09T17:47:58.098Z"
   },
   {
    "duration": 25,
    "start_time": "2022-01-09T17:50:15.407Z"
   },
   {
    "duration": 26,
    "start_time": "2022-01-09T17:50:17.201Z"
   },
   {
    "duration": 25,
    "start_time": "2022-01-09T17:51:07.232Z"
   },
   {
    "duration": 24,
    "start_time": "2022-01-09T17:51:09.436Z"
   },
   {
    "duration": 5,
    "start_time": "2022-01-09T17:52:18.576Z"
   },
   {
    "duration": 345,
    "start_time": "2022-01-09T17:53:05.716Z"
   },
   {
    "duration": 496,
    "start_time": "2022-01-09T17:53:31.380Z"
   },
   {
    "duration": 12,
    "start_time": "2022-01-09T17:54:21.960Z"
   },
   {
    "duration": 29,
    "start_time": "2022-01-09T17:54:30.837Z"
   },
   {
    "duration": 11,
    "start_time": "2022-01-09T17:55:01.788Z"
   },
   {
    "duration": 39,
    "start_time": "2022-01-09T17:55:03.526Z"
   },
   {
    "duration": 406,
    "start_time": "2022-01-09T17:55:22.509Z"
   },
   {
    "duration": 12,
    "start_time": "2022-01-09T17:55:30.974Z"
   },
   {
    "duration": 352,
    "start_time": "2022-01-09T18:01:39.376Z"
   },
   {
    "duration": 29,
    "start_time": "2022-01-09T18:02:12.929Z"
   },
   {
    "duration": 25,
    "start_time": "2022-01-09T18:03:15.143Z"
   },
   {
    "duration": 24,
    "start_time": "2022-01-09T18:03:17.850Z"
   },
   {
    "duration": 13,
    "start_time": "2022-01-09T18:03:34.369Z"
   },
   {
    "duration": 401,
    "start_time": "2022-01-09T18:04:51.005Z"
   },
   {
    "duration": 9817,
    "start_time": "2022-01-09T18:05:20.305Z"
   },
   {
    "duration": 117,
    "start_time": "2022-01-09T18:05:30.009Z"
   },
   {
    "duration": 8850,
    "start_time": "2022-01-09T18:05:52.977Z"
   },
   {
    "duration": 4,
    "start_time": "2022-01-09T18:06:20.979Z"
   },
   {
    "duration": 11638,
    "start_time": "2022-01-09T18:06:55.950Z"
   },
   {
    "duration": 13,
    "start_time": "2022-01-09T18:07:21.478Z"
   },
   {
    "duration": 20,
    "start_time": "2022-01-09T18:10:50.722Z"
   },
   {
    "duration": 9,
    "start_time": "2022-01-09T18:15:59.270Z"
   },
   {
    "duration": 31,
    "start_time": "2022-01-09T18:16:04.209Z"
   },
   {
    "duration": 25,
    "start_time": "2022-01-09T18:16:26.227Z"
   },
   {
    "duration": 19,
    "start_time": "2022-01-09T18:16:26.656Z"
   },
   {
    "duration": 9,
    "start_time": "2022-01-09T18:16:28.823Z"
   },
   {
    "duration": 27,
    "start_time": "2022-01-09T18:16:29.223Z"
   },
   {
    "duration": 335,
    "start_time": "2022-01-09T18:16:37.984Z"
   },
   {
    "duration": 26,
    "start_time": "2022-01-09T18:16:38.431Z"
   },
   {
    "duration": 3,
    "start_time": "2022-01-09T18:16:49.372Z"
   },
   {
    "duration": 212,
    "start_time": "2022-01-09T18:16:50.213Z"
   },
   {
    "duration": 208,
    "start_time": "2022-01-09T18:16:51.445Z"
   },
   {
    "duration": 139,
    "start_time": "2022-01-09T18:16:52.584Z"
   },
   {
    "duration": 33,
    "start_time": "2022-01-09T18:16:53.694Z"
   },
   {
    "duration": 63,
    "start_time": "2022-01-09T18:16:54.816Z"
   },
   {
    "duration": 69,
    "start_time": "2022-01-09T18:16:56.285Z"
   },
   {
    "duration": 54,
    "start_time": "2022-01-09T18:16:57.022Z"
   },
   {
    "duration": 46,
    "start_time": "2022-01-09T18:16:57.737Z"
   },
   {
    "duration": 6,
    "start_time": "2022-01-09T18:16:58.475Z"
   },
   {
    "duration": 47,
    "start_time": "2022-01-09T18:17:00.584Z"
   },
   {
    "duration": 41,
    "start_time": "2022-01-09T18:17:01.579Z"
   },
   {
    "duration": 54,
    "start_time": "2022-01-09T18:17:02.641Z"
   },
   {
    "duration": 51,
    "start_time": "2022-01-09T18:17:03.752Z"
   },
   {
    "duration": 26,
    "start_time": "2022-01-09T18:17:05.880Z"
   },
   {
    "duration": 21,
    "start_time": "2022-01-09T18:17:06.566Z"
   },
   {
    "duration": 10,
    "start_time": "2022-01-09T18:17:07.692Z"
   },
   {
    "duration": 28,
    "start_time": "2022-01-09T18:17:09.162Z"
   },
   {
    "duration": 351,
    "start_time": "2022-01-09T18:17:26.085Z"
   },
   {
    "duration": 306,
    "start_time": "2022-01-09T18:17:52.174Z"
   },
   {
    "duration": 96,
    "start_time": "2022-01-09T18:18:26.588Z"
   },
   {
    "duration": 337,
    "start_time": "2022-01-09T18:18:30.328Z"
   },
   {
    "duration": 427,
    "start_time": "2022-01-09T18:23:03.506Z"
   },
   {
    "duration": 4,
    "start_time": "2022-01-09T18:23:17.797Z"
   },
   {
    "duration": 238,
    "start_time": "2022-01-09T18:23:18.591Z"
   },
   {
    "duration": 217,
    "start_time": "2022-01-09T18:23:19.794Z"
   },
   {
    "duration": 140,
    "start_time": "2022-01-09T18:23:20.884Z"
   },
   {
    "duration": 30,
    "start_time": "2022-01-09T18:23:22.548Z"
   },
   {
    "duration": 64,
    "start_time": "2022-01-09T18:23:23.906Z"
   },
   {
    "duration": 71,
    "start_time": "2022-01-09T18:23:25.648Z"
   },
   {
    "duration": 54,
    "start_time": "2022-01-09T18:23:26.361Z"
   },
   {
    "duration": 46,
    "start_time": "2022-01-09T18:23:27.170Z"
   },
   {
    "duration": 6,
    "start_time": "2022-01-09T18:23:28.009Z"
   },
   {
    "duration": 66,
    "start_time": "2022-01-09T18:23:29.723Z"
   },
   {
    "duration": 44,
    "start_time": "2022-01-09T18:23:30.524Z"
   },
   {
    "duration": 36,
    "start_time": "2022-01-09T18:23:31.331Z"
   },
   {
    "duration": 45,
    "start_time": "2022-01-09T18:23:32.163Z"
   },
   {
    "duration": 24,
    "start_time": "2022-01-09T18:23:34.056Z"
   },
   {
    "duration": 20,
    "start_time": "2022-01-09T18:23:34.634Z"
   },
   {
    "duration": 12,
    "start_time": "2022-01-09T18:23:35.271Z"
   },
   {
    "duration": 19,
    "start_time": "2022-01-09T18:23:36.354Z"
   },
   {
    "duration": 9,
    "start_time": "2022-01-09T18:25:03.641Z"
   },
   {
    "duration": 13,
    "start_time": "2022-01-09T18:25:26.473Z"
   },
   {
    "duration": 26,
    "start_time": "2022-01-09T18:25:30.182Z"
   },
   {
    "duration": 15,
    "start_time": "2022-01-09T18:25:30.860Z"
   },
   {
    "duration": 25,
    "start_time": "2022-01-09T18:27:36.401Z"
   },
   {
    "duration": 12,
    "start_time": "2022-01-09T18:27:36.839Z"
   },
   {
    "duration": 13,
    "start_time": "2022-01-09T18:27:37.304Z"
   },
   {
    "duration": 24,
    "start_time": "2022-01-09T18:27:37.685Z"
   },
   {
    "duration": 21,
    "start_time": "2022-01-09T18:28:14.391Z"
   },
   {
    "duration": 27,
    "start_time": "2022-01-09T18:29:12.213Z"
   },
   {
    "duration": 12,
    "start_time": "2022-01-09T18:29:14.030Z"
   },
   {
    "duration": 19,
    "start_time": "2022-01-09T18:30:25.584Z"
   },
   {
    "duration": 23,
    "start_time": "2022-01-09T18:30:26.744Z"
   },
   {
    "duration": 24,
    "start_time": "2022-01-09T18:30:38.826Z"
   },
   {
    "duration": 12,
    "start_time": "2022-01-09T18:30:39.259Z"
   },
   {
    "duration": 18,
    "start_time": "2022-01-09T18:30:39.798Z"
   },
   {
    "duration": 22,
    "start_time": "2022-01-09T18:30:40.422Z"
   },
   {
    "duration": 26,
    "start_time": "2022-01-09T18:30:54.880Z"
   },
   {
    "duration": 4,
    "start_time": "2022-01-09T18:31:19.815Z"
   },
   {
    "duration": 881,
    "start_time": "2022-01-09T18:31:20.668Z"
   },
   {
    "duration": 216,
    "start_time": "2022-01-09T18:31:21.683Z"
   },
   {
    "duration": 350,
    "start_time": "2022-01-09T18:31:22.857Z"
   },
   {
    "duration": 240,
    "start_time": "2022-01-09T18:31:23.966Z"
   },
   {
    "duration": 117,
    "start_time": "2022-01-09T18:31:25.126Z"
   },
   {
    "duration": 70,
    "start_time": "2022-01-09T18:31:26.599Z"
   },
   {
    "duration": 54,
    "start_time": "2022-01-09T18:31:27.297Z"
   },
   {
    "duration": 44,
    "start_time": "2022-01-09T18:31:29.425Z"
   },
   {
    "duration": 6,
    "start_time": "2022-01-09T18:31:30.121Z"
   },
   {
    "duration": 58,
    "start_time": "2022-01-09T18:31:31.874Z"
   },
   {
    "duration": 47,
    "start_time": "2022-01-09T18:31:32.915Z"
   },
   {
    "duration": 37,
    "start_time": "2022-01-09T18:31:33.712Z"
   },
   {
    "duration": 49,
    "start_time": "2022-01-09T18:31:34.553Z"
   },
   {
    "duration": 26,
    "start_time": "2022-01-09T18:31:37.313Z"
   },
   {
    "duration": 11,
    "start_time": "2022-01-09T18:31:37.799Z"
   },
   {
    "duration": 12,
    "start_time": "2022-01-09T18:31:38.286Z"
   },
   {
    "duration": 19,
    "start_time": "2022-01-09T18:31:38.790Z"
   },
   {
    "duration": 12,
    "start_time": "2022-01-09T18:32:37.578Z"
   },
   {
    "duration": 19,
    "start_time": "2022-01-09T18:32:38.156Z"
   },
   {
    "duration": 27,
    "start_time": "2022-01-09T18:32:50.978Z"
   },
   {
    "duration": 10,
    "start_time": "2022-01-09T18:32:51.393Z"
   },
   {
    "duration": 16,
    "start_time": "2022-01-09T18:32:51.929Z"
   },
   {
    "duration": 18,
    "start_time": "2022-01-09T18:32:52.398Z"
   },
   {
    "duration": 25,
    "start_time": "2022-01-09T18:33:42.726Z"
   },
   {
    "duration": 11,
    "start_time": "2022-01-09T18:33:43.229Z"
   },
   {
    "duration": 13,
    "start_time": "2022-01-09T18:33:43.815Z"
   },
   {
    "duration": 19,
    "start_time": "2022-01-09T18:33:44.297Z"
   },
   {
    "duration": 4,
    "start_time": "2022-01-09T18:34:01.230Z"
   },
   {
    "duration": 259,
    "start_time": "2022-01-09T18:34:01.236Z"
   },
   {
    "duration": 225,
    "start_time": "2022-01-09T18:34:01.498Z"
   },
   {
    "duration": 150,
    "start_time": "2022-01-09T18:34:01.726Z"
   },
   {
    "duration": 31,
    "start_time": "2022-01-09T18:34:01.878Z"
   },
   {
    "duration": 81,
    "start_time": "2022-01-09T18:34:01.911Z"
   },
   {
    "duration": 90,
    "start_time": "2022-01-09T18:34:01.998Z"
   },
   {
    "duration": 56,
    "start_time": "2022-01-09T18:34:02.091Z"
   },
   {
    "duration": 60,
    "start_time": "2022-01-09T18:34:02.149Z"
   },
   {
    "duration": 7,
    "start_time": "2022-01-09T18:34:02.212Z"
   },
   {
    "duration": 77,
    "start_time": "2022-01-09T18:34:02.222Z"
   },
   {
    "duration": 39,
    "start_time": "2022-01-09T18:34:02.302Z"
   },
   {
    "duration": 59,
    "start_time": "2022-01-09T18:34:02.344Z"
   },
   {
    "duration": 82,
    "start_time": "2022-01-09T18:34:02.406Z"
   },
   {
    "duration": 26,
    "start_time": "2022-01-09T18:34:02.490Z"
   },
   {
    "duration": 16,
    "start_time": "2022-01-09T18:34:02.518Z"
   },
   {
    "duration": 36,
    "start_time": "2022-01-09T18:34:02.537Z"
   },
   {
    "duration": 22,
    "start_time": "2022-01-09T18:34:02.575Z"
   },
   {
    "duration": 12,
    "start_time": "2022-01-09T18:34:02.601Z"
   },
   {
    "duration": 27,
    "start_time": "2022-01-09T18:34:29.306Z"
   },
   {
    "duration": 13,
    "start_time": "2022-01-09T18:34:31.802Z"
   },
   {
    "duration": 22,
    "start_time": "2022-01-09T18:34:32.235Z"
   },
   {
    "duration": 4,
    "start_time": "2022-01-09T18:35:28.326Z"
   },
   {
    "duration": 242,
    "start_time": "2022-01-09T18:35:28.333Z"
   },
   {
    "duration": 209,
    "start_time": "2022-01-09T18:35:28.579Z"
   },
   {
    "duration": 144,
    "start_time": "2022-01-09T18:35:28.791Z"
   },
   {
    "duration": 34,
    "start_time": "2022-01-09T18:35:28.937Z"
   },
   {
    "duration": 64,
    "start_time": "2022-01-09T18:35:28.973Z"
   },
   {
    "duration": 68,
    "start_time": "2022-01-09T18:35:29.040Z"
   },
   {
    "duration": 60,
    "start_time": "2022-01-09T18:35:29.112Z"
   },
   {
    "duration": 43,
    "start_time": "2022-01-09T18:35:29.175Z"
   },
   {
    "duration": 6,
    "start_time": "2022-01-09T18:35:29.220Z"
   },
   {
    "duration": 80,
    "start_time": "2022-01-09T18:35:29.228Z"
   },
   {
    "duration": 58,
    "start_time": "2022-01-09T18:35:29.311Z"
   },
   {
    "duration": 37,
    "start_time": "2022-01-09T18:35:29.372Z"
   },
   {
    "duration": 73,
    "start_time": "2022-01-09T18:35:29.411Z"
   },
   {
    "duration": 27,
    "start_time": "2022-01-09T18:35:29.487Z"
   },
   {
    "duration": 13,
    "start_time": "2022-01-09T18:35:29.516Z"
   },
   {
    "duration": 48,
    "start_time": "2022-01-09T18:35:29.532Z"
   },
   {
    "duration": 11,
    "start_time": "2022-01-09T18:35:29.582Z"
   },
   {
    "duration": 11,
    "start_time": "2022-01-09T18:35:53.218Z"
   },
   {
    "duration": 23,
    "start_time": "2022-01-09T18:35:55.271Z"
   },
   {
    "duration": 11,
    "start_time": "2022-01-09T18:51:03.580Z"
   },
   {
    "duration": 22,
    "start_time": "2022-01-09T18:51:05.827Z"
   },
   {
    "duration": 7973,
    "start_time": "2022-01-09T18:52:13.598Z"
   },
   {
    "duration": 181,
    "start_time": "2022-01-09T18:52:31.764Z"
   },
   {
    "duration": 21,
    "start_time": "2022-01-09T18:53:10.706Z"
   },
   {
    "duration": 7654,
    "start_time": "2022-01-09T18:54:25.313Z"
   },
   {
    "duration": 27,
    "start_time": "2022-01-09T18:58:19.193Z"
   },
   {
    "duration": 12,
    "start_time": "2022-01-09T18:58:19.778Z"
   },
   {
    "duration": 22,
    "start_time": "2022-01-09T18:58:21.330Z"
   },
   {
    "duration": 11,
    "start_time": "2022-01-09T18:58:44.009Z"
   },
   {
    "duration": 27,
    "start_time": "2022-01-09T18:59:04.028Z"
   },
   {
    "duration": 13,
    "start_time": "2022-01-09T18:59:05.303Z"
   },
   {
    "duration": 24,
    "start_time": "2022-01-09T18:59:06.420Z"
   },
   {
    "duration": 11,
    "start_time": "2022-01-09T18:59:17.325Z"
   },
   {
    "duration": 32,
    "start_time": "2022-01-09T18:59:45.123Z"
   },
   {
    "duration": 28,
    "start_time": "2022-01-09T19:00:09.379Z"
   },
   {
    "duration": 151,
    "start_time": "2022-01-09T19:07:03.145Z"
   },
   {
    "duration": 108,
    "start_time": "2022-01-09T19:09:12.922Z"
   },
   {
    "duration": 306,
    "start_time": "2022-01-09T19:09:29.080Z"
   },
   {
    "duration": 662,
    "start_time": "2022-01-09T19:09:44.867Z"
   },
   {
    "duration": 114,
    "start_time": "2022-01-09T19:09:53.576Z"
   },
   {
    "duration": 8222,
    "start_time": "2022-01-09T19:10:16.506Z"
   },
   {
    "duration": 25055,
    "start_time": "2022-01-09T19:10:26.075Z"
   },
   {
    "duration": 451,
    "start_time": "2022-01-09T19:11:23.813Z"
   },
   {
    "duration": 334,
    "start_time": "2022-01-09T19:14:33.681Z"
   },
   {
    "duration": 320,
    "start_time": "2022-01-09T19:14:42.415Z"
   },
   {
    "duration": 4398,
    "start_time": "2022-01-09T19:15:56.880Z"
   },
   {
    "duration": 137,
    "start_time": "2022-01-09T19:16:51.869Z"
   },
   {
    "duration": 17358,
    "start_time": "2022-01-09T19:16:57.555Z"
   },
   {
    "duration": 113,
    "start_time": "2022-01-09T19:17:16.476Z"
   },
   {
    "duration": 125,
    "start_time": "2022-01-09T19:19:18.436Z"
   },
   {
    "duration": 26,
    "start_time": "2022-01-09T19:19:30.402Z"
   },
   {
    "duration": 113,
    "start_time": "2022-01-09T19:23:16.164Z"
   },
   {
    "duration": 2356,
    "start_time": "2022-01-09T19:23:23.165Z"
   },
   {
    "duration": 2384,
    "start_time": "2022-01-09T19:23:34.333Z"
   },
   {
    "duration": 4359,
    "start_time": "2022-01-09T19:45:23.301Z"
   },
   {
    "duration": 25,
    "start_time": "2022-01-09T19:45:46.594Z"
   },
   {
    "duration": 17,
    "start_time": "2022-01-09T19:47:09.440Z"
   },
   {
    "duration": 19,
    "start_time": "2022-01-09T19:47:14.789Z"
   },
   {
    "duration": 20,
    "start_time": "2022-01-09T19:47:25.224Z"
   },
   {
    "duration": 20,
    "start_time": "2022-01-09T19:47:42.906Z"
   },
   {
    "duration": 40,
    "start_time": "2022-01-09T19:51:07.653Z"
   },
   {
    "duration": 38,
    "start_time": "2022-01-09T19:51:24.390Z"
   },
   {
    "duration": 12,
    "start_time": "2022-01-09T19:51:36.569Z"
   },
   {
    "duration": 21,
    "start_time": "2022-01-09T19:51:38.973Z"
   },
   {
    "duration": 11,
    "start_time": "2022-01-09T19:51:50.577Z"
   },
   {
    "duration": 27,
    "start_time": "2022-01-09T19:51:56.987Z"
   },
   {
    "duration": 8388,
    "start_time": "2022-01-09T19:52:32.068Z"
   },
   {
    "duration": 92,
    "start_time": "2022-01-09T19:52:40.367Z"
   },
   {
    "duration": 4,
    "start_time": "2022-01-09T19:52:52.440Z"
   },
   {
    "duration": 229,
    "start_time": "2022-01-09T19:52:52.447Z"
   },
   {
    "duration": 208,
    "start_time": "2022-01-09T19:52:52.679Z"
   },
   {
    "duration": 139,
    "start_time": "2022-01-09T19:52:52.890Z"
   },
   {
    "duration": 36,
    "start_time": "2022-01-09T19:52:53.031Z"
   },
   {
    "duration": 81,
    "start_time": "2022-01-09T19:52:53.070Z"
   },
   {
    "duration": 70,
    "start_time": "2022-01-09T19:52:53.155Z"
   },
   {
    "duration": 66,
    "start_time": "2022-01-09T19:52:53.231Z"
   },
   {
    "duration": 46,
    "start_time": "2022-01-09T19:52:53.300Z"
   },
   {
    "duration": 19,
    "start_time": "2022-01-09T19:52:53.348Z"
   },
   {
    "duration": 51,
    "start_time": "2022-01-09T19:52:53.371Z"
   },
   {
    "duration": 75,
    "start_time": "2022-01-09T19:52:53.425Z"
   },
   {
    "duration": 34,
    "start_time": "2022-01-09T19:52:53.503Z"
   },
   {
    "duration": 69,
    "start_time": "2022-01-09T19:52:53.539Z"
   },
   {
    "duration": 59,
    "start_time": "2022-01-09T19:52:53.610Z"
   },
   {
    "duration": 12,
    "start_time": "2022-01-09T19:52:53.672Z"
   },
   {
    "duration": 22,
    "start_time": "2022-01-09T19:52:53.686Z"
   },
   {
    "duration": 4246,
    "start_time": "2022-01-09T19:52:53.711Z"
   },
   {
    "duration": 20,
    "start_time": "2022-01-09T19:52:57.960Z"
   },
   {
    "duration": 554,
    "start_time": "2022-01-09T19:54:09.093Z"
   },
   {
    "duration": 25,
    "start_time": "2022-01-09T19:54:14.063Z"
   },
   {
    "duration": 261,
    "start_time": "2022-01-09T20:38:53.282Z"
   },
   {
    "duration": 263,
    "start_time": "2022-01-09T20:39:04.660Z"
   },
   {
    "duration": 267,
    "start_time": "2022-01-09T20:39:18.266Z"
   },
   {
    "duration": 224,
    "start_time": "2022-01-09T20:39:26.272Z"
   },
   {
    "duration": 227,
    "start_time": "2022-01-09T20:41:09.292Z"
   },
   {
    "duration": 242,
    "start_time": "2022-01-09T20:41:19.254Z"
   },
   {
    "duration": 335,
    "start_time": "2022-01-09T20:41:29.542Z"
   },
   {
    "duration": 244,
    "start_time": "2022-01-09T20:41:35.548Z"
   },
   {
    "duration": 238,
    "start_time": "2022-01-09T20:41:54.578Z"
   },
   {
    "duration": 215,
    "start_time": "2022-01-09T20:43:14.254Z"
   },
   {
    "duration": 328,
    "start_time": "2022-01-09T20:43:28.000Z"
   },
   {
    "duration": 336,
    "start_time": "2022-01-09T20:43:33.222Z"
   },
   {
    "duration": 221,
    "start_time": "2022-01-09T20:43:43.234Z"
   },
   {
    "duration": 239,
    "start_time": "2022-01-09T20:43:50.148Z"
   },
   {
    "duration": 27,
    "start_time": "2022-01-09T20:45:44.773Z"
   },
   {
    "duration": 28,
    "start_time": "2022-01-09T20:46:11.236Z"
   },
   {
    "duration": 8,
    "start_time": "2022-01-09T20:48:13.602Z"
   },
   {
    "duration": 26,
    "start_time": "2022-01-09T20:48:23.009Z"
   },
   {
    "duration": 303,
    "start_time": "2022-01-09T20:49:52.770Z"
   },
   {
    "duration": 16,
    "start_time": "2022-01-09T20:50:07.014Z"
   },
   {
    "duration": 31,
    "start_time": "2022-01-09T20:50:19.944Z"
   },
   {
    "duration": 26,
    "start_time": "2022-01-09T20:50:47.673Z"
   },
   {
    "duration": 34,
    "start_time": "2022-01-09T20:51:23.832Z"
   },
   {
    "duration": 6,
    "start_time": "2022-01-09T20:56:27.627Z"
   },
   {
    "duration": 188,
    "start_time": "2022-01-09T20:57:22.170Z"
   },
   {
    "duration": 5,
    "start_time": "2022-01-09T20:57:26.324Z"
   },
   {
    "duration": 312,
    "start_time": "2022-01-09T20:58:08.472Z"
   },
   {
    "duration": 4,
    "start_time": "2022-01-09T20:58:14.665Z"
   },
   {
    "duration": 6,
    "start_time": "2022-01-09T20:59:09.691Z"
   },
   {
    "duration": 8493,
    "start_time": "2022-01-09T21:01:53.354Z"
   },
   {
    "duration": 6,
    "start_time": "2022-01-09T21:02:32.159Z"
   },
   {
    "duration": 5,
    "start_time": "2022-01-09T21:03:59.852Z"
   },
   {
    "duration": 414,
    "start_time": "2022-01-09T21:04:39.367Z"
   },
   {
    "duration": 683,
    "start_time": "2022-01-09T21:04:45.408Z"
   },
   {
    "duration": 437,
    "start_time": "2022-01-09T21:04:50.896Z"
   },
   {
    "duration": 472,
    "start_time": "2022-01-09T21:05:08.890Z"
   },
   {
    "duration": 523,
    "start_time": "2022-01-09T21:05:16.000Z"
   },
   {
    "duration": 562,
    "start_time": "2022-01-10T05:09:09.416Z"
   },
   {
    "duration": 167,
    "start_time": "2022-01-10T05:09:09.980Z"
   },
   {
    "duration": 138,
    "start_time": "2022-01-10T05:09:10.149Z"
   },
   {
    "duration": 98,
    "start_time": "2022-01-10T05:09:10.289Z"
   },
   {
    "duration": 24,
    "start_time": "2022-01-10T05:09:10.389Z"
   },
   {
    "duration": 40,
    "start_time": "2022-01-10T05:09:10.414Z"
   },
   {
    "duration": 51,
    "start_time": "2022-01-10T05:09:10.455Z"
   },
   {
    "duration": 40,
    "start_time": "2022-01-10T05:09:10.509Z"
   },
   {
    "duration": 28,
    "start_time": "2022-01-10T05:09:10.551Z"
   },
   {
    "duration": 4,
    "start_time": "2022-01-10T05:09:10.580Z"
   },
   {
    "duration": 42,
    "start_time": "2022-01-10T05:09:10.585Z"
   },
   {
    "duration": 39,
    "start_time": "2022-01-10T05:09:10.629Z"
   },
   {
    "duration": 24,
    "start_time": "2022-01-10T05:09:10.669Z"
   },
   {
    "duration": 58,
    "start_time": "2022-01-10T05:09:10.694Z"
   },
   {
    "duration": 22,
    "start_time": "2022-01-10T05:09:10.753Z"
   },
   {
    "duration": 6,
    "start_time": "2022-01-10T05:09:10.776Z"
   },
   {
    "duration": 14,
    "start_time": "2022-01-10T05:09:10.784Z"
   },
   {
    "duration": 2025,
    "start_time": "2022-01-10T05:09:10.799Z"
   },
   {
    "duration": 21,
    "start_time": "2022-01-10T05:09:12.825Z"
   },
   {
    "duration": 15,
    "start_time": "2022-01-10T05:09:12.847Z"
   },
   {
    "duration": 4,
    "start_time": "2022-01-10T05:09:12.863Z"
   },
   {
    "duration": 5,
    "start_time": "2022-01-10T05:09:12.868Z"
   },
   {
    "duration": 6,
    "start_time": "2022-01-10T05:09:12.875Z"
   },
   {
    "duration": 355,
    "start_time": "2022-01-10T05:09:12.882Z"
   },
   {
    "duration": 17,
    "start_time": "2022-01-10T05:09:48.197Z"
   },
   {
    "duration": 16,
    "start_time": "2022-01-10T05:11:07.952Z"
   },
   {
    "duration": 264,
    "start_time": "2022-01-10T05:12:22.575Z"
   },
   {
    "duration": 5,
    "start_time": "2022-01-10T05:13:20.532Z"
   },
   {
    "duration": 4,
    "start_time": "2022-01-10T05:14:11.585Z"
   },
   {
    "duration": 4896,
    "start_time": "2022-01-10T05:15:02.780Z"
   },
   {
    "duration": 5334,
    "start_time": "2022-01-10T05:15:21.782Z"
   },
   {
    "duration": 5,
    "start_time": "2022-01-10T05:15:34.530Z"
   },
   {
    "duration": 3,
    "start_time": "2022-01-10T05:16:47.682Z"
   },
   {
    "duration": 4,
    "start_time": "2022-01-10T05:17:02.283Z"
   },
   {
    "duration": 4,
    "start_time": "2022-01-10T05:17:27.120Z"
   },
   {
    "duration": 4,
    "start_time": "2022-01-10T05:17:54.571Z"
   },
   {
    "duration": 361,
    "start_time": "2022-01-10T05:19:40.880Z"
   },
   {
    "duration": 286,
    "start_time": "2022-01-10T05:20:06.178Z"
   },
   {
    "duration": 276,
    "start_time": "2022-01-10T05:20:09.013Z"
   },
   {
    "duration": 4,
    "start_time": "2022-01-10T05:38:41.151Z"
   },
   {
    "duration": 5,
    "start_time": "2022-01-10T05:45:13.100Z"
   },
   {
    "duration": 94,
    "start_time": "2022-01-10T05:46:49.539Z"
   },
   {
    "duration": 92,
    "start_time": "2022-01-10T05:47:31.871Z"
   },
   {
    "duration": 5,
    "start_time": "2022-01-10T05:47:46.166Z"
   },
   {
    "duration": 5,
    "start_time": "2022-01-10T05:47:53.978Z"
   },
   {
    "duration": 4,
    "start_time": "2022-01-10T05:47:57.871Z"
   },
   {
    "duration": 64,
    "start_time": "2022-01-10T05:48:12.198Z"
   },
   {
    "duration": 4,
    "start_time": "2022-01-10T05:48:18.754Z"
   },
   {
    "duration": 5,
    "start_time": "2022-01-10T06:38:56.424Z"
   },
   {
    "duration": 4,
    "start_time": "2022-01-10T06:40:39.319Z"
   },
   {
    "duration": 273,
    "start_time": "2022-01-10T06:41:24.105Z"
   },
   {
    "duration": 262,
    "start_time": "2022-01-10T06:41:53.999Z"
   },
   {
    "duration": 5,
    "start_time": "2022-01-10T06:49:35.174Z"
   },
   {
    "duration": 5,
    "start_time": "2022-01-10T06:51:06.644Z"
   },
   {
    "duration": 4,
    "start_time": "2022-01-10T06:52:45.739Z"
   },
   {
    "duration": 274,
    "start_time": "2022-01-10T06:53:28.455Z"
   },
   {
    "duration": 257,
    "start_time": "2022-01-10T06:54:07.257Z"
   },
   {
    "duration": 543,
    "start_time": "2022-01-10T08:51:46.925Z"
   },
   {
    "duration": 70,
    "start_time": "2022-01-10T08:56:28.281Z"
   },
   {
    "duration": 4,
    "start_time": "2022-01-10T08:56:34.782Z"
   },
   {
    "duration": 4,
    "start_time": "2022-01-10T08:56:52.572Z"
   },
   {
    "duration": 5,
    "start_time": "2022-01-10T08:57:11.216Z"
   },
   {
    "duration": 5,
    "start_time": "2022-01-10T08:57:48.090Z"
   },
   {
    "duration": 5,
    "start_time": "2022-01-10T13:44:27.679Z"
   },
   {
    "duration": 4,
    "start_time": "2022-01-10T13:44:36.656Z"
   },
   {
    "duration": 35,
    "start_time": "2022-01-10T13:45:41.739Z"
   },
   {
    "duration": 170,
    "start_time": "2022-01-10T13:51:25.397Z"
   },
   {
    "duration": 151,
    "start_time": "2022-01-10T13:52:20.115Z"
   },
   {
    "duration": 48,
    "start_time": "2022-01-10T13:52:29.271Z"
   },
   {
    "duration": 475,
    "start_time": "2022-01-10T14:02:51.674Z"
   },
   {
    "duration": 396,
    "start_time": "2022-01-10T14:12:06.773Z"
   },
   {
    "duration": 280,
    "start_time": "2022-01-10T14:12:37.487Z"
   },
   {
    "duration": 69,
    "start_time": "2022-01-10T14:12:44.280Z"
   },
   {
    "duration": 69,
    "start_time": "2022-01-10T14:12:47.789Z"
   },
   {
    "duration": 209,
    "start_time": "2022-01-10T14:12:50.430Z"
   },
   {
    "duration": 73,
    "start_time": "2022-01-10T14:13:05.405Z"
   },
   {
    "duration": 7,
    "start_time": "2022-01-10T14:13:13.090Z"
   },
   {
    "duration": 10,
    "start_time": "2022-01-10T14:13:52.343Z"
   },
   {
    "duration": 13,
    "start_time": "2022-01-10T14:14:02.734Z"
   },
   {
    "duration": 6,
    "start_time": "2022-01-10T14:15:08.804Z"
   },
   {
    "duration": 8,
    "start_time": "2022-01-10T14:15:23.845Z"
   },
   {
    "duration": 10,
    "start_time": "2022-01-10T16:46:57.778Z"
   },
   {
    "duration": 7,
    "start_time": "2022-01-10T16:47:00.042Z"
   },
   {
    "duration": 6,
    "start_time": "2022-01-10T16:55:03.342Z"
   },
   {
    "duration": 18,
    "start_time": "2022-01-10T16:55:16.551Z"
   },
   {
    "duration": 6,
    "start_time": "2022-01-10T16:55:28.047Z"
   },
   {
    "duration": 17,
    "start_time": "2022-01-10T16:55:39.345Z"
   },
   {
    "duration": 8,
    "start_time": "2022-01-10T16:59:38.715Z"
   },
   {
    "duration": 21,
    "start_time": "2022-01-10T16:59:49.036Z"
   },
   {
    "duration": 206,
    "start_time": "2022-01-10T16:59:57.385Z"
   },
   {
    "duration": 70,
    "start_time": "2022-01-10T17:00:14.156Z"
   },
   {
    "duration": 11,
    "start_time": "2022-01-10T17:00:21.497Z"
   },
   {
    "duration": 10,
    "start_time": "2022-01-10T17:02:34.921Z"
   },
   {
    "duration": 11,
    "start_time": "2022-01-10T17:03:38.641Z"
   },
   {
    "duration": 6,
    "start_time": "2022-01-10T17:04:53.109Z"
   },
   {
    "duration": 7,
    "start_time": "2022-01-10T17:05:09.874Z"
   },
   {
    "duration": 220,
    "start_time": "2022-01-10T17:06:56.917Z"
   },
   {
    "duration": 208,
    "start_time": "2022-01-10T17:07:03.401Z"
   },
   {
    "duration": 210,
    "start_time": "2022-01-10T17:07:15.449Z"
   },
   {
    "duration": 6,
    "start_time": "2022-01-10T17:09:03.201Z"
   },
   {
    "duration": 32,
    "start_time": "2022-01-10T17:22:53.174Z"
   },
   {
    "duration": 5,
    "start_time": "2022-01-10T17:23:47.694Z"
   },
   {
    "duration": 4,
    "start_time": "2022-01-10T17:24:03.435Z"
   },
   {
    "duration": 16,
    "start_time": "2022-01-10T17:33:16.050Z"
   },
   {
    "duration": 4,
    "start_time": "2022-01-10T17:36:18.108Z"
   },
   {
    "duration": 5,
    "start_time": "2022-01-10T17:36:47.516Z"
   },
   {
    "duration": 11,
    "start_time": "2022-01-10T17:37:02.538Z"
   },
   {
    "duration": 10,
    "start_time": "2022-01-10T17:37:17.558Z"
   },
   {
    "duration": 8,
    "start_time": "2022-01-10T17:37:33.329Z"
   },
   {
    "duration": 8,
    "start_time": "2022-01-10T17:40:08.053Z"
   },
   {
    "duration": 3,
    "start_time": "2022-01-10T17:40:26.198Z"
   },
   {
    "duration": 8,
    "start_time": "2022-01-10T17:40:39.857Z"
   },
   {
    "duration": 167,
    "start_time": "2022-01-10T17:41:12.985Z"
   },
   {
    "duration": 5785,
    "start_time": "2022-01-10T17:41:26.042Z"
   },
   {
    "duration": 156,
    "start_time": "2022-01-10T17:41:31.673Z"
   },
   {
    "duration": 8,
    "start_time": "2022-01-10T17:41:40.972Z"
   },
   {
    "duration": 9,
    "start_time": "2022-01-10T17:47:39.256Z"
   },
   {
    "duration": 5,
    "start_time": "2022-01-10T17:48:49.153Z"
   },
   {
    "duration": 214,
    "start_time": "2022-01-10T17:50:42.660Z"
   },
   {
    "duration": 8,
    "start_time": "2022-01-10T17:50:58.720Z"
   },
   {
    "duration": 8,
    "start_time": "2022-01-10T17:51:33.333Z"
   },
   {
    "duration": 9,
    "start_time": "2022-01-10T17:52:04.324Z"
   },
   {
    "duration": 3,
    "start_time": "2022-01-10T18:06:35.770Z"
   },
   {
    "duration": 199,
    "start_time": "2022-01-10T18:06:35.775Z"
   },
   {
    "duration": 156,
    "start_time": "2022-01-10T18:06:35.976Z"
   },
   {
    "duration": 111,
    "start_time": "2022-01-10T18:06:36.134Z"
   },
   {
    "duration": 26,
    "start_time": "2022-01-10T18:06:36.246Z"
   },
   {
    "duration": 42,
    "start_time": "2022-01-10T18:06:36.274Z"
   },
   {
    "duration": 62,
    "start_time": "2022-01-10T18:06:36.318Z"
   },
   {
    "duration": 60,
    "start_time": "2022-01-10T18:06:36.382Z"
   },
   {
    "duration": 31,
    "start_time": "2022-01-10T18:06:36.444Z"
   },
   {
    "duration": 4,
    "start_time": "2022-01-10T18:06:36.477Z"
   },
   {
    "duration": 60,
    "start_time": "2022-01-10T18:06:36.483Z"
   },
   {
    "duration": 33,
    "start_time": "2022-01-10T18:06:36.545Z"
   },
   {
    "duration": 24,
    "start_time": "2022-01-10T18:06:36.580Z"
   },
   {
    "duration": 51,
    "start_time": "2022-01-10T18:06:36.606Z"
   },
   {
    "duration": 33,
    "start_time": "2022-01-10T18:06:36.659Z"
   },
   {
    "duration": 8,
    "start_time": "2022-01-10T18:06:36.694Z"
   },
   {
    "duration": 26,
    "start_time": "2022-01-10T18:06:36.703Z"
   },
   {
    "duration": 2137,
    "start_time": "2022-01-10T18:06:36.731Z"
   },
   {
    "duration": 15,
    "start_time": "2022-01-10T18:06:38.871Z"
   },
   {
    "duration": 17,
    "start_time": "2022-01-10T18:06:38.888Z"
   },
   {
    "duration": 8,
    "start_time": "2022-01-10T18:06:38.906Z"
   },
   {
    "duration": 41,
    "start_time": "2022-01-10T18:06:38.915Z"
   },
   {
    "duration": 7,
    "start_time": "2022-01-10T18:06:38.958Z"
   },
   {
    "duration": 4,
    "start_time": "2022-01-10T18:06:38.966Z"
   },
   {
    "duration": 7,
    "start_time": "2022-01-10T18:06:38.972Z"
   },
   {
    "duration": 7,
    "start_time": "2022-01-10T18:06:38.980Z"
   },
   {
    "duration": 318,
    "start_time": "2022-01-10T18:06:38.988Z"
   },
   {
    "duration": 290,
    "start_time": "2022-01-10T18:06:39.308Z"
   },
   {
    "duration": 4,
    "start_time": "2022-01-10T18:06:39.600Z"
   },
   {
    "duration": 11,
    "start_time": "2022-01-10T18:06:39.606Z"
   },
   {
    "duration": 9,
    "start_time": "2022-01-10T18:06:39.618Z"
   },
   {
    "duration": 301,
    "start_time": "2022-01-10T18:06:39.629Z"
   },
   {
    "duration": 273,
    "start_time": "2022-01-10T18:06:39.932Z"
   },
   {
    "duration": 5,
    "start_time": "2022-01-10T18:06:40.206Z"
   },
   {
    "duration": 10,
    "start_time": "2022-01-10T18:06:40.213Z"
   },
   {
    "duration": 18,
    "start_time": "2022-01-10T18:06:40.224Z"
   },
   {
    "duration": 302,
    "start_time": "2022-01-10T18:06:40.243Z"
   },
   {
    "duration": 288,
    "start_time": "2022-01-10T18:06:40.546Z"
   },
   {
    "duration": 9,
    "start_time": "2022-01-10T18:06:40.835Z"
   },
   {
    "duration": 7,
    "start_time": "2022-01-10T18:06:40.846Z"
   },
   {
    "duration": 13,
    "start_time": "2022-01-10T18:06:40.855Z"
   },
   {
    "duration": 6,
    "start_time": "2022-01-10T18:06:40.869Z"
   },
   {
    "duration": 1205,
    "start_time": "2022-01-12T06:16:55.460Z"
   },
   {
    "duration": 249,
    "start_time": "2022-01-12T06:16:56.668Z"
   },
   {
    "duration": 227,
    "start_time": "2022-01-12T06:16:56.921Z"
   },
   {
    "duration": 149,
    "start_time": "2022-01-12T06:16:57.150Z"
   },
   {
    "duration": 31,
    "start_time": "2022-01-12T06:16:57.301Z"
   },
   {
    "duration": 48,
    "start_time": "2022-01-12T06:16:57.334Z"
   },
   {
    "duration": 112,
    "start_time": "2022-01-12T06:16:57.385Z"
   },
   {
    "duration": 84,
    "start_time": "2022-01-12T06:16:57.501Z"
   },
   {
    "duration": 58,
    "start_time": "2022-01-12T06:16:57.588Z"
   },
   {
    "duration": 5,
    "start_time": "2022-01-12T06:16:57.649Z"
   },
   {
    "duration": 71,
    "start_time": "2022-01-12T06:16:57.657Z"
   },
   {
    "duration": 45,
    "start_time": "2022-01-12T06:16:57.730Z"
   },
   {
    "duration": 60,
    "start_time": "2022-01-12T06:16:57.778Z"
   },
   {
    "duration": 77,
    "start_time": "2022-01-12T06:16:57.840Z"
   },
   {
    "duration": 38,
    "start_time": "2022-01-12T06:16:57.919Z"
   },
   {
    "duration": 12,
    "start_time": "2022-01-12T06:16:57.960Z"
   },
   {
    "duration": 55,
    "start_time": "2022-01-12T06:16:57.974Z"
   },
   {
    "duration": 4550,
    "start_time": "2022-01-12T06:16:58.032Z"
   },
   {
    "duration": 33,
    "start_time": "2022-01-12T06:17:02.584Z"
   },
   {
    "duration": 27,
    "start_time": "2022-01-12T06:17:02.620Z"
   },
   {
    "duration": 15,
    "start_time": "2022-01-12T06:17:02.650Z"
   },
   {
    "duration": 64,
    "start_time": "2022-01-12T06:17:02.668Z"
   },
   {
    "duration": 11,
    "start_time": "2022-01-12T06:17:02.738Z"
   },
   {
    "duration": 7,
    "start_time": "2022-01-12T06:17:02.752Z"
   },
   {
    "duration": 11,
    "start_time": "2022-01-12T06:17:02.761Z"
   },
   {
    "duration": 44,
    "start_time": "2022-01-12T06:17:02.774Z"
   },
   {
    "duration": 769,
    "start_time": "2022-01-12T06:17:02.821Z"
   },
   {
    "duration": 509,
    "start_time": "2022-01-12T06:17:03.593Z"
   },
   {
    "duration": 12,
    "start_time": "2022-01-12T06:17:04.105Z"
   },
   {
    "duration": 10,
    "start_time": "2022-01-12T06:17:04.119Z"
   },
   {
    "duration": 10,
    "start_time": "2022-01-12T06:17:04.131Z"
   },
   {
    "duration": 508,
    "start_time": "2022-01-12T06:17:04.143Z"
   },
   {
    "duration": 581,
    "start_time": "2022-01-12T06:17:04.654Z"
   },
   {
    "duration": 6,
    "start_time": "2022-01-12T06:17:05.238Z"
   },
   {
    "duration": 14,
    "start_time": "2022-01-12T06:17:05.246Z"
   },
   {
    "duration": 32,
    "start_time": "2022-01-12T06:17:05.263Z"
   },
   {
    "duration": 555,
    "start_time": "2022-01-12T06:17:05.297Z"
   },
   {
    "duration": 483,
    "start_time": "2022-01-12T06:17:05.854Z"
   },
   {
    "duration": 7,
    "start_time": "2022-01-12T06:17:06.339Z"
   },
   {
    "duration": 11,
    "start_time": "2022-01-12T06:17:06.348Z"
   },
   {
    "duration": 18,
    "start_time": "2022-01-12T06:17:06.362Z"
   },
   {
    "duration": 42,
    "start_time": "2022-01-12T06:17:06.382Z"
   },
   {
    "duration": 623,
    "start_time": "2022-01-12T07:06:30.935Z"
   },
   {
    "duration": 325,
    "start_time": "2022-01-12T07:06:34.527Z"
   },
   {
    "duration": 13,
    "start_time": "2022-01-12T07:06:36.864Z"
   },
   {
    "duration": 126,
    "start_time": "2022-01-12T07:07:02.173Z"
   },
   {
    "duration": 326,
    "start_time": "2022-01-12T07:07:05.165Z"
   },
   {
    "duration": 35,
    "start_time": "2022-01-12T07:07:13.252Z"
   },
   {
    "duration": 36,
    "start_time": "2022-01-12T07:07:58.694Z"
   },
   {
    "duration": 374,
    "start_time": "2022-01-12T13:37:25.709Z"
   },
   {
    "duration": 957,
    "start_time": "2022-01-12T13:37:32.484Z"
   },
   {
    "duration": 196,
    "start_time": "2022-01-12T13:37:33.442Z"
   },
   {
    "duration": 176,
    "start_time": "2022-01-12T13:37:35.011Z"
   },
   {
    "duration": 111,
    "start_time": "2022-01-12T13:37:38.439Z"
   },
   {
    "duration": 25,
    "start_time": "2022-01-12T13:37:40.783Z"
   },
   {
    "duration": 42,
    "start_time": "2022-01-12T13:37:42.666Z"
   },
   {
    "duration": 331,
    "start_time": "2022-01-12T13:37:48.967Z"
   },
   {
    "duration": 331,
    "start_time": "2022-01-12T13:37:56.489Z"
   },
   {
    "duration": 34,
    "start_time": "2022-01-12T13:39:12.300Z"
   },
   {
    "duration": 33,
    "start_time": "2022-01-12T13:39:17.735Z"
   },
   {
    "duration": 53,
    "start_time": "2022-01-12T13:39:19.780Z"
   },
   {
    "duration": 32,
    "start_time": "2022-01-12T13:39:21.043Z"
   },
   {
    "duration": 4,
    "start_time": "2022-01-12T13:39:22.717Z"
   },
   {
    "duration": 38,
    "start_time": "2022-01-12T13:39:26.405Z"
   },
   {
    "duration": 33,
    "start_time": "2022-01-12T13:41:04.150Z"
   },
   {
    "duration": 26,
    "start_time": "2022-01-12T13:41:05.242Z"
   },
   {
    "duration": 36,
    "start_time": "2022-01-12T13:41:06.410Z"
   },
   {
    "duration": 29,
    "start_time": "2022-01-12T13:41:08.998Z"
   },
   {
    "duration": 9,
    "start_time": "2022-01-12T13:41:09.719Z"
   },
   {
    "duration": 17,
    "start_time": "2022-01-12T13:41:10.110Z"
   },
   {
    "duration": 2571,
    "start_time": "2022-01-12T13:41:10.625Z"
   },
   {
    "duration": 28,
    "start_time": "2022-01-12T13:41:13.200Z"
   },
   {
    "duration": 2,
    "start_time": "2022-01-12T13:41:20.448Z"
   },
   {
    "duration": 174,
    "start_time": "2022-01-12T13:41:21.161Z"
   },
   {
    "duration": 149,
    "start_time": "2022-01-12T13:41:22.615Z"
   },
   {
    "duration": 105,
    "start_time": "2022-01-12T13:41:23.927Z"
   },
   {
    "duration": 25,
    "start_time": "2022-01-12T13:41:25.096Z"
   },
   {
    "duration": 40,
    "start_time": "2022-01-12T13:41:26.136Z"
   },
   {
    "duration": 58,
    "start_time": "2022-01-12T13:41:28.540Z"
   },
   {
    "duration": 53,
    "start_time": "2022-01-12T13:41:29.236Z"
   },
   {
    "duration": 32,
    "start_time": "2022-01-12T13:41:29.933Z"
   },
   {
    "duration": 5,
    "start_time": "2022-01-12T13:41:30.631Z"
   },
   {
    "duration": 32,
    "start_time": "2022-01-12T13:41:34.846Z"
   },
   {
    "duration": 30,
    "start_time": "2022-01-12T13:41:37.269Z"
   },
   {
    "duration": 26,
    "start_time": "2022-01-12T13:41:39.675Z"
   },
   {
    "duration": 30,
    "start_time": "2022-01-12T13:41:41.911Z"
   },
   {
    "duration": 25,
    "start_time": "2022-01-12T13:41:45.851Z"
   },
   {
    "duration": 8,
    "start_time": "2022-01-12T13:41:47.406Z"
   },
   {
    "duration": 15,
    "start_time": "2022-01-12T13:41:48.085Z"
   },
   {
    "duration": 2431,
    "start_time": "2022-01-12T13:41:49.643Z"
   },
   {
    "duration": 18,
    "start_time": "2022-01-12T13:41:56.433Z"
   },
   {
    "duration": 19,
    "start_time": "2022-01-12T13:42:01.214Z"
   },
   {
    "duration": 8,
    "start_time": "2022-01-12T13:42:03.656Z"
   },
   {
    "duration": 19,
    "start_time": "2022-01-12T13:42:04.117Z"
   },
   {
    "duration": 9,
    "start_time": "2022-01-12T13:42:04.503Z"
   },
   {
    "duration": 4,
    "start_time": "2022-01-12T13:42:05.718Z"
   },
   {
    "duration": 6,
    "start_time": "2022-01-12T13:42:06.082Z"
   },
   {
    "duration": 4,
    "start_time": "2022-01-12T13:42:06.562Z"
   },
   {
    "duration": 473,
    "start_time": "2022-01-12T13:42:07.009Z"
   },
   {
    "duration": 331,
    "start_time": "2022-01-12T13:42:07.518Z"
   },
   {
    "duration": 6,
    "start_time": "2022-01-12T13:42:13.784Z"
   },
   {
    "duration": 6,
    "start_time": "2022-01-12T13:42:14.098Z"
   },
   {
    "duration": 4,
    "start_time": "2022-01-12T13:42:14.415Z"
   },
   {
    "duration": 339,
    "start_time": "2022-01-12T13:42:15.010Z"
   },
   {
    "duration": 324,
    "start_time": "2022-01-12T13:42:15.458Z"
   },
   {
    "duration": 6,
    "start_time": "2022-01-12T13:42:18.401Z"
   },
   {
    "duration": 6,
    "start_time": "2022-01-12T13:42:18.713Z"
   },
   {
    "duration": 4,
    "start_time": "2022-01-12T13:42:19.009Z"
   },
   {
    "duration": 337,
    "start_time": "2022-01-12T13:42:19.318Z"
   },
   {
    "duration": 324,
    "start_time": "2022-01-12T13:42:19.842Z"
   },
   {
    "duration": 5,
    "start_time": "2022-01-12T13:42:27.716Z"
   },
   {
    "duration": 647,
    "start_time": "2022-01-12T13:48:10.234Z"
   },
   {
    "duration": 383,
    "start_time": "2022-01-12T13:49:06.557Z"
   },
   {
    "duration": 4,
    "start_time": "2022-01-12T13:49:19.123Z"
   },
   {
    "duration": 375,
    "start_time": "2022-01-12T13:49:19.615Z"
   },
   {
    "duration": 5,
    "start_time": "2022-01-12T13:50:13.804Z"
   },
   {
    "duration": 5,
    "start_time": "2022-01-12T13:51:44.042Z"
   },
   {
    "duration": 220,
    "start_time": "2022-01-12T13:52:59.608Z"
   },
   {
    "duration": 11,
    "start_time": "2022-01-12T13:53:04.372Z"
   },
   {
    "duration": 350,
    "start_time": "2022-01-12T13:53:07.096Z"
   },
   {
    "duration": 5,
    "start_time": "2022-01-12T13:53:31.306Z"
   },
   {
    "duration": 5,
    "start_time": "2022-01-12T13:53:58.325Z"
   },
   {
    "duration": 952,
    "start_time": "2022-01-13T04:31:25.703Z"
   },
   {
    "duration": 179,
    "start_time": "2022-01-13T04:31:26.657Z"
   },
   {
    "duration": 157,
    "start_time": "2022-01-13T04:31:26.841Z"
   },
   {
    "duration": 115,
    "start_time": "2022-01-13T04:31:27.000Z"
   },
   {
    "duration": 26,
    "start_time": "2022-01-13T04:31:27.116Z"
   },
   {
    "duration": 43,
    "start_time": "2022-01-13T04:31:27.144Z"
   },
   {
    "duration": 65,
    "start_time": "2022-01-13T04:31:27.189Z"
   },
   {
    "duration": 56,
    "start_time": "2022-01-13T04:31:27.258Z"
   },
   {
    "duration": 45,
    "start_time": "2022-01-13T04:31:27.317Z"
   },
   {
    "duration": 5,
    "start_time": "2022-01-13T04:31:27.364Z"
   },
   {
    "duration": 39,
    "start_time": "2022-01-13T04:31:27.371Z"
   },
   {
    "duration": 55,
    "start_time": "2022-01-13T04:31:27.412Z"
   },
   {
    "duration": 25,
    "start_time": "2022-01-13T04:31:27.469Z"
   },
   {
    "duration": 61,
    "start_time": "2022-01-13T04:31:27.496Z"
   },
   {
    "duration": 26,
    "start_time": "2022-01-13T04:31:27.559Z"
   },
   {
    "duration": 8,
    "start_time": "2022-01-13T04:31:27.586Z"
   },
   {
    "duration": 14,
    "start_time": "2022-01-13T04:31:27.595Z"
   },
   {
    "duration": 2162,
    "start_time": "2022-01-13T04:31:27.611Z"
   },
   {
    "duration": 20,
    "start_time": "2022-01-13T04:31:29.775Z"
   },
   {
    "duration": 14,
    "start_time": "2022-01-13T04:31:29.796Z"
   },
   {
    "duration": 31,
    "start_time": "2022-01-13T04:31:29.812Z"
   },
   {
    "duration": 7,
    "start_time": "2022-01-13T04:31:29.844Z"
   },
   {
    "duration": 22,
    "start_time": "2022-01-13T04:31:29.854Z"
   },
   {
    "duration": 32,
    "start_time": "2022-01-13T04:31:29.878Z"
   },
   {
    "duration": 6,
    "start_time": "2022-01-13T04:31:29.912Z"
   },
   {
    "duration": 4,
    "start_time": "2022-01-13T04:31:29.919Z"
   },
   {
    "duration": 6,
    "start_time": "2022-01-13T04:31:29.925Z"
   },
   {
    "duration": 399,
    "start_time": "2022-01-13T04:31:29.933Z"
   },
   {
    "duration": 265,
    "start_time": "2022-01-13T04:31:30.334Z"
   },
   {
    "duration": 4,
    "start_time": "2022-01-13T04:31:30.601Z"
   },
   {
    "duration": 19,
    "start_time": "2022-01-13T04:31:30.606Z"
   },
   {
    "duration": 12,
    "start_time": "2022-01-13T04:31:30.626Z"
   },
   {
    "duration": 272,
    "start_time": "2022-01-13T04:31:30.640Z"
   },
   {
    "duration": 262,
    "start_time": "2022-01-13T04:31:30.914Z"
   },
   {
    "duration": 4,
    "start_time": "2022-01-13T04:31:31.178Z"
   },
   {
    "duration": 16,
    "start_time": "2022-01-13T04:31:31.184Z"
   },
   {
    "duration": 6,
    "start_time": "2022-01-13T04:31:31.201Z"
   },
   {
    "duration": 294,
    "start_time": "2022-01-13T04:31:31.209Z"
   },
   {
    "duration": 275,
    "start_time": "2022-01-13T04:31:31.505Z"
   },
   {
    "duration": 5,
    "start_time": "2022-01-13T04:31:31.781Z"
   },
   {
    "duration": 8,
    "start_time": "2022-01-13T04:31:31.787Z"
   },
   {
    "duration": 14,
    "start_time": "2022-01-13T04:31:31.796Z"
   },
   {
    "duration": 11,
    "start_time": "2022-01-13T04:31:31.811Z"
   }
  ],
  "kernelspec": {
   "display_name": "Python 3 (ipykernel)",
   "language": "python",
   "name": "python3"
  },
  "language_info": {
   "codemirror_mode": {
    "name": "ipython",
    "version": 3
   },
   "file_extension": ".py",
   "mimetype": "text/x-python",
   "name": "python",
   "nbconvert_exporter": "python",
   "pygments_lexer": "ipython3",
   "version": "3.9.5"
  },
  "toc": {
   "base_numbering": 1,
   "nav_menu": {},
   "number_sections": true,
   "sideBar": true,
   "skip_h1_title": true,
   "title_cell": "Table of Contents",
   "title_sidebar": "Contents",
   "toc_cell": false,
   "toc_position": {},
   "toc_section_display": true,
   "toc_window_display": true
  }
 },
 "nbformat": 4,
 "nbformat_minor": 2
}

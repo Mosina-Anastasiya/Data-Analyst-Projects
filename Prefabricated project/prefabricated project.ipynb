{
 "cells": [
  {
   "cell_type": "markdown",
   "metadata": {},
   "source": [
    "## Описание проекта\n"
   ]
  },
  {
   "cell_type": "markdown",
   "metadata": {},
   "source": [
    "\n",
    "Вы работаете в интернет-магазине «Стримчик», который продаёт по всему миру компьютерные игры. Из открытых источников доступны исторические данные о продажах игр, оценки пользователей и экспертов, жанры и платформы (например, Xbox или PlayStation). Вам нужно выявить определяющие успешность игры закономерности. Это позволит сделать ставку на потенциально популярный продукт и спланировать рекламные кампании.\n",
    "Перед вами данные до 2016 года. Представим, что сейчас декабрь 2016 г., и вы планируете кампанию на 2017-й. Нужно отработать принцип работы с данными. Неважно, прогнозируете ли вы продажи на 2017 год по данным 2016-го или же 2027-й — по данным 2026 года.\n",
    "В наборе данных попадается аббревиатура ESRB (Entertainment Software Rating Board) — это ассоциация, определяющая возрастной рейтинг компьютерных игр. ESRB оценивает игровой контент и присваивает ему подходящую возрастную категорию, например, «Для взрослых», «Для детей младшего возраста» или «Для подростков»."
   ]
  },
  {
   "cell_type": "markdown",
   "metadata": {
    "toc": true
   },
   "source": [
    "<h1>Cодержание<span class=\"tocSkip\"></span></h1>\n",
    "<div class=\"toc\"><ul class=\"toc-item\"><li><span><a href=\"#Описание-проекта\" data-toc-modified-id=\"Описание-проекта-1\"><span class=\"toc-item-num\">1&nbsp;&nbsp;</span>Описание проекта</a></span></li><li><span><a href=\"#Импорт-библиотек\" data-toc-modified-id=\"Импорт-библиотек-2\"><span class=\"toc-item-num\">2&nbsp;&nbsp;</span>Импорт библиотек</a></span></li><li><span><a href=\"#Открытие-файла-и-изучение-общей-информации\" data-toc-modified-id=\"Открытие-файла-и-изучение-общей-информации-3\"><span class=\"toc-item-num\">3&nbsp;&nbsp;</span>Открытие файла и изучение общей информации</a></span><ul class=\"toc-item\"><li><span><a href=\"#Вывод-по-общей-информации-файла\" data-toc-modified-id=\"Вывод-по-общей-информации-файла-3.1\"><span class=\"toc-item-num\">3.1&nbsp;&nbsp;</span>Вывод по общей информации файла</a></span></li></ul></li><li><span><a href=\"#Предобработка-данных\" data-toc-modified-id=\"Предобработка-данных-4\"><span class=\"toc-item-num\">4&nbsp;&nbsp;</span>Предобработка данных</a></span><ul class=\"toc-item\"><li><span><a href=\"#Заменяем-названия-столбцов\" data-toc-modified-id=\"Заменяем-названия-столбцов-4.1\"><span class=\"toc-item-num\">4.1&nbsp;&nbsp;</span>Заменяем названия столбцов</a></span></li><li><span><a href=\"#Преобразовываем-данные-в-нужный-тип\" data-toc-modified-id=\"Преобразовываем-данные-в-нужный-тип-4.2\"><span class=\"toc-item-num\">4.2&nbsp;&nbsp;</span>Преобразовываем данные в нужный тип</a></span></li><li><span><a href=\"#Вывод-по-преобразованиям-данных-в-нужный-тип\" data-toc-modified-id=\"Вывод-по-преобразованиям-данных-в-нужный-тип-4.3\"><span class=\"toc-item-num\">4.3&nbsp;&nbsp;</span>Вывод по преобразованиям данных в нужный тип</a></span></li><li><span><a href=\"#Обработка-пропусков\" data-toc-modified-id=\"Обработка-пропусков-4.4\"><span class=\"toc-item-num\">4.4&nbsp;&nbsp;</span>Обработка пропусков</a></span><ul class=\"toc-item\"><li><span><a href=\"#Обработка-пропусков-в-столбце-name\" data-toc-modified-id=\"Обработка-пропусков-в-столбце-name-4.4.1\"><span class=\"toc-item-num\">4.4.1&nbsp;&nbsp;</span>Обработка пропусков в столбце name</a></span></li><li><span><a href=\"#Обработка-пропусков-в-столбце-year-of-release\" data-toc-modified-id=\"Обработка-пропусков-в-столбце-year-of-release-4.4.2\"><span class=\"toc-item-num\">4.4.2&nbsp;&nbsp;</span>Обработка пропусков в столбце year of release</a></span></li><li><span><a href=\"#Обработка-пропусков-в-столбце-rating\" data-toc-modified-id=\"Обработка-пропусков-в-столбце-rating-4.4.3\"><span class=\"toc-item-num\">4.4.3&nbsp;&nbsp;</span>Обработка пропусков в столбце rating</a></span></li><li><span><a href=\"#Вывод-по-обработке-пропусков\" data-toc-modified-id=\"Вывод-по-обработке-пропусков-4.4.4\"><span class=\"toc-item-num\">4.4.4&nbsp;&nbsp;</span>Вывод по обработке пропусков</a></span></li></ul></li><li><span><a href=\"#Подсчитываем-суммарные-продажи-во-всех-регионах\" data-toc-modified-id=\"Подсчитываем-суммарные-продажи-во-всех-регионах-4.5\"><span class=\"toc-item-num\">4.5&nbsp;&nbsp;</span>Подсчитываем суммарные продажи во всех регионах</a></span></li></ul></li><li><span><a href=\"#Исследовательский-анализ\" data-toc-modified-id=\"Исследовательский-анализ-5\"><span class=\"toc-item-num\">5&nbsp;&nbsp;</span>Исследовательский анализ</a></span><ul class=\"toc-item\"><li><span><a href=\"#Смотрим,-сколько-игр-выпускалось-в-разные-годы\" data-toc-modified-id=\"Смотрим,-сколько-игр-выпускалось-в-разные-годы-5.1\"><span class=\"toc-item-num\">5.1&nbsp;&nbsp;</span>Смотрим, сколько игр выпускалось в разные годы</a></span></li><li><span><a href=\"#Смотрим-как-менялись-продажи-по-платформам\" data-toc-modified-id=\"Смотрим-как-менялись-продажи-по-платформам-5.2\"><span class=\"toc-item-num\">5.2&nbsp;&nbsp;</span>Смотрим как менялись продажи по платформам</a></span><ul class=\"toc-item\"><li><span><a href=\"#Анализ-изменения-продаж-по-платформе-PS2\" data-toc-modified-id=\"Анализ-изменения-продаж-по-платформе-PS2-5.2.1\"><span class=\"toc-item-num\">5.2.1&nbsp;&nbsp;</span>Анализ изменения продаж по платформе PS2</a></span></li><li><span><a href=\"#Анализ-изменения-продаж-по-платформе-X360\" data-toc-modified-id=\"Анализ-изменения-продаж-по-платформе-X360-5.2.2\"><span class=\"toc-item-num\">5.2.2&nbsp;&nbsp;</span>Анализ изменения продаж по платформе X360</a></span></li><li><span><a href=\"#Анализ-изменения-продаж-по-платформе-PS3\" data-toc-modified-id=\"Анализ-изменения-продаж-по-платформе-PS3-5.2.3\"><span class=\"toc-item-num\">5.2.3&nbsp;&nbsp;</span>Анализ изменения продаж по платформе PS3</a></span></li><li><span><a href=\"#Общий-вывод-по-изменениям-продаж-по-платформам\" data-toc-modified-id=\"Общий-вывод-по-изменениям-продаж-по-платформам-5.2.4\"><span class=\"toc-item-num\">5.2.4&nbsp;&nbsp;</span>Общий вывод по изменениям продаж по платформам</a></span></li></ul></li><li><span><a href=\"#Выбираем-несколько-потенциально-прибыльных-платформ-за-актуальный-период\" data-toc-modified-id=\"Выбираем-несколько-потенциально-прибыльных-платформ-за-актуальный-период-5.3\"><span class=\"toc-item-num\">5.3&nbsp;&nbsp;</span>Выбираем несколько потенциально прибыльных платформ за актуальный период</a></span><ul class=\"toc-item\"><li><span><a href=\"#Общий-вывод-по-нескольким-прибыльным-платформам\" data-toc-modified-id=\"Общий-вывод-по-нескольким-прибыльным-платформам-5.3.1\"><span class=\"toc-item-num\">5.3.1&nbsp;&nbsp;</span>Общий вывод по нескольким прибыльным платформам</a></span></li></ul></li><li><span><a href=\"#Диаграмма-размаха-по-глобальным-продажам-в-разбивке-по-платформам\" data-toc-modified-id=\"Диаграмма-размаха-по-глобальным-продажам-в-разбивке-по-платформам-5.4\"><span class=\"toc-item-num\">5.4&nbsp;&nbsp;</span>Диаграмма размаха по глобальным продажам в разбивке по платформам</a></span><ul class=\"toc-item\"><li><span><a href=\"#Вывод\" data-toc-modified-id=\"Вывод-5.4.1\"><span class=\"toc-item-num\">5.4.1&nbsp;&nbsp;</span>Вывод</a></span></li></ul></li><li><span><a href=\"#Влияние-отзывов-пользователей-и-критиков-на-продажи-PS4\" data-toc-modified-id=\"Влияние-отзывов-пользователей-и-критиков-на-продажи-PS4-5.5\"><span class=\"toc-item-num\">5.5&nbsp;&nbsp;</span>Влияние отзывов пользователей и критиков на продажи PS4</a></span><ul class=\"toc-item\"><li><span><a href=\"#Влияние-оценки-критиков-на-продажи\" data-toc-modified-id=\"Влияние-оценки-критиков-на-продажи-5.5.1\"><span class=\"toc-item-num\">5.5.1&nbsp;&nbsp;</span>Влияние оценки критиков на продажи</a></span></li><li><span><a href=\"#Влияние-оценки-пользователей-на-продажи\" data-toc-modified-id=\"Влияние-оценки-пользователей-на-продажи-5.5.2\"><span class=\"toc-item-num\">5.5.2&nbsp;&nbsp;</span>Влияние оценки пользователей на продажи</a></span></li><li><span><a href=\"#Общий-вывод-по-влиянию-отзывов-пользователей-и-критиков-на-продажи\" data-toc-modified-id=\"Общий-вывод-по-влиянию-отзывов-пользователей-и-критиков-на-продажи-5.5.3\"><span class=\"toc-item-num\">5.5.3&nbsp;&nbsp;</span>Общий вывод по влиянию отзывов пользователей и критиков на продажи</a></span></li></ul></li><li><span><a href=\"#Соотношение-выводов-с-продажами-игр-на-других-платформах\" data-toc-modified-id=\"Соотношение-выводов-с-продажами-игр-на-других-платформах-5.6\"><span class=\"toc-item-num\">5.6&nbsp;&nbsp;</span>Соотношение выводов с продажами игр на других платформах</a></span><ul class=\"toc-item\"><li><span><a href=\"#Вывод\" data-toc-modified-id=\"Вывод-5.6.1\"><span class=\"toc-item-num\">5.6.1&nbsp;&nbsp;</span>Вывод</a></span></li></ul></li><li><span><a href=\"#Общее-распределение-игр-по-жанрам\" data-toc-modified-id=\"Общее-распределение-игр-по-жанрам-5.7\"><span class=\"toc-item-num\">5.7&nbsp;&nbsp;</span>Общее распределение игр по жанрам</a></span></li></ul></li><li><span><a href=\"#Портрет-пользователя-по-каждому-региону\" data-toc-modified-id=\"Портрет-пользователя-по-каждому-региону-6\"><span class=\"toc-item-num\">6&nbsp;&nbsp;</span>Портрет пользователя по каждому региону</a></span><ul class=\"toc-item\"><li><span><a href=\"#Топ-5-платформ-по-регионам-(NA,-EU,-JP)\" data-toc-modified-id=\"Топ-5-платформ-по-регионам-(NA,-EU,-JP)-6.1\"><span class=\"toc-item-num\">6.1&nbsp;&nbsp;</span>Топ 5 платформ по регионам (NA, EU, JP)</a></span><ul class=\"toc-item\"><li><span><a href=\"#Топ-5-платформ-в-Северной-Америке-(NA)\" data-toc-modified-id=\"Топ-5-платформ-в-Северной-Америке-(NA)-6.1.1\"><span class=\"toc-item-num\">6.1.1&nbsp;&nbsp;</span>Топ 5 платформ в Северной Америке (NA)</a></span></li><li><span><a href=\"#Топ-5-платформ-Восточной-Европы-(EU)\" data-toc-modified-id=\"Топ-5-платформ-Восточной-Европы-(EU)-6.1.2\"><span class=\"toc-item-num\">6.1.2&nbsp;&nbsp;</span>Топ 5 платформ Восточной Европы (EU)</a></span></li><li><span><a href=\"#Топ-5-платформ-Японии-(JP)\" data-toc-modified-id=\"Топ-5-платформ-Японии-(JP)-6.1.3\"><span class=\"toc-item-num\">6.1.3&nbsp;&nbsp;</span>Топ 5 платформ Японии (JP)</a></span></li><li><span><a href=\"#Промежуточный-вывод-по-топ-5-платформам-по-регионам\" data-toc-modified-id=\"Промежуточный-вывод-по-топ-5-платформам-по-регионам-6.1.4\"><span class=\"toc-item-num\">6.1.4&nbsp;&nbsp;</span>Промежуточный вывод по топ 5 платформам по регионам</a></span></li></ul></li><li><span><a href=\"#Топ-5-жанров-по-регионам-(NA,-EU,-JP)\" data-toc-modified-id=\"Топ-5-жанров-по-регионам-(NA,-EU,-JP)-6.2\"><span class=\"toc-item-num\">6.2&nbsp;&nbsp;</span>Топ 5 жанров по регионам (NA, EU, JP)</a></span><ul class=\"toc-item\"><li><span><a href=\"#Топ-5-жанров-по-Северной-Америке-(NA)\" data-toc-modified-id=\"Топ-5-жанров-по-Северной-Америке-(NA)-6.2.1\"><span class=\"toc-item-num\">6.2.1&nbsp;&nbsp;</span>Топ 5 жанров по Северной Америке (NA)</a></span></li><li><span><a href=\"#Топ-5-жанров-по-Восточной-Европе-(EU)\" data-toc-modified-id=\"Топ-5-жанров-по-Восточной-Европе-(EU)-6.2.2\"><span class=\"toc-item-num\">6.2.2&nbsp;&nbsp;</span>Топ 5 жанров по Восточной Европе (EU)</a></span></li><li><span><a href=\"#Топ-5-жанров-по-Японии\" data-toc-modified-id=\"Топ-5-жанров-по-Японии-6.2.3\"><span class=\"toc-item-num\">6.2.3&nbsp;&nbsp;</span>Топ 5 жанров по Японии</a></span></li><li><span><a href=\"#Промежуточный-вывод-по-топ-5-жанрам-по-регионам\" data-toc-modified-id=\"Промежуточный-вывод-по-топ-5-жанрам-по-регионам-6.2.4\"><span class=\"toc-item-num\">6.2.4&nbsp;&nbsp;</span>Промежуточный вывод по топ 5 жанрам по регионам</a></span></li></ul></li><li><span><a href=\"#Влияние-рейтинга-ESRB-на-продажи-в-отдельном-регионе\" data-toc-modified-id=\"Влияние-рейтинга-ESRB-на-продажи-в-отдельном-регионе-6.3\"><span class=\"toc-item-num\">6.3&nbsp;&nbsp;</span>Влияние рейтинга ESRB на продажи в отдельном регионе</a></span></li></ul></li><li><span><a href=\"#Проверка-гипотез\" data-toc-modified-id=\"Проверка-гипотез-7\"><span class=\"toc-item-num\">7&nbsp;&nbsp;</span>Проверка гипотез</a></span><ul class=\"toc-item\"><li><span><a href=\"#Проверяем-гипотезу,-что-средние-пользовательские-рейтинги-платформ-Xbox-One-и-PC-одинаковые\" data-toc-modified-id=\"Проверяем-гипотезу,-что-средние-пользовательские-рейтинги-платформ-Xbox-One-и-PC-одинаковые-7.1\"><span class=\"toc-item-num\">7.1&nbsp;&nbsp;</span>Проверяем гипотезу, что средние пользовательские рейтинги платформ Xbox One и PC одинаковые</a></span><ul class=\"toc-item\"><li><span><a href=\"#Вывод-о-проверке-гипотезы\" data-toc-modified-id=\"Вывод-о-проверке-гипотезы-7.1.1\"><span class=\"toc-item-num\">7.1.1&nbsp;&nbsp;</span>Вывод о проверке гипотезы</a></span></li></ul></li><li><span><a href=\"#Проверяем-гипотезу,-что-средние-пользовательские-рейтинги-жанров-Action--и-Sports-разные.\" data-toc-modified-id=\"Проверяем-гипотезу,-что-средние-пользовательские-рейтинги-жанров-Action--и-Sports-разные.-7.2\"><span class=\"toc-item-num\">7.2&nbsp;&nbsp;</span>Проверяем гипотезу, что средние пользовательские рейтинги жанров Action  и Sports разные.</a></span><ul class=\"toc-item\"><li><span><a href=\"#Вывод-о-проверке-гипотезы\" data-toc-modified-id=\"Вывод-о-проверке-гипотезы-7.2.1\"><span class=\"toc-item-num\">7.2.1&nbsp;&nbsp;</span>Вывод о проверке гипотезы</a></span></li></ul></li></ul></li><li><span><a href=\"#Общий-вывод\" data-toc-modified-id=\"Общий-вывод-8\"><span class=\"toc-item-num\">8&nbsp;&nbsp;</span>Общий вывод</a></span></li></ul></div>"
   ]
  },
  {
   "cell_type": "markdown",
   "metadata": {},
   "source": [
    "## Импорт библиотек"
   ]
  },
  {
   "cell_type": "code",
   "execution_count": 1,
   "metadata": {},
   "outputs": [],
   "source": [
    "import pandas as pd\n",
    "import matplotlib.pyplot as plt\n",
    "from scipy import stats as st"
   ]
  },
  {
   "cell_type": "code",
   "execution_count": 2,
   "metadata": {},
   "outputs": [],
   "source": [
    "# отключим предупреждения\n",
    "import warnings\n",
    "warnings.filterwarnings('ignore')"
   ]
  },
  {
   "cell_type": "markdown",
   "metadata": {},
   "source": [
    "## Открытие файла и изучение общей информации"
   ]
  },
  {
   "cell_type": "code",
   "execution_count": 3,
   "metadata": {},
   "outputs": [
    {
     "data": {
      "text/html": [
       "<div>\n",
       "<style scoped>\n",
       "    .dataframe tbody tr th:only-of-type {\n",
       "        vertical-align: middle;\n",
       "    }\n",
       "\n",
       "    .dataframe tbody tr th {\n",
       "        vertical-align: top;\n",
       "    }\n",
       "\n",
       "    .dataframe thead th {\n",
       "        text-align: right;\n",
       "    }\n",
       "</style>\n",
       "<table border=\"1\" class=\"dataframe\">\n",
       "  <thead>\n",
       "    <tr style=\"text-align: right;\">\n",
       "      <th></th>\n",
       "      <th>Name</th>\n",
       "      <th>Platform</th>\n",
       "      <th>Year_of_Release</th>\n",
       "      <th>Genre</th>\n",
       "      <th>NA_sales</th>\n",
       "      <th>EU_sales</th>\n",
       "      <th>JP_sales</th>\n",
       "      <th>Other_sales</th>\n",
       "      <th>Critic_Score</th>\n",
       "      <th>User_Score</th>\n",
       "      <th>Rating</th>\n",
       "    </tr>\n",
       "  </thead>\n",
       "  <tbody>\n",
       "    <tr>\n",
       "      <td>0</td>\n",
       "      <td>Wii Sports</td>\n",
       "      <td>Wii</td>\n",
       "      <td>2006.0</td>\n",
       "      <td>Sports</td>\n",
       "      <td>41.36</td>\n",
       "      <td>28.96</td>\n",
       "      <td>3.77</td>\n",
       "      <td>8.45</td>\n",
       "      <td>76.0</td>\n",
       "      <td>8</td>\n",
       "      <td>E</td>\n",
       "    </tr>\n",
       "    <tr>\n",
       "      <td>1</td>\n",
       "      <td>Super Mario Bros.</td>\n",
       "      <td>NES</td>\n",
       "      <td>1985.0</td>\n",
       "      <td>Platform</td>\n",
       "      <td>29.08</td>\n",
       "      <td>3.58</td>\n",
       "      <td>6.81</td>\n",
       "      <td>0.77</td>\n",
       "      <td>NaN</td>\n",
       "      <td>NaN</td>\n",
       "      <td>NaN</td>\n",
       "    </tr>\n",
       "    <tr>\n",
       "      <td>2</td>\n",
       "      <td>Mario Kart Wii</td>\n",
       "      <td>Wii</td>\n",
       "      <td>2008.0</td>\n",
       "      <td>Racing</td>\n",
       "      <td>15.68</td>\n",
       "      <td>12.76</td>\n",
       "      <td>3.79</td>\n",
       "      <td>3.29</td>\n",
       "      <td>82.0</td>\n",
       "      <td>8.3</td>\n",
       "      <td>E</td>\n",
       "    </tr>\n",
       "    <tr>\n",
       "      <td>3</td>\n",
       "      <td>Wii Sports Resort</td>\n",
       "      <td>Wii</td>\n",
       "      <td>2009.0</td>\n",
       "      <td>Sports</td>\n",
       "      <td>15.61</td>\n",
       "      <td>10.93</td>\n",
       "      <td>3.28</td>\n",
       "      <td>2.95</td>\n",
       "      <td>80.0</td>\n",
       "      <td>8</td>\n",
       "      <td>E</td>\n",
       "    </tr>\n",
       "    <tr>\n",
       "      <td>4</td>\n",
       "      <td>Pokemon Red/Pokemon Blue</td>\n",
       "      <td>GB</td>\n",
       "      <td>1996.0</td>\n",
       "      <td>Role-Playing</td>\n",
       "      <td>11.27</td>\n",
       "      <td>8.89</td>\n",
       "      <td>10.22</td>\n",
       "      <td>1.00</td>\n",
       "      <td>NaN</td>\n",
       "      <td>NaN</td>\n",
       "      <td>NaN</td>\n",
       "    </tr>\n",
       "    <tr>\n",
       "      <td>...</td>\n",
       "      <td>...</td>\n",
       "      <td>...</td>\n",
       "      <td>...</td>\n",
       "      <td>...</td>\n",
       "      <td>...</td>\n",
       "      <td>...</td>\n",
       "      <td>...</td>\n",
       "      <td>...</td>\n",
       "      <td>...</td>\n",
       "      <td>...</td>\n",
       "      <td>...</td>\n",
       "    </tr>\n",
       "    <tr>\n",
       "      <td>16710</td>\n",
       "      <td>Samurai Warriors: Sanada Maru</td>\n",
       "      <td>PS3</td>\n",
       "      <td>2016.0</td>\n",
       "      <td>Action</td>\n",
       "      <td>0.00</td>\n",
       "      <td>0.00</td>\n",
       "      <td>0.01</td>\n",
       "      <td>0.00</td>\n",
       "      <td>NaN</td>\n",
       "      <td>NaN</td>\n",
       "      <td>NaN</td>\n",
       "    </tr>\n",
       "    <tr>\n",
       "      <td>16711</td>\n",
       "      <td>LMA Manager 2007</td>\n",
       "      <td>X360</td>\n",
       "      <td>2006.0</td>\n",
       "      <td>Sports</td>\n",
       "      <td>0.00</td>\n",
       "      <td>0.01</td>\n",
       "      <td>0.00</td>\n",
       "      <td>0.00</td>\n",
       "      <td>NaN</td>\n",
       "      <td>NaN</td>\n",
       "      <td>NaN</td>\n",
       "    </tr>\n",
       "    <tr>\n",
       "      <td>16712</td>\n",
       "      <td>Haitaka no Psychedelica</td>\n",
       "      <td>PSV</td>\n",
       "      <td>2016.0</td>\n",
       "      <td>Adventure</td>\n",
       "      <td>0.00</td>\n",
       "      <td>0.00</td>\n",
       "      <td>0.01</td>\n",
       "      <td>0.00</td>\n",
       "      <td>NaN</td>\n",
       "      <td>NaN</td>\n",
       "      <td>NaN</td>\n",
       "    </tr>\n",
       "    <tr>\n",
       "      <td>16713</td>\n",
       "      <td>Spirits &amp; Spells</td>\n",
       "      <td>GBA</td>\n",
       "      <td>2003.0</td>\n",
       "      <td>Platform</td>\n",
       "      <td>0.01</td>\n",
       "      <td>0.00</td>\n",
       "      <td>0.00</td>\n",
       "      <td>0.00</td>\n",
       "      <td>NaN</td>\n",
       "      <td>NaN</td>\n",
       "      <td>NaN</td>\n",
       "    </tr>\n",
       "    <tr>\n",
       "      <td>16714</td>\n",
       "      <td>Winning Post 8 2016</td>\n",
       "      <td>PSV</td>\n",
       "      <td>2016.0</td>\n",
       "      <td>Simulation</td>\n",
       "      <td>0.00</td>\n",
       "      <td>0.00</td>\n",
       "      <td>0.01</td>\n",
       "      <td>0.00</td>\n",
       "      <td>NaN</td>\n",
       "      <td>NaN</td>\n",
       "      <td>NaN</td>\n",
       "    </tr>\n",
       "  </tbody>\n",
       "</table>\n",
       "<p>16715 rows × 11 columns</p>\n",
       "</div>"
      ],
      "text/plain": [
       "                                Name Platform  Year_of_Release         Genre  \\\n",
       "0                         Wii Sports      Wii           2006.0        Sports   \n",
       "1                  Super Mario Bros.      NES           1985.0      Platform   \n",
       "2                     Mario Kart Wii      Wii           2008.0        Racing   \n",
       "3                  Wii Sports Resort      Wii           2009.0        Sports   \n",
       "4           Pokemon Red/Pokemon Blue       GB           1996.0  Role-Playing   \n",
       "...                              ...      ...              ...           ...   \n",
       "16710  Samurai Warriors: Sanada Maru      PS3           2016.0        Action   \n",
       "16711               LMA Manager 2007     X360           2006.0        Sports   \n",
       "16712        Haitaka no Psychedelica      PSV           2016.0     Adventure   \n",
       "16713               Spirits & Spells      GBA           2003.0      Platform   \n",
       "16714            Winning Post 8 2016      PSV           2016.0    Simulation   \n",
       "\n",
       "       NA_sales  EU_sales  JP_sales  Other_sales  Critic_Score User_Score  \\\n",
       "0         41.36     28.96      3.77         8.45          76.0          8   \n",
       "1         29.08      3.58      6.81         0.77           NaN        NaN   \n",
       "2         15.68     12.76      3.79         3.29          82.0        8.3   \n",
       "3         15.61     10.93      3.28         2.95          80.0          8   \n",
       "4         11.27      8.89     10.22         1.00           NaN        NaN   \n",
       "...         ...       ...       ...          ...           ...        ...   \n",
       "16710      0.00      0.00      0.01         0.00           NaN        NaN   \n",
       "16711      0.00      0.01      0.00         0.00           NaN        NaN   \n",
       "16712      0.00      0.00      0.01         0.00           NaN        NaN   \n",
       "16713      0.01      0.00      0.00         0.00           NaN        NaN   \n",
       "16714      0.00      0.00      0.01         0.00           NaN        NaN   \n",
       "\n",
       "      Rating  \n",
       "0          E  \n",
       "1        NaN  \n",
       "2          E  \n",
       "3          E  \n",
       "4        NaN  \n",
       "...      ...  \n",
       "16710    NaN  \n",
       "16711    NaN  \n",
       "16712    NaN  \n",
       "16713    NaN  \n",
       "16714    NaN  \n",
       "\n",
       "[16715 rows x 11 columns]"
      ]
     },
     "metadata": {},
     "output_type": "display_data"
    }
   ],
   "source": [
    "# открываем файл\n",
    "data = pd.read_csv('/datasets/games.csv')\n",
    "# выводим таблицу\n",
    "display(data)"
   ]
  },
  {
   "cell_type": "code",
   "execution_count": 4,
   "metadata": {},
   "outputs": [
    {
     "name": "stdout",
     "output_type": "stream",
     "text": [
      "<class 'pandas.core.frame.DataFrame'>\n",
      "RangeIndex: 16715 entries, 0 to 16714\n",
      "Data columns (total 11 columns):\n",
      "Name               16713 non-null object\n",
      "Platform           16715 non-null object\n",
      "Year_of_Release    16446 non-null float64\n",
      "Genre              16713 non-null object\n",
      "NA_sales           16715 non-null float64\n",
      "EU_sales           16715 non-null float64\n",
      "JP_sales           16715 non-null float64\n",
      "Other_sales        16715 non-null float64\n",
      "Critic_Score       8137 non-null float64\n",
      "User_Score         10014 non-null object\n",
      "Rating             9949 non-null object\n",
      "dtypes: float64(6), object(5)\n",
      "memory usage: 1.4+ MB\n"
     ]
    }
   ],
   "source": [
    "# выводим общую информацию по таблице\n",
    "data.info()"
   ]
  },
  {
   "cell_type": "markdown",
   "metadata": {},
   "source": [
    "### Вывод по общей информации файла"
   ]
  },
  {
   "cell_type": "markdown",
   "metadata": {},
   "source": [
    "Открыв файл мы получили таблицу, которая состоит из 11 колонок и 16 715 строк.\n",
    "\n",
    "Выведя общую информацию по таблицу с помощью команды info() мы видим, что в некоторых колонках имеются пропущенные значения, название колонок выглядят не корректно. Также, в таблице присутсвуют типы данных как : object(строки) и float64(числа с плавающей точкой)."
   ]
  },
  {
   "cell_type": "markdown",
   "metadata": {},
   "source": [
    "## Предобработка данных"
   ]
  },
  {
   "cell_type": "markdown",
   "metadata": {},
   "source": [
    "### Заменяем названия столбцов"
   ]
  },
  {
   "cell_type": "code",
   "execution_count": 5,
   "metadata": {},
   "outputs": [
    {
     "name": "stdout",
     "output_type": "stream",
     "text": [
      "Index(['name', 'platform', 'year_of_release', 'genre', 'na_sales', 'eu_sales',\n",
      "       'jp_sales', 'other_sales', 'critic_score', 'user_score', 'rating'],\n",
      "      dtype='object')\n"
     ]
    }
   ],
   "source": [
    "# приводим название столбцов к нижнему регистру\n",
    "data.columns = data.columns.str.lower()\n",
    "# выводим названия колонок для проверки\n",
    "print(data.columns)"
   ]
  },
  {
   "cell_type": "markdown",
   "metadata": {},
   "source": [
    "### Преобразовываем данные в нужный тип"
   ]
  },
  {
   "cell_type": "code",
   "execution_count": 6,
   "metadata": {},
   "outputs": [],
   "source": [
    "# преобразовываем столбец year_of_release\n",
    "data.loc[data['year_of_release'] == 'nan', 'year_of_release'] = float('nan')\n",
    "data['year_of_release'] = data['year_of_release'].astype(float)"
   ]
  },
  {
   "cell_type": "code",
   "execution_count": 7,
   "metadata": {},
   "outputs": [],
   "source": [
    "# преобразовываем столбец user_score в численный тип\n",
    "data.loc[data['user_score'] == 'tbd', 'user_score'] = float('nan')\n",
    "data['user_score'] = data['user_score'].astype(float)"
   ]
  },
  {
   "cell_type": "code",
   "execution_count": 8,
   "metadata": {},
   "outputs": [
    {
     "name": "stdout",
     "output_type": "stream",
     "text": [
      "<class 'pandas.core.frame.DataFrame'>\n",
      "RangeIndex: 16715 entries, 0 to 16714\n",
      "Data columns (total 11 columns):\n",
      "name               16713 non-null object\n",
      "platform           16715 non-null object\n",
      "year_of_release    16446 non-null float64\n",
      "genre              16713 non-null object\n",
      "na_sales           16715 non-null float64\n",
      "eu_sales           16715 non-null float64\n",
      "jp_sales           16715 non-null float64\n",
      "other_sales        16715 non-null float64\n",
      "critic_score       8137 non-null float64\n",
      "user_score         7590 non-null float64\n",
      "rating             9949 non-null object\n",
      "dtypes: float64(7), object(4)\n",
      "memory usage: 1.4+ MB\n"
     ]
    }
   ],
   "source": [
    "# проверяем\n",
    "data.info()"
   ]
  },
  {
   "cell_type": "markdown",
   "metadata": {},
   "source": [
    "### Вывод по преобразованиям данных в нужный тип"
   ]
  },
  {
   "cell_type": "markdown",
   "metadata": {},
   "source": [
    "Привела названия колонок к нижнему регистру. Заменила типы данных в столбцах year_of_release и user_score т.к. это необходимо для дальнейшей работы с данными из этих колонок."
   ]
  },
  {
   "cell_type": "markdown",
   "metadata": {},
   "source": [
    "### Обработка пропусков"
   ]
  },
  {
   "cell_type": "code",
   "execution_count": 9,
   "metadata": {},
   "outputs": [
    {
     "data": {
      "text/plain": [
       "name                  2\n",
       "platform              0\n",
       "year_of_release     269\n",
       "genre                 2\n",
       "na_sales              0\n",
       "eu_sales              0\n",
       "jp_sales              0\n",
       "other_sales           0\n",
       "critic_score       8578\n",
       "user_score         9125\n",
       "rating             6766\n",
       "dtype: int64"
      ]
     },
     "execution_count": 9,
     "metadata": {},
     "output_type": "execute_result"
    }
   ],
   "source": [
    "# ищем пропущенные значения в таблице\n",
    "data.isna().sum()"
   ]
  },
  {
   "cell_type": "markdown",
   "metadata": {},
   "source": [
    "#### Обработка пропусков в столбце name"
   ]
  },
  {
   "cell_type": "code",
   "execution_count": 10,
   "metadata": {},
   "outputs": [
    {
     "name": "stdout",
     "output_type": "stream",
     "text": [
      "Количество пропусков после удаления в колонке name: 0\n"
     ]
    }
   ],
   "source": [
    "# удаляем пропуки в колонке name\n",
    "data = data.dropna(subset=['name'])\n",
    "# проверяем\n",
    "print('Количество пропусков после удаления в колонке name:', data['name'].isna().sum())"
   ]
  },
  {
   "cell_type": "markdown",
   "metadata": {},
   "source": [
    "#### Обработка пропусков в столбце year of release"
   ]
  },
  {
   "cell_type": "code",
   "execution_count": 11,
   "metadata": {},
   "outputs": [
    {
     "name": "stdout",
     "output_type": "stream",
     "text": [
      "Количество пропусков после удаления в колонке year_of_release: 0\n"
     ]
    }
   ],
   "source": [
    "data = data.dropna(subset=['year_of_release'])\n",
    "# проверяем\n",
    "print('Количество пропусков после удаления в колонке year_of_release:', data['year_of_release'].isna().sum())"
   ]
  },
  {
   "cell_type": "markdown",
   "metadata": {},
   "source": [
    "#### Обработка пропусков в столбце rating"
   ]
  },
  {
   "cell_type": "code",
   "execution_count": 12,
   "metadata": {},
   "outputs": [],
   "source": [
    "# заменяем пропуски в столбце rating \n",
    "data['rating'] = data['rating'].fillna(value='undefined')\n"
   ]
  },
  {
   "cell_type": "code",
   "execution_count": 13,
   "metadata": {},
   "outputs": [
    {
     "name": "stdout",
     "output_type": "stream",
     "text": [
      "Количество пропусков после удаления в колонке rating: 0\n"
     ]
    }
   ],
   "source": [
    "# проверяем\n",
    "print('Количество пропусков после удаления в колонке rating:', data['rating'].isna().sum())"
   ]
  },
  {
   "cell_type": "code",
   "execution_count": 14,
   "metadata": {},
   "outputs": [
    {
     "data": {
      "text/plain": [
       "name                  0\n",
       "platform              0\n",
       "year_of_release       0\n",
       "genre                 0\n",
       "na_sales              0\n",
       "eu_sales              0\n",
       "jp_sales              0\n",
       "other_sales           0\n",
       "critic_score       8461\n",
       "user_score         8981\n",
       "rating                0\n",
       "dtype: int64"
      ]
     },
     "execution_count": 14,
     "metadata": {},
     "output_type": "execute_result"
    }
   ],
   "source": [
    "# проверяем пропуски после всех замен\n",
    "data.isna().sum()"
   ]
  },
  {
   "cell_type": "markdown",
   "metadata": {},
   "source": [
    "#### Вывод по обработке пропусков"
   ]
  },
  {
   "cell_type": "markdown",
   "metadata": {},
   "source": [
    "Методом isna() я посмотрела, в каких столбцах и в каком количестве мы имеем пропуски.\n",
    "\n",
    "С помощью метода dropna() я удалила строки с пропущенными значениями в колонках name и year_of_release. В первой и второй колонке пропусков мало, соответственно не было необходимости менять их на что-то. На дальнейший анализ это не повлияет.    \n",
    "\n",
    "В случае с колонками critic_score, user_score - было принято решение не заполнять пропуски. Менять данные на среднее или медианное значение - не корректно. Заменять нулями - идентично среднему или медиане. Думаю, что заполнение этих колонок может искажить результаты дальнейших исследований.\n",
    "\n",
    "В столбце rating пропущенные значения были заменены на undefined."
   ]
  },
  {
   "cell_type": "markdown",
   "metadata": {},
   "source": [
    "### Подсчитываем суммарные продажи во всех регионах"
   ]
  },
  {
   "cell_type": "code",
   "execution_count": 15,
   "metadata": {},
   "outputs": [],
   "source": [
    "# добавляем в новый столбец суммарные продажи во всех регионах\n",
    "data['total_sales'] = data['na_sales'] + data['eu_sales'] + data['jp_sales'] + data['other_sales']"
   ]
  },
  {
   "cell_type": "code",
   "execution_count": 16,
   "metadata": {},
   "outputs": [
    {
     "data": {
      "text/plain": [
       "0        82.54\n",
       "1        40.24\n",
       "2        35.52\n",
       "3        32.77\n",
       "4        31.38\n",
       "         ...  \n",
       "16710     0.01\n",
       "16711     0.01\n",
       "16712     0.01\n",
       "16713     0.01\n",
       "16714     0.01\n",
       "Name: total_sales, Length: 16444, dtype: float64"
      ]
     },
     "execution_count": 16,
     "metadata": {},
     "output_type": "execute_result"
    }
   ],
   "source": [
    "# проверяем новый столбец\n",
    "data['total_sales']"
   ]
  },
  {
   "cell_type": "markdown",
   "metadata": {},
   "source": [
    "## Исследовательский анализ"
   ]
  },
  {
   "cell_type": "markdown",
   "metadata": {},
   "source": [
    "### Смотрим, сколько игр выпускалось в разные годы"
   ]
  },
  {
   "cell_type": "code",
   "execution_count": 17,
   "metadata": {},
   "outputs": [
    {
     "data": {
      "text/html": [
       "<div>\n",
       "<style scoped>\n",
       "    .dataframe tbody tr th:only-of-type {\n",
       "        vertical-align: middle;\n",
       "    }\n",
       "\n",
       "    .dataframe tbody tr th {\n",
       "        vertical-align: top;\n",
       "    }\n",
       "\n",
       "    .dataframe thead th {\n",
       "        text-align: right;\n",
       "    }\n",
       "</style>\n",
       "<table border=\"1\" class=\"dataframe\">\n",
       "  <thead>\n",
       "    <tr style=\"text-align: right;\">\n",
       "      <th></th>\n",
       "      <th>number_games</th>\n",
       "    </tr>\n",
       "    <tr>\n",
       "      <th>year_of_release</th>\n",
       "      <th></th>\n",
       "    </tr>\n",
       "  </thead>\n",
       "  <tbody>\n",
       "    <tr>\n",
       "      <td>2008.0</td>\n",
       "      <td>1427</td>\n",
       "    </tr>\n",
       "    <tr>\n",
       "      <td>2009.0</td>\n",
       "      <td>1426</td>\n",
       "    </tr>\n",
       "    <tr>\n",
       "      <td>2010.0</td>\n",
       "      <td>1255</td>\n",
       "    </tr>\n",
       "    <tr>\n",
       "      <td>2007.0</td>\n",
       "      <td>1197</td>\n",
       "    </tr>\n",
       "    <tr>\n",
       "      <td>2011.0</td>\n",
       "      <td>1136</td>\n",
       "    </tr>\n",
       "    <tr>\n",
       "      <td>2006.0</td>\n",
       "      <td>1006</td>\n",
       "    </tr>\n",
       "    <tr>\n",
       "      <td>2005.0</td>\n",
       "      <td>939</td>\n",
       "    </tr>\n",
       "    <tr>\n",
       "      <td>2002.0</td>\n",
       "      <td>829</td>\n",
       "    </tr>\n",
       "    <tr>\n",
       "      <td>2003.0</td>\n",
       "      <td>775</td>\n",
       "    </tr>\n",
       "    <tr>\n",
       "      <td>2004.0</td>\n",
       "      <td>762</td>\n",
       "    </tr>\n",
       "    <tr>\n",
       "      <td>2012.0</td>\n",
       "      <td>653</td>\n",
       "    </tr>\n",
       "    <tr>\n",
       "      <td>2015.0</td>\n",
       "      <td>606</td>\n",
       "    </tr>\n",
       "    <tr>\n",
       "      <td>2014.0</td>\n",
       "      <td>581</td>\n",
       "    </tr>\n",
       "    <tr>\n",
       "      <td>2013.0</td>\n",
       "      <td>544</td>\n",
       "    </tr>\n",
       "    <tr>\n",
       "      <td>2016.0</td>\n",
       "      <td>502</td>\n",
       "    </tr>\n",
       "    <tr>\n",
       "      <td>2001.0</td>\n",
       "      <td>482</td>\n",
       "    </tr>\n",
       "    <tr>\n",
       "      <td>1998.0</td>\n",
       "      <td>379</td>\n",
       "    </tr>\n",
       "    <tr>\n",
       "      <td>2000.0</td>\n",
       "      <td>350</td>\n",
       "    </tr>\n",
       "    <tr>\n",
       "      <td>1999.0</td>\n",
       "      <td>338</td>\n",
       "    </tr>\n",
       "    <tr>\n",
       "      <td>1997.0</td>\n",
       "      <td>289</td>\n",
       "    </tr>\n",
       "    <tr>\n",
       "      <td>1996.0</td>\n",
       "      <td>263</td>\n",
       "    </tr>\n",
       "    <tr>\n",
       "      <td>1995.0</td>\n",
       "      <td>219</td>\n",
       "    </tr>\n",
       "    <tr>\n",
       "      <td>1994.0</td>\n",
       "      <td>121</td>\n",
       "    </tr>\n",
       "    <tr>\n",
       "      <td>1993.0</td>\n",
       "      <td>60</td>\n",
       "    </tr>\n",
       "    <tr>\n",
       "      <td>1981.0</td>\n",
       "      <td>46</td>\n",
       "    </tr>\n",
       "    <tr>\n",
       "      <td>1992.0</td>\n",
       "      <td>43</td>\n",
       "    </tr>\n",
       "    <tr>\n",
       "      <td>1991.0</td>\n",
       "      <td>41</td>\n",
       "    </tr>\n",
       "    <tr>\n",
       "      <td>1982.0</td>\n",
       "      <td>36</td>\n",
       "    </tr>\n",
       "    <tr>\n",
       "      <td>1986.0</td>\n",
       "      <td>21</td>\n",
       "    </tr>\n",
       "    <tr>\n",
       "      <td>1989.0</td>\n",
       "      <td>17</td>\n",
       "    </tr>\n",
       "    <tr>\n",
       "      <td>1983.0</td>\n",
       "      <td>17</td>\n",
       "    </tr>\n",
       "    <tr>\n",
       "      <td>1990.0</td>\n",
       "      <td>16</td>\n",
       "    </tr>\n",
       "    <tr>\n",
       "      <td>1987.0</td>\n",
       "      <td>16</td>\n",
       "    </tr>\n",
       "    <tr>\n",
       "      <td>1988.0</td>\n",
       "      <td>15</td>\n",
       "    </tr>\n",
       "    <tr>\n",
       "      <td>1985.0</td>\n",
       "      <td>14</td>\n",
       "    </tr>\n",
       "    <tr>\n",
       "      <td>1984.0</td>\n",
       "      <td>14</td>\n",
       "    </tr>\n",
       "    <tr>\n",
       "      <td>1980.0</td>\n",
       "      <td>9</td>\n",
       "    </tr>\n",
       "  </tbody>\n",
       "</table>\n",
       "</div>"
      ],
      "text/plain": [
       "                 number_games\n",
       "year_of_release              \n",
       "2008.0                   1427\n",
       "2009.0                   1426\n",
       "2010.0                   1255\n",
       "2007.0                   1197\n",
       "2011.0                   1136\n",
       "2006.0                   1006\n",
       "2005.0                    939\n",
       "2002.0                    829\n",
       "2003.0                    775\n",
       "2004.0                    762\n",
       "2012.0                    653\n",
       "2015.0                    606\n",
       "2014.0                    581\n",
       "2013.0                    544\n",
       "2016.0                    502\n",
       "2001.0                    482\n",
       "1998.0                    379\n",
       "2000.0                    350\n",
       "1999.0                    338\n",
       "1997.0                    289\n",
       "1996.0                    263\n",
       "1995.0                    219\n",
       "1994.0                    121\n",
       "1993.0                     60\n",
       "1981.0                     46\n",
       "1992.0                     43\n",
       "1991.0                     41\n",
       "1982.0                     36\n",
       "1986.0                     21\n",
       "1989.0                     17\n",
       "1983.0                     17\n",
       "1990.0                     16\n",
       "1987.0                     16\n",
       "1988.0                     15\n",
       "1985.0                     14\n",
       "1984.0                     14\n",
       "1980.0                      9"
      ]
     },
     "metadata": {},
     "output_type": "display_data"
    }
   ],
   "source": [
    "# группируем данные по году и подсчитываем количество игр\n",
    "games_to_years = data.groupby(['year_of_release']).agg({'year_of_release':'count'})\n",
    "# переименовываем столбец\n",
    "games_to_years.columns = ['number_games']\n",
    "# выводим полученную таблицу отсортированную по убыванию\n",
    "display(games_to_years.sort_values(by='number_games', ascending=False))"
   ]
  },
  {
   "cell_type": "code",
   "execution_count": 18,
   "metadata": {},
   "outputs": [
    {
     "data": {
      "text/plain": [
       "<matplotlib.axes._subplots.AxesSubplot at 0x7f1ff1d744d0>"
      ]
     },
     "execution_count": 18,
     "metadata": {},
     "output_type": "execute_result"
    },
    {
     "data": {
      "image/png": "[encoded data removed]",
      "text/plain": [
       "<Figure size 1080x288 with 1 Axes>"
      ]
     },
     "metadata": {
      "needs_background": "light"
     },
     "output_type": "display_data"
    }
   ],
   "source": [
    "# посмотрим распределение на графике\n",
    "games_to_years.plot(title='Количество выпущенных игр относительно года выпуска', grid=True, figsize=(15,4))"
   ]
  },
  {
   "cell_type": "markdown",
   "metadata": {},
   "source": [
    "С помощью группировки данных я посчитала количество игр выпускаемых в каждй год. Для наглядности отразила результаты на графике. \n",
    "\n",
    "Как мне кажется, данные до 1993 не важны, т.к. игр выпускалось очень мало. После 1993 года мы видим рост по количеству создания игр. Также, после 2009 наблюдается спад. Кажется, что пик приходится на 2008-2009 года."
   ]
  },
  {
   "cell_type": "markdown",
   "metadata": {},
   "source": [
    "### Смотрим как менялись продажи по платформам"
   ]
  },
  {
   "cell_type": "code",
   "execution_count": 19,
   "metadata": {
    "scrolled": true
   },
   "outputs": [
    {
     "data": {
      "text/html": [
       "<div>\n",
       "<style scoped>\n",
       "    .dataframe tbody tr th:only-of-type {\n",
       "        vertical-align: middle;\n",
       "    }\n",
       "\n",
       "    .dataframe tbody tr th {\n",
       "        vertical-align: top;\n",
       "    }\n",
       "\n",
       "    .dataframe thead th {\n",
       "        text-align: right;\n",
       "    }\n",
       "</style>\n",
       "<table border=\"1\" class=\"dataframe\">\n",
       "  <thead>\n",
       "    <tr style=\"text-align: right;\">\n",
       "      <th></th>\n",
       "      <th>total_sale_from_platform</th>\n",
       "    </tr>\n",
       "    <tr>\n",
       "      <th>platform</th>\n",
       "      <th></th>\n",
       "    </tr>\n",
       "  </thead>\n",
       "  <tbody>\n",
       "    <tr>\n",
       "      <td>PS2</td>\n",
       "      <td>1233.56</td>\n",
       "    </tr>\n",
       "    <tr>\n",
       "      <td>X360</td>\n",
       "      <td>961.24</td>\n",
       "    </tr>\n",
       "    <tr>\n",
       "      <td>PS3</td>\n",
       "      <td>931.34</td>\n",
       "    </tr>\n",
       "    <tr>\n",
       "      <td>Wii</td>\n",
       "      <td>891.18</td>\n",
       "    </tr>\n",
       "    <tr>\n",
       "      <td>DS</td>\n",
       "      <td>802.78</td>\n",
       "    </tr>\n",
       "    <tr>\n",
       "      <td>PS</td>\n",
       "      <td>727.58</td>\n",
       "    </tr>\n",
       "    <tr>\n",
       "      <td>PS4</td>\n",
       "      <td>314.14</td>\n",
       "    </tr>\n",
       "    <tr>\n",
       "      <td>GBA</td>\n",
       "      <td>312.88</td>\n",
       "    </tr>\n",
       "    <tr>\n",
       "      <td>PSP</td>\n",
       "      <td>289.53</td>\n",
       "    </tr>\n",
       "    <tr>\n",
       "      <td>3DS</td>\n",
       "      <td>257.81</td>\n",
       "    </tr>\n",
       "    <tr>\n",
       "      <td>PC</td>\n",
       "      <td>255.76</td>\n",
       "    </tr>\n",
       "    <tr>\n",
       "      <td>GB</td>\n",
       "      <td>254.43</td>\n",
       "    </tr>\n",
       "    <tr>\n",
       "      <td>XB</td>\n",
       "      <td>251.57</td>\n",
       "    </tr>\n",
       "    <tr>\n",
       "      <td>NES</td>\n",
       "      <td>251.05</td>\n",
       "    </tr>\n",
       "    <tr>\n",
       "      <td>N64</td>\n",
       "      <td>218.01</td>\n",
       "    </tr>\n",
       "    <tr>\n",
       "      <td>SNES</td>\n",
       "      <td>200.04</td>\n",
       "    </tr>\n",
       "    <tr>\n",
       "      <td>GC</td>\n",
       "      <td>196.73</td>\n",
       "    </tr>\n",
       "    <tr>\n",
       "      <td>XOne</td>\n",
       "      <td>159.32</td>\n",
       "    </tr>\n",
       "    <tr>\n",
       "      <td>2600</td>\n",
       "      <td>86.48</td>\n",
       "    </tr>\n",
       "    <tr>\n",
       "      <td>WiiU</td>\n",
       "      <td>82.19</td>\n",
       "    </tr>\n",
       "    <tr>\n",
       "      <td>PSV</td>\n",
       "      <td>53.81</td>\n",
       "    </tr>\n",
       "    <tr>\n",
       "      <td>SAT</td>\n",
       "      <td>33.59</td>\n",
       "    </tr>\n",
       "    <tr>\n",
       "      <td>GEN</td>\n",
       "      <td>28.35</td>\n",
       "    </tr>\n",
       "    <tr>\n",
       "      <td>DC</td>\n",
       "      <td>15.95</td>\n",
       "    </tr>\n",
       "    <tr>\n",
       "      <td>SCD</td>\n",
       "      <td>1.86</td>\n",
       "    </tr>\n",
       "    <tr>\n",
       "      <td>NG</td>\n",
       "      <td>1.44</td>\n",
       "    </tr>\n",
       "    <tr>\n",
       "      <td>WS</td>\n",
       "      <td>1.42</td>\n",
       "    </tr>\n",
       "    <tr>\n",
       "      <td>TG16</td>\n",
       "      <td>0.16</td>\n",
       "    </tr>\n",
       "    <tr>\n",
       "      <td>3DO</td>\n",
       "      <td>0.10</td>\n",
       "    </tr>\n",
       "    <tr>\n",
       "      <td>GG</td>\n",
       "      <td>0.04</td>\n",
       "    </tr>\n",
       "    <tr>\n",
       "      <td>PCFX</td>\n",
       "      <td>0.03</td>\n",
       "    </tr>\n",
       "  </tbody>\n",
       "</table>\n",
       "</div>"
      ],
      "text/plain": [
       "          total_sale_from_platform\n",
       "platform                          \n",
       "PS2                        1233.56\n",
       "X360                        961.24\n",
       "PS3                         931.34\n",
       "Wii                         891.18\n",
       "DS                          802.78\n",
       "PS                          727.58\n",
       "PS4                         314.14\n",
       "GBA                         312.88\n",
       "PSP                         289.53\n",
       "3DS                         257.81\n",
       "PC                          255.76\n",
       "GB                          254.43\n",
       "XB                          251.57\n",
       "NES                         251.05\n",
       "N64                         218.01\n",
       "SNES                        200.04\n",
       "GC                          196.73\n",
       "XOne                        159.32\n",
       "2600                         86.48\n",
       "WiiU                         82.19\n",
       "PSV                          53.81\n",
       "SAT                          33.59\n",
       "GEN                          28.35\n",
       "DC                           15.95\n",
       "SCD                           1.86\n",
       "NG                            1.44\n",
       "WS                            1.42\n",
       "TG16                          0.16\n",
       "3DO                           0.10\n",
       "GG                            0.04\n",
       "PCFX                          0.03"
      ]
     },
     "metadata": {},
     "output_type": "display_data"
    }
   ],
   "source": [
    "# группируем данные и подсчитываем продажи по каждой платформе\n",
    "platform_from_sale = data.groupby(['platform']).agg({'total_sales':'sum'})\n",
    "# переименовываем столбец\n",
    "platform_from_sale.columns = ['total_sale_from_platform']\n",
    "# выводим получившуюся таблицу отсортируя значения по убыванию\n",
    "display(platform_from_sale.sort_values(by='total_sale_from_platform',ascending=False))"
   ]
  },
  {
   "cell_type": "markdown",
   "metadata": {},
   "source": [
    "Из таблицы видно, что больше всего продаж у PS2, X360 и PS3.\n"
   ]
  },
  {
   "cell_type": "markdown",
   "metadata": {},
   "source": [
    "#### Анализ изменения продаж по платформе PS2"
   ]
  },
  {
   "cell_type": "code",
   "execution_count": 20,
   "metadata": {},
   "outputs": [
    {
     "data": {
      "text/html": [
       "<div>\n",
       "<style scoped>\n",
       "    .dataframe tbody tr th:only-of-type {\n",
       "        vertical-align: middle;\n",
       "    }\n",
       "\n",
       "    .dataframe tbody tr th {\n",
       "        vertical-align: top;\n",
       "    }\n",
       "\n",
       "    .dataframe thead th {\n",
       "        text-align: right;\n",
       "    }\n",
       "</style>\n",
       "<table border=\"1\" class=\"dataframe\">\n",
       "  <thead>\n",
       "    <tr style=\"text-align: right;\">\n",
       "      <th></th>\n",
       "      <th>name</th>\n",
       "      <th>platform</th>\n",
       "      <th>year_of_release</th>\n",
       "      <th>genre</th>\n",
       "      <th>na_sales</th>\n",
       "      <th>eu_sales</th>\n",
       "      <th>jp_sales</th>\n",
       "      <th>other_sales</th>\n",
       "      <th>critic_score</th>\n",
       "      <th>user_score</th>\n",
       "      <th>rating</th>\n",
       "      <th>total_sales</th>\n",
       "    </tr>\n",
       "  </thead>\n",
       "  <tbody>\n",
       "    <tr>\n",
       "      <td>17</td>\n",
       "      <td>Grand Theft Auto: San Andreas</td>\n",
       "      <td>PS2</td>\n",
       "      <td>2004.0</td>\n",
       "      <td>Action</td>\n",
       "      <td>9.43</td>\n",
       "      <td>0.40</td>\n",
       "      <td>0.41</td>\n",
       "      <td>10.57</td>\n",
       "      <td>95.0</td>\n",
       "      <td>9.0</td>\n",
       "      <td>M</td>\n",
       "      <td>20.81</td>\n",
       "    </tr>\n",
       "    <tr>\n",
       "      <td>24</td>\n",
       "      <td>Grand Theft Auto: Vice City</td>\n",
       "      <td>PS2</td>\n",
       "      <td>2002.0</td>\n",
       "      <td>Action</td>\n",
       "      <td>8.41</td>\n",
       "      <td>5.49</td>\n",
       "      <td>0.47</td>\n",
       "      <td>1.78</td>\n",
       "      <td>95.0</td>\n",
       "      <td>8.7</td>\n",
       "      <td>M</td>\n",
       "      <td>16.15</td>\n",
       "    </tr>\n",
       "    <tr>\n",
       "      <td>28</td>\n",
       "      <td>Gran Turismo 3: A-Spec</td>\n",
       "      <td>PS2</td>\n",
       "      <td>2001.0</td>\n",
       "      <td>Racing</td>\n",
       "      <td>6.85</td>\n",
       "      <td>5.09</td>\n",
       "      <td>1.87</td>\n",
       "      <td>1.16</td>\n",
       "      <td>95.0</td>\n",
       "      <td>8.4</td>\n",
       "      <td>E</td>\n",
       "      <td>14.97</td>\n",
       "    </tr>\n",
       "    <tr>\n",
       "      <td>38</td>\n",
       "      <td>Grand Theft Auto III</td>\n",
       "      <td>PS2</td>\n",
       "      <td>2001.0</td>\n",
       "      <td>Action</td>\n",
       "      <td>6.99</td>\n",
       "      <td>4.51</td>\n",
       "      <td>0.30</td>\n",
       "      <td>1.30</td>\n",
       "      <td>97.0</td>\n",
       "      <td>8.5</td>\n",
       "      <td>M</td>\n",
       "      <td>13.10</td>\n",
       "    </tr>\n",
       "    <tr>\n",
       "      <td>48</td>\n",
       "      <td>Gran Turismo 4</td>\n",
       "      <td>PS2</td>\n",
       "      <td>2004.0</td>\n",
       "      <td>Racing</td>\n",
       "      <td>3.01</td>\n",
       "      <td>0.01</td>\n",
       "      <td>1.10</td>\n",
       "      <td>7.53</td>\n",
       "      <td>89.0</td>\n",
       "      <td>8.5</td>\n",
       "      <td>E</td>\n",
       "      <td>11.65</td>\n",
       "    </tr>\n",
       "    <tr>\n",
       "      <td>...</td>\n",
       "      <td>...</td>\n",
       "      <td>...</td>\n",
       "      <td>...</td>\n",
       "      <td>...</td>\n",
       "      <td>...</td>\n",
       "      <td>...</td>\n",
       "      <td>...</td>\n",
       "      <td>...</td>\n",
       "      <td>...</td>\n",
       "      <td>...</td>\n",
       "      <td>...</td>\n",
       "      <td>...</td>\n",
       "    </tr>\n",
       "    <tr>\n",
       "      <td>16670</td>\n",
       "      <td>Sugar + Spice! Anoko no Suteki na Nanimokamo</td>\n",
       "      <td>PS2</td>\n",
       "      <td>2008.0</td>\n",
       "      <td>Adventure</td>\n",
       "      <td>0.00</td>\n",
       "      <td>0.00</td>\n",
       "      <td>0.01</td>\n",
       "      <td>0.00</td>\n",
       "      <td>NaN</td>\n",
       "      <td>NaN</td>\n",
       "      <td>undefined</td>\n",
       "      <td>0.01</td>\n",
       "    </tr>\n",
       "    <tr>\n",
       "      <td>16671</td>\n",
       "      <td>Kanokon: Esuii</td>\n",
       "      <td>PS2</td>\n",
       "      <td>2008.0</td>\n",
       "      <td>Adventure</td>\n",
       "      <td>0.00</td>\n",
       "      <td>0.00</td>\n",
       "      <td>0.01</td>\n",
       "      <td>0.00</td>\n",
       "      <td>NaN</td>\n",
       "      <td>NaN</td>\n",
       "      <td>undefined</td>\n",
       "      <td>0.01</td>\n",
       "    </tr>\n",
       "    <tr>\n",
       "      <td>16683</td>\n",
       "      <td>Scarlett: Nichijou no Kyoukaisen</td>\n",
       "      <td>PS2</td>\n",
       "      <td>2008.0</td>\n",
       "      <td>Adventure</td>\n",
       "      <td>0.00</td>\n",
       "      <td>0.00</td>\n",
       "      <td>0.01</td>\n",
       "      <td>0.00</td>\n",
       "      <td>NaN</td>\n",
       "      <td>NaN</td>\n",
       "      <td>undefined</td>\n",
       "      <td>0.01</td>\n",
       "    </tr>\n",
       "    <tr>\n",
       "      <td>16689</td>\n",
       "      <td>Real Rode</td>\n",
       "      <td>PS2</td>\n",
       "      <td>2008.0</td>\n",
       "      <td>Adventure</td>\n",
       "      <td>0.00</td>\n",
       "      <td>0.00</td>\n",
       "      <td>0.01</td>\n",
       "      <td>0.00</td>\n",
       "      <td>NaN</td>\n",
       "      <td>NaN</td>\n",
       "      <td>undefined</td>\n",
       "      <td>0.01</td>\n",
       "    </tr>\n",
       "    <tr>\n",
       "      <td>16709</td>\n",
       "      <td>SCORE International Baja 1000: The Official Game</td>\n",
       "      <td>PS2</td>\n",
       "      <td>2008.0</td>\n",
       "      <td>Racing</td>\n",
       "      <td>0.00</td>\n",
       "      <td>0.00</td>\n",
       "      <td>0.00</td>\n",
       "      <td>0.00</td>\n",
       "      <td>NaN</td>\n",
       "      <td>NaN</td>\n",
       "      <td>undefined</td>\n",
       "      <td>0.00</td>\n",
       "    </tr>\n",
       "  </tbody>\n",
       "</table>\n",
       "<p>2127 rows × 12 columns</p>\n",
       "</div>"
      ],
      "text/plain": [
       "                                                   name platform  \\\n",
       "17                        Grand Theft Auto: San Andreas      PS2   \n",
       "24                          Grand Theft Auto: Vice City      PS2   \n",
       "28                               Gran Turismo 3: A-Spec      PS2   \n",
       "38                                 Grand Theft Auto III      PS2   \n",
       "48                                       Gran Turismo 4      PS2   \n",
       "...                                                 ...      ...   \n",
       "16670      Sugar + Spice! Anoko no Suteki na Nanimokamo      PS2   \n",
       "16671                                    Kanokon: Esuii      PS2   \n",
       "16683                  Scarlett: Nichijou no Kyoukaisen      PS2   \n",
       "16689                                         Real Rode      PS2   \n",
       "16709  SCORE International Baja 1000: The Official Game      PS2   \n",
       "\n",
       "       year_of_release      genre  na_sales  eu_sales  jp_sales  other_sales  \\\n",
       "17              2004.0     Action      9.43      0.40      0.41        10.57   \n",
       "24              2002.0     Action      8.41      5.49      0.47         1.78   \n",
       "28              2001.0     Racing      6.85      5.09      1.87         1.16   \n",
       "38              2001.0     Action      6.99      4.51      0.30         1.30   \n",
       "48              2004.0     Racing      3.01      0.01      1.10         7.53   \n",
       "...                ...        ...       ...       ...       ...          ...   \n",
       "16670           2008.0  Adventure      0.00      0.00      0.01         0.00   \n",
       "16671           2008.0  Adventure      0.00      0.00      0.01         0.00   \n",
       "16683           2008.0  Adventure      0.00      0.00      0.01         0.00   \n",
       "16689           2008.0  Adventure      0.00      0.00      0.01         0.00   \n",
       "16709           2008.0     Racing      0.00      0.00      0.00         0.00   \n",
       "\n",
       "       critic_score  user_score     rating  total_sales  \n",
       "17             95.0         9.0          M        20.81  \n",
       "24             95.0         8.7          M        16.15  \n",
       "28             95.0         8.4          E        14.97  \n",
       "38             97.0         8.5          M        13.10  \n",
       "48             89.0         8.5          E        11.65  \n",
       "...             ...         ...        ...          ...  \n",
       "16670           NaN         NaN  undefined         0.01  \n",
       "16671           NaN         NaN  undefined         0.01  \n",
       "16683           NaN         NaN  undefined         0.01  \n",
       "16689           NaN         NaN  undefined         0.01  \n",
       "16709           NaN         NaN  undefined         0.00  \n",
       "\n",
       "[2127 rows x 12 columns]"
      ]
     },
     "metadata": {},
     "output_type": "display_data"
    }
   ],
   "source": [
    "# делаем срез данных, в котором платформа PS2\n",
    "data_ps2 = data.query('platform == \"PS2\"')\n",
    "# выводим таблицу\n",
    "display(data_ps2)\n",
    "\n",
    "# видим, что строк где platform == PS2 2127 штук."
   ]
  },
  {
   "cell_type": "code",
   "execution_count": 21,
   "metadata": {},
   "outputs": [
    {
     "data": {
      "text/html": [
       "<div>\n",
       "<style scoped>\n",
       "    .dataframe tbody tr th:only-of-type {\n",
       "        vertical-align: middle;\n",
       "    }\n",
       "\n",
       "    .dataframe tbody tr th {\n",
       "        vertical-align: top;\n",
       "    }\n",
       "\n",
       "    .dataframe thead th {\n",
       "        text-align: right;\n",
       "    }\n",
       "</style>\n",
       "<table border=\"1\" class=\"dataframe\">\n",
       "  <thead>\n",
       "    <tr style=\"text-align: right;\">\n",
       "      <th></th>\n",
       "      <th>total_sales</th>\n",
       "    </tr>\n",
       "    <tr>\n",
       "      <th>year_of_release</th>\n",
       "      <th></th>\n",
       "    </tr>\n",
       "  </thead>\n",
       "  <tbody>\n",
       "    <tr>\n",
       "      <td>2004.0</td>\n",
       "      <td>211.81</td>\n",
       "    </tr>\n",
       "    <tr>\n",
       "      <td>2002.0</td>\n",
       "      <td>205.38</td>\n",
       "    </tr>\n",
       "    <tr>\n",
       "      <td>2003.0</td>\n",
       "      <td>184.31</td>\n",
       "    </tr>\n",
       "    <tr>\n",
       "      <td>2001.0</td>\n",
       "      <td>166.43</td>\n",
       "    </tr>\n",
       "    <tr>\n",
       "      <td>2005.0</td>\n",
       "      <td>160.66</td>\n",
       "    </tr>\n",
       "    <tr>\n",
       "      <td>2006.0</td>\n",
       "      <td>103.42</td>\n",
       "    </tr>\n",
       "    <tr>\n",
       "      <td>2007.0</td>\n",
       "      <td>75.99</td>\n",
       "    </tr>\n",
       "    <tr>\n",
       "      <td>2008.0</td>\n",
       "      <td>53.90</td>\n",
       "    </tr>\n",
       "    <tr>\n",
       "      <td>2000.0</td>\n",
       "      <td>39.17</td>\n",
       "    </tr>\n",
       "    <tr>\n",
       "      <td>2009.0</td>\n",
       "      <td>26.40</td>\n",
       "    </tr>\n",
       "    <tr>\n",
       "      <td>2010.0</td>\n",
       "      <td>5.64</td>\n",
       "    </tr>\n",
       "    <tr>\n",
       "      <td>2011.0</td>\n",
       "      <td>0.45</td>\n",
       "    </tr>\n",
       "  </tbody>\n",
       "</table>\n",
       "</div>"
      ],
      "text/plain": [
       "                 total_sales\n",
       "year_of_release             \n",
       "2004.0                211.81\n",
       "2002.0                205.38\n",
       "2003.0                184.31\n",
       "2001.0                166.43\n",
       "2005.0                160.66\n",
       "2006.0                103.42\n",
       "2007.0                 75.99\n",
       "2008.0                 53.90\n",
       "2000.0                 39.17\n",
       "2009.0                 26.40\n",
       "2010.0                  5.64\n",
       "2011.0                  0.45"
      ]
     },
     "metadata": {},
     "output_type": "display_data"
    }
   ],
   "source": [
    "# группируем данные чтобы найти общие продажи по годам\n",
    "ps2_from_year = data_ps2.groupby(['year_of_release']).agg({'total_sales':'sum'})\n",
    "# выведем получившуюся таблицу по убыванию значений\n",
    "display(ps2_from_year.sort_values(by='total_sales', ascending=False))"
   ]
  },
  {
   "cell_type": "code",
   "execution_count": 22,
   "metadata": {},
   "outputs": [
    {
     "data": {
      "text/plain": [
       "<matplotlib.axes._subplots.AxesSubplot at 0x7f1fe9531710>"
      ]
     },
     "execution_count": 22,
     "metadata": {},
     "output_type": "execute_result"
    },
    {
     "data": {
      "image/png": "[encoded data removed]",
      "text/plain": [
       "<Figure size 1080x216 with 1 Axes>"
      ]
     },
     "metadata": {
      "needs_background": "light"
     },
     "output_type": "display_data"
    }
   ],
   "source": [
    "# посмотрим на графике\n",
    "ps2_from_year.plot(title='Продажи игр для платформы PS2 относительно года выпуска', grid=True, figsize=(15,3))"
   ]
  },
  {
   "cell_type": "markdown",
   "metadata": {},
   "source": [
    "Применив группировку данных я посчитала продажи относительно года выпуска. Видно, что самые прибыльные года для платформы PS2 оказались 2001-2004. После 2005 года уже виден спад по продажам. \n",
    "\n",
    "Дата выхода платформы 4 марта 2000 года. Видимо поэтому её хорошо приобретали в период с 2001 года. Очевидно, самая выгодная цена на неё была в 2004 году, после которого платформа стала уже не совсем актуальна для приобретения, с чем связан спад в продажах."
   ]
  },
  {
   "cell_type": "markdown",
   "metadata": {},
   "source": [
    "#### Анализ изменения продаж по платформе X360"
   ]
  },
  {
   "cell_type": "code",
   "execution_count": 23,
   "metadata": {},
   "outputs": [
    {
     "data": {
      "text/html": [
       "<div>\n",
       "<style scoped>\n",
       "    .dataframe tbody tr th:only-of-type {\n",
       "        vertical-align: middle;\n",
       "    }\n",
       "\n",
       "    .dataframe tbody tr th {\n",
       "        vertical-align: top;\n",
       "    }\n",
       "\n",
       "    .dataframe thead th {\n",
       "        text-align: right;\n",
       "    }\n",
       "</style>\n",
       "<table border=\"1\" class=\"dataframe\">\n",
       "  <thead>\n",
       "    <tr style=\"text-align: right;\">\n",
       "      <th></th>\n",
       "      <th>name</th>\n",
       "      <th>platform</th>\n",
       "      <th>year_of_release</th>\n",
       "      <th>genre</th>\n",
       "      <th>na_sales</th>\n",
       "      <th>eu_sales</th>\n",
       "      <th>jp_sales</th>\n",
       "      <th>other_sales</th>\n",
       "      <th>critic_score</th>\n",
       "      <th>user_score</th>\n",
       "      <th>rating</th>\n",
       "      <th>total_sales</th>\n",
       "    </tr>\n",
       "  </thead>\n",
       "  <tbody>\n",
       "    <tr>\n",
       "      <td>14</td>\n",
       "      <td>Kinect Adventures!</td>\n",
       "      <td>X360</td>\n",
       "      <td>2010.0</td>\n",
       "      <td>Misc</td>\n",
       "      <td>15.00</td>\n",
       "      <td>4.89</td>\n",
       "      <td>0.24</td>\n",
       "      <td>1.69</td>\n",
       "      <td>61.0</td>\n",
       "      <td>6.3</td>\n",
       "      <td>E</td>\n",
       "      <td>21.82</td>\n",
       "    </tr>\n",
       "    <tr>\n",
       "      <td>23</td>\n",
       "      <td>Grand Theft Auto V</td>\n",
       "      <td>X360</td>\n",
       "      <td>2013.0</td>\n",
       "      <td>Action</td>\n",
       "      <td>9.66</td>\n",
       "      <td>5.14</td>\n",
       "      <td>0.06</td>\n",
       "      <td>1.41</td>\n",
       "      <td>97.0</td>\n",
       "      <td>8.1</td>\n",
       "      <td>M</td>\n",
       "      <td>16.27</td>\n",
       "    </tr>\n",
       "    <tr>\n",
       "      <td>29</td>\n",
       "      <td>Call of Duty: Modern Warfare 3</td>\n",
       "      <td>X360</td>\n",
       "      <td>2011.0</td>\n",
       "      <td>Shooter</td>\n",
       "      <td>9.04</td>\n",
       "      <td>4.24</td>\n",
       "      <td>0.13</td>\n",
       "      <td>1.32</td>\n",
       "      <td>88.0</td>\n",
       "      <td>3.4</td>\n",
       "      <td>M</td>\n",
       "      <td>14.73</td>\n",
       "    </tr>\n",
       "    <tr>\n",
       "      <td>32</td>\n",
       "      <td>Call of Duty: Black Ops</td>\n",
       "      <td>X360</td>\n",
       "      <td>2010.0</td>\n",
       "      <td>Shooter</td>\n",
       "      <td>9.70</td>\n",
       "      <td>3.68</td>\n",
       "      <td>0.11</td>\n",
       "      <td>1.13</td>\n",
       "      <td>87.0</td>\n",
       "      <td>6.3</td>\n",
       "      <td>M</td>\n",
       "      <td>14.62</td>\n",
       "    </tr>\n",
       "    <tr>\n",
       "      <td>35</td>\n",
       "      <td>Call of Duty: Black Ops II</td>\n",
       "      <td>X360</td>\n",
       "      <td>2012.0</td>\n",
       "      <td>Shooter</td>\n",
       "      <td>8.25</td>\n",
       "      <td>4.24</td>\n",
       "      <td>0.07</td>\n",
       "      <td>1.12</td>\n",
       "      <td>83.0</td>\n",
       "      <td>4.8</td>\n",
       "      <td>M</td>\n",
       "      <td>13.68</td>\n",
       "    </tr>\n",
       "    <tr>\n",
       "      <td>...</td>\n",
       "      <td>...</td>\n",
       "      <td>...</td>\n",
       "      <td>...</td>\n",
       "      <td>...</td>\n",
       "      <td>...</td>\n",
       "      <td>...</td>\n",
       "      <td>...</td>\n",
       "      <td>...</td>\n",
       "      <td>...</td>\n",
       "      <td>...</td>\n",
       "      <td>...</td>\n",
       "      <td>...</td>\n",
       "    </tr>\n",
       "    <tr>\n",
       "      <td>16613</td>\n",
       "      <td>Dragon Ball Z for Kinect</td>\n",
       "      <td>X360</td>\n",
       "      <td>2012.0</td>\n",
       "      <td>Fighting</td>\n",
       "      <td>0.01</td>\n",
       "      <td>0.00</td>\n",
       "      <td>0.00</td>\n",
       "      <td>0.00</td>\n",
       "      <td>49.0</td>\n",
       "      <td>2.1</td>\n",
       "      <td>T</td>\n",
       "      <td>0.01</td>\n",
       "    </tr>\n",
       "    <tr>\n",
       "      <td>16622</td>\n",
       "      <td>World Snooker Championship 2007</td>\n",
       "      <td>X360</td>\n",
       "      <td>2007.0</td>\n",
       "      <td>Sports</td>\n",
       "      <td>0.00</td>\n",
       "      <td>0.01</td>\n",
       "      <td>0.00</td>\n",
       "      <td>0.00</td>\n",
       "      <td>NaN</td>\n",
       "      <td>NaN</td>\n",
       "      <td>undefined</td>\n",
       "      <td>0.01</td>\n",
       "    </tr>\n",
       "    <tr>\n",
       "      <td>16647</td>\n",
       "      <td>Metal Gear Solid HD Edition</td>\n",
       "      <td>X360</td>\n",
       "      <td>2011.0</td>\n",
       "      <td>Action</td>\n",
       "      <td>0.00</td>\n",
       "      <td>0.00</td>\n",
       "      <td>0.01</td>\n",
       "      <td>0.00</td>\n",
       "      <td>NaN</td>\n",
       "      <td>NaN</td>\n",
       "      <td>M</td>\n",
       "      <td>0.01</td>\n",
       "    </tr>\n",
       "    <tr>\n",
       "      <td>16654</td>\n",
       "      <td>Ben 10 Omniverse 2</td>\n",
       "      <td>X360</td>\n",
       "      <td>2013.0</td>\n",
       "      <td>Action</td>\n",
       "      <td>0.00</td>\n",
       "      <td>0.01</td>\n",
       "      <td>0.00</td>\n",
       "      <td>0.00</td>\n",
       "      <td>NaN</td>\n",
       "      <td>5.1</td>\n",
       "      <td>E10+</td>\n",
       "      <td>0.01</td>\n",
       "    </tr>\n",
       "    <tr>\n",
       "      <td>16711</td>\n",
       "      <td>LMA Manager 2007</td>\n",
       "      <td>X360</td>\n",
       "      <td>2006.0</td>\n",
       "      <td>Sports</td>\n",
       "      <td>0.00</td>\n",
       "      <td>0.01</td>\n",
       "      <td>0.00</td>\n",
       "      <td>0.00</td>\n",
       "      <td>NaN</td>\n",
       "      <td>NaN</td>\n",
       "      <td>undefined</td>\n",
       "      <td>0.01</td>\n",
       "    </tr>\n",
       "  </tbody>\n",
       "</table>\n",
       "<p>1232 rows × 12 columns</p>\n",
       "</div>"
      ],
      "text/plain": [
       "                                  name platform  year_of_release     genre  \\\n",
       "14                  Kinect Adventures!     X360           2010.0      Misc   \n",
       "23                  Grand Theft Auto V     X360           2013.0    Action   \n",
       "29      Call of Duty: Modern Warfare 3     X360           2011.0   Shooter   \n",
       "32             Call of Duty: Black Ops     X360           2010.0   Shooter   \n",
       "35          Call of Duty: Black Ops II     X360           2012.0   Shooter   \n",
       "...                                ...      ...              ...       ...   \n",
       "16613         Dragon Ball Z for Kinect     X360           2012.0  Fighting   \n",
       "16622  World Snooker Championship 2007     X360           2007.0    Sports   \n",
       "16647      Metal Gear Solid HD Edition     X360           2011.0    Action   \n",
       "16654               Ben 10 Omniverse 2     X360           2013.0    Action   \n",
       "16711                 LMA Manager 2007     X360           2006.0    Sports   \n",
       "\n",
       "       na_sales  eu_sales  jp_sales  other_sales  critic_score  user_score  \\\n",
       "14        15.00      4.89      0.24         1.69          61.0         6.3   \n",
       "23         9.66      5.14      0.06         1.41          97.0         8.1   \n",
       "29         9.04      4.24      0.13         1.32          88.0         3.4   \n",
       "32         9.70      3.68      0.11         1.13          87.0         6.3   \n",
       "35         8.25      4.24      0.07         1.12          83.0         4.8   \n",
       "...         ...       ...       ...          ...           ...         ...   \n",
       "16613      0.01      0.00      0.00         0.00          49.0         2.1   \n",
       "16622      0.00      0.01      0.00         0.00           NaN         NaN   \n",
       "16647      0.00      0.00      0.01         0.00           NaN         NaN   \n",
       "16654      0.00      0.01      0.00         0.00           NaN         5.1   \n",
       "16711      0.00      0.01      0.00         0.00           NaN         NaN   \n",
       "\n",
       "          rating  total_sales  \n",
       "14             E        21.82  \n",
       "23             M        16.27  \n",
       "29             M        14.73  \n",
       "32             M        14.62  \n",
       "35             M        13.68  \n",
       "...          ...          ...  \n",
       "16613          T         0.01  \n",
       "16622  undefined         0.01  \n",
       "16647          M         0.01  \n",
       "16654       E10+         0.01  \n",
       "16711  undefined         0.01  \n",
       "\n",
       "[1232 rows x 12 columns]"
      ]
     },
     "metadata": {},
     "output_type": "display_data"
    }
   ],
   "source": [
    "# делаем срез данных, в котором платформа X360\n",
    "data_x360 = data.query('platform == \"X360\"')\n",
    "# выводим таблицу\n",
    "display(data_x360)\n",
    "\n",
    "# видим, что строк где platform == X360 1232 штуки."
   ]
  },
  {
   "cell_type": "code",
   "execution_count": 24,
   "metadata": {},
   "outputs": [
    {
     "data": {
      "text/html": [
       "<div>\n",
       "<style scoped>\n",
       "    .dataframe tbody tr th:only-of-type {\n",
       "        vertical-align: middle;\n",
       "    }\n",
       "\n",
       "    .dataframe tbody tr th {\n",
       "        vertical-align: top;\n",
       "    }\n",
       "\n",
       "    .dataframe thead th {\n",
       "        text-align: right;\n",
       "    }\n",
       "</style>\n",
       "<table border=\"1\" class=\"dataframe\">\n",
       "  <thead>\n",
       "    <tr style=\"text-align: right;\">\n",
       "      <th></th>\n",
       "      <th>total_sales</th>\n",
       "    </tr>\n",
       "    <tr>\n",
       "      <th>year_of_release</th>\n",
       "      <th></th>\n",
       "    </tr>\n",
       "  </thead>\n",
       "  <tbody>\n",
       "    <tr>\n",
       "      <td>2010.0</td>\n",
       "      <td>170.03</td>\n",
       "    </tr>\n",
       "    <tr>\n",
       "      <td>2011.0</td>\n",
       "      <td>143.84</td>\n",
       "    </tr>\n",
       "    <tr>\n",
       "      <td>2008.0</td>\n",
       "      <td>135.26</td>\n",
       "    </tr>\n",
       "    <tr>\n",
       "      <td>2009.0</td>\n",
       "      <td>120.29</td>\n",
       "    </tr>\n",
       "    <tr>\n",
       "      <td>2012.0</td>\n",
       "      <td>99.74</td>\n",
       "    </tr>\n",
       "    <tr>\n",
       "      <td>2007.0</td>\n",
       "      <td>95.41</td>\n",
       "    </tr>\n",
       "    <tr>\n",
       "      <td>2013.0</td>\n",
       "      <td>88.58</td>\n",
       "    </tr>\n",
       "    <tr>\n",
       "      <td>2006.0</td>\n",
       "      <td>51.62</td>\n",
       "    </tr>\n",
       "    <tr>\n",
       "      <td>2014.0</td>\n",
       "      <td>34.74</td>\n",
       "    </tr>\n",
       "    <tr>\n",
       "      <td>2015.0</td>\n",
       "      <td>11.96</td>\n",
       "    </tr>\n",
       "    <tr>\n",
       "      <td>2005.0</td>\n",
       "      <td>8.25</td>\n",
       "    </tr>\n",
       "    <tr>\n",
       "      <td>2016.0</td>\n",
       "      <td>1.52</td>\n",
       "    </tr>\n",
       "  </tbody>\n",
       "</table>\n",
       "</div>"
      ],
      "text/plain": [
       "                 total_sales\n",
       "year_of_release             \n",
       "2010.0                170.03\n",
       "2011.0                143.84\n",
       "2008.0                135.26\n",
       "2009.0                120.29\n",
       "2012.0                 99.74\n",
       "2007.0                 95.41\n",
       "2013.0                 88.58\n",
       "2006.0                 51.62\n",
       "2014.0                 34.74\n",
       "2015.0                 11.96\n",
       "2005.0                  8.25\n",
       "2016.0                  1.52"
      ]
     },
     "metadata": {},
     "output_type": "display_data"
    }
   ],
   "source": [
    "# группируем данные чтобы найти общие продажи по годам\n",
    "x360_from_year = data_x360.groupby(['year_of_release']).agg({'total_sales':'sum'})\n",
    "# выведем получившуюся таблицу по убыванию значений\n",
    "display(x360_from_year.sort_values(by='total_sales', ascending=False))"
   ]
  },
  {
   "cell_type": "code",
   "execution_count": 25,
   "metadata": {},
   "outputs": [
    {
     "data": {
      "text/plain": [
       "<matplotlib.axes._subplots.AxesSubplot at 0x7f1fe9531cd0>"
      ]
     },
     "execution_count": 25,
     "metadata": {},
     "output_type": "execute_result"
    },
    {
     "data": {
      "image/png": "[encoded data removed]",
      "text/plain": [
       "<Figure size 1080x216 with 1 Axes>"
      ]
     },
     "metadata": {
      "needs_background": "light"
     },
     "output_type": "display_data"
    }
   ],
   "source": [
    "# посмотрим на графике\n",
    "x360_from_year.plot(title='Продажи игр для платформы X360 относительно года выпуска', grid=True, figsize=(15,3))"
   ]
  },
  {
   "cell_type": "markdown",
   "metadata": {},
   "source": [
    "В случае с платформой X360 - самый прибыльный год 2010. Период с 2008 по 2010 был тоже достаточно хорошим. После 2010 виден явный спад продаж.\n",
    "\n",
    "Дата вызода платформы - 22 ноября 2005 года. Хотелось предположить, что с выходом X360 упали продажи у PS2 - но нет. Продажи у X360 лишь потихоньку начали набирать обороты и только к 2010 году достигли пиковой точки. Возможно, всё это связано с тем, что цена на эту модель стала очень приятной."
   ]
  },
  {
   "cell_type": "markdown",
   "metadata": {},
   "source": [
    "#### Анализ изменения продаж по платформе PS3"
   ]
  },
  {
   "cell_type": "code",
   "execution_count": 26,
   "metadata": {},
   "outputs": [
    {
     "data": {
      "text/html": [
       "<div>\n",
       "<style scoped>\n",
       "    .dataframe tbody tr th:only-of-type {\n",
       "        vertical-align: middle;\n",
       "    }\n",
       "\n",
       "    .dataframe tbody tr th {\n",
       "        vertical-align: top;\n",
       "    }\n",
       "\n",
       "    .dataframe thead th {\n",
       "        text-align: right;\n",
       "    }\n",
       "</style>\n",
       "<table border=\"1\" class=\"dataframe\">\n",
       "  <thead>\n",
       "    <tr style=\"text-align: right;\">\n",
       "      <th></th>\n",
       "      <th>name</th>\n",
       "      <th>platform</th>\n",
       "      <th>year_of_release</th>\n",
       "      <th>genre</th>\n",
       "      <th>na_sales</th>\n",
       "      <th>eu_sales</th>\n",
       "      <th>jp_sales</th>\n",
       "      <th>other_sales</th>\n",
       "      <th>critic_score</th>\n",
       "      <th>user_score</th>\n",
       "      <th>rating</th>\n",
       "      <th>total_sales</th>\n",
       "    </tr>\n",
       "  </thead>\n",
       "  <tbody>\n",
       "    <tr>\n",
       "      <td>16</td>\n",
       "      <td>Grand Theft Auto V</td>\n",
       "      <td>PS3</td>\n",
       "      <td>2013.0</td>\n",
       "      <td>Action</td>\n",
       "      <td>7.02</td>\n",
       "      <td>9.09</td>\n",
       "      <td>0.98</td>\n",
       "      <td>3.96</td>\n",
       "      <td>97.0</td>\n",
       "      <td>8.2</td>\n",
       "      <td>M</td>\n",
       "      <td>21.05</td>\n",
       "    </tr>\n",
       "    <tr>\n",
       "      <td>34</td>\n",
       "      <td>Call of Duty: Black Ops II</td>\n",
       "      <td>PS3</td>\n",
       "      <td>2012.0</td>\n",
       "      <td>Shooter</td>\n",
       "      <td>4.99</td>\n",
       "      <td>5.73</td>\n",
       "      <td>0.65</td>\n",
       "      <td>2.42</td>\n",
       "      <td>83.0</td>\n",
       "      <td>5.3</td>\n",
       "      <td>M</td>\n",
       "      <td>13.79</td>\n",
       "    </tr>\n",
       "    <tr>\n",
       "      <td>37</td>\n",
       "      <td>Call of Duty: Modern Warfare 3</td>\n",
       "      <td>PS3</td>\n",
       "      <td>2011.0</td>\n",
       "      <td>Shooter</td>\n",
       "      <td>5.54</td>\n",
       "      <td>5.73</td>\n",
       "      <td>0.49</td>\n",
       "      <td>1.57</td>\n",
       "      <td>88.0</td>\n",
       "      <td>3.2</td>\n",
       "      <td>M</td>\n",
       "      <td>13.33</td>\n",
       "    </tr>\n",
       "    <tr>\n",
       "      <td>41</td>\n",
       "      <td>Call of Duty: Black Ops</td>\n",
       "      <td>PS3</td>\n",
       "      <td>2010.0</td>\n",
       "      <td>Shooter</td>\n",
       "      <td>5.99</td>\n",
       "      <td>4.37</td>\n",
       "      <td>0.48</td>\n",
       "      <td>1.79</td>\n",
       "      <td>88.0</td>\n",
       "      <td>6.4</td>\n",
       "      <td>M</td>\n",
       "      <td>12.63</td>\n",
       "    </tr>\n",
       "    <tr>\n",
       "      <td>54</td>\n",
       "      <td>Gran Turismo 5</td>\n",
       "      <td>PS3</td>\n",
       "      <td>2010.0</td>\n",
       "      <td>Racing</td>\n",
       "      <td>2.96</td>\n",
       "      <td>4.82</td>\n",
       "      <td>0.81</td>\n",
       "      <td>2.11</td>\n",
       "      <td>84.0</td>\n",
       "      <td>7.5</td>\n",
       "      <td>E</td>\n",
       "      <td>10.70</td>\n",
       "    </tr>\n",
       "    <tr>\n",
       "      <td>...</td>\n",
       "      <td>...</td>\n",
       "      <td>...</td>\n",
       "      <td>...</td>\n",
       "      <td>...</td>\n",
       "      <td>...</td>\n",
       "      <td>...</td>\n",
       "      <td>...</td>\n",
       "      <td>...</td>\n",
       "      <td>...</td>\n",
       "      <td>...</td>\n",
       "      <td>...</td>\n",
       "      <td>...</td>\n",
       "    </tr>\n",
       "    <tr>\n",
       "      <td>16639</td>\n",
       "      <td>WSC REAL 09: World Snooker Championship</td>\n",
       "      <td>PS3</td>\n",
       "      <td>2009.0</td>\n",
       "      <td>Sports</td>\n",
       "      <td>0.00</td>\n",
       "      <td>0.01</td>\n",
       "      <td>0.00</td>\n",
       "      <td>0.00</td>\n",
       "      <td>NaN</td>\n",
       "      <td>NaN</td>\n",
       "      <td>undefined</td>\n",
       "      <td>0.01</td>\n",
       "    </tr>\n",
       "    <tr>\n",
       "      <td>16674</td>\n",
       "      <td>Tsukigime Ranko's Longest Day</td>\n",
       "      <td>PS3</td>\n",
       "      <td>2014.0</td>\n",
       "      <td>Action</td>\n",
       "      <td>0.00</td>\n",
       "      <td>0.01</td>\n",
       "      <td>0.00</td>\n",
       "      <td>0.00</td>\n",
       "      <td>NaN</td>\n",
       "      <td>NaN</td>\n",
       "      <td>undefined</td>\n",
       "      <td>0.01</td>\n",
       "    </tr>\n",
       "    <tr>\n",
       "      <td>16676</td>\n",
       "      <td>G1 Jockey 4 2008</td>\n",
       "      <td>PS3</td>\n",
       "      <td>2008.0</td>\n",
       "      <td>Sports</td>\n",
       "      <td>0.00</td>\n",
       "      <td>0.00</td>\n",
       "      <td>0.00</td>\n",
       "      <td>0.00</td>\n",
       "      <td>NaN</td>\n",
       "      <td>NaN</td>\n",
       "      <td>undefined</td>\n",
       "      <td>0.00</td>\n",
       "    </tr>\n",
       "    <tr>\n",
       "      <td>16691</td>\n",
       "      <td>Dynasty Warriors: Eiketsuden</td>\n",
       "      <td>PS3</td>\n",
       "      <td>2016.0</td>\n",
       "      <td>Action</td>\n",
       "      <td>0.00</td>\n",
       "      <td>0.00</td>\n",
       "      <td>0.01</td>\n",
       "      <td>0.00</td>\n",
       "      <td>NaN</td>\n",
       "      <td>NaN</td>\n",
       "      <td>undefined</td>\n",
       "      <td>0.01</td>\n",
       "    </tr>\n",
       "    <tr>\n",
       "      <td>16710</td>\n",
       "      <td>Samurai Warriors: Sanada Maru</td>\n",
       "      <td>PS3</td>\n",
       "      <td>2016.0</td>\n",
       "      <td>Action</td>\n",
       "      <td>0.00</td>\n",
       "      <td>0.00</td>\n",
       "      <td>0.01</td>\n",
       "      <td>0.00</td>\n",
       "      <td>NaN</td>\n",
       "      <td>NaN</td>\n",
       "      <td>undefined</td>\n",
       "      <td>0.01</td>\n",
       "    </tr>\n",
       "  </tbody>\n",
       "</table>\n",
       "<p>1306 rows × 12 columns</p>\n",
       "</div>"
      ],
      "text/plain": [
       "                                          name platform  year_of_release  \\\n",
       "16                          Grand Theft Auto V      PS3           2013.0   \n",
       "34                  Call of Duty: Black Ops II      PS3           2012.0   \n",
       "37              Call of Duty: Modern Warfare 3      PS3           2011.0   \n",
       "41                     Call of Duty: Black Ops      PS3           2010.0   \n",
       "54                              Gran Turismo 5      PS3           2010.0   \n",
       "...                                        ...      ...              ...   \n",
       "16639  WSC REAL 09: World Snooker Championship      PS3           2009.0   \n",
       "16674            Tsukigime Ranko's Longest Day      PS3           2014.0   \n",
       "16676                         G1 Jockey 4 2008      PS3           2008.0   \n",
       "16691             Dynasty Warriors: Eiketsuden      PS3           2016.0   \n",
       "16710            Samurai Warriors: Sanada Maru      PS3           2016.0   \n",
       "\n",
       "         genre  na_sales  eu_sales  jp_sales  other_sales  critic_score  \\\n",
       "16      Action      7.02      9.09      0.98         3.96          97.0   \n",
       "34     Shooter      4.99      5.73      0.65         2.42          83.0   \n",
       "37     Shooter      5.54      5.73      0.49         1.57          88.0   \n",
       "41     Shooter      5.99      4.37      0.48         1.79          88.0   \n",
       "54      Racing      2.96      4.82      0.81         2.11          84.0   \n",
       "...        ...       ...       ...       ...          ...           ...   \n",
       "16639   Sports      0.00      0.01      0.00         0.00           NaN   \n",
       "16674   Action      0.00      0.01      0.00         0.00           NaN   \n",
       "16676   Sports      0.00      0.00      0.00         0.00           NaN   \n",
       "16691   Action      0.00      0.00      0.01         0.00           NaN   \n",
       "16710   Action      0.00      0.00      0.01         0.00           NaN   \n",
       "\n",
       "       user_score     rating  total_sales  \n",
       "16            8.2          M        21.05  \n",
       "34            5.3          M        13.79  \n",
       "37            3.2          M        13.33  \n",
       "41            6.4          M        12.63  \n",
       "54            7.5          E        10.70  \n",
       "...           ...        ...          ...  \n",
       "16639         NaN  undefined         0.01  \n",
       "16674         NaN  undefined         0.01  \n",
       "16676         NaN  undefined         0.00  \n",
       "16691         NaN  undefined         0.01  \n",
       "16710         NaN  undefined         0.01  \n",
       "\n",
       "[1306 rows x 12 columns]"
      ]
     },
     "metadata": {},
     "output_type": "display_data"
    }
   ],
   "source": [
    "# делаем срез данных, в котором платформа PS2\n",
    "data_ps3 = data.query('platform == \"PS3\"')\n",
    "# выводим таблицу\n",
    "display(data_ps3)\n",
    "\n",
    "# видим, что строк где platform == PS3 1306 штук."
   ]
  },
  {
   "cell_type": "code",
   "execution_count": 27,
   "metadata": {},
   "outputs": [
    {
     "data": {
      "text/html": [
       "<div>\n",
       "<style scoped>\n",
       "    .dataframe tbody tr th:only-of-type {\n",
       "        vertical-align: middle;\n",
       "    }\n",
       "\n",
       "    .dataframe tbody tr th {\n",
       "        vertical-align: top;\n",
       "    }\n",
       "\n",
       "    .dataframe thead th {\n",
       "        text-align: right;\n",
       "    }\n",
       "</style>\n",
       "<table border=\"1\" class=\"dataframe\">\n",
       "  <thead>\n",
       "    <tr style=\"text-align: right;\">\n",
       "      <th></th>\n",
       "      <th>total_sales</th>\n",
       "    </tr>\n",
       "    <tr>\n",
       "      <th>year_of_release</th>\n",
       "      <th></th>\n",
       "    </tr>\n",
       "  </thead>\n",
       "  <tbody>\n",
       "    <tr>\n",
       "      <td>2011.0</td>\n",
       "      <td>156.78</td>\n",
       "    </tr>\n",
       "    <tr>\n",
       "      <td>2010.0</td>\n",
       "      <td>142.17</td>\n",
       "    </tr>\n",
       "    <tr>\n",
       "      <td>2009.0</td>\n",
       "      <td>130.93</td>\n",
       "    </tr>\n",
       "    <tr>\n",
       "      <td>2008.0</td>\n",
       "      <td>118.52</td>\n",
       "    </tr>\n",
       "    <tr>\n",
       "      <td>2013.0</td>\n",
       "      <td>113.25</td>\n",
       "    </tr>\n",
       "    <tr>\n",
       "      <td>2012.0</td>\n",
       "      <td>107.36</td>\n",
       "    </tr>\n",
       "    <tr>\n",
       "      <td>2007.0</td>\n",
       "      <td>73.19</td>\n",
       "    </tr>\n",
       "    <tr>\n",
       "      <td>2014.0</td>\n",
       "      <td>47.76</td>\n",
       "    </tr>\n",
       "    <tr>\n",
       "      <td>2006.0</td>\n",
       "      <td>20.96</td>\n",
       "    </tr>\n",
       "    <tr>\n",
       "      <td>2015.0</td>\n",
       "      <td>16.82</td>\n",
       "    </tr>\n",
       "    <tr>\n",
       "      <td>2016.0</td>\n",
       "      <td>3.60</td>\n",
       "    </tr>\n",
       "  </tbody>\n",
       "</table>\n",
       "</div>"
      ],
      "text/plain": [
       "                 total_sales\n",
       "year_of_release             \n",
       "2011.0                156.78\n",
       "2010.0                142.17\n",
       "2009.0                130.93\n",
       "2008.0                118.52\n",
       "2013.0                113.25\n",
       "2012.0                107.36\n",
       "2007.0                 73.19\n",
       "2014.0                 47.76\n",
       "2006.0                 20.96\n",
       "2015.0                 16.82\n",
       "2016.0                  3.60"
      ]
     },
     "metadata": {},
     "output_type": "display_data"
    }
   ],
   "source": [
    "# группируем данные чтобы найти общие продажи по годам\n",
    "ps3_from_year = data_ps3.groupby(['year_of_release']).agg({'total_sales':'sum'})\n",
    "# выведем получившуюся таблицу по убыванию значений\n",
    "display(ps3_from_year.sort_values(by='total_sales', ascending=False))"
   ]
  },
  {
   "cell_type": "code",
   "execution_count": 28,
   "metadata": {},
   "outputs": [
    {
     "data": {
      "text/plain": [
       "<matplotlib.axes._subplots.AxesSubplot at 0x7f1fe94cc810>"
      ]
     },
     "execution_count": 28,
     "metadata": {},
     "output_type": "execute_result"
    },
    {
     "data": {
      "image/png": "[encoded data removed]",
      "text/plain": [
       "<Figure size 1080x216 with 1 Axes>"
      ]
     },
     "metadata": {
      "needs_background": "light"
     },
     "output_type": "display_data"
    }
   ],
   "source": [
    "# посмотрим на графике\n",
    "ps3_from_year.plot(title='Продажи игр для платформы PS3 относительно года выпуска', grid=True, figsize=(15,3))"
   ]
  },
  {
   "cell_type": "markdown",
   "metadata": {},
   "source": [
    "У платформы PS3 самый прибыльный год 2011. В период с 2008 по 2011 продажи набирали обороты, после 2011 виден спад по продажам. Дата выхода платформы 11 ноября 2006 года - возможно с 2008 по 2011 год были самые низкие цены на ps3, с чем связан рост продаж. После 2011 года видимо данная платформа стала уже не актуальной. Также, как показывает практика - платформы для игр не всегда можно купить в дату выхода (или ближайшую после) т.к. их молниеносно раскупают и приходится ждать :)"
   ]
  },
  {
   "cell_type": "markdown",
   "metadata": {},
   "source": [
    "#### Общий вывод по изменениям продаж по платформам"
   ]
  },
  {
   "cell_type": "markdown",
   "metadata": {},
   "source": [
    "Построив графики и посмотрев распределения можно сделать вывод, что характерный период для платформ - 4 года. \n",
    "\n",
    "За 4 года каждая из платформ набирает обороты, достигает пиковой точки продаж - далее следует спад.\n",
    "\n",
    "Для дальнейшего исследования я решила взять данные за последние 2 года. Кажется, что если взять больше - будет не слишком актуально для построения реальной картины на предстоящий 2017 год."
   ]
  },
  {
   "cell_type": "markdown",
   "metadata": {},
   "source": [
    "### Выбираем несколько потенциально прибыльных платформ за актуальный период"
   ]
  },
  {
   "cell_type": "code",
   "execution_count": 29,
   "metadata": {},
   "outputs": [
    {
     "data": {
      "text/html": [
       "<div>\n",
       "<style scoped>\n",
       "    .dataframe tbody tr th:only-of-type {\n",
       "        vertical-align: middle;\n",
       "    }\n",
       "\n",
       "    .dataframe tbody tr th {\n",
       "        vertical-align: top;\n",
       "    }\n",
       "\n",
       "    .dataframe thead th {\n",
       "        text-align: right;\n",
       "    }\n",
       "</style>\n",
       "<table border=\"1\" class=\"dataframe\">\n",
       "  <thead>\n",
       "    <tr style=\"text-align: right;\">\n",
       "      <th></th>\n",
       "      <th>name</th>\n",
       "      <th>platform</th>\n",
       "      <th>year_of_release</th>\n",
       "      <th>genre</th>\n",
       "      <th>na_sales</th>\n",
       "      <th>eu_sales</th>\n",
       "      <th>jp_sales</th>\n",
       "      <th>other_sales</th>\n",
       "      <th>critic_score</th>\n",
       "      <th>user_score</th>\n",
       "      <th>rating</th>\n",
       "      <th>total_sales</th>\n",
       "    </tr>\n",
       "  </thead>\n",
       "  <tbody>\n",
       "    <tr>\n",
       "      <td>31</td>\n",
       "      <td>Call of Duty: Black Ops 3</td>\n",
       "      <td>PS4</td>\n",
       "      <td>2015.0</td>\n",
       "      <td>Shooter</td>\n",
       "      <td>6.03</td>\n",
       "      <td>5.86</td>\n",
       "      <td>0.36</td>\n",
       "      <td>2.38</td>\n",
       "      <td>NaN</td>\n",
       "      <td>NaN</td>\n",
       "      <td>undefined</td>\n",
       "      <td>14.63</td>\n",
       "    </tr>\n",
       "    <tr>\n",
       "      <td>77</td>\n",
       "      <td>FIFA 16</td>\n",
       "      <td>PS4</td>\n",
       "      <td>2015.0</td>\n",
       "      <td>Sports</td>\n",
       "      <td>1.12</td>\n",
       "      <td>6.12</td>\n",
       "      <td>0.06</td>\n",
       "      <td>1.28</td>\n",
       "      <td>82.0</td>\n",
       "      <td>4.3</td>\n",
       "      <td>E</td>\n",
       "      <td>8.58</td>\n",
       "    </tr>\n",
       "    <tr>\n",
       "      <td>87</td>\n",
       "      <td>Star Wars Battlefront (2015)</td>\n",
       "      <td>PS4</td>\n",
       "      <td>2015.0</td>\n",
       "      <td>Shooter</td>\n",
       "      <td>2.99</td>\n",
       "      <td>3.49</td>\n",
       "      <td>0.22</td>\n",
       "      <td>1.28</td>\n",
       "      <td>NaN</td>\n",
       "      <td>NaN</td>\n",
       "      <td>undefined</td>\n",
       "      <td>7.98</td>\n",
       "    </tr>\n",
       "    <tr>\n",
       "      <td>94</td>\n",
       "      <td>FIFA 17</td>\n",
       "      <td>PS4</td>\n",
       "      <td>2016.0</td>\n",
       "      <td>Sports</td>\n",
       "      <td>0.66</td>\n",
       "      <td>5.75</td>\n",
       "      <td>0.08</td>\n",
       "      <td>1.11</td>\n",
       "      <td>85.0</td>\n",
       "      <td>5.0</td>\n",
       "      <td>E</td>\n",
       "      <td>7.60</td>\n",
       "    </tr>\n",
       "    <tr>\n",
       "      <td>99</td>\n",
       "      <td>Call of Duty: Black Ops 3</td>\n",
       "      <td>XOne</td>\n",
       "      <td>2015.0</td>\n",
       "      <td>Shooter</td>\n",
       "      <td>4.59</td>\n",
       "      <td>2.11</td>\n",
       "      <td>0.01</td>\n",
       "      <td>0.68</td>\n",
       "      <td>NaN</td>\n",
       "      <td>NaN</td>\n",
       "      <td>undefined</td>\n",
       "      <td>7.39</td>\n",
       "    </tr>\n",
       "    <tr>\n",
       "      <td>...</td>\n",
       "      <td>...</td>\n",
       "      <td>...</td>\n",
       "      <td>...</td>\n",
       "      <td>...</td>\n",
       "      <td>...</td>\n",
       "      <td>...</td>\n",
       "      <td>...</td>\n",
       "      <td>...</td>\n",
       "      <td>...</td>\n",
       "      <td>...</td>\n",
       "      <td>...</td>\n",
       "      <td>...</td>\n",
       "    </tr>\n",
       "    <tr>\n",
       "      <td>16699</td>\n",
       "      <td>The Longest 5 Minutes</td>\n",
       "      <td>PSV</td>\n",
       "      <td>2016.0</td>\n",
       "      <td>Action</td>\n",
       "      <td>0.00</td>\n",
       "      <td>0.00</td>\n",
       "      <td>0.01</td>\n",
       "      <td>0.00</td>\n",
       "      <td>NaN</td>\n",
       "      <td>NaN</td>\n",
       "      <td>undefined</td>\n",
       "      <td>0.01</td>\n",
       "    </tr>\n",
       "    <tr>\n",
       "      <td>16703</td>\n",
       "      <td>Strawberry Nauts</td>\n",
       "      <td>PSV</td>\n",
       "      <td>2016.0</td>\n",
       "      <td>Adventure</td>\n",
       "      <td>0.00</td>\n",
       "      <td>0.00</td>\n",
       "      <td>0.01</td>\n",
       "      <td>0.00</td>\n",
       "      <td>NaN</td>\n",
       "      <td>NaN</td>\n",
       "      <td>undefined</td>\n",
       "      <td>0.01</td>\n",
       "    </tr>\n",
       "    <tr>\n",
       "      <td>16710</td>\n",
       "      <td>Samurai Warriors: Sanada Maru</td>\n",
       "      <td>PS3</td>\n",
       "      <td>2016.0</td>\n",
       "      <td>Action</td>\n",
       "      <td>0.00</td>\n",
       "      <td>0.00</td>\n",
       "      <td>0.01</td>\n",
       "      <td>0.00</td>\n",
       "      <td>NaN</td>\n",
       "      <td>NaN</td>\n",
       "      <td>undefined</td>\n",
       "      <td>0.01</td>\n",
       "    </tr>\n",
       "    <tr>\n",
       "      <td>16712</td>\n",
       "      <td>Haitaka no Psychedelica</td>\n",
       "      <td>PSV</td>\n",
       "      <td>2016.0</td>\n",
       "      <td>Adventure</td>\n",
       "      <td>0.00</td>\n",
       "      <td>0.00</td>\n",
       "      <td>0.01</td>\n",
       "      <td>0.00</td>\n",
       "      <td>NaN</td>\n",
       "      <td>NaN</td>\n",
       "      <td>undefined</td>\n",
       "      <td>0.01</td>\n",
       "    </tr>\n",
       "    <tr>\n",
       "      <td>16714</td>\n",
       "      <td>Winning Post 8 2016</td>\n",
       "      <td>PSV</td>\n",
       "      <td>2016.0</td>\n",
       "      <td>Simulation</td>\n",
       "      <td>0.00</td>\n",
       "      <td>0.00</td>\n",
       "      <td>0.01</td>\n",
       "      <td>0.00</td>\n",
       "      <td>NaN</td>\n",
       "      <td>NaN</td>\n",
       "      <td>undefined</td>\n",
       "      <td>0.01</td>\n",
       "    </tr>\n",
       "  </tbody>\n",
       "</table>\n",
       "<p>1108 rows × 12 columns</p>\n",
       "</div>"
      ],
      "text/plain": [
       "                                name platform  year_of_release       genre  \\\n",
       "31         Call of Duty: Black Ops 3      PS4           2015.0     Shooter   \n",
       "77                           FIFA 16      PS4           2015.0      Sports   \n",
       "87      Star Wars Battlefront (2015)      PS4           2015.0     Shooter   \n",
       "94                           FIFA 17      PS4           2016.0      Sports   \n",
       "99         Call of Duty: Black Ops 3     XOne           2015.0     Shooter   \n",
       "...                              ...      ...              ...         ...   \n",
       "16699          The Longest 5 Minutes      PSV           2016.0      Action   \n",
       "16703               Strawberry Nauts      PSV           2016.0   Adventure   \n",
       "16710  Samurai Warriors: Sanada Maru      PS3           2016.0      Action   \n",
       "16712        Haitaka no Psychedelica      PSV           2016.0   Adventure   \n",
       "16714            Winning Post 8 2016      PSV           2016.0  Simulation   \n",
       "\n",
       "       na_sales  eu_sales  jp_sales  other_sales  critic_score  user_score  \\\n",
       "31         6.03      5.86      0.36         2.38           NaN         NaN   \n",
       "77         1.12      6.12      0.06         1.28          82.0         4.3   \n",
       "87         2.99      3.49      0.22         1.28           NaN         NaN   \n",
       "94         0.66      5.75      0.08         1.11          85.0         5.0   \n",
       "99         4.59      2.11      0.01         0.68           NaN         NaN   \n",
       "...         ...       ...       ...          ...           ...         ...   \n",
       "16699      0.00      0.00      0.01         0.00           NaN         NaN   \n",
       "16703      0.00      0.00      0.01         0.00           NaN         NaN   \n",
       "16710      0.00      0.00      0.01         0.00           NaN         NaN   \n",
       "16712      0.00      0.00      0.01         0.00           NaN         NaN   \n",
       "16714      0.00      0.00      0.01         0.00           NaN         NaN   \n",
       "\n",
       "          rating  total_sales  \n",
       "31     undefined        14.63  \n",
       "77             E         8.58  \n",
       "87     undefined         7.98  \n",
       "94             E         7.60  \n",
       "99     undefined         7.39  \n",
       "...          ...          ...  \n",
       "16699  undefined         0.01  \n",
       "16703  undefined         0.01  \n",
       "16710  undefined         0.01  \n",
       "16712  undefined         0.01  \n",
       "16714  undefined         0.01  \n",
       "\n",
       "[1108 rows x 12 columns]"
      ]
     },
     "metadata": {},
     "output_type": "display_data"
    }
   ],
   "source": [
    "# делаем срез в который попадут данные за последние 2 года\n",
    "data_new = data.query('year_of_release in [\"2015\", \"2016\"]')\n",
    "# выводим таблицу\n",
    "display(data_new)"
   ]
  },
  {
   "cell_type": "code",
   "execution_count": 30,
   "metadata": {},
   "outputs": [
    {
     "data": {
      "text/html": [
       "<div>\n",
       "<style scoped>\n",
       "    .dataframe tbody tr th:only-of-type {\n",
       "        vertical-align: middle;\n",
       "    }\n",
       "\n",
       "    .dataframe tbody tr th {\n",
       "        vertical-align: top;\n",
       "    }\n",
       "\n",
       "    .dataframe thead th {\n",
       "        text-align: right;\n",
       "    }\n",
       "</style>\n",
       "<table border=\"1\" class=\"dataframe\">\n",
       "  <thead>\n",
       "    <tr style=\"text-align: right;\">\n",
       "      <th></th>\n",
       "      <th>platform</th>\n",
       "      <th>total_sales</th>\n",
       "    </tr>\n",
       "  </thead>\n",
       "  <tbody>\n",
       "    <tr>\n",
       "      <td>3</td>\n",
       "      <td>PS4</td>\n",
       "      <td>188.15</td>\n",
       "    </tr>\n",
       "    <tr>\n",
       "      <td>9</td>\n",
       "      <td>XOne</td>\n",
       "      <td>86.29</td>\n",
       "    </tr>\n",
       "    <tr>\n",
       "      <td>0</td>\n",
       "      <td>3DS</td>\n",
       "      <td>42.92</td>\n",
       "    </tr>\n",
       "    <tr>\n",
       "      <td>7</td>\n",
       "      <td>WiiU</td>\n",
       "      <td>20.95</td>\n",
       "    </tr>\n",
       "    <tr>\n",
       "      <td>2</td>\n",
       "      <td>PS3</td>\n",
       "      <td>20.42</td>\n",
       "    </tr>\n",
       "    <tr>\n",
       "      <td>1</td>\n",
       "      <td>PC</td>\n",
       "      <td>13.77</td>\n",
       "    </tr>\n",
       "    <tr>\n",
       "      <td>8</td>\n",
       "      <td>X360</td>\n",
       "      <td>13.48</td>\n",
       "    </tr>\n",
       "    <tr>\n",
       "      <td>5</td>\n",
       "      <td>PSV</td>\n",
       "      <td>10.50</td>\n",
       "    </tr>\n",
       "    <tr>\n",
       "      <td>6</td>\n",
       "      <td>Wii</td>\n",
       "      <td>1.32</td>\n",
       "    </tr>\n",
       "    <tr>\n",
       "      <td>4</td>\n",
       "      <td>PSP</td>\n",
       "      <td>0.12</td>\n",
       "    </tr>\n",
       "  </tbody>\n",
       "</table>\n",
       "</div>"
      ],
      "text/plain": [
       "  platform  total_sales\n",
       "3      PS4       188.15\n",
       "9     XOne        86.29\n",
       "0      3DS        42.92\n",
       "7     WiiU        20.95\n",
       "2      PS3        20.42\n",
       "1       PC        13.77\n",
       "8     X360        13.48\n",
       "5      PSV        10.50\n",
       "6      Wii         1.32\n",
       "4      PSP         0.12"
      ]
     },
     "metadata": {},
     "output_type": "display_data"
    }
   ],
   "source": [
    "# сделаем сводбную таблицу, чтобы посмотреть какие платформы самые прибыльные\n",
    "leading_platforms = data_new.pivot_table(index='platform', values='total_sales', aggfunc='sum').reset_index()\n",
    "# выводим таблицу по убыванию значений общей прибыли\n",
    "display(leading_platforms.sort_values(by='total_sales', ascending=False))"
   ]
  },
  {
   "cell_type": "markdown",
   "metadata": {},
   "source": [
    "#### Общий вывод по нескольким прибыльным платформам"
   ]
  },
  {
   "cell_type": "markdown",
   "metadata": {},
   "source": [
    "Сделав сводную таблицу за актуальный период можно сказать, что лидерами по продажам стали PS4, XOne и 3DS. Они являются потенциально прибыльные.\n",
    "\n",
    "PS4 стоит на первом месте. Не удивительно, её младшие братья PS3 и PS2 в своё время также были в топе по продажам. Можно сказать, что эта консоль актуальна после её \"апгрейдов\" абсолютно всегда.\n",
    "\n",
    "XOne стоит на втором месте. Это тоже не удивително, т.к. (как мне кажется) тут имеется постоянная борьба. Xbox и PS самые покупаемые консоли. Огромное преимущество, что купив XOne ты всё еще можешь играть в игры X360, думаю это одна из причин - почему консоль пользуется спросом :) Товар улучшают и с годами с топа он не уходит :)\n",
    "\n",
    "3DS это консоль компании Nintendo. Можно сказать, что консоли этой компании с топа тоже не уходили (по нашим данным), т.к. Wii это тоже консоль компании Nintendo. Компания улучшает продукт, делает новые модели - люди покупают.\n",
    "\n",
    "\n",
    "\n",
    "\n",
    "\n",
    "\n"
   ]
  },
  {
   "cell_type": "code",
   "execution_count": 31,
   "metadata": {},
   "outputs": [
    {
     "data": {
      "text/plain": [
       "<matplotlib.axes._subplots.AxesSubplot at 0x7f1fe9424690>"
      ]
     },
     "execution_count": 31,
     "metadata": {},
     "output_type": "execute_result"
    },
    {
     "data": {
      "image/png": "[encoded data removed]",
      "text/plain": [
       "<Figure size 720x288 with 1 Axes>"
      ]
     },
     "metadata": {
      "needs_background": "light"
     },
     "output_type": "display_data"
    }
   ],
   "source": [
    "(\n",
    "    data\n",
    "    .query('platform in @data_new.platform.unique()')\n",
    "    .pivot_table(index='year_of_release', columns='platform', values='total_sales', aggfunc='count',)\n",
    "    .plot(figsize=(10,4))\n",
    ")"
   ]
  },
  {
   "cell_type": "markdown",
   "metadata": {},
   "source": [
    "### Диаграмма размаха по глобальным продажам в разбивке по платформам"
   ]
  },
  {
   "cell_type": "code",
   "execution_count": 32,
   "metadata": {},
   "outputs": [
    {
     "data": {
      "text/plain": [
       "(0, 3)"
      ]
     },
     "execution_count": 32,
     "metadata": {},
     "output_type": "execute_result"
    },
    {
     "data": {
      "image/png": "[encoded data removed]",
      "text/plain": [
       "<Figure size 1440x720 with 1 Axes>"
      ]
     },
     "metadata": {
      "needs_background": "light"
     },
     "output_type": "display_data"
    }
   ],
   "source": [
    "data_new.boxplot(column='total_sales', by='platform', figsize=(20,10))\n",
    "plt.ylim(0, 3)"
   ]
  },
  {
   "cell_type": "markdown",
   "metadata": {},
   "source": [
    "#### Вывод"
   ]
  },
  {
   "cell_type": "markdown",
   "metadata": {},
   "source": [
    "Нижний ус упирается в 0. Граница верхних усов у всех разная, где-то 0,5, где-то 1 - в любом случае это граница нормального размаха. Всё, что находится за верхней границей - считается выбросами.  Они рисуются отдельными точками, но где-то сливаются в одну линию. Наверное, значения которые отсек верхний ус можно считать \"редкими\". Видно, насколько медиана (зелёная линия) не стремится к длинному хвосту высоких значений. Только в единственном случае с платформой Wii."
   ]
  },
  {
   "cell_type": "markdown",
   "metadata": {},
   "source": [
    "### Влияние отзывов пользователей и критиков на продажи PS4"
   ]
  },
  {
   "cell_type": "markdown",
   "metadata": {},
   "source": [
    "#### Влияние оценки критиков на продажи"
   ]
  },
  {
   "cell_type": "code",
   "execution_count": 33,
   "metadata": {},
   "outputs": [
    {
     "data": {
      "text/html": [
       "<div>\n",
       "<style scoped>\n",
       "    .dataframe tbody tr th:only-of-type {\n",
       "        vertical-align: middle;\n",
       "    }\n",
       "\n",
       "    .dataframe tbody tr th {\n",
       "        vertical-align: top;\n",
       "    }\n",
       "\n",
       "    .dataframe thead th {\n",
       "        text-align: right;\n",
       "    }\n",
       "</style>\n",
       "<table border=\"1\" class=\"dataframe\">\n",
       "  <thead>\n",
       "    <tr style=\"text-align: right;\">\n",
       "      <th></th>\n",
       "      <th>name</th>\n",
       "      <th>platform</th>\n",
       "      <th>year_of_release</th>\n",
       "      <th>genre</th>\n",
       "      <th>na_sales</th>\n",
       "      <th>eu_sales</th>\n",
       "      <th>jp_sales</th>\n",
       "      <th>other_sales</th>\n",
       "      <th>critic_score</th>\n",
       "      <th>user_score</th>\n",
       "      <th>rating</th>\n",
       "      <th>total_sales</th>\n",
       "    </tr>\n",
       "  </thead>\n",
       "  <tbody>\n",
       "    <tr>\n",
       "      <td>31</td>\n",
       "      <td>Call of Duty: Black Ops 3</td>\n",
       "      <td>PS4</td>\n",
       "      <td>2015.0</td>\n",
       "      <td>Shooter</td>\n",
       "      <td>6.03</td>\n",
       "      <td>5.86</td>\n",
       "      <td>0.36</td>\n",
       "      <td>2.38</td>\n",
       "      <td>NaN</td>\n",
       "      <td>NaN</td>\n",
       "      <td>undefined</td>\n",
       "      <td>14.63</td>\n",
       "    </tr>\n",
       "    <tr>\n",
       "      <td>77</td>\n",
       "      <td>FIFA 16</td>\n",
       "      <td>PS4</td>\n",
       "      <td>2015.0</td>\n",
       "      <td>Sports</td>\n",
       "      <td>1.12</td>\n",
       "      <td>6.12</td>\n",
       "      <td>0.06</td>\n",
       "      <td>1.28</td>\n",
       "      <td>82.0</td>\n",
       "      <td>4.3</td>\n",
       "      <td>E</td>\n",
       "      <td>8.58</td>\n",
       "    </tr>\n",
       "    <tr>\n",
       "      <td>87</td>\n",
       "      <td>Star Wars Battlefront (2015)</td>\n",
       "      <td>PS4</td>\n",
       "      <td>2015.0</td>\n",
       "      <td>Shooter</td>\n",
       "      <td>2.99</td>\n",
       "      <td>3.49</td>\n",
       "      <td>0.22</td>\n",
       "      <td>1.28</td>\n",
       "      <td>NaN</td>\n",
       "      <td>NaN</td>\n",
       "      <td>undefined</td>\n",
       "      <td>7.98</td>\n",
       "    </tr>\n",
       "    <tr>\n",
       "      <td>94</td>\n",
       "      <td>FIFA 17</td>\n",
       "      <td>PS4</td>\n",
       "      <td>2016.0</td>\n",
       "      <td>Sports</td>\n",
       "      <td>0.66</td>\n",
       "      <td>5.75</td>\n",
       "      <td>0.08</td>\n",
       "      <td>1.11</td>\n",
       "      <td>85.0</td>\n",
       "      <td>5.0</td>\n",
       "      <td>E</td>\n",
       "      <td>7.60</td>\n",
       "    </tr>\n",
       "    <tr>\n",
       "      <td>105</td>\n",
       "      <td>Fallout 4</td>\n",
       "      <td>PS4</td>\n",
       "      <td>2015.0</td>\n",
       "      <td>Role-Playing</td>\n",
       "      <td>2.53</td>\n",
       "      <td>3.27</td>\n",
       "      <td>0.24</td>\n",
       "      <td>1.13</td>\n",
       "      <td>87.0</td>\n",
       "      <td>6.5</td>\n",
       "      <td>M</td>\n",
       "      <td>7.17</td>\n",
       "    </tr>\n",
       "    <tr>\n",
       "      <td>...</td>\n",
       "      <td>...</td>\n",
       "      <td>...</td>\n",
       "      <td>...</td>\n",
       "      <td>...</td>\n",
       "      <td>...</td>\n",
       "      <td>...</td>\n",
       "      <td>...</td>\n",
       "      <td>...</td>\n",
       "      <td>...</td>\n",
       "      <td>...</td>\n",
       "      <td>...</td>\n",
       "      <td>...</td>\n",
       "    </tr>\n",
       "    <tr>\n",
       "      <td>16500</td>\n",
       "      <td>Root Letter</td>\n",
       "      <td>PS4</td>\n",
       "      <td>2016.0</td>\n",
       "      <td>Adventure</td>\n",
       "      <td>0.00</td>\n",
       "      <td>0.00</td>\n",
       "      <td>0.01</td>\n",
       "      <td>0.00</td>\n",
       "      <td>69.0</td>\n",
       "      <td>7.5</td>\n",
       "      <td>undefined</td>\n",
       "      <td>0.01</td>\n",
       "    </tr>\n",
       "    <tr>\n",
       "      <td>16503</td>\n",
       "      <td>Shin Hayarigami 2</td>\n",
       "      <td>PS4</td>\n",
       "      <td>2016.0</td>\n",
       "      <td>Adventure</td>\n",
       "      <td>0.00</td>\n",
       "      <td>0.00</td>\n",
       "      <td>0.01</td>\n",
       "      <td>0.00</td>\n",
       "      <td>NaN</td>\n",
       "      <td>NaN</td>\n",
       "      <td>undefined</td>\n",
       "      <td>0.01</td>\n",
       "    </tr>\n",
       "    <tr>\n",
       "      <td>16526</td>\n",
       "      <td>Dungeons 2</td>\n",
       "      <td>PS4</td>\n",
       "      <td>2016.0</td>\n",
       "      <td>Role-Playing</td>\n",
       "      <td>0.01</td>\n",
       "      <td>0.00</td>\n",
       "      <td>0.00</td>\n",
       "      <td>0.00</td>\n",
       "      <td>61.0</td>\n",
       "      <td>7.9</td>\n",
       "      <td>T</td>\n",
       "      <td>0.01</td>\n",
       "    </tr>\n",
       "    <tr>\n",
       "      <td>16530</td>\n",
       "      <td>Carmageddon: Max Damage</td>\n",
       "      <td>PS4</td>\n",
       "      <td>2016.0</td>\n",
       "      <td>Action</td>\n",
       "      <td>0.01</td>\n",
       "      <td>0.00</td>\n",
       "      <td>0.00</td>\n",
       "      <td>0.00</td>\n",
       "      <td>51.0</td>\n",
       "      <td>5.5</td>\n",
       "      <td>M</td>\n",
       "      <td>0.01</td>\n",
       "    </tr>\n",
       "    <tr>\n",
       "      <td>16585</td>\n",
       "      <td>Farming 2017 - The Simulation</td>\n",
       "      <td>PS4</td>\n",
       "      <td>2016.0</td>\n",
       "      <td>Simulation</td>\n",
       "      <td>0.00</td>\n",
       "      <td>0.01</td>\n",
       "      <td>0.00</td>\n",
       "      <td>0.00</td>\n",
       "      <td>NaN</td>\n",
       "      <td>NaN</td>\n",
       "      <td>undefined</td>\n",
       "      <td>0.01</td>\n",
       "    </tr>\n",
       "  </tbody>\n",
       "</table>\n",
       "<p>301 rows × 12 columns</p>\n",
       "</div>"
      ],
      "text/plain": [
       "                                name platform  year_of_release         genre  \\\n",
       "31         Call of Duty: Black Ops 3      PS4           2015.0       Shooter   \n",
       "77                           FIFA 16      PS4           2015.0        Sports   \n",
       "87      Star Wars Battlefront (2015)      PS4           2015.0       Shooter   \n",
       "94                           FIFA 17      PS4           2016.0        Sports   \n",
       "105                        Fallout 4      PS4           2015.0  Role-Playing   \n",
       "...                              ...      ...              ...           ...   \n",
       "16500                    Root Letter      PS4           2016.0     Adventure   \n",
       "16503              Shin Hayarigami 2      PS4           2016.0     Adventure   \n",
       "16526                     Dungeons 2      PS4           2016.0  Role-Playing   \n",
       "16530        Carmageddon: Max Damage      PS4           2016.0        Action   \n",
       "16585  Farming 2017 - The Simulation      PS4           2016.0    Simulation   \n",
       "\n",
       "       na_sales  eu_sales  jp_sales  other_sales  critic_score  user_score  \\\n",
       "31         6.03      5.86      0.36         2.38           NaN         NaN   \n",
       "77         1.12      6.12      0.06         1.28          82.0         4.3   \n",
       "87         2.99      3.49      0.22         1.28           NaN         NaN   \n",
       "94         0.66      5.75      0.08         1.11          85.0         5.0   \n",
       "105        2.53      3.27      0.24         1.13          87.0         6.5   \n",
       "...         ...       ...       ...          ...           ...         ...   \n",
       "16500      0.00      0.00      0.01         0.00          69.0         7.5   \n",
       "16503      0.00      0.00      0.01         0.00           NaN         NaN   \n",
       "16526      0.01      0.00      0.00         0.00          61.0         7.9   \n",
       "16530      0.01      0.00      0.00         0.00          51.0         5.5   \n",
       "16585      0.00      0.01      0.00         0.00           NaN         NaN   \n",
       "\n",
       "          rating  total_sales  \n",
       "31     undefined        14.63  \n",
       "77             E         8.58  \n",
       "87     undefined         7.98  \n",
       "94             E         7.60  \n",
       "105            M         7.17  \n",
       "...          ...          ...  \n",
       "16500  undefined         0.01  \n",
       "16503  undefined         0.01  \n",
       "16526          T         0.01  \n",
       "16530          M         0.01  \n",
       "16585  undefined         0.01  \n",
       "\n",
       "[301 rows x 12 columns]"
      ]
     },
     "metadata": {},
     "output_type": "display_data"
    }
   ],
   "source": [
    "# делаем срез данных для платформы PS4\n",
    "ps4_frame = data_new.query('platform == \"PS4\"')\n",
    "# выводим таблицу\n",
    "display(ps4_frame)"
   ]
  },
  {
   "cell_type": "code",
   "execution_count": 34,
   "metadata": {},
   "outputs": [
    {
     "data": {
      "text/plain": [
       "<matplotlib.axes._subplots.AxesSubplot at 0x7f1fe91be510>"
      ]
     },
     "execution_count": 34,
     "metadata": {},
     "output_type": "execute_result"
    },
    {
     "data": {
      "image/png": "[encoded data removed]",
      "text/plain": [
       "<Figure size 1080x720 with 1 Axes>"
      ]
     },
     "metadata": {
      "needs_background": "light"
     },
     "output_type": "display_data"
    }
   ],
   "source": [
    "# построим диаграмму рассеяния по продажам и оценке критиков\n",
    "ps4_frame.plot(\n",
    "    x='critic_score', y='total_sales', figsize=(15,10), kind='scatter', title='Влияние отзывов критиков на продажи'\n",
    ")"
   ]
  },
  {
   "cell_type": "code",
   "execution_count": 35,
   "metadata": {},
   "outputs": [
    {
     "name": "stdout",
     "output_type": "stream",
     "text": [
      "Коэффициент корреляции Пирсона составляет: 0.3928485555130601\n"
     ]
    }
   ],
   "source": [
    "print('Коэффициент корреляции Пирсона составляет:', ps4_frame['critic_score'].corr(ps4_frame['total_sales']))"
   ]
  },
  {
   "cell_type": "markdown",
   "metadata": {},
   "source": [
    "На диаграмме рассеяния видно, что при большей оценке критиков - увеличиваются и продажи.\n",
    "\n",
    "НО так бывает не всегда о чем говорит коэффициент корреляции. Коеэфициент положительный и говорит о наличии связи, но не слишком сильной. "
   ]
  },
  {
   "cell_type": "markdown",
   "metadata": {},
   "source": [
    "#### Влияние оценки пользователей на продажи"
   ]
  },
  {
   "cell_type": "code",
   "execution_count": 36,
   "metadata": {},
   "outputs": [
    {
     "data": {
      "text/plain": [
       "<matplotlib.axes._subplots.AxesSubplot at 0x7f1fe92a2c90>"
      ]
     },
     "execution_count": 36,
     "metadata": {},
     "output_type": "execute_result"
    },
    {
     "data": {
      "image/png": "[encoded data removed]",
      "text/plain": [
       "<Figure size 1080x432 with 1 Axes>"
      ]
     },
     "metadata": {
      "needs_background": "light"
     },
     "output_type": "display_data"
    }
   ],
   "source": [
    "# построим диаграмму рассеяния по продажам и оценке критиков\n",
    "ps4_frame.plot(\n",
    "    x='user_score', y='total_sales', figsize=(15,6), kind='scatter', title='Влияние отзывов пользователей на продажи'\n",
    ")"
   ]
  },
  {
   "cell_type": "code",
   "execution_count": 37,
   "metadata": {},
   "outputs": [
    {
     "name": "stdout",
     "output_type": "stream",
     "text": [
      "Коэффициент корреляции Пирсона составляет: -0.05973845712638215\n"
     ]
    }
   ],
   "source": [
    "print('Коэффициент корреляции Пирсона составляет:', ps4_frame['user_score'].corr(ps4_frame['total_sales']))"
   ]
  },
  {
   "cell_type": "markdown",
   "metadata": {},
   "source": [
    "Построив диаграмму рассеяния можно сказать, что связь между отзывами пользователей и продажами отсутствет.\n",
    "\n",
    "Дополнительно это подтверждает найденный коэффициент корреляции - он отрицательный, что говорит о том что связи абсолютно и точно нет."
   ]
  },
  {
   "cell_type": "markdown",
   "metadata": {},
   "source": [
    "#### Общий вывод по влиянию отзывов пользователей и критиков на продажи"
   ]
  },
  {
   "cell_type": "markdown",
   "metadata": {},
   "source": [
    "В первом случае исследование показало, что связь между оценкой критиков и продажами имеется. При лучшей оценке увеличиваются и продажи, но так происходит не всегда о чем говорит коэффициент корреляции.\n",
    "\n",
    "Во втором случай, связь между оценкой пользователей и продажаим отсутствует. Это видно как на диаграмме, так и по коэффициенту корреляции."
   ]
  },
  {
   "cell_type": "markdown",
   "metadata": {},
   "source": [
    "### Соотношение выводов с продажами игр на других платформах"
   ]
  },
  {
   "cell_type": "code",
   "execution_count": 38,
   "metadata": {},
   "outputs": [
    {
     "name": "stdout",
     "output_type": "stream",
     "text": [
      "Коэффициент корреляции Пирсона продаж от оценки критиков составляет: 0.317045711769622\n",
      "Коэффициент корреляции Пирсона продаж от оценки пользователей составляет: 0.3635185724809445\n"
     ]
    }
   ],
   "source": [
    "# возьмем достаточно прибыльную платформу WiiU\n",
    "\n",
    "# делаем срез данных для платформы WiiU\n",
    "wiiu_frame = data_new.query('platform == \"WiiU\"')\n",
    "# находим коэффециент корреляции продаж от оценки критиков и пользователей\n",
    "print(\n",
    "    'Коэффициент корреляции Пирсона продаж от оценки критиков составляет:', wiiu_frame['critic_score'].corr(\n",
    "        wiiu_frame['total_sales'])\n",
    ")\n",
    "print(\n",
    "    'Коэффициент корреляции Пирсона продаж от оценки пользователей составляет:', wiiu_frame['user_score'].corr(\n",
    "        wiiu_frame['total_sales'])\n",
    ")"
   ]
  },
  {
   "cell_type": "code",
   "execution_count": 39,
   "metadata": {},
   "outputs": [
    {
     "name": "stdout",
     "output_type": "stream",
     "text": [
      "Коэффициент корреляции Пирсона продаж от оценки критиков составляет: 0.0036040833609397678\n",
      "Коэффициент корреляции Пирсона продаж от оценки пользователей составляет: 0.07833473556248864\n"
     ]
    }
   ],
   "source": [
    "# возьмем менее прибыльную платформу PSV\n",
    "\n",
    "# делаем срез данных для платформы PSV\n",
    "psv_frame = data_new.query('platform == \"PSV\"')\n",
    "# находим коэффециент корреляции продаж от оценки критиков и пользователей\n",
    "print(\n",
    "    'Коэффициент корреляции Пирсона продаж от оценки критиков составляет:', psv_frame['critic_score'].corr(\n",
    "        psv_frame['total_sales'])\n",
    ")\n",
    "print(\n",
    "    'Коэффициент корреляции Пирсона продаж от оценки пользователей составляет:', psv_frame['user_score'].corr(\n",
    "        psv_frame['total_sales'])\n",
    ")"
   ]
  },
  {
   "cell_type": "markdown",
   "metadata": {},
   "source": [
    "#### Вывод"
   ]
  },
  {
   "cell_type": "markdown",
   "metadata": {},
   "source": [
    "Я решила взять 2 платформы. Одна, у которой достаточно высокие продажи, и вторая - у которой продажи низкие (из актуального периода).\n",
    "\n",
    "По данным первой платформы можно сказать, что взаимосвязь имеется - но не сильная.\n",
    "\n",
    "По данным втоой платформы можем сказать - что взаимосвязи почти нет. Она минимальна. Об этом говорит коэффициент корреляции.\n",
    "\n",
    "Если соотнести эти данные с данными выше и сравнить, можно сказать, что на платформы с высокими продажами частично влияют отзывы экспертов. По мере уменьшения прибыли - отзывы экспертов и пользователей становятся абсолютно не важны."
   ]
  },
  {
   "cell_type": "markdown",
   "metadata": {},
   "source": [
    "### Общее распределение игр по жанрам"
   ]
  },
  {
   "cell_type": "code",
   "execution_count": 40,
   "metadata": {},
   "outputs": [
    {
     "data": {
      "text/html": [
       "<div>\n",
       "<style scoped>\n",
       "    .dataframe tbody tr th:only-of-type {\n",
       "        vertical-align: middle;\n",
       "    }\n",
       "\n",
       "    .dataframe tbody tr th {\n",
       "        vertical-align: top;\n",
       "    }\n",
       "\n",
       "    .dataframe thead th {\n",
       "        text-align: right;\n",
       "    }\n",
       "</style>\n",
       "<table border=\"1\" class=\"dataframe\">\n",
       "  <thead>\n",
       "    <tr style=\"text-align: right;\">\n",
       "      <th></th>\n",
       "      <th>genre</th>\n",
       "      <th>total_sales</th>\n",
       "    </tr>\n",
       "  </thead>\n",
       "  <tbody>\n",
       "    <tr>\n",
       "      <td>8</td>\n",
       "      <td>Shooter</td>\n",
       "      <td>105.73</td>\n",
       "    </tr>\n",
       "    <tr>\n",
       "      <td>0</td>\n",
       "      <td>Action</td>\n",
       "      <td>102.13</td>\n",
       "    </tr>\n",
       "    <tr>\n",
       "      <td>10</td>\n",
       "      <td>Sports</td>\n",
       "      <td>64.33</td>\n",
       "    </tr>\n",
       "    <tr>\n",
       "      <td>7</td>\n",
       "      <td>Role-Playing</td>\n",
       "      <td>55.82</td>\n",
       "    </tr>\n",
       "    <tr>\n",
       "      <td>3</td>\n",
       "      <td>Misc</td>\n",
       "      <td>14.17</td>\n",
       "    </tr>\n",
       "    <tr>\n",
       "      <td>2</td>\n",
       "      <td>Fighting</td>\n",
       "      <td>12.37</td>\n",
       "    </tr>\n",
       "    <tr>\n",
       "      <td>1</td>\n",
       "      <td>Adventure</td>\n",
       "      <td>11.98</td>\n",
       "    </tr>\n",
       "    <tr>\n",
       "      <td>6</td>\n",
       "      <td>Racing</td>\n",
       "      <td>10.86</td>\n",
       "    </tr>\n",
       "    <tr>\n",
       "      <td>4</td>\n",
       "      <td>Platform</td>\n",
       "      <td>9.28</td>\n",
       "    </tr>\n",
       "    <tr>\n",
       "      <td>9</td>\n",
       "      <td>Simulation</td>\n",
       "      <td>7.55</td>\n",
       "    </tr>\n",
       "    <tr>\n",
       "      <td>11</td>\n",
       "      <td>Strategy</td>\n",
       "      <td>2.98</td>\n",
       "    </tr>\n",
       "    <tr>\n",
       "      <td>5</td>\n",
       "      <td>Puzzle</td>\n",
       "      <td>0.72</td>\n",
       "    </tr>\n",
       "  </tbody>\n",
       "</table>\n",
       "</div>"
      ],
      "text/plain": [
       "           genre  total_sales\n",
       "8        Shooter       105.73\n",
       "0         Action       102.13\n",
       "10        Sports        64.33\n",
       "7   Role-Playing        55.82\n",
       "3           Misc        14.17\n",
       "2       Fighting        12.37\n",
       "1      Adventure        11.98\n",
       "6         Racing        10.86\n",
       "4       Platform         9.28\n",
       "9     Simulation         7.55\n",
       "11      Strategy         2.98\n",
       "5         Puzzle         0.72"
      ]
     },
     "metadata": {},
     "output_type": "display_data"
    }
   ],
   "source": [
    "# делаем сводную табоицу группируя по жанру и названию игры и находим сумму продаж\n",
    "games_to_genre = data_new.pivot_table(index=['genre'], values='total_sales', aggfunc='sum').reset_index()\n",
    "# выводим таблицу\n",
    "display(games_to_genre.sort_values(by='total_sales', ascending=False))"
   ]
  },
  {
   "cell_type": "markdown",
   "metadata": {},
   "source": [
    "Построив сводную таблицу и отсортировав значения по убыванию продаж можно сказать, что самыми прибыльными оказались жанры: Shooter, Action, Sports и Role-Playing.\n",
    "Самые низкие продажи у жанров Puzzle, Strategy и Simulation."
   ]
  },
  {
   "cell_type": "code",
   "execution_count": 41,
   "metadata": {},
   "outputs": [
    {
     "data": {
      "image/png": "[encoded data removed]",
      "text/plain": [
       "<Figure size 1080x432 with 1 Axes>"
      ]
     },
     "metadata": {
      "needs_background": "light"
     },
     "output_type": "display_data"
    }
   ],
   "source": [
    "# смотрим количество выпущенных игр в каждом жанре\n",
    "number_games_to_genre = data_new.pivot_table(\n",
    "    index=['genre'], values='total_sales', aggfunc='count').plot(\n",
    "    title='Количество выпущенных игр в каждом жанре' ,figsize=(15,6))\n",
    "                                                            "
   ]
  },
  {
   "cell_type": "code",
   "execution_count": 42,
   "metadata": {},
   "outputs": [
    {
     "data": {
      "text/html": [
       "<div>\n",
       "<style scoped>\n",
       "    .dataframe tbody tr th:only-of-type {\n",
       "        vertical-align: middle;\n",
       "    }\n",
       "\n",
       "    .dataframe tbody tr th {\n",
       "        vertical-align: top;\n",
       "    }\n",
       "\n",
       "    .dataframe thead th {\n",
       "        text-align: right;\n",
       "    }\n",
       "</style>\n",
       "<table border=\"1\" class=\"dataframe\">\n",
       "  <thead>\n",
       "    <tr style=\"text-align: right;\">\n",
       "      <th></th>\n",
       "      <th>genre</th>\n",
       "      <th>total_sales</th>\n",
       "    </tr>\n",
       "  </thead>\n",
       "  <tbody>\n",
       "    <tr>\n",
       "      <td>8</td>\n",
       "      <td>Shooter</td>\n",
       "      <td>0.380</td>\n",
       "    </tr>\n",
       "    <tr>\n",
       "      <td>10</td>\n",
       "      <td>Sports</td>\n",
       "      <td>0.120</td>\n",
       "    </tr>\n",
       "    <tr>\n",
       "      <td>7</td>\n",
       "      <td>Role-Playing</td>\n",
       "      <td>0.115</td>\n",
       "    </tr>\n",
       "    <tr>\n",
       "      <td>4</td>\n",
       "      <td>Platform</td>\n",
       "      <td>0.100</td>\n",
       "    </tr>\n",
       "    <tr>\n",
       "      <td>9</td>\n",
       "      <td>Simulation</td>\n",
       "      <td>0.100</td>\n",
       "    </tr>\n",
       "    <tr>\n",
       "      <td>2</td>\n",
       "      <td>Fighting</td>\n",
       "      <td>0.090</td>\n",
       "    </tr>\n",
       "    <tr>\n",
       "      <td>0</td>\n",
       "      <td>Action</td>\n",
       "      <td>0.060</td>\n",
       "    </tr>\n",
       "    <tr>\n",
       "      <td>3</td>\n",
       "      <td>Misc</td>\n",
       "      <td>0.060</td>\n",
       "    </tr>\n",
       "    <tr>\n",
       "      <td>6</td>\n",
       "      <td>Racing</td>\n",
       "      <td>0.055</td>\n",
       "    </tr>\n",
       "    <tr>\n",
       "      <td>11</td>\n",
       "      <td>Strategy</td>\n",
       "      <td>0.050</td>\n",
       "    </tr>\n",
       "    <tr>\n",
       "      <td>1</td>\n",
       "      <td>Adventure</td>\n",
       "      <td>0.030</td>\n",
       "    </tr>\n",
       "    <tr>\n",
       "      <td>5</td>\n",
       "      <td>Puzzle</td>\n",
       "      <td>0.030</td>\n",
       "    </tr>\n",
       "  </tbody>\n",
       "</table>\n",
       "</div>"
      ],
      "text/plain": [
       "           genre  total_sales\n",
       "8        Shooter        0.380\n",
       "10        Sports        0.120\n",
       "7   Role-Playing        0.115\n",
       "4       Platform        0.100\n",
       "9     Simulation        0.100\n",
       "2       Fighting        0.090\n",
       "0         Action        0.060\n",
       "3           Misc        0.060\n",
       "6         Racing        0.055\n",
       "11      Strategy        0.050\n",
       "1      Adventure        0.030\n",
       "5         Puzzle        0.030"
      ]
     },
     "metadata": {},
     "output_type": "display_data"
    }
   ],
   "source": [
    "# посчитаем медианные продажи\n",
    "games_to_genre = data_new.pivot_table(index=['genre'], values='total_sales', aggfunc='median').reset_index()\n",
    "# ввыедем таблицу\n",
    "display(games_to_genre.sort_values(by='total_sales', ascending=False))"
   ]
  },
  {
   "cell_type": "markdown",
   "metadata": {},
   "source": [
    "## Портрет пользователя по каждому региону"
   ]
  },
  {
   "cell_type": "markdown",
   "metadata": {},
   "source": [
    "### Топ 5 платформ по регионам (NA, EU, JP)"
   ]
  },
  {
   "cell_type": "markdown",
   "metadata": {},
   "source": [
    "#### Топ 5 платформ в Северной Америке (NA)"
   ]
  },
  {
   "cell_type": "code",
   "execution_count": 43,
   "metadata": {},
   "outputs": [
    {
     "data": {
      "text/html": [
       "<div>\n",
       "<style scoped>\n",
       "    .dataframe tbody tr th:only-of-type {\n",
       "        vertical-align: middle;\n",
       "    }\n",
       "\n",
       "    .dataframe tbody tr th {\n",
       "        vertical-align: top;\n",
       "    }\n",
       "\n",
       "    .dataframe thead th {\n",
       "        text-align: right;\n",
       "    }\n",
       "</style>\n",
       "<table border=\"1\" class=\"dataframe\">\n",
       "  <thead>\n",
       "    <tr style=\"text-align: right;\">\n",
       "      <th></th>\n",
       "      <th>na_sales</th>\n",
       "    </tr>\n",
       "    <tr>\n",
       "      <th>platform</th>\n",
       "      <th></th>\n",
       "    </tr>\n",
       "  </thead>\n",
       "  <tbody>\n",
       "    <tr>\n",
       "      <td>PS4</td>\n",
       "      <td>63.86</td>\n",
       "    </tr>\n",
       "    <tr>\n",
       "      <td>XOne</td>\n",
       "      <td>50.30</td>\n",
       "    </tr>\n",
       "    <tr>\n",
       "      <td>3DS</td>\n",
       "      <td>10.31</td>\n",
       "    </tr>\n",
       "    <tr>\n",
       "      <td>WiiU</td>\n",
       "      <td>8.86</td>\n",
       "    </tr>\n",
       "    <tr>\n",
       "      <td>X360</td>\n",
       "      <td>8.05</td>\n",
       "    </tr>\n",
       "  </tbody>\n",
       "</table>\n",
       "</div>"
      ],
      "text/plain": [
       "          na_sales\n",
       "platform          \n",
       "PS4          63.86\n",
       "XOne         50.30\n",
       "3DS          10.31\n",
       "WiiU          8.86\n",
       "X360          8.05"
      ]
     },
     "metadata": {},
     "output_type": "display_data"
    },
    {
     "name": "stdout",
     "output_type": "stream",
     "text": [
      "Топ 5 платформ по региону: PS4, XOne, 3DS, WiiU, X360\n"
     ]
    }
   ],
   "source": [
    "# делаем сводную таблицу группируя данные по платформам и находим сумму продаж по Северной Америке\n",
    "na_sales_to_platform = data_new.pivot_table(index='platform', values='na_sales', aggfunc='sum')\n",
    "# выводим таблицу\n",
    "display(na_sales_to_platform.sort_values(by='na_sales', ascending=False).head())\n",
    "# выводим топ-5 платформ\n",
    "print('Топ 5 платформ по региону: PS4, XOne, 3DS, WiiU, X360')"
   ]
  },
  {
   "cell_type": "code",
   "execution_count": 44,
   "metadata": {},
   "outputs": [
    {
     "data": {
      "text/html": [
       "<div>\n",
       "<style scoped>\n",
       "    .dataframe tbody tr th:only-of-type {\n",
       "        vertical-align: middle;\n",
       "    }\n",
       "\n",
       "    .dataframe tbody tr th {\n",
       "        vertical-align: top;\n",
       "    }\n",
       "\n",
       "    .dataframe thead th {\n",
       "        text-align: right;\n",
       "    }\n",
       "</style>\n",
       "<table border=\"1\" class=\"dataframe\">\n",
       "  <thead>\n",
       "    <tr style=\"text-align: right;\">\n",
       "      <th></th>\n",
       "      <th>na_sales</th>\n",
       "      <th>percent_of_sales</th>\n",
       "    </tr>\n",
       "    <tr>\n",
       "      <th>platform</th>\n",
       "      <th></th>\n",
       "      <th></th>\n",
       "    </tr>\n",
       "  </thead>\n",
       "  <tbody>\n",
       "    <tr>\n",
       "      <td>PS4</td>\n",
       "      <td>63.86</td>\n",
       "      <td>42.1</td>\n",
       "    </tr>\n",
       "    <tr>\n",
       "      <td>XOne</td>\n",
       "      <td>50.30</td>\n",
       "      <td>33.1</td>\n",
       "    </tr>\n",
       "    <tr>\n",
       "      <td>3DS</td>\n",
       "      <td>10.31</td>\n",
       "      <td>6.8</td>\n",
       "    </tr>\n",
       "    <tr>\n",
       "      <td>WiiU</td>\n",
       "      <td>8.86</td>\n",
       "      <td>5.8</td>\n",
       "    </tr>\n",
       "    <tr>\n",
       "      <td>X360</td>\n",
       "      <td>8.05</td>\n",
       "      <td>5.3</td>\n",
       "    </tr>\n",
       "  </tbody>\n",
       "</table>\n",
       "</div>"
      ],
      "text/plain": [
       "          na_sales  percent_of_sales\n",
       "platform                            \n",
       "PS4          63.86              42.1\n",
       "XOne         50.30              33.1\n",
       "3DS          10.31               6.8\n",
       "WiiU          8.86               5.8\n",
       "X360          8.05               5.3"
      ]
     },
     "metadata": {},
     "output_type": "display_data"
    },
    {
     "data": {
      "text/plain": [
       "<matplotlib.axes._subplots.AxesSubplot at 0x7f1fe92c2550>"
      ]
     },
     "execution_count": 44,
     "metadata": {},
     "output_type": "execute_result"
    },
    {
     "data": {
      "image/png": "[encoded data removed]",
      "text/plain": [
       "<Figure size 432x288 with 1 Axes>"
      ]
     },
     "metadata": {},
     "output_type": "display_data"
    }
   ],
   "source": [
    "# находим долю от общих продаж по региону\n",
    "na_sales_to_platform['percent_of_sales'] = (\n",
    "    na_sales_to_platform['na_sales'] / na_sales_to_platform['na_sales'].sum() * 100).round(1)\n",
    "# выводим первые 5 строк таблицы\n",
    "display(na_sales_to_platform.sort_values(by='percent_of_sales', ascending=False).head())\n",
    "# выводим информацию на график\n",
    "na_sales_to_platform.plot(kind='pie', y='percent_of_sales')"
   ]
  },
  {
   "cell_type": "markdown",
   "metadata": {},
   "source": [
    "В Северной Америке Топ 5 платформ по региону: PS4, XOne, 3DS, WiiU, X360.\n",
    "БОльшую долю занимает PS4 (42.1), далее идет XOne (33.1), 3DS (6.8), WiiU (5.8), X360 (5.3).\n",
    "\n",
    "Несомненный лидер - это PS4. Если смотреть продажи по всему миру - лидеры остаются всё те же. Тройка PS4, XOne и 3DS остается лидерами как в Северной Америке так и по всем регионам вместе."
   ]
  },
  {
   "cell_type": "markdown",
   "metadata": {},
   "source": [
    "#### Топ 5 платформ Восточной Европы (EU)"
   ]
  },
  {
   "cell_type": "code",
   "execution_count": 45,
   "metadata": {},
   "outputs": [
    {
     "data": {
      "text/html": [
       "<div>\n",
       "<style scoped>\n",
       "    .dataframe tbody tr th:only-of-type {\n",
       "        vertical-align: middle;\n",
       "    }\n",
       "\n",
       "    .dataframe tbody tr th {\n",
       "        vertical-align: top;\n",
       "    }\n",
       "\n",
       "    .dataframe thead th {\n",
       "        text-align: right;\n",
       "    }\n",
       "</style>\n",
       "<table border=\"1\" class=\"dataframe\">\n",
       "  <thead>\n",
       "    <tr style=\"text-align: right;\">\n",
       "      <th></th>\n",
       "      <th>eu_sales</th>\n",
       "    </tr>\n",
       "    <tr>\n",
       "      <th>platform</th>\n",
       "      <th></th>\n",
       "    </tr>\n",
       "  </thead>\n",
       "  <tbody>\n",
       "    <tr>\n",
       "      <td>PS4</td>\n",
       "      <td>83.54</td>\n",
       "    </tr>\n",
       "    <tr>\n",
       "      <td>XOne</td>\n",
       "      <td>28.10</td>\n",
       "    </tr>\n",
       "    <tr>\n",
       "      <td>PC</td>\n",
       "      <td>9.10</td>\n",
       "    </tr>\n",
       "    <tr>\n",
       "      <td>3DS</td>\n",
       "      <td>7.39</td>\n",
       "    </tr>\n",
       "    <tr>\n",
       "      <td>PS3</td>\n",
       "      <td>7.30</td>\n",
       "    </tr>\n",
       "  </tbody>\n",
       "</table>\n",
       "</div>"
      ],
      "text/plain": [
       "          eu_sales\n",
       "platform          \n",
       "PS4          83.54\n",
       "XOne         28.10\n",
       "PC            9.10\n",
       "3DS           7.39\n",
       "PS3           7.30"
      ]
     },
     "metadata": {},
     "output_type": "display_data"
    },
    {
     "name": "stdout",
     "output_type": "stream",
     "text": [
      "Топ 5 платформ по региону: PS4, XOne, PC, 3DS, PS3\n"
     ]
    }
   ],
   "source": [
    "# делаем сводную таблицу группируя данные по платформам и находим сумму продаж по Восточной Европе\n",
    "eu_sales_to_platform = data_new.pivot_table(index='platform', values='eu_sales', aggfunc='sum')\n",
    "# выводим таблицу\n",
    "display(eu_sales_to_platform.sort_values(by='eu_sales', ascending=False).head())\n",
    "# выводим топ-5 платформ\n",
    "print('Топ 5 платформ по региону: PS4, XOne, PC, 3DS, PS3')"
   ]
  },
  {
   "cell_type": "code",
   "execution_count": 46,
   "metadata": {},
   "outputs": [
    {
     "data": {
      "text/html": [
       "<div>\n",
       "<style scoped>\n",
       "    .dataframe tbody tr th:only-of-type {\n",
       "        vertical-align: middle;\n",
       "    }\n",
       "\n",
       "    .dataframe tbody tr th {\n",
       "        vertical-align: top;\n",
       "    }\n",
       "\n",
       "    .dataframe thead th {\n",
       "        text-align: right;\n",
       "    }\n",
       "</style>\n",
       "<table border=\"1\" class=\"dataframe\">\n",
       "  <thead>\n",
       "    <tr style=\"text-align: right;\">\n",
       "      <th></th>\n",
       "      <th>eu_sales</th>\n",
       "      <th>percent_of_sales</th>\n",
       "    </tr>\n",
       "    <tr>\n",
       "      <th>platform</th>\n",
       "      <th></th>\n",
       "      <th></th>\n",
       "    </tr>\n",
       "  </thead>\n",
       "  <tbody>\n",
       "    <tr>\n",
       "      <td>PS4</td>\n",
       "      <td>83.54</td>\n",
       "      <td>56.5</td>\n",
       "    </tr>\n",
       "    <tr>\n",
       "      <td>XOne</td>\n",
       "      <td>28.10</td>\n",
       "      <td>19.0</td>\n",
       "    </tr>\n",
       "    <tr>\n",
       "      <td>PC</td>\n",
       "      <td>9.10</td>\n",
       "      <td>6.2</td>\n",
       "    </tr>\n",
       "    <tr>\n",
       "      <td>3DS</td>\n",
       "      <td>7.39</td>\n",
       "      <td>5.0</td>\n",
       "    </tr>\n",
       "    <tr>\n",
       "      <td>PS3</td>\n",
       "      <td>7.30</td>\n",
       "      <td>4.9</td>\n",
       "    </tr>\n",
       "  </tbody>\n",
       "</table>\n",
       "</div>"
      ],
      "text/plain": [
       "          eu_sales  percent_of_sales\n",
       "platform                            \n",
       "PS4          83.54              56.5\n",
       "XOne         28.10              19.0\n",
       "PC            9.10               6.2\n",
       "3DS           7.39               5.0\n",
       "PS3           7.30               4.9"
      ]
     },
     "metadata": {},
     "output_type": "display_data"
    },
    {
     "data": {
      "text/plain": [
       "<matplotlib.axes._subplots.AxesSubplot at 0x7f1fe9289f50>"
      ]
     },
     "execution_count": 46,
     "metadata": {},
     "output_type": "execute_result"
    },
    {
     "data": {
      "image/png": "[encoded data removed]",
      "text/plain": [
       "<Figure size 432x288 with 1 Axes>"
      ]
     },
     "metadata": {},
     "output_type": "display_data"
    }
   ],
   "source": [
    "# находим долю от общих продаж по региону\n",
    "eu_sales_to_platform['percent_of_sales'] = (\n",
    "    eu_sales_to_platform['eu_sales'] / eu_sales_to_platform['eu_sales'].sum() * 100).round(1)\n",
    "# выводим первые 5 строк таблицы\n",
    "display(eu_sales_to_platform.sort_values(by='percent_of_sales', ascending=False).head())\n",
    "# выводим информацию на график\n",
    "eu_sales_to_platform.plot(kind='pie', y='percent_of_sales')"
   ]
  },
  {
   "cell_type": "markdown",
   "metadata": {},
   "source": [
    "#### Топ 5 платформ Японии (JP)"
   ]
  },
  {
   "cell_type": "code",
   "execution_count": 47,
   "metadata": {},
   "outputs": [
    {
     "data": {
      "text/html": [
       "<div>\n",
       "<style scoped>\n",
       "    .dataframe tbody tr th:only-of-type {\n",
       "        vertical-align: middle;\n",
       "    }\n",
       "\n",
       "    .dataframe tbody tr th {\n",
       "        vertical-align: top;\n",
       "    }\n",
       "\n",
       "    .dataframe thead th {\n",
       "        text-align: right;\n",
       "    }\n",
       "</style>\n",
       "<table border=\"1\" class=\"dataframe\">\n",
       "  <thead>\n",
       "    <tr style=\"text-align: right;\">\n",
       "      <th></th>\n",
       "      <th>jp_sales</th>\n",
       "    </tr>\n",
       "    <tr>\n",
       "      <th>platform</th>\n",
       "      <th></th>\n",
       "    </tr>\n",
       "  </thead>\n",
       "  <tbody>\n",
       "    <tr>\n",
       "      <td>3DS</td>\n",
       "      <td>23.55</td>\n",
       "    </tr>\n",
       "    <tr>\n",
       "      <td>PS4</td>\n",
       "      <td>12.05</td>\n",
       "    </tr>\n",
       "    <tr>\n",
       "      <td>PSV</td>\n",
       "      <td>8.41</td>\n",
       "    </tr>\n",
       "    <tr>\n",
       "      <td>PS3</td>\n",
       "      <td>4.97</td>\n",
       "    </tr>\n",
       "    <tr>\n",
       "      <td>WiiU</td>\n",
       "      <td>4.12</td>\n",
       "    </tr>\n",
       "  </tbody>\n",
       "</table>\n",
       "</div>"
      ],
      "text/plain": [
       "          jp_sales\n",
       "platform          \n",
       "3DS          23.55\n",
       "PS4          12.05\n",
       "PSV           8.41\n",
       "PS3           4.97\n",
       "WiiU          4.12"
      ]
     },
     "metadata": {},
     "output_type": "display_data"
    },
    {
     "name": "stdout",
     "output_type": "stream",
     "text": [
      "Топ 5 платформ по региону: 3DS, PS4, PSV, WiiU\n"
     ]
    }
   ],
   "source": [
    "# делаем сводную таблицу группируя данные по платформам и находим сумму продаж по Японии\n",
    "jp_sales_to_platform = data_new.pivot_table(index='platform', values='jp_sales', aggfunc='sum')\n",
    "# выводим таблицу\n",
    "display(jp_sales_to_platform.sort_values(by='jp_sales', ascending=False).head())\n",
    "# выводим топ-5 платформ\n",
    "print('Топ 5 платформ по региону: 3DS, PS4, PSV, WiiU')"
   ]
  },
  {
   "cell_type": "code",
   "execution_count": 48,
   "metadata": {},
   "outputs": [
    {
     "data": {
      "text/html": [
       "<div>\n",
       "<style scoped>\n",
       "    .dataframe tbody tr th:only-of-type {\n",
       "        vertical-align: middle;\n",
       "    }\n",
       "\n",
       "    .dataframe tbody tr th {\n",
       "        vertical-align: top;\n",
       "    }\n",
       "\n",
       "    .dataframe thead th {\n",
       "        text-align: right;\n",
       "    }\n",
       "</style>\n",
       "<table border=\"1\" class=\"dataframe\">\n",
       "  <thead>\n",
       "    <tr style=\"text-align: right;\">\n",
       "      <th></th>\n",
       "      <th>jp_sales</th>\n",
       "      <th>percent_of_sales</th>\n",
       "    </tr>\n",
       "    <tr>\n",
       "      <th>platform</th>\n",
       "      <th></th>\n",
       "      <th></th>\n",
       "    </tr>\n",
       "  </thead>\n",
       "  <tbody>\n",
       "    <tr>\n",
       "      <td>3DS</td>\n",
       "      <td>23.55</td>\n",
       "      <td>44.1</td>\n",
       "    </tr>\n",
       "    <tr>\n",
       "      <td>PS4</td>\n",
       "      <td>12.05</td>\n",
       "      <td>22.6</td>\n",
       "    </tr>\n",
       "    <tr>\n",
       "      <td>PSV</td>\n",
       "      <td>8.41</td>\n",
       "      <td>15.7</td>\n",
       "    </tr>\n",
       "    <tr>\n",
       "      <td>PS3</td>\n",
       "      <td>4.97</td>\n",
       "      <td>9.3</td>\n",
       "    </tr>\n",
       "    <tr>\n",
       "      <td>WiiU</td>\n",
       "      <td>4.12</td>\n",
       "      <td>7.7</td>\n",
       "    </tr>\n",
       "  </tbody>\n",
       "</table>\n",
       "</div>"
      ],
      "text/plain": [
       "          jp_sales  percent_of_sales\n",
       "platform                            \n",
       "3DS          23.55              44.1\n",
       "PS4          12.05              22.6\n",
       "PSV           8.41              15.7\n",
       "PS3           4.97               9.3\n",
       "WiiU          4.12               7.7"
      ]
     },
     "metadata": {},
     "output_type": "display_data"
    },
    {
     "data": {
      "text/plain": [
       "<matplotlib.axes._subplots.AxesSubplot at 0x7f1fe9071a90>"
      ]
     },
     "execution_count": 48,
     "metadata": {},
     "output_type": "execute_result"
    },
    {
     "data": {
      "image/png": "[encoded data removed]",
      "text/plain": [
       "<Figure size 432x288 with 1 Axes>"
      ]
     },
     "metadata": {},
     "output_type": "display_data"
    }
   ],
   "source": [
    "# находим долю от общих продаж по региону\n",
    "jp_sales_to_platform['percent_of_sales'] = (\n",
    "    jp_sales_to_platform['jp_sales'] / jp_sales_to_platform['jp_sales'].sum() * 100).round(1)\n",
    "# выводим первые 5 строк таблицы\n",
    "display(jp_sales_to_platform.sort_values(by='percent_of_sales', ascending=False).head())\n",
    "# выводим информацию на график\n",
    "jp_sales_to_platform.plot(kind='pie', y='percent_of_sales')"
   ]
  },
  {
   "cell_type": "markdown",
   "metadata": {},
   "source": [
    "#### Промежуточный вывод по топ 5 платформам по регионам"
   ]
  },
  {
   "cell_type": "markdown",
   "metadata": {},
   "source": [
    "Я посмотрела доли продаж платформ(консолей) относительно региона. Можно сказать что в Северной Америке и Восточной Европе безусловным лидером остается PS4, чего не скажешь про Японию. В регионе JP в долевом соотношении лидером является 3DS (Nintendo).\n",
    "\n",
    "XOne остается на втором месте в Северной Америке и Восточной Европе. По Японии эта консоль отсутствует в принципе в топе по продажам.\n",
    "\n",
    "Третье место по регионам разделяют разные платформы. В Северной Америке это 3DS, в Восточной Европе это PC, в Японии PSV.\n",
    "\n",
    "Возможно в Японии пользуется спросом маленькая консоль, которую можно положить в сумку и играть в любом удобном месте. 3DS также на третьем месте у Северной Америки - возможно потому же :)\n"
   ]
  },
  {
   "cell_type": "markdown",
   "metadata": {},
   "source": [
    "### Топ 5 жанров по регионам (NA, EU, JP)"
   ]
  },
  {
   "cell_type": "markdown",
   "metadata": {},
   "source": [
    "#### Топ 5 жанров по Северной Америке (NA)"
   ]
  },
  {
   "cell_type": "code",
   "execution_count": 49,
   "metadata": {},
   "outputs": [
    {
     "data": {
      "text/html": [
       "<div>\n",
       "<style scoped>\n",
       "    .dataframe tbody tr th:only-of-type {\n",
       "        vertical-align: middle;\n",
       "    }\n",
       "\n",
       "    .dataframe tbody tr th {\n",
       "        vertical-align: top;\n",
       "    }\n",
       "\n",
       "    .dataframe thead th {\n",
       "        text-align: right;\n",
       "    }\n",
       "</style>\n",
       "<table border=\"1\" class=\"dataframe\">\n",
       "  <thead>\n",
       "    <tr style=\"text-align: right;\">\n",
       "      <th></th>\n",
       "      <th>na_sales</th>\n",
       "    </tr>\n",
       "    <tr>\n",
       "      <th>genre</th>\n",
       "      <th></th>\n",
       "    </tr>\n",
       "  </thead>\n",
       "  <tbody>\n",
       "    <tr>\n",
       "      <td>Shooter</td>\n",
       "      <td>48.18</td>\n",
       "    </tr>\n",
       "    <tr>\n",
       "      <td>Action</td>\n",
       "      <td>33.68</td>\n",
       "    </tr>\n",
       "    <tr>\n",
       "      <td>Sports</td>\n",
       "      <td>26.31</td>\n",
       "    </tr>\n",
       "    <tr>\n",
       "      <td>Role-Playing</td>\n",
       "      <td>19.82</td>\n",
       "    </tr>\n",
       "    <tr>\n",
       "      <td>Misc</td>\n",
       "      <td>5.58</td>\n",
       "    </tr>\n",
       "  </tbody>\n",
       "</table>\n",
       "</div>"
      ],
      "text/plain": [
       "              na_sales\n",
       "genre                 \n",
       "Shooter          48.18\n",
       "Action           33.68\n",
       "Sports           26.31\n",
       "Role-Playing     19.82\n",
       "Misc              5.58"
      ]
     },
     "metadata": {},
     "output_type": "display_data"
    },
    {
     "name": "stdout",
     "output_type": "stream",
     "text": [
      "Топ 5 жанров по Северной Америке: Shooter, Action, Sports, Role-Playing, Misc\n"
     ]
    }
   ],
   "source": [
    "# сделаем сводную таблицу сгруппировав данные по жанру и найдем общие продажи\n",
    "na_sales_to_genre = data_new.pivot_table(index='genre', values='na_sales', aggfunc='sum')\n",
    "# выведем топ 5 жанров\n",
    "display(na_sales_to_genre.sort_values(by='na_sales', ascending=False).head())\n",
    "print('Топ 5 жанров по Северной Америке: Shooter, Action, Sports, Role-Playing, Misc')"
   ]
  },
  {
   "cell_type": "markdown",
   "metadata": {},
   "source": [
    "#### Топ 5 жанров по Восточной Европе (EU)"
   ]
  },
  {
   "cell_type": "code",
   "execution_count": 50,
   "metadata": {},
   "outputs": [
    {
     "data": {
      "text/html": [
       "<div>\n",
       "<style scoped>\n",
       "    .dataframe tbody tr th:only-of-type {\n",
       "        vertical-align: middle;\n",
       "    }\n",
       "\n",
       "    .dataframe tbody tr th {\n",
       "        vertical-align: top;\n",
       "    }\n",
       "\n",
       "    .dataframe thead th {\n",
       "        text-align: right;\n",
       "    }\n",
       "</style>\n",
       "<table border=\"1\" class=\"dataframe\">\n",
       "  <thead>\n",
       "    <tr style=\"text-align: right;\">\n",
       "      <th></th>\n",
       "      <th>eu_sales</th>\n",
       "    </tr>\n",
       "    <tr>\n",
       "      <th>genre</th>\n",
       "      <th></th>\n",
       "    </tr>\n",
       "  </thead>\n",
       "  <tbody>\n",
       "    <tr>\n",
       "      <td>Shooter</td>\n",
       "      <td>40.28</td>\n",
       "    </tr>\n",
       "    <tr>\n",
       "      <td>Action</td>\n",
       "      <td>34.82</td>\n",
       "    </tr>\n",
       "    <tr>\n",
       "      <td>Sports</td>\n",
       "      <td>27.82</td>\n",
       "    </tr>\n",
       "    <tr>\n",
       "      <td>Role-Playing</td>\n",
       "      <td>17.21</td>\n",
       "    </tr>\n",
       "    <tr>\n",
       "      <td>Racing</td>\n",
       "      <td>6.52</td>\n",
       "    </tr>\n",
       "  </tbody>\n",
       "</table>\n",
       "</div>"
      ],
      "text/plain": [
       "              eu_sales\n",
       "genre                 \n",
       "Shooter          40.28\n",
       "Action           34.82\n",
       "Sports           27.82\n",
       "Role-Playing     17.21\n",
       "Racing            6.52"
      ]
     },
     "metadata": {},
     "output_type": "display_data"
    },
    {
     "name": "stdout",
     "output_type": "stream",
     "text": [
      "Топ 5 жанров по Северной Америке: Shooter, Action, Sports, Role-Playing, Racing\n"
     ]
    }
   ],
   "source": [
    "# сделаем сводную таблицу сгруппировав данные по жанру и найдем общие продажи\n",
    "eu_sales_to_genre = data_new.pivot_table(index='genre', values='eu_sales', aggfunc='sum')\n",
    "# выведем топ 5 жанров\n",
    "display(eu_sales_to_genre.sort_values(by='eu_sales', ascending=False).head())\n",
    "print('Топ 5 жанров по Северной Америке: Shooter, Action, Sports, Role-Playing, Racing')"
   ]
  },
  {
   "cell_type": "markdown",
   "metadata": {},
   "source": [
    "#### Топ 5 жанров по Японии"
   ]
  },
  {
   "cell_type": "code",
   "execution_count": 51,
   "metadata": {},
   "outputs": [
    {
     "data": {
      "text/html": [
       "<div>\n",
       "<style scoped>\n",
       "    .dataframe tbody tr th:only-of-type {\n",
       "        vertical-align: middle;\n",
       "    }\n",
       "\n",
       "    .dataframe tbody tr th {\n",
       "        vertical-align: top;\n",
       "    }\n",
       "\n",
       "    .dataframe thead th {\n",
       "        text-align: right;\n",
       "    }\n",
       "</style>\n",
       "<table border=\"1\" class=\"dataframe\">\n",
       "  <thead>\n",
       "    <tr style=\"text-align: right;\">\n",
       "      <th></th>\n",
       "      <th>jp_sales</th>\n",
       "    </tr>\n",
       "    <tr>\n",
       "      <th>genre</th>\n",
       "      <th></th>\n",
       "    </tr>\n",
       "  </thead>\n",
       "  <tbody>\n",
       "    <tr>\n",
       "      <td>Action</td>\n",
       "      <td>23.05</td>\n",
       "    </tr>\n",
       "    <tr>\n",
       "      <td>Role-Playing</td>\n",
       "      <td>13.41</td>\n",
       "    </tr>\n",
       "    <tr>\n",
       "      <td>Shooter</td>\n",
       "      <td>3.79</td>\n",
       "    </tr>\n",
       "    <tr>\n",
       "      <td>Misc</td>\n",
       "      <td>3.19</td>\n",
       "    </tr>\n",
       "    <tr>\n",
       "      <td>Adventure</td>\n",
       "      <td>2.22</td>\n",
       "    </tr>\n",
       "  </tbody>\n",
       "</table>\n",
       "</div>"
      ],
      "text/plain": [
       "              jp_sales\n",
       "genre                 \n",
       "Action           23.05\n",
       "Role-Playing     13.41\n",
       "Shooter           3.79\n",
       "Misc              3.19\n",
       "Adventure         2.22"
      ]
     },
     "metadata": {},
     "output_type": "display_data"
    },
    {
     "name": "stdout",
     "output_type": "stream",
     "text": [
      "Топ 5 жанров по Северной Америке: Action, Role-Playing, Shooter, Misc, Adventure\n"
     ]
    }
   ],
   "source": [
    "# сделаем сводную таблицу сгруппировав данные по жанру и найдем общие продажи\n",
    "jp_sales_to_genre = data_new.pivot_table(index='genre', values='jp_sales', aggfunc='sum')\n",
    "# выведем топ 5 жанров\n",
    "display(jp_sales_to_genre.sort_values(by='jp_sales', ascending=False).head())\n",
    "print('Топ 5 жанров по Северной Америке: Action, Role-Playing, Shooter, Misc, Adventure')"
   ]
  },
  {
   "cell_type": "markdown",
   "metadata": {},
   "source": [
    "#### Промежуточный вывод по топ 5 жанрам по регионам"
   ]
  },
  {
   "cell_type": "markdown",
   "metadata": {},
   "source": [
    "Можно сказать, что Северная Америка и Восточная Европа в своём выборе жанров игр почти одинакова. Из топ 5 жанров лишь один жанр имел отличие. Больше всего люди отдают предпочтение стрелялкам и боевикам. На третьем месте стоит sports (скорее всего FIFA)\n",
    "\n",
    "Чего не скажешь про Японию - здесь люди больше предпочитают боевики и ролевые игры. А вот в стрелялки люди уже играют меньше."
   ]
  },
  {
   "cell_type": "markdown",
   "metadata": {},
   "source": [
    "### Влияние рейтинга ESRB на продажи в отдельном регионе"
   ]
  },
  {
   "cell_type": "code",
   "execution_count": 52,
   "metadata": {},
   "outputs": [
    {
     "data": {
      "image/png": "[encoded data removed]",
      "text/plain": [
       "<Figure size 720x360 with 1 Axes>"
      ]
     },
     "metadata": {
      "needs_background": "light"
     },
     "output_type": "display_data"
    }
   ],
   "source": [
    "data_new.pivot_table(\n",
    "    index = 'rating', values = 'na_sales').plot(\n",
    "    kind = 'bar', title = 'Зависимость продаж региона NA от рейтинга ESRB', figsize = (10,5))\n",
    "plt.show()"
   ]
  },
  {
   "cell_type": "code",
   "execution_count": 53,
   "metadata": {},
   "outputs": [
    {
     "data": {
      "text/plain": [
       "<matplotlib.axes._subplots.AxesSubplot at 0x7f1fe8f6dfd0>"
      ]
     },
     "execution_count": 53,
     "metadata": {},
     "output_type": "execute_result"
    },
    {
     "data": {
      "image/png": "[encoded data removed]",
      "text/plain": [
       "<Figure size 1080x360 with 1 Axes>"
      ]
     },
     "metadata": {
      "needs_background": "light"
     },
     "output_type": "display_data"
    }
   ],
   "source": [
    "# посмотрим суммарные продажи игр по возрастным рейтингам\n",
    "data_new.pivot_table(index='rating', values='na_sales', aggfunc='sum').plot(figsize=(15,5))"
   ]
  },
  {
   "cell_type": "code",
   "execution_count": 54,
   "metadata": {},
   "outputs": [
    {
     "data": {
      "image/png": "[encoded data removed]",
      "text/plain": [
       "<Figure size 720x360 with 1 Axes>"
      ]
     },
     "metadata": {
      "needs_background": "light"
     },
     "output_type": "display_data"
    }
   ],
   "source": [
    "data_new.pivot_table(\n",
    "    index = 'rating', values = 'eu_sales').plot(\n",
    "    kind = 'bar', title = 'Зависимость продаж региона EU от рейтинга ESRB', figsize = (10,5))\n",
    "plt.show()"
   ]
  },
  {
   "cell_type": "code",
   "execution_count": 55,
   "metadata": {},
   "outputs": [
    {
     "data": {
      "text/plain": [
       "<matplotlib.axes._subplots.AxesSubplot at 0x7f1fe8f7e890>"
      ]
     },
     "execution_count": 55,
     "metadata": {},
     "output_type": "execute_result"
    },
    {
     "data": {
      "image/png": "[encoded data removed]",
      "text/plain": [
       "<Figure size 1080x360 with 1 Axes>"
      ]
     },
     "metadata": {
      "needs_background": "light"
     },
     "output_type": "display_data"
    }
   ],
   "source": [
    "# посмотрим суммарные продажи игр по возрастным рейтингам\n",
    "data_new.pivot_table(index='rating', values='eu_sales', aggfunc='sum').plot(figsize=(15,5))"
   ]
  },
  {
   "cell_type": "code",
   "execution_count": 56,
   "metadata": {},
   "outputs": [
    {
     "data": {
      "image/png": "[encoded data removed]",
      "text/plain": [
       "<Figure size 720x360 with 1 Axes>"
      ]
     },
     "metadata": {
      "needs_background": "light"
     },
     "output_type": "display_data"
    }
   ],
   "source": [
    "data_new.pivot_table(\n",
    "    index = 'rating', values = 'jp_sales').plot(\n",
    "    kind = 'bar', title = 'Зависимость продаж региона JP от рейтинга ESRB', figsize = (10,5))\n",
    "plt.show()"
   ]
  },
  {
   "cell_type": "code",
   "execution_count": 57,
   "metadata": {},
   "outputs": [
    {
     "data": {
      "text/plain": [
       "<matplotlib.axes._subplots.AxesSubplot at 0x7f1fe8d65c90>"
      ]
     },
     "execution_count": 57,
     "metadata": {},
     "output_type": "execute_result"
    },
    {
     "data": {
      "image/png": "[encoded data removed]",
      "text/plain": [
       "<Figure size 1080x360 with 1 Axes>"
      ]
     },
     "metadata": {
      "needs_background": "light"
     },
     "output_type": "display_data"
    }
   ],
   "source": [
    "# посмотрим суммарные продажи игр по возрастным рейтингам\n",
    "data_new.pivot_table(index='rating', values='jp_sales', aggfunc='sum').plot(figsize=(15,5))"
   ]
  },
  {
   "cell_type": "markdown",
   "metadata": {},
   "source": [
    "E - \"для всех\"\n",
    "\n",
    "E10+ - \"Для всех от 10 лет и старше\"\n",
    "\n",
    "M - \"Для взрослых\". Игры не подходят для подростков младше 17 лет\n",
    "\n",
    "T - \"Подростки\". Игры подходят для лиц от 13 лет\n",
    "\n",
    "В Северной Америке и Восточной Европе видна зависимость региона от рейтинга ESRB. Люди этих регионов явно больше склоняются к играм для взролых :)\n",
    "\n",
    "В Японии если зависимость от рейтинга ERSB есть. Люди больше предпочитают игры без возрастного ограничения."
   ]
  },
  {
   "cell_type": "markdown",
   "metadata": {},
   "source": [
    "## Проверка гипотез"
   ]
  },
  {
   "cell_type": "markdown",
   "metadata": {},
   "source": [
    "### Проверяем гипотезу, что средние пользовательские рейтинги платформ Xbox One и PC одинаковые"
   ]
  },
  {
   "cell_type": "code",
   "execution_count": 58,
   "metadata": {},
   "outputs": [
    {
     "name": "stdout",
     "output_type": "stream",
     "text": [
      "name                0\n",
      "platform            0\n",
      "year_of_release     0\n",
      "genre               0\n",
      "na_sales            0\n",
      "eu_sales            0\n",
      "jp_sales            0\n",
      "other_sales         0\n",
      "critic_score       13\n",
      "user_score          0\n",
      "rating              0\n",
      "total_sales         0\n",
      "dtype: int64\n",
      "Средний пользовательский рейтинг равен: 6.542148760330578\n"
     ]
    }
   ],
   "source": [
    "# делаем срез данных, в котором останется только XOne\n",
    "xone_frame = data_new.query('platform == \"XOne\"')\n",
    "# удаляем пропуски в колонке user_score\n",
    "xone_frame.dropna(subset = ['user_score'], inplace=True)\n",
    "print(xone_frame.isna().sum())\n",
    "# находим среднее значение по рейтингу пользоваталей\n",
    "xone_mean = xone_frame['user_score'].mean()\n",
    "# выводим\n",
    "print('Средний пользовательский рейтинг равен:', xone_mean)"
   ]
  },
  {
   "cell_type": "code",
   "execution_count": 59,
   "metadata": {},
   "outputs": [
    {
     "name": "stdout",
     "output_type": "stream",
     "text": [
      "Средний пользовательский рейтинг равен: 6.29642857142857\n"
     ]
    }
   ],
   "source": [
    "# делаем срез данных, в котором останется только PC\n",
    "pc_frame = data_new.query('platform == \"PC\"')\n",
    "# удаляем пропуски в колонке user_score\n",
    "pc_frame.dropna(subset = ['user_score'], inplace=True)\n",
    "# находим среднее значение по рейтингу пользоваталей\n",
    "pc_mean = pc_frame['user_score'].mean()\n",
    "# выводим\n",
    "print('Средний пользовательский рейтинг равен:', pc_mean)"
   ]
  },
  {
   "cell_type": "code",
   "execution_count": 60,
   "metadata": {},
   "outputs": [
    {
     "name": "stdout",
     "output_type": "stream",
     "text": [
      "p-значение 0.2946308864003345\n",
      "Отвергнуть нулевую гипотезу не получилось\n"
     ]
    }
   ],
   "source": [
    "# задаем пороговое значение\n",
    "alpha = .05\n",
    "# проверяем двухстороннюю гипотезу\n",
    "results = st.ttest_ind(\n",
    "    xone_frame['user_score'], \n",
    "    pc_frame['user_score'],\n",
    "    equal_var=False\n",
    ")\n",
    "# выводим p-значение\n",
    "print('p-значение', results.pvalue)\n",
    "\n",
    "if results.pvalue < alpha:\n",
    "    print('Отвергаем нулевую гипотезу')\n",
    "else:\n",
    "    print('Отвергнуть нулевую гипотезу не получилось')"
   ]
  },
  {
   "cell_type": "markdown",
   "metadata": {},
   "source": [
    "#### Вывод о проверке гипотезы"
   ]
  },
  {
   "cell_type": "markdown",
   "metadata": {},
   "source": [
    "Я проверила гипотезу, что средние пользовательские рейтинги платформ Xbox One и PC одинаковые. Нулевая гипотеза Н0 - что средние пользовательские рейтинги платформ xone и pc равны. Альтернативная Н1 - что средние пользователькие рейтинги платформ xone и pc не равны. Пороговое значение 5% (общепринятое пороговое значение). После проведения t-теста мы не смогли опровергнуть нулевую гипотезу, что говорит о том, что средние пользовательские рейтинги платформ Xbox One и PC равны.\n",
    "\n",
    "Для проверки равенства среднего по двум выборкам я выбрала спецаилный метод scipy.stats.ttest_ind. Параметр equal_var указала False т.к. выборки не одинаковые по размеру."
   ]
  },
  {
   "cell_type": "markdown",
   "metadata": {},
   "source": [
    "### Проверяем гипотезу, что средние пользовательские рейтинги жанров Action  и Sports разные."
   ]
  },
  {
   "cell_type": "code",
   "execution_count": 61,
   "metadata": {},
   "outputs": [
    {
     "name": "stdout",
     "output_type": "stream",
     "text": [
      "Cредний пользовательский рейтинг по жанру Action равен: 6.808290155440415\n"
     ]
    }
   ],
   "source": [
    "# делаем срез данных в котором из жанра только Action\n",
    "action_frame = data_new.query('genre == \"Action\"')\n",
    "# удаляем пропуски в колонке user_score\n",
    "action_frame.dropna( subset = ['user_score'], inplace=True)\n",
    "# находим среднее значение рейтинга пользователей\n",
    "action_mean = action_frame['user_score'].mean()\n",
    "# выводим\n",
    "print('Cредний пользовательский рейтинг по жанру Action равен:', action_mean)"
   ]
  },
  {
   "cell_type": "code",
   "execution_count": 62,
   "metadata": {},
   "outputs": [
    {
     "name": "stdout",
     "output_type": "stream",
     "text": [
      "Cредний пользовательский рейтинг по жанру Sports равен: 5.198780487804878\n"
     ]
    }
   ],
   "source": [
    "# делаем срез данных в котором из жанра только Action\n",
    "sports_frame = data_new.query('genre == \"Sports\"')\n",
    "# удаляем пропуски в колонке user_score\n",
    "sports_frame.dropna(subset =['user_score'], inplace=True)\n",
    "# находим среднее значение рейтинга пользователей\n",
    "sports_mean = sports_frame['user_score'].mean()\n",
    "# выводим\n",
    "print('Cредний пользовательский рейтинг по жанру Sports равен:', sports_mean)"
   ]
  },
  {
   "cell_type": "code",
   "execution_count": 63,
   "metadata": {},
   "outputs": [
    {
     "name": "stdout",
     "output_type": "stream",
     "text": [
      "p-значение 5.97163549920592e-10\n",
      "Отвергаем нулевую гипотезу\n"
     ]
    }
   ],
   "source": [
    "# задаем пороговое значение\n",
    "alpha = .05\n",
    "# проверяем двухстороннюю гипотезу\n",
    "results = st.ttest_ind(\n",
    "    action_frame['user_score'], \n",
    "    sports_frame['user_score'],\n",
    "    equal_var=False\n",
    ")\n",
    "# выводим p-значение\n",
    "print('p-значение', results.pvalue)\n",
    "\n",
    "if results.pvalue < alpha:\n",
    "    print('Отвергаем нулевую гипотезу')\n",
    "else:\n",
    "    print('Отвергнуть нулевую гипотезу не получилось')\n",
    "    \n",
    "    "
   ]
  },
  {
   "cell_type": "markdown",
   "metadata": {},
   "source": [
    "#### Вывод о проверке гипотезы"
   ]
  },
  {
   "cell_type": "markdown",
   "metadata": {},
   "source": [
    "Я проверила гипотезу, что средние пользовательские рейтинги жанров Action и Sports разные. Нулевая гипотеза Н0 - средние пользовательские рейтинги жанров Action и Sports равны. Альтернативная Н1 - средние пользовательские рейтинги жанров Action и Sports не равны. Пороговое значение 5% (общепринятое пороговое значение). После проведения t-теста мы отвергли нулевую гипотезу, что говорит о том, что  средние пользовательские рейтинги жанров Action и Sports не равны.\n",
    "\n",
    "Для проверки равенства среднего по двум выборкам я выбрала спецаилный метод scipy.stats.ttest_ind. Параметр equal_var указала False т.к. выборки не одинаковые по размеру."
   ]
  },
  {
   "cell_type": "markdown",
   "metadata": {},
   "source": [
    "## Общий вывод"
   ]
  },
  {
   "cell_type": "markdown",
   "metadata": {},
   "source": [
    "После открытия и изучения файла данные в таблице были предобработаны для дальнейшей работы с ними.\n",
    "\n",
    "Проведен исследовательский анализ, выведен актуальный период, составлен портрет пользователя по регионам и проверены гипотезы.\n",
    "Если представить, что сейчас декабрь 2016 года - то я думаю, эта работа поможет спланировать кампанию на 2017 год."
   ]
  }
 ],
 "metadata": {
  "ExecuteTimeLog": [
   {
    "duration": 373,
    "start_time": "2022-01-17T11:56:31.906Z"
   },
   {
    "duration": 736,
    "start_time": "2022-01-17T11:56:34.559Z"
   },
   {
    "duration": 92,
    "start_time": "2022-01-17T11:56:36.488Z"
   },
   {
    "duration": 20,
    "start_time": "2022-01-17T12:02:46.249Z"
   },
   {
    "duration": 382,
    "start_time": "2022-01-17T12:53:08.004Z"
   },
   {
    "duration": 412,
    "start_time": "2022-01-17T12:53:13.633Z"
   },
   {
    "duration": 404,
    "start_time": "2022-01-17T12:53:22.204Z"
   },
   {
    "duration": 4,
    "start_time": "2022-01-17T12:55:03.794Z"
   },
   {
    "duration": 337,
    "start_time": "2022-01-17T12:55:13.789Z"
   },
   {
    "duration": 5,
    "start_time": "2022-01-17T12:55:16.264Z"
   },
   {
    "duration": 6,
    "start_time": "2022-01-17T12:56:00.613Z"
   },
   {
    "duration": 13,
    "start_time": "2022-01-17T12:56:16.719Z"
   },
   {
    "duration": 722,
    "start_time": "2022-01-17T12:56:32.538Z"
   },
   {
    "duration": 9160,
    "start_time": "2022-01-17T13:00:24.474Z"
   },
   {
    "duration": 8570,
    "start_time": "2022-01-17T13:00:33.952Z"
   },
   {
    "duration": 5,
    "start_time": "2022-01-17T13:01:02.124Z"
   },
   {
    "duration": 314,
    "start_time": "2022-01-17T13:01:04.446Z"
   },
   {
    "duration": 7,
    "start_time": "2022-01-17T13:01:49.656Z"
   },
   {
    "duration": 122,
    "start_time": "2022-01-17T13:01:59.319Z"
   },
   {
    "duration": 119,
    "start_time": "2022-01-17T13:02:05.943Z"
   },
   {
    "duration": 15,
    "start_time": "2022-01-17T13:02:09.687Z"
   },
   {
    "duration": 349,
    "start_time": "2022-01-17T13:03:29.893Z"
   },
   {
    "duration": 9,
    "start_time": "2022-01-17T13:04:39.288Z"
   },
   {
    "duration": 13395,
    "start_time": "2022-01-17T13:06:14.056Z"
   },
   {
    "duration": 17,
    "start_time": "2022-01-17T13:06:45.218Z"
   },
   {
    "duration": 3,
    "start_time": "2022-01-17T13:11:32.341Z"
   },
   {
    "duration": 75,
    "start_time": "2022-01-17T13:11:33.085Z"
   },
   {
    "duration": 14,
    "start_time": "2022-01-17T13:11:33.656Z"
   },
   {
    "duration": 5,
    "start_time": "2022-01-17T13:11:36.338Z"
   },
   {
    "duration": 22,
    "start_time": "2022-01-17T13:13:15.131Z"
   },
   {
    "duration": 4,
    "start_time": "2022-01-17T13:15:48.390Z"
   },
   {
    "duration": 63,
    "start_time": "2022-01-17T13:15:49.017Z"
   },
   {
    "duration": 12,
    "start_time": "2022-01-17T13:15:49.468Z"
   },
   {
    "duration": 5,
    "start_time": "2022-01-17T13:15:51.390Z"
   },
   {
    "duration": 19,
    "start_time": "2022-01-17T13:15:52.697Z"
   },
   {
    "duration": 12,
    "start_time": "2022-01-17T13:29:54.608Z"
   },
   {
    "duration": 16,
    "start_time": "2022-01-17T13:29:59.603Z"
   },
   {
    "duration": 18,
    "start_time": "2022-01-17T13:30:39.421Z"
   },
   {
    "duration": 15,
    "start_time": "2022-01-17T13:30:47.508Z"
   },
   {
    "duration": 15,
    "start_time": "2022-01-17T13:31:41.228Z"
   },
   {
    "duration": 15,
    "start_time": "2022-01-17T13:31:47.785Z"
   },
   {
    "duration": 3,
    "start_time": "2022-01-17T13:31:52.896Z"
   },
   {
    "duration": 60,
    "start_time": "2022-01-17T13:31:53.645Z"
   },
   {
    "duration": 14,
    "start_time": "2022-01-17T13:31:54.013Z"
   },
   {
    "duration": 5,
    "start_time": "2022-01-17T13:31:55.639Z"
   },
   {
    "duration": 19,
    "start_time": "2022-01-17T13:31:56.292Z"
   },
   {
    "duration": 18,
    "start_time": "2022-01-17T13:31:57.171Z"
   },
   {
    "duration": 7,
    "start_time": "2022-01-17T13:32:36.257Z"
   },
   {
    "duration": 7,
    "start_time": "2022-01-17T13:32:46.241Z"
   },
   {
    "duration": 14,
    "start_time": "2022-01-17T13:33:00.231Z"
   },
   {
    "duration": 8,
    "start_time": "2022-01-17T13:40:08.694Z"
   },
   {
    "duration": 8,
    "start_time": "2022-01-17T13:40:13.688Z"
   },
   {
    "duration": 333,
    "start_time": "2022-01-17T13:41:18.132Z"
   },
   {
    "duration": 32,
    "start_time": "2022-01-17T13:41:37.873Z"
   },
   {
    "duration": 36,
    "start_time": "2022-01-17T13:41:42.357Z"
   },
   {
    "duration": 15,
    "start_time": "2022-01-17T13:42:11.341Z"
   },
   {
    "duration": 14,
    "start_time": "2022-01-17T13:42:15.534Z"
   },
   {
    "duration": 6,
    "start_time": "2022-01-17T13:42:17.446Z"
   },
   {
    "duration": 15,
    "start_time": "2022-01-17T13:42:19.818Z"
   },
   {
    "duration": 115,
    "start_time": "2022-01-17T13:43:10.294Z"
   },
   {
    "duration": 22,
    "start_time": "2022-01-17T13:43:18.750Z"
   },
   {
    "duration": 16,
    "start_time": "2022-01-17T13:43:25.911Z"
   },
   {
    "duration": 7,
    "start_time": "2022-01-17T13:43:30.668Z"
   },
   {
    "duration": 14,
    "start_time": "2022-01-17T13:45:39.056Z"
   },
   {
    "duration": 15,
    "start_time": "2022-01-17T13:47:13.142Z"
   },
   {
    "duration": 14,
    "start_time": "2022-01-17T13:47:28.568Z"
   },
   {
    "duration": 16,
    "start_time": "2022-01-17T13:48:27.767Z"
   },
   {
    "duration": 13,
    "start_time": "2022-01-17T13:48:53.779Z"
   },
   {
    "duration": 3,
    "start_time": "2022-01-17T13:49:01.255Z"
   },
   {
    "duration": 66,
    "start_time": "2022-01-17T13:49:02.447Z"
   },
   {
    "duration": 14,
    "start_time": "2022-01-17T13:49:02.758Z"
   },
   {
    "duration": 5,
    "start_time": "2022-01-17T13:49:04.199Z"
   },
   {
    "duration": 8,
    "start_time": "2022-01-17T13:49:04.778Z"
   },
   {
    "duration": 6,
    "start_time": "2022-01-17T13:49:05.096Z"
   },
   {
    "duration": 22,
    "start_time": "2022-01-17T13:49:05.412Z"
   },
   {
    "duration": 12,
    "start_time": "2022-01-17T13:49:07.845Z"
   },
   {
    "duration": 14,
    "start_time": "2022-01-17T13:49:37.824Z"
   },
   {
    "duration": 359,
    "start_time": "2022-01-17T13:50:15.191Z"
   },
   {
    "duration": 92,
    "start_time": "2022-01-17T13:50:36.416Z"
   },
   {
    "duration": 9772,
    "start_time": "2022-01-17T13:50:55.389Z"
   },
   {
    "duration": 8,
    "start_time": "2022-01-17T13:52:20.761Z"
   },
   {
    "duration": 7,
    "start_time": "2022-01-17T14:08:17.283Z"
   },
   {
    "duration": 386,
    "start_time": "2022-01-17T14:09:03.881Z"
   },
   {
    "duration": 312,
    "start_time": "2022-01-17T14:09:37.451Z"
   },
   {
    "duration": 361,
    "start_time": "2022-01-17T14:09:55.690Z"
   },
   {
    "duration": 585,
    "start_time": "2022-01-17T14:10:03.252Z"
   },
   {
    "duration": 4,
    "start_time": "2022-01-17T14:10:38.981Z"
   },
   {
    "duration": 86,
    "start_time": "2022-01-17T14:10:39.633Z"
   },
   {
    "duration": 18,
    "start_time": "2022-01-17T14:10:40.434Z"
   },
   {
    "duration": 17,
    "start_time": "2022-01-17T14:11:02.548Z"
   },
   {
    "duration": 13,
    "start_time": "2022-01-17T14:11:28.466Z"
   },
   {
    "duration": 5,
    "start_time": "2022-01-17T14:11:32.065Z"
   },
   {
    "duration": 3013,
    "start_time": "2022-01-17T14:11:44.653Z"
   },
   {
    "duration": 3,
    "start_time": "2022-01-17T14:12:22.840Z"
   },
   {
    "duration": 69,
    "start_time": "2022-01-17T14:12:24.098Z"
   },
   {
    "duration": 14,
    "start_time": "2022-01-17T14:12:24.403Z"
   },
   {
    "duration": 6,
    "start_time": "2022-01-17T14:12:26.247Z"
   },
   {
    "duration": 5,
    "start_time": "2022-01-17T14:12:27.914Z"
   },
   {
    "duration": 7,
    "start_time": "2022-01-17T14:12:28.807Z"
   },
   {
    "duration": 15,
    "start_time": "2022-01-17T14:12:29.157Z"
   },
   {
    "duration": 13,
    "start_time": "2022-01-17T14:12:32.744Z"
   },
   {
    "duration": 16,
    "start_time": "2022-01-17T14:12:33.440Z"
   },
   {
    "duration": 6,
    "start_time": "2022-01-17T14:12:35.983Z"
   },
   {
    "duration": 7,
    "start_time": "2022-01-17T14:12:49.019Z"
   },
   {
    "duration": 8,
    "start_time": "2022-01-17T14:13:10.875Z"
   },
   {
    "duration": 10,
    "start_time": "2022-01-17T16:29:34.594Z"
   },
   {
    "duration": 8,
    "start_time": "2022-01-17T16:30:05.487Z"
   },
   {
    "duration": 10,
    "start_time": "2022-01-17T16:30:12.772Z"
   },
   {
    "duration": 9,
    "start_time": "2022-01-17T16:31:06.328Z"
   },
   {
    "duration": 7,
    "start_time": "2022-01-17T16:31:20.954Z"
   },
   {
    "duration": 8,
    "start_time": "2022-01-17T16:31:31.438Z"
   },
   {
    "duration": 13,
    "start_time": "2022-01-17T16:31:54.350Z"
   },
   {
    "duration": 7,
    "start_time": "2022-01-17T16:32:19.049Z"
   },
   {
    "duration": 5,
    "start_time": "2022-01-17T16:32:46.376Z"
   },
   {
    "duration": 9,
    "start_time": "2022-01-17T16:33:03.737Z"
   },
   {
    "duration": 13,
    "start_time": "2022-01-17T16:33:30.657Z"
   },
   {
    "duration": 13,
    "start_time": "2022-01-17T16:33:47.499Z"
   },
   {
    "duration": 6,
    "start_time": "2022-01-17T16:34:40.694Z"
   },
   {
    "duration": 5,
    "start_time": "2022-01-17T16:36:04.853Z"
   },
   {
    "duration": 5,
    "start_time": "2022-01-17T16:36:07.546Z"
   },
   {
    "duration": 8,
    "start_time": "2022-01-17T16:36:17.433Z"
   },
   {
    "duration": 8,
    "start_time": "2022-01-17T16:36:33.158Z"
   },
   {
    "duration": 5,
    "start_time": "2022-01-17T16:36:34.985Z"
   },
   {
    "duration": 7,
    "start_time": "2022-01-17T16:38:24.928Z"
   },
   {
    "duration": 8,
    "start_time": "2022-01-17T16:39:07.854Z"
   },
   {
    "duration": 14,
    "start_time": "2022-01-17T16:39:26.302Z"
   },
   {
    "duration": 7,
    "start_time": "2022-01-17T16:39:54.580Z"
   },
   {
    "duration": 21,
    "start_time": "2022-01-17T16:39:59.015Z"
   },
   {
    "duration": 14,
    "start_time": "2022-01-17T16:40:36.906Z"
   },
   {
    "duration": 7,
    "start_time": "2022-01-17T16:40:58.749Z"
   },
   {
    "duration": 144,
    "start_time": "2022-01-17T16:41:11.847Z"
   },
   {
    "duration": 9,
    "start_time": "2022-01-17T16:41:15.132Z"
   },
   {
    "duration": 399,
    "start_time": "2022-01-17T16:41:24.526Z"
   },
   {
    "duration": 289,
    "start_time": "2022-01-17T16:41:39.249Z"
   },
   {
    "duration": 277,
    "start_time": "2022-01-17T16:52:29.974Z"
   },
   {
    "duration": 830,
    "start_time": "2022-01-17T16:52:46.817Z"
   },
   {
    "duration": 103,
    "start_time": "2022-01-17T16:52:57.170Z"
   },
   {
    "duration": 367,
    "start_time": "2022-01-17T16:53:24.678Z"
   },
   {
    "duration": 705,
    "start_time": "2022-01-17T16:58:43.086Z"
   },
   {
    "duration": 449,
    "start_time": "2022-01-17T16:59:03.765Z"
   },
   {
    "duration": 641,
    "start_time": "2022-01-17T17:02:09.294Z"
   },
   {
    "duration": 380,
    "start_time": "2022-01-17T17:02:26.252Z"
   },
   {
    "duration": 374,
    "start_time": "2022-01-17T17:04:44.703Z"
   },
   {
    "duration": 12,
    "start_time": "2022-01-17T17:05:00.104Z"
   },
   {
    "duration": 6,
    "start_time": "2022-01-17T17:05:10.334Z"
   },
   {
    "duration": 6,
    "start_time": "2022-01-17T17:05:44.232Z"
   },
   {
    "duration": 8,
    "start_time": "2022-01-17T17:06:11.375Z"
   },
   {
    "duration": 6,
    "start_time": "2022-01-17T17:06:32.580Z"
   },
   {
    "duration": 11,
    "start_time": "2022-01-17T17:06:49.825Z"
   },
   {
    "duration": 414,
    "start_time": "2022-01-17T17:07:19.604Z"
   },
   {
    "duration": 392,
    "start_time": "2022-01-17T17:10:06.748Z"
   },
   {
    "duration": 391,
    "start_time": "2022-01-17T17:10:19.022Z"
   },
   {
    "duration": 7,
    "start_time": "2022-01-17T17:27:57.219Z"
   },
   {
    "duration": 8,
    "start_time": "2022-01-17T17:28:16.018Z"
   },
   {
    "duration": 7,
    "start_time": "2022-01-17T17:29:15.967Z"
   },
   {
    "duration": 6,
    "start_time": "2022-01-17T17:29:51.336Z"
   },
   {
    "duration": 22,
    "start_time": "2022-01-17T17:31:15.554Z"
   },
   {
    "duration": 14,
    "start_time": "2022-01-17T17:31:25.712Z"
   },
   {
    "duration": 336,
    "start_time": "2022-01-17T17:31:53.986Z"
   },
   {
    "duration": 4,
    "start_time": "2022-01-17T17:32:42.862Z"
   },
   {
    "duration": 72,
    "start_time": "2022-01-17T17:32:42.869Z"
   },
   {
    "duration": 20,
    "start_time": "2022-01-17T17:32:42.945Z"
   },
   {
    "duration": 7,
    "start_time": "2022-01-17T17:32:42.968Z"
   },
   {
    "duration": 13,
    "start_time": "2022-01-17T17:32:42.978Z"
   },
   {
    "duration": 166,
    "start_time": "2022-01-17T17:32:42.994Z"
   },
   {
    "duration": 26,
    "start_time": "2022-01-17T17:32:43.164Z"
   },
   {
    "duration": 35,
    "start_time": "2022-01-17T17:32:43.194Z"
   },
   {
    "duration": 15,
    "start_time": "2022-01-17T17:32:43.231Z"
   },
   {
    "duration": 10,
    "start_time": "2022-01-17T17:32:43.249Z"
   },
   {
    "duration": 491,
    "start_time": "2022-01-17T17:32:43.261Z"
   },
   {
    "duration": 5,
    "start_time": "2022-01-17T17:32:43.755Z"
   },
   {
    "duration": 9,
    "start_time": "2022-01-17T17:32:43.764Z"
   },
   {
    "duration": 14,
    "start_time": "2022-01-17T17:32:43.776Z"
   },
   {
    "duration": 46,
    "start_time": "2022-01-17T17:32:43.793Z"
   },
   {
    "duration": 473,
    "start_time": "2022-01-17T17:32:43.842Z"
   },
   {
    "duration": 11,
    "start_time": "2022-01-17T17:32:44.317Z"
   },
   {
    "duration": 16,
    "start_time": "2022-01-17T17:32:44.331Z"
   },
   {
    "duration": 10,
    "start_time": "2022-01-17T17:32:44.353Z"
   },
   {
    "duration": 6,
    "start_time": "2022-01-17T17:32:44.366Z"
   },
   {
    "duration": 542,
    "start_time": "2022-01-17T17:32:44.375Z"
   },
   {
    "duration": 8,
    "start_time": "2022-01-17T17:33:34.569Z"
   },
   {
    "duration": 17,
    "start_time": "2022-01-17T17:33:36.450Z"
   },
   {
    "duration": 3,
    "start_time": "2022-01-17T17:33:51.106Z"
   },
   {
    "duration": 64,
    "start_time": "2022-01-17T17:33:51.728Z"
   },
   {
    "duration": 15,
    "start_time": "2022-01-17T17:33:54.087Z"
   },
   {
    "duration": 6,
    "start_time": "2022-01-17T17:33:57.101Z"
   },
   {
    "duration": 6,
    "start_time": "2022-01-17T17:33:59.167Z"
   },
   {
    "duration": 7,
    "start_time": "2022-01-17T17:33:59.774Z"
   },
   {
    "duration": 19,
    "start_time": "2022-01-17T17:34:00.451Z"
   },
   {
    "duration": 25,
    "start_time": "2022-01-17T17:36:27.742Z"
   },
   {
    "duration": 15,
    "start_time": "2022-01-17T17:36:28.866Z"
   },
   {
    "duration": 8,
    "start_time": "2022-01-17T17:37:01.017Z"
   },
   {
    "duration": 4,
    "start_time": "2022-01-17T17:37:04.348Z"
   },
   {
    "duration": 69,
    "start_time": "2022-01-17T17:37:04.835Z"
   },
   {
    "duration": 13,
    "start_time": "2022-01-17T17:37:05.120Z"
   },
   {
    "duration": 6,
    "start_time": "2022-01-17T17:37:07.661Z"
   },
   {
    "duration": 7,
    "start_time": "2022-01-17T17:37:08.310Z"
   },
   {
    "duration": 21,
    "start_time": "2022-01-17T17:37:08.641Z"
   },
   {
    "duration": 14,
    "start_time": "2022-01-17T17:37:08.978Z"
   },
   {
    "duration": 7,
    "start_time": "2022-01-17T17:37:20.727Z"
   },
   {
    "duration": 65,
    "start_time": "2022-01-17T17:37:24.159Z"
   },
   {
    "duration": 16,
    "start_time": "2022-01-17T17:37:24.445Z"
   },
   {
    "duration": 6,
    "start_time": "2022-01-17T17:37:26.766Z"
   },
   {
    "duration": 6,
    "start_time": "2022-01-17T17:37:27.456Z"
   },
   {
    "duration": 7,
    "start_time": "2022-01-17T17:37:27.894Z"
   },
   {
    "duration": 19,
    "start_time": "2022-01-17T17:37:28.245Z"
   },
   {
    "duration": 6,
    "start_time": "2022-01-17T17:37:40.343Z"
   },
   {
    "duration": 6,
    "start_time": "2022-01-17T17:37:41.083Z"
   },
   {
    "duration": 16,
    "start_time": "2022-01-17T17:37:41.517Z"
   },
   {
    "duration": 40,
    "start_time": "2022-01-17T17:45:29.016Z"
   },
   {
    "duration": 13,
    "start_time": "2022-01-17T17:45:32.525Z"
   },
   {
    "duration": 514,
    "start_time": "2022-01-17T17:46:31.919Z"
   },
   {
    "duration": 3,
    "start_time": "2022-01-17T17:46:43.261Z"
   },
   {
    "duration": 69,
    "start_time": "2022-01-17T17:46:43.272Z"
   },
   {
    "duration": 13,
    "start_time": "2022-01-17T17:46:43.343Z"
   },
   {
    "duration": 5,
    "start_time": "2022-01-17T17:46:43.359Z"
   },
   {
    "duration": 11,
    "start_time": "2022-01-17T17:46:43.367Z"
   },
   {
    "duration": 53,
    "start_time": "2022-01-17T17:46:43.380Z"
   },
   {
    "duration": 20,
    "start_time": "2022-01-17T17:46:43.435Z"
   },
   {
    "duration": 11,
    "start_time": "2022-01-17T17:46:43.457Z"
   },
   {
    "duration": 14,
    "start_time": "2022-01-17T17:46:43.473Z"
   },
   {
    "duration": 41,
    "start_time": "2022-01-17T17:46:43.490Z"
   },
   {
    "duration": 392,
    "start_time": "2022-01-17T17:46:43.534Z"
   },
   {
    "duration": 5,
    "start_time": "2022-01-17T17:46:43.928Z"
   },
   {
    "duration": 11,
    "start_time": "2022-01-17T17:46:43.936Z"
   },
   {
    "duration": 11,
    "start_time": "2022-01-17T17:46:43.950Z"
   },
   {
    "duration": 4,
    "start_time": "2022-01-17T17:46:43.964Z"
   },
   {
    "duration": 415,
    "start_time": "2022-01-17T17:46:43.971Z"
   },
   {
    "duration": 6,
    "start_time": "2022-01-17T17:46:44.389Z"
   },
   {
    "duration": 27,
    "start_time": "2022-01-17T17:46:44.397Z"
   },
   {
    "duration": 9,
    "start_time": "2022-01-17T17:46:44.426Z"
   },
   {
    "duration": 7,
    "start_time": "2022-01-17T17:46:44.437Z"
   },
   {
    "duration": 403,
    "start_time": "2022-01-17T17:46:44.446Z"
   },
   {
    "duration": 7,
    "start_time": "2022-01-17T17:47:05.958Z"
   },
   {
    "duration": 9,
    "start_time": "2022-01-17T17:47:21.212Z"
   },
   {
    "duration": 8,
    "start_time": "2022-01-17T17:47:40.724Z"
   },
   {
    "duration": 6,
    "start_time": "2022-01-17T17:47:51.244Z"
   },
   {
    "duration": 11,
    "start_time": "2022-01-17T17:48:13.706Z"
   },
   {
    "duration": 4,
    "start_time": "2022-01-17T17:49:13.909Z"
   },
   {
    "duration": 132,
    "start_time": "2022-01-17T17:49:14.607Z"
   },
   {
    "duration": 17,
    "start_time": "2022-01-17T17:49:16.859Z"
   },
   {
    "duration": 6,
    "start_time": "2022-01-17T17:49:18.744Z"
   },
   {
    "duration": 7,
    "start_time": "2022-01-17T17:49:22.444Z"
   },
   {
    "duration": 9,
    "start_time": "2022-01-17T17:49:52.694Z"
   },
   {
    "duration": 24,
    "start_time": "2022-01-17T17:50:42.840Z"
   },
   {
    "duration": 15,
    "start_time": "2022-01-17T17:50:43.331Z"
   },
   {
    "duration": 11,
    "start_time": "2022-01-17T18:18:58.945Z"
   },
   {
    "duration": 4,
    "start_time": "2022-01-17T18:19:18.103Z"
   },
   {
    "duration": 68,
    "start_time": "2022-01-17T18:19:18.668Z"
   },
   {
    "duration": 15,
    "start_time": "2022-01-17T18:19:19.123Z"
   },
   {
    "duration": 5,
    "start_time": "2022-01-17T18:19:21.778Z"
   },
   {
    "duration": 7,
    "start_time": "2022-01-17T18:19:25.912Z"
   },
   {
    "duration": 14,
    "start_time": "2022-01-17T18:19:29.922Z"
   },
   {
    "duration": 11,
    "start_time": "2022-01-17T18:20:50.911Z"
   },
   {
    "duration": 10,
    "start_time": "2022-01-17T18:22:34.636Z"
   },
   {
    "duration": 26,
    "start_time": "2022-01-17T18:23:06.834Z"
   },
   {
    "duration": 18,
    "start_time": "2022-01-17T18:23:07.894Z"
   },
   {
    "duration": 10,
    "start_time": "2022-01-17T18:24:05.205Z"
   },
   {
    "duration": 3,
    "start_time": "2022-01-17T18:43:20.330Z"
   },
   {
    "duration": 67,
    "start_time": "2022-01-17T18:43:20.909Z"
   },
   {
    "duration": 23,
    "start_time": "2022-01-17T18:43:21.516Z"
   },
   {
    "duration": 5,
    "start_time": "2022-01-17T18:43:24.632Z"
   },
   {
    "duration": 378,
    "start_time": "2022-01-17T18:43:28.687Z"
   },
   {
    "duration": 6,
    "start_time": "2022-01-17T18:43:39.297Z"
   },
   {
    "duration": 4,
    "start_time": "2022-01-17T19:27:13.148Z"
   },
   {
    "duration": 75,
    "start_time": "2022-01-17T19:27:13.154Z"
   },
   {
    "duration": 15,
    "start_time": "2022-01-17T19:27:13.232Z"
   },
   {
    "duration": 10,
    "start_time": "2022-01-17T19:27:13.250Z"
   },
   {
    "duration": 12,
    "start_time": "2022-01-17T19:27:13.263Z"
   },
   {
    "duration": 471,
    "start_time": "2022-01-17T19:27:13.277Z"
   },
   {
    "duration": 374,
    "start_time": "2022-01-17T19:27:13.378Z"
   },
   {
    "duration": 371,
    "start_time": "2022-01-17T19:27:13.383Z"
   },
   {
    "duration": 350,
    "start_time": "2022-01-17T19:27:13.405Z"
   },
   {
    "duration": 348,
    "start_time": "2022-01-17T19:27:13.408Z"
   },
   {
    "duration": 345,
    "start_time": "2022-01-17T19:27:13.413Z"
   },
   {
    "duration": 338,
    "start_time": "2022-01-17T19:27:13.421Z"
   },
   {
    "duration": 337,
    "start_time": "2022-01-17T19:27:13.424Z"
   },
   {
    "duration": 334,
    "start_time": "2022-01-17T19:27:13.428Z"
   },
   {
    "duration": 333,
    "start_time": "2022-01-17T19:27:13.430Z"
   },
   {
    "duration": 332,
    "start_time": "2022-01-17T19:27:13.433Z"
   },
   {
    "duration": 331,
    "start_time": "2022-01-17T19:27:13.435Z"
   },
   {
    "duration": 331,
    "start_time": "2022-01-17T19:27:13.437Z"
   },
   {
    "duration": 332,
    "start_time": "2022-01-17T19:27:13.438Z"
   },
   {
    "duration": 330,
    "start_time": "2022-01-17T19:27:13.441Z"
   },
   {
    "duration": 328,
    "start_time": "2022-01-17T19:27:13.444Z"
   },
   {
    "duration": 327,
    "start_time": "2022-01-17T19:27:13.446Z"
   },
   {
    "duration": 327,
    "start_time": "2022-01-17T19:27:13.448Z"
   },
   {
    "duration": 325,
    "start_time": "2022-01-17T19:27:13.451Z"
   },
   {
    "duration": 324,
    "start_time": "2022-01-17T19:27:13.453Z"
   },
   {
    "duration": 315,
    "start_time": "2022-01-17T19:27:13.464Z"
   },
   {
    "duration": 312,
    "start_time": "2022-01-17T19:27:13.468Z"
   },
   {
    "duration": 12,
    "start_time": "2022-01-17T19:27:34.791Z"
   },
   {
    "duration": 15,
    "start_time": "2022-01-17T19:27:36.673Z"
   },
   {
    "duration": 4,
    "start_time": "2022-01-17T19:27:46.546Z"
   },
   {
    "duration": 67,
    "start_time": "2022-01-17T19:27:47.954Z"
   },
   {
    "duration": 17,
    "start_time": "2022-01-17T19:27:48.024Z"
   },
   {
    "duration": 6,
    "start_time": "2022-01-17T19:27:52.181Z"
   },
   {
    "duration": 7,
    "start_time": "2022-01-17T19:27:53.068Z"
   },
   {
    "duration": 13,
    "start_time": "2022-01-17T19:27:55.303Z"
   },
   {
    "duration": 14,
    "start_time": "2022-01-17T19:27:55.770Z"
   },
   {
    "duration": 14,
    "start_time": "2022-01-17T19:29:16.423Z"
   },
   {
    "duration": 3,
    "start_time": "2022-01-17T19:29:24.543Z"
   },
   {
    "duration": 71,
    "start_time": "2022-01-17T19:29:25.315Z"
   },
   {
    "duration": 15,
    "start_time": "2022-01-17T19:29:25.855Z"
   },
   {
    "duration": 5,
    "start_time": "2022-01-17T19:29:28.697Z"
   },
   {
    "duration": 6,
    "start_time": "2022-01-17T19:29:30.412Z"
   },
   {
    "duration": 12,
    "start_time": "2022-01-17T19:29:30.722Z"
   },
   {
    "duration": 16,
    "start_time": "2022-01-17T19:29:32.211Z"
   },
   {
    "duration": 9,
    "start_time": "2022-01-17T19:33:37.298Z"
   },
   {
    "duration": 13,
    "start_time": "2022-01-17T19:33:37.548Z"
   },
   {
    "duration": 14,
    "start_time": "2022-01-17T19:34:11.840Z"
   },
   {
    "duration": 16,
    "start_time": "2022-01-17T19:34:26.599Z"
   },
   {
    "duration": 14,
    "start_time": "2022-01-17T19:34:39.378Z"
   },
   {
    "duration": 3,
    "start_time": "2022-01-17T19:34:55.090Z"
   },
   {
    "duration": 67,
    "start_time": "2022-01-17T19:34:55.777Z"
   },
   {
    "duration": 15,
    "start_time": "2022-01-17T19:34:56.282Z"
   },
   {
    "duration": 6,
    "start_time": "2022-01-17T19:34:58.540Z"
   },
   {
    "duration": 5,
    "start_time": "2022-01-17T19:35:00.217Z"
   },
   {
    "duration": 12,
    "start_time": "2022-01-17T19:35:00.733Z"
   },
   {
    "duration": 15,
    "start_time": "2022-01-17T19:35:01.094Z"
   },
   {
    "duration": 13,
    "start_time": "2022-01-17T19:35:03.142Z"
   },
   {
    "duration": 15,
    "start_time": "2022-01-17T19:35:04.804Z"
   },
   {
    "duration": 9,
    "start_time": "2022-01-17T19:35:05.564Z"
   },
   {
    "duration": 16,
    "start_time": "2022-01-17T19:38:19.661Z"
   },
   {
    "duration": 5,
    "start_time": "2022-01-17T19:38:24.615Z"
   },
   {
    "duration": 6,
    "start_time": "2022-01-17T19:38:46.136Z"
   },
   {
    "duration": 9,
    "start_time": "2022-01-17T19:38:46.587Z"
   },
   {
    "duration": 403,
    "start_time": "2022-01-17T19:39:54.809Z"
   },
   {
    "duration": 5,
    "start_time": "2022-01-17T19:40:02.207Z"
   },
   {
    "duration": 10,
    "start_time": "2022-01-17T19:40:03.171Z"
   },
   {
    "duration": 14,
    "start_time": "2022-01-17T19:40:08.036Z"
   },
   {
    "duration": 5,
    "start_time": "2022-01-17T19:40:08.831Z"
   },
   {
    "duration": 3,
    "start_time": "2022-01-17T19:40:18.546Z"
   },
   {
    "duration": 63,
    "start_time": "2022-01-17T19:40:19.242Z"
   },
   {
    "duration": 16,
    "start_time": "2022-01-17T19:40:21.482Z"
   },
   {
    "duration": 6,
    "start_time": "2022-01-17T19:40:23.556Z"
   },
   {
    "duration": 5,
    "start_time": "2022-01-17T19:40:26.135Z"
   },
   {
    "duration": 13,
    "start_time": "2022-01-17T19:40:26.574Z"
   },
   {
    "duration": 14,
    "start_time": "2022-01-17T19:40:27.496Z"
   },
   {
    "duration": 12,
    "start_time": "2022-01-17T19:40:29.516Z"
   },
   {
    "duration": 14,
    "start_time": "2022-01-17T19:40:39.187Z"
   },
   {
    "duration": 8,
    "start_time": "2022-01-17T19:40:40.262Z"
   },
   {
    "duration": 354,
    "start_time": "2022-01-17T19:40:42.715Z"
   },
   {
    "duration": 5,
    "start_time": "2022-01-17T19:40:43.371Z"
   },
   {
    "duration": 8,
    "start_time": "2022-01-17T19:40:44.153Z"
   },
   {
    "duration": 14,
    "start_time": "2022-01-17T19:40:46.141Z"
   },
   {
    "duration": 6,
    "start_time": "2022-01-17T19:40:46.654Z"
   },
   {
    "duration": 394,
    "start_time": "2022-01-17T19:40:49.799Z"
   },
   {
    "duration": 6,
    "start_time": "2022-01-17T19:40:50.236Z"
   },
   {
    "duration": 17,
    "start_time": "2022-01-17T19:40:50.719Z"
   },
   {
    "duration": 7,
    "start_time": "2022-01-17T19:40:51.135Z"
   },
   {
    "duration": 6,
    "start_time": "2022-01-17T19:40:52.642Z"
   },
   {
    "duration": 12,
    "start_time": "2022-01-17T19:41:04.819Z"
   },
   {
    "duration": 503,
    "start_time": "2022-01-17T19:41:05.190Z"
   },
   {
    "duration": 6,
    "start_time": "2022-01-17T19:41:05.696Z"
   },
   {
    "duration": 8,
    "start_time": "2022-01-17T19:41:06.065Z"
   },
   {
    "duration": 10,
    "start_time": "2022-01-17T19:41:06.636Z"
   },
   {
    "duration": 5,
    "start_time": "2022-01-17T19:41:07.085Z"
   },
   {
    "duration": 10,
    "start_time": "2022-01-17T19:41:30.120Z"
   },
   {
    "duration": 4,
    "start_time": "2022-01-17T19:47:14.147Z"
   },
   {
    "duration": 74,
    "start_time": "2022-01-17T19:47:14.622Z"
   },
   {
    "duration": 15,
    "start_time": "2022-01-17T19:47:14.897Z"
   },
   {
    "duration": 5,
    "start_time": "2022-01-17T19:47:16.116Z"
   },
   {
    "duration": 6,
    "start_time": "2022-01-17T19:47:16.884Z"
   },
   {
    "duration": 11,
    "start_time": "2022-01-17T19:47:17.189Z"
   },
   {
    "duration": 20,
    "start_time": "2022-01-17T19:47:17.517Z"
   },
   {
    "duration": 12,
    "start_time": "2022-01-17T19:47:18.562Z"
   },
   {
    "duration": 15,
    "start_time": "2022-01-17T19:47:21.366Z"
   },
   {
    "duration": 339,
    "start_time": "2022-01-17T19:47:54.980Z"
   },
   {
    "duration": 359,
    "start_time": "2022-01-17T19:48:17.406Z"
   },
   {
    "duration": 8,
    "start_time": "2022-01-17T19:48:41.609Z"
   },
   {
    "duration": 366,
    "start_time": "2022-01-17T19:48:48.556Z"
   },
   {
    "duration": 3,
    "start_time": "2022-01-17T19:49:02.371Z"
   },
   {
    "duration": 66,
    "start_time": "2022-01-17T19:49:02.969Z"
   },
   {
    "duration": 14,
    "start_time": "2022-01-17T19:49:03.334Z"
   },
   {
    "duration": 5,
    "start_time": "2022-01-17T19:49:05.482Z"
   },
   {
    "duration": 373,
    "start_time": "2022-01-17T19:49:07.865Z"
   },
   {
    "duration": 341,
    "start_time": "2022-01-17T19:49:38.363Z"
   },
   {
    "duration": 13,
    "start_time": "2022-01-17T19:49:45.232Z"
   },
   {
    "duration": 11,
    "start_time": "2022-01-17T19:49:49.058Z"
   },
   {
    "duration": 18,
    "start_time": "2022-01-17T19:49:49.438Z"
   },
   {
    "duration": 7,
    "start_time": "2022-01-17T19:50:16.313Z"
   },
   {
    "duration": 12,
    "start_time": "2022-01-17T19:51:29.626Z"
   },
   {
    "duration": 13,
    "start_time": "2022-01-17T19:51:35.901Z"
   },
   {
    "duration": 13,
    "start_time": "2022-01-17T19:51:53.889Z"
   },
   {
    "duration": 12,
    "start_time": "2022-01-17T19:51:54.597Z"
   },
   {
    "duration": 15,
    "start_time": "2022-01-17T19:51:54.941Z"
   },
   {
    "duration": 3,
    "start_time": "2022-01-17T19:52:08.147Z"
   },
   {
    "duration": 65,
    "start_time": "2022-01-17T19:52:08.611Z"
   },
   {
    "duration": 12,
    "start_time": "2022-01-17T19:52:10.159Z"
   },
   {
    "duration": 5,
    "start_time": "2022-01-17T19:52:13.385Z"
   },
   {
    "duration": 9,
    "start_time": "2022-01-17T19:52:14.634Z"
   },
   {
    "duration": 10,
    "start_time": "2022-01-17T19:52:15.017Z"
   },
   {
    "duration": 13,
    "start_time": "2022-01-17T19:52:16.743Z"
   },
   {
    "duration": 11,
    "start_time": "2022-01-17T19:52:19.043Z"
   },
   {
    "duration": 16,
    "start_time": "2022-01-17T19:52:19.780Z"
   },
   {
    "duration": 12,
    "start_time": "2022-01-17T19:52:21.870Z"
   },
   {
    "duration": 15,
    "start_time": "2022-01-17T19:52:22.255Z"
   },
   {
    "duration": 3,
    "start_time": "2022-01-17T19:53:31.865Z"
   },
   {
    "duration": 65,
    "start_time": "2022-01-17T19:53:32.476Z"
   },
   {
    "duration": 15,
    "start_time": "2022-01-17T19:53:34.000Z"
   },
   {
    "duration": 6,
    "start_time": "2022-01-17T19:53:35.376Z"
   },
   {
    "duration": 7,
    "start_time": "2022-01-17T19:53:36.060Z"
   },
   {
    "duration": 12,
    "start_time": "2022-01-17T19:53:37.215Z"
   },
   {
    "duration": 15,
    "start_time": "2022-01-17T19:53:37.484Z"
   },
   {
    "duration": 13,
    "start_time": "2022-01-17T20:06:03.876Z"
   },
   {
    "duration": 4,
    "start_time": "2022-01-17T20:06:09.079Z"
   },
   {
    "duration": 65,
    "start_time": "2022-01-17T20:06:09.546Z"
   },
   {
    "duration": 14,
    "start_time": "2022-01-17T20:06:09.791Z"
   },
   {
    "duration": 6,
    "start_time": "2022-01-17T20:06:11.602Z"
   },
   {
    "duration": 8,
    "start_time": "2022-01-17T20:06:12.246Z"
   },
   {
    "duration": 11,
    "start_time": "2022-01-17T20:06:12.556Z"
   },
   {
    "duration": 14,
    "start_time": "2022-01-17T20:06:12.845Z"
   },
   {
    "duration": 11,
    "start_time": "2022-01-17T20:06:14.522Z"
   },
   {
    "duration": 13,
    "start_time": "2022-01-17T20:06:15.348Z"
   },
   {
    "duration": 12,
    "start_time": "2022-01-17T20:06:16.106Z"
   },
   {
    "duration": 12,
    "start_time": "2022-01-17T20:06:16.759Z"
   },
   {
    "duration": 6,
    "start_time": "2022-01-17T20:12:15.797Z"
   },
   {
    "duration": 7,
    "start_time": "2022-01-17T20:12:31.239Z"
   },
   {
    "duration": 5,
    "start_time": "2022-01-17T20:13:44.037Z"
   },
   {
    "duration": 8,
    "start_time": "2022-01-17T20:14:05.152Z"
   },
   {
    "duration": 496,
    "start_time": "2022-01-17T20:19:52.098Z"
   },
   {
    "duration": 7,
    "start_time": "2022-01-17T20:21:52.457Z"
   },
   {
    "duration": 335,
    "start_time": "2022-01-17T20:22:01.535Z"
   },
   {
    "duration": 16,
    "start_time": "2022-01-17T20:22:05.048Z"
   },
   {
    "duration": 14,
    "start_time": "2022-01-17T20:22:14.704Z"
   },
   {
    "duration": 334,
    "start_time": "2022-01-17T20:22:30.383Z"
   },
   {
    "duration": 15,
    "start_time": "2022-01-17T20:22:49.574Z"
   },
   {
    "duration": 17,
    "start_time": "2022-01-17T20:24:01.463Z"
   },
   {
    "duration": 16,
    "start_time": "2022-01-17T20:24:46.282Z"
   },
   {
    "duration": 15,
    "start_time": "2022-01-17T20:25:05.794Z"
   },
   {
    "duration": 15,
    "start_time": "2022-01-17T20:25:34.936Z"
   },
   {
    "duration": 406,
    "start_time": "2022-01-17T20:28:49.995Z"
   },
   {
    "duration": 9325,
    "start_time": "2022-01-17T20:29:52.267Z"
   },
   {
    "duration": 348,
    "start_time": "2022-01-17T20:30:14.598Z"
   },
   {
    "duration": 341,
    "start_time": "2022-01-17T20:30:24.508Z"
   },
   {
    "duration": 9034,
    "start_time": "2022-01-17T20:30:30.022Z"
   },
   {
    "duration": 426,
    "start_time": "2022-01-17T20:30:45.574Z"
   },
   {
    "duration": 3,
    "start_time": "2022-01-17T20:31:05.393Z"
   },
   {
    "duration": 67,
    "start_time": "2022-01-17T20:31:05.402Z"
   },
   {
    "duration": 13,
    "start_time": "2022-01-17T20:31:05.471Z"
   },
   {
    "duration": 16,
    "start_time": "2022-01-17T20:31:05.487Z"
   },
   {
    "duration": 17,
    "start_time": "2022-01-17T20:31:05.506Z"
   },
   {
    "duration": 13,
    "start_time": "2022-01-17T20:31:05.526Z"
   },
   {
    "duration": 31,
    "start_time": "2022-01-17T20:31:05.541Z"
   },
   {
    "duration": 11,
    "start_time": "2022-01-17T20:31:05.575Z"
   },
   {
    "duration": 36,
    "start_time": "2022-01-17T20:31:05.589Z"
   },
   {
    "duration": 11,
    "start_time": "2022-01-17T20:31:05.628Z"
   },
   {
    "duration": 14,
    "start_time": "2022-01-17T20:31:05.641Z"
   },
   {
    "duration": 6,
    "start_time": "2022-01-17T20:31:05.657Z"
   },
   {
    "duration": 15,
    "start_time": "2022-01-17T20:31:05.665Z"
   },
   {
    "duration": 438,
    "start_time": "2022-01-17T20:31:05.682Z"
   },
   {
    "duration": 402,
    "start_time": "2022-01-17T20:31:05.721Z"
   },
   {
    "duration": 3,
    "start_time": "2022-01-17T20:31:29.568Z"
   },
   {
    "duration": 66,
    "start_time": "2022-01-17T20:31:30.344Z"
   },
   {
    "duration": 15,
    "start_time": "2022-01-17T20:31:30.669Z"
   },
   {
    "duration": 6,
    "start_time": "2022-01-17T20:31:32.125Z"
   },
   {
    "duration": 9,
    "start_time": "2022-01-17T20:31:32.734Z"
   },
   {
    "duration": 12,
    "start_time": "2022-01-17T20:31:33.048Z"
   },
   {
    "duration": 15,
    "start_time": "2022-01-17T20:31:33.348Z"
   },
   {
    "duration": 11,
    "start_time": "2022-01-17T20:31:34.589Z"
   },
   {
    "duration": 14,
    "start_time": "2022-01-17T20:31:35.211Z"
   },
   {
    "duration": 11,
    "start_time": "2022-01-17T20:31:35.841Z"
   },
   {
    "duration": 11,
    "start_time": "2022-01-17T20:31:36.187Z"
   },
   {
    "duration": 6,
    "start_time": "2022-01-17T20:31:37.446Z"
   },
   {
    "duration": 8,
    "start_time": "2022-01-17T20:31:37.746Z"
   },
   {
    "duration": 355,
    "start_time": "2022-01-17T20:31:38.811Z"
   },
   {
    "duration": 329,
    "start_time": "2022-01-17T20:31:45.100Z"
   },
   {
    "duration": 16,
    "start_time": "2022-01-17T20:31:49.053Z"
   },
   {
    "duration": 424,
    "start_time": "2022-01-17T20:32:20.095Z"
   },
   {
    "duration": 313,
    "start_time": "2022-01-17T20:37:10.223Z"
   },
   {
    "duration": 303,
    "start_time": "2022-01-17T20:37:24.777Z"
   },
   {
    "duration": 399,
    "start_time": "2022-01-17T20:37:48.048Z"
   },
   {
    "duration": 436,
    "start_time": "2022-01-17T20:38:23.119Z"
   },
   {
    "duration": 751,
    "start_time": "2022-01-18T13:03:56.794Z"
   },
   {
    "duration": 80,
    "start_time": "2022-01-18T13:03:57.548Z"
   },
   {
    "duration": 14,
    "start_time": "2022-01-18T13:03:59.142Z"
   },
   {
    "duration": 6,
    "start_time": "2022-01-18T13:04:01.716Z"
   },
   {
    "duration": 12,
    "start_time": "2022-01-18T13:04:02.323Z"
   },
   {
    "duration": 3,
    "start_time": "2022-01-18T13:04:07.044Z"
   },
   {
    "duration": 73,
    "start_time": "2022-01-18T13:04:07.049Z"
   },
   {
    "duration": 18,
    "start_time": "2022-01-18T13:04:07.125Z"
   },
   {
    "duration": 5,
    "start_time": "2022-01-18T13:04:07.146Z"
   },
   {
    "duration": 9,
    "start_time": "2022-01-18T13:04:07.153Z"
   },
   {
    "duration": 12,
    "start_time": "2022-01-18T13:04:07.164Z"
   },
   {
    "duration": 15,
    "start_time": "2022-01-18T13:04:07.179Z"
   },
   {
    "duration": 12,
    "start_time": "2022-01-18T13:04:07.234Z"
   },
   {
    "duration": 13,
    "start_time": "2022-01-18T13:04:07.249Z"
   },
   {
    "duration": 10,
    "start_time": "2022-01-18T13:04:07.265Z"
   },
   {
    "duration": 10,
    "start_time": "2022-01-18T13:04:07.278Z"
   },
   {
    "duration": 11,
    "start_time": "2022-01-18T13:04:07.333Z"
   },
   {
    "duration": 9,
    "start_time": "2022-01-18T13:04:07.346Z"
   },
   {
    "duration": 19,
    "start_time": "2022-01-18T13:04:07.357Z"
   },
   {
    "duration": 533,
    "start_time": "2022-01-18T13:04:07.378Z"
   },
   {
    "duration": 375,
    "start_time": "2022-01-18T13:04:29.106Z"
   },
   {
    "duration": 8,
    "start_time": "2022-01-18T13:07:37.175Z"
   },
   {
    "duration": 7,
    "start_time": "2022-01-18T13:08:01.032Z"
   },
   {
    "duration": 422,
    "start_time": "2022-01-18T13:09:27.650Z"
   },
   {
    "duration": 17,
    "start_time": "2022-01-18T13:09:32.357Z"
   },
   {
    "duration": 24,
    "start_time": "2022-01-18T13:12:15.174Z"
   },
   {
    "duration": 16,
    "start_time": "2022-01-18T13:14:19.442Z"
   },
   {
    "duration": 333,
    "start_time": "2022-01-18T13:14:55.924Z"
   },
   {
    "duration": 36,
    "start_time": "2022-01-18T13:17:55.302Z"
   },
   {
    "duration": 9,
    "start_time": "2022-01-18T13:19:17.161Z"
   },
   {
    "duration": 36,
    "start_time": "2022-01-18T13:19:25.288Z"
   },
   {
    "duration": 76,
    "start_time": "2022-01-18T13:20:16.353Z"
   },
   {
    "duration": 8,
    "start_time": "2022-01-18T13:21:34.640Z"
   },
   {
    "duration": 312,
    "start_time": "2022-01-18T13:22:35.605Z"
   },
   {
    "duration": 383,
    "start_time": "2022-01-18T13:22:57.641Z"
   },
   {
    "duration": 385,
    "start_time": "2022-01-18T13:23:59.367Z"
   },
   {
    "duration": 18,
    "start_time": "2022-01-18T13:24:15.432Z"
   },
   {
    "duration": 101,
    "start_time": "2022-01-18T13:25:04.186Z"
   },
   {
    "duration": 320,
    "start_time": "2022-01-18T13:25:10.158Z"
   },
   {
    "duration": 299,
    "start_time": "2022-01-18T13:25:56.164Z"
   },
   {
    "duration": 328,
    "start_time": "2022-01-18T13:27:08.890Z"
   },
   {
    "duration": 15,
    "start_time": "2022-01-18T13:28:10.906Z"
   },
   {
    "duration": 36,
    "start_time": "2022-01-18T13:38:22.186Z"
   },
   {
    "duration": 15,
    "start_time": "2022-01-18T13:39:12.014Z"
   },
   {
    "duration": 510,
    "start_time": "2022-01-18T13:39:35.509Z"
   },
   {
    "duration": 35,
    "start_time": "2022-01-18T13:40:41.950Z"
   },
   {
    "duration": 36,
    "start_time": "2022-01-18T13:41:47.897Z"
   },
   {
    "duration": 55,
    "start_time": "2022-01-18T13:42:03.177Z"
   },
   {
    "duration": 14,
    "start_time": "2022-01-18T13:42:09.032Z"
   },
   {
    "duration": 14,
    "start_time": "2022-01-18T13:42:37.405Z"
   },
   {
    "duration": 326,
    "start_time": "2022-01-18T13:42:58.093Z"
   },
   {
    "duration": 16,
    "start_time": "2022-01-18T14:44:45.885Z"
   },
   {
    "duration": 17,
    "start_time": "2022-01-18T14:45:20.112Z"
   },
   {
    "duration": 403,
    "start_time": "2022-01-18T15:11:16.981Z"
   },
   {
    "duration": 491,
    "start_time": "2022-01-18T15:11:47.152Z"
   },
   {
    "duration": 96,
    "start_time": "2022-01-18T15:11:56.545Z"
   },
   {
    "duration": 332,
    "start_time": "2022-01-18T15:11:58.586Z"
   },
   {
    "duration": 374,
    "start_time": "2022-01-18T15:12:08.217Z"
   },
   {
    "duration": 343,
    "start_time": "2022-01-18T15:12:15.410Z"
   },
   {
    "duration": 397,
    "start_time": "2022-01-18T15:12:24.946Z"
   },
   {
    "duration": 367,
    "start_time": "2022-01-18T15:12:35.987Z"
   },
   {
    "duration": 389,
    "start_time": "2022-01-18T15:12:41.324Z"
   },
   {
    "duration": 141,
    "start_time": "2022-01-18T15:15:25.316Z"
   },
   {
    "duration": 94,
    "start_time": "2022-01-18T15:15:42.530Z"
   },
   {
    "duration": 308,
    "start_time": "2022-01-18T15:16:12.151Z"
   },
   {
    "duration": 4,
    "start_time": "2022-01-18T18:08:46.617Z"
   },
   {
    "duration": 68,
    "start_time": "2022-01-18T18:08:46.627Z"
   },
   {
    "duration": 37,
    "start_time": "2022-01-18T18:08:46.698Z"
   },
   {
    "duration": 8,
    "start_time": "2022-01-18T18:08:46.738Z"
   },
   {
    "duration": 9,
    "start_time": "2022-01-18T18:08:46.749Z"
   },
   {
    "duration": 16,
    "start_time": "2022-01-18T18:08:46.760Z"
   },
   {
    "duration": 24,
    "start_time": "2022-01-18T18:08:46.779Z"
   },
   {
    "duration": 35,
    "start_time": "2022-01-18T18:08:46.806Z"
   },
   {
    "duration": 13,
    "start_time": "2022-01-18T18:08:46.846Z"
   },
   {
    "duration": 10,
    "start_time": "2022-01-18T18:08:46.861Z"
   },
   {
    "duration": 10,
    "start_time": "2022-01-18T18:08:46.874Z"
   },
   {
    "duration": 48,
    "start_time": "2022-01-18T18:08:46.886Z"
   },
   {
    "duration": 36,
    "start_time": "2022-01-18T18:08:46.938Z"
   },
   {
    "duration": 29,
    "start_time": "2022-01-18T18:08:46.977Z"
   },
   {
    "duration": 404,
    "start_time": "2022-01-18T18:08:47.009Z"
   },
   {
    "duration": 24,
    "start_time": "2022-01-18T18:08:47.415Z"
   },
   {
    "duration": 35,
    "start_time": "2022-01-18T18:08:47.442Z"
   },
   {
    "duration": 13,
    "start_time": "2022-01-18T18:08:47.480Z"
   },
   {
    "duration": 374,
    "start_time": "2022-01-18T18:08:47.496Z"
   },
   {
    "duration": 37,
    "start_time": "2022-01-18T18:08:47.873Z"
   },
   {
    "duration": 14,
    "start_time": "2022-01-18T18:08:47.933Z"
   },
   {
    "duration": 386,
    "start_time": "2022-01-18T18:08:47.950Z"
   },
   {
    "duration": 37,
    "start_time": "2022-01-18T18:08:48.338Z"
   },
   {
    "duration": 20,
    "start_time": "2022-01-18T18:08:48.378Z"
   },
   {
    "duration": 381,
    "start_time": "2022-01-18T18:08:48.400Z"
   },
   {
    "duration": 3,
    "start_time": "2022-01-18T18:08:48.783Z"
   },
   {
    "duration": 8,
    "start_time": "2022-01-18T18:28:03.970Z"
   },
   {
    "duration": 35,
    "start_time": "2022-01-18T18:28:12.661Z"
   },
   {
    "duration": 11,
    "start_time": "2022-01-18T18:28:35.345Z"
   },
   {
    "duration": 34,
    "start_time": "2022-01-18T18:30:04.221Z"
   },
   {
    "duration": 35,
    "start_time": "2022-01-18T18:30:46.002Z"
   },
   {
    "duration": 35,
    "start_time": "2022-01-18T18:31:14.647Z"
   },
   {
    "duration": 807,
    "start_time": "2022-01-18T18:40:04.182Z"
   },
   {
    "duration": 13,
    "start_time": "2022-01-18T18:40:09.430Z"
   },
   {
    "duration": 18,
    "start_time": "2022-01-18T18:40:16.868Z"
   },
   {
    "duration": 22,
    "start_time": "2022-01-18T18:40:35.168Z"
   },
   {
    "duration": 589,
    "start_time": "2022-01-18T18:57:04.843Z"
   },
   {
    "duration": 23,
    "start_time": "2022-01-18T18:58:36.704Z"
   },
   {
    "duration": 451,
    "start_time": "2022-01-18T18:58:43.765Z"
   },
   {
    "duration": 102,
    "start_time": "2022-01-18T18:58:56.427Z"
   },
   {
    "duration": 475,
    "start_time": "2022-01-18T18:59:00.570Z"
   },
   {
    "duration": 776,
    "start_time": "2022-01-18T19:00:16.101Z"
   },
   {
    "duration": 6,
    "start_time": "2022-01-18T19:01:00.141Z"
   },
   {
    "duration": 520,
    "start_time": "2022-01-18T19:01:05.436Z"
   },
   {
    "duration": 509,
    "start_time": "2022-01-18T19:01:16.382Z"
   },
   {
    "duration": 35,
    "start_time": "2022-01-18T19:15:22.482Z"
   },
   {
    "duration": 38,
    "start_time": "2022-01-18T19:17:36.431Z"
   },
   {
    "duration": 40,
    "start_time": "2022-01-18T19:17:40.419Z"
   },
   {
    "duration": 353,
    "start_time": "2022-01-18T19:22:07.338Z"
   },
   {
    "duration": 7520,
    "start_time": "2022-01-18T19:22:31.843Z"
   },
   {
    "duration": 308,
    "start_time": "2022-01-18T19:22:46.048Z"
   },
   {
    "duration": 329,
    "start_time": "2022-01-18T19:23:03.797Z"
   },
   {
    "duration": 301,
    "start_time": "2022-01-18T19:23:08.955Z"
   },
   {
    "duration": 421,
    "start_time": "2022-01-18T19:23:32.951Z"
   },
   {
    "duration": 486,
    "start_time": "2022-01-18T19:23:49.620Z"
   },
   {
    "duration": 187,
    "start_time": "2022-01-18T19:24:02.041Z"
   },
   {
    "duration": 308,
    "start_time": "2022-01-18T19:24:06.557Z"
   },
   {
    "duration": 6,
    "start_time": "2022-01-18T19:29:30.484Z"
   },
   {
    "duration": 377,
    "start_time": "2022-01-18T19:31:57.222Z"
   },
   {
    "duration": 560,
    "start_time": "2022-01-18T19:32:06.944Z"
   },
   {
    "duration": 648,
    "start_time": "2022-01-18T19:32:29.088Z"
   },
   {
    "duration": 646,
    "start_time": "2022-01-18T19:35:02.326Z"
   },
   {
    "duration": 651,
    "start_time": "2022-01-18T19:35:09.193Z"
   },
   {
    "duration": 649,
    "start_time": "2022-01-18T19:39:46.302Z"
   },
   {
    "duration": 605,
    "start_time": "2022-01-18T19:40:01.758Z"
   },
   {
    "duration": 520,
    "start_time": "2022-01-18T19:40:14.696Z"
   },
   {
    "duration": 7,
    "start_time": "2022-01-18T19:40:41.367Z"
   },
   {
    "duration": 860,
    "start_time": "2022-01-19T07:39:28.986Z"
   },
   {
    "duration": 77,
    "start_time": "2022-01-19T07:39:29.849Z"
   },
   {
    "duration": 35,
    "start_time": "2022-01-19T07:39:29.930Z"
   },
   {
    "duration": 6,
    "start_time": "2022-01-19T07:39:29.968Z"
   },
   {
    "duration": 19,
    "start_time": "2022-01-19T07:39:29.977Z"
   },
   {
    "duration": 27,
    "start_time": "2022-01-19T07:39:29.999Z"
   },
   {
    "duration": 23,
    "start_time": "2022-01-19T07:39:30.029Z"
   },
   {
    "duration": 14,
    "start_time": "2022-01-19T07:39:30.067Z"
   },
   {
    "duration": 24,
    "start_time": "2022-01-19T07:39:30.085Z"
   },
   {
    "duration": 21,
    "start_time": "2022-01-19T07:39:30.112Z"
   },
   {
    "duration": 31,
    "start_time": "2022-01-19T07:39:30.136Z"
   },
   {
    "duration": 16,
    "start_time": "2022-01-19T07:39:30.170Z"
   },
   {
    "duration": 9,
    "start_time": "2022-01-19T07:39:30.189Z"
   },
   {
    "duration": 44,
    "start_time": "2022-01-19T07:39:30.201Z"
   },
   {
    "duration": 578,
    "start_time": "2022-01-19T07:39:30.248Z"
   },
   {
    "duration": 44,
    "start_time": "2022-01-19T07:39:30.830Z"
   },
   {
    "duration": 54,
    "start_time": "2022-01-19T07:39:30.877Z"
   },
   {
    "duration": 44,
    "start_time": "2022-01-19T07:39:30.934Z"
   },
   {
    "duration": 470,
    "start_time": "2022-01-19T07:39:30.983Z"
   },
   {
    "duration": 67,
    "start_time": "2022-01-19T07:39:31.457Z"
   },
   {
    "duration": 44,
    "start_time": "2022-01-19T07:39:31.527Z"
   },
   {
    "duration": 619,
    "start_time": "2022-01-19T07:39:31.575Z"
   },
   {
    "duration": 77,
    "start_time": "2022-01-19T07:39:32.203Z"
   },
   {
    "duration": 17,
    "start_time": "2022-01-19T07:39:32.284Z"
   },
   {
    "duration": 439,
    "start_time": "2022-01-19T07:39:32.304Z"
   },
   {
    "duration": 63,
    "start_time": "2022-01-19T07:39:32.747Z"
   },
   {
    "duration": 54,
    "start_time": "2022-01-19T07:39:32.813Z"
   },
   {
    "duration": 918,
    "start_time": "2022-01-19T07:39:32.870Z"
   },
   {
    "duration": 79,
    "start_time": "2022-01-19T07:39:33.792Z"
   },
   {
    "duration": 874,
    "start_time": "2022-01-19T07:39:33.875Z"
   },
   {
    "duration": 13,
    "start_time": "2022-01-19T07:39:34.753Z"
   },
   {
    "duration": 587,
    "start_time": "2022-01-19T07:39:34.770Z"
   },
   {
    "duration": 7,
    "start_time": "2022-01-19T07:39:35.364Z"
   },
   {
    "duration": 1244,
    "start_time": "2022-01-19T07:40:10.281Z"
   },
   {
    "duration": 797,
    "start_time": "2022-01-19T07:40:32.578Z"
   },
   {
    "duration": 627,
    "start_time": "2022-01-19T07:42:30.715Z"
   },
   {
    "duration": 636,
    "start_time": "2022-01-19T07:42:40.189Z"
   },
   {
    "duration": 1265,
    "start_time": "2022-01-19T07:42:45.247Z"
   },
   {
    "duration": 1688,
    "start_time": "2022-01-19T07:53:31.198Z"
   },
   {
    "duration": 5,
    "start_time": "2022-01-19T07:53:40.202Z"
   },
   {
    "duration": 765,
    "start_time": "2022-01-19T07:53:56.602Z"
   },
   {
    "duration": 783,
    "start_time": "2022-01-19T07:54:05.892Z"
   },
   {
    "duration": 848,
    "start_time": "2022-01-19T07:54:15.963Z"
   },
   {
    "duration": 790,
    "start_time": "2022-01-19T07:54:20.594Z"
   },
   {
    "duration": 777,
    "start_time": "2022-01-19T07:54:35.319Z"
   },
   {
    "duration": 4,
    "start_time": "2022-01-19T07:55:24.431Z"
   },
   {
    "duration": 95,
    "start_time": "2022-01-19T07:55:24.437Z"
   },
   {
    "duration": 39,
    "start_time": "2022-01-19T07:55:24.535Z"
   },
   {
    "duration": 19,
    "start_time": "2022-01-19T07:55:24.577Z"
   },
   {
    "duration": 30,
    "start_time": "2022-01-19T07:55:24.599Z"
   },
   {
    "duration": 22,
    "start_time": "2022-01-19T07:55:24.632Z"
   },
   {
    "duration": 40,
    "start_time": "2022-01-19T07:55:24.664Z"
   },
   {
    "duration": 19,
    "start_time": "2022-01-19T07:55:24.707Z"
   },
   {
    "duration": 21,
    "start_time": "2022-01-19T07:55:24.729Z"
   },
   {
    "duration": 28,
    "start_time": "2022-01-19T07:55:24.753Z"
   },
   {
    "duration": 30,
    "start_time": "2022-01-19T07:55:24.785Z"
   },
   {
    "duration": 26,
    "start_time": "2022-01-19T07:55:24.818Z"
   },
   {
    "duration": 25,
    "start_time": "2022-01-19T07:55:24.847Z"
   },
   {
    "duration": 49,
    "start_time": "2022-01-19T07:55:24.875Z"
   },
   {
    "duration": 451,
    "start_time": "2022-01-19T07:55:24.927Z"
   },
   {
    "duration": 16,
    "start_time": "2022-01-19T07:55:25.380Z"
   },
   {
    "duration": 69,
    "start_time": "2022-01-19T07:55:25.398Z"
   },
   {
    "duration": 29,
    "start_time": "2022-01-19T07:55:25.469Z"
   },
   {
    "duration": 354,
    "start_time": "2022-01-19T07:55:25.503Z"
   },
   {
    "duration": 36,
    "start_time": "2022-01-19T07:55:25.864Z"
   },
   {
    "duration": 14,
    "start_time": "2022-01-19T07:55:25.903Z"
   },
   {
    "duration": 394,
    "start_time": "2022-01-19T07:55:25.920Z"
   },
   {
    "duration": 51,
    "start_time": "2022-01-19T07:55:26.316Z"
   },
   {
    "duration": 26,
    "start_time": "2022-01-19T07:55:26.370Z"
   },
   {
    "duration": 350,
    "start_time": "2022-01-19T07:55:26.399Z"
   },
   {
    "duration": 43,
    "start_time": "2022-01-19T07:55:26.751Z"
   },
   {
    "duration": 25,
    "start_time": "2022-01-19T07:55:26.796Z"
   },
   {
    "duration": 818,
    "start_time": "2022-01-19T07:55:26.824Z"
   },
   {
    "duration": 44,
    "start_time": "2022-01-19T07:55:27.646Z"
   },
   {
    "duration": 681,
    "start_time": "2022-01-19T07:55:27.693Z"
   },
   {
    "duration": 6,
    "start_time": "2022-01-19T07:55:28.377Z"
   },
   {
    "duration": 509,
    "start_time": "2022-01-19T07:55:28.386Z"
   },
   {
    "duration": 7,
    "start_time": "2022-01-19T07:55:28.897Z"
   },
   {
    "duration": 771,
    "start_time": "2022-01-19T08:51:51.831Z"
   },
   {
    "duration": 803,
    "start_time": "2022-01-19T08:52:02.245Z"
   },
   {
    "duration": 7,
    "start_time": "2022-01-19T09:04:02.060Z"
   },
   {
    "duration": 381,
    "start_time": "2022-01-19T09:04:10.306Z"
   },
   {
    "duration": 304,
    "start_time": "2022-01-19T09:04:13.493Z"
   },
   {
    "duration": 41,
    "start_time": "2022-01-19T09:04:16.772Z"
   },
   {
    "duration": 11,
    "start_time": "2022-01-19T09:04:52.116Z"
   },
   {
    "duration": 39,
    "start_time": "2022-01-19T09:05:13.378Z"
   },
   {
    "duration": 5,
    "start_time": "2022-01-19T09:05:35.202Z"
   },
   {
    "duration": 81,
    "start_time": "2022-01-19T09:05:35.209Z"
   },
   {
    "duration": 14,
    "start_time": "2022-01-19T09:05:35.293Z"
   },
   {
    "duration": 8,
    "start_time": "2022-01-19T09:05:35.309Z"
   },
   {
    "duration": 50,
    "start_time": "2022-01-19T09:05:35.319Z"
   },
   {
    "duration": 14,
    "start_time": "2022-01-19T09:05:35.372Z"
   },
   {
    "duration": 26,
    "start_time": "2022-01-19T09:05:35.390Z"
   },
   {
    "duration": 51,
    "start_time": "2022-01-19T09:05:35.418Z"
   },
   {
    "duration": 17,
    "start_time": "2022-01-19T09:05:35.471Z"
   },
   {
    "duration": 10,
    "start_time": "2022-01-19T09:05:35.491Z"
   },
   {
    "duration": 11,
    "start_time": "2022-01-19T09:05:35.504Z"
   },
   {
    "duration": 52,
    "start_time": "2022-01-19T09:05:35.517Z"
   },
   {
    "duration": 16,
    "start_time": "2022-01-19T09:05:35.571Z"
   },
   {
    "duration": 24,
    "start_time": "2022-01-19T09:05:35.589Z"
   },
   {
    "duration": 440,
    "start_time": "2022-01-19T09:05:35.615Z"
   },
   {
    "duration": 18,
    "start_time": "2022-01-19T09:05:36.065Z"
   },
   {
    "duration": 36,
    "start_time": "2022-01-19T09:05:36.086Z"
   },
   {
    "duration": 43,
    "start_time": "2022-01-19T09:05:36.125Z"
   },
   {
    "duration": 340,
    "start_time": "2022-01-19T09:05:36.173Z"
   },
   {
    "duration": 49,
    "start_time": "2022-01-19T09:05:36.516Z"
   },
   {
    "duration": 14,
    "start_time": "2022-01-19T09:05:36.567Z"
   },
   {
    "duration": 491,
    "start_time": "2022-01-19T09:05:36.584Z"
   },
   {
    "duration": 35,
    "start_time": "2022-01-19T09:05:37.078Z"
   },
   {
    "duration": 15,
    "start_time": "2022-01-19T09:05:37.115Z"
   },
   {
    "duration": 386,
    "start_time": "2022-01-19T09:05:37.133Z"
   },
   {
    "duration": 47,
    "start_time": "2022-01-19T09:05:37.522Z"
   },
   {
    "duration": 24,
    "start_time": "2022-01-19T09:05:37.572Z"
   },
   {
    "duration": 863,
    "start_time": "2022-01-19T09:05:37.598Z"
   },
   {
    "duration": 35,
    "start_time": "2022-01-19T09:05:38.466Z"
   },
   {
    "duration": 688,
    "start_time": "2022-01-19T09:05:38.504Z"
   },
   {
    "duration": 7,
    "start_time": "2022-01-19T09:05:39.194Z"
   },
   {
    "duration": 535,
    "start_time": "2022-01-19T09:05:39.203Z"
   },
   {
    "duration": 6,
    "start_time": "2022-01-19T09:05:39.740Z"
   },
   {
    "duration": 73,
    "start_time": "2022-01-19T09:05:39.748Z"
   },
   {
    "duration": 11,
    "start_time": "2022-01-19T09:06:36.263Z"
   },
   {
    "duration": 10,
    "start_time": "2022-01-19T09:07:35.961Z"
   },
   {
    "duration": 11,
    "start_time": "2022-01-19T09:07:45.867Z"
   },
   {
    "duration": 17,
    "start_time": "2022-01-19T09:08:02.468Z"
   },
   {
    "duration": 17,
    "start_time": "2022-01-19T09:09:20.601Z"
   },
   {
    "duration": 17,
    "start_time": "2022-01-19T09:21:59.696Z"
   },
   {
    "duration": 28,
    "start_time": "2022-01-19T09:22:11.764Z"
   },
   {
    "duration": 31,
    "start_time": "2022-01-19T09:22:48.872Z"
   },
   {
    "duration": 33,
    "start_time": "2022-01-19T09:23:40.212Z"
   },
   {
    "duration": 83,
    "start_time": "2022-01-19T09:23:54.277Z"
   },
   {
    "duration": 34,
    "start_time": "2022-01-19T09:24:05.024Z"
   },
   {
    "duration": 285,
    "start_time": "2022-01-19T09:24:21.706Z"
   },
   {
    "duration": 292,
    "start_time": "2022-01-19T09:24:57.358Z"
   },
   {
    "duration": 355,
    "start_time": "2022-01-19T09:25:07.579Z"
   },
   {
    "duration": 382,
    "start_time": "2022-01-19T09:25:19.951Z"
   },
   {
    "duration": 86,
    "start_time": "2022-01-19T09:25:26.413Z"
   },
   {
    "duration": 473,
    "start_time": "2022-01-19T09:25:30.306Z"
   },
   {
    "duration": 556,
    "start_time": "2022-01-19T09:25:37.284Z"
   },
   {
    "duration": 670,
    "start_time": "2022-01-19T09:25:41.466Z"
   },
   {
    "duration": 1017,
    "start_time": "2022-01-19T09:25:47.963Z"
   },
   {
    "duration": 656,
    "start_time": "2022-01-19T09:25:59.689Z"
   },
   {
    "duration": 14,
    "start_time": "2022-01-19T09:38:55.467Z"
   },
   {
    "duration": 257,
    "start_time": "2022-01-19T09:39:28.350Z"
   },
   {
    "duration": 22,
    "start_time": "2022-01-19T09:39:32.079Z"
   },
   {
    "duration": 28,
    "start_time": "2022-01-19T09:40:24.788Z"
   },
   {
    "duration": 21,
    "start_time": "2022-01-19T09:41:19.588Z"
   },
   {
    "duration": 29,
    "start_time": "2022-01-19T09:46:10.363Z"
   },
   {
    "duration": 20,
    "start_time": "2022-01-19T09:46:44.726Z"
   },
   {
    "duration": 24,
    "start_time": "2022-01-19T09:48:00.036Z"
   },
   {
    "duration": 23,
    "start_time": "2022-01-19T09:48:08.731Z"
   },
   {
    "duration": 24,
    "start_time": "2022-01-19T09:48:40.843Z"
   },
   {
    "duration": 24,
    "start_time": "2022-01-19T09:49:27.965Z"
   },
   {
    "duration": 25,
    "start_time": "2022-01-19T09:50:37.515Z"
   },
   {
    "duration": 24,
    "start_time": "2022-01-19T09:50:47.081Z"
   },
   {
    "duration": 24,
    "start_time": "2022-01-19T09:50:52.788Z"
   },
   {
    "duration": 24,
    "start_time": "2022-01-19T09:50:56.703Z"
   },
   {
    "duration": 22,
    "start_time": "2022-01-19T09:51:21.182Z"
   },
   {
    "duration": 26,
    "start_time": "2022-01-19T09:51:50.751Z"
   },
   {
    "duration": 25,
    "start_time": "2022-01-19T09:52:09.875Z"
   },
   {
    "duration": 27,
    "start_time": "2022-01-19T09:52:31.385Z"
   },
   {
    "duration": 486,
    "start_time": "2022-01-19T09:57:06.719Z"
   },
   {
    "duration": 559,
    "start_time": "2022-01-19T09:57:39.906Z"
   },
   {
    "duration": 476,
    "start_time": "2022-01-19T09:57:48.806Z"
   },
   {
    "duration": 1049,
    "start_time": "2022-01-19T09:58:46.695Z"
   },
   {
    "duration": 88,
    "start_time": "2022-01-19T10:00:13.934Z"
   },
   {
    "duration": 94,
    "start_time": "2022-01-19T10:01:18.371Z"
   },
   {
    "duration": 87,
    "start_time": "2022-01-19T10:01:22.619Z"
   },
   {
    "duration": 4,
    "start_time": "2022-01-19T10:01:35.821Z"
   },
   {
    "duration": 172,
    "start_time": "2022-01-19T10:01:46.205Z"
   },
   {
    "duration": 82,
    "start_time": "2022-01-19T10:03:20.649Z"
   },
   {
    "duration": 4,
    "start_time": "2022-01-19T10:03:27.706Z"
   },
   {
    "duration": 4,
    "start_time": "2022-01-19T10:03:30.936Z"
   },
   {
    "duration": 120,
    "start_time": "2022-01-19T10:03:30.944Z"
   },
   {
    "duration": 14,
    "start_time": "2022-01-19T10:03:31.068Z"
   },
   {
    "duration": 19,
    "start_time": "2022-01-19T10:03:31.085Z"
   },
   {
    "duration": 34,
    "start_time": "2022-01-19T10:03:31.106Z"
   },
   {
    "duration": 27,
    "start_time": "2022-01-19T10:03:31.143Z"
   },
   {
    "duration": 48,
    "start_time": "2022-01-19T10:03:31.175Z"
   },
   {
    "duration": 17,
    "start_time": "2022-01-19T10:03:31.227Z"
   },
   {
    "duration": 34,
    "start_time": "2022-01-19T10:03:31.246Z"
   },
   {
    "duration": 18,
    "start_time": "2022-01-19T10:03:31.283Z"
   },
   {
    "duration": 32,
    "start_time": "2022-01-19T10:03:31.303Z"
   },
   {
    "duration": 24,
    "start_time": "2022-01-19T10:03:31.337Z"
   },
   {
    "duration": 22,
    "start_time": "2022-01-19T10:03:31.364Z"
   },
   {
    "duration": 38,
    "start_time": "2022-01-19T10:03:31.390Z"
   },
   {
    "duration": 399,
    "start_time": "2022-01-19T10:03:31.430Z"
   },
   {
    "duration": 34,
    "start_time": "2022-01-19T10:03:31.831Z"
   },
   {
    "duration": 37,
    "start_time": "2022-01-19T10:03:31.867Z"
   },
   {
    "duration": 15,
    "start_time": "2022-01-19T10:03:31.906Z"
   },
   {
    "duration": 383,
    "start_time": "2022-01-19T10:03:31.927Z"
   },
   {
    "duration": 35,
    "start_time": "2022-01-19T10:03:32.313Z"
   },
   {
    "duration": 15,
    "start_time": "2022-01-19T10:03:32.365Z"
   },
   {
    "duration": 506,
    "start_time": "2022-01-19T10:03:32.383Z"
   },
   {
    "duration": 37,
    "start_time": "2022-01-19T10:03:32.893Z"
   },
   {
    "duration": 45,
    "start_time": "2022-01-19T10:03:32.933Z"
   },
   {
    "duration": 351,
    "start_time": "2022-01-19T10:03:32.981Z"
   },
   {
    "duration": 46,
    "start_time": "2022-01-19T10:03:33.334Z"
   },
   {
    "duration": 22,
    "start_time": "2022-01-19T10:03:33.382Z"
   },
   {
    "duration": 780,
    "start_time": "2022-01-19T10:03:33.406Z"
   },
   {
    "duration": 33,
    "start_time": "2022-01-19T10:03:34.189Z"
   },
   {
    "duration": 648,
    "start_time": "2022-01-19T10:03:34.225Z"
   },
   {
    "duration": 6,
    "start_time": "2022-01-19T10:03:34.876Z"
   },
   {
    "duration": 514,
    "start_time": "2022-01-19T10:03:34.885Z"
   },
   {
    "duration": 6,
    "start_time": "2022-01-19T10:03:35.401Z"
   },
   {
    "duration": 51,
    "start_time": "2022-01-19T10:03:35.409Z"
   },
   {
    "duration": 27,
    "start_time": "2022-01-19T10:03:35.462Z"
   },
   {
    "duration": 68,
    "start_time": "2022-01-19T10:03:35.492Z"
   },
   {
    "duration": 90,
    "start_time": "2022-01-19T10:03:35.563Z"
   },
   {
    "duration": 111,
    "start_time": "2022-01-19T10:03:35.545Z"
   },
   {
    "duration": 79,
    "start_time": "2022-01-19T10:03:51.541Z"
   },
   {
    "duration": 92,
    "start_time": "2022-01-19T10:03:58.847Z"
   },
   {
    "duration": 129,
    "start_time": "2022-01-19T10:21:10.433Z"
   },
   {
    "duration": 266,
    "start_time": "2022-01-19T10:25:18.311Z"
   },
   {
    "duration": 24,
    "start_time": "2022-01-19T10:25:35.272Z"
   },
   {
    "duration": 26,
    "start_time": "2022-01-19T10:26:25.292Z"
   },
   {
    "duration": 7,
    "start_time": "2022-01-19T10:26:32.594Z"
   },
   {
    "duration": 5,
    "start_time": "2022-01-19T10:26:36.056Z"
   },
   {
    "duration": 4,
    "start_time": "2022-01-19T10:26:46.471Z"
   },
   {
    "duration": 113,
    "start_time": "2022-01-19T10:26:46.478Z"
   },
   {
    "duration": 13,
    "start_time": "2022-01-19T10:26:46.594Z"
   },
   {
    "duration": 28,
    "start_time": "2022-01-19T10:26:46.610Z"
   },
   {
    "duration": 56,
    "start_time": "2022-01-19T10:26:46.641Z"
   },
   {
    "duration": 34,
    "start_time": "2022-01-19T10:26:46.699Z"
   },
   {
    "duration": 28,
    "start_time": "2022-01-19T10:26:46.735Z"
   },
   {
    "duration": 24,
    "start_time": "2022-01-19T10:26:46.767Z"
   },
   {
    "duration": 37,
    "start_time": "2022-01-19T10:26:46.794Z"
   },
   {
    "duration": 24,
    "start_time": "2022-01-19T10:26:46.835Z"
   },
   {
    "duration": 39,
    "start_time": "2022-01-19T10:26:46.861Z"
   },
   {
    "duration": 36,
    "start_time": "2022-01-19T10:26:46.903Z"
   },
   {
    "duration": 35,
    "start_time": "2022-01-19T10:26:46.941Z"
   },
   {
    "duration": 54,
    "start_time": "2022-01-19T10:26:46.978Z"
   },
   {
    "duration": 416,
    "start_time": "2022-01-19T10:26:47.034Z"
   },
   {
    "duration": 24,
    "start_time": "2022-01-19T10:26:47.452Z"
   },
   {
    "duration": 72,
    "start_time": "2022-01-19T10:26:47.478Z"
   },
   {
    "duration": 14,
    "start_time": "2022-01-19T10:26:47.552Z"
   },
   {
    "duration": 349,
    "start_time": "2022-01-19T10:26:47.569Z"
   },
   {
    "duration": 47,
    "start_time": "2022-01-19T10:26:47.920Z"
   },
   {
    "duration": 50,
    "start_time": "2022-01-19T10:26:47.969Z"
   },
   {
    "duration": 385,
    "start_time": "2022-01-19T10:26:48.022Z"
   },
   {
    "duration": 36,
    "start_time": "2022-01-19T10:26:48.412Z"
   },
   {
    "duration": 43,
    "start_time": "2022-01-19T10:26:48.451Z"
   },
   {
    "duration": 361,
    "start_time": "2022-01-19T10:26:48.497Z"
   },
   {
    "duration": 38,
    "start_time": "2022-01-19T10:26:48.861Z"
   },
   {
    "duration": 23,
    "start_time": "2022-01-19T10:26:48.902Z"
   },
   {
    "duration": 806,
    "start_time": "2022-01-19T10:26:48.927Z"
   },
   {
    "duration": 48,
    "start_time": "2022-01-19T10:26:49.736Z"
   },
   {
    "duration": 623,
    "start_time": "2022-01-19T10:26:49.787Z"
   },
   {
    "duration": 6,
    "start_time": "2022-01-19T10:26:50.413Z"
   },
   {
    "duration": 536,
    "start_time": "2022-01-19T10:26:50.421Z"
   },
   {
    "duration": 7,
    "start_time": "2022-01-19T10:26:50.960Z"
   },
   {
    "duration": 40,
    "start_time": "2022-01-19T10:26:50.969Z"
   },
   {
    "duration": 49,
    "start_time": "2022-01-19T10:26:51.011Z"
   },
   {
    "duration": 46,
    "start_time": "2022-01-19T10:26:51.062Z"
   },
   {
    "duration": 33,
    "start_time": "2022-01-19T10:26:51.111Z"
   },
   {
    "duration": 50,
    "start_time": "2022-01-19T10:26:51.146Z"
   },
   {
    "duration": 52,
    "start_time": "2022-01-19T10:26:51.198Z"
   },
   {
    "duration": 21,
    "start_time": "2022-01-19T10:26:58.453Z"
   },
   {
    "duration": 13,
    "start_time": "2022-01-19T10:27:08.993Z"
   },
   {
    "duration": 150,
    "start_time": "2022-01-19T10:27:38.793Z"
   },
   {
    "duration": 14,
    "start_time": "2022-01-19T10:27:47.199Z"
   },
   {
    "duration": 5,
    "start_time": "2022-01-19T10:28:18.351Z"
   },
   {
    "duration": 70,
    "start_time": "2022-01-19T10:28:18.832Z"
   },
   {
    "duration": 15,
    "start_time": "2022-01-19T10:28:19.068Z"
   },
   {
    "duration": 6,
    "start_time": "2022-01-19T10:28:20.459Z"
   },
   {
    "duration": 10,
    "start_time": "2022-01-19T10:28:21.054Z"
   },
   {
    "duration": 14,
    "start_time": "2022-01-19T10:28:21.338Z"
   },
   {
    "duration": 15,
    "start_time": "2022-01-19T10:28:21.634Z"
   },
   {
    "duration": 11,
    "start_time": "2022-01-19T10:28:22.809Z"
   },
   {
    "duration": 13,
    "start_time": "2022-01-19T10:28:23.398Z"
   },
   {
    "duration": 12,
    "start_time": "2022-01-19T10:28:23.953Z"
   },
   {
    "duration": 11,
    "start_time": "2022-01-19T10:28:24.233Z"
   },
   {
    "duration": 7,
    "start_time": "2022-01-19T10:28:25.391Z"
   },
   {
    "duration": 8,
    "start_time": "2022-01-19T10:28:25.684Z"
   },
   {
    "duration": 17,
    "start_time": "2022-01-19T10:28:26.542Z"
   },
   {
    "duration": 376,
    "start_time": "2022-01-19T10:28:26.845Z"
   },
   {
    "duration": 17,
    "start_time": "2022-01-19T10:28:27.810Z"
   },
   {
    "duration": 54,
    "start_time": "2022-01-19T10:28:28.789Z"
   },
   {
    "duration": 16,
    "start_time": "2022-01-19T10:28:29.095Z"
   },
   {
    "duration": 492,
    "start_time": "2022-01-19T10:28:29.417Z"
   },
   {
    "duration": 52,
    "start_time": "2022-01-19T10:28:30.335Z"
   },
   {
    "duration": 16,
    "start_time": "2022-01-19T10:28:30.644Z"
   },
   {
    "duration": 337,
    "start_time": "2022-01-19T10:28:31.574Z"
   },
   {
    "duration": 33,
    "start_time": "2022-01-19T10:28:32.518Z"
   },
   {
    "duration": 14,
    "start_time": "2022-01-19T10:28:32.833Z"
   },
   {
    "duration": 340,
    "start_time": "2022-01-19T10:28:33.165Z"
   },
   {
    "duration": 34,
    "start_time": "2022-01-19T10:28:34.761Z"
   },
   {
    "duration": 23,
    "start_time": "2022-01-19T10:28:35.087Z"
   },
   {
    "duration": 761,
    "start_time": "2022-01-19T10:28:36.352Z"
   },
   {
    "duration": 37,
    "start_time": "2022-01-19T10:28:38.025Z"
   },
   {
    "duration": 599,
    "start_time": "2022-01-19T10:28:38.358Z"
   },
   {
    "duration": 7,
    "start_time": "2022-01-19T10:28:38.964Z"
   },
   {
    "duration": 530,
    "start_time": "2022-01-19T10:28:39.709Z"
   },
   {
    "duration": 5,
    "start_time": "2022-01-19T10:28:40.242Z"
   },
   {
    "duration": 11,
    "start_time": "2022-01-19T10:28:41.714Z"
   },
   {
    "duration": 12,
    "start_time": "2022-01-19T10:28:42.033Z"
   },
   {
    "duration": 30,
    "start_time": "2022-01-19T10:28:43.384Z"
   },
   {
    "duration": 22,
    "start_time": "2022-01-19T10:28:44.783Z"
   },
   {
    "duration": 15,
    "start_time": "2022-01-19T10:28:45.486Z"
   },
   {
    "duration": 19,
    "start_time": "2022-01-19T10:28:46.263Z"
   },
   {
    "duration": 21,
    "start_time": "2022-01-19T10:29:23.660Z"
   },
   {
    "duration": 264,
    "start_time": "2022-01-19T10:29:45.984Z"
   },
   {
    "duration": 197,
    "start_time": "2022-01-19T10:29:56.394Z"
   },
   {
    "duration": 14,
    "start_time": "2022-01-19T10:30:09.168Z"
   },
   {
    "duration": 346,
    "start_time": "2022-01-19T10:30:47.017Z"
   },
   {
    "duration": 281,
    "start_time": "2022-01-19T10:30:50.094Z"
   },
   {
    "duration": 495,
    "start_time": "2022-01-19T10:30:57.559Z"
   },
   {
    "duration": 270,
    "start_time": "2022-01-19T10:31:07.519Z"
   },
   {
    "duration": 363,
    "start_time": "2022-01-19T10:31:36.733Z"
   },
   {
    "duration": 121,
    "start_time": "2022-01-19T10:31:59.907Z"
   },
   {
    "duration": 266,
    "start_time": "2022-01-19T10:32:05.666Z"
   },
   {
    "duration": 211,
    "start_time": "2022-01-19T10:32:38.888Z"
   },
   {
    "duration": 14,
    "start_time": "2022-01-19T10:33:58.962Z"
   },
   {
    "duration": 219,
    "start_time": "2022-01-19T10:37:12.017Z"
   },
   {
    "duration": 22,
    "start_time": "2022-01-19T10:42:07.639Z"
   },
   {
    "duration": 19,
    "start_time": "2022-01-19T10:42:21.685Z"
   },
   {
    "duration": 22,
    "start_time": "2022-01-19T10:45:08.711Z"
   },
   {
    "duration": 22,
    "start_time": "2022-01-19T10:48:07.738Z"
   },
   {
    "duration": 22,
    "start_time": "2022-01-19T10:48:40.549Z"
   },
   {
    "duration": 103,
    "start_time": "2022-01-19T10:48:59.730Z"
   },
   {
    "duration": 84,
    "start_time": "2022-01-19T10:49:02.418Z"
   },
   {
    "duration": 23,
    "start_time": "2022-01-19T10:49:08.685Z"
   },
   {
    "duration": 216,
    "start_time": "2022-01-19T10:49:56.321Z"
   },
   {
    "duration": 22,
    "start_time": "2022-01-19T10:51:57.485Z"
   },
   {
    "duration": 23,
    "start_time": "2022-01-19T10:52:26.220Z"
   },
   {
    "duration": 217,
    "start_time": "2022-01-19T10:53:03.048Z"
   },
   {
    "duration": 438,
    "start_time": "2022-01-19T11:02:16.013Z"
   },
   {
    "duration": 21,
    "start_time": "2022-01-19T11:02:18.908Z"
   },
   {
    "duration": 20,
    "start_time": "2022-01-19T11:04:57.927Z"
   },
   {
    "duration": 20,
    "start_time": "2022-01-19T11:11:05.619Z"
   },
   {
    "duration": 24,
    "start_time": "2022-01-19T11:11:55.562Z"
   },
   {
    "duration": 22,
    "start_time": "2022-01-19T11:12:23.767Z"
   },
   {
    "duration": 21,
    "start_time": "2022-01-19T11:12:34.290Z"
   },
   {
    "duration": 21,
    "start_time": "2022-01-19T11:13:16.110Z"
   },
   {
    "duration": 31,
    "start_time": "2022-01-19T11:13:47.037Z"
   },
   {
    "duration": 269,
    "start_time": "2022-01-19T11:27:31.412Z"
   },
   {
    "duration": 13,
    "start_time": "2022-01-19T11:31:26.801Z"
   },
   {
    "duration": 19,
    "start_time": "2022-01-19T11:31:36.716Z"
   },
   {
    "duration": 768,
    "start_time": "2022-01-19T11:32:13.701Z"
   },
   {
    "duration": 19,
    "start_time": "2022-01-19T11:34:03.688Z"
   },
   {
    "duration": 20,
    "start_time": "2022-01-19T11:34:32.746Z"
   },
   {
    "duration": 19,
    "start_time": "2022-01-19T11:35:31.515Z"
   },
   {
    "duration": 21,
    "start_time": "2022-01-19T11:38:26.735Z"
   },
   {
    "duration": 20,
    "start_time": "2022-01-19T11:38:57.926Z"
   },
   {
    "duration": 20,
    "start_time": "2022-01-19T11:39:15.282Z"
   },
   {
    "duration": 271,
    "start_time": "2022-01-19T11:43:18.636Z"
   },
   {
    "duration": 613,
    "start_time": "2022-01-19T11:44:04.426Z"
   },
   {
    "duration": 415,
    "start_time": "2022-01-19T11:44:10.150Z"
   },
   {
    "duration": 385,
    "start_time": "2022-01-19T11:44:40.698Z"
   },
   {
    "duration": 439,
    "start_time": "2022-01-19T11:45:30.596Z"
   },
   {
    "duration": 387,
    "start_time": "2022-01-19T11:45:51.306Z"
   },
   {
    "duration": 23,
    "start_time": "2022-01-19T11:46:17.791Z"
   },
   {
    "duration": 423,
    "start_time": "2022-01-19T11:46:24.648Z"
   },
   {
    "duration": 630,
    "start_time": "2022-01-19T11:47:01.791Z"
   },
   {
    "duration": 618,
    "start_time": "2022-01-19T11:47:06.567Z"
   },
   {
    "duration": 402,
    "start_time": "2022-01-19T11:47:11.748Z"
   },
   {
    "duration": 259,
    "start_time": "2022-01-19T11:47:29.636Z"
   },
   {
    "duration": 300,
    "start_time": "2022-01-19T11:47:36.194Z"
   },
   {
    "duration": 6479,
    "start_time": "2022-01-19T11:48:23.980Z"
   },
   {
    "duration": 294,
    "start_time": "2022-01-19T11:48:42.829Z"
   },
   {
    "duration": 323,
    "start_time": "2022-01-19T11:49:35.231Z"
   },
   {
    "duration": 21,
    "start_time": "2022-01-19T11:50:37.606Z"
   },
   {
    "duration": 394,
    "start_time": "2022-01-19T11:50:43.007Z"
   },
   {
    "duration": 394,
    "start_time": "2022-01-19T11:50:52.240Z"
   },
   {
    "duration": 22,
    "start_time": "2022-01-19T11:51:07.120Z"
   },
   {
    "duration": 501,
    "start_time": "2022-01-19T11:51:16.398Z"
   },
   {
    "duration": 621,
    "start_time": "2022-01-19T11:56:31.894Z"
   },
   {
    "duration": 619,
    "start_time": "2022-01-19T11:56:44.445Z"
   },
   {
    "duration": 658,
    "start_time": "2022-01-19T11:57:09.652Z"
   },
   {
    "duration": 651,
    "start_time": "2022-01-19T12:01:13.162Z"
   },
   {
    "duration": 654,
    "start_time": "2022-01-19T12:01:33.360Z"
   },
   {
    "duration": 840,
    "start_time": "2022-01-19T12:02:05.854Z"
   },
   {
    "duration": 107,
    "start_time": "2022-01-19T12:03:01.146Z"
   },
   {
    "duration": 87,
    "start_time": "2022-01-19T12:03:12.234Z"
   },
   {
    "duration": 314,
    "start_time": "2022-01-19T12:03:17.057Z"
   },
   {
    "duration": 326,
    "start_time": "2022-01-19T12:05:37.664Z"
   },
   {
    "duration": 328,
    "start_time": "2022-01-19T12:05:52.732Z"
   },
   {
    "duration": 328,
    "start_time": "2022-01-19T12:06:49.909Z"
   },
   {
    "duration": 327,
    "start_time": "2022-01-19T12:07:01.735Z"
   },
   {
    "duration": 396,
    "start_time": "2022-01-19T12:07:11.968Z"
   },
   {
    "duration": 321,
    "start_time": "2022-01-19T12:07:20.881Z"
   },
   {
    "duration": 298,
    "start_time": "2022-01-19T12:07:26.686Z"
   },
   {
    "duration": 302,
    "start_time": "2022-01-19T12:07:33.529Z"
   },
   {
    "duration": 8,
    "start_time": "2022-01-19T13:58:41.848Z"
   },
   {
    "duration": 7,
    "start_time": "2022-01-19T13:59:43.770Z"
   },
   {
    "duration": 9,
    "start_time": "2022-01-19T14:00:13.938Z"
   },
   {
    "duration": 9,
    "start_time": "2022-01-19T14:01:38.661Z"
   },
   {
    "duration": 234,
    "start_time": "2022-01-19T14:02:34.138Z"
   },
   {
    "duration": 427,
    "start_time": "2022-01-19T14:02:58.354Z"
   },
   {
    "duration": 7,
    "start_time": "2022-01-19T14:03:02.422Z"
   },
   {
    "duration": 9,
    "start_time": "2022-01-19T14:04:23.232Z"
   },
   {
    "duration": 38,
    "start_time": "2022-01-19T14:04:26.348Z"
   },
   {
    "duration": 11,
    "start_time": "2022-01-19T14:04:36.842Z"
   },
   {
    "duration": 37,
    "start_time": "2022-01-19T14:04:44.672Z"
   },
   {
    "duration": 12,
    "start_time": "2022-01-19T14:04:53.108Z"
   },
   {
    "duration": 10,
    "start_time": "2022-01-19T14:04:55.775Z"
   },
   {
    "duration": 7,
    "start_time": "2022-01-19T14:15:32.771Z"
   },
   {
    "duration": 35,
    "start_time": "2022-01-19T14:15:39.255Z"
   },
   {
    "duration": 8,
    "start_time": "2022-01-19T14:16:11.443Z"
   },
   {
    "duration": 9,
    "start_time": "2022-01-19T14:16:49.060Z"
   },
   {
    "duration": 8,
    "start_time": "2022-01-19T14:18:34.662Z"
   },
   {
    "duration": 307,
    "start_time": "2022-01-19T14:19:01.868Z"
   },
   {
    "duration": 6,
    "start_time": "2022-01-19T14:19:12.992Z"
   },
   {
    "duration": 82,
    "start_time": "2022-01-19T14:28:11.065Z"
   },
   {
    "duration": 7,
    "start_time": "2022-01-19T14:28:19.010Z"
   },
   {
    "duration": 43,
    "start_time": "2022-01-19T14:29:49.743Z"
   },
   {
    "duration": 8,
    "start_time": "2022-01-19T14:29:54.722Z"
   },
   {
    "duration": 257,
    "start_time": "2022-01-19T14:34:49.891Z"
   },
   {
    "duration": 15,
    "start_time": "2022-01-19T14:35:04.886Z"
   },
   {
    "duration": 12,
    "start_time": "2022-01-19T14:35:07.553Z"
   },
   {
    "duration": 5,
    "start_time": "2022-01-19T14:35:18.025Z"
   },
   {
    "duration": 85,
    "start_time": "2022-01-19T14:35:18.034Z"
   },
   {
    "duration": 14,
    "start_time": "2022-01-19T14:35:18.122Z"
   },
   {
    "duration": 6,
    "start_time": "2022-01-19T14:35:18.165Z"
   },
   {
    "duration": 26,
    "start_time": "2022-01-19T14:35:18.173Z"
   },
   {
    "duration": 58,
    "start_time": "2022-01-19T14:35:18.201Z"
   },
   {
    "duration": 22,
    "start_time": "2022-01-19T14:35:18.263Z"
   },
   {
    "duration": 33,
    "start_time": "2022-01-19T14:35:18.288Z"
   },
   {
    "duration": 19,
    "start_time": "2022-01-19T14:35:18.324Z"
   },
   {
    "duration": 18,
    "start_time": "2022-01-19T14:35:18.346Z"
   },
   {
    "duration": 29,
    "start_time": "2022-01-19T14:35:18.367Z"
   },
   {
    "duration": 37,
    "start_time": "2022-01-19T14:35:18.398Z"
   },
   {
    "duration": 51,
    "start_time": "2022-01-19T14:35:18.438Z"
   },
   {
    "duration": 45,
    "start_time": "2022-01-19T14:35:18.491Z"
   },
   {
    "duration": 427,
    "start_time": "2022-01-19T14:35:18.539Z"
   },
   {
    "duration": 18,
    "start_time": "2022-01-19T14:35:18.968Z"
   },
   {
    "duration": 34,
    "start_time": "2022-01-19T14:35:18.988Z"
   },
   {
    "duration": 44,
    "start_time": "2022-01-19T14:35:19.025Z"
   },
   {
    "duration": 358,
    "start_time": "2022-01-19T14:35:19.075Z"
   },
   {
    "duration": 47,
    "start_time": "2022-01-19T14:35:19.437Z"
   },
   {
    "duration": 25,
    "start_time": "2022-01-19T14:35:19.486Z"
   },
   {
    "duration": 380,
    "start_time": "2022-01-19T14:35:19.513Z"
   },
   {
    "duration": 37,
    "start_time": "2022-01-19T14:35:19.895Z"
   },
   {
    "duration": 39,
    "start_time": "2022-01-19T14:35:19.934Z"
   },
   {
    "duration": 373,
    "start_time": "2022-01-19T14:35:19.975Z"
   },
   {
    "duration": 39,
    "start_time": "2022-01-19T14:35:20.350Z"
   },
   {
    "duration": 21,
    "start_time": "2022-01-19T14:35:20.392Z"
   },
   {
    "duration": 787,
    "start_time": "2022-01-19T14:35:20.416Z"
   },
   {
    "duration": 35,
    "start_time": "2022-01-19T14:35:21.206Z"
   },
   {
    "duration": 642,
    "start_time": "2022-01-19T14:35:21.244Z"
   },
   {
    "duration": 6,
    "start_time": "2022-01-19T14:35:21.889Z"
   },
   {
    "duration": 538,
    "start_time": "2022-01-19T14:35:21.898Z"
   },
   {
    "duration": 7,
    "start_time": "2022-01-19T14:35:22.439Z"
   },
   {
    "duration": 12,
    "start_time": "2022-01-19T14:35:22.464Z"
   },
   {
    "duration": 31,
    "start_time": "2022-01-19T14:35:22.479Z"
   },
   {
    "duration": 63,
    "start_time": "2022-01-19T14:35:22.513Z"
   },
   {
    "duration": 20,
    "start_time": "2022-01-19T14:35:22.579Z"
   },
   {
    "duration": 240,
    "start_time": "2022-01-19T14:35:22.601Z"
   },
   {
    "duration": 30,
    "start_time": "2022-01-19T14:35:22.844Z"
   },
   {
    "duration": 237,
    "start_time": "2022-01-19T14:35:22.876Z"
   },
   {
    "duration": 22,
    "start_time": "2022-01-19T14:35:23.115Z"
   },
   {
    "duration": 241,
    "start_time": "2022-01-19T14:35:23.140Z"
   },
   {
    "duration": 21,
    "start_time": "2022-01-19T14:35:23.384Z"
   },
   {
    "duration": 57,
    "start_time": "2022-01-19T14:35:23.408Z"
   },
   {
    "duration": 45,
    "start_time": "2022-01-19T14:35:23.468Z"
   },
   {
    "duration": 312,
    "start_time": "2022-01-19T14:35:23.516Z"
   },
   {
    "duration": 316,
    "start_time": "2022-01-19T14:35:23.830Z"
   },
   {
    "duration": 322,
    "start_time": "2022-01-19T14:35:24.149Z"
   },
   {
    "duration": 10,
    "start_time": "2022-01-19T14:35:24.474Z"
   },
   {
    "duration": 18,
    "start_time": "2022-01-19T14:35:24.487Z"
   },
   {
    "duration": 30,
    "start_time": "2022-01-19T14:35:24.508Z"
   },
   {
    "duration": 41,
    "start_time": "2022-01-19T14:35:24.541Z"
   },
   {
    "duration": 58,
    "start_time": "2022-01-19T14:35:24.584Z"
   },
   {
    "duration": 37,
    "start_time": "2022-01-19T14:35:24.644Z"
   },
   {
    "duration": 13,
    "start_time": "2022-01-19T14:36:16.953Z"
   },
   {
    "duration": 14,
    "start_time": "2022-01-19T14:36:17.334Z"
   },
   {
    "duration": 7,
    "start_time": "2022-01-19T14:36:17.868Z"
   },
   {
    "duration": 4,
    "start_time": "2022-01-19T14:36:21.442Z"
   },
   {
    "duration": 109,
    "start_time": "2022-01-19T14:36:21.449Z"
   },
   {
    "duration": 13,
    "start_time": "2022-01-19T14:36:21.561Z"
   },
   {
    "duration": 45,
    "start_time": "2022-01-19T14:36:21.576Z"
   },
   {
    "duration": 38,
    "start_time": "2022-01-19T14:36:21.624Z"
   },
   {
    "duration": 31,
    "start_time": "2022-01-19T14:36:21.665Z"
   },
   {
    "duration": 35,
    "start_time": "2022-01-19T14:36:21.701Z"
   },
   {
    "duration": 49,
    "start_time": "2022-01-19T14:36:21.740Z"
   },
   {
    "duration": 70,
    "start_time": "2022-01-19T14:36:21.792Z"
   },
   {
    "duration": 41,
    "start_time": "2022-01-19T14:36:21.865Z"
   },
   {
    "duration": 284,
    "start_time": "2022-01-19T14:36:21.909Z"
   },
   {
    "duration": 6,
    "start_time": "2022-01-19T14:36:22.197Z"
   },
   {
    "duration": 28,
    "start_time": "2022-01-19T14:36:22.206Z"
   },
   {
    "duration": 34,
    "start_time": "2022-01-19T14:36:22.237Z"
   },
   {
    "duration": 408,
    "start_time": "2022-01-19T14:36:22.274Z"
   },
   {
    "duration": 16,
    "start_time": "2022-01-19T14:36:22.684Z"
   },
   {
    "duration": 81,
    "start_time": "2022-01-19T14:36:22.703Z"
   },
   {
    "duration": 28,
    "start_time": "2022-01-19T14:36:22.787Z"
   },
   {
    "duration": 363,
    "start_time": "2022-01-19T14:36:22.821Z"
   },
   {
    "duration": 35,
    "start_time": "2022-01-19T14:36:23.189Z"
   },
   {
    "duration": 43,
    "start_time": "2022-01-19T14:36:23.226Z"
   },
   {
    "duration": 386,
    "start_time": "2022-01-19T14:36:23.271Z"
   },
   {
    "duration": 41,
    "start_time": "2022-01-19T14:36:23.659Z"
   },
   {
    "duration": 37,
    "start_time": "2022-01-19T14:36:23.703Z"
   },
   {
    "duration": 377,
    "start_time": "2022-01-19T14:36:23.742Z"
   },
   {
    "duration": 46,
    "start_time": "2022-01-19T14:36:24.122Z"
   },
   {
    "duration": 36,
    "start_time": "2022-01-19T14:36:24.171Z"
   },
   {
    "duration": 815,
    "start_time": "2022-01-19T14:36:24.210Z"
   },
   {
    "duration": 43,
    "start_time": "2022-01-19T14:36:25.028Z"
   },
   {
    "duration": 707,
    "start_time": "2022-01-19T14:36:25.073Z"
   },
   {
    "duration": 7,
    "start_time": "2022-01-19T14:36:25.783Z"
   },
   {
    "duration": 655,
    "start_time": "2022-01-19T14:36:25.793Z"
   },
   {
    "duration": 14,
    "start_time": "2022-01-19T14:36:26.452Z"
   },
   {
    "duration": 32,
    "start_time": "2022-01-19T14:36:26.468Z"
   },
   {
    "duration": 15,
    "start_time": "2022-01-19T14:36:26.502Z"
   },
   {
    "duration": 53,
    "start_time": "2022-01-19T14:36:26.520Z"
   },
   {
    "duration": 28,
    "start_time": "2022-01-19T14:36:26.577Z"
   },
   {
    "duration": 278,
    "start_time": "2022-01-19T14:36:26.608Z"
   },
   {
    "duration": 21,
    "start_time": "2022-01-19T14:36:26.889Z"
   },
   {
    "duration": 251,
    "start_time": "2022-01-19T14:36:26.913Z"
   },
   {
    "duration": 22,
    "start_time": "2022-01-19T14:36:27.167Z"
   },
   {
    "duration": 256,
    "start_time": "2022-01-19T14:36:27.192Z"
   },
   {
    "duration": 30,
    "start_time": "2022-01-19T14:36:27.451Z"
   },
   {
    "duration": 36,
    "start_time": "2022-01-19T14:36:27.483Z"
   },
   {
    "duration": 32,
    "start_time": "2022-01-19T14:36:27.522Z"
   },
   {
    "duration": 328,
    "start_time": "2022-01-19T14:36:27.557Z"
   },
   {
    "duration": 313,
    "start_time": "2022-01-19T14:36:27.887Z"
   },
   {
    "duration": 339,
    "start_time": "2022-01-19T14:36:28.202Z"
   },
   {
    "duration": 13,
    "start_time": "2022-01-19T14:36:28.543Z"
   },
   {
    "duration": 15,
    "start_time": "2022-01-19T14:36:28.565Z"
   },
   {
    "duration": 10,
    "start_time": "2022-01-19T14:36:28.582Z"
   },
   {
    "duration": 15,
    "start_time": "2022-01-19T14:36:28.594Z"
   },
   {
    "duration": 15,
    "start_time": "2022-01-19T14:36:28.612Z"
   },
   {
    "duration": 7,
    "start_time": "2022-01-19T14:36:28.664Z"
   },
   {
    "duration": 14,
    "start_time": "2022-01-19T14:37:07.644Z"
   },
   {
    "duration": 14,
    "start_time": "2022-01-19T14:37:14.128Z"
   },
   {
    "duration": 4,
    "start_time": "2022-01-19T14:37:20.643Z"
   },
   {
    "duration": 107,
    "start_time": "2022-01-19T14:37:20.650Z"
   },
   {
    "duration": 13,
    "start_time": "2022-01-19T14:37:20.760Z"
   },
   {
    "duration": 36,
    "start_time": "2022-01-19T14:37:20.776Z"
   },
   {
    "duration": 41,
    "start_time": "2022-01-19T14:37:20.814Z"
   },
   {
    "duration": 48,
    "start_time": "2022-01-19T14:37:20.857Z"
   },
   {
    "duration": 34,
    "start_time": "2022-01-19T14:37:20.909Z"
   },
   {
    "duration": 58,
    "start_time": "2022-01-19T14:37:20.947Z"
   },
   {
    "duration": 26,
    "start_time": "2022-01-19T14:37:21.008Z"
   },
   {
    "duration": 20,
    "start_time": "2022-01-19T14:37:21.037Z"
   },
   {
    "duration": 12,
    "start_time": "2022-01-19T14:37:21.060Z"
   },
   {
    "duration": 19,
    "start_time": "2022-01-19T14:37:21.074Z"
   },
   {
    "duration": 10,
    "start_time": "2022-01-19T14:37:21.096Z"
   },
   {
    "duration": 18,
    "start_time": "2022-01-19T14:37:21.109Z"
   },
   {
    "duration": 471,
    "start_time": "2022-01-19T14:37:21.129Z"
   },
   {
    "duration": 17,
    "start_time": "2022-01-19T14:37:21.602Z"
   },
   {
    "duration": 66,
    "start_time": "2022-01-19T14:37:21.621Z"
   },
   {
    "duration": 13,
    "start_time": "2022-01-19T14:37:21.690Z"
   },
   {
    "duration": 360,
    "start_time": "2022-01-19T14:37:21.709Z"
   },
   {
    "duration": 38,
    "start_time": "2022-01-19T14:37:22.074Z"
   },
   {
    "duration": 17,
    "start_time": "2022-01-19T14:37:22.115Z"
   },
   {
    "duration": 396,
    "start_time": "2022-01-19T14:37:22.166Z"
   },
   {
    "duration": 42,
    "start_time": "2022-01-19T14:37:22.565Z"
   },
   {
    "duration": 16,
    "start_time": "2022-01-19T14:37:22.610Z"
   },
   {
    "duration": 559,
    "start_time": "2022-01-19T14:37:22.629Z"
   },
   {
    "duration": 37,
    "start_time": "2022-01-19T14:37:23.192Z"
   },
   {
    "duration": 44,
    "start_time": "2022-01-19T14:37:23.232Z"
   },
   {
    "duration": 1126,
    "start_time": "2022-01-19T14:37:23.279Z"
   },
   {
    "duration": 63,
    "start_time": "2022-01-19T14:37:24.409Z"
   },
   {
    "duration": 610,
    "start_time": "2022-01-19T14:37:24.475Z"
   },
   {
    "duration": 6,
    "start_time": "2022-01-19T14:37:25.088Z"
   },
   {
    "duration": 593,
    "start_time": "2022-01-19T14:37:25.097Z"
   },
   {
    "duration": 7,
    "start_time": "2022-01-19T14:37:25.694Z"
   },
   {
    "duration": 35,
    "start_time": "2022-01-19T14:37:25.704Z"
   },
   {
    "duration": 34,
    "start_time": "2022-01-19T14:37:25.741Z"
   },
   {
    "duration": 57,
    "start_time": "2022-01-19T14:37:25.778Z"
   },
   {
    "duration": 22,
    "start_time": "2022-01-19T14:37:25.839Z"
   },
   {
    "duration": 242,
    "start_time": "2022-01-19T14:37:25.864Z"
   },
   {
    "duration": 24,
    "start_time": "2022-01-19T14:37:26.109Z"
   },
   {
    "duration": 264,
    "start_time": "2022-01-19T14:37:26.136Z"
   },
   {
    "duration": 26,
    "start_time": "2022-01-19T14:37:26.403Z"
   },
   {
    "duration": 261,
    "start_time": "2022-01-19T14:37:26.432Z"
   },
   {
    "duration": 22,
    "start_time": "2022-01-19T14:37:26.696Z"
   },
   {
    "duration": 50,
    "start_time": "2022-01-19T14:37:26.722Z"
   },
   {
    "duration": 20,
    "start_time": "2022-01-19T14:37:26.775Z"
   },
   {
    "duration": 330,
    "start_time": "2022-01-19T14:37:26.797Z"
   },
   {
    "duration": 322,
    "start_time": "2022-01-19T14:37:27.129Z"
   },
   {
    "duration": 329,
    "start_time": "2022-01-19T14:37:27.454Z"
   },
   {
    "duration": 15,
    "start_time": "2022-01-19T14:37:27.786Z"
   },
   {
    "duration": 16,
    "start_time": "2022-01-19T14:37:27.803Z"
   },
   {
    "duration": 11,
    "start_time": "2022-01-19T14:37:27.821Z"
   },
   {
    "duration": 36,
    "start_time": "2022-01-19T14:37:27.834Z"
   },
   {
    "duration": 8,
    "start_time": "2022-01-19T14:37:27.873Z"
   },
   {
    "duration": 9,
    "start_time": "2022-01-19T14:37:27.883Z"
   },
   {
    "duration": 12,
    "start_time": "2022-01-19T14:37:30.942Z"
   },
   {
    "duration": 14,
    "start_time": "2022-01-19T14:37:39.849Z"
   },
   {
    "duration": 16,
    "start_time": "2022-01-19T14:39:25.984Z"
   },
   {
    "duration": 4,
    "start_time": "2022-01-19T14:39:37.207Z"
   },
   {
    "duration": 114,
    "start_time": "2022-01-19T14:39:37.214Z"
   },
   {
    "duration": 38,
    "start_time": "2022-01-19T14:39:37.331Z"
   },
   {
    "duration": 33,
    "start_time": "2022-01-19T14:39:37.372Z"
   },
   {
    "duration": 83,
    "start_time": "2022-01-19T14:39:37.408Z"
   },
   {
    "duration": 46,
    "start_time": "2022-01-19T14:39:37.494Z"
   },
   {
    "duration": 59,
    "start_time": "2022-01-19T14:39:37.544Z"
   },
   {
    "duration": 60,
    "start_time": "2022-01-19T14:39:37.606Z"
   },
   {
    "duration": 67,
    "start_time": "2022-01-19T14:39:37.668Z"
   },
   {
    "duration": 74,
    "start_time": "2022-01-19T14:39:37.737Z"
   },
   {
    "duration": 51,
    "start_time": "2022-01-19T14:39:37.814Z"
   },
   {
    "duration": 45,
    "start_time": "2022-01-19T14:39:37.868Z"
   },
   {
    "duration": 52,
    "start_time": "2022-01-19T14:39:37.915Z"
   },
   {
    "duration": 76,
    "start_time": "2022-01-19T14:39:37.970Z"
   },
   {
    "duration": 420,
    "start_time": "2022-01-19T14:39:38.048Z"
   },
   {
    "duration": 15,
    "start_time": "2022-01-19T14:39:38.471Z"
   },
   {
    "duration": 73,
    "start_time": "2022-01-19T14:39:38.489Z"
   },
   {
    "duration": 43,
    "start_time": "2022-01-19T14:39:38.565Z"
   },
   {
    "duration": 356,
    "start_time": "2022-01-19T14:39:38.613Z"
   },
   {
    "duration": 36,
    "start_time": "2022-01-19T14:39:38.972Z"
   },
   {
    "duration": 45,
    "start_time": "2022-01-19T14:39:39.011Z"
   },
   {
    "duration": 396,
    "start_time": "2022-01-19T14:39:39.060Z"
   },
   {
    "duration": 39,
    "start_time": "2022-01-19T14:39:39.459Z"
   },
   {
    "duration": 44,
    "start_time": "2022-01-19T14:39:39.500Z"
   },
   {
    "duration": 367,
    "start_time": "2022-01-19T14:39:39.547Z"
   },
   {
    "duration": 48,
    "start_time": "2022-01-19T14:39:39.916Z"
   },
   {
    "duration": 21,
    "start_time": "2022-01-19T14:39:39.967Z"
   },
   {
    "duration": 1122,
    "start_time": "2022-01-19T14:39:39.991Z"
   },
   {
    "duration": 54,
    "start_time": "2022-01-19T14:39:41.116Z"
   },
   {
    "duration": 605,
    "start_time": "2022-01-19T14:39:41.173Z"
   },
   {
    "duration": 6,
    "start_time": "2022-01-19T14:39:41.782Z"
   },
   {
    "duration": 573,
    "start_time": "2022-01-19T14:39:41.791Z"
   },
   {
    "duration": 6,
    "start_time": "2022-01-19T14:39:42.368Z"
   },
   {
    "duration": 60,
    "start_time": "2022-01-19T14:39:42.376Z"
   },
   {
    "duration": 40,
    "start_time": "2022-01-19T14:39:42.438Z"
   },
   {
    "duration": 77,
    "start_time": "2022-01-19T14:39:42.481Z"
   },
   {
    "duration": 44,
    "start_time": "2022-01-19T14:39:42.561Z"
   },
   {
    "duration": 226,
    "start_time": "2022-01-19T14:39:42.608Z"
   },
   {
    "duration": 33,
    "start_time": "2022-01-19T14:39:42.837Z"
   },
   {
    "duration": 274,
    "start_time": "2022-01-19T14:39:42.873Z"
   },
   {
    "duration": 29,
    "start_time": "2022-01-19T14:39:43.149Z"
   },
   {
    "duration": 260,
    "start_time": "2022-01-19T14:39:43.180Z"
   },
   {
    "duration": 32,
    "start_time": "2022-01-19T14:39:43.444Z"
   },
   {
    "duration": 49,
    "start_time": "2022-01-19T14:39:43.479Z"
   },
   {
    "duration": 65,
    "start_time": "2022-01-19T14:39:43.531Z"
   },
   {
    "duration": 344,
    "start_time": "2022-01-19T14:39:43.599Z"
   },
   {
    "duration": 340,
    "start_time": "2022-01-19T14:39:43.945Z"
   },
   {
    "duration": 323,
    "start_time": "2022-01-19T14:39:44.288Z"
   },
   {
    "duration": 15,
    "start_time": "2022-01-19T14:39:44.614Z"
   },
   {
    "duration": 39,
    "start_time": "2022-01-19T14:39:44.631Z"
   },
   {
    "duration": 55,
    "start_time": "2022-01-19T14:39:44.673Z"
   },
   {
    "duration": 54,
    "start_time": "2022-01-19T14:39:44.731Z"
   },
   {
    "duration": 43,
    "start_time": "2022-01-19T14:39:44.788Z"
   },
   {
    "duration": 37,
    "start_time": "2022-01-19T14:39:44.833Z"
   },
   {
    "duration": 16,
    "start_time": "2022-01-19T14:42:01.738Z"
   },
   {
    "duration": 15,
    "start_time": "2022-01-19T14:42:21.165Z"
   },
   {
    "duration": 12,
    "start_time": "2022-01-19T14:42:41.410Z"
   },
   {
    "duration": 7,
    "start_time": "2022-01-19T14:42:43.994Z"
   },
   {
    "duration": 4,
    "start_time": "2022-01-19T14:43:39.113Z"
   },
   {
    "duration": 73,
    "start_time": "2022-01-19T14:43:39.123Z"
   },
   {
    "duration": 13,
    "start_time": "2022-01-19T14:43:39.199Z"
   },
   {
    "duration": 11,
    "start_time": "2022-01-19T14:43:39.215Z"
   },
   {
    "duration": 39,
    "start_time": "2022-01-19T14:43:39.229Z"
   },
   {
    "duration": 12,
    "start_time": "2022-01-19T14:43:39.271Z"
   },
   {
    "duration": 16,
    "start_time": "2022-01-19T14:43:39.285Z"
   },
   {
    "duration": 10,
    "start_time": "2022-01-19T14:43:39.304Z"
   },
   {
    "duration": 58,
    "start_time": "2022-01-19T14:43:39.319Z"
   },
   {
    "duration": 18,
    "start_time": "2022-01-19T14:43:39.380Z"
   },
   {
    "duration": 35,
    "start_time": "2022-01-19T14:43:39.400Z"
   },
   {
    "duration": 6,
    "start_time": "2022-01-19T14:43:39.438Z"
   },
   {
    "duration": 19,
    "start_time": "2022-01-19T14:43:39.447Z"
   },
   {
    "duration": 16,
    "start_time": "2022-01-19T14:43:39.468Z"
   },
   {
    "duration": 425,
    "start_time": "2022-01-19T14:43:39.487Z"
   },
   {
    "duration": 17,
    "start_time": "2022-01-19T14:43:39.915Z"
   },
   {
    "duration": 56,
    "start_time": "2022-01-19T14:43:39.935Z"
   },
   {
    "duration": 13,
    "start_time": "2022-01-19T14:43:39.993Z"
   },
   {
    "duration": 408,
    "start_time": "2022-01-19T14:43:40.009Z"
   },
   {
    "duration": 71,
    "start_time": "2022-01-19T14:43:40.420Z"
   },
   {
    "duration": 19,
    "start_time": "2022-01-19T14:43:40.494Z"
   },
   {
    "duration": 383,
    "start_time": "2022-01-19T14:43:40.516Z"
   },
   {
    "duration": 38,
    "start_time": "2022-01-19T14:43:40.902Z"
   },
   {
    "duration": 13,
    "start_time": "2022-01-19T14:43:40.969Z"
   },
   {
    "duration": 350,
    "start_time": "2022-01-19T14:43:40.985Z"
   },
   {
    "duration": 45,
    "start_time": "2022-01-19T14:43:41.338Z"
   },
   {
    "duration": 28,
    "start_time": "2022-01-19T14:43:41.386Z"
   },
   {
    "duration": 792,
    "start_time": "2022-01-19T14:43:41.416Z"
   },
   {
    "duration": 35,
    "start_time": "2022-01-19T14:43:42.210Z"
   },
   {
    "duration": 612,
    "start_time": "2022-01-19T14:43:42.264Z"
   },
   {
    "duration": 6,
    "start_time": "2022-01-19T14:43:42.878Z"
   },
   {
    "duration": 514,
    "start_time": "2022-01-19T14:43:42.886Z"
   },
   {
    "duration": 5,
    "start_time": "2022-01-19T14:43:43.403Z"
   },
   {
    "duration": 17,
    "start_time": "2022-01-19T14:43:43.411Z"
   },
   {
    "duration": 38,
    "start_time": "2022-01-19T14:43:43.430Z"
   },
   {
    "duration": 43,
    "start_time": "2022-01-19T14:43:43.470Z"
   },
   {
    "duration": 19,
    "start_time": "2022-01-19T14:43:43.516Z"
   },
   {
    "duration": 278,
    "start_time": "2022-01-19T14:43:43.538Z"
   },
   {
    "duration": 23,
    "start_time": "2022-01-19T14:43:43.819Z"
   },
   {
    "duration": 244,
    "start_time": "2022-01-19T14:43:43.866Z"
   },
   {
    "duration": 23,
    "start_time": "2022-01-19T14:43:44.113Z"
   },
   {
    "duration": 257,
    "start_time": "2022-01-19T14:43:44.139Z"
   },
   {
    "duration": 21,
    "start_time": "2022-01-19T14:43:44.398Z"
   },
   {
    "duration": 43,
    "start_time": "2022-01-19T14:43:44.421Z"
   },
   {
    "duration": 19,
    "start_time": "2022-01-19T14:43:44.467Z"
   },
   {
    "duration": 319,
    "start_time": "2022-01-19T14:43:44.488Z"
   },
   {
    "duration": 303,
    "start_time": "2022-01-19T14:43:44.809Z"
   },
   {
    "duration": 330,
    "start_time": "2022-01-19T14:43:45.114Z"
   },
   {
    "duration": 24,
    "start_time": "2022-01-19T14:43:45.446Z"
   },
   {
    "duration": 30,
    "start_time": "2022-01-19T14:43:45.473Z"
   },
   {
    "duration": 29,
    "start_time": "2022-01-19T14:43:45.505Z"
   },
   {
    "duration": 24,
    "start_time": "2022-01-19T14:43:45.537Z"
   },
   {
    "duration": 21,
    "start_time": "2022-01-19T14:43:45.563Z"
   },
   {
    "duration": 25,
    "start_time": "2022-01-19T14:43:45.587Z"
   },
   {
    "duration": 13,
    "start_time": "2022-01-19T14:45:53.445Z"
   },
   {
    "duration": 8,
    "start_time": "2022-01-19T14:45:56.619Z"
   },
   {
    "duration": 13,
    "start_time": "2022-01-19T14:49:08.408Z"
   },
   {
    "duration": 13,
    "start_time": "2022-01-19T14:49:10.951Z"
   },
   {
    "duration": 7,
    "start_time": "2022-01-19T14:49:13.324Z"
   },
   {
    "duration": 4,
    "start_time": "2022-01-19T15:01:07.614Z"
   },
   {
    "duration": 4,
    "start_time": "2022-01-19T15:01:10.971Z"
   },
   {
    "duration": 31,
    "start_time": "2022-01-19T15:01:10.978Z"
   },
   {
    "duration": 93,
    "start_time": "2022-01-19T15:01:11.012Z"
   },
   {
    "duration": 14,
    "start_time": "2022-01-19T15:01:11.108Z"
   },
   {
    "duration": 6,
    "start_time": "2022-01-19T15:01:11.125Z"
   },
   {
    "duration": 8,
    "start_time": "2022-01-19T15:01:11.166Z"
   },
   {
    "duration": 12,
    "start_time": "2022-01-19T15:01:11.178Z"
   },
   {
    "duration": 34,
    "start_time": "2022-01-19T15:01:11.193Z"
   },
   {
    "duration": 34,
    "start_time": "2022-01-19T15:01:11.230Z"
   },
   {
    "duration": 14,
    "start_time": "2022-01-19T15:01:11.268Z"
   },
   {
    "duration": 14,
    "start_time": "2022-01-19T15:01:11.285Z"
   },
   {
    "duration": 10,
    "start_time": "2022-01-19T15:01:11.301Z"
   },
   {
    "duration": 19,
    "start_time": "2022-01-19T15:01:11.313Z"
   },
   {
    "duration": 43,
    "start_time": "2022-01-19T15:01:11.334Z"
   },
   {
    "duration": 30,
    "start_time": "2022-01-19T15:01:11.380Z"
   },
   {
    "duration": 405,
    "start_time": "2022-01-19T15:01:11.413Z"
   },
   {
    "duration": 18,
    "start_time": "2022-01-19T15:01:11.821Z"
   },
   {
    "duration": 55,
    "start_time": "2022-01-19T15:01:11.842Z"
   },
   {
    "duration": 15,
    "start_time": "2022-01-19T15:01:11.902Z"
   },
   {
    "duration": 369,
    "start_time": "2022-01-19T15:01:11.921Z"
   },
   {
    "duration": 36,
    "start_time": "2022-01-19T15:01:12.293Z"
   },
   {
    "duration": 41,
    "start_time": "2022-01-19T15:01:12.332Z"
   },
   {
    "duration": 373,
    "start_time": "2022-01-19T15:01:12.376Z"
   },
   {
    "duration": 42,
    "start_time": "2022-01-19T15:01:12.751Z"
   },
   {
    "duration": 41,
    "start_time": "2022-01-19T15:01:12.796Z"
   },
   {
    "duration": 352,
    "start_time": "2022-01-19T15:01:12.839Z"
   },
   {
    "duration": 35,
    "start_time": "2022-01-19T15:01:13.193Z"
   },
   {
    "duration": 49,
    "start_time": "2022-01-19T15:01:13.231Z"
   },
   {
    "duration": 761,
    "start_time": "2022-01-19T15:01:13.283Z"
   },
   {
    "duration": 46,
    "start_time": "2022-01-19T15:01:14.047Z"
   },
   {
    "duration": 682,
    "start_time": "2022-01-19T15:01:14.095Z"
   },
   {
    "duration": 6,
    "start_time": "2022-01-19T15:01:14.779Z"
   },
   {
    "duration": 540,
    "start_time": "2022-01-19T15:01:14.787Z"
   },
   {
    "duration": 6,
    "start_time": "2022-01-19T15:01:15.330Z"
   },
   {
    "duration": 34,
    "start_time": "2022-01-19T15:01:15.338Z"
   },
   {
    "duration": 52,
    "start_time": "2022-01-19T15:01:15.375Z"
   },
   {
    "duration": 74,
    "start_time": "2022-01-19T15:01:15.430Z"
   },
   {
    "duration": 25,
    "start_time": "2022-01-19T15:01:15.507Z"
   },
   {
    "duration": 280,
    "start_time": "2022-01-19T15:01:15.535Z"
   },
   {
    "duration": 22,
    "start_time": "2022-01-19T15:01:15.817Z"
   },
   {
    "duration": 245,
    "start_time": "2022-01-19T15:01:15.842Z"
   },
   {
    "duration": 21,
    "start_time": "2022-01-19T15:01:16.089Z"
   },
   {
    "duration": 275,
    "start_time": "2022-01-19T15:01:16.112Z"
   },
   {
    "duration": 23,
    "start_time": "2022-01-19T15:01:16.389Z"
   },
   {
    "duration": 65,
    "start_time": "2022-01-19T15:01:16.414Z"
   },
   {
    "duration": 51,
    "start_time": "2022-01-19T15:01:16.482Z"
   },
   {
    "duration": 326,
    "start_time": "2022-01-19T15:01:16.535Z"
   },
   {
    "duration": 640,
    "start_time": "2022-01-19T15:01:16.864Z"
   },
   {
    "duration": 347,
    "start_time": "2022-01-19T15:01:17.506Z"
   },
   {
    "duration": 20,
    "start_time": "2022-01-19T15:01:17.857Z"
   },
   {
    "duration": 55,
    "start_time": "2022-01-19T15:01:17.880Z"
   },
   {
    "duration": 60,
    "start_time": "2022-01-19T15:01:17.938Z"
   },
   {
    "duration": 37,
    "start_time": "2022-01-19T15:01:18.001Z"
   },
   {
    "duration": 64,
    "start_time": "2022-01-19T15:01:18.041Z"
   },
   {
    "duration": 58,
    "start_time": "2022-01-19T15:01:18.114Z"
   },
   {
    "duration": 1510,
    "start_time": "2022-01-23T11:54:35.733Z"
   },
   {
    "duration": 4,
    "start_time": "2022-01-23T11:54:37.245Z"
   },
   {
    "duration": 96,
    "start_time": "2022-01-23T11:54:37.252Z"
   },
   {
    "duration": 22,
    "start_time": "2022-01-23T11:54:37.351Z"
   },
   {
    "duration": 7,
    "start_time": "2022-01-23T11:54:37.375Z"
   },
   {
    "duration": 15,
    "start_time": "2022-01-23T11:54:37.385Z"
   },
   {
    "duration": 15,
    "start_time": "2022-01-23T11:54:37.403Z"
   },
   {
    "duration": 16,
    "start_time": "2022-01-23T11:54:37.422Z"
   },
   {
    "duration": 37,
    "start_time": "2022-01-23T11:54:37.441Z"
   },
   {
    "duration": 29,
    "start_time": "2022-01-23T11:54:37.480Z"
   },
   {
    "duration": 12,
    "start_time": "2022-01-23T11:54:37.511Z"
   },
   {
    "duration": 12,
    "start_time": "2022-01-23T11:54:37.525Z"
   },
   {
    "duration": 32,
    "start_time": "2022-01-23T11:54:37.539Z"
   },
   {
    "duration": 15,
    "start_time": "2022-01-23T11:54:37.573Z"
   },
   {
    "duration": 17,
    "start_time": "2022-01-23T11:54:37.590Z"
   },
   {
    "duration": 443,
    "start_time": "2022-01-23T11:54:37.610Z"
   },
   {
    "duration": 20,
    "start_time": "2022-01-23T11:54:38.055Z"
   },
   {
    "duration": 35,
    "start_time": "2022-01-23T11:54:38.077Z"
   },
   {
    "duration": 13,
    "start_time": "2022-01-23T11:54:38.114Z"
   },
   {
    "duration": 374,
    "start_time": "2022-01-23T11:54:38.130Z"
   },
   {
    "duration": 35,
    "start_time": "2022-01-23T11:54:38.506Z"
   },
   {
    "duration": 31,
    "start_time": "2022-01-23T11:54:38.543Z"
   },
   {
    "duration": 369,
    "start_time": "2022-01-23T11:54:38.580Z"
   },
   {
    "duration": 46,
    "start_time": "2022-01-23T11:54:38.952Z"
   },
   {
    "duration": 14,
    "start_time": "2022-01-23T11:54:39.000Z"
   },
   {
    "duration": 377,
    "start_time": "2022-01-23T11:54:39.016Z"
   },
   {
    "duration": 35,
    "start_time": "2022-01-23T11:54:39.396Z"
   },
   {
    "duration": 45,
    "start_time": "2022-01-23T11:54:39.433Z"
   },
   {
    "duration": 796,
    "start_time": "2022-01-23T11:54:39.480Z"
   },
   {
    "duration": 35,
    "start_time": "2022-01-23T11:54:40.279Z"
   },
   {
    "duration": 669,
    "start_time": "2022-01-23T11:54:40.316Z"
   },
   {
    "duration": 7,
    "start_time": "2022-01-23T11:54:40.988Z"
   },
   {
    "duration": 583,
    "start_time": "2022-01-23T11:54:40.998Z"
   },
   {
    "duration": 6,
    "start_time": "2022-01-23T11:54:41.583Z"
   },
   {
    "duration": 10,
    "start_time": "2022-01-23T11:54:41.592Z"
   },
   {
    "duration": 11,
    "start_time": "2022-01-23T11:54:41.605Z"
   },
   {
    "duration": 31,
    "start_time": "2022-01-23T11:54:41.618Z"
   },
   {
    "duration": 31,
    "start_time": "2022-01-23T11:54:41.651Z"
   },
   {
    "duration": 248,
    "start_time": "2022-01-23T11:54:41.685Z"
   },
   {
    "duration": 22,
    "start_time": "2022-01-23T11:54:41.935Z"
   },
   {
    "duration": 312,
    "start_time": "2022-01-23T11:54:41.959Z"
   },
   {
    "duration": 20,
    "start_time": "2022-01-23T11:54:42.273Z"
   },
   {
    "duration": 228,
    "start_time": "2022-01-23T11:54:42.296Z"
   },
   {
    "duration": 20,
    "start_time": "2022-01-23T11:54:42.526Z"
   },
   {
    "duration": 28,
    "start_time": "2022-01-23T11:54:42.548Z"
   },
   {
    "duration": 28,
    "start_time": "2022-01-23T11:54:42.578Z"
   },
   {
    "duration": 439,
    "start_time": "2022-01-23T11:54:42.609Z"
   },
   {
    "duration": 473,
    "start_time": "2022-01-23T11:54:43.051Z"
   },
   {
    "duration": 392,
    "start_time": "2022-01-23T11:54:43.526Z"
   },
   {
    "duration": 16,
    "start_time": "2022-01-23T11:54:43.921Z"
   },
   {
    "duration": 32,
    "start_time": "2022-01-23T11:54:43.940Z"
   },
   {
    "duration": 12,
    "start_time": "2022-01-23T11:54:43.974Z"
   },
   {
    "duration": 13,
    "start_time": "2022-01-23T11:54:43.988Z"
   },
   {
    "duration": 12,
    "start_time": "2022-01-23T11:54:44.003Z"
   },
   {
    "duration": 17,
    "start_time": "2022-01-23T11:54:44.017Z"
   },
   {
    "duration": 1081,
    "start_time": "2022-01-23T12:10:20.816Z"
   },
   {
    "duration": 46,
    "start_time": "2022-01-23T12:10:28.438Z"
   },
   {
    "duration": 408,
    "start_time": "2022-01-23T12:10:33.361Z"
   },
   {
    "duration": 396,
    "start_time": "2022-01-23T12:11:50.136Z"
   },
   {
    "duration": 1044,
    "start_time": "2022-01-23T12:46:54.621Z"
   },
   {
    "duration": 3,
    "start_time": "2022-01-23T12:46:55.667Z"
   },
   {
    "duration": 51,
    "start_time": "2022-01-23T12:46:55.672Z"
   },
   {
    "duration": 9,
    "start_time": "2022-01-23T12:46:55.725Z"
   },
   {
    "duration": 4,
    "start_time": "2022-01-23T12:46:55.735Z"
   },
   {
    "duration": 9,
    "start_time": "2022-01-23T12:46:55.740Z"
   },
   {
    "duration": 8,
    "start_time": "2022-01-23T12:46:55.750Z"
   },
   {
    "duration": 8,
    "start_time": "2022-01-23T12:46:55.760Z"
   },
   {
    "duration": 6,
    "start_time": "2022-01-23T12:46:55.771Z"
   },
   {
    "duration": 39,
    "start_time": "2022-01-23T12:46:55.779Z"
   },
   {
    "duration": 7,
    "start_time": "2022-01-23T12:46:55.820Z"
   },
   {
    "duration": 9,
    "start_time": "2022-01-23T12:46:55.828Z"
   },
   {
    "duration": 5,
    "start_time": "2022-01-23T12:46:55.838Z"
   },
   {
    "duration": 5,
    "start_time": "2022-01-23T12:46:55.844Z"
   },
   {
    "duration": 13,
    "start_time": "2022-01-23T12:46:55.850Z"
   },
   {
    "duration": 286,
    "start_time": "2022-01-23T12:46:55.865Z"
   },
   {
    "duration": 11,
    "start_time": "2022-01-23T12:46:56.153Z"
   },
   {
    "duration": 21,
    "start_time": "2022-01-23T12:46:56.165Z"
   },
   {
    "duration": 31,
    "start_time": "2022-01-23T12:46:56.187Z"
   },
   {
    "duration": 215,
    "start_time": "2022-01-23T12:46:56.219Z"
   },
   {
    "duration": 20,
    "start_time": "2022-01-23T12:46:56.436Z"
   },
   {
    "duration": 8,
    "start_time": "2022-01-23T12:46:56.458Z"
   },
   {
    "duration": 238,
    "start_time": "2022-01-23T12:46:56.468Z"
   },
   {
    "duration": 23,
    "start_time": "2022-01-23T12:46:56.708Z"
   },
   {
    "duration": 9,
    "start_time": "2022-01-23T12:46:56.733Z"
   },
   {
    "duration": 225,
    "start_time": "2022-01-23T12:46:56.743Z"
   },
   {
    "duration": 19,
    "start_time": "2022-01-23T12:46:56.971Z"
   },
   {
    "duration": 25,
    "start_time": "2022-01-23T12:46:56.992Z"
   },
   {
    "duration": 459,
    "start_time": "2022-01-23T12:46:57.019Z"
   },
   {
    "duration": 20,
    "start_time": "2022-01-23T12:46:57.480Z"
   },
   {
    "duration": 420,
    "start_time": "2022-01-23T12:46:57.512Z"
   },
   {
    "duration": 5,
    "start_time": "2022-01-23T12:46:57.934Z"
   },
   {
    "duration": 344,
    "start_time": "2022-01-23T12:46:57.941Z"
   },
   {
    "duration": 4,
    "start_time": "2022-01-23T12:46:58.286Z"
   },
   {
    "duration": 11,
    "start_time": "2022-01-23T12:46:58.291Z"
   },
   {
    "duration": 16,
    "start_time": "2022-01-23T12:46:58.312Z"
   },
   {
    "duration": 19,
    "start_time": "2022-01-23T12:46:58.329Z"
   },
   {
    "duration": 12,
    "start_time": "2022-01-23T12:46:58.349Z"
   },
   {
    "duration": 158,
    "start_time": "2022-01-23T12:46:58.362Z"
   },
   {
    "duration": 12,
    "start_time": "2022-01-23T12:46:58.522Z"
   },
   {
    "duration": 200,
    "start_time": "2022-01-23T12:46:58.535Z"
   },
   {
    "duration": 14,
    "start_time": "2022-01-23T12:46:58.737Z"
   },
   {
    "duration": 167,
    "start_time": "2022-01-23T12:46:58.754Z"
   },
   {
    "duration": 12,
    "start_time": "2022-01-23T12:46:58.923Z"
   },
   {
    "duration": 12,
    "start_time": "2022-01-23T12:46:58.937Z"
   },
   {
    "duration": 11,
    "start_time": "2022-01-23T12:46:58.951Z"
   },
   {
    "duration": 207,
    "start_time": "2022-01-23T12:46:58.963Z"
   },
   {
    "duration": 194,
    "start_time": "2022-01-23T12:46:59.172Z"
   },
   {
    "duration": 204,
    "start_time": "2022-01-23T12:46:59.368Z"
   },
   {
    "duration": 9,
    "start_time": "2022-01-23T12:46:59.574Z"
   },
   {
    "duration": 7,
    "start_time": "2022-01-23T12:46:59.585Z"
   },
   {
    "duration": 21,
    "start_time": "2022-01-23T12:46:59.594Z"
   },
   {
    "duration": 8,
    "start_time": "2022-01-23T12:46:59.616Z"
   },
   {
    "duration": 8,
    "start_time": "2022-01-23T12:46:59.626Z"
   },
   {
    "duration": 7,
    "start_time": "2022-01-23T12:46:59.636Z"
   },
   {
    "duration": 5,
    "start_time": "2022-01-23T13:18:41.358Z"
   },
   {
    "duration": 5,
    "start_time": "2022-01-23T13:18:58.701Z"
   },
   {
    "duration": 15,
    "start_time": "2022-01-23T13:19:21.224Z"
   },
   {
    "duration": 9,
    "start_time": "2022-01-23T13:19:44.184Z"
   },
   {
    "duration": 6,
    "start_time": "2022-01-23T13:20:11.092Z"
   },
   {
    "duration": 11,
    "start_time": "2022-01-23T13:20:31.171Z"
   },
   {
    "duration": 10,
    "start_time": "2022-01-23T13:20:48.949Z"
   },
   {
    "duration": 3,
    "start_time": "2022-01-23T13:21:01.926Z"
   },
   {
    "duration": 5,
    "start_time": "2022-01-23T13:21:01.931Z"
   },
   {
    "duration": 54,
    "start_time": "2022-01-23T13:21:01.938Z"
   },
   {
    "duration": 19,
    "start_time": "2022-01-23T13:21:01.994Z"
   },
   {
    "duration": 5,
    "start_time": "2022-01-23T13:21:02.015Z"
   },
   {
    "duration": 10,
    "start_time": "2022-01-23T13:21:02.022Z"
   },
   {
    "duration": 9,
    "start_time": "2022-01-23T13:21:02.033Z"
   },
   {
    "duration": 9,
    "start_time": "2022-01-23T13:21:02.044Z"
   },
   {
    "duration": 7,
    "start_time": "2022-01-23T13:21:02.056Z"
   },
   {
    "duration": 8,
    "start_time": "2022-01-23T13:21:02.065Z"
   },
   {
    "duration": 8,
    "start_time": "2022-01-23T13:21:02.113Z"
   },
   {
    "duration": 7,
    "start_time": "2022-01-23T13:21:02.123Z"
   },
   {
    "duration": 4,
    "start_time": "2022-01-23T13:21:02.132Z"
   },
   {
    "duration": 9,
    "start_time": "2022-01-23T13:21:02.138Z"
   },
   {
    "duration": 14,
    "start_time": "2022-01-23T13:21:02.149Z"
   },
   {
    "duration": 280,
    "start_time": "2022-01-23T13:21:02.165Z"
   },
   {
    "duration": 11,
    "start_time": "2022-01-23T13:21:02.447Z"
   },
   {
    "duration": 21,
    "start_time": "2022-01-23T13:21:02.460Z"
   },
   {
    "duration": 30,
    "start_time": "2022-01-23T13:21:02.483Z"
   },
   {
    "duration": 220,
    "start_time": "2022-01-23T13:21:02.515Z"
   },
   {
    "duration": 23,
    "start_time": "2022-01-23T13:21:02.736Z"
   },
   {
    "duration": 9,
    "start_time": "2022-01-23T13:21:02.760Z"
   },
   {
    "duration": 238,
    "start_time": "2022-01-23T13:21:02.771Z"
   },
   {
    "duration": 22,
    "start_time": "2022-01-23T13:21:03.011Z"
   },
   {
    "duration": 10,
    "start_time": "2022-01-23T13:21:03.035Z"
   },
   {
    "duration": 231,
    "start_time": "2022-01-23T13:21:03.047Z"
   },
   {
    "duration": 31,
    "start_time": "2022-01-23T13:21:03.282Z"
   },
   {
    "duration": 17,
    "start_time": "2022-01-23T13:21:03.315Z"
   },
   {
    "duration": 487,
    "start_time": "2022-01-23T13:21:03.334Z"
   },
   {
    "duration": 22,
    "start_time": "2022-01-23T13:21:03.822Z"
   },
   {
    "duration": 499,
    "start_time": "2022-01-23T13:21:03.845Z"
   },
   {
    "duration": 4,
    "start_time": "2022-01-23T13:21:04.346Z"
   },
   {
    "duration": 342,
    "start_time": "2022-01-23T13:21:04.352Z"
   },
   {
    "duration": 4,
    "start_time": "2022-01-23T13:21:04.696Z"
   },
   {
    "duration": 8,
    "start_time": "2022-01-23T13:21:04.712Z"
   },
   {
    "duration": 10,
    "start_time": "2022-01-23T13:21:04.721Z"
   },
   {
    "duration": 24,
    "start_time": "2022-01-23T13:21:04.733Z"
   },
   {
    "duration": 11,
    "start_time": "2022-01-23T13:21:04.758Z"
   },
   {
    "duration": 163,
    "start_time": "2022-01-23T13:21:04.771Z"
   },
   {
    "duration": 13,
    "start_time": "2022-01-23T13:21:04.936Z"
   },
   {
    "duration": 164,
    "start_time": "2022-01-23T13:21:04.951Z"
   },
   {
    "duration": 14,
    "start_time": "2022-01-23T13:21:05.116Z"
   },
   {
    "duration": 155,
    "start_time": "2022-01-23T13:21:05.132Z"
   },
   {
    "duration": 25,
    "start_time": "2022-01-23T13:21:05.288Z"
   },
   {
    "duration": 14,
    "start_time": "2022-01-23T13:21:05.315Z"
   },
   {
    "duration": 13,
    "start_time": "2022-01-23T13:21:05.331Z"
   },
   {
    "duration": 221,
    "start_time": "2022-01-23T13:21:05.345Z"
   },
   {
    "duration": 199,
    "start_time": "2022-01-23T13:21:05.568Z"
   },
   {
    "duration": 212,
    "start_time": "2022-01-23T13:21:05.769Z"
   },
   {
    "duration": 10,
    "start_time": "2022-01-23T13:21:05.982Z"
   },
   {
    "duration": 19,
    "start_time": "2022-01-23T13:21:05.993Z"
   },
   {
    "duration": 5,
    "start_time": "2022-01-23T13:21:06.014Z"
   },
   {
    "duration": 15,
    "start_time": "2022-01-23T13:21:06.020Z"
   },
   {
    "duration": 13,
    "start_time": "2022-01-23T13:21:06.036Z"
   },
   {
    "duration": 9,
    "start_time": "2022-01-23T13:21:06.050Z"
   },
   {
    "duration": 6,
    "start_time": "2022-01-23T13:30:37.665Z"
   },
   {
    "duration": 7,
    "start_time": "2022-01-23T13:30:55.249Z"
   },
   {
    "duration": 7,
    "start_time": "2022-01-23T13:31:38.285Z"
   },
   {
    "duration": 9,
    "start_time": "2022-01-23T13:31:46.228Z"
   },
   {
    "duration": 9,
    "start_time": "2022-01-23T13:32:31.613Z"
   },
   {
    "duration": 5,
    "start_time": "2022-01-23T13:53:08.098Z"
   },
   {
    "duration": 4,
    "start_time": "2022-01-23T13:53:56.016Z"
   },
   {
    "duration": 6,
    "start_time": "2022-01-23T13:54:01.360Z"
   },
   {
    "duration": 4,
    "start_time": "2022-01-23T13:54:01.904Z"
   },
   {
    "duration": 305,
    "start_time": "2022-01-23T13:59:55.951Z"
   },
   {
    "duration": 4,
    "start_time": "2022-01-23T14:00:02.753Z"
   },
   {
    "duration": 5,
    "start_time": "2022-01-23T14:00:05.042Z"
   },
   {
    "duration": 8,
    "start_time": "2022-01-23T14:03:18.615Z"
   },
   {
    "duration": 261,
    "start_time": "2022-01-23T14:13:52.278Z"
   },
   {
    "duration": 230,
    "start_time": "2022-01-23T14:14:06.733Z"
   },
   {
    "duration": 304,
    "start_time": "2022-01-23T14:14:30.657Z"
   },
   {
    "duration": 257,
    "start_time": "2022-01-23T14:26:54.155Z"
   },
   {
    "duration": 361,
    "start_time": "2022-01-23T14:26:58.149Z"
   },
   {
    "duration": 299,
    "start_time": "2022-01-23T14:27:03.399Z"
   },
   {
    "duration": 307,
    "start_time": "2022-01-23T14:30:55.454Z"
   },
   {
    "duration": 23,
    "start_time": "2022-01-23T14:32:15.783Z"
   },
   {
    "duration": 16,
    "start_time": "2022-01-23T14:32:18.137Z"
   },
   {
    "duration": 295,
    "start_time": "2022-01-23T14:32:22.781Z"
   },
   {
    "duration": 15,
    "start_time": "2022-01-23T14:49:44.319Z"
   },
   {
    "duration": 153,
    "start_time": "2022-01-23T14:59:25.589Z"
   },
   {
    "duration": 157,
    "start_time": "2022-01-23T14:59:48.329Z"
   },
   {
    "duration": 76,
    "start_time": "2022-01-23T15:00:06.073Z"
   },
   {
    "duration": 71,
    "start_time": "2022-01-23T15:00:13.881Z"
   },
   {
    "duration": 157,
    "start_time": "2022-01-23T15:00:31.359Z"
   },
   {
    "duration": 168,
    "start_time": "2022-01-23T15:01:20.626Z"
   },
   {
    "duration": 15,
    "start_time": "2022-01-23T15:11:45.649Z"
   },
   {
    "duration": 241,
    "start_time": "2022-01-23T15:12:06.380Z"
   },
   {
    "duration": 185,
    "start_time": "2022-01-23T15:12:13.314Z"
   },
   {
    "duration": 188,
    "start_time": "2022-01-23T15:12:25.239Z"
   },
   {
    "duration": 165,
    "start_time": "2022-01-23T15:12:49.451Z"
   },
   {
    "duration": 226,
    "start_time": "2022-01-23T15:13:12.790Z"
   },
   {
    "duration": 212,
    "start_time": "2022-01-23T15:15:21.263Z"
   },
   {
    "duration": 14,
    "start_time": "2022-01-23T15:24:33.454Z"
   },
   {
    "duration": 14,
    "start_time": "2022-01-23T15:24:42.835Z"
   },
   {
    "duration": 250,
    "start_time": "2022-01-23T15:25:10.566Z"
   },
   {
    "duration": 15,
    "start_time": "2022-01-23T15:25:18.145Z"
   },
   {
    "duration": 4,
    "start_time": "2022-01-23T15:25:34.684Z"
   },
   {
    "duration": 4,
    "start_time": "2022-01-23T15:25:34.690Z"
   },
   {
    "duration": 49,
    "start_time": "2022-01-23T15:25:34.696Z"
   },
   {
    "duration": 9,
    "start_time": "2022-01-23T15:25:34.747Z"
   },
   {
    "duration": 4,
    "start_time": "2022-01-23T15:25:34.758Z"
   },
   {
    "duration": 8,
    "start_time": "2022-01-23T15:25:34.764Z"
   },
   {
    "duration": 8,
    "start_time": "2022-01-23T15:25:34.773Z"
   },
   {
    "duration": 9,
    "start_time": "2022-01-23T15:25:34.812Z"
   },
   {
    "duration": 8,
    "start_time": "2022-01-23T15:25:34.824Z"
   },
   {
    "duration": 13,
    "start_time": "2022-01-23T15:25:34.834Z"
   },
   {
    "duration": 7,
    "start_time": "2022-01-23T15:25:34.849Z"
   },
   {
    "duration": 4,
    "start_time": "2022-01-23T15:25:34.858Z"
   },
   {
    "duration": 9,
    "start_time": "2022-01-23T15:25:34.864Z"
   },
   {
    "duration": 10,
    "start_time": "2022-01-23T15:25:34.913Z"
   },
   {
    "duration": 5,
    "start_time": "2022-01-23T15:25:34.925Z"
   },
   {
    "duration": 7,
    "start_time": "2022-01-23T15:25:34.932Z"
   },
   {
    "duration": 12,
    "start_time": "2022-01-23T15:25:34.940Z"
   },
   {
    "duration": 306,
    "start_time": "2022-01-23T15:25:34.954Z"
   },
   {
    "duration": 13,
    "start_time": "2022-01-23T15:25:35.262Z"
   },
   {
    "duration": 43,
    "start_time": "2022-01-23T15:25:35.277Z"
   },
   {
    "duration": 12,
    "start_time": "2022-01-23T15:25:35.322Z"
   },
   {
    "duration": 332,
    "start_time": "2022-01-23T15:25:35.336Z"
   },
   {
    "duration": 24,
    "start_time": "2022-01-23T15:25:35.670Z"
   },
   {
    "duration": 24,
    "start_time": "2022-01-23T15:25:35.696Z"
   },
   {
    "duration": 244,
    "start_time": "2022-01-23T15:25:35.722Z"
   },
   {
    "duration": 26,
    "start_time": "2022-01-23T15:25:35.968Z"
   },
   {
    "duration": 11,
    "start_time": "2022-01-23T15:25:36.012Z"
   },
   {
    "duration": 237,
    "start_time": "2022-01-23T15:25:36.026Z"
   },
   {
    "duration": 22,
    "start_time": "2022-01-23T15:25:36.264Z"
   },
   {
    "duration": 31,
    "start_time": "2022-01-23T15:25:36.288Z"
   },
   {
    "duration": 292,
    "start_time": "2022-01-23T15:25:36.320Z"
   },
   {
    "duration": 511,
    "start_time": "2022-01-23T15:25:36.614Z"
   },
   {
    "duration": 24,
    "start_time": "2022-01-23T15:25:37.127Z"
   },
   {
    "duration": 398,
    "start_time": "2022-01-23T15:25:37.153Z"
   },
   {
    "duration": 5,
    "start_time": "2022-01-23T15:25:37.553Z"
   },
   {
    "duration": 341,
    "start_time": "2022-01-23T15:25:37.559Z"
   },
   {
    "duration": 4,
    "start_time": "2022-01-23T15:25:37.902Z"
   },
   {
    "duration": 7,
    "start_time": "2022-01-23T15:25:37.912Z"
   },
   {
    "duration": 7,
    "start_time": "2022-01-23T15:25:37.921Z"
   },
   {
    "duration": 16,
    "start_time": "2022-01-23T15:25:37.929Z"
   },
   {
    "duration": 251,
    "start_time": "2022-01-23T15:25:37.948Z"
   },
   {
    "duration": 23,
    "start_time": "2022-01-23T15:25:38.200Z"
   },
   {
    "duration": 14,
    "start_time": "2022-01-23T15:25:38.226Z"
   },
   {
    "duration": 163,
    "start_time": "2022-01-23T15:25:38.242Z"
   },
   {
    "duration": 14,
    "start_time": "2022-01-23T15:25:38.406Z"
   },
   {
    "duration": 153,
    "start_time": "2022-01-23T15:25:38.421Z"
   },
   {
    "duration": 13,
    "start_time": "2022-01-23T15:25:38.576Z"
   },
   {
    "duration": 161,
    "start_time": "2022-01-23T15:25:38.590Z"
   },
   {
    "duration": 13,
    "start_time": "2022-01-23T15:25:38.752Z"
   },
   {
    "duration": 12,
    "start_time": "2022-01-23T15:25:38.767Z"
   },
   {
    "duration": 36,
    "start_time": "2022-01-23T15:25:38.781Z"
   },
   {
    "duration": 225,
    "start_time": "2022-01-23T15:25:38.819Z"
   },
   {
    "duration": 230,
    "start_time": "2022-01-23T15:25:39.046Z"
   },
   {
    "duration": 203,
    "start_time": "2022-01-23T15:25:39.278Z"
   },
   {
    "duration": 10,
    "start_time": "2022-01-23T15:25:39.483Z"
   },
   {
    "duration": 23,
    "start_time": "2022-01-23T15:25:39.495Z"
   },
   {
    "duration": 6,
    "start_time": "2022-01-23T15:25:39.521Z"
   },
   {
    "duration": 9,
    "start_time": "2022-01-23T15:25:39.529Z"
   },
   {
    "duration": 12,
    "start_time": "2022-01-23T15:25:39.539Z"
   },
   {
    "duration": 9,
    "start_time": "2022-01-23T15:25:39.553Z"
   },
   {
    "duration": 16,
    "start_time": "2022-01-23T15:29:04.886Z"
   },
   {
    "duration": 316,
    "start_time": "2022-01-23T15:32:48.886Z"
   },
   {
    "duration": 3,
    "start_time": "2022-01-23T15:37:37.547Z"
   },
   {
    "duration": 6,
    "start_time": "2022-01-23T15:37:37.552Z"
   },
   {
    "duration": 63,
    "start_time": "2022-01-23T15:37:37.560Z"
   },
   {
    "duration": 12,
    "start_time": "2022-01-23T15:37:37.626Z"
   },
   {
    "duration": 4,
    "start_time": "2022-01-23T15:37:37.640Z"
   },
   {
    "duration": 9,
    "start_time": "2022-01-23T15:37:37.646Z"
   },
   {
    "duration": 9,
    "start_time": "2022-01-23T15:37:37.657Z"
   },
   {
    "duration": 58,
    "start_time": "2022-01-23T15:37:37.668Z"
   },
   {
    "duration": 9,
    "start_time": "2022-01-23T15:37:37.731Z"
   },
   {
    "duration": 12,
    "start_time": "2022-01-23T15:37:37.742Z"
   },
   {
    "duration": 7,
    "start_time": "2022-01-23T15:37:37.756Z"
   },
   {
    "duration": 5,
    "start_time": "2022-01-23T15:37:37.765Z"
   },
   {
    "duration": 6,
    "start_time": "2022-01-23T15:37:37.772Z"
   },
   {
    "duration": 43,
    "start_time": "2022-01-23T15:37:37.780Z"
   },
   {
    "duration": 6,
    "start_time": "2022-01-23T15:37:37.825Z"
   },
   {
    "duration": 5,
    "start_time": "2022-01-23T15:37:37.833Z"
   },
   {
    "duration": 15,
    "start_time": "2022-01-23T15:37:37.839Z"
   },
   {
    "duration": 299,
    "start_time": "2022-01-23T15:37:37.856Z"
   },
   {
    "duration": 20,
    "start_time": "2022-01-23T15:37:38.158Z"
   },
   {
    "duration": 41,
    "start_time": "2022-01-23T15:37:38.180Z"
   },
   {
    "duration": 13,
    "start_time": "2022-01-23T15:37:38.224Z"
   },
   {
    "duration": 245,
    "start_time": "2022-01-23T15:37:38.239Z"
   },
   {
    "duration": 47,
    "start_time": "2022-01-23T15:37:38.485Z"
   },
   {
    "duration": 12,
    "start_time": "2022-01-23T15:37:38.533Z"
   },
   {
    "duration": 253,
    "start_time": "2022-01-23T15:37:38.547Z"
   },
   {
    "duration": 32,
    "start_time": "2022-01-23T15:37:38.802Z"
   },
   {
    "duration": 9,
    "start_time": "2022-01-23T15:37:38.839Z"
   },
   {
    "duration": 299,
    "start_time": "2022-01-23T15:37:38.850Z"
   },
   {
    "duration": 28,
    "start_time": "2022-01-23T15:37:39.151Z"
   },
   {
    "duration": 36,
    "start_time": "2022-01-23T15:37:39.181Z"
   },
   {
    "duration": 320,
    "start_time": "2022-01-23T15:37:39.219Z"
   },
   {
    "duration": 541,
    "start_time": "2022-01-23T15:37:39.541Z"
   },
   {
    "duration": 32,
    "start_time": "2022-01-23T15:37:40.085Z"
   },
   {
    "duration": 485,
    "start_time": "2022-01-23T15:37:40.120Z"
   },
   {
    "duration": 13,
    "start_time": "2022-01-23T15:37:40.607Z"
   },
   {
    "duration": 396,
    "start_time": "2022-01-23T15:37:40.623Z"
   },
   {
    "duration": 6,
    "start_time": "2022-01-23T15:37:41.024Z"
   },
   {
    "duration": 8,
    "start_time": "2022-01-23T15:37:41.032Z"
   },
   {
    "duration": 9,
    "start_time": "2022-01-23T15:37:41.042Z"
   },
   {
    "duration": 14,
    "start_time": "2022-01-23T15:37:41.053Z"
   },
   {
    "duration": 254,
    "start_time": "2022-01-23T15:37:41.069Z"
   },
   {
    "duration": 15,
    "start_time": "2022-01-23T15:37:41.325Z"
   },
   {
    "duration": 14,
    "start_time": "2022-01-23T15:37:41.341Z"
   },
   {
    "duration": 203,
    "start_time": "2022-01-23T15:37:41.357Z"
   },
   {
    "duration": 13,
    "start_time": "2022-01-23T15:37:41.561Z"
   },
   {
    "duration": 186,
    "start_time": "2022-01-23T15:37:41.576Z"
   },
   {
    "duration": 15,
    "start_time": "2022-01-23T15:37:41.765Z"
   },
   {
    "duration": 170,
    "start_time": "2022-01-23T15:37:41.782Z"
   },
   {
    "duration": 14,
    "start_time": "2022-01-23T15:37:41.954Z"
   },
   {
    "duration": 16,
    "start_time": "2022-01-23T15:37:41.970Z"
   },
   {
    "duration": 19,
    "start_time": "2022-01-23T15:37:42.012Z"
   },
   {
    "duration": 240,
    "start_time": "2022-01-23T15:37:42.034Z"
   },
   {
    "duration": 217,
    "start_time": "2022-01-23T15:37:42.276Z"
   },
   {
    "duration": 228,
    "start_time": "2022-01-23T15:37:42.495Z"
   },
   {
    "duration": 14,
    "start_time": "2022-01-23T15:37:42.724Z"
   },
   {
    "duration": 10,
    "start_time": "2022-01-23T15:37:42.741Z"
   },
   {
    "duration": 5,
    "start_time": "2022-01-23T15:37:42.753Z"
   },
   {
    "duration": 7,
    "start_time": "2022-01-23T15:37:42.760Z"
   },
   {
    "duration": 7,
    "start_time": "2022-01-23T15:37:42.769Z"
   },
   {
    "duration": 7,
    "start_time": "2022-01-23T15:37:42.812Z"
   },
   {
    "duration": 273,
    "start_time": "2022-01-23T15:40:59.474Z"
   },
   {
    "duration": 307,
    "start_time": "2022-01-23T15:41:05.332Z"
   },
   {
    "duration": 243,
    "start_time": "2022-01-23T15:41:21.815Z"
   },
   {
    "duration": 223,
    "start_time": "2022-01-23T15:41:36.056Z"
   },
   {
    "duration": 185,
    "start_time": "2022-01-23T15:41:41.942Z"
   },
   {
    "duration": 255,
    "start_time": "2022-01-23T15:41:56.197Z"
   },
   {
    "duration": 224,
    "start_time": "2022-01-23T15:42:57.633Z"
   },
   {
    "duration": 206,
    "start_time": "2022-01-23T15:47:34.385Z"
   },
   {
    "duration": 224,
    "start_time": "2022-01-23T15:48:07.961Z"
   },
   {
    "duration": 229,
    "start_time": "2022-01-23T15:48:38.405Z"
   },
   {
    "duration": 226,
    "start_time": "2022-01-23T15:48:42.923Z"
   },
   {
    "duration": 1041,
    "start_time": "2022-01-24T15:47:29.844Z"
   },
   {
    "duration": 11,
    "start_time": "2022-01-24T15:47:30.887Z"
   },
   {
    "duration": 87,
    "start_time": "2022-01-24T15:47:30.900Z"
   },
   {
    "duration": 13,
    "start_time": "2022-01-24T15:47:30.990Z"
   },
   {
    "duration": 12,
    "start_time": "2022-01-24T15:47:31.005Z"
   },
   {
    "duration": 13,
    "start_time": "2022-01-24T15:47:31.019Z"
   },
   {
    "duration": 14,
    "start_time": "2022-01-24T15:47:31.034Z"
   },
   {
    "duration": 12,
    "start_time": "2022-01-24T15:47:31.051Z"
   },
   {
    "duration": 21,
    "start_time": "2022-01-24T15:47:31.066Z"
   },
   {
    "duration": 15,
    "start_time": "2022-01-24T15:47:31.089Z"
   },
   {
    "duration": 12,
    "start_time": "2022-01-24T15:47:31.106Z"
   },
   {
    "duration": 9,
    "start_time": "2022-01-24T15:47:31.119Z"
   },
   {
    "duration": 13,
    "start_time": "2022-01-24T15:47:31.129Z"
   },
   {
    "duration": 16,
    "start_time": "2022-01-24T15:47:31.144Z"
   },
   {
    "duration": 6,
    "start_time": "2022-01-24T15:47:31.162Z"
   },
   {
    "duration": 13,
    "start_time": "2022-01-24T15:47:31.169Z"
   },
   {
    "duration": 26,
    "start_time": "2022-01-24T15:47:31.184Z"
   },
   {
    "duration": 278,
    "start_time": "2022-01-24T15:47:31.212Z"
   },
   {
    "duration": 13,
    "start_time": "2022-01-24T15:47:31.492Z"
   },
   {
    "duration": 24,
    "start_time": "2022-01-24T15:47:31.506Z"
   },
   {
    "duration": 11,
    "start_time": "2022-01-24T15:47:31.532Z"
   },
   {
    "duration": 264,
    "start_time": "2022-01-24T15:47:31.545Z"
   },
   {
    "duration": 24,
    "start_time": "2022-01-24T15:47:31.813Z"
   },
   {
    "duration": 12,
    "start_time": "2022-01-24T15:47:31.839Z"
   },
   {
    "duration": 258,
    "start_time": "2022-01-24T15:47:31.852Z"
   },
   {
    "duration": 23,
    "start_time": "2022-01-24T15:47:32.112Z"
   },
   {
    "duration": 11,
    "start_time": "2022-01-24T15:47:32.137Z"
   },
   {
    "duration": 257,
    "start_time": "2022-01-24T15:47:32.149Z"
   },
   {
    "duration": 22,
    "start_time": "2022-01-24T15:47:32.408Z"
   },
   {
    "duration": 14,
    "start_time": "2022-01-24T15:47:32.432Z"
   },
   {
    "duration": 317,
    "start_time": "2022-01-24T15:47:32.448Z"
   },
   {
    "duration": 518,
    "start_time": "2022-01-24T15:47:32.766Z"
   },
   {
    "duration": 28,
    "start_time": "2022-01-24T15:47:33.286Z"
   },
   {
    "duration": 421,
    "start_time": "2022-01-24T15:47:33.316Z"
   },
   {
    "duration": 5,
    "start_time": "2022-01-24T15:47:33.739Z"
   },
   {
    "duration": 351,
    "start_time": "2022-01-24T15:47:33.746Z"
   },
   {
    "duration": 4,
    "start_time": "2022-01-24T15:47:34.099Z"
   },
   {
    "duration": 11,
    "start_time": "2022-01-24T15:47:34.104Z"
   },
   {
    "duration": 10,
    "start_time": "2022-01-24T15:47:34.116Z"
   },
   {
    "duration": 17,
    "start_time": "2022-01-24T15:47:34.127Z"
   },
   {
    "duration": 301,
    "start_time": "2022-01-24T15:47:34.145Z"
   },
   {
    "duration": 16,
    "start_time": "2022-01-24T15:47:34.449Z"
   },
   {
    "duration": 33,
    "start_time": "2022-01-24T15:47:34.467Z"
   },
   {
    "duration": 157,
    "start_time": "2022-01-24T15:47:34.502Z"
   },
   {
    "duration": 16,
    "start_time": "2022-01-24T15:47:34.661Z"
   },
   {
    "duration": 173,
    "start_time": "2022-01-24T15:47:34.679Z"
   },
   {
    "duration": 16,
    "start_time": "2022-01-24T15:47:34.854Z"
   },
   {
    "duration": 173,
    "start_time": "2022-01-24T15:47:34.872Z"
   },
   {
    "duration": 14,
    "start_time": "2022-01-24T15:47:35.048Z"
   },
   {
    "duration": 34,
    "start_time": "2022-01-24T15:47:35.065Z"
   },
   {
    "duration": 18,
    "start_time": "2022-01-24T15:47:35.101Z"
   },
   {
    "duration": 221,
    "start_time": "2022-01-24T15:47:35.121Z"
   },
   {
    "duration": 255,
    "start_time": "2022-01-24T15:47:35.344Z"
   },
   {
    "duration": 208,
    "start_time": "2022-01-24T15:47:35.601Z"
   },
   {
    "duration": 233,
    "start_time": "2022-01-24T15:47:35.811Z"
   },
   {
    "duration": 213,
    "start_time": "2022-01-24T15:47:36.047Z"
   },
   {
    "duration": 220,
    "start_time": "2022-01-24T15:47:36.261Z"
   },
   {
    "duration": 16,
    "start_time": "2022-01-24T15:47:36.483Z"
   },
   {
    "duration": 10,
    "start_time": "2022-01-24T15:47:36.500Z"
   },
   {
    "duration": 6,
    "start_time": "2022-01-24T15:47:36.512Z"
   },
   {
    "duration": 15,
    "start_time": "2022-01-24T15:47:36.519Z"
   },
   {
    "duration": 14,
    "start_time": "2022-01-24T15:47:36.536Z"
   },
   {
    "duration": 9,
    "start_time": "2022-01-24T15:47:36.552Z"
   },
   {
    "duration": 3,
    "start_time": "2022-01-24T15:48:32.015Z"
   },
   {
    "duration": 287,
    "start_time": "2022-01-24T16:05:46.273Z"
   }
  ],
  "kernelspec": {
   "display_name": "Python 3 (ipykernel)",
   "language": "python",
   "name": "python3"
  },
  "language_info": {
   "codemirror_mode": {
    "name": "ipython",
    "version": 3
   },
   "file_extension": ".py",
   "mimetype": "text/x-python",
   "name": "python",
   "nbconvert_exporter": "python",
   "pygments_lexer": "ipython3",
   "version": "3.9.5"
  },
  "toc": {
   "base_numbering": 1,
   "nav_menu": {},
   "number_sections": true,
   "sideBar": true,
   "skip_h1_title": true,
   "title_cell": "Cодержание",
   "title_sidebar": "Contents",
   "toc_cell": true,
   "toc_position": {},
   "toc_section_display": true,
   "toc_window_display": false
  }
 },
 "nbformat": 4,
 "nbformat_minor": 2
}

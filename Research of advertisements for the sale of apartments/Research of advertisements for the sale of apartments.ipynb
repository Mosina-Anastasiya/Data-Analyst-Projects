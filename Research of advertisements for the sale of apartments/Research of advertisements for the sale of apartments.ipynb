{
 "cells": [
  {
   "cell_type": "markdown",
   "metadata": {
    "toc": true
   },
   "source": [
    "<h1>Содержание<span class=\"tocSkip\"></span></h1>\n",
    "<div class=\"toc\"><ul class=\"toc-item\"><li><span><a href=\"#Изучение-данных-из-файла\" data-toc-modified-id=\"Изучение-данных-из-файла-1\"><span class=\"toc-item-num\">1&nbsp;&nbsp;</span>Изучение данных из файла</a></span><ul class=\"toc-item\"><li><span><a href=\"#Вывод\" data-toc-modified-id=\"Вывод-1.1\"><span class=\"toc-item-num\">1.1&nbsp;&nbsp;</span>Вывод</a></span></li></ul></li><li><span><a href=\"#Предобработка-данных\" data-toc-modified-id=\"Предобработка-данных-2\"><span class=\"toc-item-num\">2&nbsp;&nbsp;</span>Предобработка данных</a></span><ul class=\"toc-item\"><li><span><a href=\"#Обработка-пропущенных-значений\" data-toc-modified-id=\"Обработка-пропущенных-значений-2.1\"><span class=\"toc-item-num\">2.1&nbsp;&nbsp;</span>Обработка пропущенных значений</a></span></li><li><span><a href=\"#Замена-типа-данных\" data-toc-modified-id=\"Замена-типа-данных-2.2\"><span class=\"toc-item-num\">2.2&nbsp;&nbsp;</span>Замена типа данных</a></span></li><li><span><a href=\"#Вывод\" data-toc-modified-id=\"Вывод-2.3\"><span class=\"toc-item-num\">2.3&nbsp;&nbsp;</span>Вывод</a></span></li></ul></li><li><span><a href=\"#Расчёты-и-добавление-результатов-в-таблицу\" data-toc-modified-id=\"Расчёты-и-добавление-результатов-в-таблицу-3\"><span class=\"toc-item-num\">3&nbsp;&nbsp;</span>Расчёты и добавление результатов в таблицу</a></span><ul class=\"toc-item\"><li><span><a href=\"#Добавляем-стоимость-квадратного-метра\" data-toc-modified-id=\"Добавляем-стоимость-квадратного-метра-3.1\"><span class=\"toc-item-num\">3.1&nbsp;&nbsp;</span>Добавляем стоимость квадратного метра</a></span></li><li><span><a href=\"#Добавляем-день-недели,-месяц-и-год-публикации-объявления-в-новые-столбцы\" data-toc-modified-id=\"Добавляем-день-недели,-месяц-и-год-публикации-объявления-в-новые-столбцы-3.2\"><span class=\"toc-item-num\">3.2&nbsp;&nbsp;</span>Добавляем день недели, месяц и год публикации объявления в новые столбцы</a></span></li><li><span><a href=\"#Добавляем-этаж-квартиры;-варианты-—-первый,-последний,-другой;\" data-toc-modified-id=\"Добавляем-этаж-квартиры;-варианты-—-первый,-последний,-другой;-3.3\"><span class=\"toc-item-num\">3.3&nbsp;&nbsp;</span>Добавляем этаж квартиры; варианты — первый, последний, другой;</a></span></li><li><span><a href=\"#Добавляем-соотношение-жилой-и-общей-площади,-а-также-отношение-площади-кухни-к-общей.\" data-toc-modified-id=\"Добавляем-соотношение-жилой-и-общей-площади,-а-также-отношение-площади-кухни-к-общей.-3.4\"><span class=\"toc-item-num\">3.4&nbsp;&nbsp;</span>Добавляем соотношение жилой и общей площади, а также отношение площади кухни к общей.</a></span></li></ul></li><li><span><a href=\"#Исследовательский-анализ-данных\" data-toc-modified-id=\"Исследовательский-анализ-данных-4\"><span class=\"toc-item-num\">4&nbsp;&nbsp;</span>Исследовательский анализ данных</a></span><ul class=\"toc-item\"><li><span><a href=\"#Исследование-площади\" data-toc-modified-id=\"Исследование-площади-4.1\"><span class=\"toc-item-num\">4.1&nbsp;&nbsp;</span>Исследование площади</a></span></li><li><span><a href=\"#Исследование-цены\" data-toc-modified-id=\"Исследование-цены-4.2\"><span class=\"toc-item-num\">4.2&nbsp;&nbsp;</span>Исследование цены</a></span></li><li><span><a href=\"#Исследование-комнат\" data-toc-modified-id=\"Исследование-комнат-4.3\"><span class=\"toc-item-num\">4.3&nbsp;&nbsp;</span>Исследование комнат</a></span></li><li><span><a href=\"#Исследуем-высоту-потолков\" data-toc-modified-id=\"Исследуем-высоту-потолков-4.4\"><span class=\"toc-item-num\">4.4&nbsp;&nbsp;</span>Исследуем высоту потолков</a></span></li><li><span><a href=\"#Исследуем-время-продажи-квартиры\" data-toc-modified-id=\"Исследуем-время-продажи-квартиры-4.5\"><span class=\"toc-item-num\">4.5&nbsp;&nbsp;</span>Исследуем время продажи квартиры</a></span></li><li><span><a href=\"#Убираем-редкие-и-выбивающиеся-значения\" data-toc-modified-id=\"Убираем-редкие-и-выбивающиеся-значения-4.6\"><span class=\"toc-item-num\">4.6&nbsp;&nbsp;</span>Убираем редкие и выбивающиеся значения</a></span></li></ul></li><li><span><a href=\"#Проверяем-зависмости\" data-toc-modified-id=\"Проверяем-зависмости-5\"><span class=\"toc-item-num\">5&nbsp;&nbsp;</span>Проверяем зависмости</a></span><ul class=\"toc-item\"><li><span><a href=\"#Проверяем-зависимость-стоимости-квартиры-от-цены-квадратного-метра-и-расстояния-до-центра-города\" data-toc-modified-id=\"Проверяем-зависимость-стоимости-квартиры-от-цены-квадратного-метра-и-расстояния-до-центра-города-5.1\"><span class=\"toc-item-num\">5.1&nbsp;&nbsp;</span>Проверяем зависимость стоимости квартиры от цены квадратного метра и расстояния до центра города</a></span></li><li><span><a href=\"#Проверяем-зависимость-стоимости-квартиры-от-этажа\" data-toc-modified-id=\"Проверяем-зависимость-стоимости-квартиры-от-этажа-5.2\"><span class=\"toc-item-num\">5.2&nbsp;&nbsp;</span>Проверяем зависимость стоимости квартиры от этажа</a></span></li><li><span><a href=\"#Проверяем-зависимость-стоимости-квартиры-от-дня-недели\" data-toc-modified-id=\"Проверяем-зависимость-стоимости-квартиры-от-дня-недели-5.3\"><span class=\"toc-item-num\">5.3&nbsp;&nbsp;</span>Проверяем зависимость стоимости квартиры от дня недели</a></span></li><li><span><a href=\"#Проверяем-зависимость-стоимости-квартиры-от-месяца\" data-toc-modified-id=\"Проверяем-зависимость-стоимости-квартиры-от-месяца-5.4\"><span class=\"toc-item-num\">5.4&nbsp;&nbsp;</span>Проверяем зависимость стоимости квартиры от месяца</a></span></li><li><span><a href=\"#Проверяем-зависимость-стоимости-квартиры-от-года\" data-toc-modified-id=\"Проверяем-зависимость-стоимости-квартиры-от-года-5.5\"><span class=\"toc-item-num\">5.5&nbsp;&nbsp;</span>Проверяем зависимость стоимости квартиры от года</a></span></li><li><span><a href=\"#Проверяем-зависимость-стоимости-квартиры-от-количества-комнат\" data-toc-modified-id=\"Проверяем-зависимость-стоимости-квартиры-от-количества-комнат-5.6\"><span class=\"toc-item-num\">5.6&nbsp;&nbsp;</span>Проверяем зависимость стоимости квартиры от количества комнат</a></span></li><li><span><a href=\"#Исследования-с-населенными-пунктами\" data-toc-modified-id=\"Исследования-с-населенными-пунктами-5.7\"><span class=\"toc-item-num\">5.7&nbsp;&nbsp;</span>Исследования с населенными пунктами</a></span></li><li><span><a href=\"#Изучим-предложения-квартир\" data-toc-modified-id=\"Изучим-предложения-квартир-5.8\"><span class=\"toc-item-num\">5.8&nbsp;&nbsp;</span>Изучим предложения квартир</a></span></li></ul></li><li><span><a href=\"#Выделение-сегмента-и-анализ-параметров\" data-toc-modified-id=\"Выделение-сегмента-и-анализ-параметров-6\"><span class=\"toc-item-num\">6&nbsp;&nbsp;</span>Выделение сегмента и анализ параметров</a></span><ul class=\"toc-item\"><li><span><a href=\"#Анализируем-площадь-и-сравниваем-с-первоначальным-исследованием\" data-toc-modified-id=\"Анализируем-площадь-и-сравниваем-с-первоначальным-исследованием-6.1\"><span class=\"toc-item-num\">6.1&nbsp;&nbsp;</span>Анализируем площадь и сравниваем с первоначальным исследованием</a></span></li><li><span><a href=\"#Анализируем-цену-и-сравниваем-с-первоначальным-исследованием\" data-toc-modified-id=\"Анализируем-цену-и-сравниваем-с-первоначальным-исследованием-6.2\"><span class=\"toc-item-num\">6.2&nbsp;&nbsp;</span>Анализируем цену и сравниваем с первоначальным исследованием</a></span></li><li><span><a href=\"#Анализируем-количетво-комнат-и-сравниваем-с-первоначальным-исследованием\" data-toc-modified-id=\"Анализируем-количетво-комнат-и-сравниваем-с-первоначальным-исследованием-6.3\"><span class=\"toc-item-num\">6.3&nbsp;&nbsp;</span>Анализируем количетво комнат и сравниваем с первоначальным исследованием</a></span></li><li><span><a href=\"#Анализируем-высоту-потолков-и-сравниваем-с-изначальным-исследованием\" data-toc-modified-id=\"Анализируем-высоту-потолков-и-сравниваем-с-изначальным-исследованием-6.4\"><span class=\"toc-item-num\">6.4&nbsp;&nbsp;</span>Анализируем высоту потолков и сравниваем с изначальным исследованием</a></span></li><li><span><a href=\"#Зависимость-цены-от-числа-комнат\" data-toc-modified-id=\"Зависимость-цены-от-числа-комнат-6.5\"><span class=\"toc-item-num\">6.5&nbsp;&nbsp;</span>Зависимость цены от числа комнат</a></span></li><li><span><a href=\"#Зависимость-цены-от-этажа\" data-toc-modified-id=\"Зависимость-цены-от-этажа-6.6\"><span class=\"toc-item-num\">6.6&nbsp;&nbsp;</span>Зависимость цены от этажа</a></span></li><li><span><a href=\"#Зависимость-цены-от-удаленности-от-центра\" data-toc-modified-id=\"Зависимость-цены-от-удаленности-от-центра-6.7\"><span class=\"toc-item-num\">6.7&nbsp;&nbsp;</span>Зависимость цены от удаленности от центра</a></span></li><li><span><a href=\"#Зависимость-цены-от-даты-размещения-объявления\" data-toc-modified-id=\"Зависимость-цены-от-даты-размещения-объявления-6.8\"><span class=\"toc-item-num\">6.8&nbsp;&nbsp;</span>Зависимость цены от даты размещения объявления</a></span></li></ul></li><li><span><a href=\"#Общий-вывод\" data-toc-modified-id=\"Общий-вывод-7\"><span class=\"toc-item-num\">7&nbsp;&nbsp;</span>Общий вывод</a></span></li></ul></div>"
   ]
  },
  {
   "cell_type": "markdown",
   "metadata": {},
   "source": [
    "# Исследование объявлений о продаже квартир\n",
    "\n",
    "В вашем распоряжении данные сервиса Яндекс.Недвижимость — архив объявлений о продаже квартир в Санкт-Петербурге и соседних населённых пунктах за несколько лет. Нужно научиться определять рыночную стоимость объектов недвижимости. Ваша задача — установить параметры. Это позволит построить автоматизированную систему: она отследит аномалии и мошенническую деятельность. \n",
    "\n",
    "По каждой квартире на продажу доступны два вида данных. Первые вписаны пользователем, вторые получены автоматически на основе картографических данных. Например, расстояние до центра, аэропорта, ближайшего парка и водоёма. "
   ]
  },
  {
   "cell_type": "markdown",
   "metadata": {},
   "source": [
    "## Изучение данных из файла"
   ]
  },
  {
   "cell_type": "code",
   "execution_count": 1,
   "metadata": {},
   "outputs": [],
   "source": [
    "import warnings\n",
    "\n",
    "warnings.simplefilter('ignore')"
   ]
  },
  {
   "cell_type": "code",
   "execution_count": 2,
   "metadata": {},
   "outputs": [
    {
     "name": "stdout",
     "output_type": "stream",
     "text": [
      "      total_images\\tlast_price\\ttotal_area\\tfirst_day_exposition\\trooms\\tceiling_height\\tfloors_total\\tliving_area\\tfloor\\tis_apartment\\tstudio\\topen_plan\\tkitchen_area\\tbalcony\\tlocality_name\\tairports_nearest\\tcityCenters_nearest\\tparks_around3000\\tparks_nearest\\tponds_around3000\\tponds_nearest\\tdays_exposition\n",
      "0      20\\t13000000.0\\t108.0\\t2019-03-07T00:00:00\\t3\\...                                                                                                                                                                                                                                                                  \n",
      "1      7\\t3350000.0\\t40.4\\t2018-12-04T00:00:00\\t1\\t\\t...                                                                                                                                                                                                                                                                  \n",
      "2      10\\t5196000.0\\t56.0\\t2015-08-20T00:00:00\\t2\\t\\...                                                                                                                                                                                                                                                                  \n",
      "3      0\\t64900000.0\\t159.0\\t2015-07-24T00:00:00\\t3\\t...                                                                                                                                                                                                                                                                  \n",
      "4      2\\t10000000.0\\t100.0\\t2018-06-19T00:00:00\\t2\\t...                                                                                                                                                                                                                                                                  \n",
      "...                                                  ...                                                                                                                                                                                                                                                                  \n",
      "23694  9\\t9700000.0\\t133.81\\t2017-03-21T00:00:00\\t3\\t...                                                                                                                                                                                                                                                                  \n",
      "23695  14\\t3100000.0\\t59.0\\t2018-01-15T00:00:00\\t3\\t\\...                                                                                                                                                                                                                                                                  \n",
      "23696  18\\t2500000.0\\t56.7\\t2018-02-11T00:00:00\\t2\\t\\...                                                                                                                                                                                                                                                                  \n",
      "23697  13\\t11475000.0\\t76.75\\t2017-03-28T00:00:00\\t2\\...                                                                                                                                                                                                                                                                  \n",
      "23698  4\\t1350000.0\\t32.3\\t2017-07-21T00:00:00\\t1\\t2....                                                                                                                                                                                                                                                                  \n",
      "\n",
      "[23699 rows x 1 columns]\n"
     ]
    }
   ],
   "source": [
    "# импортируем библиотеку\n",
    "import pandas as pd\n",
    "# открываем файл\n",
    "data = pd.read_csv('/datasets/real_estate_data.csv')\n",
    "# печатаем\n",
    "print(data)\n",
    "# упс, данные склеились в одну строку"
   ]
  },
  {
   "cell_type": "code",
   "execution_count": 3,
   "metadata": {},
   "outputs": [
    {
     "data": {
      "text/html": [
       "<div>\n",
       "<style scoped>\n",
       "    .dataframe tbody tr th:only-of-type {\n",
       "        vertical-align: middle;\n",
       "    }\n",
       "\n",
       "    .dataframe tbody tr th {\n",
       "        vertical-align: top;\n",
       "    }\n",
       "\n",
       "    .dataframe thead th {\n",
       "        text-align: right;\n",
       "    }\n",
       "</style>\n",
       "<table border=\"1\" class=\"dataframe\">\n",
       "  <thead>\n",
       "    <tr style=\"text-align: right;\">\n",
       "      <th></th>\n",
       "      <th>total_images</th>\n",
       "      <th>last_price</th>\n",
       "      <th>total_area</th>\n",
       "      <th>first_day_exposition</th>\n",
       "      <th>rooms</th>\n",
       "      <th>ceiling_height</th>\n",
       "      <th>floors_total</th>\n",
       "      <th>living_area</th>\n",
       "      <th>floor</th>\n",
       "      <th>is_apartment</th>\n",
       "      <th>...</th>\n",
       "      <th>kitchen_area</th>\n",
       "      <th>balcony</th>\n",
       "      <th>locality_name</th>\n",
       "      <th>airports_nearest</th>\n",
       "      <th>cityCenters_nearest</th>\n",
       "      <th>parks_around3000</th>\n",
       "      <th>parks_nearest</th>\n",
       "      <th>ponds_around3000</th>\n",
       "      <th>ponds_nearest</th>\n",
       "      <th>days_exposition</th>\n",
       "    </tr>\n",
       "  </thead>\n",
       "  <tbody>\n",
       "    <tr>\n",
       "      <th>0</th>\n",
       "      <td>20</td>\n",
       "      <td>13000000.0</td>\n",
       "      <td>108.0</td>\n",
       "      <td>2019-03-07T00:00:00</td>\n",
       "      <td>3</td>\n",
       "      <td>2.7</td>\n",
       "      <td>16.0</td>\n",
       "      <td>51.0</td>\n",
       "      <td>8</td>\n",
       "      <td>NaN</td>\n",
       "      <td>...</td>\n",
       "      <td>25.0</td>\n",
       "      <td>NaN</td>\n",
       "      <td>Санкт-Петербург</td>\n",
       "      <td>18863.0</td>\n",
       "      <td>16028.0</td>\n",
       "      <td>1.0</td>\n",
       "      <td>482.0</td>\n",
       "      <td>2.0</td>\n",
       "      <td>755.0</td>\n",
       "      <td>NaN</td>\n",
       "    </tr>\n",
       "    <tr>\n",
       "      <th>1</th>\n",
       "      <td>7</td>\n",
       "      <td>3350000.0</td>\n",
       "      <td>40.4</td>\n",
       "      <td>2018-12-04T00:00:00</td>\n",
       "      <td>1</td>\n",
       "      <td>NaN</td>\n",
       "      <td>11.0</td>\n",
       "      <td>18.6</td>\n",
       "      <td>1</td>\n",
       "      <td>NaN</td>\n",
       "      <td>...</td>\n",
       "      <td>11.0</td>\n",
       "      <td>2.0</td>\n",
       "      <td>посёлок Шушары</td>\n",
       "      <td>12817.0</td>\n",
       "      <td>18603.0</td>\n",
       "      <td>0.0</td>\n",
       "      <td>NaN</td>\n",
       "      <td>0.0</td>\n",
       "      <td>NaN</td>\n",
       "      <td>81.0</td>\n",
       "    </tr>\n",
       "    <tr>\n",
       "      <th>2</th>\n",
       "      <td>10</td>\n",
       "      <td>5196000.0</td>\n",
       "      <td>56.0</td>\n",
       "      <td>2015-08-20T00:00:00</td>\n",
       "      <td>2</td>\n",
       "      <td>NaN</td>\n",
       "      <td>5.0</td>\n",
       "      <td>34.3</td>\n",
       "      <td>4</td>\n",
       "      <td>NaN</td>\n",
       "      <td>...</td>\n",
       "      <td>8.3</td>\n",
       "      <td>0.0</td>\n",
       "      <td>Санкт-Петербург</td>\n",
       "      <td>21741.0</td>\n",
       "      <td>13933.0</td>\n",
       "      <td>1.0</td>\n",
       "      <td>90.0</td>\n",
       "      <td>2.0</td>\n",
       "      <td>574.0</td>\n",
       "      <td>558.0</td>\n",
       "    </tr>\n",
       "    <tr>\n",
       "      <th>3</th>\n",
       "      <td>0</td>\n",
       "      <td>64900000.0</td>\n",
       "      <td>159.0</td>\n",
       "      <td>2015-07-24T00:00:00</td>\n",
       "      <td>3</td>\n",
       "      <td>NaN</td>\n",
       "      <td>14.0</td>\n",
       "      <td>NaN</td>\n",
       "      <td>9</td>\n",
       "      <td>NaN</td>\n",
       "      <td>...</td>\n",
       "      <td>NaN</td>\n",
       "      <td>0.0</td>\n",
       "      <td>Санкт-Петербург</td>\n",
       "      <td>28098.0</td>\n",
       "      <td>6800.0</td>\n",
       "      <td>2.0</td>\n",
       "      <td>84.0</td>\n",
       "      <td>3.0</td>\n",
       "      <td>234.0</td>\n",
       "      <td>424.0</td>\n",
       "    </tr>\n",
       "    <tr>\n",
       "      <th>4</th>\n",
       "      <td>2</td>\n",
       "      <td>10000000.0</td>\n",
       "      <td>100.0</td>\n",
       "      <td>2018-06-19T00:00:00</td>\n",
       "      <td>2</td>\n",
       "      <td>3.03</td>\n",
       "      <td>14.0</td>\n",
       "      <td>32.0</td>\n",
       "      <td>13</td>\n",
       "      <td>NaN</td>\n",
       "      <td>...</td>\n",
       "      <td>41.0</td>\n",
       "      <td>NaN</td>\n",
       "      <td>Санкт-Петербург</td>\n",
       "      <td>31856.0</td>\n",
       "      <td>8098.0</td>\n",
       "      <td>2.0</td>\n",
       "      <td>112.0</td>\n",
       "      <td>1.0</td>\n",
       "      <td>48.0</td>\n",
       "      <td>121.0</td>\n",
       "    </tr>\n",
       "    <tr>\n",
       "      <th>...</th>\n",
       "      <td>...</td>\n",
       "      <td>...</td>\n",
       "      <td>...</td>\n",
       "      <td>...</td>\n",
       "      <td>...</td>\n",
       "      <td>...</td>\n",
       "      <td>...</td>\n",
       "      <td>...</td>\n",
       "      <td>...</td>\n",
       "      <td>...</td>\n",
       "      <td>...</td>\n",
       "      <td>...</td>\n",
       "      <td>...</td>\n",
       "      <td>...</td>\n",
       "      <td>...</td>\n",
       "      <td>...</td>\n",
       "      <td>...</td>\n",
       "      <td>...</td>\n",
       "      <td>...</td>\n",
       "      <td>...</td>\n",
       "      <td>...</td>\n",
       "    </tr>\n",
       "    <tr>\n",
       "      <th>23694</th>\n",
       "      <td>9</td>\n",
       "      <td>9700000.0</td>\n",
       "      <td>133.81</td>\n",
       "      <td>2017-03-21T00:00:00</td>\n",
       "      <td>3</td>\n",
       "      <td>3.7</td>\n",
       "      <td>5.0</td>\n",
       "      <td>73.3</td>\n",
       "      <td>3</td>\n",
       "      <td>NaN</td>\n",
       "      <td>...</td>\n",
       "      <td>13.83</td>\n",
       "      <td>NaN</td>\n",
       "      <td>Санкт-Петербург</td>\n",
       "      <td>24665.0</td>\n",
       "      <td>4232.0</td>\n",
       "      <td>1.0</td>\n",
       "      <td>796.0</td>\n",
       "      <td>3.0</td>\n",
       "      <td>381.0</td>\n",
       "      <td>NaN</td>\n",
       "    </tr>\n",
       "    <tr>\n",
       "      <th>23695</th>\n",
       "      <td>14</td>\n",
       "      <td>3100000.0</td>\n",
       "      <td>59.0</td>\n",
       "      <td>2018-01-15T00:00:00</td>\n",
       "      <td>3</td>\n",
       "      <td>NaN</td>\n",
       "      <td>5.0</td>\n",
       "      <td>38.0</td>\n",
       "      <td>4</td>\n",
       "      <td>NaN</td>\n",
       "      <td>...</td>\n",
       "      <td>8.5</td>\n",
       "      <td>NaN</td>\n",
       "      <td>Тосно</td>\n",
       "      <td>NaN</td>\n",
       "      <td>NaN</td>\n",
       "      <td>NaN</td>\n",
       "      <td>NaN</td>\n",
       "      <td>NaN</td>\n",
       "      <td>NaN</td>\n",
       "      <td>45.00000000000001</td>\n",
       "    </tr>\n",
       "    <tr>\n",
       "      <th>23696</th>\n",
       "      <td>18</td>\n",
       "      <td>2500000.0</td>\n",
       "      <td>56.7</td>\n",
       "      <td>2018-02-11T00:00:00</td>\n",
       "      <td>2</td>\n",
       "      <td>NaN</td>\n",
       "      <td>3.0</td>\n",
       "      <td>29.7</td>\n",
       "      <td>1</td>\n",
       "      <td>NaN</td>\n",
       "      <td>...</td>\n",
       "      <td>NaN</td>\n",
       "      <td>NaN</td>\n",
       "      <td>село Рождествено</td>\n",
       "      <td>NaN</td>\n",
       "      <td>NaN</td>\n",
       "      <td>NaN</td>\n",
       "      <td>NaN</td>\n",
       "      <td>NaN</td>\n",
       "      <td>NaN</td>\n",
       "      <td>NaN</td>\n",
       "    </tr>\n",
       "    <tr>\n",
       "      <th>23697</th>\n",
       "      <td>13</td>\n",
       "      <td>11475000.0</td>\n",
       "      <td>76.75</td>\n",
       "      <td>2017-03-28T00:00:00</td>\n",
       "      <td>2</td>\n",
       "      <td>3.0</td>\n",
       "      <td>17.0</td>\n",
       "      <td>NaN</td>\n",
       "      <td>12</td>\n",
       "      <td>NaN</td>\n",
       "      <td>...</td>\n",
       "      <td>23.3</td>\n",
       "      <td>2.0</td>\n",
       "      <td>Санкт-Петербург</td>\n",
       "      <td>39140.0</td>\n",
       "      <td>10364.0</td>\n",
       "      <td>2.0</td>\n",
       "      <td>173.0</td>\n",
       "      <td>3.0</td>\n",
       "      <td>196.0</td>\n",
       "      <td>602.0</td>\n",
       "    </tr>\n",
       "    <tr>\n",
       "      <th>23698</th>\n",
       "      <td>4</td>\n",
       "      <td>1350000.0</td>\n",
       "      <td>32.3</td>\n",
       "      <td>2017-07-21T00:00:00</td>\n",
       "      <td>1</td>\n",
       "      <td>2.5</td>\n",
       "      <td>5.0</td>\n",
       "      <td>12.3</td>\n",
       "      <td>1</td>\n",
       "      <td>NaN</td>\n",
       "      <td>...</td>\n",
       "      <td>9.0</td>\n",
       "      <td>NaN</td>\n",
       "      <td>поселок Новый Учхоз</td>\n",
       "      <td>NaN</td>\n",
       "      <td>NaN</td>\n",
       "      <td>NaN</td>\n",
       "      <td>NaN</td>\n",
       "      <td>NaN</td>\n",
       "      <td>NaN</td>\n",
       "      <td>NaN</td>\n",
       "    </tr>\n",
       "  </tbody>\n",
       "</table>\n",
       "<p>23699 rows × 22 columns</p>\n",
       "</div>"
      ],
      "text/plain": [
       "       total_images  last_price total_area first_day_exposition  rooms  \\\n",
       "0                20  13000000.0      108.0  2019-03-07T00:00:00      3   \n",
       "1                 7   3350000.0       40.4  2018-12-04T00:00:00      1   \n",
       "2                10   5196000.0       56.0  2015-08-20T00:00:00      2   \n",
       "3                 0  64900000.0      159.0  2015-07-24T00:00:00      3   \n",
       "4                 2  10000000.0      100.0  2018-06-19T00:00:00      2   \n",
       "...             ...         ...        ...                  ...    ...   \n",
       "23694             9   9700000.0     133.81  2017-03-21T00:00:00      3   \n",
       "23695            14   3100000.0       59.0  2018-01-15T00:00:00      3   \n",
       "23696            18   2500000.0       56.7  2018-02-11T00:00:00      2   \n",
       "23697            13  11475000.0      76.75  2017-03-28T00:00:00      2   \n",
       "23698             4   1350000.0       32.3  2017-07-21T00:00:00      1   \n",
       "\n",
       "      ceiling_height floors_total living_area  floor is_apartment  ...  \\\n",
       "0                2.7         16.0        51.0      8          NaN  ...   \n",
       "1                NaN         11.0        18.6      1          NaN  ...   \n",
       "2                NaN          5.0        34.3      4          NaN  ...   \n",
       "3                NaN         14.0         NaN      9          NaN  ...   \n",
       "4               3.03         14.0        32.0     13          NaN  ...   \n",
       "...              ...          ...         ...    ...          ...  ...   \n",
       "23694            3.7          5.0        73.3      3          NaN  ...   \n",
       "23695            NaN          5.0        38.0      4          NaN  ...   \n",
       "23696            NaN          3.0        29.7      1          NaN  ...   \n",
       "23697            3.0         17.0         NaN     12          NaN  ...   \n",
       "23698            2.5          5.0        12.3      1          NaN  ...   \n",
       "\n",
       "       kitchen_area  balcony        locality_name airports_nearest  \\\n",
       "0              25.0      NaN      Санкт-Петербург          18863.0   \n",
       "1              11.0      2.0       посёлок Шушары          12817.0   \n",
       "2               8.3      0.0      Санкт-Петербург          21741.0   \n",
       "3               NaN      0.0      Санкт-Петербург          28098.0   \n",
       "4              41.0      NaN      Санкт-Петербург          31856.0   \n",
       "...             ...      ...                  ...              ...   \n",
       "23694         13.83      NaN      Санкт-Петербург          24665.0   \n",
       "23695           8.5      NaN                Тосно              NaN   \n",
       "23696           NaN      NaN     село Рождествено              NaN   \n",
       "23697          23.3      2.0      Санкт-Петербург          39140.0   \n",
       "23698           9.0      NaN  поселок Новый Учхоз              NaN   \n",
       "\n",
       "      cityCenters_nearest parks_around3000 parks_nearest ponds_around3000  \\\n",
       "0                 16028.0              1.0         482.0              2.0   \n",
       "1                 18603.0              0.0           NaN              0.0   \n",
       "2                 13933.0              1.0          90.0              2.0   \n",
       "3                  6800.0              2.0          84.0              3.0   \n",
       "4                  8098.0              2.0         112.0              1.0   \n",
       "...                   ...              ...           ...              ...   \n",
       "23694              4232.0              1.0         796.0              3.0   \n",
       "23695                 NaN              NaN           NaN              NaN   \n",
       "23696                 NaN              NaN           NaN              NaN   \n",
       "23697             10364.0              2.0         173.0              3.0   \n",
       "23698                 NaN              NaN           NaN              NaN   \n",
       "\n",
       "      ponds_nearest    days_exposition  \n",
       "0             755.0                NaN  \n",
       "1               NaN               81.0  \n",
       "2             574.0              558.0  \n",
       "3             234.0              424.0  \n",
       "4              48.0              121.0  \n",
       "...             ...                ...  \n",
       "23694         381.0                NaN  \n",
       "23695           NaN  45.00000000000001  \n",
       "23696           NaN                NaN  \n",
       "23697         196.0              602.0  \n",
       "23698           NaN                NaN  \n",
       "\n",
       "[23699 rows x 22 columns]"
      ]
     },
     "metadata": {},
     "output_type": "display_data"
    },
    {
     "name": "stdout",
     "output_type": "stream",
     "text": [
      "<class 'pandas.core.frame.DataFrame'>\n",
      "RangeIndex: 23699 entries, 0 to 23698\n",
      "Data columns (total 22 columns):\n",
      " #   Column                Non-Null Count  Dtype \n",
      "---  ------                --------------  ----- \n",
      " 0   total_images          23699 non-null  int64 \n",
      " 1   last_price            23699 non-null  object\n",
      " 2   total_area            23699 non-null  object\n",
      " 3   first_day_exposition  23699 non-null  object\n",
      " 4   rooms                 23699 non-null  int64 \n",
      " 5   ceiling_height        14504 non-null  object\n",
      " 6   floors_total          23613 non-null  object\n",
      " 7   living_area           21796 non-null  object\n",
      " 8   floor                 23699 non-null  int64 \n",
      " 9   is_apartment          2775 non-null   object\n",
      " 10  studio                23699 non-null  bool  \n",
      " 11  open_plan             23699 non-null  bool  \n",
      " 12  kitchen_area          21421 non-null  object\n",
      " 13  balcony               12180 non-null  object\n",
      " 14  locality_name         23650 non-null  object\n",
      " 15  airports_nearest      18157 non-null  object\n",
      " 16  cityCenters_nearest   18180 non-null  object\n",
      " 17  parks_around3000      18181 non-null  object\n",
      " 18  parks_nearest         8079 non-null   object\n",
      " 19  ponds_around3000      18181 non-null  object\n",
      " 20  ponds_nearest         9110 non-null   object\n",
      " 21  days_exposition       20518 non-null  object\n",
      "dtypes: bool(2), int64(3), object(17)\n",
      "memory usage: 3.7+ MB\n"
     ]
    }
   ],
   "source": [
    "# откроем файл с разделителем\n",
    "data = pd.read_csv('/datasets/real_estate_data.csv', sep='\\t', decimal=',')\n",
    "# напечатаем\n",
    "display(data)\n",
    "# выводим общую информацию\n",
    "data.info()"
   ]
  },
  {
   "cell_type": "markdown",
   "metadata": {},
   "source": [
    "### Вывод"
   ]
  },
  {
   "cell_type": "markdown",
   "metadata": {},
   "source": [
    "Первое открытие файла показало, что строки были склеены. В отдельной строке с кодом открыла файл с разделителем, вызвала info() для изучения общей информации. В файле 22 колонки и 23 699 строк, присутствуют типы как: bool(в двух колонках), int64(в 3 колонках), object(строки, в 17 колонках). Количество значений в каждой из колонок разное - что говорит о пропущенных значениях."
   ]
  },
  {
   "cell_type": "markdown",
   "metadata": {},
   "source": [
    "## Предобработка данных"
   ]
  },
  {
   "cell_type": "markdown",
   "metadata": {},
   "source": [
    "### Обработка пропущенных значений"
   ]
  },
  {
   "cell_type": "code",
   "execution_count": 4,
   "metadata": {},
   "outputs": [
    {
     "name": "stdout",
     "output_type": "stream",
     "text": [
      "Index(['total_images', 'last_price', 'total_area', 'first_day_exposition',\n",
      "       'rooms', 'ceiling_height', 'floors_total', 'living_area', 'floor',\n",
      "       'is_apartment', 'studio', 'open_plan', 'kitchen_area', 'balcony',\n",
      "       'locality_name', 'airports_nearest', 'cityCenters_nearest',\n",
      "       'parks_around3000', 'parks_nearest', 'ponds_around3000',\n",
      "       'ponds_nearest', 'days_exposition'],\n",
      "      dtype='object')\n"
     ]
    }
   ],
   "source": [
    "# проверяем написание колонок\n",
    "print(data.columns)"
   ]
  },
  {
   "cell_type": "code",
   "execution_count": 5,
   "metadata": {},
   "outputs": [
    {
     "data": {
      "text/plain": [
       "total_images                0\n",
       "last_price                  0\n",
       "total_area                  0\n",
       "first_day_exposition        0\n",
       "rooms                       0\n",
       "ceiling_height           9195\n",
       "floors_total               86\n",
       "living_area              1903\n",
       "floor                       0\n",
       "is_apartment            20924\n",
       "studio                      0\n",
       "open_plan                   0\n",
       "kitchen_area             2278\n",
       "balcony                 11519\n",
       "locality_name              49\n",
       "airports_nearest         5542\n",
       "cityCenters_nearest      5519\n",
       "parks_around3000         5518\n",
       "parks_nearest           15620\n",
       "ponds_around3000         5518\n",
       "ponds_nearest           14589\n",
       "days_exposition          3181\n",
       "dtype: int64"
      ]
     },
     "execution_count": 5,
     "metadata": {},
     "output_type": "execute_result"
    }
   ],
   "source": [
    "# проверяем и считаем количетво пропущенных значений в таблице\n",
    "data.isna().sum()\n"
   ]
  },
  {
   "cell_type": "code",
   "execution_count": 6,
   "metadata": {},
   "outputs": [
    {
     "data": {
      "text/plain": [
       "total_images               0\n",
       "last_price                 0\n",
       "total_area                 0\n",
       "first_day_exposition       0\n",
       "rooms                      0\n",
       "ceiling_height             0\n",
       "floors_total               0\n",
       "living_area                0\n",
       "floor                      0\n",
       "is_apartment               0\n",
       "studio                     0\n",
       "open_plan                  0\n",
       "kitchen_area               0\n",
       "balcony                    0\n",
       "locality_name              0\n",
       "airports_nearest           0\n",
       "cityCenters_nearest        0\n",
       "parks_around3000           0\n",
       "parks_nearest              0\n",
       "ponds_around3000           0\n",
       "ponds_nearest              0\n",
       "days_exposition         3181\n",
       "median_living_area         0\n",
       "dtype: int64"
      ]
     },
     "execution_count": 6,
     "metadata": {},
     "output_type": "execute_result"
    }
   ],
   "source": [
    "# заменяем пропущенные значения в balcony на 0 \n",
    "data.loc[data['balcony'].isna(), 'balcony'] = 0\n",
    "# заменяем пропущенные значения в ceiling_height на 2.4 (минимальная норма в России)\n",
    "data.loc[data['ceiling_height'].isna(), 'ceiling_height'] = 2.4\n",
    "# заменяем пропущенные значения в floors_total на 16 (средняя высота многоквартирных домов)\n",
    "data.loc[data['floors_total'].isna(), 'floors_total'] = 16\n",
    "# заменяем пропущенные значения в locality_name на unknown\n",
    "data.loc[data['locality_name'].isna(), 'locality_name'] = 'unknown'\n",
    "# заменяем пропущенные значения в is_apartment на False\n",
    "data.loc[data['is_apartment'].isna(), 'is_apartment'] = 'False'\n",
    "\n",
    "\n",
    "\n",
    "\n",
    "\n",
    "# заменяем пропущенные значения в дистанциях на медианные\n",
    "\n",
    "# для начала заменяем тип данных\n",
    "data['airports_nearest'] = pd.to_numeric(data['airports_nearest'], errors='coerce')\n",
    "data['cityCenters_nearest'] = pd.to_numeric(data['cityCenters_nearest'], errors='coerce')\n",
    "data['parks_around3000'] = pd.to_numeric(data['parks_around3000'], errors='coerce')\n",
    "data['parks_nearest'] = pd.to_numeric(data['parks_nearest'], errors='coerce')\n",
    "data['ponds_around3000'] = pd.to_numeric(data['ponds_around3000'], errors='coerce')\n",
    "data['ponds_nearest'] = pd.to_numeric(data['ponds_nearest'], errors='coerce')\n",
    "\n",
    "data.loc[data['airports_nearest'].isna(), 'airports_nearest'] = data['airports_nearest'].sort_values(ascending=True).median()\n",
    "data.loc[data['cityCenters_nearest'].isna(), 'cityCenters_nearest'] = data['cityCenters_nearest'].sort_values(ascending=True).median()\n",
    "data.loc[data['parks_around3000'].isna(), 'parks_around3000'] = data['parks_around3000'].sort_values(ascending=True).median()\n",
    "data.loc[data['parks_nearest'].isna(), 'parks_nearest'] = data['parks_nearest'].sort_values(ascending=True).median()\n",
    "data.loc[data['ponds_around3000'].isna(), 'ponds_around3000'] = data['ponds_around3000'].sort_values(ascending=True).median()\n",
    "data.loc[data['ponds_nearest'].isna(), 'ponds_nearest'] = data['ponds_nearest'].sort_values(ascending=True).median()\n",
    "\n",
    "\n",
    "# заполняем пропуски в livin_area медианным значением\n",
    "# заменяем тип данных\n",
    "data['living_area'] = pd.to_numeric(data['living_area'], errors='coerce')\n",
    "# делаем фрейм с сгруппированными значениями\n",
    "median_values = data.groupby('rooms').agg({'living_area': 'median'}).rename(columns={'living_area': 'median_living_area'})\n",
    "# пристегиваем его к исходной таблице\n",
    "data = data.merge(median_values, on = ['rooms'])\n",
    "\n",
    "# меняем значения в колонке living_area где есть пропуски\n",
    "data.loc[data['living_area'].isna(), 'living_area'] = data['median_living_area']\n",
    "\n",
    "# заменяем пропущенные значения в kitchen_area \n",
    "# заменяем тип данных \n",
    "data['kitchen_area'] = pd.to_numeric(data['kitchen_area'], errors='coerce')\n",
    "data.loc[data['kitchen_area'].isna(), 'kitchen_area'] = data['kitchen_area'].sort_values(ascending=True).median()\n",
    "\n",
    "\n",
    "# подсчитываем пропуски после всех замен\n",
    "data.isna().sum()\n"
   ]
  },
  {
   "cell_type": "code",
   "execution_count": 7,
   "metadata": {},
   "outputs": [
    {
     "data": {
      "text/plain": [
       "<AxesSubplot:xlabel='first_day_exposition'>"
      ]
     },
     "execution_count": 7,
     "metadata": {},
     "output_type": "execute_result"
    },
    {
     "data": {
      "image/png": "[encoded data removed]",
      "text/plain": [
       "<Figure size 432x288 with 1 Axes>"
      ]
     },
     "metadata": {
      "needs_background": "light"
     },
     "output_type": "display_data"
    }
   ],
   "source": [
    "# просматриваем значения столбца days_exposition относительно даты публикации\n",
    "\n",
    "# переводим столбец first_day_exposition в дату для дальнейшей работы\n",
    "data['first_day_exposition'] = pd.to_datetime(data['first_day_exposition'], format='%Y-%m-%dT%H:%M:%S')\n",
    "# задаем новый стобец, который определяет и подсчитывает пропущенные значения\n",
    "data['days_exposition_missing'] = data['days_exposition'].isna().astype(int)\n",
    "# группируем по дате и находим сумму пропущенных значений, выводим график\n",
    "data.groupby('first_day_exposition').agg({'days_exposition_missing': 'sum'}).plot()\n"
   ]
  },
  {
   "cell_type": "markdown",
   "metadata": {},
   "source": [
    "После нахождения пропусков методом isna() и их подсчета при помощи sum() мы выявили, что пропуски присутствуют почти во всех колонках.\n",
    "\n",
    "1)  Значения в balcony заменены на 0, т.к. скорее всего пропуск является отсутствием балкона в принципе. \n",
    "\n",
    "2)  Пропущенные знаение в celling_height заменены на 2.4 - это минимальна норма в России (полагаю, что менять на среднее или медианное не совсем корректно). \n",
    "\n",
    "3)   Пропущенные значения в floors_total заменила на 16 - это средняя высота многоквартирных домов по данным из Единого реестра застройщиков. \n",
    "\n",
    "4)  Пропущенные значения в locality_name заменила на unknown, т.к. узнать название населенного пункта не представляется возможным, скорее всего пропуки образовались из-за того, что человек не внёс эти данные.\n",
    "\n",
    "5) Заменила все пропущенные значения в дистанциях на медианные по всему набору данных, но сначала перевела данных в другой тип. Эти пропуски (как мне кажется) образовавлись ровным счетом также, как  locality_name.\n",
    "\n",
    "6) Пропуски в living_area были заменены медианным значением относительно количетва комнат. Честно сказать - до этого я додумалась только при помощи преподавателя...\n",
    "\n",
    "7)   в kitchen_area пропуски были заполнены медианным значением по всему набору данных, предварительно изменила тип данных. Для некоторых количеств комнат данных по кухням нет совсем. Например, для кватир с нулевым количеством комнат - поэтому заменять на медианное значение показалось оптимальным вариантом.\n",
    "\n",
    "8)  Пропуски в days_exposition не обрабатывались, вместо этого - просто просмотрела количетво пропущенных значений относительно даты публикации. Видно, что с 2015 по 2018 никаких аномалий не было, но у 2019 году мы видим резкий рост. Возможно это связано с тем, что квартиры стали плохо продаваться и количество не закрытых объявлений резко возрасло."
   ]
  },
  {
   "cell_type": "markdown",
   "metadata": {},
   "source": [
    "### Замена типа данных"
   ]
  },
  {
   "cell_type": "code",
   "execution_count": 8,
   "metadata": {},
   "outputs": [],
   "source": [
    "# меняем тип данных в last_price\n",
    "data['last_price'] = pd.to_numeric(data['last_price'], errors='coerce')\n",
    "data['last_price'] = data['last_price'].astype('int')\n",
    "# меняем тип данных в total_area\n",
    "data['total_area'] = pd.to_numeric(data['total_area'], errors='coerce')\n",
    "data['total_area'] = data['total_area'].astype('int')\n",
    "# меняем тип данных в ceiling_height\n",
    "data['ceiling_height'] = pd.to_numeric(data['ceiling_height'], errors='coerce')\n",
    "data['ceiling_height'] = data['ceiling_height'].astype('int')\n",
    "# меняем тип данных в floors_total\n",
    "data['floors_total'] = pd.to_numeric(data['floors_total'], errors='coerce')\n",
    "data['floors_total'] = data['floors_total'].astype('int')\n",
    "\n",
    "\n",
    "data['days_exposition'] = pd.to_numeric(data['days_exposition'], errors='coerce')\n"
   ]
  },
  {
   "cell_type": "code",
   "execution_count": 9,
   "metadata": {},
   "outputs": [
    {
     "data": {
      "text/plain": [
       "0"
      ]
     },
     "execution_count": 9,
     "metadata": {},
     "output_type": "execute_result"
    }
   ],
   "source": [
    "# проверила таблицу на явные дубликаты\n",
    "data.duplicated().sum()"
   ]
  },
  {
   "cell_type": "markdown",
   "metadata": {},
   "source": [
    "### Вывод"
   ]
  },
  {
   "cell_type": "markdown",
   "metadata": {},
   "source": [
    "После выявления всех пропусков была проведена работа по их устранению. Скорее всего все пропуски связаны с тем, что при сборе данных - значения не указывались, колонки оставляли пустыми. Это касается данных, которые были вписаны пользователем. Что касается пропуском в картографических данных - возможно их природа состоит в том, что данные собирались на момент проекта домов, в момент когда стройка еще не началась."
   ]
  },
  {
   "cell_type": "markdown",
   "metadata": {},
   "source": [
    "## Расчёты и добавление результатов в таблицу"
   ]
  },
  {
   "cell_type": "markdown",
   "metadata": {},
   "source": [
    "### Добавляем стоимость квадратного метра"
   ]
  },
  {
   "cell_type": "code",
   "execution_count": 10,
   "metadata": {},
   "outputs": [],
   "source": [
    "data['cost_square_m'] = data['last_price'] / data['total_area']"
   ]
  },
  {
   "cell_type": "markdown",
   "metadata": {},
   "source": [
    "### Добавляем день недели, месяц и год публикации объявления в новые столбцы"
   ]
  },
  {
   "cell_type": "code",
   "execution_count": 11,
   "metadata": {},
   "outputs": [],
   "source": [
    "data['weekday'] = data['first_day_exposition'].dt.weekday\n",
    "data['month'] = data['first_day_exposition'].dt.month\n",
    "data['year'] = data['first_day_exposition'].dt.year"
   ]
  },
  {
   "cell_type": "markdown",
   "metadata": {},
   "source": [
    "### Добавляем этаж квартиры; варианты — первый, последний, другой;"
   ]
  },
  {
   "cell_type": "code",
   "execution_count": 12,
   "metadata": {},
   "outputs": [],
   "source": [
    "def floors(row):\n",
    "    if row['floor'] == 1:\n",
    "        return 'первый'\n",
    "    if row['floor'] == row['floors_total']:\n",
    "        return 'последний'\n",
    "    else:\n",
    "        return 'другой'\n",
    "    \n",
    "data['floor_group'] = data.apply(floors, axis=1)    \n",
    "\n",
    "        "
   ]
  },
  {
   "cell_type": "markdown",
   "metadata": {},
   "source": [
    "###  Добавляем соотношение жилой и общей площади, а также отношение площади кухни к общей."
   ]
  },
  {
   "cell_type": "code",
   "execution_count": 13,
   "metadata": {},
   "outputs": [],
   "source": [
    "data['kitchen_to_total'] = data['kitchen_area'] / data['total_area']\n",
    "data['living_to_total'] = data['living_area'] / data['total_area']\n"
   ]
  },
  {
   "cell_type": "markdown",
   "metadata": {},
   "source": [
    "## Исследовательский анализ данных"
   ]
  },
  {
   "cell_type": "markdown",
   "metadata": {},
   "source": [
    "### Исследование площади"
   ]
  },
  {
   "cell_type": "code",
   "execution_count": 14,
   "metadata": {},
   "outputs": [
    {
     "name": "stdout",
     "output_type": "stream",
     "text": [
      "[ 12  13  14  15  16  17  18  19  20  21  22  23  24  25  26  27  28  29\n",
      "  30  31  32  33  34  35  36  37  38  39  40  41  42  43  44  45  46  47\n",
      "  48  49  50  51  52  53  54  55  56  57  58  59  60  61  62  63  64  65\n",
      "  66  67  68  69  70  71  72  73  74  75  76  77  78  79  80  81  82  83\n",
      "  84  85  86  87  88  89  90  91  92  93  94  95  96  97  98  99 100 101\n",
      " 102 103 104 105 106 107 108 109 110 111 112 113 114 115 116 117 118 119\n",
      " 120 121 122 123 124 125 126 127 128 129 130 131 132 133 134 135 136 137\n",
      " 138 139 140 141 142 143 144 145 146 147 148 149 150 151 152 153 154 155\n",
      " 156 157 158 159 160 161 162 163 164 165 166 167 168 169 170 171 172 173\n",
      " 174 175 176 177 178 179 180 181 182 183 184 185 186 187 188 189 190 191\n",
      " 192 193 194 195 196 197 198 199 200 201 202 203 204 205 206 207 210 211\n",
      " 213 214 215 216 217 218 220 221 222 223 224 225 226 228 229 230 231 232\n",
      " 234 235 236 237 238 239 240 241 242 243 244 245 248 249 250 251 253 254\n",
      " 255 256 257 259 260 263 266 267 268 270 272 274 275 277 280 281 283 284\n",
      " 285 287 288 290 292 293 295 297 300 301 304 307 309 310 312 313 315 316\n",
      " 317 320 323 327 336 338 342 347 356 363 364 365 371 373 374 380 398 399\n",
      " 400 401 402 410 413 422 431 441 460 470 483 488 491 494 495 500 507 517\n",
      " 590 618 631 900]\n",
      "count    23699.000000\n",
      "mean        60.120511\n",
      "std         35.665822\n",
      "min         12.000000\n",
      "25%         40.000000\n",
      "50%         52.000000\n",
      "75%         69.000000\n",
      "max        900.000000\n",
      "Name: total_area, dtype: float64\n"
     ]
    },
    {
     "data": {
      "text/html": [
       "<div>\n",
       "<style scoped>\n",
       "    .dataframe tbody tr th:only-of-type {\n",
       "        vertical-align: middle;\n",
       "    }\n",
       "\n",
       "    .dataframe tbody tr th {\n",
       "        vertical-align: top;\n",
       "    }\n",
       "\n",
       "    .dataframe thead th {\n",
       "        text-align: right;\n",
       "    }\n",
       "</style>\n",
       "<table border=\"1\" class=\"dataframe\">\n",
       "  <thead>\n",
       "    <tr style=\"text-align: right;\">\n",
       "      <th></th>\n",
       "      <th>total_images</th>\n",
       "      <th>last_price</th>\n",
       "      <th>total_area</th>\n",
       "      <th>first_day_exposition</th>\n",
       "      <th>rooms</th>\n",
       "      <th>ceiling_height</th>\n",
       "      <th>floors_total</th>\n",
       "      <th>living_area</th>\n",
       "      <th>floor</th>\n",
       "      <th>is_apartment</th>\n",
       "      <th>...</th>\n",
       "      <th>days_exposition</th>\n",
       "      <th>median_living_area</th>\n",
       "      <th>days_exposition_missing</th>\n",
       "      <th>cost_square_m</th>\n",
       "      <th>weekday</th>\n",
       "      <th>month</th>\n",
       "      <th>year</th>\n",
       "      <th>floor_group</th>\n",
       "      <th>kitchen_to_total</th>\n",
       "      <th>living_to_total</th>\n",
       "    </tr>\n",
       "  </thead>\n",
       "  <tbody>\n",
       "    <tr>\n",
       "      <th>1493</th>\n",
       "      <td>10</td>\n",
       "      <td>84382000</td>\n",
       "      <td>363</td>\n",
       "      <td>2018-10-07</td>\n",
       "      <td>3</td>\n",
       "      <td>2</td>\n",
       "      <td>16</td>\n",
       "      <td>45.0</td>\n",
       "      <td>12</td>\n",
       "      <td>False</td>\n",
       "      <td>...</td>\n",
       "      <td>NaN</td>\n",
       "      <td>45.0</td>\n",
       "      <td>1</td>\n",
       "      <td>232457.300275</td>\n",
       "      <td>6</td>\n",
       "      <td>10</td>\n",
       "      <td>2018</td>\n",
       "      <td>другой</td>\n",
       "      <td>0.087410</td>\n",
       "      <td>0.123967</td>\n",
       "    </tr>\n",
       "    <tr>\n",
       "      <th>9127</th>\n",
       "      <td>1</td>\n",
       "      <td>43185328</td>\n",
       "      <td>494</td>\n",
       "      <td>2017-05-12</td>\n",
       "      <td>1</td>\n",
       "      <td>2</td>\n",
       "      <td>12</td>\n",
       "      <td>17.6</td>\n",
       "      <td>3</td>\n",
       "      <td>False</td>\n",
       "      <td>...</td>\n",
       "      <td>5.0</td>\n",
       "      <td>17.6</td>\n",
       "      <td>0</td>\n",
       "      <td>87419.692308</td>\n",
       "      <td>4</td>\n",
       "      <td>5</td>\n",
       "      <td>2017</td>\n",
       "      <td>другой</td>\n",
       "      <td>0.018421</td>\n",
       "      <td>0.035628</td>\n",
       "    </tr>\n",
       "    <tr>\n",
       "      <th>21808</th>\n",
       "      <td>8</td>\n",
       "      <td>96000000</td>\n",
       "      <td>317</td>\n",
       "      <td>2017-07-07</td>\n",
       "      <td>4</td>\n",
       "      <td>3</td>\n",
       "      <td>3</td>\n",
       "      <td>183.0</td>\n",
       "      <td>3</td>\n",
       "      <td>False</td>\n",
       "      <td>...</td>\n",
       "      <td>62.0</td>\n",
       "      <td>63.6</td>\n",
       "      <td>0</td>\n",
       "      <td>302839.116719</td>\n",
       "      <td>4</td>\n",
       "      <td>7</td>\n",
       "      <td>2017</td>\n",
       "      <td>последний</td>\n",
       "      <td>0.028707</td>\n",
       "      <td>0.577287</td>\n",
       "    </tr>\n",
       "    <tr>\n",
       "      <th>21840</th>\n",
       "      <td>20</td>\n",
       "      <td>135000000</td>\n",
       "      <td>310</td>\n",
       "      <td>2018-05-22</td>\n",
       "      <td>4</td>\n",
       "      <td>3</td>\n",
       "      <td>5</td>\n",
       "      <td>250.0</td>\n",
       "      <td>2</td>\n",
       "      <td>False</td>\n",
       "      <td>...</td>\n",
       "      <td>342.0</td>\n",
       "      <td>63.6</td>\n",
       "      <td>0</td>\n",
       "      <td>435483.870968</td>\n",
       "      <td>1</td>\n",
       "      <td>5</td>\n",
       "      <td>2018</td>\n",
       "      <td>другой</td>\n",
       "      <td>0.161290</td>\n",
       "      <td>0.806452</td>\n",
       "    </tr>\n",
       "    <tr>\n",
       "      <th>21983</th>\n",
       "      <td>12</td>\n",
       "      <td>28789000</td>\n",
       "      <td>441</td>\n",
       "      <td>2019-01-23</td>\n",
       "      <td>4</td>\n",
       "      <td>2</td>\n",
       "      <td>6</td>\n",
       "      <td>63.6</td>\n",
       "      <td>6</td>\n",
       "      <td>False</td>\n",
       "      <td>...</td>\n",
       "      <td>NaN</td>\n",
       "      <td>63.6</td>\n",
       "      <td>1</td>\n",
       "      <td>65281.179138</td>\n",
       "      <td>2</td>\n",
       "      <td>1</td>\n",
       "      <td>2019</td>\n",
       "      <td>последний</td>\n",
       "      <td>0.079478</td>\n",
       "      <td>0.144218</td>\n",
       "    </tr>\n",
       "    <tr>\n",
       "      <th>...</th>\n",
       "      <td>...</td>\n",
       "      <td>...</td>\n",
       "      <td>...</td>\n",
       "      <td>...</td>\n",
       "      <td>...</td>\n",
       "      <td>...</td>\n",
       "      <td>...</td>\n",
       "      <td>...</td>\n",
       "      <td>...</td>\n",
       "      <td>...</td>\n",
       "      <td>...</td>\n",
       "      <td>...</td>\n",
       "      <td>...</td>\n",
       "      <td>...</td>\n",
       "      <td>...</td>\n",
       "      <td>...</td>\n",
       "      <td>...</td>\n",
       "      <td>...</td>\n",
       "      <td>...</td>\n",
       "      <td>...</td>\n",
       "      <td>...</td>\n",
       "    </tr>\n",
       "    <tr>\n",
       "      <th>23690</th>\n",
       "      <td>10</td>\n",
       "      <td>23500000</td>\n",
       "      <td>313</td>\n",
       "      <td>2017-02-13</td>\n",
       "      <td>9</td>\n",
       "      <td>3</td>\n",
       "      <td>6</td>\n",
       "      <td>179.2</td>\n",
       "      <td>5</td>\n",
       "      <td>False</td>\n",
       "      <td>...</td>\n",
       "      <td>NaN</td>\n",
       "      <td>179.2</td>\n",
       "      <td>1</td>\n",
       "      <td>75079.872204</td>\n",
       "      <td>0</td>\n",
       "      <td>2</td>\n",
       "      <td>2017</td>\n",
       "      <td>другой</td>\n",
       "      <td>0.042173</td>\n",
       "      <td>0.572524</td>\n",
       "    </tr>\n",
       "    <tr>\n",
       "      <th>23692</th>\n",
       "      <td>14</td>\n",
       "      <td>19500000</td>\n",
       "      <td>309</td>\n",
       "      <td>2016-02-03</td>\n",
       "      <td>9</td>\n",
       "      <td>2</td>\n",
       "      <td>5</td>\n",
       "      <td>199.0</td>\n",
       "      <td>5</td>\n",
       "      <td>False</td>\n",
       "      <td>...</td>\n",
       "      <td>468.0</td>\n",
       "      <td>179.2</td>\n",
       "      <td>0</td>\n",
       "      <td>63106.796117</td>\n",
       "      <td>2</td>\n",
       "      <td>2</td>\n",
       "      <td>2016</td>\n",
       "      <td>последний</td>\n",
       "      <td>0.046278</td>\n",
       "      <td>0.644013</td>\n",
       "    </tr>\n",
       "    <tr>\n",
       "      <th>23693</th>\n",
       "      <td>15</td>\n",
       "      <td>88000000</td>\n",
       "      <td>400</td>\n",
       "      <td>2019-03-27</td>\n",
       "      <td>9</td>\n",
       "      <td>2</td>\n",
       "      <td>2</td>\n",
       "      <td>250.0</td>\n",
       "      <td>1</td>\n",
       "      <td>False</td>\n",
       "      <td>...</td>\n",
       "      <td>NaN</td>\n",
       "      <td>179.2</td>\n",
       "      <td>1</td>\n",
       "      <td>220000.000000</td>\n",
       "      <td>2</td>\n",
       "      <td>3</td>\n",
       "      <td>2019</td>\n",
       "      <td>первый</td>\n",
       "      <td>0.125000</td>\n",
       "      <td>0.625000</td>\n",
       "    </tr>\n",
       "    <tr>\n",
       "      <th>23696</th>\n",
       "      <td>6</td>\n",
       "      <td>32250000</td>\n",
       "      <td>374</td>\n",
       "      <td>2018-06-09</td>\n",
       "      <td>19</td>\n",
       "      <td>2</td>\n",
       "      <td>5</td>\n",
       "      <td>264.5</td>\n",
       "      <td>2</td>\n",
       "      <td>False</td>\n",
       "      <td>...</td>\n",
       "      <td>114.0</td>\n",
       "      <td>264.5</td>\n",
       "      <td>0</td>\n",
       "      <td>86229.946524</td>\n",
       "      <td>5</td>\n",
       "      <td>6</td>\n",
       "      <td>2018</td>\n",
       "      <td>другой</td>\n",
       "      <td>0.073797</td>\n",
       "      <td>0.707219</td>\n",
       "    </tr>\n",
       "    <tr>\n",
       "      <th>23698</th>\n",
       "      <td>8</td>\n",
       "      <td>420000000</td>\n",
       "      <td>900</td>\n",
       "      <td>2017-12-06</td>\n",
       "      <td>12</td>\n",
       "      <td>2</td>\n",
       "      <td>25</td>\n",
       "      <td>409.7</td>\n",
       "      <td>25</td>\n",
       "      <td>False</td>\n",
       "      <td>...</td>\n",
       "      <td>106.0</td>\n",
       "      <td>409.7</td>\n",
       "      <td>0</td>\n",
       "      <td>466666.666667</td>\n",
       "      <td>2</td>\n",
       "      <td>12</td>\n",
       "      <td>2017</td>\n",
       "      <td>последний</td>\n",
       "      <td>0.124444</td>\n",
       "      <td>0.455222</td>\n",
       "    </tr>\n",
       "  </tbody>\n",
       "</table>\n",
       "<p>61 rows × 31 columns</p>\n",
       "</div>"
      ],
      "text/plain": [
       "       total_images  last_price  total_area first_day_exposition  rooms  \\\n",
       "1493             10    84382000         363           2018-10-07      3   \n",
       "9127              1    43185328         494           2017-05-12      1   \n",
       "21808             8    96000000         317           2017-07-07      4   \n",
       "21840            20   135000000         310           2018-05-22      4   \n",
       "21983            12    28789000         441           2019-01-23      4   \n",
       "...             ...         ...         ...                  ...    ...   \n",
       "23690            10    23500000         313           2017-02-13      9   \n",
       "23692            14    19500000         309           2016-02-03      9   \n",
       "23693            15    88000000         400           2019-03-27      9   \n",
       "23696             6    32250000         374           2018-06-09     19   \n",
       "23698             8   420000000         900           2017-12-06     12   \n",
       "\n",
       "       ceiling_height  floors_total  living_area  floor is_apartment  ...  \\\n",
       "1493                2            16         45.0     12        False  ...   \n",
       "9127                2            12         17.6      3        False  ...   \n",
       "21808               3             3        183.0      3        False  ...   \n",
       "21840               3             5        250.0      2        False  ...   \n",
       "21983               2             6         63.6      6        False  ...   \n",
       "...               ...           ...          ...    ...          ...  ...   \n",
       "23690               3             6        179.2      5        False  ...   \n",
       "23692               2             5        199.0      5        False  ...   \n",
       "23693               2             2        250.0      1        False  ...   \n",
       "23696               2             5        264.5      2        False  ...   \n",
       "23698               2            25        409.7     25        False  ...   \n",
       "\n",
       "       days_exposition  median_living_area  days_exposition_missing  \\\n",
       "1493               NaN                45.0                        1   \n",
       "9127               5.0                17.6                        0   \n",
       "21808             62.0                63.6                        0   \n",
       "21840            342.0                63.6                        0   \n",
       "21983              NaN                63.6                        1   \n",
       "...                ...                 ...                      ...   \n",
       "23690              NaN               179.2                        1   \n",
       "23692            468.0               179.2                        0   \n",
       "23693              NaN               179.2                        1   \n",
       "23696            114.0               264.5                        0   \n",
       "23698            106.0               409.7                        0   \n",
       "\n",
       "       cost_square_m weekday  month  year  floor_group  kitchen_to_total  \\\n",
       "1493   232457.300275       6     10  2018       другой          0.087410   \n",
       "9127    87419.692308       4      5  2017       другой          0.018421   \n",
       "21808  302839.116719       4      7  2017    последний          0.028707   \n",
       "21840  435483.870968       1      5  2018       другой          0.161290   \n",
       "21983   65281.179138       2      1  2019    последний          0.079478   \n",
       "...              ...     ...    ...   ...          ...               ...   \n",
       "23690   75079.872204       0      2  2017       другой          0.042173   \n",
       "23692   63106.796117       2      2  2016    последний          0.046278   \n",
       "23693  220000.000000       2      3  2019       первый          0.125000   \n",
       "23696   86229.946524       5      6  2018       другой          0.073797   \n",
       "23698  466666.666667       2     12  2017    последний          0.124444   \n",
       "\n",
       "       living_to_total  \n",
       "1493          0.123967  \n",
       "9127          0.035628  \n",
       "21808         0.577287  \n",
       "21840         0.806452  \n",
       "21983         0.144218  \n",
       "...                ...  \n",
       "23690         0.572524  \n",
       "23692         0.644013  \n",
       "23693         0.625000  \n",
       "23696         0.707219  \n",
       "23698         0.455222  \n",
       "\n",
       "[61 rows x 31 columns]"
      ]
     },
     "metadata": {},
     "output_type": "display_data"
    },
    {
     "data": {
      "image/png": "[encoded data removed]",
      "text/plain": [
       "<Figure size 432x288 with 1 Axes>"
      ]
     },
     "metadata": {
      "needs_background": "light"
     },
     "output_type": "display_data"
    }
   ],
   "source": [
    "# отсортируем и найдем уникальные значения в столбце total_area\n",
    "print(data['total_area'].sort_values(ascending=True).unique())\n",
    "# построим гистограмму для total_area\n",
    "data.hist('total_area', range=(0, 900), bins=10)\n",
    "# вызовем список характерных значений\n",
    "print(data['total_area'].describe())\n",
    "# сделаем срез где total_area > 300\n",
    "query_total_area = data.query('total_area > 300')\n",
    "# выводим и смотрим количество строк\n",
    "display(query_total_area)\n",
    "\n"
   ]
  },
  {
   "cell_type": "markdown",
   "metadata": {},
   "source": [
    "Выведя все уникальные значения и отсортировав их в порядке возрастания мы видим, что минимальное значение кв.м = 12, а максимальное = 900. На гистограмме видно, что пик квартир по количеству приходится на ≈ 50 кв.м. В списке уникальных значений мы видим, что стандартное отклонение достаточно сильно отличается от среднего, что говорит о больших значениях. Был сделан срез, где кв.м. превышают 300 - таких строк получилось 61. По информации из интернета, самая большая квартира в Петербурге 904 кв.м. Так как строк с большими знчениями не так много, относительно всего количества строк."
   ]
  },
  {
   "cell_type": "markdown",
   "metadata": {},
   "source": [
    "### Исследование цены"
   ]
  },
  {
   "cell_type": "code",
   "execution_count": 15,
   "metadata": {},
   "outputs": [
    {
     "name": "stdout",
     "output_type": "stream",
     "text": [
      "[    12190    430000    440000 ... 401300000 420000000 763000000]\n"
     ]
    },
    {
     "data": {
      "text/html": [
       "<div>\n",
       "<style scoped>\n",
       "    .dataframe tbody tr th:only-of-type {\n",
       "        vertical-align: middle;\n",
       "    }\n",
       "\n",
       "    .dataframe tbody tr th {\n",
       "        vertical-align: top;\n",
       "    }\n",
       "\n",
       "    .dataframe thead th {\n",
       "        text-align: right;\n",
       "    }\n",
       "</style>\n",
       "<table border=\"1\" class=\"dataframe\">\n",
       "  <thead>\n",
       "    <tr style=\"text-align: right;\">\n",
       "      <th></th>\n",
       "      <th>total_images</th>\n",
       "      <th>last_price</th>\n",
       "      <th>total_area</th>\n",
       "      <th>first_day_exposition</th>\n",
       "      <th>rooms</th>\n",
       "      <th>ceiling_height</th>\n",
       "      <th>floors_total</th>\n",
       "      <th>living_area</th>\n",
       "      <th>floor</th>\n",
       "      <th>is_apartment</th>\n",
       "      <th>...</th>\n",
       "      <th>days_exposition</th>\n",
       "      <th>median_living_area</th>\n",
       "      <th>days_exposition_missing</th>\n",
       "      <th>cost_square_m</th>\n",
       "      <th>weekday</th>\n",
       "      <th>month</th>\n",
       "      <th>year</th>\n",
       "      <th>floor_group</th>\n",
       "      <th>kitchen_to_total</th>\n",
       "      <th>living_to_total</th>\n",
       "    </tr>\n",
       "  </thead>\n",
       "  <tbody>\n",
       "    <tr>\n",
       "      <th>751</th>\n",
       "      <td>20</td>\n",
       "      <td>900000</td>\n",
       "      <td>61</td>\n",
       "      <td>2018-02-03</td>\n",
       "      <td>3</td>\n",
       "      <td>2</td>\n",
       "      <td>2</td>\n",
       "      <td>40.0</td>\n",
       "      <td>2</td>\n",
       "      <td>False</td>\n",
       "      <td>...</td>\n",
       "      <td>363.0</td>\n",
       "      <td>45.0</td>\n",
       "      <td>0</td>\n",
       "      <td>14754.098361</td>\n",
       "      <td>5</td>\n",
       "      <td>2</td>\n",
       "      <td>2018</td>\n",
       "      <td>последний</td>\n",
       "      <td>0.155738</td>\n",
       "      <td>0.655738</td>\n",
       "    </tr>\n",
       "    <tr>\n",
       "      <th>1028</th>\n",
       "      <td>9</td>\n",
       "      <td>790000</td>\n",
       "      <td>61</td>\n",
       "      <td>2018-04-02</td>\n",
       "      <td>3</td>\n",
       "      <td>2</td>\n",
       "      <td>2</td>\n",
       "      <td>48.0</td>\n",
       "      <td>2</td>\n",
       "      <td>False</td>\n",
       "      <td>...</td>\n",
       "      <td>350.0</td>\n",
       "      <td>45.0</td>\n",
       "      <td>0</td>\n",
       "      <td>12950.819672</td>\n",
       "      <td>0</td>\n",
       "      <td>4</td>\n",
       "      <td>2018</td>\n",
       "      <td>последний</td>\n",
       "      <td>0.196721</td>\n",
       "      <td>0.786885</td>\n",
       "    </tr>\n",
       "    <tr>\n",
       "      <th>1165</th>\n",
       "      <td>11</td>\n",
       "      <td>950000</td>\n",
       "      <td>66</td>\n",
       "      <td>2017-10-26</td>\n",
       "      <td>3</td>\n",
       "      <td>2</td>\n",
       "      <td>4</td>\n",
       "      <td>43.4</td>\n",
       "      <td>1</td>\n",
       "      <td>False</td>\n",
       "      <td>...</td>\n",
       "      <td>89.0</td>\n",
       "      <td>45.0</td>\n",
       "      <td>0</td>\n",
       "      <td>14393.939394</td>\n",
       "      <td>3</td>\n",
       "      <td>10</td>\n",
       "      <td>2017</td>\n",
       "      <td>первый</td>\n",
       "      <td>0.142424</td>\n",
       "      <td>0.657576</td>\n",
       "    </tr>\n",
       "    <tr>\n",
       "      <th>1238</th>\n",
       "      <td>6</td>\n",
       "      <td>900000</td>\n",
       "      <td>62</td>\n",
       "      <td>2016-04-03</td>\n",
       "      <td>3</td>\n",
       "      <td>2</td>\n",
       "      <td>5</td>\n",
       "      <td>35.0</td>\n",
       "      <td>1</td>\n",
       "      <td>False</td>\n",
       "      <td>...</td>\n",
       "      <td>531.0</td>\n",
       "      <td>45.0</td>\n",
       "      <td>0</td>\n",
       "      <td>14516.129032</td>\n",
       "      <td>6</td>\n",
       "      <td>4</td>\n",
       "      <td>2016</td>\n",
       "      <td>первый</td>\n",
       "      <td>0.096774</td>\n",
       "      <td>0.564516</td>\n",
       "    </tr>\n",
       "    <tr>\n",
       "      <th>1722</th>\n",
       "      <td>6</td>\n",
       "      <td>790000</td>\n",
       "      <td>54</td>\n",
       "      <td>2017-11-08</td>\n",
       "      <td>3</td>\n",
       "      <td>2</td>\n",
       "      <td>5</td>\n",
       "      <td>44.0</td>\n",
       "      <td>5</td>\n",
       "      <td>False</td>\n",
       "      <td>...</td>\n",
       "      <td>NaN</td>\n",
       "      <td>45.0</td>\n",
       "      <td>1</td>\n",
       "      <td>14629.629630</td>\n",
       "      <td>2</td>\n",
       "      <td>11</td>\n",
       "      <td>2017</td>\n",
       "      <td>последний</td>\n",
       "      <td>0.111111</td>\n",
       "      <td>0.814815</td>\n",
       "    </tr>\n",
       "    <tr>\n",
       "      <th>...</th>\n",
       "      <td>...</td>\n",
       "      <td>...</td>\n",
       "      <td>...</td>\n",
       "      <td>...</td>\n",
       "      <td>...</td>\n",
       "      <td>...</td>\n",
       "      <td>...</td>\n",
       "      <td>...</td>\n",
       "      <td>...</td>\n",
       "      <td>...</td>\n",
       "      <td>...</td>\n",
       "      <td>...</td>\n",
       "      <td>...</td>\n",
       "      <td>...</td>\n",
       "      <td>...</td>\n",
       "      <td>...</td>\n",
       "      <td>...</td>\n",
       "      <td>...</td>\n",
       "      <td>...</td>\n",
       "      <td>...</td>\n",
       "      <td>...</td>\n",
       "    </tr>\n",
       "    <tr>\n",
       "      <th>21695</th>\n",
       "      <td>18</td>\n",
       "      <td>900000</td>\n",
       "      <td>42</td>\n",
       "      <td>2018-02-26</td>\n",
       "      <td>2</td>\n",
       "      <td>2</td>\n",
       "      <td>2</td>\n",
       "      <td>28.0</td>\n",
       "      <td>1</td>\n",
       "      <td>False</td>\n",
       "      <td>...</td>\n",
       "      <td>219.0</td>\n",
       "      <td>30.5</td>\n",
       "      <td>0</td>\n",
       "      <td>21428.571429</td>\n",
       "      <td>0</td>\n",
       "      <td>2</td>\n",
       "      <td>2018</td>\n",
       "      <td>первый</td>\n",
       "      <td>0.214286</td>\n",
       "      <td>0.666667</td>\n",
       "    </tr>\n",
       "    <tr>\n",
       "      <th>21734</th>\n",
       "      <td>11</td>\n",
       "      <td>470000</td>\n",
       "      <td>44</td>\n",
       "      <td>2018-07-02</td>\n",
       "      <td>2</td>\n",
       "      <td>2</td>\n",
       "      <td>2</td>\n",
       "      <td>28.0</td>\n",
       "      <td>2</td>\n",
       "      <td>False</td>\n",
       "      <td>...</td>\n",
       "      <td>298.0</td>\n",
       "      <td>30.5</td>\n",
       "      <td>0</td>\n",
       "      <td>10681.818182</td>\n",
       "      <td>0</td>\n",
       "      <td>7</td>\n",
       "      <td>2018</td>\n",
       "      <td>последний</td>\n",
       "      <td>0.170455</td>\n",
       "      <td>0.636364</td>\n",
       "    </tr>\n",
       "    <tr>\n",
       "      <th>21787</th>\n",
       "      <td>1</td>\n",
       "      <td>660000</td>\n",
       "      <td>45</td>\n",
       "      <td>2019-02-19</td>\n",
       "      <td>2</td>\n",
       "      <td>2</td>\n",
       "      <td>5</td>\n",
       "      <td>31.0</td>\n",
       "      <td>4</td>\n",
       "      <td>False</td>\n",
       "      <td>...</td>\n",
       "      <td>NaN</td>\n",
       "      <td>30.5</td>\n",
       "      <td>1</td>\n",
       "      <td>14666.666667</td>\n",
       "      <td>1</td>\n",
       "      <td>2</td>\n",
       "      <td>2019</td>\n",
       "      <td>другой</td>\n",
       "      <td>0.133333</td>\n",
       "      <td>0.688889</td>\n",
       "    </tr>\n",
       "    <tr>\n",
       "      <th>21888</th>\n",
       "      <td>11</td>\n",
       "      <td>999000</td>\n",
       "      <td>62</td>\n",
       "      <td>2018-02-15</td>\n",
       "      <td>4</td>\n",
       "      <td>2</td>\n",
       "      <td>5</td>\n",
       "      <td>46.0</td>\n",
       "      <td>2</td>\n",
       "      <td>False</td>\n",
       "      <td>...</td>\n",
       "      <td>226.0</td>\n",
       "      <td>63.6</td>\n",
       "      <td>0</td>\n",
       "      <td>16112.903226</td>\n",
       "      <td>3</td>\n",
       "      <td>2</td>\n",
       "      <td>2018</td>\n",
       "      <td>другой</td>\n",
       "      <td>0.112903</td>\n",
       "      <td>0.741935</td>\n",
       "    </tr>\n",
       "    <tr>\n",
       "      <th>23463</th>\n",
       "      <td>3</td>\n",
       "      <td>945750</td>\n",
       "      <td>19</td>\n",
       "      <td>2017-09-18</td>\n",
       "      <td>0</td>\n",
       "      <td>2</td>\n",
       "      <td>3</td>\n",
       "      <td>12.7</td>\n",
       "      <td>2</td>\n",
       "      <td>False</td>\n",
       "      <td>...</td>\n",
       "      <td>3.0</td>\n",
       "      <td>18.0</td>\n",
       "      <td>0</td>\n",
       "      <td>49776.315789</td>\n",
       "      <td>0</td>\n",
       "      <td>9</td>\n",
       "      <td>2017</td>\n",
       "      <td>другой</td>\n",
       "      <td>0.478947</td>\n",
       "      <td>0.668421</td>\n",
       "    </tr>\n",
       "  </tbody>\n",
       "</table>\n",
       "<p>225 rows × 31 columns</p>\n",
       "</div>"
      ],
      "text/plain": [
       "       total_images  last_price  total_area first_day_exposition  rooms  \\\n",
       "751              20      900000          61           2018-02-03      3   \n",
       "1028              9      790000          61           2018-04-02      3   \n",
       "1165             11      950000          66           2017-10-26      3   \n",
       "1238              6      900000          62           2016-04-03      3   \n",
       "1722              6      790000          54           2017-11-08      3   \n",
       "...             ...         ...         ...                  ...    ...   \n",
       "21695            18      900000          42           2018-02-26      2   \n",
       "21734            11      470000          44           2018-07-02      2   \n",
       "21787             1      660000          45           2019-02-19      2   \n",
       "21888            11      999000          62           2018-02-15      4   \n",
       "23463             3      945750          19           2017-09-18      0   \n",
       "\n",
       "       ceiling_height  floors_total  living_area  floor is_apartment  ...  \\\n",
       "751                 2             2         40.0      2        False  ...   \n",
       "1028                2             2         48.0      2        False  ...   \n",
       "1165                2             4         43.4      1        False  ...   \n",
       "1238                2             5         35.0      1        False  ...   \n",
       "1722                2             5         44.0      5        False  ...   \n",
       "...               ...           ...          ...    ...          ...  ...   \n",
       "21695               2             2         28.0      1        False  ...   \n",
       "21734               2             2         28.0      2        False  ...   \n",
       "21787               2             5         31.0      4        False  ...   \n",
       "21888               2             5         46.0      2        False  ...   \n",
       "23463               2             3         12.7      2        False  ...   \n",
       "\n",
       "       days_exposition  median_living_area  days_exposition_missing  \\\n",
       "751              363.0                45.0                        0   \n",
       "1028             350.0                45.0                        0   \n",
       "1165              89.0                45.0                        0   \n",
       "1238             531.0                45.0                        0   \n",
       "1722               NaN                45.0                        1   \n",
       "...                ...                 ...                      ...   \n",
       "21695            219.0                30.5                        0   \n",
       "21734            298.0                30.5                        0   \n",
       "21787              NaN                30.5                        1   \n",
       "21888            226.0                63.6                        0   \n",
       "23463              3.0                18.0                        0   \n",
       "\n",
       "      cost_square_m weekday  month  year  floor_group  kitchen_to_total  \\\n",
       "751    14754.098361       5      2  2018    последний          0.155738   \n",
       "1028   12950.819672       0      4  2018    последний          0.196721   \n",
       "1165   14393.939394       3     10  2017       первый          0.142424   \n",
       "1238   14516.129032       6      4  2016       первый          0.096774   \n",
       "1722   14629.629630       2     11  2017    последний          0.111111   \n",
       "...             ...     ...    ...   ...          ...               ...   \n",
       "21695  21428.571429       0      2  2018       первый          0.214286   \n",
       "21734  10681.818182       0      7  2018    последний          0.170455   \n",
       "21787  14666.666667       1      2  2019       другой          0.133333   \n",
       "21888  16112.903226       3      2  2018       другой          0.112903   \n",
       "23463  49776.315789       0      9  2017       другой          0.478947   \n",
       "\n",
       "       living_to_total  \n",
       "751           0.655738  \n",
       "1028          0.786885  \n",
       "1165          0.657576  \n",
       "1238          0.564516  \n",
       "1722          0.814815  \n",
       "...                ...  \n",
       "21695         0.666667  \n",
       "21734         0.636364  \n",
       "21787         0.688889  \n",
       "21888         0.741935  \n",
       "23463         0.668421  \n",
       "\n",
       "[225 rows x 31 columns]"
      ]
     },
     "metadata": {},
     "output_type": "display_data"
    },
    {
     "data": {
      "text/html": [
       "<div>\n",
       "<style scoped>\n",
       "    .dataframe tbody tr th:only-of-type {\n",
       "        vertical-align: middle;\n",
       "    }\n",
       "\n",
       "    .dataframe tbody tr th {\n",
       "        vertical-align: top;\n",
       "    }\n",
       "\n",
       "    .dataframe thead th {\n",
       "        text-align: right;\n",
       "    }\n",
       "</style>\n",
       "<table border=\"1\" class=\"dataframe\">\n",
       "  <thead>\n",
       "    <tr style=\"text-align: right;\">\n",
       "      <th></th>\n",
       "      <th>total_images</th>\n",
       "      <th>last_price</th>\n",
       "      <th>total_area</th>\n",
       "      <th>first_day_exposition</th>\n",
       "      <th>rooms</th>\n",
       "      <th>ceiling_height</th>\n",
       "      <th>floors_total</th>\n",
       "      <th>living_area</th>\n",
       "      <th>floor</th>\n",
       "      <th>is_apartment</th>\n",
       "      <th>...</th>\n",
       "      <th>days_exposition</th>\n",
       "      <th>median_living_area</th>\n",
       "      <th>days_exposition_missing</th>\n",
       "      <th>cost_square_m</th>\n",
       "      <th>weekday</th>\n",
       "      <th>month</th>\n",
       "      <th>year</th>\n",
       "      <th>floor_group</th>\n",
       "      <th>kitchen_to_total</th>\n",
       "      <th>living_to_total</th>\n",
       "    </tr>\n",
       "  </thead>\n",
       "  <tbody>\n",
       "    <tr>\n",
       "      <th>1</th>\n",
       "      <td>0</td>\n",
       "      <td>64900000</td>\n",
       "      <td>159</td>\n",
       "      <td>2015-07-24</td>\n",
       "      <td>3</td>\n",
       "      <td>2</td>\n",
       "      <td>14</td>\n",
       "      <td>45.0</td>\n",
       "      <td>9</td>\n",
       "      <td>False</td>\n",
       "      <td>...</td>\n",
       "      <td>424.0</td>\n",
       "      <td>45.0</td>\n",
       "      <td>0</td>\n",
       "      <td>408176.100629</td>\n",
       "      <td>4</td>\n",
       "      <td>7</td>\n",
       "      <td>2015</td>\n",
       "      <td>другой</td>\n",
       "      <td>0.057233</td>\n",
       "      <td>0.283019</td>\n",
       "    </tr>\n",
       "    <tr>\n",
       "      <th>11</th>\n",
       "      <td>7</td>\n",
       "      <td>45000000</td>\n",
       "      <td>161</td>\n",
       "      <td>2017-10-17</td>\n",
       "      <td>3</td>\n",
       "      <td>3</td>\n",
       "      <td>8</td>\n",
       "      <td>38.0</td>\n",
       "      <td>4</td>\n",
       "      <td>False</td>\n",
       "      <td>...</td>\n",
       "      <td>541.0</td>\n",
       "      <td>45.0</td>\n",
       "      <td>0</td>\n",
       "      <td>279503.105590</td>\n",
       "      <td>1</td>\n",
       "      <td>10</td>\n",
       "      <td>2017</td>\n",
       "      <td>другой</td>\n",
       "      <td>0.310559</td>\n",
       "      <td>0.236025</td>\n",
       "    </tr>\n",
       "    <tr>\n",
       "      <th>104</th>\n",
       "      <td>1</td>\n",
       "      <td>40662000</td>\n",
       "      <td>151</td>\n",
       "      <td>2014-12-09</td>\n",
       "      <td>3</td>\n",
       "      <td>2</td>\n",
       "      <td>8</td>\n",
       "      <td>85.0</td>\n",
       "      <td>3</td>\n",
       "      <td>False</td>\n",
       "      <td>...</td>\n",
       "      <td>594.0</td>\n",
       "      <td>45.0</td>\n",
       "      <td>0</td>\n",
       "      <td>269284.768212</td>\n",
       "      <td>1</td>\n",
       "      <td>12</td>\n",
       "      <td>2014</td>\n",
       "      <td>другой</td>\n",
       "      <td>0.152318</td>\n",
       "      <td>0.562914</td>\n",
       "    </tr>\n",
       "    <tr>\n",
       "      <th>189</th>\n",
       "      <td>7</td>\n",
       "      <td>37000000</td>\n",
       "      <td>161</td>\n",
       "      <td>2016-05-22</td>\n",
       "      <td>3</td>\n",
       "      <td>2</td>\n",
       "      <td>9</td>\n",
       "      <td>84.0</td>\n",
       "      <td>8</td>\n",
       "      <td>False</td>\n",
       "      <td>...</td>\n",
       "      <td>402.0</td>\n",
       "      <td>45.0</td>\n",
       "      <td>0</td>\n",
       "      <td>229813.664596</td>\n",
       "      <td>6</td>\n",
       "      <td>5</td>\n",
       "      <td>2016</td>\n",
       "      <td>другой</td>\n",
       "      <td>0.056522</td>\n",
       "      <td>0.521739</td>\n",
       "    </tr>\n",
       "    <tr>\n",
       "      <th>314</th>\n",
       "      <td>1</td>\n",
       "      <td>36001900</td>\n",
       "      <td>142</td>\n",
       "      <td>2017-08-25</td>\n",
       "      <td>3</td>\n",
       "      <td>3</td>\n",
       "      <td>11</td>\n",
       "      <td>79.3</td>\n",
       "      <td>6</td>\n",
       "      <td>False</td>\n",
       "      <td>...</td>\n",
       "      <td>NaN</td>\n",
       "      <td>45.0</td>\n",
       "      <td>1</td>\n",
       "      <td>253534.507042</td>\n",
       "      <td>4</td>\n",
       "      <td>8</td>\n",
       "      <td>2017</td>\n",
       "      <td>другой</td>\n",
       "      <td>0.093662</td>\n",
       "      <td>0.558451</td>\n",
       "    </tr>\n",
       "    <tr>\n",
       "      <th>...</th>\n",
       "      <td>...</td>\n",
       "      <td>...</td>\n",
       "      <td>...</td>\n",
       "      <td>...</td>\n",
       "      <td>...</td>\n",
       "      <td>...</td>\n",
       "      <td>...</td>\n",
       "      <td>...</td>\n",
       "      <td>...</td>\n",
       "      <td>...</td>\n",
       "      <td>...</td>\n",
       "      <td>...</td>\n",
       "      <td>...</td>\n",
       "      <td>...</td>\n",
       "      <td>...</td>\n",
       "      <td>...</td>\n",
       "      <td>...</td>\n",
       "      <td>...</td>\n",
       "      <td>...</td>\n",
       "      <td>...</td>\n",
       "      <td>...</td>\n",
       "    </tr>\n",
       "    <tr>\n",
       "      <th>23686</th>\n",
       "      <td>11</td>\n",
       "      <td>40000000</td>\n",
       "      <td>290</td>\n",
       "      <td>2016-06-21</td>\n",
       "      <td>10</td>\n",
       "      <td>3</td>\n",
       "      <td>6</td>\n",
       "      <td>189.4</td>\n",
       "      <td>6</td>\n",
       "      <td>False</td>\n",
       "      <td>...</td>\n",
       "      <td>77.0</td>\n",
       "      <td>161.4</td>\n",
       "      <td>0</td>\n",
       "      <td>137931.034483</td>\n",
       "      <td>1</td>\n",
       "      <td>6</td>\n",
       "      <td>2016</td>\n",
       "      <td>последний</td>\n",
       "      <td>0.103448</td>\n",
       "      <td>0.653103</td>\n",
       "    </tr>\n",
       "    <tr>\n",
       "      <th>23687</th>\n",
       "      <td>20</td>\n",
       "      <td>65000000</td>\n",
       "      <td>590</td>\n",
       "      <td>2019-02-14</td>\n",
       "      <td>15</td>\n",
       "      <td>3</td>\n",
       "      <td>6</td>\n",
       "      <td>409.0</td>\n",
       "      <td>3</td>\n",
       "      <td>False</td>\n",
       "      <td>...</td>\n",
       "      <td>14.0</td>\n",
       "      <td>409.0</td>\n",
       "      <td>0</td>\n",
       "      <td>110169.491525</td>\n",
       "      <td>3</td>\n",
       "      <td>2</td>\n",
       "      <td>2019</td>\n",
       "      <td>другой</td>\n",
       "      <td>0.169492</td>\n",
       "      <td>0.693220</td>\n",
       "    </tr>\n",
       "    <tr>\n",
       "      <th>23688</th>\n",
       "      <td>14</td>\n",
       "      <td>49968900</td>\n",
       "      <td>398</td>\n",
       "      <td>2017-07-12</td>\n",
       "      <td>9</td>\n",
       "      <td>3</td>\n",
       "      <td>2</td>\n",
       "      <td>160.1</td>\n",
       "      <td>1</td>\n",
       "      <td>False</td>\n",
       "      <td>...</td>\n",
       "      <td>471.0</td>\n",
       "      <td>179.2</td>\n",
       "      <td>0</td>\n",
       "      <td>125550.000000</td>\n",
       "      <td>2</td>\n",
       "      <td>7</td>\n",
       "      <td>2017</td>\n",
       "      <td>первый</td>\n",
       "      <td>0.103015</td>\n",
       "      <td>0.402261</td>\n",
       "    </tr>\n",
       "    <tr>\n",
       "      <th>23693</th>\n",
       "      <td>15</td>\n",
       "      <td>88000000</td>\n",
       "      <td>400</td>\n",
       "      <td>2019-03-27</td>\n",
       "      <td>9</td>\n",
       "      <td>2</td>\n",
       "      <td>2</td>\n",
       "      <td>250.0</td>\n",
       "      <td>1</td>\n",
       "      <td>False</td>\n",
       "      <td>...</td>\n",
       "      <td>NaN</td>\n",
       "      <td>179.2</td>\n",
       "      <td>1</td>\n",
       "      <td>220000.000000</td>\n",
       "      <td>2</td>\n",
       "      <td>3</td>\n",
       "      <td>2019</td>\n",
       "      <td>первый</td>\n",
       "      <td>0.125000</td>\n",
       "      <td>0.625000</td>\n",
       "    </tr>\n",
       "    <tr>\n",
       "      <th>23698</th>\n",
       "      <td>8</td>\n",
       "      <td>420000000</td>\n",
       "      <td>900</td>\n",
       "      <td>2017-12-06</td>\n",
       "      <td>12</td>\n",
       "      <td>2</td>\n",
       "      <td>25</td>\n",
       "      <td>409.7</td>\n",
       "      <td>25</td>\n",
       "      <td>False</td>\n",
       "      <td>...</td>\n",
       "      <td>106.0</td>\n",
       "      <td>409.7</td>\n",
       "      <td>0</td>\n",
       "      <td>466666.666667</td>\n",
       "      <td>2</td>\n",
       "      <td>12</td>\n",
       "      <td>2017</td>\n",
       "      <td>последний</td>\n",
       "      <td>0.124444</td>\n",
       "      <td>0.455222</td>\n",
       "    </tr>\n",
       "  </tbody>\n",
       "</table>\n",
       "<p>247 rows × 31 columns</p>\n",
       "</div>"
      ],
      "text/plain": [
       "       total_images  last_price  total_area first_day_exposition  rooms  \\\n",
       "1                 0    64900000         159           2015-07-24      3   \n",
       "11                7    45000000         161           2017-10-17      3   \n",
       "104               1    40662000         151           2014-12-09      3   \n",
       "189               7    37000000         161           2016-05-22      3   \n",
       "314               1    36001900         142           2017-08-25      3   \n",
       "...             ...         ...         ...                  ...    ...   \n",
       "23686            11    40000000         290           2016-06-21     10   \n",
       "23687            20    65000000         590           2019-02-14     15   \n",
       "23688            14    49968900         398           2017-07-12      9   \n",
       "23693            15    88000000         400           2019-03-27      9   \n",
       "23698             8   420000000         900           2017-12-06     12   \n",
       "\n",
       "       ceiling_height  floors_total  living_area  floor is_apartment  ...  \\\n",
       "1                   2            14         45.0      9        False  ...   \n",
       "11                  3             8         38.0      4        False  ...   \n",
       "104                 2             8         85.0      3        False  ...   \n",
       "189                 2             9         84.0      8        False  ...   \n",
       "314                 3            11         79.3      6        False  ...   \n",
       "...               ...           ...          ...    ...          ...  ...   \n",
       "23686               3             6        189.4      6        False  ...   \n",
       "23687               3             6        409.0      3        False  ...   \n",
       "23688               3             2        160.1      1        False  ...   \n",
       "23693               2             2        250.0      1        False  ...   \n",
       "23698               2            25        409.7     25        False  ...   \n",
       "\n",
       "       days_exposition  median_living_area  days_exposition_missing  \\\n",
       "1                424.0                45.0                        0   \n",
       "11               541.0                45.0                        0   \n",
       "104              594.0                45.0                        0   \n",
       "189              402.0                45.0                        0   \n",
       "314                NaN                45.0                        1   \n",
       "...                ...                 ...                      ...   \n",
       "23686             77.0               161.4                        0   \n",
       "23687             14.0               409.0                        0   \n",
       "23688            471.0               179.2                        0   \n",
       "23693              NaN               179.2                        1   \n",
       "23698            106.0               409.7                        0   \n",
       "\n",
       "       cost_square_m weekday  month  year  floor_group  kitchen_to_total  \\\n",
       "1      408176.100629       4      7  2015       другой          0.057233   \n",
       "11     279503.105590       1     10  2017       другой          0.310559   \n",
       "104    269284.768212       1     12  2014       другой          0.152318   \n",
       "189    229813.664596       6      5  2016       другой          0.056522   \n",
       "314    253534.507042       4      8  2017       другой          0.093662   \n",
       "...              ...     ...    ...   ...          ...               ...   \n",
       "23686  137931.034483       1      6  2016    последний          0.103448   \n",
       "23687  110169.491525       3      2  2019       другой          0.169492   \n",
       "23688  125550.000000       2      7  2017       первый          0.103015   \n",
       "23693  220000.000000       2      3  2019       первый          0.125000   \n",
       "23698  466666.666667       2     12  2017    последний          0.124444   \n",
       "\n",
       "       living_to_total  \n",
       "1             0.283019  \n",
       "11            0.236025  \n",
       "104           0.562914  \n",
       "189           0.521739  \n",
       "314           0.558451  \n",
       "...                ...  \n",
       "23686         0.653103  \n",
       "23687         0.693220  \n",
       "23688         0.402261  \n",
       "23693         0.625000  \n",
       "23698         0.455222  \n",
       "\n",
       "[247 rows x 31 columns]"
      ]
     },
     "metadata": {},
     "output_type": "display_data"
    },
    {
     "data": {
      "text/html": [
       "<div>\n",
       "<style scoped>\n",
       "    .dataframe tbody tr th:only-of-type {\n",
       "        vertical-align: middle;\n",
       "    }\n",
       "\n",
       "    .dataframe tbody tr th {\n",
       "        vertical-align: top;\n",
       "    }\n",
       "\n",
       "    .dataframe thead th {\n",
       "        text-align: right;\n",
       "    }\n",
       "</style>\n",
       "<table border=\"1\" class=\"dataframe\">\n",
       "  <thead>\n",
       "    <tr style=\"text-align: right;\">\n",
       "      <th></th>\n",
       "      <th>total_images</th>\n",
       "      <th>last_price</th>\n",
       "      <th>total_area</th>\n",
       "      <th>first_day_exposition</th>\n",
       "      <th>rooms</th>\n",
       "      <th>ceiling_height</th>\n",
       "      <th>floors_total</th>\n",
       "      <th>living_area</th>\n",
       "      <th>floor</th>\n",
       "      <th>is_apartment</th>\n",
       "      <th>...</th>\n",
       "      <th>days_exposition</th>\n",
       "      <th>median_living_area</th>\n",
       "      <th>days_exposition_missing</th>\n",
       "      <th>cost_square_m</th>\n",
       "      <th>weekday</th>\n",
       "      <th>month</th>\n",
       "      <th>year</th>\n",
       "      <th>floor_group</th>\n",
       "      <th>kitchen_to_total</th>\n",
       "      <th>living_to_total</th>\n",
       "    </tr>\n",
       "  </thead>\n",
       "  <tbody>\n",
       "    <tr>\n",
       "      <th>0</th>\n",
       "      <td>20</td>\n",
       "      <td>13000000</td>\n",
       "      <td>108</td>\n",
       "      <td>2019-03-07</td>\n",
       "      <td>3</td>\n",
       "      <td>2</td>\n",
       "      <td>16</td>\n",
       "      <td>51.0</td>\n",
       "      <td>8</td>\n",
       "      <td>False</td>\n",
       "      <td>...</td>\n",
       "      <td>NaN</td>\n",
       "      <td>45.0</td>\n",
       "      <td>1</td>\n",
       "      <td>120370.370370</td>\n",
       "      <td>3</td>\n",
       "      <td>3</td>\n",
       "      <td>2019</td>\n",
       "      <td>другой</td>\n",
       "      <td>0.231481</td>\n",
       "      <td>0.472222</td>\n",
       "    </tr>\n",
       "    <tr>\n",
       "      <th>2</th>\n",
       "      <td>18</td>\n",
       "      <td>5400000</td>\n",
       "      <td>61</td>\n",
       "      <td>2017-02-26</td>\n",
       "      <td>3</td>\n",
       "      <td>2</td>\n",
       "      <td>9</td>\n",
       "      <td>43.6</td>\n",
       "      <td>7</td>\n",
       "      <td>False</td>\n",
       "      <td>...</td>\n",
       "      <td>289.0</td>\n",
       "      <td>45.0</td>\n",
       "      <td>0</td>\n",
       "      <td>88524.590164</td>\n",
       "      <td>6</td>\n",
       "      <td>2</td>\n",
       "      <td>2017</td>\n",
       "      <td>другой</td>\n",
       "      <td>0.106557</td>\n",
       "      <td>0.714754</td>\n",
       "    </tr>\n",
       "    <tr>\n",
       "      <th>3</th>\n",
       "      <td>11</td>\n",
       "      <td>6700000</td>\n",
       "      <td>82</td>\n",
       "      <td>2017-11-23</td>\n",
       "      <td>3</td>\n",
       "      <td>3</td>\n",
       "      <td>5</td>\n",
       "      <td>55.6</td>\n",
       "      <td>1</td>\n",
       "      <td>False</td>\n",
       "      <td>...</td>\n",
       "      <td>397.0</td>\n",
       "      <td>45.0</td>\n",
       "      <td>0</td>\n",
       "      <td>81707.317073</td>\n",
       "      <td>3</td>\n",
       "      <td>11</td>\n",
       "      <td>2017</td>\n",
       "      <td>первый</td>\n",
       "      <td>0.109756</td>\n",
       "      <td>0.678049</td>\n",
       "    </tr>\n",
       "    <tr>\n",
       "      <th>4</th>\n",
       "      <td>16</td>\n",
       "      <td>14200000</td>\n",
       "      <td>121</td>\n",
       "      <td>2019-01-09</td>\n",
       "      <td>3</td>\n",
       "      <td>2</td>\n",
       "      <td>16</td>\n",
       "      <td>76.0</td>\n",
       "      <td>8</td>\n",
       "      <td>False</td>\n",
       "      <td>...</td>\n",
       "      <td>97.0</td>\n",
       "      <td>45.0</td>\n",
       "      <td>0</td>\n",
       "      <td>117355.371901</td>\n",
       "      <td>2</td>\n",
       "      <td>1</td>\n",
       "      <td>2019</td>\n",
       "      <td>другой</td>\n",
       "      <td>0.099174</td>\n",
       "      <td>0.628099</td>\n",
       "    </tr>\n",
       "    <tr>\n",
       "      <th>5</th>\n",
       "      <td>12</td>\n",
       "      <td>6120000</td>\n",
       "      <td>80</td>\n",
       "      <td>2017-09-28</td>\n",
       "      <td>3</td>\n",
       "      <td>2</td>\n",
       "      <td>27</td>\n",
       "      <td>48.0</td>\n",
       "      <td>11</td>\n",
       "      <td>False</td>\n",
       "      <td>...</td>\n",
       "      <td>74.0</td>\n",
       "      <td>45.0</td>\n",
       "      <td>0</td>\n",
       "      <td>76500.000000</td>\n",
       "      <td>3</td>\n",
       "      <td>9</td>\n",
       "      <td>2017</td>\n",
       "      <td>другой</td>\n",
       "      <td>0.150000</td>\n",
       "      <td>0.600000</td>\n",
       "    </tr>\n",
       "    <tr>\n",
       "      <th>...</th>\n",
       "      <td>...</td>\n",
       "      <td>...</td>\n",
       "      <td>...</td>\n",
       "      <td>...</td>\n",
       "      <td>...</td>\n",
       "      <td>...</td>\n",
       "      <td>...</td>\n",
       "      <td>...</td>\n",
       "      <td>...</td>\n",
       "      <td>...</td>\n",
       "      <td>...</td>\n",
       "      <td>...</td>\n",
       "      <td>...</td>\n",
       "      <td>...</td>\n",
       "      <td>...</td>\n",
       "      <td>...</td>\n",
       "      <td>...</td>\n",
       "      <td>...</td>\n",
       "      <td>...</td>\n",
       "      <td>...</td>\n",
       "      <td>...</td>\n",
       "    </tr>\n",
       "    <tr>\n",
       "      <th>23692</th>\n",
       "      <td>14</td>\n",
       "      <td>19500000</td>\n",
       "      <td>309</td>\n",
       "      <td>2016-02-03</td>\n",
       "      <td>9</td>\n",
       "      <td>2</td>\n",
       "      <td>5</td>\n",
       "      <td>199.0</td>\n",
       "      <td>5</td>\n",
       "      <td>False</td>\n",
       "      <td>...</td>\n",
       "      <td>468.0</td>\n",
       "      <td>179.2</td>\n",
       "      <td>0</td>\n",
       "      <td>63106.796117</td>\n",
       "      <td>2</td>\n",
       "      <td>2</td>\n",
       "      <td>2016</td>\n",
       "      <td>последний</td>\n",
       "      <td>0.046278</td>\n",
       "      <td>0.644013</td>\n",
       "    </tr>\n",
       "    <tr>\n",
       "      <th>23694</th>\n",
       "      <td>14</td>\n",
       "      <td>29000000</td>\n",
       "      <td>292</td>\n",
       "      <td>2017-01-12</td>\n",
       "      <td>9</td>\n",
       "      <td>3</td>\n",
       "      <td>5</td>\n",
       "      <td>225.9</td>\n",
       "      <td>4</td>\n",
       "      <td>False</td>\n",
       "      <td>...</td>\n",
       "      <td>825.0</td>\n",
       "      <td>179.2</td>\n",
       "      <td>0</td>\n",
       "      <td>99315.068493</td>\n",
       "      <td>3</td>\n",
       "      <td>1</td>\n",
       "      <td>2017</td>\n",
       "      <td>другой</td>\n",
       "      <td>0.112671</td>\n",
       "      <td>0.773630</td>\n",
       "    </tr>\n",
       "    <tr>\n",
       "      <th>23695</th>\n",
       "      <td>0</td>\n",
       "      <td>24000000</td>\n",
       "      <td>250</td>\n",
       "      <td>2019-04-23</td>\n",
       "      <td>9</td>\n",
       "      <td>3</td>\n",
       "      <td>5</td>\n",
       "      <td>160.6</td>\n",
       "      <td>3</td>\n",
       "      <td>False</td>\n",
       "      <td>...</td>\n",
       "      <td>NaN</td>\n",
       "      <td>179.2</td>\n",
       "      <td>1</td>\n",
       "      <td>96000.000000</td>\n",
       "      <td>1</td>\n",
       "      <td>4</td>\n",
       "      <td>2019</td>\n",
       "      <td>другой</td>\n",
       "      <td>0.046800</td>\n",
       "      <td>0.642400</td>\n",
       "    </tr>\n",
       "    <tr>\n",
       "      <th>23696</th>\n",
       "      <td>6</td>\n",
       "      <td>32250000</td>\n",
       "      <td>374</td>\n",
       "      <td>2018-06-09</td>\n",
       "      <td>19</td>\n",
       "      <td>2</td>\n",
       "      <td>5</td>\n",
       "      <td>264.5</td>\n",
       "      <td>2</td>\n",
       "      <td>False</td>\n",
       "      <td>...</td>\n",
       "      <td>114.0</td>\n",
       "      <td>264.5</td>\n",
       "      <td>0</td>\n",
       "      <td>86229.946524</td>\n",
       "      <td>5</td>\n",
       "      <td>6</td>\n",
       "      <td>2018</td>\n",
       "      <td>другой</td>\n",
       "      <td>0.073797</td>\n",
       "      <td>0.707219</td>\n",
       "    </tr>\n",
       "    <tr>\n",
       "      <th>23697</th>\n",
       "      <td>6</td>\n",
       "      <td>28500000</td>\n",
       "      <td>270</td>\n",
       "      <td>2015-03-02</td>\n",
       "      <td>16</td>\n",
       "      <td>3</td>\n",
       "      <td>4</td>\n",
       "      <td>180.0</td>\n",
       "      <td>4</td>\n",
       "      <td>False</td>\n",
       "      <td>...</td>\n",
       "      <td>1365.0</td>\n",
       "      <td>180.0</td>\n",
       "      <td>0</td>\n",
       "      <td>105555.555556</td>\n",
       "      <td>0</td>\n",
       "      <td>3</td>\n",
       "      <td>2015</td>\n",
       "      <td>последний</td>\n",
       "      <td>0.048148</td>\n",
       "      <td>0.666667</td>\n",
       "    </tr>\n",
       "  </tbody>\n",
       "</table>\n",
       "<p>23194 rows × 31 columns</p>\n",
       "</div>"
      ],
      "text/plain": [
       "       total_images  last_price  total_area first_day_exposition  rooms  \\\n",
       "0                20    13000000         108           2019-03-07      3   \n",
       "2                18     5400000          61           2017-02-26      3   \n",
       "3                11     6700000          82           2017-11-23      3   \n",
       "4                16    14200000         121           2019-01-09      3   \n",
       "5                12     6120000          80           2017-09-28      3   \n",
       "...             ...         ...         ...                  ...    ...   \n",
       "23692            14    19500000         309           2016-02-03      9   \n",
       "23694            14    29000000         292           2017-01-12      9   \n",
       "23695             0    24000000         250           2019-04-23      9   \n",
       "23696             6    32250000         374           2018-06-09     19   \n",
       "23697             6    28500000         270           2015-03-02     16   \n",
       "\n",
       "       ceiling_height  floors_total  living_area  floor is_apartment  ...  \\\n",
       "0                   2            16         51.0      8        False  ...   \n",
       "2                   2             9         43.6      7        False  ...   \n",
       "3                   3             5         55.6      1        False  ...   \n",
       "4                   2            16         76.0      8        False  ...   \n",
       "5                   2            27         48.0     11        False  ...   \n",
       "...               ...           ...          ...    ...          ...  ...   \n",
       "23692               2             5        199.0      5        False  ...   \n",
       "23694               3             5        225.9      4        False  ...   \n",
       "23695               3             5        160.6      3        False  ...   \n",
       "23696               2             5        264.5      2        False  ...   \n",
       "23697               3             4        180.0      4        False  ...   \n",
       "\n",
       "       days_exposition  median_living_area  days_exposition_missing  \\\n",
       "0                  NaN                45.0                        1   \n",
       "2                289.0                45.0                        0   \n",
       "3                397.0                45.0                        0   \n",
       "4                 97.0                45.0                        0   \n",
       "5                 74.0                45.0                        0   \n",
       "...                ...                 ...                      ...   \n",
       "23692            468.0               179.2                        0   \n",
       "23694            825.0               179.2                        0   \n",
       "23695              NaN               179.2                        1   \n",
       "23696            114.0               264.5                        0   \n",
       "23697           1365.0               180.0                        0   \n",
       "\n",
       "       cost_square_m weekday  month  year  floor_group  kitchen_to_total  \\\n",
       "0      120370.370370       3      3  2019       другой          0.231481   \n",
       "2       88524.590164       6      2  2017       другой          0.106557   \n",
       "3       81707.317073       3     11  2017       первый          0.109756   \n",
       "4      117355.371901       2      1  2019       другой          0.099174   \n",
       "5       76500.000000       3      9  2017       другой          0.150000   \n",
       "...              ...     ...    ...   ...          ...               ...   \n",
       "23692   63106.796117       2      2  2016    последний          0.046278   \n",
       "23694   99315.068493       3      1  2017       другой          0.112671   \n",
       "23695   96000.000000       1      4  2019       другой          0.046800   \n",
       "23696   86229.946524       5      6  2018       другой          0.073797   \n",
       "23697  105555.555556       0      3  2015    последний          0.048148   \n",
       "\n",
       "       living_to_total  \n",
       "0             0.472222  \n",
       "2             0.714754  \n",
       "3             0.678049  \n",
       "4             0.628099  \n",
       "5             0.600000  \n",
       "...                ...  \n",
       "23692         0.644013  \n",
       "23694         0.773630  \n",
       "23695         0.642400  \n",
       "23696         0.707219  \n",
       "23697         0.666667  \n",
       "\n",
       "[23194 rows x 31 columns]"
      ]
     },
     "metadata": {},
     "output_type": "display_data"
    },
    {
     "data": {
      "image/png": "[encoded data removed]",
      "text/plain": [
       "<Figure size 432x288 with 1 Axes>"
      ]
     },
     "metadata": {
      "needs_background": "light"
     },
     "output_type": "display_data"
    }
   ],
   "source": [
    "# сортируем last_price и выводим уникальные значения\n",
    "print(data['last_price'].sort_values(ascending=True).unique())\n",
    "# строим гистограмму\n",
    "data.hist('last_price', bins=100)\n",
    "# выводим список характерных значений\n",
    "data['last_price'].describe().apply(lambda x: format(x, 'f'))\n",
    "# делаю срез для слишком маленьких стоимости\n",
    "so_small_price = data.query('last_price < 1000000')\n",
    "display(so_small_price)\n",
    "# делаю срез для слишком больших значений стоимости\n",
    "so_big_price = data.query('last_price > 35000000')\n",
    "display(so_big_price)\n",
    "# делаю рез для нормальных значений стоимости\n",
    "normal_price = data.query('last_price > 1000000 and last_price < 35000000')\n",
    "display(normal_price)"
   ]
  },
  {
   "cell_type": "markdown",
   "metadata": {},
   "source": [
    "Выполним сортировку цены мы видим, что минимальная стоимость квартиры 12 190, максимальная 763 000 000. Диаграмма оказалось не очень информативной, т.к. стоимость местами слишком высока. Сделав срезы мы выяснили, что кварир с аномально маленькой стоимостью не так много - всего 225 штук. С нормальной стоимостью квартир больше всего. И квартир с достаточно высокой ценой тож не слишком много - 247."
   ]
  },
  {
   "cell_type": "markdown",
   "metadata": {},
   "source": [
    "### Исследование комнат"
   ]
  },
  {
   "cell_type": "code",
   "execution_count": 16,
   "metadata": {},
   "outputs": [
    {
     "name": "stdout",
     "output_type": "stream",
     "text": [
      "[ 0  1  2  3  4  5  6  7  8  9 10 11 12 14 15 16 19]\n",
      "count    23699.000000\n",
      "mean         2.070636\n",
      "std          1.078405\n",
      "min          0.000000\n",
      "25%          1.000000\n",
      "50%          2.000000\n",
      "75%          3.000000\n",
      "max         19.000000\n",
      "Name: rooms, dtype: float64\n"
     ]
    },
    {
     "data": {
      "text/html": [
       "<div>\n",
       "<style scoped>\n",
       "    .dataframe tbody tr th:only-of-type {\n",
       "        vertical-align: middle;\n",
       "    }\n",
       "\n",
       "    .dataframe tbody tr th {\n",
       "        vertical-align: top;\n",
       "    }\n",
       "\n",
       "    .dataframe thead th {\n",
       "        text-align: right;\n",
       "    }\n",
       "</style>\n",
       "<table border=\"1\" class=\"dataframe\">\n",
       "  <thead>\n",
       "    <tr style=\"text-align: right;\">\n",
       "      <th></th>\n",
       "      <th>total_images</th>\n",
       "      <th>last_price</th>\n",
       "      <th>total_area</th>\n",
       "      <th>first_day_exposition</th>\n",
       "      <th>rooms</th>\n",
       "      <th>ceiling_height</th>\n",
       "      <th>floors_total</th>\n",
       "      <th>living_area</th>\n",
       "      <th>floor</th>\n",
       "      <th>is_apartment</th>\n",
       "      <th>...</th>\n",
       "      <th>days_exposition</th>\n",
       "      <th>median_living_area</th>\n",
       "      <th>days_exposition_missing</th>\n",
       "      <th>cost_square_m</th>\n",
       "      <th>weekday</th>\n",
       "      <th>month</th>\n",
       "      <th>year</th>\n",
       "      <th>floor_group</th>\n",
       "      <th>kitchen_to_total</th>\n",
       "      <th>living_to_total</th>\n",
       "    </tr>\n",
       "  </thead>\n",
       "  <tbody>\n",
       "    <tr>\n",
       "      <th>23307</th>\n",
       "      <td>20</td>\n",
       "      <td>11795000</td>\n",
       "      <td>136</td>\n",
       "      <td>2017-09-22</td>\n",
       "      <td>6</td>\n",
       "      <td>3</td>\n",
       "      <td>2</td>\n",
       "      <td>94.0</td>\n",
       "      <td>2</td>\n",
       "      <td>False</td>\n",
       "      <td>...</td>\n",
       "      <td>NaN</td>\n",
       "      <td>123.9</td>\n",
       "      <td>1</td>\n",
       "      <td>86727.941176</td>\n",
       "      <td>4</td>\n",
       "      <td>9</td>\n",
       "      <td>2017</td>\n",
       "      <td>последний</td>\n",
       "      <td>0.080882</td>\n",
       "      <td>0.691176</td>\n",
       "    </tr>\n",
       "    <tr>\n",
       "      <th>23308</th>\n",
       "      <td>5</td>\n",
       "      <td>10880000</td>\n",
       "      <td>123</td>\n",
       "      <td>2015-11-12</td>\n",
       "      <td>6</td>\n",
       "      <td>3</td>\n",
       "      <td>5</td>\n",
       "      <td>89.0</td>\n",
       "      <td>2</td>\n",
       "      <td>False</td>\n",
       "      <td>...</td>\n",
       "      <td>992.0</td>\n",
       "      <td>123.9</td>\n",
       "      <td>0</td>\n",
       "      <td>88455.284553</td>\n",
       "      <td>3</td>\n",
       "      <td>11</td>\n",
       "      <td>2015</td>\n",
       "      <td>другой</td>\n",
       "      <td>0.089431</td>\n",
       "      <td>0.723577</td>\n",
       "    </tr>\n",
       "    <tr>\n",
       "      <th>23309</th>\n",
       "      <td>15</td>\n",
       "      <td>66571000</td>\n",
       "      <td>280</td>\n",
       "      <td>2015-06-11</td>\n",
       "      <td>6</td>\n",
       "      <td>5</td>\n",
       "      <td>8</td>\n",
       "      <td>159.5</td>\n",
       "      <td>7</td>\n",
       "      <td>False</td>\n",
       "      <td>...</td>\n",
       "      <td>578.0</td>\n",
       "      <td>123.9</td>\n",
       "      <td>0</td>\n",
       "      <td>237753.571429</td>\n",
       "      <td>3</td>\n",
       "      <td>6</td>\n",
       "      <td>2015</td>\n",
       "      <td>другой</td>\n",
       "      <td>0.075357</td>\n",
       "      <td>0.569643</td>\n",
       "    </tr>\n",
       "    <tr>\n",
       "      <th>23310</th>\n",
       "      <td>5</td>\n",
       "      <td>90000000</td>\n",
       "      <td>225</td>\n",
       "      <td>2016-06-26</td>\n",
       "      <td>6</td>\n",
       "      <td>2</td>\n",
       "      <td>4</td>\n",
       "      <td>134.0</td>\n",
       "      <td>2</td>\n",
       "      <td>False</td>\n",
       "      <td>...</td>\n",
       "      <td>416.0</td>\n",
       "      <td>123.9</td>\n",
       "      <td>0</td>\n",
       "      <td>400000.000000</td>\n",
       "      <td>6</td>\n",
       "      <td>6</td>\n",
       "      <td>2016</td>\n",
       "      <td>другой</td>\n",
       "      <td>0.086667</td>\n",
       "      <td>0.595556</td>\n",
       "    </tr>\n",
       "    <tr>\n",
       "      <th>23311</th>\n",
       "      <td>14</td>\n",
       "      <td>18777000</td>\n",
       "      <td>181</td>\n",
       "      <td>2018-07-25</td>\n",
       "      <td>6</td>\n",
       "      <td>3</td>\n",
       "      <td>6</td>\n",
       "      <td>125.1</td>\n",
       "      <td>4</td>\n",
       "      <td>False</td>\n",
       "      <td>...</td>\n",
       "      <td>204.0</td>\n",
       "      <td>123.9</td>\n",
       "      <td>0</td>\n",
       "      <td>103740.331492</td>\n",
       "      <td>2</td>\n",
       "      <td>7</td>\n",
       "      <td>2018</td>\n",
       "      <td>другой</td>\n",
       "      <td>0.093370</td>\n",
       "      <td>0.691160</td>\n",
       "    </tr>\n",
       "    <tr>\n",
       "      <th>...</th>\n",
       "      <td>...</td>\n",
       "      <td>...</td>\n",
       "      <td>...</td>\n",
       "      <td>...</td>\n",
       "      <td>...</td>\n",
       "      <td>...</td>\n",
       "      <td>...</td>\n",
       "      <td>...</td>\n",
       "      <td>...</td>\n",
       "      <td>...</td>\n",
       "      <td>...</td>\n",
       "      <td>...</td>\n",
       "      <td>...</td>\n",
       "      <td>...</td>\n",
       "      <td>...</td>\n",
       "      <td>...</td>\n",
       "      <td>...</td>\n",
       "      <td>...</td>\n",
       "      <td>...</td>\n",
       "      <td>...</td>\n",
       "      <td>...</td>\n",
       "    </tr>\n",
       "    <tr>\n",
       "      <th>23694</th>\n",
       "      <td>14</td>\n",
       "      <td>29000000</td>\n",
       "      <td>292</td>\n",
       "      <td>2017-01-12</td>\n",
       "      <td>9</td>\n",
       "      <td>3</td>\n",
       "      <td>5</td>\n",
       "      <td>225.9</td>\n",
       "      <td>4</td>\n",
       "      <td>False</td>\n",
       "      <td>...</td>\n",
       "      <td>825.0</td>\n",
       "      <td>179.2</td>\n",
       "      <td>0</td>\n",
       "      <td>99315.068493</td>\n",
       "      <td>3</td>\n",
       "      <td>1</td>\n",
       "      <td>2017</td>\n",
       "      <td>другой</td>\n",
       "      <td>0.112671</td>\n",
       "      <td>0.773630</td>\n",
       "    </tr>\n",
       "    <tr>\n",
       "      <th>23695</th>\n",
       "      <td>0</td>\n",
       "      <td>24000000</td>\n",
       "      <td>250</td>\n",
       "      <td>2019-04-23</td>\n",
       "      <td>9</td>\n",
       "      <td>3</td>\n",
       "      <td>5</td>\n",
       "      <td>160.6</td>\n",
       "      <td>3</td>\n",
       "      <td>False</td>\n",
       "      <td>...</td>\n",
       "      <td>NaN</td>\n",
       "      <td>179.2</td>\n",
       "      <td>1</td>\n",
       "      <td>96000.000000</td>\n",
       "      <td>1</td>\n",
       "      <td>4</td>\n",
       "      <td>2019</td>\n",
       "      <td>другой</td>\n",
       "      <td>0.046800</td>\n",
       "      <td>0.642400</td>\n",
       "    </tr>\n",
       "    <tr>\n",
       "      <th>23696</th>\n",
       "      <td>6</td>\n",
       "      <td>32250000</td>\n",
       "      <td>374</td>\n",
       "      <td>2018-06-09</td>\n",
       "      <td>19</td>\n",
       "      <td>2</td>\n",
       "      <td>5</td>\n",
       "      <td>264.5</td>\n",
       "      <td>2</td>\n",
       "      <td>False</td>\n",
       "      <td>...</td>\n",
       "      <td>114.0</td>\n",
       "      <td>264.5</td>\n",
       "      <td>0</td>\n",
       "      <td>86229.946524</td>\n",
       "      <td>5</td>\n",
       "      <td>6</td>\n",
       "      <td>2018</td>\n",
       "      <td>другой</td>\n",
       "      <td>0.073797</td>\n",
       "      <td>0.707219</td>\n",
       "    </tr>\n",
       "    <tr>\n",
       "      <th>23697</th>\n",
       "      <td>6</td>\n",
       "      <td>28500000</td>\n",
       "      <td>270</td>\n",
       "      <td>2015-03-02</td>\n",
       "      <td>16</td>\n",
       "      <td>3</td>\n",
       "      <td>4</td>\n",
       "      <td>180.0</td>\n",
       "      <td>4</td>\n",
       "      <td>False</td>\n",
       "      <td>...</td>\n",
       "      <td>1365.0</td>\n",
       "      <td>180.0</td>\n",
       "      <td>0</td>\n",
       "      <td>105555.555556</td>\n",
       "      <td>0</td>\n",
       "      <td>3</td>\n",
       "      <td>2015</td>\n",
       "      <td>последний</td>\n",
       "      <td>0.048148</td>\n",
       "      <td>0.666667</td>\n",
       "    </tr>\n",
       "    <tr>\n",
       "      <th>23698</th>\n",
       "      <td>8</td>\n",
       "      <td>420000000</td>\n",
       "      <td>900</td>\n",
       "      <td>2017-12-06</td>\n",
       "      <td>12</td>\n",
       "      <td>2</td>\n",
       "      <td>25</td>\n",
       "      <td>409.7</td>\n",
       "      <td>25</td>\n",
       "      <td>False</td>\n",
       "      <td>...</td>\n",
       "      <td>106.0</td>\n",
       "      <td>409.7</td>\n",
       "      <td>0</td>\n",
       "      <td>466666.666667</td>\n",
       "      <td>2</td>\n",
       "      <td>12</td>\n",
       "      <td>2017</td>\n",
       "      <td>последний</td>\n",
       "      <td>0.124444</td>\n",
       "      <td>0.455222</td>\n",
       "    </tr>\n",
       "  </tbody>\n",
       "</table>\n",
       "<p>195 rows × 31 columns</p>\n",
       "</div>"
      ],
      "text/plain": [
       "       total_images  last_price  total_area first_day_exposition  rooms  \\\n",
       "23307            20    11795000         136           2017-09-22      6   \n",
       "23308             5    10880000         123           2015-11-12      6   \n",
       "23309            15    66571000         280           2015-06-11      6   \n",
       "23310             5    90000000         225           2016-06-26      6   \n",
       "23311            14    18777000         181           2018-07-25      6   \n",
       "...             ...         ...         ...                  ...    ...   \n",
       "23694            14    29000000         292           2017-01-12      9   \n",
       "23695             0    24000000         250           2019-04-23      9   \n",
       "23696             6    32250000         374           2018-06-09     19   \n",
       "23697             6    28500000         270           2015-03-02     16   \n",
       "23698             8   420000000         900           2017-12-06     12   \n",
       "\n",
       "       ceiling_height  floors_total  living_area  floor is_apartment  ...  \\\n",
       "23307               3             2         94.0      2        False  ...   \n",
       "23308               3             5         89.0      2        False  ...   \n",
       "23309               5             8        159.5      7        False  ...   \n",
       "23310               2             4        134.0      2        False  ...   \n",
       "23311               3             6        125.1      4        False  ...   \n",
       "...               ...           ...          ...    ...          ...  ...   \n",
       "23694               3             5        225.9      4        False  ...   \n",
       "23695               3             5        160.6      3        False  ...   \n",
       "23696               2             5        264.5      2        False  ...   \n",
       "23697               3             4        180.0      4        False  ...   \n",
       "23698               2            25        409.7     25        False  ...   \n",
       "\n",
       "       days_exposition  median_living_area  days_exposition_missing  \\\n",
       "23307              NaN               123.9                        1   \n",
       "23308            992.0               123.9                        0   \n",
       "23309            578.0               123.9                        0   \n",
       "23310            416.0               123.9                        0   \n",
       "23311            204.0               123.9                        0   \n",
       "...                ...                 ...                      ...   \n",
       "23694            825.0               179.2                        0   \n",
       "23695              NaN               179.2                        1   \n",
       "23696            114.0               264.5                        0   \n",
       "23697           1365.0               180.0                        0   \n",
       "23698            106.0               409.7                        0   \n",
       "\n",
       "       cost_square_m weekday  month  year  floor_group  kitchen_to_total  \\\n",
       "23307   86727.941176       4      9  2017    последний          0.080882   \n",
       "23308   88455.284553       3     11  2015       другой          0.089431   \n",
       "23309  237753.571429       3      6  2015       другой          0.075357   \n",
       "23310  400000.000000       6      6  2016       другой          0.086667   \n",
       "23311  103740.331492       2      7  2018       другой          0.093370   \n",
       "...              ...     ...    ...   ...          ...               ...   \n",
       "23694   99315.068493       3      1  2017       другой          0.112671   \n",
       "23695   96000.000000       1      4  2019       другой          0.046800   \n",
       "23696   86229.946524       5      6  2018       другой          0.073797   \n",
       "23697  105555.555556       0      3  2015    последний          0.048148   \n",
       "23698  466666.666667       2     12  2017    последний          0.124444   \n",
       "\n",
       "       living_to_total  \n",
       "23307         0.691176  \n",
       "23308         0.723577  \n",
       "23309         0.569643  \n",
       "23310         0.595556  \n",
       "23311         0.691160  \n",
       "...                ...  \n",
       "23694         0.773630  \n",
       "23695         0.642400  \n",
       "23696         0.707219  \n",
       "23697         0.666667  \n",
       "23698         0.455222  \n",
       "\n",
       "[195 rows x 31 columns]"
      ]
     },
     "execution_count": 16,
     "metadata": {},
     "output_type": "execute_result"
    },
    {
     "data": {
      "image/png": "[encoded data removed]",
      "text/plain": [
       "<Figure size 432x288 with 1 Axes>"
      ]
     },
     "metadata": {
      "needs_background": "light"
     },
     "output_type": "display_data"
    }
   ],
   "source": [
    "# сортируем rooms и выводим уникальные значения\n",
    "print(data['rooms'].sort_values(ascending=True).unique())\n",
    "# строим гистограмму\n",
    "data.hist('rooms', bins=5)\n",
    "# выводим список характерных значений\n",
    "print(data['rooms'].describe())\n",
    "# делаем срез для слишком большого количества комнат\n",
    "data.query('rooms > 5')"
   ]
  },
  {
   "cell_type": "markdown",
   "metadata": {},
   "source": [
    "Выведя уникальные значния колонки rooms мы видим, что минимальное количества комнат = 0, максимальное = 19. На диаграмме видно, что большая часть квартир из таблицы имеет от 0 до 3/4 комнат. Сделав срез, решила посмотреть, сколько квартир у нас имеют больше 4-х комнат - оказалось таких квартир всего 521. Относительно всей таблицы это не так много, около 2-х процентов. "
   ]
  },
  {
   "cell_type": "markdown",
   "metadata": {},
   "source": [
    "### Исследуем высоту потолков"
   ]
  },
  {
   "cell_type": "code",
   "execution_count": 17,
   "metadata": {
    "scrolled": true
   },
   "outputs": [
    {
     "name": "stdout",
     "output_type": "stream",
     "text": [
      "count    23699.000000\n",
      "mean         2.142411\n",
      "std          1.033337\n",
      "min          1.000000\n",
      "25%          2.000000\n",
      "50%          2.000000\n",
      "75%          2.000000\n",
      "max        100.000000\n",
      "Name: ceiling_height, dtype: float64\n",
      "2      21055\n",
      "3       2527\n",
      "4         77\n",
      "27         9\n",
      "25         7\n",
      "5          7\n",
      "8          4\n",
      "1          3\n",
      "32         2\n",
      "26         1\n",
      "10         1\n",
      "6          1\n",
      "24         1\n",
      "22         1\n",
      "100        1\n",
      "20         1\n",
      "14         1\n",
      "Name: ceiling_height, dtype: int64\n"
     ]
    },
    {
     "data": {
      "text/html": [
       "<div>\n",
       "<style scoped>\n",
       "    .dataframe tbody tr th:only-of-type {\n",
       "        vertical-align: middle;\n",
       "    }\n",
       "\n",
       "    .dataframe tbody tr th {\n",
       "        vertical-align: top;\n",
       "    }\n",
       "\n",
       "    .dataframe thead th {\n",
       "        text-align: right;\n",
       "    }\n",
       "</style>\n",
       "<table border=\"1\" class=\"dataframe\">\n",
       "  <thead>\n",
       "    <tr style=\"text-align: right;\">\n",
       "      <th></th>\n",
       "      <th>total_images</th>\n",
       "      <th>last_price</th>\n",
       "      <th>total_area</th>\n",
       "      <th>first_day_exposition</th>\n",
       "      <th>rooms</th>\n",
       "      <th>ceiling_height</th>\n",
       "      <th>floors_total</th>\n",
       "      <th>living_area</th>\n",
       "      <th>floor</th>\n",
       "      <th>is_apartment</th>\n",
       "      <th>...</th>\n",
       "      <th>days_exposition</th>\n",
       "      <th>median_living_area</th>\n",
       "      <th>days_exposition_missing</th>\n",
       "      <th>cost_square_m</th>\n",
       "      <th>weekday</th>\n",
       "      <th>month</th>\n",
       "      <th>year</th>\n",
       "      <th>floor_group</th>\n",
       "      <th>kitchen_to_total</th>\n",
       "      <th>living_to_total</th>\n",
       "    </tr>\n",
       "  </thead>\n",
       "  <tbody>\n",
       "    <tr>\n",
       "      <th>38</th>\n",
       "      <td>1</td>\n",
       "      <td>8200000</td>\n",
       "      <td>80</td>\n",
       "      <td>2018-11-06</td>\n",
       "      <td>3</td>\n",
       "      <td>4</td>\n",
       "      <td>3</td>\n",
       "      <td>44.2</td>\n",
       "      <td>2</td>\n",
       "      <td>False</td>\n",
       "      <td>...</td>\n",
       "      <td>38.0</td>\n",
       "      <td>45.0</td>\n",
       "      <td>0</td>\n",
       "      <td>102500.000000</td>\n",
       "      <td>1</td>\n",
       "      <td>11</td>\n",
       "      <td>2018</td>\n",
       "      <td>другой</td>\n",
       "      <td>0.152500</td>\n",
       "      <td>0.552500</td>\n",
       "    </tr>\n",
       "    <tr>\n",
       "      <th>47</th>\n",
       "      <td>5</td>\n",
       "      <td>14800000</td>\n",
       "      <td>108</td>\n",
       "      <td>2019-04-11</td>\n",
       "      <td>3</td>\n",
       "      <td>4</td>\n",
       "      <td>5</td>\n",
       "      <td>72.4</td>\n",
       "      <td>5</td>\n",
       "      <td>False</td>\n",
       "      <td>...</td>\n",
       "      <td>NaN</td>\n",
       "      <td>45.0</td>\n",
       "      <td>1</td>\n",
       "      <td>137037.037037</td>\n",
       "      <td>3</td>\n",
       "      <td>4</td>\n",
       "      <td>2019</td>\n",
       "      <td>последний</td>\n",
       "      <td>0.074074</td>\n",
       "      <td>0.670370</td>\n",
       "    </tr>\n",
       "    <tr>\n",
       "      <th>640</th>\n",
       "      <td>17</td>\n",
       "      <td>4850000</td>\n",
       "      <td>59</td>\n",
       "      <td>2017-11-18</td>\n",
       "      <td>3</td>\n",
       "      <td>4</td>\n",
       "      <td>5</td>\n",
       "      <td>46.3</td>\n",
       "      <td>4</td>\n",
       "      <td>False</td>\n",
       "      <td>...</td>\n",
       "      <td>60.0</td>\n",
       "      <td>45.0</td>\n",
       "      <td>0</td>\n",
       "      <td>82203.389831</td>\n",
       "      <td>5</td>\n",
       "      <td>11</td>\n",
       "      <td>2017</td>\n",
       "      <td>другой</td>\n",
       "      <td>0.108475</td>\n",
       "      <td>0.784746</td>\n",
       "    </tr>\n",
       "    <tr>\n",
       "      <th>657</th>\n",
       "      <td>10</td>\n",
       "      <td>3900000</td>\n",
       "      <td>68</td>\n",
       "      <td>2018-03-13</td>\n",
       "      <td>3</td>\n",
       "      <td>4</td>\n",
       "      <td>2</td>\n",
       "      <td>57.0</td>\n",
       "      <td>1</td>\n",
       "      <td>False</td>\n",
       "      <td>...</td>\n",
       "      <td>264.0</td>\n",
       "      <td>45.0</td>\n",
       "      <td>0</td>\n",
       "      <td>57352.941176</td>\n",
       "      <td>1</td>\n",
       "      <td>3</td>\n",
       "      <td>2018</td>\n",
       "      <td>первый</td>\n",
       "      <td>0.133824</td>\n",
       "      <td>0.838235</td>\n",
       "    </tr>\n",
       "    <tr>\n",
       "      <th>690</th>\n",
       "      <td>15</td>\n",
       "      <td>11990000</td>\n",
       "      <td>104</td>\n",
       "      <td>2018-03-13</td>\n",
       "      <td>3</td>\n",
       "      <td>4</td>\n",
       "      <td>3</td>\n",
       "      <td>66.0</td>\n",
       "      <td>2</td>\n",
       "      <td>False</td>\n",
       "      <td>...</td>\n",
       "      <td>350.0</td>\n",
       "      <td>45.0</td>\n",
       "      <td>0</td>\n",
       "      <td>115288.461538</td>\n",
       "      <td>1</td>\n",
       "      <td>3</td>\n",
       "      <td>2018</td>\n",
       "      <td>другой</td>\n",
       "      <td>0.144231</td>\n",
       "      <td>0.634615</td>\n",
       "    </tr>\n",
       "    <tr>\n",
       "      <th>...</th>\n",
       "      <td>...</td>\n",
       "      <td>...</td>\n",
       "      <td>...</td>\n",
       "      <td>...</td>\n",
       "      <td>...</td>\n",
       "      <td>...</td>\n",
       "      <td>...</td>\n",
       "      <td>...</td>\n",
       "      <td>...</td>\n",
       "      <td>...</td>\n",
       "      <td>...</td>\n",
       "      <td>...</td>\n",
       "      <td>...</td>\n",
       "      <td>...</td>\n",
       "      <td>...</td>\n",
       "      <td>...</td>\n",
       "      <td>...</td>\n",
       "      <td>...</td>\n",
       "      <td>...</td>\n",
       "      <td>...</td>\n",
       "      <td>...</td>\n",
       "    </tr>\n",
       "    <tr>\n",
       "      <th>23452</th>\n",
       "      <td>7</td>\n",
       "      <td>3000000</td>\n",
       "      <td>25</td>\n",
       "      <td>2017-09-27</td>\n",
       "      <td>0</td>\n",
       "      <td>27</td>\n",
       "      <td>25</td>\n",
       "      <td>17.0</td>\n",
       "      <td>17</td>\n",
       "      <td>False</td>\n",
       "      <td>...</td>\n",
       "      <td>28.0</td>\n",
       "      <td>18.0</td>\n",
       "      <td>0</td>\n",
       "      <td>120000.000000</td>\n",
       "      <td>2</td>\n",
       "      <td>9</td>\n",
       "      <td>2017</td>\n",
       "      <td>другой</td>\n",
       "      <td>0.364000</td>\n",
       "      <td>0.680000</td>\n",
       "    </tr>\n",
       "    <tr>\n",
       "      <th>23586</th>\n",
       "      <td>0</td>\n",
       "      <td>8200000</td>\n",
       "      <td>71</td>\n",
       "      <td>2017-07-21</td>\n",
       "      <td>0</td>\n",
       "      <td>5</td>\n",
       "      <td>5</td>\n",
       "      <td>68.0</td>\n",
       "      <td>5</td>\n",
       "      <td>False</td>\n",
       "      <td>...</td>\n",
       "      <td>30.0</td>\n",
       "      <td>18.0</td>\n",
       "      <td>0</td>\n",
       "      <td>115492.957746</td>\n",
       "      <td>4</td>\n",
       "      <td>7</td>\n",
       "      <td>2017</td>\n",
       "      <td>последний</td>\n",
       "      <td>0.128169</td>\n",
       "      <td>0.957746</td>\n",
       "    </tr>\n",
       "    <tr>\n",
       "      <th>23634</th>\n",
       "      <td>10</td>\n",
       "      <td>55000000</td>\n",
       "      <td>280</td>\n",
       "      <td>2018-03-22</td>\n",
       "      <td>7</td>\n",
       "      <td>4</td>\n",
       "      <td>6</td>\n",
       "      <td>195.0</td>\n",
       "      <td>5</td>\n",
       "      <td>False</td>\n",
       "      <td>...</td>\n",
       "      <td>406.0</td>\n",
       "      <td>145.0</td>\n",
       "      <td>0</td>\n",
       "      <td>196428.571429</td>\n",
       "      <td>3</td>\n",
       "      <td>3</td>\n",
       "      <td>2018</td>\n",
       "      <td>другой</td>\n",
       "      <td>0.078571</td>\n",
       "      <td>0.696429</td>\n",
       "    </tr>\n",
       "    <tr>\n",
       "      <th>23642</th>\n",
       "      <td>20</td>\n",
       "      <td>91500000</td>\n",
       "      <td>495</td>\n",
       "      <td>2017-06-19</td>\n",
       "      <td>7</td>\n",
       "      <td>4</td>\n",
       "      <td>7</td>\n",
       "      <td>347.5</td>\n",
       "      <td>7</td>\n",
       "      <td>False</td>\n",
       "      <td>...</td>\n",
       "      <td>14.0</td>\n",
       "      <td>145.0</td>\n",
       "      <td>0</td>\n",
       "      <td>184848.484848</td>\n",
       "      <td>0</td>\n",
       "      <td>6</td>\n",
       "      <td>2017</td>\n",
       "      <td>последний</td>\n",
       "      <td>0.050505</td>\n",
       "      <td>0.702020</td>\n",
       "    </tr>\n",
       "    <tr>\n",
       "      <th>23677</th>\n",
       "      <td>2</td>\n",
       "      <td>35300000</td>\n",
       "      <td>235</td>\n",
       "      <td>2018-11-15</td>\n",
       "      <td>8</td>\n",
       "      <td>4</td>\n",
       "      <td>4</td>\n",
       "      <td>162.0</td>\n",
       "      <td>3</td>\n",
       "      <td>False</td>\n",
       "      <td>...</td>\n",
       "      <td>7.0</td>\n",
       "      <td>161.0</td>\n",
       "      <td>0</td>\n",
       "      <td>150212.765957</td>\n",
       "      <td>3</td>\n",
       "      <td>11</td>\n",
       "      <td>2018</td>\n",
       "      <td>другой</td>\n",
       "      <td>0.110638</td>\n",
       "      <td>0.689362</td>\n",
       "    </tr>\n",
       "  </tbody>\n",
       "</table>\n",
       "<p>114 rows × 31 columns</p>\n",
       "</div>"
      ],
      "text/plain": [
       "       total_images  last_price  total_area first_day_exposition  rooms  \\\n",
       "38                1     8200000          80           2018-11-06      3   \n",
       "47                5    14800000         108           2019-04-11      3   \n",
       "640              17     4850000          59           2017-11-18      3   \n",
       "657              10     3900000          68           2018-03-13      3   \n",
       "690              15    11990000         104           2018-03-13      3   \n",
       "...             ...         ...         ...                  ...    ...   \n",
       "23452             7     3000000          25           2017-09-27      0   \n",
       "23586             0     8200000          71           2017-07-21      0   \n",
       "23634            10    55000000         280           2018-03-22      7   \n",
       "23642            20    91500000         495           2017-06-19      7   \n",
       "23677             2    35300000         235           2018-11-15      8   \n",
       "\n",
       "       ceiling_height  floors_total  living_area  floor is_apartment  ...  \\\n",
       "38                  4             3         44.2      2        False  ...   \n",
       "47                  4             5         72.4      5        False  ...   \n",
       "640                 4             5         46.3      4        False  ...   \n",
       "657                 4             2         57.0      1        False  ...   \n",
       "690                 4             3         66.0      2        False  ...   \n",
       "...               ...           ...          ...    ...          ...  ...   \n",
       "23452              27            25         17.0     17        False  ...   \n",
       "23586               5             5         68.0      5        False  ...   \n",
       "23634               4             6        195.0      5        False  ...   \n",
       "23642               4             7        347.5      7        False  ...   \n",
       "23677               4             4        162.0      3        False  ...   \n",
       "\n",
       "       days_exposition  median_living_area  days_exposition_missing  \\\n",
       "38                38.0                45.0                        0   \n",
       "47                 NaN                45.0                        1   \n",
       "640               60.0                45.0                        0   \n",
       "657              264.0                45.0                        0   \n",
       "690              350.0                45.0                        0   \n",
       "...                ...                 ...                      ...   \n",
       "23452             28.0                18.0                        0   \n",
       "23586             30.0                18.0                        0   \n",
       "23634            406.0               145.0                        0   \n",
       "23642             14.0               145.0                        0   \n",
       "23677              7.0               161.0                        0   \n",
       "\n",
       "       cost_square_m weekday  month  year  floor_group  kitchen_to_total  \\\n",
       "38     102500.000000       1     11  2018       другой          0.152500   \n",
       "47     137037.037037       3      4  2019    последний          0.074074   \n",
       "640     82203.389831       5     11  2017       другой          0.108475   \n",
       "657     57352.941176       1      3  2018       первый          0.133824   \n",
       "690    115288.461538       1      3  2018       другой          0.144231   \n",
       "...              ...     ...    ...   ...          ...               ...   \n",
       "23452  120000.000000       2      9  2017       другой          0.364000   \n",
       "23586  115492.957746       4      7  2017    последний          0.128169   \n",
       "23634  196428.571429       3      3  2018       другой          0.078571   \n",
       "23642  184848.484848       0      6  2017    последний          0.050505   \n",
       "23677  150212.765957       3     11  2018       другой          0.110638   \n",
       "\n",
       "       living_to_total  \n",
       "38            0.552500  \n",
       "47            0.670370  \n",
       "640           0.784746  \n",
       "657           0.838235  \n",
       "690           0.634615  \n",
       "...                ...  \n",
       "23452         0.680000  \n",
       "23586         0.957746  \n",
       "23634         0.696429  \n",
       "23642         0.702020  \n",
       "23677         0.689362  \n",
       "\n",
       "[114 rows x 31 columns]"
      ]
     },
     "execution_count": 17,
     "metadata": {},
     "output_type": "execute_result"
    },
    {
     "data": {
      "image/png": "[encoded data removed]",
      "text/plain": [
       "<Figure size 432x288 with 1 Axes>"
      ]
     },
     "metadata": {
      "needs_background": "light"
     },
     "output_type": "display_data"
    }
   ],
   "source": [
    "# строим гистограмму\n",
    "data.hist('ceiling_height', bins=10)\n",
    "# выводим список характерных значений\n",
    "print(data['ceiling_height'].describe())\n",
    "# выводим список уникальных значений по количеству в порядке убывания\n",
    "print(data['ceiling_height'].value_counts())\n",
    "# делаем срез, где высота потолков больше 4м\n",
    "data.query('ceiling_height > 3')\n"
   ]
  },
  {
   "cell_type": "markdown",
   "metadata": {},
   "source": [
    "Изучив высоту потолвков можно сделать вывод, что большая часть квартир имеет высоту потолков в 2 метра. Далее идут квартиры, которые имеют высоту потолков 3 и 4 метра. Квартиры, у которых высота больше 4-х метров всего 37 штук из всего набора данных."
   ]
  },
  {
   "cell_type": "markdown",
   "metadata": {},
   "source": [
    "### Исследуем время продажи квартиры"
   ]
  },
  {
   "cell_type": "code",
   "execution_count": 18,
   "metadata": {},
   "outputs": [
    {
     "data": {
      "text/plain": [
       "<AxesSubplot:>"
      ]
     },
     "execution_count": 18,
     "metadata": {},
     "output_type": "execute_result"
    },
    {
     "data": {
      "image/png": "[encoded data removed]",
      "text/plain": [
       "<Figure size 1440x360 with 1 Axes>"
      ]
     },
     "metadata": {
      "needs_background": "light"
     },
     "output_type": "display_data"
    }
   ],
   "source": [
    "# строим гистограмму\n",
    "data['days_exposition'].hist(bins=100, figsize=(20, 5))"
   ]
  },
  {
   "cell_type": "code",
   "execution_count": 19,
   "metadata": {},
   "outputs": [
    {
     "data": {
      "text/plain": [
       "<AxesSubplot:>"
      ]
     },
     "execution_count": 19,
     "metadata": {},
     "output_type": "execute_result"
    },
    {
     "data": {
      "image/png": "[encoded data removed]",
      "text/plain": [
       "<Figure size 1440x360 with 1 Axes>"
      ]
     },
     "metadata": {
      "needs_background": "light"
     },
     "output_type": "display_data"
    }
   ],
   "source": [
    "data['days_exposition'].hist(bins=50, range=(0, 180), figsize=(20,5))"
   ]
  },
  {
   "cell_type": "markdown",
   "metadata": {},
   "source": [
    "Построили гистограмму по длительности размещения объявления. Видно, что большее количество объявлений \"прожило\" около 180 дней. Самое долгое объявление висело 1580 дней (это почти 4 с половиной года). Увеличив масштаб мы видим, что \"пик\" продаж приходится примерно на 10-15 дней, 45 дней и 60. Думаю. что исходя из этих данных успешной сделкой можно считать ту, которая свершилась спустя 60 дней. Дальше данный идут на спад и пиков не наблюдается. Возможно, что всё то, что после - можно считать за неудачную сделку."
   ]
  },
  {
   "cell_type": "markdown",
   "metadata": {},
   "source": [
    "### Убираем редкие и выбивающиеся значения"
   ]
  },
  {
   "cell_type": "code",
   "execution_count": 20,
   "metadata": {},
   "outputs": [],
   "source": [
    "# делаем срез данных, тем самым убирая слишком большие и редкие значения площади\n",
    "data_new = data.query('total_area < 150')\n",
    "# делаем срез данных, тем самым убирая слишком маленькую и слишком большую стоимость\n",
    "data_new1 = data_new.query('last_price > 1000000 and last_price < 35000000')\n",
    "# делаем срез данных, тем самым убирая слишком большое количество комнат\n",
    "data_new2 = data_new1.query('rooms < 6')\n",
    "# делаем срез данных, тем самом убирая слишком большую высоту потолков\n",
    "data_new3 = data_new2.query('ceiling_height < 4')\n"
   ]
  },
  {
   "cell_type": "markdown",
   "metadata": {},
   "source": [
    "На данном этапе были убраны квартиры, которые больше 150 метров, имеют стоимость между 1000000 и 35000000, также в них не более 6-ти комнат и высота потолков не больше 4-х метров. Срезы были произведены по данным из исследования каждого из параметров."
   ]
  },
  {
   "cell_type": "markdown",
   "metadata": {},
   "source": [
    "## Проверяем зависмости"
   ]
  },
  {
   "cell_type": "markdown",
   "metadata": {},
   "source": [
    "### Проверяем зависимость стоимости квартиры от цены квадратного метра и расстояния до центра города"
   ]
  },
  {
   "cell_type": "code",
   "execution_count": 21,
   "metadata": {},
   "outputs": [
    {
     "name": "stdout",
     "output_type": "stream",
     "text": [
      "Находм коэффициент корреляции для last_price и cost_square_m\n",
      "0.7054931252575317\n",
      "Находм коэффициент корреляции для last_price и cityCenters_nearest\n",
      "-0.2844194085847721\n"
     ]
    },
    {
     "data": {
      "image/png": "[encoded data removed]",
      "text/plain": [
       "<Figure size 1800x360 with 1 Axes>"
      ]
     },
     "metadata": {
      "needs_background": "light"
     },
     "output_type": "display_data"
    },
    {
     "data": {
      "image/png": "[encoded data removed]",
      "text/plain": [
       "<Figure size 1800x360 with 1 Axes>"
      ]
     },
     "metadata": {
      "needs_background": "light"
     },
     "output_type": "display_data"
    }
   ],
   "source": [
    "# создаем новый DataFrame\n",
    "columns = ['cost_square_m', 'cityCenters_nearest']\n",
    "for column in columns:\n",
    "    \n",
    "    col = ['last_price', column]\n",
    "    price_to_m = data_new3[col]\n",
    "    # сортируем по колонке cost_square_m в порядке возрастания значений\n",
    "    price_to_m.sort_values(by=col[1], ascending=True)\n",
    "    # составляем график\n",
    "    price_to_m.plot(x='last_price', y=col[1], style='o', grid=True, figsize=(25, 5))\n",
    "    # находим корреляцию\n",
    "    print('Находм коэффициент корреляции для', col[0], 'и', col[1])\n",
    "    print(price_to_m['last_price'].corr(price_to_m[col[1]]))\n",
    "\n",
    "\n"
   ]
  },
  {
   "cell_type": "markdown",
   "metadata": {},
   "source": [
    "### Проверяем зависимость стоимости квартиры от этажа"
   ]
  },
  {
   "cell_type": "code",
   "execution_count": 22,
   "metadata": {},
   "outputs": [
    {
     "name": "stdout",
     "output_type": "stream",
     "text": [
      "count        2783.000000\n",
      "mean      4520982.293927\n",
      "std       2833052.339671\n",
      "min       1050000.000000\n",
      "25%       2900000.000000\n",
      "50%       3900000.000000\n",
      "75%       5390000.000000\n",
      "max      33000000.000000\n",
      "Name: last_price, dtype: object \n",
      "\n",
      "count        3072.000000\n",
      "mean      5242563.843099\n",
      "std       3706156.951202\n",
      "min       1020000.000000\n",
      "25%       3000000.000000\n",
      "50%       4250000.000000\n",
      "75%       6250000.000000\n",
      "max      34000000.000000\n",
      "Name: last_price, dtype: object\n"
     ]
    }
   ],
   "source": [
    "first_floor = data_new3.query('floor_group == \"первый\"')\n",
    "last_floor = data_new3.query('floor_group == \"последний\"')\n",
    "\n",
    "print(first_floor['last_price'].describe().apply(lambda x: format(x, 'f')),'\\n')\n",
    "print(last_floor['last_price'].describe().apply(lambda x: format(x, 'f')))\n",
    "\n",
    "\n"
   ]
  },
  {
   "cell_type": "markdown",
   "metadata": {},
   "source": [
    "### Проверяем зависимость стоимости квартиры от дня недели"
   ]
  },
  {
   "cell_type": "code",
   "execution_count": 23,
   "metadata": {},
   "outputs": [
    {
     "data": {
      "text/html": [
       "<div>\n",
       "<style scoped>\n",
       "    .dataframe tbody tr th:only-of-type {\n",
       "        vertical-align: middle;\n",
       "    }\n",
       "\n",
       "    .dataframe tbody tr th {\n",
       "        vertical-align: top;\n",
       "    }\n",
       "\n",
       "    .dataframe thead th {\n",
       "        text-align: right;\n",
       "    }\n",
       "</style>\n",
       "<table border=\"1\" class=\"dataframe\">\n",
       "  <thead>\n",
       "    <tr style=\"text-align: right;\">\n",
       "      <th></th>\n",
       "      <th>last_price</th>\n",
       "    </tr>\n",
       "    <tr>\n",
       "      <th>weekday</th>\n",
       "      <th></th>\n",
       "    </tr>\n",
       "  </thead>\n",
       "  <tbody>\n",
       "    <tr>\n",
       "      <th>0</th>\n",
       "      <td>5.601477e+06</td>\n",
       "    </tr>\n",
       "    <tr>\n",
       "      <th>1</th>\n",
       "      <td>5.584117e+06</td>\n",
       "    </tr>\n",
       "    <tr>\n",
       "      <th>2</th>\n",
       "      <td>5.630499e+06</td>\n",
       "    </tr>\n",
       "    <tr>\n",
       "      <th>3</th>\n",
       "      <td>5.620077e+06</td>\n",
       "    </tr>\n",
       "    <tr>\n",
       "      <th>4</th>\n",
       "      <td>5.601640e+06</td>\n",
       "    </tr>\n",
       "    <tr>\n",
       "      <th>5</th>\n",
       "      <td>5.439025e+06</td>\n",
       "    </tr>\n",
       "    <tr>\n",
       "      <th>6</th>\n",
       "      <td>5.409233e+06</td>\n",
       "    </tr>\n",
       "  </tbody>\n",
       "</table>\n",
       "</div>"
      ],
      "text/plain": [
       "           last_price\n",
       "weekday              \n",
       "0        5.601477e+06\n",
       "1        5.584117e+06\n",
       "2        5.630499e+06\n",
       "3        5.620077e+06\n",
       "4        5.601640e+06\n",
       "5        5.439025e+06\n",
       "6        5.409233e+06"
      ]
     },
     "metadata": {},
     "output_type": "display_data"
    },
    {
     "name": "stdout",
     "output_type": "stream",
     "text": [
      "AxesSubplot(0.125,0.125;0.775x0.755)\n"
     ]
    },
    {
     "data": {
      "text/plain": [
       "-0.01157365857880395"
      ]
     },
     "execution_count": 23,
     "metadata": {},
     "output_type": "execute_result"
    },
    {
     "data": {
      "image/png": "[encoded data removed]",
      "text/plain": [
       "<Figure size 432x288 with 1 Axes>"
      ]
     },
     "metadata": {
      "needs_background": "light"
     },
     "output_type": "display_data"
    }
   ],
   "source": [
    "pivot_weekday_to_price = data_new3.pivot_table(index='weekday', values='last_price', aggfunc='mean')\n",
    "display(pivot_weekday_to_price)\n",
    "print(pivot_weekday_to_price.plot())\n",
    "data_new3['last_price'].corr(data_new3['weekday'])"
   ]
  },
  {
   "cell_type": "markdown",
   "metadata": {},
   "source": [
    "### Проверяем зависимость стоимости квартиры от месяца"
   ]
  },
  {
   "cell_type": "code",
   "execution_count": 24,
   "metadata": {},
   "outputs": [
    {
     "data": {
      "text/html": [
       "<div>\n",
       "<style scoped>\n",
       "    .dataframe tbody tr th:only-of-type {\n",
       "        vertical-align: middle;\n",
       "    }\n",
       "\n",
       "    .dataframe tbody tr th {\n",
       "        vertical-align: top;\n",
       "    }\n",
       "\n",
       "    .dataframe thead th {\n",
       "        text-align: right;\n",
       "    }\n",
       "</style>\n",
       "<table border=\"1\" class=\"dataframe\">\n",
       "  <thead>\n",
       "    <tr style=\"text-align: right;\">\n",
       "      <th></th>\n",
       "      <th>last_price</th>\n",
       "    </tr>\n",
       "    <tr>\n",
       "      <th>month</th>\n",
       "      <th></th>\n",
       "    </tr>\n",
       "  </thead>\n",
       "  <tbody>\n",
       "    <tr>\n",
       "      <th>1</th>\n",
       "      <td>5.659144e+06</td>\n",
       "    </tr>\n",
       "    <tr>\n",
       "      <th>2</th>\n",
       "      <td>5.569452e+06</td>\n",
       "    </tr>\n",
       "    <tr>\n",
       "      <th>3</th>\n",
       "      <td>5.588277e+06</td>\n",
       "    </tr>\n",
       "    <tr>\n",
       "      <th>4</th>\n",
       "      <td>5.700939e+06</td>\n",
       "    </tr>\n",
       "    <tr>\n",
       "      <th>5</th>\n",
       "      <td>5.470345e+06</td>\n",
       "    </tr>\n",
       "    <tr>\n",
       "      <th>6</th>\n",
       "      <td>5.410109e+06</td>\n",
       "    </tr>\n",
       "    <tr>\n",
       "      <th>7</th>\n",
       "      <td>5.537013e+06</td>\n",
       "    </tr>\n",
       "    <tr>\n",
       "      <th>8</th>\n",
       "      <td>5.540385e+06</td>\n",
       "    </tr>\n",
       "    <tr>\n",
       "      <th>9</th>\n",
       "      <td>5.714962e+06</td>\n",
       "    </tr>\n",
       "    <tr>\n",
       "      <th>10</th>\n",
       "      <td>5.498366e+06</td>\n",
       "    </tr>\n",
       "    <tr>\n",
       "      <th>11</th>\n",
       "      <td>5.609410e+06</td>\n",
       "    </tr>\n",
       "    <tr>\n",
       "      <th>12</th>\n",
       "      <td>5.582641e+06</td>\n",
       "    </tr>\n",
       "  </tbody>\n",
       "</table>\n",
       "</div>"
      ],
      "text/plain": [
       "         last_price\n",
       "month              \n",
       "1      5.659144e+06\n",
       "2      5.569452e+06\n",
       "3      5.588277e+06\n",
       "4      5.700939e+06\n",
       "5      5.470345e+06\n",
       "6      5.410109e+06\n",
       "7      5.537013e+06\n",
       "8      5.540385e+06\n",
       "9      5.714962e+06\n",
       "10     5.498366e+06\n",
       "11     5.609410e+06\n",
       "12     5.582641e+06"
      ]
     },
     "metadata": {},
     "output_type": "display_data"
    },
    {
     "data": {
      "text/plain": [
       "<AxesSubplot:xlabel='month'>"
      ]
     },
     "execution_count": 24,
     "metadata": {},
     "output_type": "execute_result"
    },
    {
     "data": {
      "image/png": "[encoded data removed]",
      "text/plain": [
       "<Figure size 432x288 with 1 Axes>"
      ]
     },
     "metadata": {
      "needs_background": "light"
     },
     "output_type": "display_data"
    }
   ],
   "source": [
    "pivot_weekday_to_price = data_new3.pivot_table(index='month', values='last_price', aggfunc='mean')\n",
    "display(pivot_weekday_to_price)\n",
    "pivot_weekday_to_price.plot()"
   ]
  },
  {
   "cell_type": "markdown",
   "metadata": {},
   "source": [
    "### Проверяем зависимость стоимости квартиры от года"
   ]
  },
  {
   "cell_type": "code",
   "execution_count": 25,
   "metadata": {},
   "outputs": [
    {
     "data": {
      "text/html": [
       "<div>\n",
       "<style scoped>\n",
       "    .dataframe tbody tr th:only-of-type {\n",
       "        vertical-align: middle;\n",
       "    }\n",
       "\n",
       "    .dataframe tbody tr th {\n",
       "        vertical-align: top;\n",
       "    }\n",
       "\n",
       "    .dataframe thead th {\n",
       "        text-align: right;\n",
       "    }\n",
       "</style>\n",
       "<table border=\"1\" class=\"dataframe\">\n",
       "  <thead>\n",
       "    <tr style=\"text-align: right;\">\n",
       "      <th></th>\n",
       "      <th>last_price</th>\n",
       "    </tr>\n",
       "    <tr>\n",
       "      <th>year</th>\n",
       "      <th></th>\n",
       "    </tr>\n",
       "  </thead>\n",
       "  <tbody>\n",
       "    <tr>\n",
       "      <th>2014</th>\n",
       "      <td>8.920498e+06</td>\n",
       "    </tr>\n",
       "    <tr>\n",
       "      <th>2015</th>\n",
       "      <td>6.331399e+06</td>\n",
       "    </tr>\n",
       "    <tr>\n",
       "      <th>2016</th>\n",
       "      <td>5.558887e+06</td>\n",
       "    </tr>\n",
       "    <tr>\n",
       "      <th>2017</th>\n",
       "      <td>5.455516e+06</td>\n",
       "    </tr>\n",
       "    <tr>\n",
       "      <th>2018</th>\n",
       "      <td>5.434514e+06</td>\n",
       "    </tr>\n",
       "    <tr>\n",
       "      <th>2019</th>\n",
       "      <td>5.934478e+06</td>\n",
       "    </tr>\n",
       "  </tbody>\n",
       "</table>\n",
       "</div>"
      ],
      "text/plain": [
       "        last_price\n",
       "year              \n",
       "2014  8.920498e+06\n",
       "2015  6.331399e+06\n",
       "2016  5.558887e+06\n",
       "2017  5.455516e+06\n",
       "2018  5.434514e+06\n",
       "2019  5.934478e+06"
      ]
     },
     "metadata": {},
     "output_type": "display_data"
    },
    {
     "data": {
      "text/plain": [
       "<AxesSubplot:xlabel='year'>"
      ]
     },
     "execution_count": 25,
     "metadata": {},
     "output_type": "execute_result"
    },
    {
     "data": {
      "image/png": "[encoded data removed]",
      "text/plain": [
       "<Figure size 432x288 with 1 Axes>"
      ]
     },
     "metadata": {
      "needs_background": "light"
     },
     "output_type": "display_data"
    }
   ],
   "source": [
    "pivot_weekday_to_price = data_new3.pivot_table(index='year', values='last_price', aggfunc='mean')\n",
    "display(pivot_weekday_to_price)\n",
    "pivot_weekday_to_price.plot()"
   ]
  },
  {
   "cell_type": "markdown",
   "metadata": {},
   "source": [
    "### Проверяем зависимость стоимости квартиры от количества комнат"
   ]
  },
  {
   "cell_type": "code",
   "execution_count": 26,
   "metadata": {},
   "outputs": [
    {
     "data": {
      "text/html": [
       "<div>\n",
       "<style scoped>\n",
       "    .dataframe tbody tr th:only-of-type {\n",
       "        vertical-align: middle;\n",
       "    }\n",
       "\n",
       "    .dataframe tbody tr th {\n",
       "        vertical-align: top;\n",
       "    }\n",
       "\n",
       "    .dataframe thead th {\n",
       "        text-align: right;\n",
       "    }\n",
       "</style>\n",
       "<table border=\"1\" class=\"dataframe\">\n",
       "  <thead>\n",
       "    <tr style=\"text-align: right;\">\n",
       "      <th></th>\n",
       "      <th>last_price</th>\n",
       "    </tr>\n",
       "    <tr>\n",
       "      <th>rooms</th>\n",
       "      <th></th>\n",
       "    </tr>\n",
       "  </thead>\n",
       "  <tbody>\n",
       "    <tr>\n",
       "      <th>0</th>\n",
       "      <td>2.976093e+06</td>\n",
       "    </tr>\n",
       "    <tr>\n",
       "      <th>1</th>\n",
       "      <td>3.850057e+06</td>\n",
       "    </tr>\n",
       "    <tr>\n",
       "      <th>2</th>\n",
       "      <td>5.515008e+06</td>\n",
       "    </tr>\n",
       "    <tr>\n",
       "      <th>3</th>\n",
       "      <td>7.360557e+06</td>\n",
       "    </tr>\n",
       "    <tr>\n",
       "      <th>4</th>\n",
       "      <td>9.452165e+06</td>\n",
       "    </tr>\n",
       "    <tr>\n",
       "      <th>5</th>\n",
       "      <td>1.033756e+07</td>\n",
       "    </tr>\n",
       "  </tbody>\n",
       "</table>\n",
       "</div>"
      ],
      "text/plain": [
       "         last_price\n",
       "rooms              \n",
       "0      2.976093e+06\n",
       "1      3.850057e+06\n",
       "2      5.515008e+06\n",
       "3      7.360557e+06\n",
       "4      9.452165e+06\n",
       "5      1.033756e+07"
      ]
     },
     "metadata": {},
     "output_type": "display_data"
    },
    {
     "data": {
      "text/plain": [
       "<AxesSubplot:xlabel='rooms'>"
      ]
     },
     "execution_count": 26,
     "metadata": {},
     "output_type": "execute_result"
    },
    {
     "data": {
      "image/png": "[encoded data removed]",
      "text/plain": [
       "<Figure size 432x288 with 1 Axes>"
      ]
     },
     "metadata": {
      "needs_background": "light"
     },
     "output_type": "display_data"
    }
   ],
   "source": [
    "pivot_rooms_to_price = data_new3.pivot_table(index='rooms', values='last_price', aggfunc='mean')\n",
    "display(pivot_rooms_to_price)\n",
    "pivot_rooms_to_price.plot()"
   ]
  },
  {
   "cell_type": "markdown",
   "metadata": {},
   "source": [
    "После некоторых манипуляций и построения графиков можно сделать вывод, что:\n",
    "\n",
    "1) Зависимость между стоимостью квартиры и стоимостью квадратного метра есть. При повышении цены растет и стоимость квадртаного метра.\n",
    "\n",
    "2) Зависимость между стоиомстью квартиры и удаленностью от центра города есть. При удалении о центра города падает стоимость жилья.\n",
    "\n",
    "3) Зависимость между стоимостью квартиры и этажа квартиры (первый и последним) есть. При смене этажа меняется и стоимость.\n",
    "\n",
    "4) Зависимость между стоимостью квартиры и дня недели, месяца и года также есть.\n",
    "\n",
    "5) Зависимость между стоимостью квартиры и количества комнат есть. Количество комнат больше - стоимость больше.\n",
    "\n",
    "\n",
    "Во всех исследованиях зависимость есть. При изменении одного значения - меняется и второе, что говорит о зависимости между величинами."
   ]
  },
  {
   "cell_type": "markdown",
   "metadata": {},
   "source": [
    "### Исследования с населенными пунктами"
   ]
  },
  {
   "cell_type": "code",
   "execution_count": 27,
   "metadata": {},
   "outputs": [
    {
     "name": "stdout",
     "output_type": "stream",
     "text": [
      "                   days_exposition\n",
      "locality_name                     \n",
      "Санкт-Петербург              13115\n",
      "посёлок Мурино                 515\n",
      "посёлок Шушары                 408\n",
      "Всеволожск                     335\n",
      "Колпино                        307\n",
      "посёлок Парголово              301\n",
      "деревня Кудрово                299\n",
      "Пушкин                         297\n",
      "Гатчина                        266\n",
      "Выборг                         203\n"
     ]
    }
   ],
   "source": [
    "# выделяем то 10 населенных пунктов по количеству объявлений\n",
    "top_10_locality = data_new3.groupby(\n",
    "    ['locality_name']).agg({'days_exposition': 'count'}).sort_values(by='days_exposition', ascending=False\n",
    "                                                                  )\n",
    "print(top_10_locality.head(10))"
   ]
  },
  {
   "cell_type": "code",
   "execution_count": 28,
   "metadata": {},
   "outputs": [
    {
     "name": "stdout",
     "output_type": "stream",
     "text": [
      "Средняя стоимость квардратного метра в Санкт-петербурге: 111255\n"
     ]
    }
   ],
   "source": [
    "# делаем срез из чистых данных в которых есть только Санкт-Петербург\n",
    "saint_p = data_new3.query('locality_name == \"Санкт-Петербург\"')\n",
    "# находим среднюю стоимость квардратного метра\n",
    "mean_saint = saint_p['cost_square_m'].mean()\n",
    "mean_saint_normal = (\"%.0f\" % mean_saint)\n",
    "print('Средняя стоимость квардратного метра в Санкт-петербурге:', mean_saint_normal)"
   ]
  },
  {
   "cell_type": "code",
   "execution_count": 29,
   "metadata": {},
   "outputs": [
    {
     "name": "stdout",
     "output_type": "stream",
     "text": [
      "Средняя стоимость квардратного метра в посёлке Мурино: 86355\n"
     ]
    }
   ],
   "source": [
    "# делаем срез из чистых данных, в которых только посёлок Мурино\n",
    "murino = data_new3.query('locality_name == \"посёлок Мурино\"')\n",
    "# находим среднюю стоимость квардратного метра\n",
    "mean_murino = murino['cost_square_m'].mean()\n",
    "mean_murino_normal = (\"%.0f\" % mean_murino)\n",
    "print('Средняя стоимость квардратного метра в посёлке Мурино:', mean_murino_normal)"
   ]
  },
  {
   "cell_type": "code",
   "execution_count": 30,
   "metadata": {},
   "outputs": [
    {
     "name": "stdout",
     "output_type": "stream",
     "text": [
      "Средняя стоимость квардратного метра в посёлке Шушары: 79069\n"
     ]
    }
   ],
   "source": [
    "# делаем срез из чистых данных, в которых только посёлок Шушары\n",
    "shushari = data_new3.query('locality_name == \"посёлок Шушары\"')\n",
    "# находим среднюю стоимость квардратного метра\n",
    "mean_shushari = shushari['cost_square_m'].mean()\n",
    "mean_shushari_normal = (\"%.0f\" % mean_shushari)\n",
    "print('Средняя стоимость квардратного метра в посёлке Шушары:', mean_shushari_normal)"
   ]
  },
  {
   "cell_type": "code",
   "execution_count": 31,
   "metadata": {},
   "outputs": [
    {
     "name": "stdout",
     "output_type": "stream",
     "text": [
      "Средняя стоимость квардратного метра в Всеволжске: 68995\n"
     ]
    }
   ],
   "source": [
    "# делаем срез из чистых данных, в которых только Всеволожск\n",
    "vsevo = data_new3.query('locality_name == \"Всеволожск\"')\n",
    "# находим среднюю стоимость квардратного метра\n",
    "mean_vsevo = vsevo['cost_square_m'].mean()\n",
    "mean_vsevo_normal = (\"%.0f\" % mean_vsevo)\n",
    "print('Средняя стоимость квардратного метра в Всеволжске:', mean_vsevo_normal)"
   ]
  },
  {
   "cell_type": "code",
   "execution_count": 32,
   "metadata": {},
   "outputs": [
    {
     "name": "stdout",
     "output_type": "stream",
     "text": [
      "Средняя стоимость квардратного метра в Колпино: 75645\n"
     ]
    }
   ],
   "source": [
    "# делаем срез из чистых данных, в которых только Колпино\n",
    "kolpino = data_new3.query('locality_name == \"Колпино\"')\n",
    "# находим среднюю стоимость квардратного метра\n",
    "mean_kolpino = kolpino['cost_square_m'].mean()\n",
    "mean_kolpino_normal = (\"%.0f\" % mean_kolpino)\n",
    "print('Средняя стоимость квардратного метра в Колпино:', mean_kolpino_normal)"
   ]
  },
  {
   "cell_type": "code",
   "execution_count": 33,
   "metadata": {},
   "outputs": [
    {
     "name": "stdout",
     "output_type": "stream",
     "text": [
      "Средняя стоимость квардратного метра в посёлке Парголово: 90833\n"
     ]
    }
   ],
   "source": [
    "# делаем срез из чистых данных, в которых только посёлоке Парголово\n",
    "pargo = data_new3.query('locality_name == \"посёлок Парголово\"')\n",
    "# находим среднюю стоимость квардратного метра\n",
    "mean_pargo = pargo['cost_square_m'].mean()\n",
    "mean_pargo_normal = (\"%.0f\" % mean_pargo)\n",
    "print('Средняя стоимость квардратного метра в посёлке Парголово:', mean_pargo_normal)"
   ]
  },
  {
   "cell_type": "code",
   "execution_count": 34,
   "metadata": {},
   "outputs": [
    {
     "name": "stdout",
     "output_type": "stream",
     "text": [
      "Средняя стоимость квардратного метра в деревне Кудрово: 93002\n"
     ]
    }
   ],
   "source": [
    "# делаем срез из чистых данных, в которых только деревне Кудрово\n",
    "kudrovo = data_new3.query('locality_name == \"деревня Кудрово\"')\n",
    "# находим среднюю стоимость квардратного метра\n",
    "mean_kudrovo = kudrovo['cost_square_m'].mean()\n",
    "mean_kudrovo_normal = (\"%.0f\" % mean_kudrovo)\n",
    "print('Средняя стоимость квардратного метра в деревне Кудрово:', mean_kudrovo_normal)"
   ]
  },
  {
   "cell_type": "code",
   "execution_count": 35,
   "metadata": {},
   "outputs": [
    {
     "name": "stdout",
     "output_type": "stream",
     "text": [
      "Средняя стоимость квардратного метра в Пушкино: 103095\n"
     ]
    }
   ],
   "source": [
    "# делаем срез из чистых данных, в которых только Пушкино\n",
    "pushkin = data_new3.query('locality_name == \"Пушкин\"')\n",
    "# находим среднюю стоимость квардратного метра\n",
    "mean_pushkin = pushkin['cost_square_m'].mean()\n",
    "mean_pushkin_normal = (\"%.0f\" % mean_pushkin)\n",
    "print('Средняя стоимость квардратного метра в Пушкино:', mean_pushkin_normal)"
   ]
  },
  {
   "cell_type": "code",
   "execution_count": 36,
   "metadata": {},
   "outputs": [
    {
     "name": "stdout",
     "output_type": "stream",
     "text": [
      "Средняя стоимость квардратного метра в Гатчине: 69303\n"
     ]
    }
   ],
   "source": [
    "# делаем срез из чистых данных, в которых только Гатчине\n",
    "gatch = data_new3.query('locality_name == \"Гатчина\"')\n",
    "# находим среднюю стоимость квардратного метра\n",
    "mean_gatch = gatch['cost_square_m'].mean()\n",
    "mean_gatch_normal = (\"%.0f\" % mean_gatch)\n",
    "print('Средняя стоимость квардратного метра в Гатчине:', mean_gatch_normal)"
   ]
  },
  {
   "cell_type": "code",
   "execution_count": 37,
   "metadata": {},
   "outputs": [
    {
     "name": "stdout",
     "output_type": "stream",
     "text": [
      "Средняя стоимость квардратного метра в Выборге: 58796\n"
     ]
    }
   ],
   "source": [
    "# делаем срез из чистых данных, в которых только Выборге\n",
    "viborg = data_new3.query('locality_name == \"Выборг\"')\n",
    "# находим среднюю стоимость квардратного метра\n",
    "mean_viborg = viborg['cost_square_m'].mean()\n",
    "mean_viborg_normal = (\"%.0f\" % mean_viborg)\n",
    "print('Средняя стоимость квардратного метра в Выборге:', mean_viborg_normal)\n"
   ]
  },
  {
   "cell_type": "markdown",
   "metadata": {},
   "source": [
    "Изучив топ-10 населенных пунктов по количеству объявлений можем сказать, что самая высокая цена квадратного метра в Санкт-Петербурге и  Пушкино. Самая низкая стоимость за квадртаный метр наблюдается в Выборге."
   ]
  },
  {
   "cell_type": "markdown",
   "metadata": {},
   "source": [
    "### Изучим предложения квартир"
   ]
  },
  {
   "cell_type": "code",
   "execution_count": 38,
   "metadata": {},
   "outputs": [
    {
     "data": {
      "text/plain": [
       "<AxesSubplot:xlabel='cityCenters_nearest_km'>"
      ]
     },
     "execution_count": 38,
     "metadata": {},
     "output_type": "execute_result"
    },
    {
     "data": {
      "image/png": "[encoded data removed]",
      "text/plain": [
       "<Figure size 864x216 with 1 Axes>"
      ]
     },
     "metadata": {
      "needs_background": "light"
     },
     "output_type": "display_data"
    }
   ],
   "source": [
    "# выделяем квартиры в Санкт Петербурге\n",
    "saint_p_data = data_new3.query('locality_name == \"Санкт-Петербург\"')\n",
    "# создаем столбец для расстояния от центра города в км\n",
    "saint_p_data['cityCenters_nearest_km'] = (saint_p_data['cityCenters_nearest'] / 1000).round()\n",
    "# считаем среднюю цену для каждого километра, округляем занчения и выводим график\n",
    "saint_p_data.groupby(['cityCenters_nearest_km']).agg({'last_price': 'mean'}).round().plot(figsize=(12, 3))"
   ]
  },
  {
   "cell_type": "markdown",
   "metadata": {},
   "source": [
    "Построив график отношения средней цены километра и удаленности от центра в км можем сказать, что \"центром' можно считать квартиры, которые не выходят за пределы 7 км, после этой точки - цена больше не растет а только падает. В конце графика мы видим небольшой рост цены ( расстояние более 25 км ), возможно это связано с тем, что там находится какой-то крутой поселок с элитной недвижимостью."
   ]
  },
  {
   "cell_type": "markdown",
   "metadata": {},
   "source": [
    "## Выделение сегмента и анализ параметров"
   ]
  },
  {
   "cell_type": "markdown",
   "metadata": {},
   "source": [
    "### Анализируем площадь и сравниваем с первоначальным исследованием"
   ]
  },
  {
   "cell_type": "code",
   "execution_count": 39,
   "metadata": {},
   "outputs": [
    {
     "data": {
      "text/plain": [
       "array(['Санкт-Петербург', 'unknown'], dtype=object)"
      ]
     },
     "execution_count": 39,
     "metadata": {},
     "output_type": "execute_result"
    }
   ],
   "source": [
    "# делаем срез данных в которых квартиры расположены не больше чем в 7км от центра\n",
    "near_to_center = data_new3.query('cityCenters_nearest <= 7000')\n",
    "# смотрим, какие уникальные значения остались в колонке locality name\n",
    "near_to_center['locality_name'].unique()\n"
   ]
  },
  {
   "cell_type": "code",
   "execution_count": 40,
   "metadata": {},
   "outputs": [
    {
     "name": "stdout",
     "output_type": "stream",
     "text": [
      "['Санкт-Петербург']\n"
     ]
    }
   ],
   "source": [
    "# заменяем unknown на Санкт-Петербург\n",
    "near_to_center.loc[near_to_center['locality_name'] == 'unknown', 'locality_name'] = 'Санкт-Петербург'\n",
    "# проверяем\n",
    "print(near_to_center['locality_name'].unique())"
   ]
  },
  {
   "cell_type": "code",
   "execution_count": 41,
   "metadata": {},
   "outputs": [
    {
     "data": {
      "text/plain": [
       "count    2801.000000\n",
       "mean       75.908604\n",
       "std        28.344265\n",
       "min        12.000000\n",
       "25%        54.000000\n",
       "50%        72.000000\n",
       "75%        95.000000\n",
       "max       149.000000\n",
       "Name: total_area, dtype: float64"
      ]
     },
     "execution_count": 41,
     "metadata": {},
     "output_type": "execute_result"
    },
    {
     "data": {
      "image/png": "[encoded data removed]",
      "text/plain": [
       "<Figure size 432x288 with 1 Axes>"
      ]
     },
     "metadata": {
      "needs_background": "light"
     },
     "output_type": "display_data"
    }
   ],
   "source": [
    "# построим гистограмму по площади\n",
    "near_to_center['total_area'].hist()\n",
    "\n",
    "# выведем список характерных данных\n",
    "near_to_center['total_area'].describe()"
   ]
  },
  {
   "cell_type": "markdown",
   "metadata": {},
   "source": [
    "Выведя гистограмму на экран мы видим что распределение почти похоже на нормальное . Минимальное значение не отличается от изначального исследование, а максимальное имеет большое отличие.  В целом, от выводов по городу текущее исследование немного отличается. Здесь пик по кв.м приходится на 40-80 кв.м."
   ]
  },
  {
   "cell_type": "markdown",
   "metadata": {},
   "source": [
    "### Анализируем цену и сравниваем с первоначальным исследованием"
   ]
  },
  {
   "cell_type": "code",
   "execution_count": 42,
   "metadata": {},
   "outputs": [
    {
     "data": {
      "text/plain": [
       "count        2801.0\n",
       "mean      9899002.0\n",
       "std       5352034.0\n",
       "min       1600000.0\n",
       "25%       6450000.0\n",
       "50%       8490000.0\n",
       "75%      11790000.0\n",
       "max      34878556.0\n",
       "Name: last_price, dtype: float64"
      ]
     },
     "execution_count": 42,
     "metadata": {},
     "output_type": "execute_result"
    },
    {
     "data": {
      "image/png": "[encoded data removed]",
      "text/plain": [
       "<Figure size 432x288 with 1 Axes>"
      ]
     },
     "metadata": {
      "needs_background": "light"
     },
     "output_type": "display_data"
    }
   ],
   "source": [
    "# делаем срез данных в которых квартиры расположены не больше чем в 7км от центра\n",
    "near_to_center = data_new3.query('cityCenters_nearest <= 7000')\n",
    "# строим гистограмму\n",
    "near_to_center['last_price'].hist()\n",
    "# выводим список характерных значений\n",
    "near_to_center['last_price'].describe().round()"
   ]
  },
  {
   "cell_type": "markdown",
   "metadata": {},
   "source": [
    "Здесь ситуация вроде похоже. Распределение похоже на нормальное. От изначального исследования по цене отличается, здесь уже нет слишком больших и маленьких значений, но всё еще присутствует большой хвост."
   ]
  },
  {
   "cell_type": "markdown",
   "metadata": {},
   "source": [
    "### Анализируем количетво комнат и сравниваем с первоначальным исследованием"
   ]
  },
  {
   "cell_type": "code",
   "execution_count": 43,
   "metadata": {},
   "outputs": [
    {
     "data": {
      "text/plain": [
       "count    2801.000000\n",
       "mean        2.523742\n",
       "std         1.044829\n",
       "min         0.000000\n",
       "25%         2.000000\n",
       "50%         2.000000\n",
       "75%         3.000000\n",
       "max         5.000000\n",
       "Name: rooms, dtype: float64"
      ]
     },
     "execution_count": 43,
     "metadata": {},
     "output_type": "execute_result"
    },
    {
     "data": {
      "image/png": "[encoded data removed]",
      "text/plain": [
       "<Figure size 432x288 with 1 Axes>"
      ]
     },
     "metadata": {
      "needs_background": "light"
     },
     "output_type": "display_data"
    }
   ],
   "source": [
    "# делаем срез данных в которых квартиры расположены не больше чем в 7км от центра\n",
    "near_to_center = data_new3.query('cityCenters_nearest <= 7000')\n",
    "# строим гистограмму\n",
    "near_to_center.hist('rooms', bins=10)\n",
    "# выводим список характерных значений\n",
    "near_to_center['rooms'].describe()"
   ]
  },
  {
   "cell_type": "markdown",
   "metadata": {},
   "source": [
    "Тоже и здесь. Данные отличаются от изначального исследования. Здесь пик по количеству комнат приходится на 2-3."
   ]
  },
  {
   "cell_type": "markdown",
   "metadata": {},
   "source": [
    "### Анализируем высоту потолков и сравниваем с изначальным исследованием"
   ]
  },
  {
   "cell_type": "code",
   "execution_count": 44,
   "metadata": {},
   "outputs": [
    {
     "name": "stdout",
     "output_type": "stream",
     "text": [
      "count    2801.000000\n",
      "mean        2.416280\n",
      "std         0.493029\n",
      "min         2.000000\n",
      "25%         2.000000\n",
      "50%         2.000000\n",
      "75%         3.000000\n",
      "max         3.000000\n",
      "Name: ceiling_height, dtype: float64\n"
     ]
    },
    {
     "data": {
      "text/plain": [
       "2    1635\n",
       "3    1166\n",
       "Name: ceiling_height, dtype: int64"
      ]
     },
     "execution_count": 44,
     "metadata": {},
     "output_type": "execute_result"
    },
    {
     "data": {
      "image/png": "[encoded data removed]",
      "text/plain": [
       "<Figure size 432x288 with 1 Axes>"
      ]
     },
     "metadata": {
      "needs_background": "light"
     },
     "output_type": "display_data"
    }
   ],
   "source": [
    "# делаем срез данных в которых квартиры расположены не больше чем в 7км от центра\n",
    "near_to_center = data_new3.query('cityCenters_nearest <= 7000')\n",
    "# строим гистограмму\n",
    "near_to_center.hist('ceiling_height', bins=5)\n",
    "# выводим список характерных значений\n",
    "print(near_to_center['ceiling_height'].describe())\n",
    "# смотрим список уникальных значений и частоту их появлений\n",
    "near_to_center['ceiling_height'].value_counts()\n"
   ]
  },
  {
   "cell_type": "markdown",
   "metadata": {},
   "source": [
    "Идентично, данные отличаются. По первоначальному исследованию было видно, что в большинстве квартир высота потолков была 2м. Здесь же 2-3. Выше 3-х метров квартир нет вообще."
   ]
  },
  {
   "cell_type": "markdown",
   "metadata": {},
   "source": [
    "### Зависимость цены от числа комнат"
   ]
  },
  {
   "cell_type": "code",
   "execution_count": 45,
   "metadata": {},
   "outputs": [
    {
     "data": {
      "text/html": [
       "<div>\n",
       "<style scoped>\n",
       "    .dataframe tbody tr th:only-of-type {\n",
       "        vertical-align: middle;\n",
       "    }\n",
       "\n",
       "    .dataframe tbody tr th {\n",
       "        vertical-align: top;\n",
       "    }\n",
       "\n",
       "    .dataframe thead th {\n",
       "        text-align: right;\n",
       "    }\n",
       "</style>\n",
       "<table border=\"1\" class=\"dataframe\">\n",
       "  <thead>\n",
       "    <tr style=\"text-align: right;\">\n",
       "      <th></th>\n",
       "      <th>last_price</th>\n",
       "    </tr>\n",
       "    <tr>\n",
       "      <th>rooms</th>\n",
       "      <th></th>\n",
       "    </tr>\n",
       "  </thead>\n",
       "  <tbody>\n",
       "    <tr>\n",
       "      <th>0</th>\n",
       "      <td>5205769.0</td>\n",
       "    </tr>\n",
       "    <tr>\n",
       "      <th>1</th>\n",
       "      <td>6589179.0</td>\n",
       "    </tr>\n",
       "    <tr>\n",
       "      <th>2</th>\n",
       "      <td>9046080.0</td>\n",
       "    </tr>\n",
       "    <tr>\n",
       "      <th>3</th>\n",
       "      <td>11359328.0</td>\n",
       "    </tr>\n",
       "    <tr>\n",
       "      <th>4</th>\n",
       "      <td>12227836.0</td>\n",
       "    </tr>\n",
       "    <tr>\n",
       "      <th>5</th>\n",
       "      <td>11921673.0</td>\n",
       "    </tr>\n",
       "  </tbody>\n",
       "</table>\n",
       "</div>"
      ],
      "text/plain": [
       "       last_price\n",
       "rooms            \n",
       "0       5205769.0\n",
       "1       6589179.0\n",
       "2       9046080.0\n",
       "3      11359328.0\n",
       "4      12227836.0\n",
       "5      11921673.0"
      ]
     },
     "metadata": {},
     "output_type": "display_data"
    },
    {
     "data": {
      "text/plain": [
       "<AxesSubplot:xlabel='rooms'>"
      ]
     },
     "execution_count": 45,
     "metadata": {},
     "output_type": "execute_result"
    },
    {
     "data": {
      "image/png": "[encoded data removed]",
      "text/plain": [
       "<Figure size 432x288 with 1 Axes>"
      ]
     },
     "metadata": {
      "needs_background": "light"
     },
     "output_type": "display_data"
    }
   ],
   "source": [
    "# делаем срез данных в которых квартиры расположены не больше чем в 7км от центра\n",
    "near_to_center = data_new3.query('cityCenters_nearest <= 7000')\n",
    "# создаем сводную таблицу\n",
    "pivot_price_to_rooms = near_to_center.pivot_table(index='rooms', values='last_price', aggfunc='mean').round()\n",
    "# выводим\n",
    "display(pivot_price_to_rooms)\n",
    "# строим график\n",
    "pivot_price_to_rooms.plot()"
   ]
  },
  {
   "cell_type": "markdown",
   "metadata": {},
   "source": [
    "с абсолютной точностью можем сказать, что количество комнат влияет на стоимость. На графике видно, что от увеличения числа комнат растет и стоимость."
   ]
  },
  {
   "cell_type": "markdown",
   "metadata": {},
   "source": [
    "### Зависимость цены от этажа"
   ]
  },
  {
   "cell_type": "code",
   "execution_count": 46,
   "metadata": {},
   "outputs": [
    {
     "data": {
      "text/html": [
       "<div>\n",
       "<style scoped>\n",
       "    .dataframe tbody tr th:only-of-type {\n",
       "        vertical-align: middle;\n",
       "    }\n",
       "\n",
       "    .dataframe tbody tr th {\n",
       "        vertical-align: top;\n",
       "    }\n",
       "\n",
       "    .dataframe thead th {\n",
       "        text-align: right;\n",
       "    }\n",
       "</style>\n",
       "<table border=\"1\" class=\"dataframe\">\n",
       "  <thead>\n",
       "    <tr style=\"text-align: right;\">\n",
       "      <th></th>\n",
       "      <th>last_price</th>\n",
       "    </tr>\n",
       "    <tr>\n",
       "      <th>floor</th>\n",
       "      <th></th>\n",
       "    </tr>\n",
       "  </thead>\n",
       "  <tbody>\n",
       "    <tr>\n",
       "      <th>1</th>\n",
       "      <td>6500000.0</td>\n",
       "    </tr>\n",
       "    <tr>\n",
       "      <th>2</th>\n",
       "      <td>8550000.0</td>\n",
       "    </tr>\n",
       "    <tr>\n",
       "      <th>3</th>\n",
       "      <td>8350000.0</td>\n",
       "    </tr>\n",
       "    <tr>\n",
       "      <th>4</th>\n",
       "      <td>8750000.0</td>\n",
       "    </tr>\n",
       "    <tr>\n",
       "      <th>5</th>\n",
       "      <td>8500000.0</td>\n",
       "    </tr>\n",
       "    <tr>\n",
       "      <th>6</th>\n",
       "      <td>9703500.0</td>\n",
       "    </tr>\n",
       "    <tr>\n",
       "      <th>7</th>\n",
       "      <td>9485000.0</td>\n",
       "    </tr>\n",
       "    <tr>\n",
       "      <th>8</th>\n",
       "      <td>10600000.0</td>\n",
       "    </tr>\n",
       "    <tr>\n",
       "      <th>9</th>\n",
       "      <td>8354205.0</td>\n",
       "    </tr>\n",
       "    <tr>\n",
       "      <th>10</th>\n",
       "      <td>10548600.0</td>\n",
       "    </tr>\n",
       "    <tr>\n",
       "      <th>11</th>\n",
       "      <td>9990000.0</td>\n",
       "    </tr>\n",
       "    <tr>\n",
       "      <th>12</th>\n",
       "      <td>11730000.0</td>\n",
       "    </tr>\n",
       "    <tr>\n",
       "      <th>13</th>\n",
       "      <td>8235000.0</td>\n",
       "    </tr>\n",
       "    <tr>\n",
       "      <th>14</th>\n",
       "      <td>8593500.0</td>\n",
       "    </tr>\n",
       "    <tr>\n",
       "      <th>15</th>\n",
       "      <td>15500000.0</td>\n",
       "    </tr>\n",
       "    <tr>\n",
       "      <th>16</th>\n",
       "      <td>9717372.0</td>\n",
       "    </tr>\n",
       "    <tr>\n",
       "      <th>17</th>\n",
       "      <td>15000000.0</td>\n",
       "    </tr>\n",
       "    <tr>\n",
       "      <th>18</th>\n",
       "      <td>12900000.0</td>\n",
       "    </tr>\n",
       "    <tr>\n",
       "      <th>19</th>\n",
       "      <td>20646648.0</td>\n",
       "    </tr>\n",
       "    <tr>\n",
       "      <th>20</th>\n",
       "      <td>20000000.0</td>\n",
       "    </tr>\n",
       "    <tr>\n",
       "      <th>21</th>\n",
       "      <td>6100000.0</td>\n",
       "    </tr>\n",
       "    <tr>\n",
       "      <th>23</th>\n",
       "      <td>12995000.0</td>\n",
       "    </tr>\n",
       "  </tbody>\n",
       "</table>\n",
       "</div>"
      ],
      "text/plain": [
       "       last_price\n",
       "floor            \n",
       "1       6500000.0\n",
       "2       8550000.0\n",
       "3       8350000.0\n",
       "4       8750000.0\n",
       "5       8500000.0\n",
       "6       9703500.0\n",
       "7       9485000.0\n",
       "8      10600000.0\n",
       "9       8354205.0\n",
       "10     10548600.0\n",
       "11      9990000.0\n",
       "12     11730000.0\n",
       "13      8235000.0\n",
       "14      8593500.0\n",
       "15     15500000.0\n",
       "16      9717372.0\n",
       "17     15000000.0\n",
       "18     12900000.0\n",
       "19     20646648.0\n",
       "20     20000000.0\n",
       "21      6100000.0\n",
       "23     12995000.0"
      ]
     },
     "metadata": {},
     "output_type": "display_data"
    },
    {
     "data": {
      "text/plain": [
       "<AxesSubplot:xlabel='floor'>"
      ]
     },
     "execution_count": 46,
     "metadata": {},
     "output_type": "execute_result"
    },
    {
     "data": {
      "image/png": "[encoded data removed]",
      "text/plain": [
       "<Figure size 432x288 with 1 Axes>"
      ]
     },
     "metadata": {
      "needs_background": "light"
     },
     "output_type": "display_data"
    }
   ],
   "source": [
    "# делаем срез данных в которых квартиры расположены не больше чем в 7км от центра\n",
    "near_to_center = data_new3.query('cityCenters_nearest <= 7000')\n",
    "# делаем сводную таблицу\n",
    "pivot_price_to_floor = near_to_center.pivot_table(index='floor', values='last_price', aggfunc='median').round()\n",
    "# выводим\n",
    "display(pivot_price_to_floor)\n",
    "# выводим график\n",
    "pivot_price_to_floor.plot()\n",
    "\n",
    "\n"
   ]
  },
  {
   "cell_type": "code",
   "execution_count": 47,
   "metadata": {},
   "outputs": [
    {
     "name": "stdout",
     "output_type": "stream",
     "text": [
      "2     565\n",
      "3     527\n",
      "4     479\n",
      "5     361\n",
      "1     348\n",
      "6     164\n",
      "7     106\n",
      "9      67\n",
      "8      63\n",
      "10     42\n",
      "11     17\n",
      "14     12\n",
      "12     11\n",
      "13     11\n",
      "18      5\n",
      "15      5\n",
      "17      5\n",
      "19      5\n",
      "16      4\n",
      "23      2\n",
      "20      1\n",
      "21      1\n",
      "Name: floor, dtype: int64\n"
     ]
    },
    {
     "data": {
      "text/plain": [
       "<AxesSubplot:>"
      ]
     },
     "execution_count": 47,
     "metadata": {},
     "output_type": "execute_result"
    },
    {
     "data": {
      "image/png": "[encoded data removed]",
      "text/plain": [
       "<Figure size 1080x360 with 1 Axes>"
      ]
     },
     "metadata": {
      "needs_background": "light"
     },
     "output_type": "display_data"
    }
   ],
   "source": [
    "# выводим список уникальных значений по количеству упоминаний\n",
    "print(near_to_center['floor'].value_counts())\n",
    "# строим график для наглядности\n",
    "near_to_center['floor'].value_counts().plot(style='o', figsize=(15, 5))"
   ]
  },
  {
   "cell_type": "markdown",
   "metadata": {},
   "source": [
    "В целом, можно сказать что факт этажа влияет на стоимость квартиры. В первом графике есть выбивающиеся значения, но их слишком мало, что показано на следующем графике."
   ]
  },
  {
   "cell_type": "markdown",
   "metadata": {},
   "source": [
    "### Зависимость цены от удаленности от центра"
   ]
  },
  {
   "cell_type": "code",
   "execution_count": 48,
   "metadata": {},
   "outputs": [
    {
     "data": {
      "text/html": [
       "<div>\n",
       "<style scoped>\n",
       "    .dataframe tbody tr th:only-of-type {\n",
       "        vertical-align: middle;\n",
       "    }\n",
       "\n",
       "    .dataframe tbody tr th {\n",
       "        vertical-align: top;\n",
       "    }\n",
       "\n",
       "    .dataframe thead th {\n",
       "        text-align: right;\n",
       "    }\n",
       "</style>\n",
       "<table border=\"1\" class=\"dataframe\">\n",
       "  <thead>\n",
       "    <tr style=\"text-align: right;\">\n",
       "      <th></th>\n",
       "      <th>last_price</th>\n",
       "    </tr>\n",
       "    <tr>\n",
       "      <th>cityCenters_nearest_km</th>\n",
       "      <th></th>\n",
       "    </tr>\n",
       "  </thead>\n",
       "  <tbody>\n",
       "    <tr>\n",
       "      <th>0.0</th>\n",
       "      <td>9590000</td>\n",
       "    </tr>\n",
       "    <tr>\n",
       "      <th>1.0</th>\n",
       "      <td>9900000</td>\n",
       "    </tr>\n",
       "    <tr>\n",
       "      <th>2.0</th>\n",
       "      <td>9000000</td>\n",
       "    </tr>\n",
       "    <tr>\n",
       "      <th>3.0</th>\n",
       "      <td>8000000</td>\n",
       "    </tr>\n",
       "    <tr>\n",
       "      <th>4.0</th>\n",
       "      <td>8500000</td>\n",
       "    </tr>\n",
       "    <tr>\n",
       "      <th>5.0</th>\n",
       "      <td>8500000</td>\n",
       "    </tr>\n",
       "    <tr>\n",
       "      <th>6.0</th>\n",
       "      <td>7990000</td>\n",
       "    </tr>\n",
       "    <tr>\n",
       "      <th>7.0</th>\n",
       "      <td>6945000</td>\n",
       "    </tr>\n",
       "  </tbody>\n",
       "</table>\n",
       "</div>"
      ],
      "text/plain": [
       "                        last_price\n",
       "cityCenters_nearest_km            \n",
       "0.0                        9590000\n",
       "1.0                        9900000\n",
       "2.0                        9000000\n",
       "3.0                        8000000\n",
       "4.0                        8500000\n",
       "5.0                        8500000\n",
       "6.0                        7990000\n",
       "7.0                        6945000"
      ]
     },
     "metadata": {},
     "output_type": "display_data"
    },
    {
     "data": {
      "text/plain": [
       "<AxesSubplot:xlabel='cityCenters_nearest_km'>"
      ]
     },
     "execution_count": 48,
     "metadata": {},
     "output_type": "execute_result"
    },
    {
     "data": {
      "image/png": "[encoded data removed]",
      "text/plain": [
       "<Figure size 432x288 with 1 Axes>"
      ]
     },
     "metadata": {
      "needs_background": "light"
     },
     "output_type": "display_data"
    }
   ],
   "source": [
    "# делаем срез данных в которых квартиры расположены не больше чем в 7км от центра\n",
    "near_to_center = data_new3.query('cityCenters_nearest <= 7000')\n",
    "# переводим в километры\n",
    "near_to_center['cityCenters_nearest_km'] = (near_to_center['cityCenters_nearest'] / 1000).round()\n",
    "# делаем сводную таблицу\n",
    "pivot_price_to_distance = (\n",
    "    near_to_center.pivot_table(index='cityCenters_nearest_km', values='last_price', aggfunc='median').round()\n",
    ")\n",
    "# выводим\n",
    "display(pivot_price_to_distance)\n",
    "# выводим график\n",
    "pivot_price_to_distance.plot()\n",
    "\n",
    "\n"
   ]
  },
  {
   "cell_type": "markdown",
   "metadata": {},
   "source": [
    "Здесь можем сказать, что фактор расстояния от центра влияет на стоимость квартиры."
   ]
  },
  {
   "cell_type": "markdown",
   "metadata": {},
   "source": [
    "### Зависимость цены от даты размещения объявления"
   ]
  },
  {
   "cell_type": "code",
   "execution_count": 49,
   "metadata": {},
   "outputs": [
    {
     "data": {
      "text/html": [
       "<div>\n",
       "<style scoped>\n",
       "    .dataframe tbody tr th:only-of-type {\n",
       "        vertical-align: middle;\n",
       "    }\n",
       "\n",
       "    .dataframe tbody tr th {\n",
       "        vertical-align: top;\n",
       "    }\n",
       "\n",
       "    .dataframe thead th {\n",
       "        text-align: right;\n",
       "    }\n",
       "</style>\n",
       "<table border=\"1\" class=\"dataframe\">\n",
       "  <thead>\n",
       "    <tr style=\"text-align: right;\">\n",
       "      <th></th>\n",
       "      <th>last_price</th>\n",
       "    </tr>\n",
       "    <tr>\n",
       "      <th>first_day_exposition</th>\n",
       "      <th></th>\n",
       "    </tr>\n",
       "  </thead>\n",
       "  <tbody>\n",
       "    <tr>\n",
       "      <th>2014-11-27</th>\n",
       "      <td>16175000.0</td>\n",
       "    </tr>\n",
       "    <tr>\n",
       "      <th>2014-12-08</th>\n",
       "      <td>5350000.0</td>\n",
       "    </tr>\n",
       "    <tr>\n",
       "      <th>2014-12-09</th>\n",
       "      <td>17600000.0</td>\n",
       "    </tr>\n",
       "    <tr>\n",
       "      <th>2014-12-10</th>\n",
       "      <td>24000000.0</td>\n",
       "    </tr>\n",
       "    <tr>\n",
       "      <th>2014-12-11</th>\n",
       "      <td>9990000.0</td>\n",
       "    </tr>\n",
       "    <tr>\n",
       "      <th>...</th>\n",
       "      <td>...</td>\n",
       "    </tr>\n",
       "    <tr>\n",
       "      <th>2019-04-29</th>\n",
       "      <td>4000000.0</td>\n",
       "    </tr>\n",
       "    <tr>\n",
       "      <th>2019-04-30</th>\n",
       "      <td>18450000.0</td>\n",
       "    </tr>\n",
       "    <tr>\n",
       "      <th>2019-05-01</th>\n",
       "      <td>7200000.0</td>\n",
       "    </tr>\n",
       "    <tr>\n",
       "      <th>2019-05-02</th>\n",
       "      <td>6050000.0</td>\n",
       "    </tr>\n",
       "    <tr>\n",
       "      <th>2019-05-03</th>\n",
       "      <td>10000000.0</td>\n",
       "    </tr>\n",
       "  </tbody>\n",
       "</table>\n",
       "<p>985 rows × 1 columns</p>\n",
       "</div>"
      ],
      "text/plain": [
       "                      last_price\n",
       "first_day_exposition            \n",
       "2014-11-27            16175000.0\n",
       "2014-12-08             5350000.0\n",
       "2014-12-09            17600000.0\n",
       "2014-12-10            24000000.0\n",
       "2014-12-11             9990000.0\n",
       "...                          ...\n",
       "2019-04-29             4000000.0\n",
       "2019-04-30            18450000.0\n",
       "2019-05-01             7200000.0\n",
       "2019-05-02             6050000.0\n",
       "2019-05-03            10000000.0\n",
       "\n",
       "[985 rows x 1 columns]"
      ]
     },
     "metadata": {},
     "output_type": "display_data"
    },
    {
     "data": {
      "text/plain": [
       "<AxesSubplot:xlabel='first_day_exposition'>"
      ]
     },
     "execution_count": 49,
     "metadata": {},
     "output_type": "execute_result"
    },
    {
     "data": {
      "image/png": "[encoded data removed]",
      "text/plain": [
       "<Figure size 432x288 with 1 Axes>"
      ]
     },
     "metadata": {
      "needs_background": "light"
     },
     "output_type": "display_data"
    }
   ],
   "source": [
    "# делаем срез данных в которых квартиры расположены не больше чем в 7км от центра\n",
    "near_to_center = data_new3.query('cityCenters_nearest <= 7000')\n",
    "# делаем сводную таблицу\n",
    "pivot_price_to_date = (\n",
    "    near_to_center.pivot_table(index='first_day_exposition', values='last_price', aggfunc='median').round()\n",
    ")\n",
    "# выводим\n",
    "display(pivot_price_to_date)\n",
    "# выводим график\n",
    "pivot_price_to_date.plot()"
   ]
  },
  {
   "cell_type": "markdown",
   "metadata": {},
   "source": [
    "Видимо, дата размещения объявления никак не влияет на стоимость квартиры."
   ]
  },
  {
   "cell_type": "markdown",
   "metadata": {},
   "source": [
    "## Общий вывод"
   ]
  },
  {
   "cell_type": "markdown",
   "metadata": {},
   "source": [
    "На начальном этапе изучения данных было выявлено огромное количество пропусков, которые необходимо было заполнить для дальнейшем работы. Колоссальное количетво пропусков было в информации, которая была получена с помощью картографических данных. После всех манипуляций по исключению пропущенных значения и замене данных были добавлены расчеты в таблицу по квадртаному метру, дню недели, месяца, года, варианту этажа - первый и последний а также, добавление соотношение жилой площади к общей и площади кухни к общей. Далее проведено исследование площади, цены, количеству комнат и высоте потолков и убраны редкие значения. Проверили зависимости всех параметров описанных выше. Исследовали населенные пункты и вывели топ 10 по количеству выложенных объявлений. Далее был выделен сегмент и проанализированы параметры.\n",
    "\n",
    "Полагаю, что эти данные позволят построить автоматизированную систему, которая отследит аномалии и машеничесткую деятельность.\n",
    "\n"
   ]
  },
  {
   "cell_type": "code",
   "execution_count": null,
   "metadata": {},
   "outputs": [],
   "source": []
  }
 ],
 "metadata": {
  "ExecuteTimeLog": [
   {
    "duration": 2306,
    "start_time": "2021-12-20T04:51:56.860Z"
   },
   {
    "duration": 3575,
    "start_time": "2021-12-20T04:52:04.931Z"
   },
   {
    "duration": 2269,
    "start_time": "2021-12-20T04:52:48.494Z"
   },
   {
    "duration": 101,
    "start_time": "2021-12-20T04:53:22.167Z"
   },
   {
    "duration": 80,
    "start_time": "2021-12-20T04:59:05.557Z"
   },
   {
    "duration": 79,
    "start_time": "2021-12-20T05:02:46.147Z"
   },
   {
    "duration": 80,
    "start_time": "2021-12-20T05:02:53.093Z"
   },
   {
    "duration": 76,
    "start_time": "2021-12-20T05:02:54.965Z"
   },
   {
    "duration": 93,
    "start_time": "2021-12-20T05:03:47.157Z"
   },
   {
    "duration": 105,
    "start_time": "2021-12-20T05:04:16.010Z"
   },
   {
    "duration": 83,
    "start_time": "2021-12-20T05:06:21.698Z"
   },
   {
    "duration": 2411,
    "start_time": "2021-12-20T05:06:36.180Z"
   },
   {
    "duration": 175,
    "start_time": "2021-12-20T05:10:38.184Z"
   },
   {
    "duration": 201,
    "start_time": "2021-12-20T05:11:11.137Z"
   },
   {
    "duration": 331,
    "start_time": "2021-12-20T05:16:19.107Z"
   },
   {
    "duration": 323,
    "start_time": "2021-12-20T05:16:28.493Z"
   },
   {
    "duration": 4,
    "start_time": "2021-12-20T05:16:37.527Z"
   },
   {
    "duration": 28,
    "start_time": "2021-12-20T05:17:37.723Z"
   },
   {
    "duration": 9,
    "start_time": "2021-12-20T05:58:13.558Z"
   },
   {
    "duration": 31,
    "start_time": "2021-12-20T05:58:22.246Z"
   },
   {
    "duration": 12,
    "start_time": "2021-12-20T05:59:14.575Z"
   },
   {
    "duration": 36,
    "start_time": "2021-12-20T06:04:32.938Z"
   },
   {
    "duration": 41,
    "start_time": "2021-12-20T06:05:45.606Z"
   },
   {
    "duration": 39,
    "start_time": "2021-12-20T06:14:50.479Z"
   },
   {
    "duration": 22,
    "start_time": "2021-12-20T06:24:23.960Z"
   },
   {
    "duration": 46,
    "start_time": "2021-12-20T06:24:37.433Z"
   },
   {
    "duration": -33,
    "start_time": "2021-12-20T06:31:36.171Z"
   },
   {
    "duration": -33,
    "start_time": "2021-12-20T06:31:55.319Z"
   },
   {
    "duration": 10876,
    "start_time": "2021-12-20T06:32:11.724Z"
   },
   {
    "duration": -58,
    "start_time": "2021-12-20T06:32:22.660Z"
   },
   {
    "duration": -57,
    "start_time": "2021-12-20T06:32:22.661Z"
   },
   {
    "duration": 193,
    "start_time": "2021-12-20T06:32:25.238Z"
   },
   {
    "duration": 4,
    "start_time": "2021-12-20T06:32:30.970Z"
   },
   {
    "duration": 27,
    "start_time": "2021-12-20T06:32:34.969Z"
   },
   {
    "duration": 47,
    "start_time": "2021-12-20T06:32:58.478Z"
   },
   {
    "duration": 47,
    "start_time": "2021-12-20T06:49:53.541Z"
   },
   {
    "duration": 49,
    "start_time": "2021-12-20T06:50:32.260Z"
   },
   {
    "duration": 396,
    "start_time": "2021-12-20T07:07:08.209Z"
   },
   {
    "duration": 39,
    "start_time": "2021-12-20T07:07:15.381Z"
   },
   {
    "duration": 35,
    "start_time": "2021-12-20T07:07:41.377Z"
   },
   {
    "duration": 27,
    "start_time": "2021-12-20T07:08:10.151Z"
   },
   {
    "duration": 76,
    "start_time": "2021-12-20T07:16:13.363Z"
   },
   {
    "duration": 8059,
    "start_time": "2021-12-20T07:17:53.669Z"
   },
   {
    "duration": 8837,
    "start_time": "2021-12-20T07:18:56.971Z"
   },
   {
    "duration": 10781,
    "start_time": "2021-12-20T07:21:59.336Z"
   },
   {
    "duration": 10573,
    "start_time": "2021-12-20T07:24:22.959Z"
   },
   {
    "duration": 86,
    "start_time": "2021-12-20T07:24:35.939Z"
   },
   {
    "duration": 196,
    "start_time": "2021-12-20T07:24:38.278Z"
   },
   {
    "duration": 5,
    "start_time": "2021-12-20T07:24:43.353Z"
   },
   {
    "duration": 27,
    "start_time": "2021-12-20T07:24:45.081Z"
   },
   {
    "duration": 26,
    "start_time": "2021-12-20T07:24:48.608Z"
   },
   {
    "duration": 28,
    "start_time": "2021-12-20T07:24:50.742Z"
   },
   {
    "duration": 11,
    "start_time": "2021-12-20T07:25:10.254Z"
   },
   {
    "duration": 7,
    "start_time": "2021-12-20T07:25:17.714Z"
   },
   {
    "duration": 7,
    "start_time": "2021-12-20T07:25:22.507Z"
   },
   {
    "duration": 429,
    "start_time": "2021-12-20T07:25:45.225Z"
   },
   {
    "duration": 575,
    "start_time": "2021-12-20T07:26:05.533Z"
   },
   {
    "duration": 62,
    "start_time": "2021-12-20T07:26:26.864Z"
   },
   {
    "duration": 6,
    "start_time": "2021-12-20T07:26:53.946Z"
   },
   {
    "duration": 36,
    "start_time": "2021-12-20T07:26:58.890Z"
   },
   {
    "duration": 65,
    "start_time": "2021-12-20T07:27:05.310Z"
   },
   {
    "duration": 30,
    "start_time": "2021-12-20T07:27:21.109Z"
   },
   {
    "duration": 86,
    "start_time": "2021-12-20T07:27:59.259Z"
   },
   {
    "duration": 41,
    "start_time": "2021-12-20T07:36:06.671Z"
   },
   {
    "duration": 43,
    "start_time": "2021-12-20T07:36:55.502Z"
   },
   {
    "duration": 33,
    "start_time": "2021-12-20T07:37:22.448Z"
   },
   {
    "duration": 359,
    "start_time": "2021-12-20T07:38:15.404Z"
   },
   {
    "duration": 37,
    "start_time": "2021-12-20T07:38:53.403Z"
   },
   {
    "duration": 53,
    "start_time": "2021-12-20T09:10:34.186Z"
   },
   {
    "duration": 868,
    "start_time": "2021-12-20T09:11:32.211Z"
   },
   {
    "duration": 453,
    "start_time": "2021-12-20T09:12:32.121Z"
   },
   {
    "duration": 420,
    "start_time": "2021-12-20T09:12:57.093Z"
   },
   {
    "duration": 464,
    "start_time": "2021-12-20T09:19:05.025Z"
   },
   {
    "duration": 42,
    "start_time": "2021-12-20T09:20:13.154Z"
   },
   {
    "duration": 453,
    "start_time": "2021-12-20T09:20:28.758Z"
   },
   {
    "duration": 36,
    "start_time": "2021-12-20T09:20:33.067Z"
   },
   {
    "duration": 38,
    "start_time": "2021-12-20T09:20:50.741Z"
   },
   {
    "duration": 52,
    "start_time": "2021-12-20T09:21:03.276Z"
   },
   {
    "duration": 54,
    "start_time": "2021-12-20T09:21:35.932Z"
   },
   {
    "duration": 45,
    "start_time": "2021-12-20T09:22:33.217Z"
   },
   {
    "duration": 59,
    "start_time": "2021-12-20T09:22:50.985Z"
   },
   {
    "duration": 44,
    "start_time": "2021-12-20T09:22:59.696Z"
   },
   {
    "duration": 21,
    "start_time": "2021-12-20T09:23:11.985Z"
   },
   {
    "duration": 82,
    "start_time": "2021-12-20T09:23:20.390Z"
   },
   {
    "duration": 194,
    "start_time": "2021-12-20T09:23:22.706Z"
   },
   {
    "duration": 5,
    "start_time": "2021-12-20T09:23:27.239Z"
   },
   {
    "duration": 27,
    "start_time": "2021-12-20T09:23:28.589Z"
   },
   {
    "duration": 62,
    "start_time": "2021-12-20T09:23:32.518Z"
   },
   {
    "duration": 51,
    "start_time": "2021-12-20T09:23:45.778Z"
   },
   {
    "duration": 55,
    "start_time": "2021-12-20T09:23:51.721Z"
   },
   {
    "duration": 74,
    "start_time": "2021-12-20T09:24:43.685Z"
   },
   {
    "duration": 77,
    "start_time": "2021-12-20T09:25:51.950Z"
   },
   {
    "duration": 82,
    "start_time": "2021-12-20T09:26:48.375Z"
   },
   {
    "duration": 89,
    "start_time": "2021-12-20T09:27:22.496Z"
   },
   {
    "duration": 103,
    "start_time": "2021-12-20T09:28:03.718Z"
   },
   {
    "duration": 4,
    "start_time": "2021-12-20T09:56:16.074Z"
   },
   {
    "duration": 2798,
    "start_time": "2021-12-20T09:57:26.943Z"
   },
   {
    "duration": 2698,
    "start_time": "2021-12-20T09:57:56.221Z"
   },
   {
    "duration": 2808,
    "start_time": "2021-12-20T09:58:11.648Z"
   },
   {
    "duration": 8679,
    "start_time": "2021-12-20T10:19:31.820Z"
   },
   {
    "duration": 2136,
    "start_time": "2021-12-20T10:19:51.618Z"
   },
   {
    "duration": 444,
    "start_time": "2021-12-20T12:43:07.166Z"
   },
   {
    "duration": 380,
    "start_time": "2021-12-20T12:43:26.899Z"
   },
   {
    "duration": 424,
    "start_time": "2021-12-20T12:44:06.770Z"
   },
   {
    "duration": 92,
    "start_time": "2021-12-20T12:45:27.395Z"
   },
   {
    "duration": 453,
    "start_time": "2021-12-20T12:52:44.169Z"
   },
   {
    "duration": 12,
    "start_time": "2021-12-20T13:17:16.537Z"
   },
   {
    "duration": 19,
    "start_time": "2021-12-20T13:18:30.765Z"
   },
   {
    "duration": 395,
    "start_time": "2021-12-20T13:19:58.934Z"
   },
   {
    "duration": 406,
    "start_time": "2021-12-20T13:20:11.562Z"
   },
   {
    "duration": 432,
    "start_time": "2021-12-20T13:25:01.073Z"
   },
   {
    "duration": 466,
    "start_time": "2021-12-20T13:25:13.063Z"
   },
   {
    "duration": 12,
    "start_time": "2021-12-20T15:53:06.390Z"
   },
   {
    "duration": 350,
    "start_time": "2021-12-20T15:55:29.775Z"
   },
   {
    "duration": 371,
    "start_time": "2021-12-20T19:33:58.600Z"
   },
   {
    "duration": 857,
    "start_time": "2021-12-20T19:34:12.826Z"
   },
   {
    "duration": 203,
    "start_time": "2021-12-20T19:34:16.282Z"
   },
   {
    "duration": 5,
    "start_time": "2021-12-20T19:34:22.015Z"
   },
   {
    "duration": 26,
    "start_time": "2021-12-20T19:34:24.270Z"
   },
   {
    "duration": 146,
    "start_time": "2021-12-20T19:34:26.691Z"
   },
   {
    "duration": 828,
    "start_time": "2021-12-20T19:34:31.889Z"
   },
   {
    "duration": 1249,
    "start_time": "2021-12-20T19:35:19.199Z"
   },
   {
    "duration": 695,
    "start_time": "2021-12-20T19:36:47.946Z"
   },
   {
    "duration": 706,
    "start_time": "2021-12-20T19:37:58.315Z"
   },
   {
    "duration": 957,
    "start_time": "2021-12-20T19:40:25.635Z"
   },
   {
    "duration": 742,
    "start_time": "2021-12-20T19:40:49.924Z"
   },
   {
    "duration": 380,
    "start_time": "2021-12-20T19:50:22.128Z"
   },
   {
    "duration": 108,
    "start_time": "2021-12-20T19:52:17.731Z"
   },
   {
    "duration": 814,
    "start_time": "2021-12-21T04:58:43.384Z"
   },
   {
    "duration": 210,
    "start_time": "2021-12-21T04:58:46.630Z"
   },
   {
    "duration": 5,
    "start_time": "2021-12-21T04:58:50.155Z"
   },
   {
    "duration": 26,
    "start_time": "2021-12-21T04:58:52.858Z"
   },
   {
    "duration": 888,
    "start_time": "2021-12-21T04:58:57.124Z"
   },
   {
    "duration": 927,
    "start_time": "2021-12-21T04:59:52.224Z"
   },
   {
    "duration": 454,
    "start_time": "2021-12-21T04:59:57.921Z"
   },
   {
    "duration": 79,
    "start_time": "2021-12-21T05:00:07.816Z"
   },
   {
    "duration": 203,
    "start_time": "2021-12-21T05:00:10.053Z"
   },
   {
    "duration": 5,
    "start_time": "2021-12-21T05:00:14.954Z"
   },
   {
    "duration": 27,
    "start_time": "2021-12-21T05:00:17.388Z"
   },
   {
    "duration": 1147,
    "start_time": "2021-12-21T05:00:20.371Z"
   },
   {
    "duration": 149,
    "start_time": "2021-12-21T05:01:50.340Z"
   },
   {
    "duration": 66,
    "start_time": "2021-12-21T05:01:55.571Z"
   },
   {
    "duration": 758,
    "start_time": "2021-12-21T05:03:15.385Z"
   },
   {
    "duration": 702,
    "start_time": "2021-12-21T05:03:59.467Z"
   },
   {
    "duration": 381,
    "start_time": "2021-12-21T05:07:58.102Z"
   },
   {
    "duration": 114,
    "start_time": "2021-12-21T05:08:58.533Z"
   },
   {
    "duration": 74,
    "start_time": "2021-12-21T05:09:05.943Z"
   },
   {
    "duration": 73,
    "start_time": "2021-12-21T05:09:13.738Z"
   },
   {
    "duration": 437,
    "start_time": "2021-12-21T05:13:25.797Z"
   },
   {
    "duration": 74,
    "start_time": "2021-12-21T05:13:48.348Z"
   },
   {
    "duration": 70,
    "start_time": "2021-12-21T05:13:56.455Z"
   },
   {
    "duration": 379,
    "start_time": "2021-12-21T05:17:14.416Z"
   },
   {
    "duration": 71,
    "start_time": "2021-12-21T05:50:19.178Z"
   },
   {
    "duration": 621,
    "start_time": "2021-12-21T08:41:19.418Z"
   },
   {
    "duration": 150,
    "start_time": "2021-12-21T08:41:20.041Z"
   },
   {
    "duration": 3,
    "start_time": "2021-12-21T08:41:24.369Z"
   },
   {
    "duration": 19,
    "start_time": "2021-12-21T08:41:25.170Z"
   },
   {
    "duration": 101,
    "start_time": "2021-12-21T08:41:25.866Z"
   },
   {
    "duration": 553,
    "start_time": "2021-12-21T08:41:26.881Z"
   },
   {
    "duration": 43,
    "start_time": "2021-12-21T08:41:28.946Z"
   },
   {
    "duration": 102,
    "start_time": "2021-12-21T08:46:37.766Z"
   },
   {
    "duration": 4439,
    "start_time": "2021-12-21T08:53:32.117Z"
   },
   {
    "duration": 3223,
    "start_time": "2021-12-21T08:54:03.613Z"
   },
   {
    "duration": 3426,
    "start_time": "2021-12-21T08:55:26.503Z"
   },
   {
    "duration": 60,
    "start_time": "2021-12-21T08:55:39.113Z"
   },
   {
    "duration": 133,
    "start_time": "2021-12-21T08:55:40.898Z"
   },
   {
    "duration": 4,
    "start_time": "2021-12-21T08:55:43.575Z"
   },
   {
    "duration": 20,
    "start_time": "2021-12-21T08:55:45.491Z"
   },
   {
    "duration": 146,
    "start_time": "2021-12-21T08:55:47.220Z"
   },
   {
    "duration": 4507,
    "start_time": "2021-12-21T08:56:02.696Z"
   },
   {
    "duration": 4146,
    "start_time": "2021-12-21T08:56:41.869Z"
   },
   {
    "duration": 3,
    "start_time": "2021-12-21T08:57:05.139Z"
   },
   {
    "duration": 13,
    "start_time": "2021-12-21T08:57:06.736Z"
   },
   {
    "duration": 6351,
    "start_time": "2021-12-21T08:57:08.477Z"
   },
   {
    "duration": 3,
    "start_time": "2021-12-21T08:58:13.242Z"
   },
   {
    "duration": 13,
    "start_time": "2021-12-21T08:58:16.147Z"
   },
   {
    "duration": 3294,
    "start_time": "2021-12-21T08:58:31.154Z"
   },
   {
    "duration": 58,
    "start_time": "2021-12-21T08:58:55.887Z"
   },
   {
    "duration": 137,
    "start_time": "2021-12-21T08:59:00.049Z"
   },
   {
    "duration": 4,
    "start_time": "2021-12-21T08:59:05.669Z"
   },
   {
    "duration": 18,
    "start_time": "2021-12-21T08:59:08.901Z"
   },
   {
    "duration": 3556,
    "start_time": "2021-12-21T08:59:21.987Z"
   },
   {
    "duration": 52,
    "start_time": "2021-12-21T08:59:27.442Z"
   },
   {
    "duration": 64,
    "start_time": "2021-12-21T08:59:33.917Z"
   },
   {
    "duration": 8589,
    "start_time": "2021-12-21T08:59:52.281Z"
   },
   {
    "duration": 4028,
    "start_time": "2021-12-21T09:00:06.218Z"
   },
   {
    "duration": 3605,
    "start_time": "2021-12-21T09:00:21.080Z"
   },
   {
    "duration": 14,
    "start_time": "2021-12-21T09:00:31.648Z"
   },
   {
    "duration": 58,
    "start_time": "2021-12-21T09:00:38.577Z"
   },
   {
    "duration": 130,
    "start_time": "2021-12-21T09:00:40.425Z"
   },
   {
    "duration": 3,
    "start_time": "2021-12-21T09:00:45.856Z"
   },
   {
    "duration": 20,
    "start_time": "2021-12-21T09:00:48.227Z"
   },
   {
    "duration": 144,
    "start_time": "2021-12-21T09:00:53.750Z"
   },
   {
    "duration": 4020,
    "start_time": "2021-12-21T09:01:13.647Z"
   },
   {
    "duration": 126,
    "start_time": "2021-12-21T09:01:33.817Z"
   },
   {
    "duration": 4,
    "start_time": "2021-12-21T09:01:36.621Z"
   },
   {
    "duration": 19,
    "start_time": "2021-12-21T09:01:38.492Z"
   },
   {
    "duration": 124,
    "start_time": "2021-12-21T09:01:40.734Z"
   },
   {
    "duration": 5482,
    "start_time": "2021-12-21T09:02:44.226Z"
   },
   {
    "duration": 4074,
    "start_time": "2021-12-21T09:02:55.124Z"
   },
   {
    "duration": 3387,
    "start_time": "2021-12-21T09:03:06.674Z"
   },
   {
    "duration": 130,
    "start_time": "2021-12-21T09:03:15.626Z"
   },
   {
    "duration": 3,
    "start_time": "2021-12-21T09:03:18.333Z"
   },
   {
    "duration": 19,
    "start_time": "2021-12-21T09:03:20.096Z"
   },
   {
    "duration": 116,
    "start_time": "2021-12-21T09:03:21.807Z"
   },
   {
    "duration": 3319,
    "start_time": "2021-12-21T09:05:29.682Z"
   },
   {
    "duration": 137,
    "start_time": "2021-12-21T09:05:36.711Z"
   },
   {
    "duration": 3,
    "start_time": "2021-12-21T09:05:39.178Z"
   },
   {
    "duration": 21,
    "start_time": "2021-12-21T09:05:40.972Z"
   },
   {
    "duration": 338,
    "start_time": "2021-12-21T09:05:42.836Z"
   },
   {
    "duration": 54,
    "start_time": "2021-12-21T09:05:49.044Z"
   },
   {
    "duration": 88,
    "start_time": "2021-12-21T09:06:58.163Z"
   },
   {
    "duration": 52,
    "start_time": "2021-12-21T09:07:17.108Z"
   },
   {
    "duration": 56,
    "start_time": "2021-12-21T09:07:23.850Z"
   },
   {
    "duration": 71,
    "start_time": "2021-12-21T09:07:32.135Z"
   },
   {
    "duration": 3261,
    "start_time": "2021-12-21T09:07:49.221Z"
   },
   {
    "duration": 75,
    "start_time": "2021-12-21T09:08:00.249Z"
   },
   {
    "duration": 3415,
    "start_time": "2021-12-21T09:11:48.690Z"
   },
   {
    "duration": 145,
    "start_time": "2021-12-21T09:30:35.078Z"
   },
   {
    "duration": 4,
    "start_time": "2021-12-21T09:30:38.162Z"
   },
   {
    "duration": 21,
    "start_time": "2021-12-21T09:30:40.034Z"
   },
   {
    "duration": 113,
    "start_time": "2021-12-21T09:30:42.155Z"
   },
   {
    "duration": 4771,
    "start_time": "2021-12-21T09:31:07.475Z"
   },
   {
    "duration": 97,
    "start_time": "2021-12-21T09:32:34.640Z"
   },
   {
    "duration": 90,
    "start_time": "2021-12-21T09:33:01.522Z"
   },
   {
    "duration": 124,
    "start_time": "2021-12-21T09:33:08.826Z"
   },
   {
    "duration": 134,
    "start_time": "2021-12-21T09:33:19.268Z"
   },
   {
    "duration": 151,
    "start_time": "2021-12-21T09:56:59.122Z"
   },
   {
    "duration": 180,
    "start_time": "2021-12-21T09:57:06.431Z"
   },
   {
    "duration": 139,
    "start_time": "2021-12-21T09:57:45.366Z"
   },
   {
    "duration": 132,
    "start_time": "2021-12-21T09:57:51.839Z"
   },
   {
    "duration": 3,
    "start_time": "2021-12-21T09:57:55.493Z"
   },
   {
    "duration": 20,
    "start_time": "2021-12-21T09:57:57.290Z"
   },
   {
    "duration": 136,
    "start_time": "2021-12-21T09:57:59.673Z"
   },
   {
    "duration": 118,
    "start_time": "2021-12-21T09:58:15.712Z"
   },
   {
    "duration": 126,
    "start_time": "2021-12-21T09:58:27.035Z"
   },
   {
    "duration": 4,
    "start_time": "2021-12-21T09:58:30.078Z"
   },
   {
    "duration": 20,
    "start_time": "2021-12-21T09:58:32.142Z"
   },
   {
    "duration": 164,
    "start_time": "2021-12-21T09:58:34.564Z"
   },
   {
    "duration": 133,
    "start_time": "2021-12-21T10:26:51.459Z"
   },
   {
    "duration": 3,
    "start_time": "2021-12-21T10:26:54.173Z"
   },
   {
    "duration": 20,
    "start_time": "2021-12-21T10:26:55.913Z"
   },
   {
    "duration": 139,
    "start_time": "2021-12-21T10:26:57.707Z"
   },
   {
    "duration": 238,
    "start_time": "2021-12-21T10:53:09.656Z"
   },
   {
    "duration": 48,
    "start_time": "2021-12-21T10:55:45.212Z"
   },
   {
    "duration": 373,
    "start_time": "2021-12-21T10:56:04.913Z"
   },
   {
    "duration": 185,
    "start_time": "2021-12-21T10:56:22.196Z"
   },
   {
    "duration": 85,
    "start_time": "2021-12-21T10:56:28.456Z"
   },
   {
    "duration": 62,
    "start_time": "2021-12-21T10:56:34.531Z"
   },
   {
    "duration": 134,
    "start_time": "2021-12-21T10:56:36.450Z"
   },
   {
    "duration": 4,
    "start_time": "2021-12-21T10:56:39.403Z"
   },
   {
    "duration": 19,
    "start_time": "2021-12-21T10:56:41.045Z"
   },
   {
    "duration": 144,
    "start_time": "2021-12-21T10:56:43.651Z"
   },
   {
    "duration": 239,
    "start_time": "2021-12-21T10:56:48.455Z"
   },
   {
    "duration": 41,
    "start_time": "2021-12-21T10:56:56.364Z"
   },
   {
    "duration": 132,
    "start_time": "2021-12-21T11:02:57.340Z"
   },
   {
    "duration": 27,
    "start_time": "2021-12-21T11:03:03.378Z"
   },
   {
    "duration": 30,
    "start_time": "2021-12-21T11:03:07.672Z"
   },
   {
    "duration": 5,
    "start_time": "2021-12-21T11:04:05.536Z"
   },
   {
    "duration": 5,
    "start_time": "2021-12-21T11:04:16.448Z"
   },
   {
    "duration": 6,
    "start_time": "2021-12-21T11:14:26.042Z"
   },
   {
    "duration": 7,
    "start_time": "2021-12-21T11:14:40.858Z"
   },
   {
    "duration": 39,
    "start_time": "2021-12-21T11:14:47.873Z"
   },
   {
    "duration": 4,
    "start_time": "2021-12-21T11:15:09.304Z"
   },
   {
    "duration": 9,
    "start_time": "2021-12-21T11:38:08.817Z"
   },
   {
    "duration": 154,
    "start_time": "2021-12-21T11:38:30.604Z"
   },
   {
    "duration": 136,
    "start_time": "2021-12-21T11:41:47.087Z"
   },
   {
    "duration": 134,
    "start_time": "2021-12-21T11:43:36.667Z"
   },
   {
    "duration": 6,
    "start_time": "2021-12-21T11:44:21.703Z"
   },
   {
    "duration": 9,
    "start_time": "2021-12-21T11:44:33.815Z"
   },
   {
    "duration": 6,
    "start_time": "2021-12-21T11:46:27.321Z"
   },
   {
    "duration": 9,
    "start_time": "2021-12-21T11:46:37.854Z"
   },
   {
    "duration": 10,
    "start_time": "2021-12-21T11:47:18.987Z"
   },
   {
    "duration": 12,
    "start_time": "2021-12-21T11:47:39.749Z"
   },
   {
    "duration": 177,
    "start_time": "2021-12-21T11:47:56.759Z"
   },
   {
    "duration": 3273,
    "start_time": "2021-12-21T11:48:00.750Z"
   },
   {
    "duration": 16,
    "start_time": "2021-12-21T11:48:26.622Z"
   },
   {
    "duration": 18,
    "start_time": "2021-12-21T11:48:36.286Z"
   },
   {
    "duration": 12,
    "start_time": "2021-12-21T11:48:43.853Z"
   },
   {
    "duration": 3,
    "start_time": "2021-12-21T11:57:34.160Z"
   },
   {
    "duration": 5,
    "start_time": "2021-12-21T11:57:38.603Z"
   },
   {
    "duration": 11,
    "start_time": "2021-12-21T12:00:18.317Z"
   },
   {
    "duration": 19,
    "start_time": "2021-12-21T12:00:34.180Z"
   },
   {
    "duration": 3,
    "start_time": "2021-12-21T12:06:36.273Z"
   },
   {
    "duration": 583,
    "start_time": "2021-12-21T12:07:09.597Z"
   },
   {
    "duration": 608,
    "start_time": "2021-12-21T12:07:24.631Z"
   },
   {
    "duration": 549,
    "start_time": "2021-12-21T12:07:36.047Z"
   },
   {
    "duration": 168,
    "start_time": "2021-12-21T12:11:30.876Z"
   },
   {
    "duration": 60,
    "start_time": "2021-12-21T12:12:31.316Z"
   },
   {
    "duration": 137,
    "start_time": "2021-12-21T12:12:32.969Z"
   },
   {
    "duration": 4,
    "start_time": "2021-12-21T12:12:35.350Z"
   },
   {
    "duration": 19,
    "start_time": "2021-12-21T12:12:37.157Z"
   },
   {
    "duration": 136,
    "start_time": "2021-12-21T12:12:39.272Z"
   },
   {
    "duration": 236,
    "start_time": "2021-12-21T12:12:42.692Z"
   },
   {
    "duration": 33,
    "start_time": "2021-12-21T12:12:45.604Z"
   },
   {
    "duration": 28,
    "start_time": "2021-12-21T12:12:47.246Z"
   },
   {
    "duration": 4,
    "start_time": "2021-12-21T12:12:50.808Z"
   },
   {
    "duration": 13,
    "start_time": "2021-12-21T12:12:51.473Z"
   },
   {
    "duration": 579,
    "start_time": "2021-12-21T12:12:53.667Z"
   },
   {
    "duration": 192,
    "start_time": "2021-12-21T12:12:57.732Z"
   },
   {
    "duration": 20,
    "start_time": "2021-12-21T12:13:16.290Z"
   },
   {
    "duration": 148,
    "start_time": "2021-12-21T12:14:19.377Z"
   },
   {
    "duration": 100,
    "start_time": "2021-12-21T12:14:44.501Z"
   },
   {
    "duration": 15,
    "start_time": "2021-12-21T12:15:01.416Z"
   },
   {
    "duration": 62,
    "start_time": "2021-12-21T12:16:38.553Z"
   },
   {
    "duration": 125,
    "start_time": "2021-12-21T12:16:40.432Z"
   },
   {
    "duration": 3,
    "start_time": "2021-12-21T12:16:42.948Z"
   },
   {
    "duration": 21,
    "start_time": "2021-12-21T12:16:44.550Z"
   },
   {
    "duration": 138,
    "start_time": "2021-12-21T12:16:49.132Z"
   },
   {
    "duration": 274,
    "start_time": "2021-12-21T12:17:09.208Z"
   },
   {
    "duration": 90,
    "start_time": "2021-12-21T12:17:45.310Z"
   },
   {
    "duration": 253,
    "start_time": "2021-12-21T12:17:50.485Z"
   },
   {
    "duration": 178,
    "start_time": "2021-12-21T12:17:52.768Z"
   },
   {
    "duration": 27,
    "start_time": "2021-12-21T12:17:55.561Z"
   },
   {
    "duration": 4,
    "start_time": "2021-12-21T12:17:57.740Z"
   },
   {
    "duration": 12,
    "start_time": "2021-12-21T12:17:59.320Z"
   },
   {
    "duration": 651,
    "start_time": "2021-12-21T12:18:00.879Z"
   },
   {
    "duration": 16,
    "start_time": "2021-12-21T12:18:03.356Z"
   },
   {
    "duration": 8,
    "start_time": "2021-12-21T12:18:20.987Z"
   },
   {
    "duration": 60,
    "start_time": "2021-12-21T12:18:32.246Z"
   },
   {
    "duration": 131,
    "start_time": "2021-12-21T12:18:34.397Z"
   },
   {
    "duration": 3,
    "start_time": "2021-12-21T12:18:37.123Z"
   },
   {
    "duration": 19,
    "start_time": "2021-12-21T12:18:38.973Z"
   },
   {
    "duration": 136,
    "start_time": "2021-12-21T12:18:42.811Z"
   },
   {
    "duration": 238,
    "start_time": "2021-12-21T12:18:45.513Z"
   },
   {
    "duration": 35,
    "start_time": "2021-12-21T12:18:48.427Z"
   },
   {
    "duration": 5,
    "start_time": "2021-12-21T12:18:51.956Z"
   },
   {
    "duration": 14,
    "start_time": "2021-12-21T12:18:53.850Z"
   },
   {
    "duration": 556,
    "start_time": "2021-12-21T12:18:55.818Z"
   },
   {
    "duration": 17,
    "start_time": "2021-12-21T12:18:58.771Z"
   },
   {
    "duration": 103,
    "start_time": "2021-12-21T12:19:20.156Z"
   },
   {
    "duration": 59,
    "start_time": "2021-12-21T12:19:24.768Z"
   },
   {
    "duration": 134,
    "start_time": "2021-12-21T12:19:26.414Z"
   },
   {
    "duration": 4,
    "start_time": "2021-12-21T12:19:29.096Z"
   },
   {
    "duration": 20,
    "start_time": "2021-12-21T12:19:30.828Z"
   },
   {
    "duration": 151,
    "start_time": "2021-12-21T12:19:32.483Z"
   },
   {
    "duration": 98,
    "start_time": "2021-12-21T12:20:06.007Z"
   },
   {
    "duration": 261,
    "start_time": "2021-12-21T12:20:07.657Z"
   },
   {
    "duration": 92,
    "start_time": "2021-12-21T12:20:12.358Z"
   },
   {
    "duration": 61,
    "start_time": "2021-12-21T12:20:26.108Z"
   },
   {
    "duration": 135,
    "start_time": "2021-12-21T12:20:28.304Z"
   },
   {
    "duration": 4,
    "start_time": "2021-12-21T12:20:31.814Z"
   },
   {
    "duration": 19,
    "start_time": "2021-12-21T12:20:33.447Z"
   },
   {
    "duration": 142,
    "start_time": "2021-12-21T12:20:35.685Z"
   },
   {
    "duration": 249,
    "start_time": "2021-12-21T12:20:38.114Z"
   },
   {
    "duration": 36,
    "start_time": "2021-12-21T12:20:41.919Z"
   },
   {
    "duration": 24,
    "start_time": "2021-12-21T12:20:44.068Z"
   },
   {
    "duration": 6,
    "start_time": "2021-12-21T12:20:46.015Z"
   },
   {
    "duration": 14,
    "start_time": "2021-12-21T12:20:48.157Z"
   },
   {
    "duration": 580,
    "start_time": "2021-12-21T12:20:50.115Z"
   },
   {
    "duration": 16,
    "start_time": "2021-12-21T12:20:52.461Z"
   },
   {
    "duration": 5,
    "start_time": "2021-12-21T12:21:23.126Z"
   },
   {
    "duration": 1118,
    "start_time": "2021-12-21T12:21:53.220Z"
   },
   {
    "duration": 38,
    "start_time": "2021-12-21T12:22:00.867Z"
   },
   {
    "duration": 14,
    "start_time": "2021-12-21T12:22:17.770Z"
   },
   {
    "duration": 13,
    "start_time": "2021-12-21T12:22:43.241Z"
   },
   {
    "duration": 12,
    "start_time": "2021-12-21T12:22:45.929Z"
   },
   {
    "duration": 5,
    "start_time": "2021-12-21T12:28:26.645Z"
   },
   {
    "duration": 13,
    "start_time": "2021-12-21T12:28:40.530Z"
   },
   {
    "duration": 57,
    "start_time": "2021-12-21T12:28:54.790Z"
   },
   {
    "duration": 130,
    "start_time": "2021-12-21T12:28:56.500Z"
   },
   {
    "duration": 4,
    "start_time": "2021-12-21T12:28:59.881Z"
   },
   {
    "duration": 20,
    "start_time": "2021-12-21T12:29:01.546Z"
   },
   {
    "duration": 151,
    "start_time": "2021-12-21T12:29:03.561Z"
   },
   {
    "duration": 230,
    "start_time": "2021-12-21T12:29:05.872Z"
   },
   {
    "duration": 36,
    "start_time": "2021-12-21T12:29:08.132Z"
   },
   {
    "duration": 28,
    "start_time": "2021-12-21T12:29:09.742Z"
   },
   {
    "duration": 4,
    "start_time": "2021-12-21T12:29:11.640Z"
   },
   {
    "duration": 13,
    "start_time": "2021-12-21T12:29:12.894Z"
   },
   {
    "duration": 606,
    "start_time": "2021-12-21T12:29:14.738Z"
   },
   {
    "duration": 141,
    "start_time": "2021-12-21T12:29:17.235Z"
   },
   {
    "duration": 16,
    "start_time": "2021-12-21T12:32:16.497Z"
   },
   {
    "duration": 580,
    "start_time": "2021-12-21T13:39:13.590Z"
   },
   {
    "duration": 60,
    "start_time": "2021-12-21T15:41:34.846Z"
   },
   {
    "duration": 146,
    "start_time": "2021-12-21T15:41:37.260Z"
   },
   {
    "duration": 4,
    "start_time": "2021-12-21T15:41:41.124Z"
   },
   {
    "duration": 19,
    "start_time": "2021-12-21T15:41:42.830Z"
   },
   {
    "duration": 217,
    "start_time": "2021-12-21T15:41:49.598Z"
   },
   {
    "duration": 114,
    "start_time": "2021-12-21T15:41:58.817Z"
   },
   {
    "duration": 245,
    "start_time": "2021-12-21T15:42:02.173Z"
   },
   {
    "duration": 38,
    "start_time": "2021-12-21T15:42:06.849Z"
   },
   {
    "duration": 5,
    "start_time": "2021-12-21T15:42:09.456Z"
   },
   {
    "duration": 13,
    "start_time": "2021-12-21T15:42:11.122Z"
   },
   {
    "duration": 573,
    "start_time": "2021-12-21T15:42:13.185Z"
   },
   {
    "duration": 16,
    "start_time": "2021-12-21T15:42:14.752Z"
   },
   {
    "duration": 139,
    "start_time": "2021-12-21T15:42:19.803Z"
   },
   {
    "duration": 15,
    "start_time": "2021-12-21T15:59:09.796Z"
   },
   {
    "duration": 16,
    "start_time": "2021-12-21T15:59:16.231Z"
   },
   {
    "duration": 57,
    "start_time": "2021-12-21T16:00:42.808Z"
   },
   {
    "duration": 131,
    "start_time": "2021-12-21T16:00:44.775Z"
   },
   {
    "duration": 4,
    "start_time": "2021-12-21T16:00:47.575Z"
   },
   {
    "duration": 20,
    "start_time": "2021-12-21T16:00:48.956Z"
   },
   {
    "duration": 142,
    "start_time": "2021-12-21T16:00:51.255Z"
   },
   {
    "duration": 237,
    "start_time": "2021-12-21T16:00:56.568Z"
   },
   {
    "duration": 34,
    "start_time": "2021-12-21T16:00:59.563Z"
   },
   {
    "duration": 4,
    "start_time": "2021-12-21T16:01:03.254Z"
   },
   {
    "duration": 13,
    "start_time": "2021-12-21T16:01:05.614Z"
   },
   {
    "duration": 671,
    "start_time": "2021-12-21T16:01:07.353Z"
   },
   {
    "duration": 15,
    "start_time": "2021-12-21T16:01:20.183Z"
   },
   {
    "duration": 16,
    "start_time": "2021-12-21T16:01:37.842Z"
   },
   {
    "duration": 55,
    "start_time": "2021-12-21T16:02:04.974Z"
   },
   {
    "duration": 133,
    "start_time": "2021-12-21T16:02:06.397Z"
   },
   {
    "duration": 3,
    "start_time": "2021-12-21T16:02:09.551Z"
   },
   {
    "duration": 19,
    "start_time": "2021-12-21T16:02:11.227Z"
   },
   {
    "duration": 138,
    "start_time": "2021-12-21T16:02:13.272Z"
   },
   {
    "duration": 125,
    "start_time": "2021-12-21T16:02:18.605Z"
   },
   {
    "duration": 123,
    "start_time": "2021-12-21T16:05:58.554Z"
   },
   {
    "duration": 3346,
    "start_time": "2021-12-21T16:08:02.797Z"
   },
   {
    "duration": 149,
    "start_time": "2021-12-21T16:09:05.653Z"
   },
   {
    "duration": 6078,
    "start_time": "2021-12-21T16:09:32.893Z"
   },
   {
    "duration": 177,
    "start_time": "2021-12-21T16:09:48.676Z"
   },
   {
    "duration": 111,
    "start_time": "2021-12-21T16:11:50.235Z"
   },
   {
    "duration": 59,
    "start_time": "2021-12-21T16:12:26.297Z"
   },
   {
    "duration": 149,
    "start_time": "2021-12-21T16:12:30.340Z"
   },
   {
    "duration": 178,
    "start_time": "2021-12-21T16:12:40.488Z"
   },
   {
    "duration": 32,
    "start_time": "2021-12-21T16:13:51.558Z"
   },
   {
    "duration": 17,
    "start_time": "2021-12-21T16:14:06.205Z"
   },
   {
    "duration": 74,
    "start_time": "2021-12-21T16:40:01.742Z"
   },
   {
    "duration": 143,
    "start_time": "2021-12-21T16:40:03.629Z"
   },
   {
    "duration": 3,
    "start_time": "2021-12-21T16:40:06.973Z"
   },
   {
    "duration": 20,
    "start_time": "2021-12-21T16:40:08.772Z"
   },
   {
    "duration": 160,
    "start_time": "2021-12-21T16:40:12.827Z"
   },
   {
    "duration": 240,
    "start_time": "2021-12-21T16:40:16.132Z"
   },
   {
    "duration": 40,
    "start_time": "2021-12-21T16:40:18.919Z"
   },
   {
    "duration": 25,
    "start_time": "2021-12-21T16:40:20.465Z"
   },
   {
    "duration": 5,
    "start_time": "2021-12-21T16:40:23.208Z"
   },
   {
    "duration": 13,
    "start_time": "2021-12-21T16:40:24.941Z"
   },
   {
    "duration": 583,
    "start_time": "2021-12-21T16:40:26.881Z"
   },
   {
    "duration": 20,
    "start_time": "2021-12-21T16:40:29.334Z"
   },
   {
    "duration": 6,
    "start_time": "2021-12-21T16:40:35.134Z"
   },
   {
    "duration": 191,
    "start_time": "2021-12-21T16:41:27.629Z"
   },
   {
    "duration": 362,
    "start_time": "2021-12-21T16:42:32.877Z"
   },
   {
    "duration": 447,
    "start_time": "2021-12-21T16:43:59.260Z"
   },
   {
    "duration": 384,
    "start_time": "2021-12-21T16:53:22.068Z"
   },
   {
    "duration": 664,
    "start_time": "2021-12-21T16:53:41.308Z"
   },
   {
    "duration": 381,
    "start_time": "2021-12-21T16:53:51.632Z"
   },
   {
    "duration": 372,
    "start_time": "2021-12-21T16:54:03.894Z"
   },
   {
    "duration": 477,
    "start_time": "2021-12-21T16:54:23.466Z"
   },
   {
    "duration": 1121,
    "start_time": "2021-12-21T16:55:58.971Z"
   },
   {
    "duration": 133,
    "start_time": "2021-12-21T16:56:17.067Z"
   },
   {
    "duration": 94,
    "start_time": "2021-12-21T16:56:42.922Z"
   },
   {
    "duration": 10,
    "start_time": "2021-12-21T16:56:56.824Z"
   },
   {
    "duration": 1101,
    "start_time": "2021-12-21T17:01:31.723Z"
   },
   {
    "duration": 154,
    "start_time": "2021-12-21T17:01:44.980Z"
   },
   {
    "duration": 12,
    "start_time": "2021-12-21T17:01:55.272Z"
   },
   {
    "duration": 354,
    "start_time": "2021-12-21T17:20:53.902Z"
   },
   {
    "duration": 342,
    "start_time": "2021-12-21T17:20:58.839Z"
   },
   {
    "duration": 457,
    "start_time": "2021-12-21T17:21:16.811Z"
   },
   {
    "duration": 357,
    "start_time": "2021-12-21T17:21:35.495Z"
   },
   {
    "duration": 42,
    "start_time": "2021-12-21T17:24:24.804Z"
   },
   {
    "duration": 481,
    "start_time": "2021-12-21T17:24:33.796Z"
   },
   {
    "duration": 355,
    "start_time": "2021-12-21T17:24:42.218Z"
   },
   {
    "duration": 341,
    "start_time": "2021-12-21T17:26:29.605Z"
   },
   {
    "duration": 442,
    "start_time": "2021-12-21T17:27:55.177Z"
   },
   {
    "duration": 476,
    "start_time": "2021-12-21T17:31:08.996Z"
   },
   {
    "duration": 334,
    "start_time": "2021-12-21T17:31:34.821Z"
   },
   {
    "duration": 334,
    "start_time": "2021-12-21T17:48:21.947Z"
   },
   {
    "duration": 333,
    "start_time": "2021-12-21T17:49:28.316Z"
   },
   {
    "duration": 42,
    "start_time": "2021-12-21T17:49:36.870Z"
   },
   {
    "duration": 331,
    "start_time": "2021-12-21T17:49:43.714Z"
   },
   {
    "duration": 613,
    "start_time": "2021-12-21T17:51:24.872Z"
   },
   {
    "duration": 400,
    "start_time": "2021-12-21T17:52:07.048Z"
   },
   {
    "duration": 406,
    "start_time": "2021-12-21T17:52:39.949Z"
   },
   {
    "duration": 365,
    "start_time": "2021-12-21T17:53:21.735Z"
   },
   {
    "duration": 383,
    "start_time": "2021-12-21T17:53:45.737Z"
   },
   {
    "duration": 43,
    "start_time": "2021-12-21T17:53:52.604Z"
   },
   {
    "duration": 517,
    "start_time": "2021-12-21T17:53:58.390Z"
   },
   {
    "duration": 64,
    "start_time": "2021-12-21T17:54:15.668Z"
   },
   {
    "duration": 142,
    "start_time": "2021-12-21T17:54:16.393Z"
   },
   {
    "duration": 3,
    "start_time": "2021-12-21T17:54:21.811Z"
   },
   {
    "duration": 28,
    "start_time": "2021-12-21T17:54:22.182Z"
   },
   {
    "duration": 154,
    "start_time": "2021-12-21T17:54:22.597Z"
   },
   {
    "duration": 260,
    "start_time": "2021-12-21T17:54:23.046Z"
   },
   {
    "duration": 31,
    "start_time": "2021-12-21T17:54:24.427Z"
   },
   {
    "duration": 26,
    "start_time": "2021-12-21T17:54:24.868Z"
   },
   {
    "duration": 6,
    "start_time": "2021-12-21T17:54:26.989Z"
   },
   {
    "duration": 13,
    "start_time": "2021-12-21T17:54:27.834Z"
   },
   {
    "duration": 593,
    "start_time": "2021-12-21T17:54:28.687Z"
   },
   {
    "duration": 5,
    "start_time": "2021-12-21T17:54:29.565Z"
   },
   {
    "duration": 408,
    "start_time": "2021-12-21T17:54:32.213Z"
   },
   {
    "duration": 407,
    "start_time": "2021-12-21T17:57:38.799Z"
   },
   {
    "duration": 2,
    "start_time": "2021-12-21T18:03:57.611Z"
   },
   {
    "duration": 7,
    "start_time": "2021-12-21T18:10:18.721Z"
   },
   {
    "duration": 493,
    "start_time": "2021-12-21T18:11:14.642Z"
   },
   {
    "duration": 543,
    "start_time": "2021-12-21T18:11:36.839Z"
   },
   {
    "duration": 410,
    "start_time": "2021-12-21T18:11:46.614Z"
   },
   {
    "duration": 5194,
    "start_time": "2021-12-21T18:12:09.014Z"
   },
   {
    "duration": 439,
    "start_time": "2021-12-21T18:12:25.032Z"
   },
   {
    "duration": 452,
    "start_time": "2021-12-21T18:14:09.176Z"
   },
   {
    "duration": 555,
    "start_time": "2021-12-21T18:14:18.876Z"
   },
   {
    "duration": 437,
    "start_time": "2021-12-21T18:14:39.361Z"
   },
   {
    "duration": 474,
    "start_time": "2021-12-21T18:14:52.464Z"
   },
   {
    "duration": 488,
    "start_time": "2021-12-21T18:15:03.121Z"
   },
   {
    "duration": 447,
    "start_time": "2021-12-21T18:15:08.698Z"
   },
   {
    "duration": 525,
    "start_time": "2021-12-21T18:15:11.088Z"
   },
   {
    "duration": 639,
    "start_time": "2021-12-21T18:17:20.278Z"
   },
   {
    "duration": 407,
    "start_time": "2021-12-21T18:18:28.880Z"
   },
   {
    "duration": 63,
    "start_time": "2021-12-21T18:19:31.172Z"
   },
   {
    "duration": 144,
    "start_time": "2021-12-21T18:19:31.511Z"
   },
   {
    "duration": 4,
    "start_time": "2021-12-21T18:19:33.218Z"
   },
   {
    "duration": 25,
    "start_time": "2021-12-21T18:19:33.552Z"
   },
   {
    "duration": 166,
    "start_time": "2021-12-21T18:19:33.884Z"
   },
   {
    "duration": 294,
    "start_time": "2021-12-21T18:19:34.221Z"
   },
   {
    "duration": 31,
    "start_time": "2021-12-21T18:19:35.229Z"
   },
   {
    "duration": 30,
    "start_time": "2021-12-21T18:19:35.541Z"
   },
   {
    "duration": 6,
    "start_time": "2021-12-21T18:19:37.121Z"
   },
   {
    "duration": 18,
    "start_time": "2021-12-21T18:19:37.780Z"
   },
   {
    "duration": 728,
    "start_time": "2021-12-21T18:19:38.865Z"
   },
   {
    "duration": 6,
    "start_time": "2021-12-21T18:19:43.986Z"
   },
   {
    "duration": 654,
    "start_time": "2021-12-21T18:19:45.993Z"
   },
   {
    "duration": 610,
    "start_time": "2021-12-21T18:19:50.773Z"
   },
   {
    "duration": 430,
    "start_time": "2021-12-21T18:24:51.539Z"
   },
   {
    "duration": 431,
    "start_time": "2021-12-21T18:25:23.864Z"
   },
   {
    "duration": 648,
    "start_time": "2021-12-21T18:25:51.735Z"
   },
   {
    "duration": 454,
    "start_time": "2021-12-21T18:25:58.259Z"
   },
   {
    "duration": 506,
    "start_time": "2021-12-21T18:26:07.708Z"
   },
   {
    "duration": 654,
    "start_time": "2021-12-21T18:26:14.506Z"
   },
   {
    "duration": 488,
    "start_time": "2021-12-21T18:26:53.481Z"
   },
   {
    "duration": 426,
    "start_time": "2021-12-21T18:30:13.081Z"
   },
   {
    "duration": 301,
    "start_time": "2021-12-21T18:37:21.111Z"
   },
   {
    "duration": 204,
    "start_time": "2021-12-21T18:37:36.706Z"
   },
   {
    "duration": 385,
    "start_time": "2021-12-21T18:37:46.410Z"
   },
   {
    "duration": 1485,
    "start_time": "2021-12-21T18:39:39.586Z"
   },
   {
    "duration": 406,
    "start_time": "2021-12-21T18:40:06.053Z"
   },
   {
    "duration": 538,
    "start_time": "2021-12-21T18:40:29.469Z"
   },
   {
    "duration": 62,
    "start_time": "2021-12-21T18:40:46.907Z"
   },
   {
    "duration": 146,
    "start_time": "2021-12-21T18:40:47.176Z"
   },
   {
    "duration": 4,
    "start_time": "2021-12-21T18:40:48.728Z"
   },
   {
    "duration": 28,
    "start_time": "2021-12-21T18:40:49.089Z"
   },
   {
    "duration": 159,
    "start_time": "2021-12-21T18:40:49.464Z"
   },
   {
    "duration": 278,
    "start_time": "2021-12-21T18:40:49.866Z"
   },
   {
    "duration": 37,
    "start_time": "2021-12-21T18:40:51.267Z"
   },
   {
    "duration": 25,
    "start_time": "2021-12-21T18:40:52.311Z"
   },
   {
    "duration": 5,
    "start_time": "2021-12-21T18:40:54.984Z"
   },
   {
    "duration": 13,
    "start_time": "2021-12-21T18:40:55.829Z"
   },
   {
    "duration": 584,
    "start_time": "2021-12-21T18:40:56.768Z"
   },
   {
    "duration": 5,
    "start_time": "2021-12-21T18:40:57.684Z"
   },
   {
    "duration": 679,
    "start_time": "2021-12-21T18:40:59.766Z"
   },
   {
    "duration": 396,
    "start_time": "2021-12-21T18:43:18.820Z"
   },
   {
    "duration": 400,
    "start_time": "2021-12-21T18:44:31.463Z"
   },
   {
    "duration": 428,
    "start_time": "2021-12-21T18:44:41.011Z"
   },
   {
    "duration": 431,
    "start_time": "2021-12-21T18:45:40.935Z"
   },
   {
    "duration": 610,
    "start_time": "2021-12-21T18:47:54.939Z"
   },
   {
    "duration": 420,
    "start_time": "2021-12-21T18:48:06.884Z"
   },
   {
    "duration": 433,
    "start_time": "2021-12-21T18:51:59.482Z"
   },
   {
    "duration": 438,
    "start_time": "2021-12-21T18:52:14.500Z"
   },
   {
    "duration": 457,
    "start_time": "2021-12-21T18:56:31.874Z"
   },
   {
    "duration": 448,
    "start_time": "2021-12-21T18:56:35.730Z"
   },
   {
    "duration": 649,
    "start_time": "2021-12-21T18:57:55.298Z"
   },
   {
    "duration": 447,
    "start_time": "2021-12-21T18:58:35.205Z"
   },
   {
    "duration": 467,
    "start_time": "2021-12-21T18:58:57.916Z"
   },
   {
    "duration": 451,
    "start_time": "2021-12-21T19:00:27.299Z"
   },
   {
    "duration": 498,
    "start_time": "2021-12-21T19:00:51.597Z"
   },
   {
    "duration": 612,
    "start_time": "2021-12-21T19:01:08.568Z"
   },
   {
    "duration": 503,
    "start_time": "2021-12-21T19:01:35.732Z"
   },
   {
    "duration": 507,
    "start_time": "2021-12-21T19:04:17.331Z"
   },
   {
    "duration": 497,
    "start_time": "2021-12-21T19:05:28.724Z"
   },
   {
    "duration": 490,
    "start_time": "2021-12-21T19:05:38.231Z"
   },
   {
    "duration": 504,
    "start_time": "2021-12-21T19:05:55.653Z"
   },
   {
    "duration": 665,
    "start_time": "2021-12-21T19:06:25.175Z"
   },
   {
    "duration": 523,
    "start_time": "2021-12-21T19:08:57.232Z"
   },
   {
    "duration": 981,
    "start_time": "2021-12-22T14:20:50.112Z"
   },
   {
    "duration": 216,
    "start_time": "2021-12-22T14:20:51.095Z"
   },
   {
    "duration": 4,
    "start_time": "2021-12-22T14:20:53.943Z"
   },
   {
    "duration": 27,
    "start_time": "2021-12-22T14:20:54.461Z"
   },
   {
    "duration": 226,
    "start_time": "2021-12-22T14:20:55.266Z"
   },
   {
    "duration": 477,
    "start_time": "2021-12-22T14:20:56.449Z"
   },
   {
    "duration": 49,
    "start_time": "2021-12-22T14:20:58.083Z"
   },
   {
    "duration": 39,
    "start_time": "2021-12-22T14:20:58.474Z"
   },
   {
    "duration": 9,
    "start_time": "2021-12-22T14:21:00.834Z"
   },
   {
    "duration": 18,
    "start_time": "2021-12-22T14:21:01.727Z"
   },
   {
    "duration": 1009,
    "start_time": "2021-12-22T14:21:02.668Z"
   },
   {
    "duration": 7,
    "start_time": "2021-12-22T14:21:03.736Z"
   },
   {
    "duration": 606,
    "start_time": "2021-12-22T14:21:08.070Z"
   },
   {
    "duration": 754,
    "start_time": "2021-12-22T14:21:14.166Z"
   },
   {
    "duration": 8,
    "start_time": "2021-12-22T14:29:34.868Z"
   },
   {
    "duration": 573,
    "start_time": "2021-12-22T14:30:17.708Z"
   },
   {
    "duration": 631,
    "start_time": "2021-12-22T14:30:27.109Z"
   },
   {
    "duration": 119,
    "start_time": "2021-12-22T14:30:33.816Z"
   },
   {
    "duration": 313,
    "start_time": "2021-12-22T14:30:40.873Z"
   },
   {
    "duration": 382,
    "start_time": "2021-12-22T14:30:55.135Z"
   },
   {
    "duration": 288,
    "start_time": "2021-12-22T14:31:26.087Z"
   },
   {
    "duration": 447,
    "start_time": "2021-12-22T14:32:30.925Z"
   },
   {
    "duration": 331,
    "start_time": "2021-12-22T14:33:17.696Z"
   },
   {
    "duration": 358,
    "start_time": "2021-12-22T14:35:05.937Z"
   },
   {
    "duration": 352,
    "start_time": "2021-12-22T14:36:20.310Z"
   },
   {
    "duration": 312,
    "start_time": "2021-12-22T14:44:30.857Z"
   },
   {
    "duration": 21,
    "start_time": "2021-12-22T14:47:43.683Z"
   },
   {
    "duration": 312,
    "start_time": "2021-12-22T14:48:07.285Z"
   },
   {
    "duration": 318,
    "start_time": "2021-12-22T14:48:38.277Z"
   },
   {
    "duration": 324,
    "start_time": "2021-12-22T14:48:44.095Z"
   },
   {
    "duration": 329,
    "start_time": "2021-12-22T14:49:26.399Z"
   },
   {
    "duration": 89,
    "start_time": "2021-12-22T15:53:12.280Z"
   },
   {
    "duration": 94,
    "start_time": "2021-12-22T15:53:25.133Z"
   },
   {
    "duration": 109,
    "start_time": "2021-12-22T15:53:40.827Z"
   },
   {
    "duration": 278,
    "start_time": "2021-12-22T15:54:28.221Z"
   },
   {
    "duration": 101,
    "start_time": "2021-12-22T15:54:46.523Z"
   },
   {
    "duration": 990,
    "start_time": "2021-12-22T15:57:09.211Z"
   },
   {
    "duration": 913,
    "start_time": "2021-12-22T15:58:50.206Z"
   },
   {
    "duration": 1393,
    "start_time": "2021-12-22T15:58:57.836Z"
   },
   {
    "duration": 1498,
    "start_time": "2021-12-22T15:59:31.182Z"
   },
   {
    "duration": 815,
    "start_time": "2021-12-22T15:59:55.060Z"
   },
   {
    "duration": 944,
    "start_time": "2021-12-22T16:00:21.038Z"
   },
   {
    "duration": 873,
    "start_time": "2021-12-22T16:01:05.322Z"
   },
   {
    "duration": 925,
    "start_time": "2021-12-22T16:03:53.094Z"
   },
   {
    "duration": 1141,
    "start_time": "2021-12-22T16:11:35.128Z"
   },
   {
    "duration": 1178,
    "start_time": "2021-12-22T16:13:48.504Z"
   },
   {
    "duration": 323,
    "start_time": "2021-12-22T16:26:19.626Z"
   },
   {
    "duration": 320,
    "start_time": "2021-12-22T16:35:57.068Z"
   },
   {
    "duration": 9,
    "start_time": "2021-12-22T16:36:04.007Z"
   },
   {
    "duration": 292,
    "start_time": "2021-12-22T16:36:39.532Z"
   },
   {
    "duration": 298,
    "start_time": "2021-12-22T16:36:47.166Z"
   },
   {
    "duration": 606,
    "start_time": "2021-12-22T16:36:52.012Z"
   },
   {
    "duration": 488,
    "start_time": "2021-12-22T16:37:02.365Z"
   },
   {
    "duration": 628,
    "start_time": "2021-12-22T16:37:18.659Z"
   },
   {
    "duration": 735,
    "start_time": "2021-12-22T16:37:53.608Z"
   },
   {
    "duration": 706,
    "start_time": "2021-12-22T16:38:01.666Z"
   },
   {
    "duration": 436,
    "start_time": "2021-12-22T16:38:06.378Z"
   },
   {
    "duration": 482,
    "start_time": "2021-12-22T16:39:07.318Z"
   },
   {
    "duration": 471,
    "start_time": "2021-12-22T16:40:33.024Z"
   },
   {
    "duration": 501,
    "start_time": "2021-12-22T16:40:43.991Z"
   },
   {
    "duration": 350,
    "start_time": "2021-12-22T16:41:00.548Z"
   },
   {
    "duration": 76,
    "start_time": "2021-12-22T18:17:39.005Z"
   },
   {
    "duration": 195,
    "start_time": "2021-12-22T18:17:41.585Z"
   },
   {
    "duration": 5,
    "start_time": "2021-12-22T18:17:43.156Z"
   },
   {
    "duration": 26,
    "start_time": "2021-12-22T18:17:43.550Z"
   },
   {
    "duration": 233,
    "start_time": "2021-12-22T18:17:43.949Z"
   },
   {
    "duration": 376,
    "start_time": "2021-12-22T18:17:44.368Z"
   },
   {
    "duration": 66,
    "start_time": "2021-12-22T18:17:45.579Z"
   },
   {
    "duration": 37,
    "start_time": "2021-12-22T18:17:45.964Z"
   },
   {
    "duration": 6,
    "start_time": "2021-12-22T18:17:47.950Z"
   },
   {
    "duration": 18,
    "start_time": "2021-12-22T18:17:48.730Z"
   },
   {
    "duration": 1104,
    "start_time": "2021-12-22T18:17:49.505Z"
   },
   {
    "duration": 8,
    "start_time": "2021-12-22T18:17:50.612Z"
   },
   {
    "duration": 598,
    "start_time": "2021-12-22T18:17:51.452Z"
   },
   {
    "duration": 759,
    "start_time": "2021-12-22T18:17:54.490Z"
   },
   {
    "duration": 350,
    "start_time": "2021-12-22T18:17:56.554Z"
   },
   {
    "duration": 352,
    "start_time": "2021-12-22T18:17:59.525Z"
   },
   {
    "duration": 389,
    "start_time": "2021-12-22T18:18:01.807Z"
   },
   {
    "duration": 10,
    "start_time": "2021-12-22T18:25:44.794Z"
   },
   {
    "duration": 35,
    "start_time": "2021-12-22T18:25:52.794Z"
   },
   {
    "duration": 62,
    "start_time": "2021-12-22T18:26:00.158Z"
   },
   {
    "duration": 284,
    "start_time": "2021-12-22T18:28:04.483Z"
   },
   {
    "duration": 298,
    "start_time": "2021-12-22T18:28:13.390Z"
   },
   {
    "duration": 287,
    "start_time": "2021-12-22T18:28:19.106Z"
   },
   {
    "duration": 212,
    "start_time": "2021-12-22T18:29:59.293Z"
   },
   {
    "duration": 217,
    "start_time": "2021-12-22T18:32:50.435Z"
   },
   {
    "duration": 245,
    "start_time": "2021-12-22T18:33:02.480Z"
   },
   {
    "duration": 209,
    "start_time": "2021-12-22T18:33:09.171Z"
   },
   {
    "duration": 223,
    "start_time": "2021-12-22T18:33:17.019Z"
   },
   {
    "duration": 332,
    "start_time": "2021-12-22T18:35:16.781Z"
   },
   {
    "duration": 279,
    "start_time": "2021-12-22T18:35:27.961Z"
   },
   {
    "duration": 264,
    "start_time": "2021-12-22T18:35:52.871Z"
   },
   {
    "duration": 303,
    "start_time": "2021-12-22T19:06:06.375Z"
   },
   {
    "duration": 280,
    "start_time": "2021-12-22T19:07:03.548Z"
   },
   {
    "duration": 220,
    "start_time": "2021-12-22T19:07:51.083Z"
   },
   {
    "duration": 155,
    "start_time": "2021-12-22T19:09:24.597Z"
   },
   {
    "duration": 277,
    "start_time": "2021-12-22T19:09:39.628Z"
   },
   {
    "duration": 283,
    "start_time": "2021-12-22T19:10:41.040Z"
   },
   {
    "duration": 262,
    "start_time": "2021-12-22T19:10:52.955Z"
   },
   {
    "duration": 273,
    "start_time": "2021-12-22T19:11:14.626Z"
   },
   {
    "duration": 279,
    "start_time": "2021-12-22T19:11:27.016Z"
   },
   {
    "duration": 273,
    "start_time": "2021-12-22T19:11:34.189Z"
   },
   {
    "duration": 260,
    "start_time": "2021-12-22T19:11:41.415Z"
   },
   {
    "duration": 283,
    "start_time": "2021-12-22T19:12:00.450Z"
   },
   {
    "duration": 276,
    "start_time": "2021-12-22T19:12:20.632Z"
   },
   {
    "duration": 397,
    "start_time": "2021-12-22T19:13:05.381Z"
   },
   {
    "duration": 97,
    "start_time": "2021-12-22T19:13:45.824Z"
   },
   {
    "duration": 93,
    "start_time": "2021-12-22T19:13:58.030Z"
   },
   {
    "duration": 5188,
    "start_time": "2021-12-22T19:14:03.021Z"
   },
   {
    "duration": 1642,
    "start_time": "2021-12-22T19:14:10.293Z"
   },
   {
    "duration": 423,
    "start_time": "2021-12-22T19:15:28.039Z"
   },
   {
    "duration": 353,
    "start_time": "2021-12-22T19:15:37.021Z"
   },
   {
    "duration": 347,
    "start_time": "2021-12-22T19:15:54.427Z"
   },
   {
    "duration": 557,
    "start_time": "2021-12-22T19:16:28.308Z"
   },
   {
    "duration": 239,
    "start_time": "2021-12-22T19:17:19.240Z"
   },
   {
    "duration": 31,
    "start_time": "2021-12-22T19:18:17.300Z"
   },
   {
    "duration": 83,
    "start_time": "2021-12-22T19:18:29.882Z"
   },
   {
    "duration": 618,
    "start_time": "2021-12-22T19:19:20.153Z"
   },
   {
    "duration": 243,
    "start_time": "2021-12-22T19:19:29.085Z"
   },
   {
    "duration": 262,
    "start_time": "2021-12-22T19:19:54.821Z"
   },
   {
    "duration": 240,
    "start_time": "2021-12-22T19:20:06.095Z"
   },
   {
    "duration": 332,
    "start_time": "2021-12-22T19:20:26.643Z"
   },
   {
    "duration": 253,
    "start_time": "2021-12-22T19:21:27.908Z"
   },
   {
    "duration": 128,
    "start_time": "2021-12-22T19:21:45.051Z"
   },
   {
    "duration": 293,
    "start_time": "2021-12-22T19:21:52.059Z"
   },
   {
    "duration": 36,
    "start_time": "2021-12-22T19:22:49.860Z"
   },
   {
    "duration": 701,
    "start_time": "2021-12-22T19:46:39.120Z"
   },
   {
    "duration": 948,
    "start_time": "2021-12-22T19:47:53.144Z"
   },
   {
    "duration": 815,
    "start_time": "2021-12-22T19:48:42.263Z"
   },
   {
    "duration": 538,
    "start_time": "2021-12-22T19:51:14.716Z"
   },
   {
    "duration": 671,
    "start_time": "2021-12-22T19:51:20.526Z"
   },
   {
    "duration": 662,
    "start_time": "2021-12-22T19:51:32.148Z"
   },
   {
    "duration": 743,
    "start_time": "2021-12-22T19:52:26.450Z"
   },
   {
    "duration": 15,
    "start_time": "2021-12-22T20:00:18.560Z"
   },
   {
    "duration": 21,
    "start_time": "2021-12-22T20:00:29.227Z"
   },
   {
    "duration": 8330,
    "start_time": "2021-12-22T20:19:54.209Z"
   },
   {
    "duration": 4,
    "start_time": "2021-12-22T20:20:20.591Z"
   },
   {
    "duration": 6,
    "start_time": "2021-12-22T20:20:33.377Z"
   },
   {
    "duration": 5,
    "start_time": "2021-12-22T20:21:55.361Z"
   },
   {
    "duration": 14,
    "start_time": "2021-12-22T20:22:03.932Z"
   },
   {
    "duration": 19,
    "start_time": "2021-12-22T20:23:55.698Z"
   },
   {
    "duration": 616,
    "start_time": "2021-12-22T20:24:35.790Z"
   },
   {
    "duration": 313,
    "start_time": "2021-12-22T20:27:26.287Z"
   },
   {
    "duration": 1288,
    "start_time": "2021-12-22T20:27:36.430Z"
   },
   {
    "duration": 886,
    "start_time": "2021-12-22T20:28:02.879Z"
   },
   {
    "duration": 1209,
    "start_time": "2021-12-22T20:28:08.707Z"
   },
   {
    "duration": 1494,
    "start_time": "2021-12-22T20:28:16.643Z"
   },
   {
    "duration": 1754,
    "start_time": "2021-12-22T20:28:32.194Z"
   },
   {
    "duration": 564,
    "start_time": "2021-12-22T20:28:59.780Z"
   },
   {
    "duration": 1210,
    "start_time": "2021-12-22T20:30:45.363Z"
   },
   {
    "duration": 1067,
    "start_time": "2021-12-22T20:30:56.569Z"
   },
   {
    "duration": 882,
    "start_time": "2021-12-22T20:31:03.699Z"
   },
   {
    "duration": 895,
    "start_time": "2021-12-22T20:31:59.637Z"
   },
   {
    "duration": 1354,
    "start_time": "2021-12-22T20:33:40.727Z"
   },
   {
    "duration": 561,
    "start_time": "2021-12-22T20:35:14.991Z"
   },
   {
    "duration": 884,
    "start_time": "2021-12-22T20:36:04.203Z"
   },
   {
    "duration": 702,
    "start_time": "2021-12-22T20:37:09.323Z"
   },
   {
    "duration": 579,
    "start_time": "2021-12-22T20:37:36.105Z"
   },
   {
    "duration": 575,
    "start_time": "2021-12-22T20:40:08.183Z"
   },
   {
    "duration": 559,
    "start_time": "2021-12-22T20:46:43.297Z"
   },
   {
    "duration": 580,
    "start_time": "2021-12-22T20:48:40.161Z"
   },
   {
    "duration": 338,
    "start_time": "2021-12-22T20:55:37.339Z"
   },
   {
    "duration": 1469,
    "start_time": "2021-12-22T20:55:56.635Z"
   },
   {
    "duration": 2831,
    "start_time": "2021-12-22T20:56:49.815Z"
   },
   {
    "duration": 108,
    "start_time": "2021-12-22T21:00:19.783Z"
   },
   {
    "duration": 2795,
    "start_time": "2021-12-22T21:00:52.679Z"
   },
   {
    "duration": 1853,
    "start_time": "2021-12-22T21:01:30.109Z"
   },
   {
    "duration": 1992,
    "start_time": "2021-12-22T21:01:48.239Z"
   },
   {
    "duration": 334,
    "start_time": "2021-12-22T21:08:59.969Z"
   },
   {
    "duration": 108,
    "start_time": "2021-12-22T21:11:16.168Z"
   },
   {
    "duration": 92,
    "start_time": "2021-12-22T21:11:22.323Z"
   },
   {
    "duration": 343,
    "start_time": "2021-12-22T21:11:26.821Z"
   },
   {
    "duration": 10,
    "start_time": "2021-12-22T21:11:37.525Z"
   },
   {
    "duration": 8,
    "start_time": "2021-12-22T21:13:34.406Z"
   },
   {
    "duration": 15,
    "start_time": "2021-12-22T21:14:21.136Z"
   },
   {
    "duration": 309,
    "start_time": "2021-12-22T21:17:17.288Z"
   },
   {
    "duration": 312,
    "start_time": "2021-12-22T21:17:23.012Z"
   },
   {
    "duration": 318,
    "start_time": "2021-12-22T21:17:33.321Z"
   },
   {
    "duration": 14,
    "start_time": "2021-12-22T21:17:41.972Z"
   },
   {
    "duration": 118,
    "start_time": "2021-12-22T21:20:54.321Z"
   },
   {
    "duration": 17,
    "start_time": "2021-12-22T21:21:19.815Z"
   },
   {
    "duration": 17,
    "start_time": "2021-12-22T21:22:13.882Z"
   },
   {
    "duration": 21,
    "start_time": "2021-12-22T21:22:37.778Z"
   },
   {
    "duration": 305,
    "start_time": "2021-12-22T21:22:49.183Z"
   },
   {
    "duration": 20,
    "start_time": "2021-12-22T21:22:58.162Z"
   },
   {
    "duration": 20,
    "start_time": "2021-12-22T21:23:45.566Z"
   },
   {
    "duration": 279,
    "start_time": "2021-12-22T21:26:50.507Z"
   },
   {
    "duration": 635,
    "start_time": "2021-12-22T21:27:11.759Z"
   },
   {
    "duration": 362,
    "start_time": "2021-12-22T21:28:37.169Z"
   },
   {
    "duration": 588,
    "start_time": "2021-12-22T21:29:22.724Z"
   },
   {
    "duration": 648,
    "start_time": "2021-12-22T21:30:17.478Z"
   },
   {
    "duration": 599,
    "start_time": "2021-12-22T21:30:42.532Z"
   },
   {
    "duration": 298,
    "start_time": "2021-12-22T21:40:26.607Z"
   },
   {
    "duration": 88,
    "start_time": "2021-12-22T21:42:45.813Z"
   },
   {
    "duration": 102,
    "start_time": "2021-12-22T21:43:08.588Z"
   },
   {
    "duration": 317,
    "start_time": "2021-12-22T21:43:18.882Z"
   },
   {
    "duration": 302,
    "start_time": "2021-12-22T21:44:03.932Z"
   },
   {
    "duration": 18,
    "start_time": "2021-12-22T21:44:34.396Z"
   },
   {
    "duration": 91,
    "start_time": "2021-12-22T21:45:09.257Z"
   },
   {
    "duration": 110,
    "start_time": "2021-12-22T21:46:03.805Z"
   },
   {
    "duration": 13,
    "start_time": "2021-12-22T21:46:28.494Z"
   },
   {
    "duration": 14,
    "start_time": "2021-12-22T21:46:31.725Z"
   },
   {
    "duration": 275,
    "start_time": "2021-12-22T21:46:41.989Z"
   },
   {
    "duration": 19,
    "start_time": "2021-12-22T21:46:45.204Z"
   },
   {
    "duration": 435,
    "start_time": "2021-12-22T21:47:11.894Z"
   },
   {
    "duration": 308,
    "start_time": "2021-12-22T21:47:19.411Z"
   },
   {
    "duration": 333,
    "start_time": "2021-12-22T21:48:24.912Z"
   },
   {
    "duration": 296,
    "start_time": "2021-12-22T21:48:29.672Z"
   },
   {
    "duration": 1174,
    "start_time": "2021-12-22T21:48:37.542Z"
   },
   {
    "duration": 876,
    "start_time": "2021-12-22T21:55:29.365Z"
   },
   {
    "duration": 875,
    "start_time": "2021-12-22T21:58:05.430Z"
   },
   {
    "duration": 889,
    "start_time": "2021-12-22T21:58:15.115Z"
   },
   {
    "duration": 281,
    "start_time": "2021-12-22T21:58:52.867Z"
   },
   {
    "duration": 922,
    "start_time": "2021-12-22T22:04:53.105Z"
   },
   {
    "duration": 303,
    "start_time": "2021-12-22T22:05:34.064Z"
   },
   {
    "duration": 308,
    "start_time": "2021-12-22T22:07:09.923Z"
   },
   {
    "duration": 889,
    "start_time": "2021-12-22T22:07:43.366Z"
   },
   {
    "duration": 491,
    "start_time": "2021-12-22T22:08:02.638Z"
   },
   {
    "duration": 303,
    "start_time": "2021-12-22T22:08:29.923Z"
   },
   {
    "duration": 304,
    "start_time": "2021-12-22T22:08:35.266Z"
   },
   {
    "duration": 3,
    "start_time": "2021-12-22T22:14:05.135Z"
   },
   {
    "duration": 316,
    "start_time": "2021-12-22T22:15:08.996Z"
   },
   {
    "duration": 299,
    "start_time": "2021-12-22T22:16:03.568Z"
   },
   {
    "duration": 304,
    "start_time": "2021-12-22T22:17:41.213Z"
   },
   {
    "duration": 15,
    "start_time": "2021-12-22T22:17:49.139Z"
   },
   {
    "duration": 826,
    "start_time": "2021-12-23T10:54:38.458Z"
   },
   {
    "duration": 213,
    "start_time": "2021-12-23T10:54:39.287Z"
   },
   {
    "duration": 6,
    "start_time": "2021-12-23T10:54:40.967Z"
   },
   {
    "duration": 25,
    "start_time": "2021-12-23T10:54:41.389Z"
   },
   {
    "duration": 612,
    "start_time": "2021-12-23T10:54:41.828Z"
   },
   {
    "duration": 689,
    "start_time": "2021-12-23T10:54:42.444Z"
   },
   {
    "duration": 64,
    "start_time": "2021-12-23T10:54:43.499Z"
   },
   {
    "duration": 45,
    "start_time": "2021-12-23T10:54:43.884Z"
   },
   {
    "duration": 12,
    "start_time": "2021-12-23T10:54:45.945Z"
   },
   {
    "duration": 17,
    "start_time": "2021-12-23T10:54:46.745Z"
   },
   {
    "duration": 1012,
    "start_time": "2021-12-23T10:54:47.537Z"
   },
   {
    "duration": 7,
    "start_time": "2021-12-23T10:54:48.552Z"
   },
   {
    "duration": 602,
    "start_time": "2021-12-23T10:54:49.636Z"
   },
   {
    "duration": 762,
    "start_time": "2021-12-23T10:54:51.069Z"
   },
   {
    "duration": 356,
    "start_time": "2021-12-23T10:54:52.460Z"
   },
   {
    "duration": 347,
    "start_time": "2021-12-23T10:54:54.731Z"
   },
   {
    "duration": 698,
    "start_time": "2021-12-23T10:54:58.370Z"
   },
   {
    "duration": 558,
    "start_time": "2021-12-23T10:54:59.722Z"
   },
   {
    "duration": 46,
    "start_time": "2021-12-23T10:55:02.273Z"
   },
   {
    "duration": 1309,
    "start_time": "2021-12-23T10:55:04.602Z"
   },
   {
    "duration": 439,
    "start_time": "2021-12-23T10:55:06.481Z"
   },
   {
    "duration": 8924,
    "start_time": "2021-12-23T10:55:08.277Z"
   },
   {
    "duration": 1364,
    "start_time": "2021-12-23T10:55:15.840Z"
   },
   {
    "duration": 1362,
    "start_time": "2021-12-23T10:55:15.843Z"
   },
   {
    "duration": 30,
    "start_time": "2021-12-23T10:56:31.103Z"
   },
   {
    "duration": 8581,
    "start_time": "2021-12-23T10:56:55.186Z"
   },
   {
    "duration": 9225,
    "start_time": "2021-12-23T10:57:26.048Z"
   },
   {
    "duration": 23,
    "start_time": "2021-12-23T10:57:51.208Z"
   },
   {
    "duration": 10135,
    "start_time": "2021-12-23T10:58:00.817Z"
   },
   {
    "duration": 332,
    "start_time": "2021-12-23T10:59:59.722Z"
   },
   {
    "duration": 309,
    "start_time": "2021-12-23T11:00:10.671Z"
   },
   {
    "duration": 315,
    "start_time": "2021-12-23T11:00:17.237Z"
   },
   {
    "duration": 642,
    "start_time": "2021-12-23T11:00:59.641Z"
   },
   {
    "duration": 317,
    "start_time": "2021-12-23T11:01:10.699Z"
   },
   {
    "duration": 21,
    "start_time": "2021-12-23T11:10:40.319Z"
   },
   {
    "duration": 346,
    "start_time": "2021-12-23T11:11:01.137Z"
   },
   {
    "duration": 18,
    "start_time": "2021-12-23T11:11:13.990Z"
   },
   {
    "duration": 19,
    "start_time": "2021-12-23T11:12:00.412Z"
   },
   {
    "duration": 15,
    "start_time": "2021-12-23T11:12:53.044Z"
   },
   {
    "duration": 26,
    "start_time": "2021-12-23T11:13:18.414Z"
   },
   {
    "duration": 15,
    "start_time": "2021-12-23T11:14:07.154Z"
   },
   {
    "duration": 22,
    "start_time": "2021-12-23T11:16:35.447Z"
   },
   {
    "duration": 74,
    "start_time": "2021-12-23T11:16:48.552Z"
   },
   {
    "duration": 17,
    "start_time": "2021-12-23T11:19:20.262Z"
   },
   {
    "duration": 13,
    "start_time": "2021-12-23T11:19:30.002Z"
   },
   {
    "duration": 11,
    "start_time": "2021-12-23T11:19:38.501Z"
   },
   {
    "duration": 18,
    "start_time": "2021-12-23T11:19:50.925Z"
   },
   {
    "duration": 14,
    "start_time": "2021-12-23T11:19:56.709Z"
   },
   {
    "duration": 13,
    "start_time": "2021-12-23T11:23:55.352Z"
   },
   {
    "duration": 14,
    "start_time": "2021-12-23T11:24:22.050Z"
   },
   {
    "duration": 132,
    "start_time": "2021-12-23T11:27:01.248Z"
   },
   {
    "duration": 105,
    "start_time": "2021-12-23T11:27:09.295Z"
   },
   {
    "duration": 118,
    "start_time": "2021-12-23T11:27:11.096Z"
   },
   {
    "duration": 101,
    "start_time": "2021-12-23T11:27:14.218Z"
   },
   {
    "duration": 12,
    "start_time": "2021-12-23T11:27:16.775Z"
   },
   {
    "duration": 120,
    "start_time": "2021-12-23T11:29:00.017Z"
   },
   {
    "duration": 13,
    "start_time": "2021-12-23T11:29:04.800Z"
   },
   {
    "duration": 20,
    "start_time": "2021-12-23T11:29:13.329Z"
   },
   {
    "duration": 14,
    "start_time": "2021-12-23T11:29:20.539Z"
   },
   {
    "duration": 15,
    "start_time": "2021-12-23T11:29:24.006Z"
   },
   {
    "duration": 10,
    "start_time": "2021-12-23T11:32:53.340Z"
   },
   {
    "duration": 12,
    "start_time": "2021-12-23T11:33:09.637Z"
   },
   {
    "duration": 10,
    "start_time": "2021-12-23T11:35:02.781Z"
   },
   {
    "duration": 10,
    "start_time": "2021-12-23T11:38:01.661Z"
   },
   {
    "duration": 13,
    "start_time": "2021-12-23T11:39:41.839Z"
   },
   {
    "duration": 10,
    "start_time": "2021-12-23T11:41:30.042Z"
   },
   {
    "duration": 12,
    "start_time": "2021-12-23T11:43:04.101Z"
   },
   {
    "duration": 10,
    "start_time": "2021-12-23T11:44:21.743Z"
   },
   {
    "duration": 11,
    "start_time": "2021-12-23T11:45:24.370Z"
   },
   {
    "duration": 332,
    "start_time": "2021-12-23T11:46:50.866Z"
   },
   {
    "duration": 395,
    "start_time": "2021-12-23T11:47:09.879Z"
   },
   {
    "duration": 383,
    "start_time": "2021-12-23T11:47:19.375Z"
   },
   {
    "duration": 346,
    "start_time": "2021-12-23T11:48:23.410Z"
   },
   {
    "duration": 10,
    "start_time": "2021-12-23T11:53:52.551Z"
   },
   {
    "duration": 9,
    "start_time": "2021-12-23T12:03:34.949Z"
   },
   {
    "duration": 16,
    "start_time": "2021-12-23T12:03:53.523Z"
   },
   {
    "duration": 10,
    "start_time": "2021-12-23T12:08:39.976Z"
   },
   {
    "duration": 17,
    "start_time": "2021-12-23T12:08:51.639Z"
   },
   {
    "duration": 26,
    "start_time": "2021-12-23T12:09:51.976Z"
   },
   {
    "duration": 23,
    "start_time": "2021-12-23T12:10:15.081Z"
   },
   {
    "duration": 25,
    "start_time": "2021-12-23T12:10:18.063Z"
   },
   {
    "duration": 83,
    "start_time": "2021-12-23T12:10:37.621Z"
   },
   {
    "duration": 217,
    "start_time": "2021-12-23T12:10:38.211Z"
   },
   {
    "duration": 5,
    "start_time": "2021-12-23T12:10:40.070Z"
   },
   {
    "duration": 26,
    "start_time": "2021-12-23T12:10:40.450Z"
   },
   {
    "duration": 235,
    "start_time": "2021-12-23T12:10:40.844Z"
   },
   {
    "duration": 381,
    "start_time": "2021-12-23T12:10:41.206Z"
   },
   {
    "duration": 66,
    "start_time": "2021-12-23T12:10:42.505Z"
   },
   {
    "duration": 36,
    "start_time": "2021-12-23T12:10:42.864Z"
   },
   {
    "duration": 6,
    "start_time": "2021-12-23T12:10:44.773Z"
   },
   {
    "duration": 18,
    "start_time": "2021-12-23T12:10:45.537Z"
   },
   {
    "duration": 1076,
    "start_time": "2021-12-23T12:10:46.338Z"
   },
   {
    "duration": 8,
    "start_time": "2021-12-23T12:10:47.417Z"
   },
   {
    "duration": 618,
    "start_time": "2021-12-23T12:10:48.486Z"
   },
   {
    "duration": 754,
    "start_time": "2021-12-23T12:10:50.072Z"
   },
   {
    "duration": 356,
    "start_time": "2021-12-23T12:10:51.820Z"
   },
   {
    "duration": 365,
    "start_time": "2021-12-23T12:10:53.181Z"
   },
   {
    "duration": 698,
    "start_time": "2021-12-23T12:10:54.294Z"
   },
   {
    "duration": 585,
    "start_time": "2021-12-23T12:10:54.995Z"
   },
   {
    "duration": 38,
    "start_time": "2021-12-23T12:10:55.822Z"
   },
   {
    "duration": 1347,
    "start_time": "2021-12-23T12:10:57.383Z"
   },
   {
    "duration": 28,
    "start_time": "2021-12-23T12:10:58.733Z"
   },
   {
    "duration": 315,
    "start_time": "2021-12-23T12:11:00.000Z"
   },
   {
    "duration": 318,
    "start_time": "2021-12-23T12:11:00.937Z"
   },
   {
    "duration": 333,
    "start_time": "2021-12-23T12:11:01.898Z"
   },
   {
    "duration": 328,
    "start_time": "2021-12-23T12:11:02.847Z"
   },
   {
    "duration": 14,
    "start_time": "2021-12-23T12:11:04.694Z"
   },
   {
    "duration": 12,
    "start_time": "2021-12-23T12:11:05.084Z"
   },
   {
    "duration": 11,
    "start_time": "2021-12-23T12:11:05.507Z"
   },
   {
    "duration": 11,
    "start_time": "2021-12-23T12:11:05.964Z"
   },
   {
    "duration": 11,
    "start_time": "2021-12-23T12:11:06.442Z"
   },
   {
    "duration": 10,
    "start_time": "2021-12-23T12:11:06.898Z"
   },
   {
    "duration": 10,
    "start_time": "2021-12-23T12:11:07.338Z"
   },
   {
    "duration": 11,
    "start_time": "2021-12-23T12:11:07.799Z"
   },
   {
    "duration": 11,
    "start_time": "2021-12-23T12:11:08.294Z"
   },
   {
    "duration": 11,
    "start_time": "2021-12-23T12:11:08.788Z"
   },
   {
    "duration": 11,
    "start_time": "2021-12-23T12:11:09.292Z"
   },
   {
    "duration": 25,
    "start_time": "2021-12-23T12:11:12.345Z"
   },
   {
    "duration": 58,
    "start_time": "2021-12-23T12:11:54.391Z"
   },
   {
    "duration": 17,
    "start_time": "2021-12-23T12:12:41.505Z"
   },
   {
    "duration": 216,
    "start_time": "2021-12-23T12:14:33.541Z"
   },
   {
    "duration": 14,
    "start_time": "2021-12-23T12:14:48.307Z"
   },
   {
    "duration": 78,
    "start_time": "2021-12-23T12:15:02.576Z"
   },
   {
    "duration": 22,
    "start_time": "2021-12-23T12:15:10.935Z"
   },
   {
    "duration": 17,
    "start_time": "2021-12-23T12:15:25.387Z"
   },
   {
    "duration": 17,
    "start_time": "2021-12-23T12:15:29.167Z"
   },
   {
    "duration": 19,
    "start_time": "2021-12-23T12:16:40.486Z"
   },
   {
    "duration": 21,
    "start_time": "2021-12-23T12:17:07.807Z"
   },
   {
    "duration": 503,
    "start_time": "2021-12-23T12:18:44.105Z"
   },
   {
    "duration": 437,
    "start_time": "2021-12-23T12:18:54.521Z"
   },
   {
    "duration": 113,
    "start_time": "2021-12-23T12:19:30.449Z"
   },
   {
    "duration": 1038,
    "start_time": "2021-12-23T12:19:36.201Z"
   },
   {
    "duration": 948,
    "start_time": "2021-12-23T12:20:10.487Z"
   },
   {
    "duration": 423,
    "start_time": "2021-12-23T12:20:40.850Z"
   },
   {
    "duration": 123,
    "start_time": "2021-12-23T12:20:55.188Z"
   },
   {
    "duration": 125,
    "start_time": "2021-12-23T12:21:05.175Z"
   },
   {
    "duration": 37,
    "start_time": "2021-12-23T12:21:15.814Z"
   },
   {
    "duration": 113,
    "start_time": "2021-12-23T12:22:11.507Z"
   },
   {
    "duration": 623,
    "start_time": "2021-12-23T12:22:15.762Z"
   },
   {
    "duration": 38,
    "start_time": "2021-12-23T12:23:15.317Z"
   },
   {
    "duration": 343,
    "start_time": "2021-12-23T12:23:44.927Z"
   },
   {
    "duration": 369,
    "start_time": "2021-12-23T12:24:53.195Z"
   },
   {
    "duration": 4,
    "start_time": "2021-12-23T12:29:55.085Z"
   },
   {
    "duration": 62,
    "start_time": "2021-12-23T12:30:58.203Z"
   },
   {
    "duration": 850,
    "start_time": "2021-12-23T12:31:25.443Z"
   },
   {
    "duration": 324,
    "start_time": "2021-12-23T12:31:32.269Z"
   },
   {
    "duration": 534,
    "start_time": "2021-12-23T12:32:29.237Z"
   },
   {
    "duration": 11,
    "start_time": "2021-12-23T12:32:33.770Z"
   },
   {
    "duration": 22,
    "start_time": "2021-12-23T12:42:26.104Z"
   },
   {
    "duration": 17,
    "start_time": "2021-12-23T12:42:52.364Z"
   },
   {
    "duration": 15,
    "start_time": "2021-12-23T12:43:06.041Z"
   },
   {
    "duration": 10,
    "start_time": "2021-12-23T12:43:26.437Z"
   },
   {
    "duration": 17,
    "start_time": "2021-12-23T12:43:28.324Z"
   },
   {
    "duration": 4923,
    "start_time": "2021-12-23T12:44:33.911Z"
   },
   {
    "duration": 311,
    "start_time": "2021-12-23T12:44:59.007Z"
   },
   {
    "duration": 397,
    "start_time": "2021-12-23T12:48:51.929Z"
   },
   {
    "duration": 441,
    "start_time": "2021-12-23T12:51:06.996Z"
   },
   {
    "duration": 328,
    "start_time": "2021-12-23T12:51:36.372Z"
   },
   {
    "duration": 321,
    "start_time": "2021-12-23T12:51:50.993Z"
   },
   {
    "duration": 479,
    "start_time": "2021-12-23T12:53:46.941Z"
   },
   {
    "duration": 447,
    "start_time": "2021-12-23T12:53:53.413Z"
   },
   {
    "duration": 473,
    "start_time": "2021-12-23T12:54:04.714Z"
   },
   {
    "duration": 312,
    "start_time": "2021-12-23T12:54:39.290Z"
   },
   {
    "duration": 1506,
    "start_time": "2021-12-23T13:00:17.775Z"
   },
   {
    "duration": 8935,
    "start_time": "2021-12-23T13:01:06.322Z"
   },
   {
    "duration": 9,
    "start_time": "2021-12-23T13:01:35.420Z"
   },
   {
    "duration": 6,
    "start_time": "2021-12-23T13:02:04.591Z"
   },
   {
    "duration": 13,
    "start_time": "2021-12-23T13:02:40.576Z"
   },
   {
    "duration": 5948,
    "start_time": "2021-12-23T13:02:54.414Z"
   },
   {
    "duration": 11375,
    "start_time": "2021-12-23T13:03:05.536Z"
   },
   {
    "duration": 336,
    "start_time": "2021-12-23T13:03:26.539Z"
   },
   {
    "duration": 320,
    "start_time": "2021-12-23T13:03:39.256Z"
   },
   {
    "duration": 11,
    "start_time": "2021-12-23T13:07:25.557Z"
   },
   {
    "duration": 9,
    "start_time": "2021-12-23T13:07:30.445Z"
   },
   {
    "duration": 354,
    "start_time": "2021-12-23T13:07:32.344Z"
   },
   {
    "duration": 327,
    "start_time": "2021-12-23T13:08:24.133Z"
   },
   {
    "duration": 1520,
    "start_time": "2021-12-23T13:15:54.371Z"
   },
   {
    "duration": 341,
    "start_time": "2021-12-23T13:16:01.352Z"
   },
   {
    "duration": 533,
    "start_time": "2021-12-23T13:16:06.971Z"
   },
   {
    "duration": 344,
    "start_time": "2021-12-23T13:21:21.675Z"
   },
   {
    "duration": 301,
    "start_time": "2021-12-23T13:21:28.570Z"
   },
   {
    "duration": 290,
    "start_time": "2021-12-23T13:21:47.412Z"
   },
   {
    "duration": 325,
    "start_time": "2021-12-23T13:22:01.328Z"
   },
   {
    "duration": 292,
    "start_time": "2021-12-23T13:22:06.867Z"
   },
   {
    "duration": 424,
    "start_time": "2021-12-23T13:23:09.178Z"
   },
   {
    "duration": 311,
    "start_time": "2021-12-23T13:23:18.375Z"
   },
   {
    "duration": 266,
    "start_time": "2021-12-23T13:23:26.232Z"
   },
   {
    "duration": 159,
    "start_time": "2021-12-23T13:23:33.364Z"
   },
   {
    "duration": 708,
    "start_time": "2021-12-23T13:24:10.952Z"
   },
   {
    "duration": 355,
    "start_time": "2021-12-23T13:24:16.802Z"
   },
   {
    "duration": 10,
    "start_time": "2021-12-23T13:29:55.797Z"
   },
   {
    "duration": 296,
    "start_time": "2021-12-23T13:30:37.582Z"
   },
   {
    "duration": 414,
    "start_time": "2021-12-23T13:30:56.601Z"
   },
   {
    "duration": 310,
    "start_time": "2021-12-23T13:31:04.120Z"
   },
   {
    "duration": 1535,
    "start_time": "2021-12-23T13:31:35.505Z"
   },
   {
    "duration": 302,
    "start_time": "2021-12-23T13:31:41.214Z"
   },
   {
    "duration": 467,
    "start_time": "2021-12-23T13:32:12.060Z"
   },
   {
    "duration": 297,
    "start_time": "2021-12-23T13:32:36.708Z"
   },
   {
    "duration": 411,
    "start_time": "2021-12-23T13:32:48.763Z"
   },
   {
    "duration": 310,
    "start_time": "2021-12-23T13:32:57.941Z"
   },
   {
    "duration": 299,
    "start_time": "2021-12-23T13:40:43.160Z"
   },
   {
    "duration": 24,
    "start_time": "2021-12-23T13:47:28.620Z"
   },
   {
    "duration": 25,
    "start_time": "2021-12-23T13:47:47.991Z"
   },
   {
    "duration": 323,
    "start_time": "2021-12-23T13:48:25.422Z"
   },
   {
    "duration": 325,
    "start_time": "2021-12-23T13:48:36.416Z"
   },
   {
    "duration": 9,
    "start_time": "2021-12-23T13:51:11.370Z"
   },
   {
    "duration": 505,
    "start_time": "2021-12-23T13:52:56.056Z"
   },
   {
    "duration": 348,
    "start_time": "2021-12-23T13:53:04.302Z"
   },
   {
    "duration": 367,
    "start_time": "2021-12-23T13:55:34.280Z"
   },
   {
    "duration": 342,
    "start_time": "2021-12-23T13:57:14.539Z"
   },
   {
    "duration": 340,
    "start_time": "2021-12-23T13:58:14.230Z"
   },
   {
    "duration": 312,
    "start_time": "2021-12-23T13:58:32.698Z"
   },
   {
    "duration": 378,
    "start_time": "2021-12-23T13:58:52.766Z"
   },
   {
    "duration": 403,
    "start_time": "2021-12-23T13:58:55.472Z"
   },
   {
    "duration": 288,
    "start_time": "2021-12-23T13:59:32.828Z"
   },
   {
    "duration": 321,
    "start_time": "2021-12-23T14:00:00.488Z"
   },
   {
    "duration": 303,
    "start_time": "2021-12-23T14:00:12.837Z"
   },
   {
    "duration": 329,
    "start_time": "2021-12-23T14:00:19.954Z"
   },
   {
    "duration": 553,
    "start_time": "2021-12-23T14:00:25.646Z"
   },
   {
    "duration": 327,
    "start_time": "2021-12-23T14:01:21.571Z"
   },
   {
    "duration": 334,
    "start_time": "2021-12-23T14:01:55.189Z"
   },
   {
    "duration": 353,
    "start_time": "2021-12-23T14:02:27.852Z"
   },
   {
    "duration": 410,
    "start_time": "2021-12-23T14:03:29.903Z"
   },
   {
    "duration": 378,
    "start_time": "2021-12-23T14:03:35.421Z"
   },
   {
    "duration": 349,
    "start_time": "2021-12-23T14:08:50.405Z"
   },
   {
    "duration": 386,
    "start_time": "2021-12-23T14:09:06.257Z"
   },
   {
    "duration": 340,
    "start_time": "2021-12-23T14:11:27.648Z"
   },
   {
    "duration": 328,
    "start_time": "2021-12-23T14:11:59.179Z"
   },
   {
    "duration": 354,
    "start_time": "2021-12-23T14:13:53.036Z"
   },
   {
    "duration": 433,
    "start_time": "2021-12-23T14:15:15.695Z"
   },
   {
    "duration": 437,
    "start_time": "2021-12-23T14:15:26.833Z"
   },
   {
    "duration": 843,
    "start_time": "2021-12-24T06:39:38.691Z"
   },
   {
    "duration": 208,
    "start_time": "2021-12-24T06:39:39.537Z"
   },
   {
    "duration": 5,
    "start_time": "2021-12-24T06:39:39.749Z"
   },
   {
    "duration": 50,
    "start_time": "2021-12-24T06:39:39.758Z"
   },
   {
    "duration": 240,
    "start_time": "2021-12-24T06:39:39.812Z"
   },
   {
    "duration": 478,
    "start_time": "2021-12-24T06:39:40.054Z"
   },
   {
    "duration": 57,
    "start_time": "2021-12-24T06:39:40.535Z"
   },
   {
    "duration": 56,
    "start_time": "2021-12-24T06:39:40.595Z"
   },
   {
    "duration": 6,
    "start_time": "2021-12-24T06:39:40.655Z"
   },
   {
    "duration": 51,
    "start_time": "2021-12-24T06:39:40.664Z"
   },
   {
    "duration": 1022,
    "start_time": "2021-12-24T06:39:40.718Z"
   },
   {
    "duration": 7,
    "start_time": "2021-12-24T06:39:41.742Z"
   },
   {
    "duration": 373,
    "start_time": "2021-12-24T06:39:41.751Z"
   },
   {
    "duration": 706,
    "start_time": "2021-12-24T06:39:42.127Z"
   },
   {
    "duration": 352,
    "start_time": "2021-12-24T06:39:42.835Z"
   },
   {
    "duration": 350,
    "start_time": "2021-12-24T06:39:43.190Z"
   },
   {
    "duration": 743,
    "start_time": "2021-12-24T06:39:43.543Z"
   },
   {
    "duration": 520,
    "start_time": "2021-12-24T06:39:44.289Z"
   },
   {
    "duration": 44,
    "start_time": "2021-12-24T06:39:44.823Z"
   },
   {
    "duration": 1138,
    "start_time": "2021-12-24T06:39:44.869Z"
   },
   {
    "duration": 35,
    "start_time": "2021-12-24T06:39:46.009Z"
   },
   {
    "duration": 480,
    "start_time": "2021-12-24T06:39:46.046Z"
   },
   {
    "duration": 311,
    "start_time": "2021-12-24T06:39:46.528Z"
   },
   {
    "duration": 317,
    "start_time": "2021-12-24T06:39:46.842Z"
   },
   {
    "duration": 313,
    "start_time": "2021-12-24T06:39:47.161Z"
   },
   {
    "duration": 12,
    "start_time": "2021-12-24T06:39:47.477Z"
   },
   {
    "duration": 32,
    "start_time": "2021-12-24T06:39:47.495Z"
   },
   {
    "duration": 11,
    "start_time": "2021-12-24T06:39:47.530Z"
   },
   {
    "duration": 23,
    "start_time": "2021-12-24T06:39:47.543Z"
   },
   {
    "duration": 15,
    "start_time": "2021-12-24T06:39:47.568Z"
   },
   {
    "duration": 10,
    "start_time": "2021-12-24T06:39:47.585Z"
   },
   {
    "duration": 36,
    "start_time": "2021-12-24T06:39:47.597Z"
   },
   {
    "duration": 12,
    "start_time": "2021-12-24T06:39:47.635Z"
   },
   {
    "duration": 9,
    "start_time": "2021-12-24T06:39:47.649Z"
   },
   {
    "duration": 12,
    "start_time": "2021-12-24T06:39:47.661Z"
   },
   {
    "duration": 50,
    "start_time": "2021-12-24T06:39:47.675Z"
   },
   {
    "duration": 329,
    "start_time": "2021-12-24T06:39:47.728Z"
   },
   {
    "duration": 10,
    "start_time": "2021-12-24T06:39:48.060Z"
   },
   {
    "duration": 13,
    "start_time": "2021-12-24T06:39:48.073Z"
   },
   {
    "duration": 313,
    "start_time": "2021-12-24T06:39:48.088Z"
   },
   {
    "duration": 298,
    "start_time": "2021-12-24T06:39:48.404Z"
   },
   {
    "duration": 395,
    "start_time": "2021-12-24T06:39:48.704Z"
   },
   {
    "duration": 309,
    "start_time": "2021-12-24T06:39:49.101Z"
   },
   {
    "duration": 305,
    "start_time": "2021-12-24T06:39:49.412Z"
   },
   {
    "duration": 322,
    "start_time": "2021-12-24T06:39:49.719Z"
   },
   {
    "duration": 443,
    "start_time": "2021-12-24T06:39:50.043Z"
   },
   {
    "duration": 338,
    "start_time": "2021-12-24T06:39:50.488Z"
   },
   {
    "duration": 408,
    "start_time": "2021-12-24T06:39:50.829Z"
   },
   {
    "duration": 7,
    "start_time": "2022-03-21T14:49:17.715Z"
   },
   {
    "duration": 44,
    "start_time": "2022-03-21T14:49:25.829Z"
   },
   {
    "duration": 11,
    "start_time": "2022-03-21T14:49:31.557Z"
   },
   {
    "duration": 479,
    "start_time": "2022-03-21T14:49:31.570Z"
   },
   {
    "duration": 190,
    "start_time": "2022-03-21T14:49:32.051Z"
   },
   {
    "duration": 5,
    "start_time": "2022-03-21T14:49:32.244Z"
   },
   {
    "duration": 36,
    "start_time": "2022-03-21T14:49:32.251Z"
   },
   {
    "duration": 148,
    "start_time": "2022-03-21T14:49:32.289Z"
   },
   {
    "duration": 785,
    "start_time": "2022-03-21T14:49:32.439Z"
   },
   {
    "duration": 43,
    "start_time": "2022-03-21T14:49:33.226Z"
   },
   {
    "duration": 27,
    "start_time": "2022-03-21T14:49:33.271Z"
   },
   {
    "duration": 7,
    "start_time": "2022-03-21T14:49:33.302Z"
   },
   {
    "duration": 39,
    "start_time": "2022-03-21T14:49:33.310Z"
   },
   {
    "duration": 388,
    "start_time": "2022-03-21T14:49:33.350Z"
   },
   {
    "duration": 6,
    "start_time": "2022-03-21T14:49:33.741Z"
   },
   {
    "duration": 221,
    "start_time": "2022-03-21T14:49:33.750Z"
   },
   {
    "duration": 380,
    "start_time": "2022-03-21T14:49:33.973Z"
   },
   {
    "duration": 169,
    "start_time": "2022-03-21T14:49:34.355Z"
   },
   {
    "duration": 193,
    "start_time": "2022-03-21T14:49:34.526Z"
   },
   {
    "duration": 289,
    "start_time": "2022-03-21T14:49:34.721Z"
   },
   {
    "duration": 236,
    "start_time": "2022-03-21T14:49:35.012Z"
   },
   {
    "duration": 34,
    "start_time": "2022-03-21T14:49:35.250Z"
   },
   {
    "duration": 496,
    "start_time": "2022-03-21T14:49:35.286Z"
   },
   {
    "duration": 107,
    "start_time": "2022-03-21T14:49:35.784Z"
   },
   {
    "duration": 170,
    "start_time": "2022-03-21T14:49:35.893Z"
   },
   {
    "duration": 168,
    "start_time": "2022-03-21T14:49:36.065Z"
   },
   {
    "duration": 170,
    "start_time": "2022-03-21T14:49:36.237Z"
   },
   {
    "duration": 176,
    "start_time": "2022-03-21T14:49:36.409Z"
   },
   {
    "duration": 10,
    "start_time": "2022-03-21T14:49:36.587Z"
   },
   {
    "duration": 18,
    "start_time": "2022-03-21T14:49:36.602Z"
   },
   {
    "duration": 11,
    "start_time": "2022-03-21T14:49:36.639Z"
   },
   {
    "duration": 8,
    "start_time": "2022-03-21T14:49:36.652Z"
   },
   {
    "duration": 9,
    "start_time": "2022-03-21T14:49:36.662Z"
   },
   {
    "duration": 11,
    "start_time": "2022-03-21T14:49:36.673Z"
   },
   {
    "duration": 12,
    "start_time": "2022-03-21T14:49:36.686Z"
   },
   {
    "duration": 40,
    "start_time": "2022-03-21T14:49:36.700Z"
   },
   {
    "duration": 11,
    "start_time": "2022-03-21T14:49:36.742Z"
   },
   {
    "duration": 25,
    "start_time": "2022-03-21T14:49:36.755Z"
   },
   {
    "duration": 12,
    "start_time": "2022-03-21T14:49:36.781Z"
   },
   {
    "duration": 172,
    "start_time": "2022-03-21T14:49:36.795Z"
   },
   {
    "duration": 10,
    "start_time": "2022-03-21T14:49:36.968Z"
   },
   {
    "duration": 14,
    "start_time": "2022-03-21T14:49:36.980Z"
   },
   {
    "duration": 166,
    "start_time": "2022-03-21T14:49:36.996Z"
   },
   {
    "duration": 163,
    "start_time": "2022-03-21T14:49:37.163Z"
   },
   {
    "duration": 143,
    "start_time": "2022-03-21T14:49:37.328Z"
   },
   {
    "duration": 178,
    "start_time": "2022-03-21T14:49:37.473Z"
   },
   {
    "duration": 177,
    "start_time": "2022-03-21T14:49:37.653Z"
   },
   {
    "duration": 186,
    "start_time": "2022-03-21T14:49:37.837Z"
   },
   {
    "duration": 225,
    "start_time": "2022-03-21T14:49:38.025Z"
   },
   {
    "duration": 200,
    "start_time": "2022-03-21T14:49:38.252Z"
   },
   {
    "duration": 251,
    "start_time": "2022-03-21T14:49:38.453Z"
   }
  ],
  "kernelspec": {
   "display_name": "Python 3 (ipykernel)",
   "language": "python",
   "name": "python3"
  },
  "language_info": {
   "codemirror_mode": {
    "name": "ipython",
    "version": 3
   },
   "file_extension": ".py",
   "mimetype": "text/x-python",
   "name": "python",
   "nbconvert_exporter": "python",
   "pygments_lexer": "ipython3",
   "version": "3.9.5"
  },
  "toc": {
   "base_numbering": 1,
   "nav_menu": {},
   "number_sections": true,
   "sideBar": true,
   "skip_h1_title": true,
   "title_cell": "Содержание",
   "title_sidebar": "Contents",
   "toc_cell": true,
   "toc_position": {
    "height": "calc(100% - 180px)",
    "left": "10px",
    "top": "150px",
    "width": "335.188px"
   },
   "toc_section_display": true,
   "toc_window_display": true
  }
 },
 "nbformat": 4,
 "nbformat_minor": 2
}
